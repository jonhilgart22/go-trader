{
 "cells": [
  {
   "cell_type": "code",
   "execution_count": 1,
   "id": "e3f580df-54e9-4561-903c-4f9196a4c318",
   "metadata": {},
   "outputs": [],
   "source": [
    "from coinbase.wallet.client import Client\n",
    "import yaml\n",
    "import os\n",
    "import cbpro\n",
    "import time\n",
    "import pandas as pd"
   ]
  },
  {
   "cell_type": "code",
   "execution_count": 2,
   "id": "b950d056-1ddf-4c3f-98d7-f2e12940b3a5",
   "metadata": {},
   "outputs": [],
   "source": [
    "with open(os.path.expanduser(\"~/.ssh/go_trader_coinbase_key.yml\"), \"r\") as stream:\n",
    "    try:\n",
    "        coinbase_tokens = yaml.safe_load(stream)[\"coinbase\"]\n",
    "    except yaml.YAMLError as exc:\n",
    "        print(exc)"
   ]
  },
  {
   "cell_type": "code",
   "execution_count": 3,
   "id": "34d11aa4-9f83-4e23-b7b5-8db53166664d",
   "metadata": {},
   "outputs": [],
   "source": [
    "client = Client(api_key=coinbase_tokens[\"passphrase\"], api_secret=coinbase_tokens[\"api_secret\"])"
   ]
  },
  {
   "cell_type": "markdown",
   "id": "9f742dec-e434-4d41-aa3a-a94025e06c90",
   "metadata": {},
   "source": [
    "### Test some public/private methods"
   ]
  },
  {
   "cell_type": "code",
   "execution_count": 5,
   "id": "fbb93660-6c2d-448b-9f2b-7a2a5ec31d4a",
   "metadata": {},
   "outputs": [],
   "source": [
    "# authenticate\n",
    "auth_client = cbpro.AuthenticatedClient(\"gotrader\", coinbase_tokens[\"api_secret\"], coinbase_tokens[\"passphrase\"])"
   ]
  },
  {
   "cell_type": "markdown",
   "id": "a8a62ee3-450e-4851-8b17-77cd9be42dce",
   "metadata": {},
   "source": [
    "- Get all fills"
   ]
  },
  {
   "cell_type": "code",
   "execution_count": 17,
   "id": "28a397e2-54d3-4d4a-9256-109f8f87c375",
   "metadata": {},
   "outputs": [],
   "source": [
    "fills_gen = auth_client.get_fills(\"BTC-USD\")\n",
    "# Get all fills (will possibly make multiple HTTP requests)\n",
    "all_fills = list(fills_gen)"
   ]
  },
  {
   "cell_type": "code",
   "execution_count": 18,
   "id": "ee233831-8712-47ca-8c87-7f89a0869eeb",
   "metadata": {},
   "outputs": [
    {
     "data": {
      "text/plain": [
       "['message']"
      ]
     },
     "execution_count": 18,
     "metadata": {},
     "output_type": "execute_result"
    }
   ],
   "source": [
    "all_fills"
   ]
  },
  {
   "cell_type": "code",
   "execution_count": 20,
   "id": "e47f16bf-cec4-4ea7-aa18-c531abf4f233",
   "metadata": {},
   "outputs": [
    {
     "ename": "TypeError",
     "evalue": "__init__() missing 1 required keyword-only argument: 'channels'",
     "output_type": "error",
     "traceback": [
      "\u001b[0;31m---------------------------------------------------------------------------\u001b[0m",
      "\u001b[0;31mTypeError\u001b[0m                                 Traceback (most recent call last)",
      "\u001b[0;32m/var/folders/0r/jkhwtgvx0wb9vrk6xn4bmz2m0000gn/T/ipykernel_74511/2774434748.py\u001b[0m in \u001b[0;36m<module>\u001b[0;34m\u001b[0m\n\u001b[1;32m     13\u001b[0m         \u001b[0mprint\u001b[0m\u001b[0;34m(\u001b[0m\u001b[0;34m\"-- Goodbye! --\"\u001b[0m\u001b[0;34m)\u001b[0m\u001b[0;34m\u001b[0m\u001b[0;34m\u001b[0m\u001b[0m\n\u001b[1;32m     14\u001b[0m \u001b[0;34m\u001b[0m\u001b[0m\n\u001b[0;32m---> 15\u001b[0;31m \u001b[0mwsClient\u001b[0m \u001b[0;34m=\u001b[0m \u001b[0mmyWebsocketClient\u001b[0m\u001b[0;34m(\u001b[0m\u001b[0;34m)\u001b[0m\u001b[0;34m\u001b[0m\u001b[0;34m\u001b[0m\u001b[0m\n\u001b[0m\u001b[1;32m     16\u001b[0m \u001b[0mwsClient\u001b[0m\u001b[0;34m.\u001b[0m\u001b[0mstart\u001b[0m\u001b[0;34m(\u001b[0m\u001b[0;34m)\u001b[0m\u001b[0;34m\u001b[0m\u001b[0;34m\u001b[0m\u001b[0m\n\u001b[1;32m     17\u001b[0m \u001b[0mprint\u001b[0m\u001b[0;34m(\u001b[0m\u001b[0mwsClient\u001b[0m\u001b[0;34m.\u001b[0m\u001b[0murl\u001b[0m\u001b[0;34m,\u001b[0m \u001b[0mwsClient\u001b[0m\u001b[0;34m.\u001b[0m\u001b[0mproducts\u001b[0m\u001b[0;34m)\u001b[0m\u001b[0;34m\u001b[0m\u001b[0;34m\u001b[0m\u001b[0m\n",
      "\u001b[0;31mTypeError\u001b[0m: __init__() missing 1 required keyword-only argument: 'channels'"
     ]
    }
   ],
   "source": [
    "class myWebsocketClient(cbpro.WebsocketClient):\n",
    "    def on_open(self):\n",
    "        self.url = \"wss://ws-feed.pro.coinbase.com/\"\n",
    "        self.products = [\"LTC-USD\"]\n",
    "        self.message_count = 0\n",
    "        print(\"Lets count the messages!\")\n",
    "\n",
    "    def on_message(self, msg):\n",
    "        self.message_count += 1\n",
    "        if \"price\" in msg and \"type\" in msg:\n",
    "            print(\"Message type:\", msg[\"type\"], \"\\t@ {:.3f}\".format(float(msg[\"price\"])))\n",
    "\n",
    "    def on_close(self):\n",
    "        print(\"-- Goodbye! --\")\n",
    "\n",
    "\n",
    "wsClient = myWebsocketClient()\n",
    "wsClient.start()\n",
    "print(wsClient.url, wsClient.products)\n",
    "while wsClient.message_count < 500:\n",
    "    print(\"\\nmessage_count =\", \"{} \\n\".format(wsClient.message_count))\n",
    "    time.sleep(1)\n",
    "wsClient.close()"
   ]
  },
  {
   "cell_type": "code",
   "execution_count": 21,
   "id": "2b9f1304-d151-4a92-873d-87aa13e51def",
   "metadata": {},
   "outputs": [
    {
     "name": "stdout",
     "output_type": "stream",
     "text": [
      "-- Subscribed to OrderBook! --\n",
      "\n",
      "Error: messages missing (29031085062 - 29031085159). Re-initializing  book at sequence.\n",
      "Error: messages missing (29031085062 - 29031085160). Re-initializing  book at sequence.\n",
      "\n",
      "-- OrderBook Socket Closed! --\n",
      "-- OrderBook Socket Closed! --\n",
      "\n"
     ]
    }
   ],
   "source": [
    "import cbpro, time\n",
    "\n",
    "order_book = cbpro.OrderBook(product_id=\"BTC-USD\")\n",
    "order_book.start()\n",
    "time.sleep(10)\n",
    "order_book.close()"
   ]
  },
  {
   "cell_type": "code",
   "execution_count": 6,
   "id": "6fc855ce-19eb-4ed9-ad63-c3f92dd252de",
   "metadata": {},
   "outputs": [],
   "source": [
    "# [ time, low, high, open, close, volume ]\n",
    "# granularity = day\n",
    "historic_rates = auth_client.get_product_historic_rates(product_id=\"BTC-USD\", granularity=86400)"
   ]
  },
  {
   "cell_type": "code",
   "execution_count": 7,
   "id": "bf76020f-16b5-49ba-a657-8aef91aa1641",
   "metadata": {},
   "outputs": [
    {
     "data": {
      "text/plain": [
       "[[1631750400, 47361.01, 48217.33, 48144.03, 47486.65, 1837.63049455],\n",
       " [1631664000, 46705, 48475, 47127.81, 48148.12, 12139.84206628],\n",
       " [1631577600, 44679.92, 47274.92, 44953.23, 47127.22, 12644.16435358],\n",
       " [1631491200, 43465, 46900, 46027.8, 44947.72, 15015.30289712],\n",
       " [1631404800, 44754.31, 46462.98, 45173.66, 46024.23, 6499.85821749],\n",
       " [1631318400, 44730.29, 45989.94, 44850.37, 45171.83, 6207.38337004],\n",
       " [1631232000, 44140.48, 47040.76, 46396.26, 44851.45, 14905.54795341],\n",
       " [1631145600, 45511.82, 47400, 46059.94, 46400, 13594.64633403],\n",
       " [1631059200, 44423.49, 47381.47, 46894.49, 46060.36, 19624.55093117],\n",
       " [1630972800, 42830.77, 52944.96, 52698.8, 46894.5, 29022.815351]]"
      ]
     },
     "execution_count": 7,
     "metadata": {},
     "output_type": "execute_result"
    }
   ],
   "source": [
    "historic_rates[:10]"
   ]
  },
  {
   "cell_type": "markdown",
   "id": "c781b193-ab7b-4fb8-bbb3-7daa799e306e",
   "metadata": {},
   "source": [
    "- verify this returns daily snapshots... It does"
   ]
  },
  {
   "cell_type": "code",
   "execution_count": 8,
   "id": "275f0acb-a1a6-4838-8c7c-167d7942cf4a",
   "metadata": {},
   "outputs": [
    {
     "data": {
      "text/plain": [
       "Timestamp('2021-09-16 00:00:00')"
      ]
     },
     "execution_count": 8,
     "metadata": {},
     "output_type": "execute_result"
    }
   ],
   "source": [
    "pd.to_datetime(historic_rates[0][0], unit=\"s\")"
   ]
  },
  {
   "cell_type": "code",
   "execution_count": 46,
   "id": "3aa787da-e3c7-4940-accb-631a9900c006",
   "metadata": {},
   "outputs": [
    {
     "data": {
      "text/plain": [
       "Timestamp('2021-09-06 00:00:00')"
      ]
     },
     "execution_count": 46,
     "metadata": {},
     "output_type": "execute_result"
    }
   ],
   "source": [
    "pd.to_datetime(1630886400, unit=\"s\")"
   ]
  },
  {
   "cell_type": "code",
   "execution_count": 47,
   "id": "e2699855-e478-4721-9b1f-abb809c1b4ec",
   "metadata": {},
   "outputs": [
    {
     "data": {
      "text/plain": [
       "Timestamp('2021-09-05 00:00:00')"
      ]
     },
     "execution_count": 47,
     "metadata": {},
     "output_type": "execute_result"
    }
   ],
   "source": [
    "pd.to_datetime(1630800000, unit=\"s\")"
   ]
  },
  {
   "cell_type": "code",
   "execution_count": 49,
   "id": "ad05e26e-0a74-445b-8882-3f15465b6637",
   "metadata": {},
   "outputs": [
    {
     "data": {
      "text/plain": [
       "Timestamp('2021-09-04 00:00:00')"
      ]
     },
     "execution_count": 49,
     "metadata": {},
     "output_type": "execute_result"
    }
   ],
   "source": [
    "pd.to_datetime(1630713600, unit=\"s\")"
   ]
  },
  {
   "cell_type": "code",
   "execution_count": null,
   "id": "0e37ba58-3505-48df-9ef3-8a12c0fc8641",
   "metadata": {},
   "outputs": [],
   "source": []
  }
 ],
 "metadata": {
  "kernelspec": {
   "display_name": "go-trader",
   "language": "python",
   "name": "go-trader"
  },
  "language_info": {
   "codemirror_mode": {
    "name": "ipython",
    "version": 3
   },
   "file_extension": ".py",
   "mimetype": "text/x-python",
   "name": "python",
   "nbconvert_exporter": "python",
   "pygments_lexer": "ipython3",
   "version": "3.7.8"
  }
 },
 "nbformat": 4,
 "nbformat_minor": 5
}
