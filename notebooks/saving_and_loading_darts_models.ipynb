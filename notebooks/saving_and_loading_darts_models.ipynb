{
 "cells": [
  {
   "cell_type": "code",
   "execution_count": 1,
   "id": "75f7b6a9-5eea-4698-9c54-3bae73fac617",
   "metadata": {},
   "outputs": [
    {
     "name": "stderr",
     "output_type": "stream",
     "text": [
      "Importing plotly failed. Interactive plots will not work.\n"
     ]
    },
    {
     "name": "stdout",
     "output_type": "stream",
     "text": [
      "Populating the interactive namespace from numpy and matplotlib\n"
     ]
    }
   ],
   "source": [
    "import time\n",
    "from datetime import datetime\n",
    "from tqdm.keras import TqdmCallback\n",
    "import numpy as np\n",
    "import pandas as pd\n",
    "import matplotlib.pyplot as plt\n",
    "\n",
    "\n",
    "from sklearn.preprocessing import MinMaxScaler\n",
    "from tensorflow.keras.models import Sequential, load_model\n",
    "from tensorflow.keras.layers import LSTM, Dense, Dropout\n",
    "\n",
    "import torch\n",
    "import torch.nn as nn\n",
    "import torch.optim as optim\n",
    "import numpy as np\n",
    "import pandas as pd\n",
    "import shutil\n",
    "from sklearn.preprocessing import MinMaxScaler\n",
    "from tqdm import tqdm_notebook as tqdm\n",
    "\n",
    "import matplotlib.pyplot as plt\n",
    "\n",
    "from darts import TimeSeries\n",
    "from darts.dataprocessing.transformers import Scaler\n",
    "from darts.models import RNNModel, TCNModel, TransformerModel, NBEATSModel, BlockRNNModel\n",
    "from darts.utils.likelihood_models import GaussianLikelihoodModel\n",
    "from darts.utils.missing_values import fill_missing_values\n",
    "\n",
    "from darts.metrics import mape, mse\n",
    "from darts.utils.statistics import check_seasonality, plot_acf\n",
    "from darts.datasets import AirPassengersDataset, SunspotsDataset\n",
    "from darts.utils.timeseries_generation import datetime_attribute_timeseries\n",
    "\n",
    "from math import sqrt\n",
    "\n",
    "from datetime import timedelta\n",
    "\n",
    "import warnings\n",
    "warnings.filterwarnings(\"ignore\")\n",
    "import logging\n",
    "logging.disable(logging.CRITICAL)\n",
    "\n",
    "%pylab inline"
   ]
  },
  {
   "cell_type": "code",
   "execution_count": 2,
   "id": "ea932405-5c1a-42a5-a62c-b42011df12ff",
   "metadata": {},
   "outputs": [],
   "source": [
    "deeptcn= TCNModel(\n",
    "                            dropout=.1,\n",
    "                            random_state=0,\n",
    "                                dilation_base=2, \n",
    "                            weight_norm=True,\n",
    "                            kernel_size=30,\n",
    "                            num_filters=6,\n",
    "                            num_layers=6,\n",
    "                            input_chunk_length=31,\n",
    "                            output_chunk_length=30,\n",
    "                        model_name = str(31) + \"_tcn\",\n",
    "                        force_reset=True,\n",
    "                        log_tensorboard=True)"
   ]
  },
  {
   "cell_type": "code",
   "execution_count": 5,
   "id": "c105097d-f2c8-4c47-bc00-de3eded7fda1",
   "metadata": {},
   "outputs": [
    {
     "name": "stdout",
     "output_type": "stream",
     "text": [
      "loading checkpoint_5631.pth.tar\n"
     ]
    },
    {
     "data": {
      "text/plain": [
       "<darts.models.tcn_model.TCNModel at 0x180f4a990>"
      ]
     },
     "execution_count": 5,
     "metadata": {},
     "output_type": "execute_result"
    }
   ],
   "source": [
    "deeptcn.load_from_checkpoint(model_name = str(31) + \"_tcn\",best=False)"
   ]
  },
  {
   "cell_type": "code",
   "execution_count": 7,
   "id": "db1fc35f-0b1b-462e-a1f8-1f403b59bc8c",
   "metadata": {},
   "outputs": [
    {
     "data": {
      "text/plain": [
       "'31_tcn'"
      ]
     },
     "execution_count": 7,
     "metadata": {},
     "output_type": "execute_result"
    }
   ],
   "source": [
    "deeptcn.model_name"
   ]
  },
  {
   "cell_type": "code",
   "execution_count": null,
   "id": "d324f407-6e1f-4181-9c77-ea4c130ae3d7",
   "metadata": {},
   "outputs": [],
   "source": [
    "model_name"
   ]
  }
 ],
 "metadata": {
  "kernelspec": {
   "display_name": "go-trader",
   "language": "python",
   "name": "go-trader"
  },
  "language_info": {
   "codemirror_mode": {
    "name": "ipython",
    "version": 3
   },
   "file_extension": ".py",
   "mimetype": "text/x-python",
   "name": "python",
   "nbconvert_exporter": "python",
   "pygments_lexer": "ipython3",
   "version": "3.7.8"
  }
 },
 "nbformat": 4,
 "nbformat_minor": 5
}
