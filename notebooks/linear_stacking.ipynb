{
 "cells": [
  {
   "cell_type": "code",
   "execution_count": 643,
   "id": "14aeab74-9440-419b-9151-86dfdcebde4f",
   "metadata": {},
   "outputs": [],
   "source": [
    "import pandas as pd\n",
    "import math\n",
    "from math import sqrt\n",
    "import numpy as np\n",
    "from sklearn.metrics import mean_squared_error\n",
    "from sklearn.linear_model import LinearRegression\n",
    "from sklearn.ensemble import RandomForestRegressor, GradientBoostingRegressor"
   ]
  },
  {
   "cell_type": "markdown",
   "id": "4d6f4e83-45bb-44a5-af86-8413e344c335",
   "metadata": {},
   "source": [
    "# read in data predictions for BTC"
   ]
  },
  {
   "cell_type": "code",
   "execution_count": 590,
   "id": "afd2c5af-f525-4025-a9ba-d97d09dd9282",
   "metadata": {},
   "outputs": [],
   "source": [
    "predictions_df = pd.read_csv(\"training_configs/btc_all_predictions.csv\", parse_dates=True)\n",
    "true_price_df = pd.read_csv(\"../tmp/historic_crypto_prices - bitcoin_jan_2017_sep_4_2021 copy.csv\")"
   ]
  },
  {
   "cell_type": "code",
   "execution_count": 591,
   "id": "71daea76-dda0-4887-9515-21d9fd9c9c6e",
   "metadata": {},
   "outputs": [
    {
     "data": {
      "text/html": [
       "<div>\n",
       "<style scoped>\n",
       "    .dataframe tbody tr th:only-of-type {\n",
       "        vertical-align: middle;\n",
       "    }\n",
       "\n",
       "    .dataframe tbody tr th {\n",
       "        vertical-align: top;\n",
       "    }\n",
       "\n",
       "    .dataframe thead th {\n",
       "        text-align: right;\n",
       "    }\n",
       "</style>\n",
       "<table border=\"1\" class=\"dataframe\">\n",
       "  <thead>\n",
       "    <tr style=\"text-align: right;\">\n",
       "      <th></th>\n",
       "      <th>date</th>\n",
       "      <th>nbeats_btc_lookback_15_window_5_std_1.25_num_add_dfs_2</th>\n",
       "      <th>tcn_btc_lookback_15_window_5_std_1.25_num_add_dfs_2</th>\n",
       "      <th>nbeats_btc_lookback_30_window_5_std_1.25_num_add_dfs_2</th>\n",
       "      <th>tcn_btc_lookback_30_window_5_std_1.25_num_add_dfs_2</th>\n",
       "      <th>nbeats_btc_lookback_45_window_5_std_1.25_num_add_dfs_2</th>\n",
       "      <th>tcn_btc_lookback_45_window_5_std_1.25_num_add_dfs_2</th>\n",
       "      <th>date_prediction_for</th>\n",
       "      <th>test_model_lookback_1</th>\n",
       "    </tr>\n",
       "  </thead>\n",
       "  <tbody>\n",
       "    <tr>\n",
       "      <th>0</th>\n",
       "      <td>2010-01-01</td>\n",
       "      <td>0.000000</td>\n",
       "      <td>0.000000</td>\n",
       "      <td>0.000000</td>\n",
       "      <td>0.000000</td>\n",
       "      <td>0.000000</td>\n",
       "      <td>0.000000</td>\n",
       "      <td>2010-01-09</td>\n",
       "      <td>0.0</td>\n",
       "    </tr>\n",
       "    <tr>\n",
       "      <th>1</th>\n",
       "      <td>2019-04-02</td>\n",
       "      <td>4752.149527</td>\n",
       "      <td>253.537135</td>\n",
       "      <td>4730.976374</td>\n",
       "      <td>654.310204</td>\n",
       "      <td>3469.734359</td>\n",
       "      <td>795.201430</td>\n",
       "      <td>2019-04-09</td>\n",
       "      <td>0.0</td>\n",
       "    </tr>\n",
       "    <tr>\n",
       "      <th>2</th>\n",
       "      <td>2019-04-03</td>\n",
       "      <td>4546.248123</td>\n",
       "      <td>407.206977</td>\n",
       "      <td>4373.560445</td>\n",
       "      <td>255.627627</td>\n",
       "      <td>4437.900633</td>\n",
       "      <td>1413.509939</td>\n",
       "      <td>2019-04-10</td>\n",
       "      <td>0.0</td>\n",
       "    </tr>\n",
       "    <tr>\n",
       "      <th>3</th>\n",
       "      <td>2019-04-04</td>\n",
       "      <td>4550.998590</td>\n",
       "      <td>726.168584</td>\n",
       "      <td>4045.591506</td>\n",
       "      <td>1861.981408</td>\n",
       "      <td>4012.011230</td>\n",
       "      <td>523.093010</td>\n",
       "      <td>2019-04-11</td>\n",
       "      <td>0.0</td>\n",
       "    </tr>\n",
       "    <tr>\n",
       "      <th>4</th>\n",
       "      <td>2019-04-05</td>\n",
       "      <td>5003.264197</td>\n",
       "      <td>353.606543</td>\n",
       "      <td>4819.668698</td>\n",
       "      <td>817.215937</td>\n",
       "      <td>3977.238773</td>\n",
       "      <td>553.057301</td>\n",
       "      <td>2019-04-12</td>\n",
       "      <td>0.0</td>\n",
       "    </tr>\n",
       "  </tbody>\n",
       "</table>\n",
       "</div>"
      ],
      "text/plain": [
       "         date  nbeats_btc_lookback_15_window_5_std_1.25_num_add_dfs_2  \\\n",
       "0  2010-01-01                                           0.000000        \n",
       "1  2019-04-02                                        4752.149527        \n",
       "2  2019-04-03                                        4546.248123        \n",
       "3  2019-04-04                                        4550.998590        \n",
       "4  2019-04-05                                        5003.264197        \n",
       "\n",
       "   tcn_btc_lookback_15_window_5_std_1.25_num_add_dfs_2  \\\n",
       "0                                           0.000000     \n",
       "1                                         253.537135     \n",
       "2                                         407.206977     \n",
       "3                                         726.168584     \n",
       "4                                         353.606543     \n",
       "\n",
       "   nbeats_btc_lookback_30_window_5_std_1.25_num_add_dfs_2  \\\n",
       "0                                           0.000000        \n",
       "1                                        4730.976374        \n",
       "2                                        4373.560445        \n",
       "3                                        4045.591506        \n",
       "4                                        4819.668698        \n",
       "\n",
       "   tcn_btc_lookback_30_window_5_std_1.25_num_add_dfs_2  \\\n",
       "0                                           0.000000     \n",
       "1                                         654.310204     \n",
       "2                                         255.627627     \n",
       "3                                        1861.981408     \n",
       "4                                         817.215937     \n",
       "\n",
       "   nbeats_btc_lookback_45_window_5_std_1.25_num_add_dfs_2  \\\n",
       "0                                           0.000000        \n",
       "1                                        3469.734359        \n",
       "2                                        4437.900633        \n",
       "3                                        4012.011230        \n",
       "4                                        3977.238773        \n",
       "\n",
       "   tcn_btc_lookback_45_window_5_std_1.25_num_add_dfs_2 date_prediction_for  \\\n",
       "0                                           0.000000            2010-01-09   \n",
       "1                                         795.201430            2019-04-09   \n",
       "2                                        1413.509939            2019-04-10   \n",
       "3                                         523.093010            2019-04-11   \n",
       "4                                         553.057301            2019-04-12   \n",
       "\n",
       "   test_model_lookback_1  \n",
       "0                    0.0  \n",
       "1                    0.0  \n",
       "2                    0.0  \n",
       "3                    0.0  \n",
       "4                    0.0  "
      ]
     },
     "execution_count": 591,
     "metadata": {},
     "output_type": "execute_result"
    }
   ],
   "source": [
    "predictions_df.head()"
   ]
  },
  {
   "cell_type": "code",
   "execution_count": 592,
   "id": "d1f3f14d-eeb0-44b5-85c5-c1c340a05b08",
   "metadata": {},
   "outputs": [
    {
     "data": {
      "text/plain": [
       "'2010-01-01'"
      ]
     },
     "execution_count": 592,
     "metadata": {},
     "output_type": "execute_result"
    }
   ],
   "source": [
    "predictions_df.date.min()"
   ]
  },
  {
   "cell_type": "code",
   "execution_count": 593,
   "id": "5b35fda1-0b74-440e-a9b5-f4e9a1c6bced",
   "metadata": {},
   "outputs": [
    {
     "data": {
      "text/plain": [
       "'2020-08-04'"
      ]
     },
     "execution_count": 593,
     "metadata": {},
     "output_type": "execute_result"
    }
   ],
   "source": [
    "predictions_df.date.max()"
   ]
  },
  {
   "cell_type": "code",
   "execution_count": 594,
   "id": "99647926-fb43-4b1e-a752-a7a5cbcfd561",
   "metadata": {},
   "outputs": [
    {
     "name": "stdout",
     "output_type": "stream",
     "text": [
      "<class 'pandas.core.frame.DataFrame'>\n",
      "RangeIndex: 492 entries, 0 to 491\n",
      "Data columns (total 9 columns):\n",
      " #   Column                                                  Non-Null Count  Dtype  \n",
      "---  ------                                                  --------------  -----  \n",
      " 0   date                                                    492 non-null    object \n",
      " 1   nbeats_btc_lookback_15_window_5_std_1.25_num_add_dfs_2  492 non-null    float64\n",
      " 2   tcn_btc_lookback_15_window_5_std_1.25_num_add_dfs_2     492 non-null    float64\n",
      " 3   nbeats_btc_lookback_30_window_5_std_1.25_num_add_dfs_2  492 non-null    float64\n",
      " 4   tcn_btc_lookback_30_window_5_std_1.25_num_add_dfs_2     492 non-null    float64\n",
      " 5   nbeats_btc_lookback_45_window_5_std_1.25_num_add_dfs_2  492 non-null    float64\n",
      " 6   tcn_btc_lookback_45_window_5_std_1.25_num_add_dfs_2     492 non-null    float64\n",
      " 7   date_prediction_for                                     492 non-null    object \n",
      " 8   test_model_lookback_1                                   492 non-null    float64\n",
      "dtypes: float64(7), object(2)\n",
      "memory usage: 34.7+ KB\n"
     ]
    }
   ],
   "source": [
    "predictions_df.info()"
   ]
  },
  {
   "cell_type": "code",
   "execution_count": 595,
   "id": "344902b3-cbfd-409e-b139-25e2024e0198",
   "metadata": {},
   "outputs": [],
   "source": [
    "true_close_df = true_price_df[['date','close']]"
   ]
  },
  {
   "cell_type": "markdown",
   "id": "33bd04fb-957e-4da5-8695-f9277e182d4e",
   "metadata": {},
   "source": [
    "### Map the predictions for date to the true price date"
   ]
  },
  {
   "cell_type": "code",
   "execution_count": 596,
   "id": "f10c47be-4dbc-43d5-b6f4-37fe22e516f7",
   "metadata": {},
   "outputs": [
    {
     "data": {
      "text/plain": [
       "0       2010-01-09\n",
       "1       2019-04-09\n",
       "2       2019-04-10\n",
       "3       2019-04-11\n",
       "4       2019-04-12\n",
       "          ...     \n",
       "487     2020-08-07\n",
       "488     2020-08-08\n",
       "489     2020-08-09\n",
       "490     2020-08-10\n",
       "491     2020-08-11\n",
       "Name: date_prediction_for, Length: 492, dtype: object"
      ]
     },
     "execution_count": 596,
     "metadata": {},
     "output_type": "execute_result"
    }
   ],
   "source": [
    "predictions_df.date_prediction_for"
   ]
  },
  {
   "cell_type": "code",
   "execution_count": 597,
   "id": "cab6bfa1-b3e1-47c0-8986-155cba959efb",
   "metadata": {},
   "outputs": [],
   "source": [
    "merged_df = pd.merge(predictions_df, true_close_df, left_on='date_prediction_for',\n",
    "                     right_on ='date', suffixes=['_pred','_true'])"
   ]
  },
  {
   "cell_type": "code",
   "execution_count": 598,
   "id": "3eb4ecd3-2d32-4fb9-93b7-b62311c9e717",
   "metadata": {},
   "outputs": [],
   "source": [
    "merged_df['day'] = [t.day for t in pd.to_datetime(merged_df.date_prediction_for)]\n",
    "merged_df['month'] =  [t.month for t in pd.to_datetime(merged_df.date_prediction_for)]\n",
    "merged_df['quarter'] = [t.quarter for t in pd.to_datetime(merged_df.date_prediction_for)]"
   ]
  },
  {
   "cell_type": "code",
   "execution_count": null,
   "id": "f3ad5550-7429-4134-9b9d-1059776a3a0a",
   "metadata": {},
   "outputs": [],
   "source": []
  },
  {
   "cell_type": "code",
   "execution_count": 599,
   "id": "ad8530bd-87df-49a3-a587-ca56e6372f8e",
   "metadata": {},
   "outputs": [],
   "source": [
    "merged_df.drop(['date_pred', 'date_true', 'date_prediction_for'], inplace=True, axis=1)"
   ]
  },
  {
   "cell_type": "code",
   "execution_count": 600,
   "id": "aa191f1b-ff9e-49c6-a9bd-48799892519f",
   "metadata": {},
   "outputs": [
    {
     "data": {
      "text/html": [
       "<div>\n",
       "<style scoped>\n",
       "    .dataframe tbody tr th:only-of-type {\n",
       "        vertical-align: middle;\n",
       "    }\n",
       "\n",
       "    .dataframe tbody tr th {\n",
       "        vertical-align: top;\n",
       "    }\n",
       "\n",
       "    .dataframe thead th {\n",
       "        text-align: right;\n",
       "    }\n",
       "</style>\n",
       "<table border=\"1\" class=\"dataframe\">\n",
       "  <thead>\n",
       "    <tr style=\"text-align: right;\">\n",
       "      <th></th>\n",
       "      <th>nbeats_btc_lookback_15_window_5_std_1.25_num_add_dfs_2</th>\n",
       "      <th>tcn_btc_lookback_15_window_5_std_1.25_num_add_dfs_2</th>\n",
       "      <th>nbeats_btc_lookback_30_window_5_std_1.25_num_add_dfs_2</th>\n",
       "      <th>tcn_btc_lookback_30_window_5_std_1.25_num_add_dfs_2</th>\n",
       "      <th>nbeats_btc_lookback_45_window_5_std_1.25_num_add_dfs_2</th>\n",
       "      <th>tcn_btc_lookback_45_window_5_std_1.25_num_add_dfs_2</th>\n",
       "      <th>test_model_lookback_1</th>\n",
       "      <th>close</th>\n",
       "      <th>day</th>\n",
       "      <th>month</th>\n",
       "      <th>quarter</th>\n",
       "    </tr>\n",
       "  </thead>\n",
       "  <tbody>\n",
       "    <tr>\n",
       "      <th>486</th>\n",
       "      <td>10584.307512</td>\n",
       "      <td>9961.906642</td>\n",
       "      <td>10649.915556</td>\n",
       "      <td>10202.599075</td>\n",
       "      <td>10650.126787</td>\n",
       "      <td>9736.913534</td>\n",
       "      <td>0.0</td>\n",
       "      <td>11601.47</td>\n",
       "      <td>7</td>\n",
       "      <td>8</td>\n",
       "      <td>3</td>\n",
       "    </tr>\n",
       "    <tr>\n",
       "      <th>487</th>\n",
       "      <td>10931.541496</td>\n",
       "      <td>9998.582844</td>\n",
       "      <td>12069.739522</td>\n",
       "      <td>10378.561360</td>\n",
       "      <td>10056.941156</td>\n",
       "      <td>10158.936073</td>\n",
       "      <td>0.0</td>\n",
       "      <td>11754.05</td>\n",
       "      <td>8</td>\n",
       "      <td>8</td>\n",
       "      <td>3</td>\n",
       "    </tr>\n",
       "    <tr>\n",
       "      <th>488</th>\n",
       "      <td>11495.761430</td>\n",
       "      <td>9630.692792</td>\n",
       "      <td>10574.792448</td>\n",
       "      <td>10048.738012</td>\n",
       "      <td>10654.639726</td>\n",
       "      <td>10654.996590</td>\n",
       "      <td>0.0</td>\n",
       "      <td>11675.74</td>\n",
       "      <td>9</td>\n",
       "      <td>8</td>\n",
       "      <td>3</td>\n",
       "    </tr>\n",
       "    <tr>\n",
       "      <th>489</th>\n",
       "      <td>10859.135558</td>\n",
       "      <td>10158.411734</td>\n",
       "      <td>11663.520801</td>\n",
       "      <td>10715.364345</td>\n",
       "      <td>10696.597976</td>\n",
       "      <td>10204.908968</td>\n",
       "      <td>0.0</td>\n",
       "      <td>11878.11</td>\n",
       "      <td>10</td>\n",
       "      <td>8</td>\n",
       "      <td>3</td>\n",
       "    </tr>\n",
       "    <tr>\n",
       "      <th>490</th>\n",
       "      <td>11184.236557</td>\n",
       "      <td>10360.022950</td>\n",
       "      <td>11112.723987</td>\n",
       "      <td>10307.323780</td>\n",
       "      <td>10081.569439</td>\n",
       "      <td>10199.958559</td>\n",
       "      <td>0.0</td>\n",
       "      <td>11410.53</td>\n",
       "      <td>11</td>\n",
       "      <td>8</td>\n",
       "      <td>3</td>\n",
       "    </tr>\n",
       "  </tbody>\n",
       "</table>\n",
       "</div>"
      ],
      "text/plain": [
       "     nbeats_btc_lookback_15_window_5_std_1.25_num_add_dfs_2  \\\n",
       "486                                       10584.307512        \n",
       "487                                       10931.541496        \n",
       "488                                       11495.761430        \n",
       "489                                       10859.135558        \n",
       "490                                       11184.236557        \n",
       "\n",
       "     tcn_btc_lookback_15_window_5_std_1.25_num_add_dfs_2  \\\n",
       "486                                        9961.906642     \n",
       "487                                        9998.582844     \n",
       "488                                        9630.692792     \n",
       "489                                       10158.411734     \n",
       "490                                       10360.022950     \n",
       "\n",
       "     nbeats_btc_lookback_30_window_5_std_1.25_num_add_dfs_2  \\\n",
       "486                                       10649.915556        \n",
       "487                                       12069.739522        \n",
       "488                                       10574.792448        \n",
       "489                                       11663.520801        \n",
       "490                                       11112.723987        \n",
       "\n",
       "     tcn_btc_lookback_30_window_5_std_1.25_num_add_dfs_2  \\\n",
       "486                                       10202.599075     \n",
       "487                                       10378.561360     \n",
       "488                                       10048.738012     \n",
       "489                                       10715.364345     \n",
       "490                                       10307.323780     \n",
       "\n",
       "     nbeats_btc_lookback_45_window_5_std_1.25_num_add_dfs_2  \\\n",
       "486                                       10650.126787        \n",
       "487                                       10056.941156        \n",
       "488                                       10654.639726        \n",
       "489                                       10696.597976        \n",
       "490                                       10081.569439        \n",
       "\n",
       "     tcn_btc_lookback_45_window_5_std_1.25_num_add_dfs_2  \\\n",
       "486                                        9736.913534     \n",
       "487                                       10158.936073     \n",
       "488                                       10654.996590     \n",
       "489                                       10204.908968     \n",
       "490                                       10199.958559     \n",
       "\n",
       "     test_model_lookback_1     close  day  month  quarter  \n",
       "486                    0.0  11601.47    7      8        3  \n",
       "487                    0.0  11754.05    8      8        3  \n",
       "488                    0.0  11675.74    9      8        3  \n",
       "489                    0.0  11878.11   10      8        3  \n",
       "490                    0.0  11410.53   11      8        3  "
      ]
     },
     "execution_count": 600,
     "metadata": {},
     "output_type": "execute_result"
    }
   ],
   "source": [
    "merged_df.tail()"
   ]
  },
  {
   "cell_type": "code",
   "execution_count": 601,
   "id": "2596bc62-d922-423e-902e-75e67afe85ab",
   "metadata": {},
   "outputs": [
    {
     "data": {
      "text/html": [
       "<div>\n",
       "<style scoped>\n",
       "    .dataframe tbody tr th:only-of-type {\n",
       "        vertical-align: middle;\n",
       "    }\n",
       "\n",
       "    .dataframe tbody tr th {\n",
       "        vertical-align: top;\n",
       "    }\n",
       "\n",
       "    .dataframe thead th {\n",
       "        text-align: right;\n",
       "    }\n",
       "</style>\n",
       "<table border=\"1\" class=\"dataframe\">\n",
       "  <thead>\n",
       "    <tr style=\"text-align: right;\">\n",
       "      <th></th>\n",
       "      <th>nbeats_btc_lookback_15_window_5_std_1.25_num_add_dfs_2</th>\n",
       "      <th>tcn_btc_lookback_15_window_5_std_1.25_num_add_dfs_2</th>\n",
       "      <th>nbeats_btc_lookback_30_window_5_std_1.25_num_add_dfs_2</th>\n",
       "      <th>tcn_btc_lookback_30_window_5_std_1.25_num_add_dfs_2</th>\n",
       "      <th>nbeats_btc_lookback_45_window_5_std_1.25_num_add_dfs_2</th>\n",
       "      <th>tcn_btc_lookback_45_window_5_std_1.25_num_add_dfs_2</th>\n",
       "      <th>test_model_lookback_1</th>\n",
       "      <th>close</th>\n",
       "      <th>day</th>\n",
       "      <th>month</th>\n",
       "      <th>quarter</th>\n",
       "    </tr>\n",
       "  </thead>\n",
       "  <tbody>\n",
       "    <tr>\n",
       "      <th>count</th>\n",
       "      <td>491.000000</td>\n",
       "      <td>491.000000</td>\n",
       "      <td>491.000000</td>\n",
       "      <td>491.000000</td>\n",
       "      <td>491.000000</td>\n",
       "      <td>491.000000</td>\n",
       "      <td>491.0</td>\n",
       "      <td>491.000000</td>\n",
       "      <td>491.000000</td>\n",
       "      <td>491.000000</td>\n",
       "      <td>491.000000</td>\n",
       "    </tr>\n",
       "    <tr>\n",
       "      <th>mean</th>\n",
       "      <td>8844.345580</td>\n",
       "      <td>8746.783719</td>\n",
       "      <td>8894.054241</td>\n",
       "      <td>8911.115659</td>\n",
       "      <td>8969.656057</td>\n",
       "      <td>8620.635048</td>\n",
       "      <td>0.0</td>\n",
       "      <td>8723.286721</td>\n",
       "      <td>15.720978</td>\n",
       "      <td>6.338086</td>\n",
       "      <td>2.462322</td>\n",
       "    </tr>\n",
       "    <tr>\n",
       "      <th>std</th>\n",
       "      <td>1797.747268</td>\n",
       "      <td>4104.531706</td>\n",
       "      <td>1980.121643</td>\n",
       "      <td>3951.817680</td>\n",
       "      <td>2099.310735</td>\n",
       "      <td>4118.720500</td>\n",
       "      <td>0.0</td>\n",
       "      <td>1642.467316</td>\n",
       "      <td>8.804078</td>\n",
       "      <td>3.061905</td>\n",
       "      <td>0.998011</td>\n",
       "    </tr>\n",
       "    <tr>\n",
       "      <th>min</th>\n",
       "      <td>4546.248123</td>\n",
       "      <td>139.877840</td>\n",
       "      <td>3666.543647</td>\n",
       "      <td>-289.448271</td>\n",
       "      <td>3261.251466</td>\n",
       "      <td>-280.599843</td>\n",
       "      <td>0.0</td>\n",
       "      <td>4970.790000</td>\n",
       "      <td>1.000000</td>\n",
       "      <td>1.000000</td>\n",
       "      <td>1.000000</td>\n",
       "    </tr>\n",
       "    <tr>\n",
       "      <th>25%</th>\n",
       "      <td>7463.266147</td>\n",
       "      <td>6658.518010</td>\n",
       "      <td>7532.412004</td>\n",
       "      <td>6859.012971</td>\n",
       "      <td>7651.020014</td>\n",
       "      <td>6878.503926</td>\n",
       "      <td>0.0</td>\n",
       "      <td>7553.570000</td>\n",
       "      <td>8.000000</td>\n",
       "      <td>4.000000</td>\n",
       "      <td>2.000000</td>\n",
       "    </tr>\n",
       "    <tr>\n",
       "      <th>50%</th>\n",
       "      <td>9052.784116</td>\n",
       "      <td>8824.585663</td>\n",
       "      <td>9030.426251</td>\n",
       "      <td>8714.065258</td>\n",
       "      <td>9024.592279</td>\n",
       "      <td>8637.863913</td>\n",
       "      <td>0.0</td>\n",
       "      <td>8897.470000</td>\n",
       "      <td>16.000000</td>\n",
       "      <td>6.000000</td>\n",
       "      <td>2.000000</td>\n",
       "    </tr>\n",
       "    <tr>\n",
       "      <th>75%</th>\n",
       "      <td>10018.505735</td>\n",
       "      <td>10029.182870</td>\n",
       "      <td>10035.180268</td>\n",
       "      <td>10246.668849</td>\n",
       "      <td>10228.135508</td>\n",
       "      <td>9704.617379</td>\n",
       "      <td>0.0</td>\n",
       "      <td>9731.760000</td>\n",
       "      <td>23.000000</td>\n",
       "      <td>8.000000</td>\n",
       "      <td>3.000000</td>\n",
       "    </tr>\n",
       "    <tr>\n",
       "      <th>max</th>\n",
       "      <td>13331.237899</td>\n",
       "      <td>23654.633486</td>\n",
       "      <td>14332.008433</td>\n",
       "      <td>23157.885335</td>\n",
       "      <td>14228.875403</td>\n",
       "      <td>23173.074402</td>\n",
       "      <td>0.0</td>\n",
       "      <td>13016.230000</td>\n",
       "      <td>31.000000</td>\n",
       "      <td>12.000000</td>\n",
       "      <td>4.000000</td>\n",
       "    </tr>\n",
       "  </tbody>\n",
       "</table>\n",
       "</div>"
      ],
      "text/plain": [
       "       nbeats_btc_lookback_15_window_5_std_1.25_num_add_dfs_2  \\\n",
       "count                                         491.000000        \n",
       "mean                                         8844.345580        \n",
       "std                                          1797.747268        \n",
       "min                                          4546.248123        \n",
       "25%                                          7463.266147        \n",
       "50%                                          9052.784116        \n",
       "75%                                         10018.505735        \n",
       "max                                         13331.237899        \n",
       "\n",
       "       tcn_btc_lookback_15_window_5_std_1.25_num_add_dfs_2  \\\n",
       "count                                         491.000000     \n",
       "mean                                         8746.783719     \n",
       "std                                          4104.531706     \n",
       "min                                           139.877840     \n",
       "25%                                          6658.518010     \n",
       "50%                                          8824.585663     \n",
       "75%                                         10029.182870     \n",
       "max                                         23654.633486     \n",
       "\n",
       "       nbeats_btc_lookback_30_window_5_std_1.25_num_add_dfs_2  \\\n",
       "count                                         491.000000        \n",
       "mean                                         8894.054241        \n",
       "std                                          1980.121643        \n",
       "min                                          3666.543647        \n",
       "25%                                          7532.412004        \n",
       "50%                                          9030.426251        \n",
       "75%                                         10035.180268        \n",
       "max                                         14332.008433        \n",
       "\n",
       "       tcn_btc_lookback_30_window_5_std_1.25_num_add_dfs_2  \\\n",
       "count                                         491.000000     \n",
       "mean                                         8911.115659     \n",
       "std                                          3951.817680     \n",
       "min                                          -289.448271     \n",
       "25%                                          6859.012971     \n",
       "50%                                          8714.065258     \n",
       "75%                                         10246.668849     \n",
       "max                                         23157.885335     \n",
       "\n",
       "       nbeats_btc_lookback_45_window_5_std_1.25_num_add_dfs_2  \\\n",
       "count                                         491.000000        \n",
       "mean                                         8969.656057        \n",
       "std                                          2099.310735        \n",
       "min                                          3261.251466        \n",
       "25%                                          7651.020014        \n",
       "50%                                          9024.592279        \n",
       "75%                                         10228.135508        \n",
       "max                                         14228.875403        \n",
       "\n",
       "       tcn_btc_lookback_45_window_5_std_1.25_num_add_dfs_2  \\\n",
       "count                                         491.000000     \n",
       "mean                                         8620.635048     \n",
       "std                                          4118.720500     \n",
       "min                                          -280.599843     \n",
       "25%                                          6878.503926     \n",
       "50%                                          8637.863913     \n",
       "75%                                          9704.617379     \n",
       "max                                         23173.074402     \n",
       "\n",
       "       test_model_lookback_1         close         day       month     quarter  \n",
       "count                  491.0    491.000000  491.000000  491.000000  491.000000  \n",
       "mean                     0.0   8723.286721   15.720978    6.338086    2.462322  \n",
       "std                      0.0   1642.467316    8.804078    3.061905    0.998011  \n",
       "min                      0.0   4970.790000    1.000000    1.000000    1.000000  \n",
       "25%                      0.0   7553.570000    8.000000    4.000000    2.000000  \n",
       "50%                      0.0   8897.470000   16.000000    6.000000    2.000000  \n",
       "75%                      0.0   9731.760000   23.000000    8.000000    3.000000  \n",
       "max                      0.0  13016.230000   31.000000   12.000000    4.000000  "
      ]
     },
     "execution_count": 601,
     "metadata": {},
     "output_type": "execute_result"
    }
   ],
   "source": [
    "merged_df.describe()"
   ]
  },
  {
   "cell_type": "markdown",
   "id": "a7962cfb-6d0e-4920-87bd-d0332e6930e8",
   "metadata": {},
   "source": [
    "### train test split"
   ]
  },
  {
   "cell_type": "code",
   "execution_count": 689,
   "id": "7716d7c0-dd3a-4edd-b446-9ac935d31f15",
   "metadata": {},
   "outputs": [],
   "source": [
    "split_pct = .95\n",
    "l_merged = len(merged_df)\n",
    "merged_df_train, merged_df_test = merged_df.iloc[:int(split_pct*l_merged),:],  merged_df.iloc[int(l_merged*split_pct):,:]\n",
    "                                                                                                  "
   ]
  },
  {
   "cell_type": "code",
   "execution_count": 690,
   "id": "d9d194b0-7900-4b2b-b911-fd7e966a3a4c",
   "metadata": {},
   "outputs": [
    {
     "name": "stdout",
     "output_type": "stream",
     "text": [
      "train rows = 392\n"
     ]
    }
   ],
   "source": [
    "print(f\"train rows = {len(merged_df_train)}\")"
   ]
  },
  {
   "cell_type": "code",
   "execution_count": 691,
   "id": "b37ba950-9666-402c-a5f2-33e4783b39cb",
   "metadata": {},
   "outputs": [
    {
     "name": "stdout",
     "output_type": "stream",
     "text": [
      "test rows = 99\n"
     ]
    }
   ],
   "source": [
    "print(f\"test rows = {len(merged_df_test)}\")"
   ]
  },
  {
   "cell_type": "code",
   "execution_count": 692,
   "id": "f77dbb40-009a-4704-afee-4c96d1f36a19",
   "metadata": {},
   "outputs": [
    {
     "name": "stdout",
     "output_type": "stream",
     "text": [
      "<class 'pandas.core.frame.DataFrame'>\n",
      "Int64Index: 392 entries, 0 to 391\n",
      "Data columns (total 11 columns):\n",
      " #   Column                                                  Non-Null Count  Dtype  \n",
      "---  ------                                                  --------------  -----  \n",
      " 0   nbeats_btc_lookback_15_window_5_std_1.25_num_add_dfs_2  392 non-null    float64\n",
      " 1   tcn_btc_lookback_15_window_5_std_1.25_num_add_dfs_2     392 non-null    float64\n",
      " 2   nbeats_btc_lookback_30_window_5_std_1.25_num_add_dfs_2  392 non-null    float64\n",
      " 3   tcn_btc_lookback_30_window_5_std_1.25_num_add_dfs_2     392 non-null    float64\n",
      " 4   nbeats_btc_lookback_45_window_5_std_1.25_num_add_dfs_2  392 non-null    float64\n",
      " 5   tcn_btc_lookback_45_window_5_std_1.25_num_add_dfs_2     392 non-null    float64\n",
      " 6   test_model_lookback_1                                   392 non-null    float64\n",
      " 7   close                                                   392 non-null    float64\n",
      " 8   day                                                     392 non-null    int64  \n",
      " 9   month                                                   392 non-null    int64  \n",
      " 10  quarter                                                 392 non-null    int64  \n",
      "dtypes: float64(8), int64(3)\n",
      "memory usage: 36.8 KB\n"
     ]
    }
   ],
   "source": [
    "merged_df_train.info()"
   ]
  },
  {
   "cell_type": "code",
   "execution_count": 693,
   "id": "d3508d7a-7232-4162-aa8d-d192e32af1e4",
   "metadata": {},
   "outputs": [
    {
     "name": "stdout",
     "output_type": "stream",
     "text": [
      "<class 'pandas.core.frame.DataFrame'>\n",
      "Int64Index: 99 entries, 392 to 490\n",
      "Data columns (total 11 columns):\n",
      " #   Column                                                  Non-Null Count  Dtype  \n",
      "---  ------                                                  --------------  -----  \n",
      " 0   nbeats_btc_lookback_15_window_5_std_1.25_num_add_dfs_2  99 non-null     float64\n",
      " 1   tcn_btc_lookback_15_window_5_std_1.25_num_add_dfs_2     99 non-null     float64\n",
      " 2   nbeats_btc_lookback_30_window_5_std_1.25_num_add_dfs_2  99 non-null     float64\n",
      " 3   tcn_btc_lookback_30_window_5_std_1.25_num_add_dfs_2     99 non-null     float64\n",
      " 4   nbeats_btc_lookback_45_window_5_std_1.25_num_add_dfs_2  99 non-null     float64\n",
      " 5   tcn_btc_lookback_45_window_5_std_1.25_num_add_dfs_2     99 non-null     float64\n",
      " 6   test_model_lookback_1                                   99 non-null     float64\n",
      " 7   close                                                   99 non-null     float64\n",
      " 8   day                                                     99 non-null     int64  \n",
      " 9   month                                                   99 non-null     int64  \n",
      " 10  quarter                                                 99 non-null     int64  \n",
      "dtypes: float64(8), int64(3)\n",
      "memory usage: 9.3 KB\n"
     ]
    }
   ],
   "source": [
    "merged_df_test.info()"
   ]
  },
  {
   "cell_type": "code",
   "execution_count": 694,
   "id": "9339c080-6204-42ae-9312-b9e753a63cf6",
   "metadata": {},
   "outputs": [
    {
     "data": {
      "text/html": [
       "<div>\n",
       "<style scoped>\n",
       "    .dataframe tbody tr th:only-of-type {\n",
       "        vertical-align: middle;\n",
       "    }\n",
       "\n",
       "    .dataframe tbody tr th {\n",
       "        vertical-align: top;\n",
       "    }\n",
       "\n",
       "    .dataframe thead th {\n",
       "        text-align: right;\n",
       "    }\n",
       "</style>\n",
       "<table border=\"1\" class=\"dataframe\">\n",
       "  <thead>\n",
       "    <tr style=\"text-align: right;\">\n",
       "      <th></th>\n",
       "      <th>nbeats_btc_lookback_15_window_5_std_1.25_num_add_dfs_2</th>\n",
       "      <th>tcn_btc_lookback_15_window_5_std_1.25_num_add_dfs_2</th>\n",
       "      <th>nbeats_btc_lookback_30_window_5_std_1.25_num_add_dfs_2</th>\n",
       "      <th>tcn_btc_lookback_30_window_5_std_1.25_num_add_dfs_2</th>\n",
       "      <th>nbeats_btc_lookback_45_window_5_std_1.25_num_add_dfs_2</th>\n",
       "      <th>tcn_btc_lookback_45_window_5_std_1.25_num_add_dfs_2</th>\n",
       "      <th>test_model_lookback_1</th>\n",
       "      <th>day</th>\n",
       "      <th>month</th>\n",
       "      <th>quarter</th>\n",
       "    </tr>\n",
       "  </thead>\n",
       "  <tbody>\n",
       "    <tr>\n",
       "      <th>0</th>\n",
       "      <td>4752.149527</td>\n",
       "      <td>253.537135</td>\n",
       "      <td>4730.976374</td>\n",
       "      <td>654.310204</td>\n",
       "      <td>3469.734359</td>\n",
       "      <td>795.201430</td>\n",
       "      <td>0.0</td>\n",
       "      <td>9</td>\n",
       "      <td>4</td>\n",
       "      <td>2</td>\n",
       "    </tr>\n",
       "    <tr>\n",
       "      <th>1</th>\n",
       "      <td>4546.248123</td>\n",
       "      <td>407.206977</td>\n",
       "      <td>4373.560445</td>\n",
       "      <td>255.627627</td>\n",
       "      <td>4437.900633</td>\n",
       "      <td>1413.509939</td>\n",
       "      <td>0.0</td>\n",
       "      <td>10</td>\n",
       "      <td>4</td>\n",
       "      <td>2</td>\n",
       "    </tr>\n",
       "    <tr>\n",
       "      <th>2</th>\n",
       "      <td>4550.998590</td>\n",
       "      <td>726.168584</td>\n",
       "      <td>4045.591506</td>\n",
       "      <td>1861.981408</td>\n",
       "      <td>4012.011230</td>\n",
       "      <td>523.093010</td>\n",
       "      <td>0.0</td>\n",
       "      <td>11</td>\n",
       "      <td>4</td>\n",
       "      <td>2</td>\n",
       "    </tr>\n",
       "    <tr>\n",
       "      <th>3</th>\n",
       "      <td>5003.264197</td>\n",
       "      <td>353.606543</td>\n",
       "      <td>4819.668698</td>\n",
       "      <td>817.215937</td>\n",
       "      <td>3977.238773</td>\n",
       "      <td>553.057301</td>\n",
       "      <td>0.0</td>\n",
       "      <td>12</td>\n",
       "      <td>4</td>\n",
       "      <td>2</td>\n",
       "    </tr>\n",
       "    <tr>\n",
       "      <th>4</th>\n",
       "      <td>5184.268504</td>\n",
       "      <td>197.768508</td>\n",
       "      <td>5123.185573</td>\n",
       "      <td>1596.333494</td>\n",
       "      <td>4093.602236</td>\n",
       "      <td>920.106602</td>\n",
       "      <td>0.0</td>\n",
       "      <td>13</td>\n",
       "      <td>4</td>\n",
       "      <td>2</td>\n",
       "    </tr>\n",
       "    <tr>\n",
       "      <th>...</th>\n",
       "      <td>...</td>\n",
       "      <td>...</td>\n",
       "      <td>...</td>\n",
       "      <td>...</td>\n",
       "      <td>...</td>\n",
       "      <td>...</td>\n",
       "      <td>...</td>\n",
       "      <td>...</td>\n",
       "      <td>...</td>\n",
       "      <td>...</td>\n",
       "    </tr>\n",
       "    <tr>\n",
       "      <th>387</th>\n",
       "      <td>7136.626083</td>\n",
       "      <td>6786.350395</td>\n",
       "      <td>6859.325242</td>\n",
       "      <td>6887.064658</td>\n",
       "      <td>7051.176119</td>\n",
       "      <td>6796.392386</td>\n",
       "      <td>0.0</td>\n",
       "      <td>30</td>\n",
       "      <td>4</td>\n",
       "      <td>2</td>\n",
       "    </tr>\n",
       "    <tr>\n",
       "      <th>388</th>\n",
       "      <td>7391.039505</td>\n",
       "      <td>6869.404160</td>\n",
       "      <td>7604.083136</td>\n",
       "      <td>6825.547912</td>\n",
       "      <td>6771.428244</td>\n",
       "      <td>6503.281720</td>\n",
       "      <td>0.0</td>\n",
       "      <td>1</td>\n",
       "      <td>5</td>\n",
       "      <td>2</td>\n",
       "    </tr>\n",
       "    <tr>\n",
       "      <th>389</th>\n",
       "      <td>7025.184867</td>\n",
       "      <td>6636.068825</td>\n",
       "      <td>6968.908588</td>\n",
       "      <td>6761.649883</td>\n",
       "      <td>7198.364165</td>\n",
       "      <td>7073.219600</td>\n",
       "      <td>0.0</td>\n",
       "      <td>2</td>\n",
       "      <td>5</td>\n",
       "      <td>2</td>\n",
       "    </tr>\n",
       "    <tr>\n",
       "      <th>390</th>\n",
       "      <td>7224.796220</td>\n",
       "      <td>7262.025130</td>\n",
       "      <td>6896.162267</td>\n",
       "      <td>7100.355215</td>\n",
       "      <td>7458.973494</td>\n",
       "      <td>6665.303715</td>\n",
       "      <td>0.0</td>\n",
       "      <td>3</td>\n",
       "      <td>5</td>\n",
       "      <td>2</td>\n",
       "    </tr>\n",
       "    <tr>\n",
       "      <th>391</th>\n",
       "      <td>7559.097713</td>\n",
       "      <td>7523.751779</td>\n",
       "      <td>7478.335877</td>\n",
       "      <td>6821.187548</td>\n",
       "      <td>7198.979969</td>\n",
       "      <td>6643.225650</td>\n",
       "      <td>0.0</td>\n",
       "      <td>4</td>\n",
       "      <td>5</td>\n",
       "      <td>2</td>\n",
       "    </tr>\n",
       "  </tbody>\n",
       "</table>\n",
       "<p>392 rows × 10 columns</p>\n",
       "</div>"
      ],
      "text/plain": [
       "     nbeats_btc_lookback_15_window_5_std_1.25_num_add_dfs_2  \\\n",
       "0                                          4752.149527        \n",
       "1                                          4546.248123        \n",
       "2                                          4550.998590        \n",
       "3                                          5003.264197        \n",
       "4                                          5184.268504        \n",
       "..                                                 ...        \n",
       "387                                        7136.626083        \n",
       "388                                        7391.039505        \n",
       "389                                        7025.184867        \n",
       "390                                        7224.796220        \n",
       "391                                        7559.097713        \n",
       "\n",
       "     tcn_btc_lookback_15_window_5_std_1.25_num_add_dfs_2  \\\n",
       "0                                           253.537135     \n",
       "1                                           407.206977     \n",
       "2                                           726.168584     \n",
       "3                                           353.606543     \n",
       "4                                           197.768508     \n",
       "..                                                 ...     \n",
       "387                                        6786.350395     \n",
       "388                                        6869.404160     \n",
       "389                                        6636.068825     \n",
       "390                                        7262.025130     \n",
       "391                                        7523.751779     \n",
       "\n",
       "     nbeats_btc_lookback_30_window_5_std_1.25_num_add_dfs_2  \\\n",
       "0                                          4730.976374        \n",
       "1                                          4373.560445        \n",
       "2                                          4045.591506        \n",
       "3                                          4819.668698        \n",
       "4                                          5123.185573        \n",
       "..                                                 ...        \n",
       "387                                        6859.325242        \n",
       "388                                        7604.083136        \n",
       "389                                        6968.908588        \n",
       "390                                        6896.162267        \n",
       "391                                        7478.335877        \n",
       "\n",
       "     tcn_btc_lookback_30_window_5_std_1.25_num_add_dfs_2  \\\n",
       "0                                           654.310204     \n",
       "1                                           255.627627     \n",
       "2                                          1861.981408     \n",
       "3                                           817.215937     \n",
       "4                                          1596.333494     \n",
       "..                                                 ...     \n",
       "387                                        6887.064658     \n",
       "388                                        6825.547912     \n",
       "389                                        6761.649883     \n",
       "390                                        7100.355215     \n",
       "391                                        6821.187548     \n",
       "\n",
       "     nbeats_btc_lookback_45_window_5_std_1.25_num_add_dfs_2  \\\n",
       "0                                          3469.734359        \n",
       "1                                          4437.900633        \n",
       "2                                          4012.011230        \n",
       "3                                          3977.238773        \n",
       "4                                          4093.602236        \n",
       "..                                                 ...        \n",
       "387                                        7051.176119        \n",
       "388                                        6771.428244        \n",
       "389                                        7198.364165        \n",
       "390                                        7458.973494        \n",
       "391                                        7198.979969        \n",
       "\n",
       "     tcn_btc_lookback_45_window_5_std_1.25_num_add_dfs_2  \\\n",
       "0                                           795.201430     \n",
       "1                                          1413.509939     \n",
       "2                                           523.093010     \n",
       "3                                           553.057301     \n",
       "4                                           920.106602     \n",
       "..                                                 ...     \n",
       "387                                        6796.392386     \n",
       "388                                        6503.281720     \n",
       "389                                        7073.219600     \n",
       "390                                        6665.303715     \n",
       "391                                        6643.225650     \n",
       "\n",
       "     test_model_lookback_1  day  month  quarter  \n",
       "0                      0.0    9      4        2  \n",
       "1                      0.0   10      4        2  \n",
       "2                      0.0   11      4        2  \n",
       "3                      0.0   12      4        2  \n",
       "4                      0.0   13      4        2  \n",
       "..                     ...  ...    ...      ...  \n",
       "387                    0.0   30      4        2  \n",
       "388                    0.0    1      5        2  \n",
       "389                    0.0    2      5        2  \n",
       "390                    0.0    3      5        2  \n",
       "391                    0.0    4      5        2  \n",
       "\n",
       "[392 rows x 10 columns]"
      ]
     },
     "execution_count": 694,
     "metadata": {},
     "output_type": "execute_result"
    }
   ],
   "source": [
    "merged_df_train.iloc[:, ~merged_df.columns.isin(['close'])]"
   ]
  },
  {
   "cell_type": "code",
   "execution_count": 695,
   "id": "8eb6aff4-9e55-413c-9186-3f073340c62e",
   "metadata": {},
   "outputs": [],
   "source": [
    "\n",
    "\n",
    "merged_df_x_train, merged_df_y_train = merged_df_train.iloc[:, ~merged_df_train.columns.isin(['close'])], merged_df_train.iloc[:, merged_df_train.columns.isin(['close'])]\n",
    "merged_df_x_test, merged_df_y_test =  merged_df_test.iloc[:, ~merged_df_test.columns.isin(['close'])], merged_df_test.iloc[:, merged_df_test.columns.isin(['close'])]\n",
    "                                                                                                                                                 "
   ]
  },
  {
   "cell_type": "code",
   "execution_count": 696,
   "id": "f57567c1-e472-4bb5-b72b-d05cd7faddb4",
   "metadata": {},
   "outputs": [
    {
     "data": {
      "text/html": [
       "<div>\n",
       "<style scoped>\n",
       "    .dataframe tbody tr th:only-of-type {\n",
       "        vertical-align: middle;\n",
       "    }\n",
       "\n",
       "    .dataframe tbody tr th {\n",
       "        vertical-align: top;\n",
       "    }\n",
       "\n",
       "    .dataframe thead th {\n",
       "        text-align: right;\n",
       "    }\n",
       "</style>\n",
       "<table border=\"1\" class=\"dataframe\">\n",
       "  <thead>\n",
       "    <tr style=\"text-align: right;\">\n",
       "      <th></th>\n",
       "      <th>nbeats_btc_lookback_15_window_5_std_1.25_num_add_dfs_2</th>\n",
       "      <th>tcn_btc_lookback_15_window_5_std_1.25_num_add_dfs_2</th>\n",
       "      <th>nbeats_btc_lookback_30_window_5_std_1.25_num_add_dfs_2</th>\n",
       "      <th>tcn_btc_lookback_30_window_5_std_1.25_num_add_dfs_2</th>\n",
       "      <th>nbeats_btc_lookback_45_window_5_std_1.25_num_add_dfs_2</th>\n",
       "      <th>tcn_btc_lookback_45_window_5_std_1.25_num_add_dfs_2</th>\n",
       "      <th>test_model_lookback_1</th>\n",
       "      <th>day</th>\n",
       "      <th>month</th>\n",
       "      <th>quarter</th>\n",
       "    </tr>\n",
       "  </thead>\n",
       "  <tbody>\n",
       "    <tr>\n",
       "      <th>0</th>\n",
       "      <td>4752.149527</td>\n",
       "      <td>253.537135</td>\n",
       "      <td>4730.976374</td>\n",
       "      <td>654.310204</td>\n",
       "      <td>3469.734359</td>\n",
       "      <td>795.201430</td>\n",
       "      <td>0.0</td>\n",
       "      <td>9</td>\n",
       "      <td>4</td>\n",
       "      <td>2</td>\n",
       "    </tr>\n",
       "    <tr>\n",
       "      <th>1</th>\n",
       "      <td>4546.248123</td>\n",
       "      <td>407.206977</td>\n",
       "      <td>4373.560445</td>\n",
       "      <td>255.627627</td>\n",
       "      <td>4437.900633</td>\n",
       "      <td>1413.509939</td>\n",
       "      <td>0.0</td>\n",
       "      <td>10</td>\n",
       "      <td>4</td>\n",
       "      <td>2</td>\n",
       "    </tr>\n",
       "    <tr>\n",
       "      <th>2</th>\n",
       "      <td>4550.998590</td>\n",
       "      <td>726.168584</td>\n",
       "      <td>4045.591506</td>\n",
       "      <td>1861.981408</td>\n",
       "      <td>4012.011230</td>\n",
       "      <td>523.093010</td>\n",
       "      <td>0.0</td>\n",
       "      <td>11</td>\n",
       "      <td>4</td>\n",
       "      <td>2</td>\n",
       "    </tr>\n",
       "    <tr>\n",
       "      <th>3</th>\n",
       "      <td>5003.264197</td>\n",
       "      <td>353.606543</td>\n",
       "      <td>4819.668698</td>\n",
       "      <td>817.215937</td>\n",
       "      <td>3977.238773</td>\n",
       "      <td>553.057301</td>\n",
       "      <td>0.0</td>\n",
       "      <td>12</td>\n",
       "      <td>4</td>\n",
       "      <td>2</td>\n",
       "    </tr>\n",
       "    <tr>\n",
       "      <th>4</th>\n",
       "      <td>5184.268504</td>\n",
       "      <td>197.768508</td>\n",
       "      <td>5123.185573</td>\n",
       "      <td>1596.333494</td>\n",
       "      <td>4093.602236</td>\n",
       "      <td>920.106602</td>\n",
       "      <td>0.0</td>\n",
       "      <td>13</td>\n",
       "      <td>4</td>\n",
       "      <td>2</td>\n",
       "    </tr>\n",
       "    <tr>\n",
       "      <th>...</th>\n",
       "      <td>...</td>\n",
       "      <td>...</td>\n",
       "      <td>...</td>\n",
       "      <td>...</td>\n",
       "      <td>...</td>\n",
       "      <td>...</td>\n",
       "      <td>...</td>\n",
       "      <td>...</td>\n",
       "      <td>...</td>\n",
       "      <td>...</td>\n",
       "    </tr>\n",
       "    <tr>\n",
       "      <th>387</th>\n",
       "      <td>7136.626083</td>\n",
       "      <td>6786.350395</td>\n",
       "      <td>6859.325242</td>\n",
       "      <td>6887.064658</td>\n",
       "      <td>7051.176119</td>\n",
       "      <td>6796.392386</td>\n",
       "      <td>0.0</td>\n",
       "      <td>30</td>\n",
       "      <td>4</td>\n",
       "      <td>2</td>\n",
       "    </tr>\n",
       "    <tr>\n",
       "      <th>388</th>\n",
       "      <td>7391.039505</td>\n",
       "      <td>6869.404160</td>\n",
       "      <td>7604.083136</td>\n",
       "      <td>6825.547912</td>\n",
       "      <td>6771.428244</td>\n",
       "      <td>6503.281720</td>\n",
       "      <td>0.0</td>\n",
       "      <td>1</td>\n",
       "      <td>5</td>\n",
       "      <td>2</td>\n",
       "    </tr>\n",
       "    <tr>\n",
       "      <th>389</th>\n",
       "      <td>7025.184867</td>\n",
       "      <td>6636.068825</td>\n",
       "      <td>6968.908588</td>\n",
       "      <td>6761.649883</td>\n",
       "      <td>7198.364165</td>\n",
       "      <td>7073.219600</td>\n",
       "      <td>0.0</td>\n",
       "      <td>2</td>\n",
       "      <td>5</td>\n",
       "      <td>2</td>\n",
       "    </tr>\n",
       "    <tr>\n",
       "      <th>390</th>\n",
       "      <td>7224.796220</td>\n",
       "      <td>7262.025130</td>\n",
       "      <td>6896.162267</td>\n",
       "      <td>7100.355215</td>\n",
       "      <td>7458.973494</td>\n",
       "      <td>6665.303715</td>\n",
       "      <td>0.0</td>\n",
       "      <td>3</td>\n",
       "      <td>5</td>\n",
       "      <td>2</td>\n",
       "    </tr>\n",
       "    <tr>\n",
       "      <th>391</th>\n",
       "      <td>7559.097713</td>\n",
       "      <td>7523.751779</td>\n",
       "      <td>7478.335877</td>\n",
       "      <td>6821.187548</td>\n",
       "      <td>7198.979969</td>\n",
       "      <td>6643.225650</td>\n",
       "      <td>0.0</td>\n",
       "      <td>4</td>\n",
       "      <td>5</td>\n",
       "      <td>2</td>\n",
       "    </tr>\n",
       "  </tbody>\n",
       "</table>\n",
       "<p>392 rows × 10 columns</p>\n",
       "</div>"
      ],
      "text/plain": [
       "     nbeats_btc_lookback_15_window_5_std_1.25_num_add_dfs_2  \\\n",
       "0                                          4752.149527        \n",
       "1                                          4546.248123        \n",
       "2                                          4550.998590        \n",
       "3                                          5003.264197        \n",
       "4                                          5184.268504        \n",
       "..                                                 ...        \n",
       "387                                        7136.626083        \n",
       "388                                        7391.039505        \n",
       "389                                        7025.184867        \n",
       "390                                        7224.796220        \n",
       "391                                        7559.097713        \n",
       "\n",
       "     tcn_btc_lookback_15_window_5_std_1.25_num_add_dfs_2  \\\n",
       "0                                           253.537135     \n",
       "1                                           407.206977     \n",
       "2                                           726.168584     \n",
       "3                                           353.606543     \n",
       "4                                           197.768508     \n",
       "..                                                 ...     \n",
       "387                                        6786.350395     \n",
       "388                                        6869.404160     \n",
       "389                                        6636.068825     \n",
       "390                                        7262.025130     \n",
       "391                                        7523.751779     \n",
       "\n",
       "     nbeats_btc_lookback_30_window_5_std_1.25_num_add_dfs_2  \\\n",
       "0                                          4730.976374        \n",
       "1                                          4373.560445        \n",
       "2                                          4045.591506        \n",
       "3                                          4819.668698        \n",
       "4                                          5123.185573        \n",
       "..                                                 ...        \n",
       "387                                        6859.325242        \n",
       "388                                        7604.083136        \n",
       "389                                        6968.908588        \n",
       "390                                        6896.162267        \n",
       "391                                        7478.335877        \n",
       "\n",
       "     tcn_btc_lookback_30_window_5_std_1.25_num_add_dfs_2  \\\n",
       "0                                           654.310204     \n",
       "1                                           255.627627     \n",
       "2                                          1861.981408     \n",
       "3                                           817.215937     \n",
       "4                                          1596.333494     \n",
       "..                                                 ...     \n",
       "387                                        6887.064658     \n",
       "388                                        6825.547912     \n",
       "389                                        6761.649883     \n",
       "390                                        7100.355215     \n",
       "391                                        6821.187548     \n",
       "\n",
       "     nbeats_btc_lookback_45_window_5_std_1.25_num_add_dfs_2  \\\n",
       "0                                          3469.734359        \n",
       "1                                          4437.900633        \n",
       "2                                          4012.011230        \n",
       "3                                          3977.238773        \n",
       "4                                          4093.602236        \n",
       "..                                                 ...        \n",
       "387                                        7051.176119        \n",
       "388                                        6771.428244        \n",
       "389                                        7198.364165        \n",
       "390                                        7458.973494        \n",
       "391                                        7198.979969        \n",
       "\n",
       "     tcn_btc_lookback_45_window_5_std_1.25_num_add_dfs_2  \\\n",
       "0                                           795.201430     \n",
       "1                                          1413.509939     \n",
       "2                                           523.093010     \n",
       "3                                           553.057301     \n",
       "4                                           920.106602     \n",
       "..                                                 ...     \n",
       "387                                        6796.392386     \n",
       "388                                        6503.281720     \n",
       "389                                        7073.219600     \n",
       "390                                        6665.303715     \n",
       "391                                        6643.225650     \n",
       "\n",
       "     test_model_lookback_1  day  month  quarter  \n",
       "0                      0.0    9      4        2  \n",
       "1                      0.0   10      4        2  \n",
       "2                      0.0   11      4        2  \n",
       "3                      0.0   12      4        2  \n",
       "4                      0.0   13      4        2  \n",
       "..                     ...  ...    ...      ...  \n",
       "387                    0.0   30      4        2  \n",
       "388                    0.0    1      5        2  \n",
       "389                    0.0    2      5        2  \n",
       "390                    0.0    3      5        2  \n",
       "391                    0.0    4      5        2  \n",
       "\n",
       "[392 rows x 10 columns]"
      ]
     },
     "execution_count": 696,
     "metadata": {},
     "output_type": "execute_result"
    }
   ],
   "source": [
    "merged_df_x_train"
   ]
  },
  {
   "cell_type": "code",
   "execution_count": 697,
   "id": "85857e04-e2d6-40cd-a01c-3e7d13056dfa",
   "metadata": {},
   "outputs": [
    {
     "data": {
      "text/html": [
       "<div>\n",
       "<style scoped>\n",
       "    .dataframe tbody tr th:only-of-type {\n",
       "        vertical-align: middle;\n",
       "    }\n",
       "\n",
       "    .dataframe tbody tr th {\n",
       "        vertical-align: top;\n",
       "    }\n",
       "\n",
       "    .dataframe thead th {\n",
       "        text-align: right;\n",
       "    }\n",
       "</style>\n",
       "<table border=\"1\" class=\"dataframe\">\n",
       "  <thead>\n",
       "    <tr style=\"text-align: right;\">\n",
       "      <th></th>\n",
       "      <th>close</th>\n",
       "    </tr>\n",
       "  </thead>\n",
       "  <tbody>\n",
       "    <tr>\n",
       "      <th>0</th>\n",
       "      <td>5204.96</td>\n",
       "    </tr>\n",
       "    <tr>\n",
       "      <th>1</th>\n",
       "      <td>5324.55</td>\n",
       "    </tr>\n",
       "    <tr>\n",
       "      <th>2</th>\n",
       "      <td>5064.49</td>\n",
       "    </tr>\n",
       "    <tr>\n",
       "      <th>3</th>\n",
       "      <td>5089.54</td>\n",
       "    </tr>\n",
       "    <tr>\n",
       "      <th>4</th>\n",
       "      <td>5096.59</td>\n",
       "    </tr>\n",
       "    <tr>\n",
       "      <th>...</th>\n",
       "      <td>...</td>\n",
       "    </tr>\n",
       "    <tr>\n",
       "      <th>387</th>\n",
       "      <td>8658.55</td>\n",
       "    </tr>\n",
       "    <tr>\n",
       "      <th>388</th>\n",
       "      <td>8864.77</td>\n",
       "    </tr>\n",
       "    <tr>\n",
       "      <th>389</th>\n",
       "      <td>8988.60</td>\n",
       "    </tr>\n",
       "    <tr>\n",
       "      <th>390</th>\n",
       "      <td>8897.47</td>\n",
       "    </tr>\n",
       "    <tr>\n",
       "      <th>391</th>\n",
       "      <td>8912.65</td>\n",
       "    </tr>\n",
       "  </tbody>\n",
       "</table>\n",
       "<p>392 rows × 1 columns</p>\n",
       "</div>"
      ],
      "text/plain": [
       "       close\n",
       "0    5204.96\n",
       "1    5324.55\n",
       "2    5064.49\n",
       "3    5089.54\n",
       "4    5096.59\n",
       "..       ...\n",
       "387  8658.55\n",
       "388  8864.77\n",
       "389  8988.60\n",
       "390  8897.47\n",
       "391  8912.65\n",
       "\n",
       "[392 rows x 1 columns]"
      ]
     },
     "execution_count": 697,
     "metadata": {},
     "output_type": "execute_result"
    }
   ],
   "source": [
    "merged_df_y_train"
   ]
  },
  {
   "cell_type": "markdown",
   "id": "9122c8a9-4101-40fa-a531-ee713cf8421f",
   "metadata": {},
   "source": [
    "### performance, rmse , on average prediction"
   ]
  },
  {
   "cell_type": "code",
   "execution_count": 698,
   "id": "3d85ce23-57d0-414e-87fa-73b948ea7621",
   "metadata": {},
   "outputs": [],
   "source": [
    "average_predictions_train = np.mean(merged_df_x_train.iloc[:,:6], axis=1)\n",
    "average_predictions_test = np.mean(merged_df_x_test.iloc[:,:6], axis=1)"
   ]
  },
  {
   "cell_type": "code",
   "execution_count": 699,
   "id": "8e756248-7ab4-48ca-b9e0-f75ea4b44028",
   "metadata": {},
   "outputs": [
    {
     "data": {
      "text/plain": [
       "0    2442.651505\n",
       "1    2572.342291\n",
       "2    2619.974055\n",
       "3    2587.341908\n",
       "4    2852.544153\n",
       "5    2721.518844\n",
       "6    3153.856190\n",
       "7    2727.367343\n",
       "8    3387.347636\n",
       "9    2872.964842\n",
       "dtype: float64"
      ]
     },
     "execution_count": 699,
     "metadata": {},
     "output_type": "execute_result"
    }
   ],
   "source": [
    "average_predictions_train[:10]"
   ]
  },
  {
   "cell_type": "code",
   "execution_count": 700,
   "id": "8a41e34c-142e-4dd0-8965-2cb79b7617a9",
   "metadata": {},
   "outputs": [
    {
     "data": {
      "text/html": [
       "<div>\n",
       "<style scoped>\n",
       "    .dataframe tbody tr th:only-of-type {\n",
       "        vertical-align: middle;\n",
       "    }\n",
       "\n",
       "    .dataframe tbody tr th {\n",
       "        vertical-align: top;\n",
       "    }\n",
       "\n",
       "    .dataframe thead th {\n",
       "        text-align: right;\n",
       "    }\n",
       "</style>\n",
       "<table border=\"1\" class=\"dataframe\">\n",
       "  <thead>\n",
       "    <tr style=\"text-align: right;\">\n",
       "      <th></th>\n",
       "      <th>close</th>\n",
       "    </tr>\n",
       "  </thead>\n",
       "  <tbody>\n",
       "    <tr>\n",
       "      <th>0</th>\n",
       "      <td>5204.96</td>\n",
       "    </tr>\n",
       "    <tr>\n",
       "      <th>1</th>\n",
       "      <td>5324.55</td>\n",
       "    </tr>\n",
       "    <tr>\n",
       "      <th>2</th>\n",
       "      <td>5064.49</td>\n",
       "    </tr>\n",
       "    <tr>\n",
       "      <th>3</th>\n",
       "      <td>5089.54</td>\n",
       "    </tr>\n",
       "    <tr>\n",
       "      <th>4</th>\n",
       "      <td>5096.59</td>\n",
       "    </tr>\n",
       "    <tr>\n",
       "      <th>5</th>\n",
       "      <td>5167.72</td>\n",
       "    </tr>\n",
       "    <tr>\n",
       "      <th>6</th>\n",
       "      <td>5067.11</td>\n",
       "    </tr>\n",
       "    <tr>\n",
       "      <th>7</th>\n",
       "      <td>5235.56</td>\n",
       "    </tr>\n",
       "    <tr>\n",
       "      <th>8</th>\n",
       "      <td>5251.94</td>\n",
       "    </tr>\n",
       "    <tr>\n",
       "      <th>9</th>\n",
       "      <td>5298.39</td>\n",
       "    </tr>\n",
       "  </tbody>\n",
       "</table>\n",
       "</div>"
      ],
      "text/plain": [
       "     close\n",
       "0  5204.96\n",
       "1  5324.55\n",
       "2  5064.49\n",
       "3  5089.54\n",
       "4  5096.59\n",
       "5  5167.72\n",
       "6  5067.11\n",
       "7  5235.56\n",
       "8  5251.94\n",
       "9  5298.39"
      ]
     },
     "execution_count": 700,
     "metadata": {},
     "output_type": "execute_result"
    }
   ],
   "source": [
    "merged_df_y_train.head(10)"
   ]
  },
  {
   "cell_type": "code",
   "execution_count": 701,
   "id": "e58203af-dd8b-404f-9008-a32f4281770c",
   "metadata": {},
   "outputs": [],
   "source": [
    "average_rmse_train = sqrt(mean_squared_error(average_predictions_train, merged_df_y_train))\n",
    "average_rmse_test = sqrt(mean_squared_error(average_predictions_test, merged_df_y_test))"
   ]
  },
  {
   "cell_type": "code",
   "execution_count": 702,
   "id": "0d0894d9-f3dd-4f43-b03b-c13e4864bb4d",
   "metadata": {},
   "outputs": [
    {
     "name": "stdout",
     "output_type": "stream",
     "text": [
      " The average training rmse is 1981.9978035024974\n",
      " The average testing rmse is 916.6777760514856\n"
     ]
    }
   ],
   "source": [
    "print(f\" The average training rmse is {average_rmse_train}\")\n",
    "print(f\" The average testing rmse is {average_rmse_test}\")"
   ]
  },
  {
   "cell_type": "code",
   "execution_count": null,
   "id": "8d09d361-24a5-4280-ad77-c4177aeef36c",
   "metadata": {},
   "outputs": [],
   "source": []
  },
  {
   "cell_type": "markdown",
   "id": "b728d4cc-8101-4025-8822-b1cadfed4c9b",
   "metadata": {},
   "source": [
    "# train linear regression on ALL predictions"
   ]
  },
  {
   "cell_type": "code",
   "execution_count": 703,
   "id": "ff1fa2c0-a41e-4829-aba7-85d71553e6db",
   "metadata": {},
   "outputs": [],
   "source": [
    "lregr = LinearRegression()"
   ]
  },
  {
   "cell_type": "code",
   "execution_count": 704,
   "id": "4d99c17f-43a3-4961-b2aa-3f8b13d78237",
   "metadata": {},
   "outputs": [
    {
     "data": {
      "text/plain": [
       "LinearRegression()"
      ]
     },
     "execution_count": 704,
     "metadata": {},
     "output_type": "execute_result"
    }
   ],
   "source": [
    "lregr.fit(merged_df_x_train, merged_df_y_train)"
   ]
  },
  {
   "cell_type": "code",
   "execution_count": 705,
   "id": "a7d82542-2910-4a8d-890c-0df31a31edbf",
   "metadata": {},
   "outputs": [],
   "source": [
    "train_predictions_lrgr = lregr.predict(merged_df_x_train)"
   ]
  },
  {
   "cell_type": "code",
   "execution_count": 706,
   "id": "e97bb2d0-28c8-43d5-a5e3-d22f32e8a6a6",
   "metadata": {},
   "outputs": [],
   "source": [
    "test_predictions_lrgr = lregr.predict(merged_df_x_test)"
   ]
  },
  {
   "cell_type": "code",
   "execution_count": 707,
   "id": "d065a73b-dede-4a2d-84e1-7ed66388d11b",
   "metadata": {},
   "outputs": [
    {
     "data": {
      "text/plain": [
       "array([[7568.55224316],\n",
       "       [7584.00854377],\n",
       "       [7948.46186642],\n",
       "       [8404.1591101 ],\n",
       "       [8279.63414651],\n",
       "       [8358.30072111],\n",
       "       [8237.55613694],\n",
       "       [8390.22459791],\n",
       "       [8457.68203229],\n",
       "       [8528.82972838],\n",
       "       [8650.65196811],\n",
       "       [8833.13420606],\n",
       "       [8920.31804059],\n",
       "       [8862.30674872],\n",
       "       [8920.60043074]])"
      ]
     },
     "execution_count": 707,
     "metadata": {},
     "output_type": "execute_result"
    }
   ],
   "source": [
    "test_predictions_lrgr[:15]\n"
   ]
  },
  {
   "cell_type": "code",
   "execution_count": 708,
   "id": "a7277898-427a-480c-aa3d-9a5f7ec6977a",
   "metadata": {},
   "outputs": [
    {
     "data": {
      "text/html": [
       "<div>\n",
       "<style scoped>\n",
       "    .dataframe tbody tr th:only-of-type {\n",
       "        vertical-align: middle;\n",
       "    }\n",
       "\n",
       "    .dataframe tbody tr th {\n",
       "        vertical-align: top;\n",
       "    }\n",
       "\n",
       "    .dataframe thead th {\n",
       "        text-align: right;\n",
       "    }\n",
       "</style>\n",
       "<table border=\"1\" class=\"dataframe\">\n",
       "  <thead>\n",
       "    <tr style=\"text-align: right;\">\n",
       "      <th></th>\n",
       "      <th>close</th>\n",
       "    </tr>\n",
       "  </thead>\n",
       "  <tbody>\n",
       "    <tr>\n",
       "      <th>392</th>\n",
       "      <td>9003.07</td>\n",
       "    </tr>\n",
       "    <tr>\n",
       "      <th>393</th>\n",
       "      <td>9268.76</td>\n",
       "    </tr>\n",
       "    <tr>\n",
       "      <th>394</th>\n",
       "      <td>9951.52</td>\n",
       "    </tr>\n",
       "    <tr>\n",
       "      <th>395</th>\n",
       "      <td>9842.67</td>\n",
       "    </tr>\n",
       "    <tr>\n",
       "      <th>396</th>\n",
       "      <td>9593.90</td>\n",
       "    </tr>\n",
       "    <tr>\n",
       "      <th>397</th>\n",
       "      <td>8756.43</td>\n",
       "    </tr>\n",
       "    <tr>\n",
       "      <th>398</th>\n",
       "      <td>8601.80</td>\n",
       "    </tr>\n",
       "    <tr>\n",
       "      <th>399</th>\n",
       "      <td>8804.48</td>\n",
       "    </tr>\n",
       "    <tr>\n",
       "      <th>400</th>\n",
       "      <td>9269.99</td>\n",
       "    </tr>\n",
       "    <tr>\n",
       "      <th>401</th>\n",
       "      <td>9733.72</td>\n",
       "    </tr>\n",
       "    <tr>\n",
       "      <th>402</th>\n",
       "      <td>9328.20</td>\n",
       "    </tr>\n",
       "    <tr>\n",
       "      <th>403</th>\n",
       "      <td>9377.01</td>\n",
       "    </tr>\n",
       "    <tr>\n",
       "      <th>404</th>\n",
       "      <td>9670.74</td>\n",
       "    </tr>\n",
       "    <tr>\n",
       "      <th>405</th>\n",
       "      <td>9726.57</td>\n",
       "    </tr>\n",
       "    <tr>\n",
       "      <th>406</th>\n",
       "      <td>9729.04</td>\n",
       "    </tr>\n",
       "  </tbody>\n",
       "</table>\n",
       "</div>"
      ],
      "text/plain": [
       "       close\n",
       "392  9003.07\n",
       "393  9268.76\n",
       "394  9951.52\n",
       "395  9842.67\n",
       "396  9593.90\n",
       "397  8756.43\n",
       "398  8601.80\n",
       "399  8804.48\n",
       "400  9269.99\n",
       "401  9733.72\n",
       "402  9328.20\n",
       "403  9377.01\n",
       "404  9670.74\n",
       "405  9726.57\n",
       "406  9729.04"
      ]
     },
     "execution_count": 708,
     "metadata": {},
     "output_type": "execute_result"
    }
   ],
   "source": [
    "merged_df_y_test.head(15)"
   ]
  },
  {
   "cell_type": "code",
   "execution_count": 709,
   "id": "32b1b1b9-dce5-4169-9801-13cdb5849c45",
   "metadata": {},
   "outputs": [],
   "source": [
    "average_rmse_train_lrgr = sqrt(mean_squared_error(train_predictions_lrgr, merged_df_y_train))\n",
    "average_rmse_test_lrgr = sqrt(mean_squared_error(test_predictions_lrgr, merged_df_y_test))"
   ]
  },
  {
   "cell_type": "code",
   "execution_count": 710,
   "id": "41d359ad-313f-4168-8ead-9a192c5335fd",
   "metadata": {},
   "outputs": [
    {
     "name": "stdout",
     "output_type": "stream",
     "text": [
      " The average training rmse with linear stacking is 999.4434238577142\n",
      " The average testing rmse with linear stacking is 1052.4786798010348\n"
     ]
    }
   ],
   "source": [
    "print(f\" The average training rmse with linear stacking is {average_rmse_train_lrgr}\")\n",
    "print(f\" The average testing rmse with linear stacking is {average_rmse_test_lrgr}\")"
   ]
  },
  {
   "cell_type": "markdown",
   "id": "f1629c3b-7055-4bbb-9986-57291b64bb79",
   "metadata": {},
   "source": [
    "\n",
    "\n",
    "#### feature importance"
   ]
  },
  {
   "cell_type": "code",
   "execution_count": 711,
   "id": "a7adb435-ce80-420f-9a38-e946fd60d78d",
   "metadata": {},
   "outputs": [
    {
     "data": {
      "text/plain": [
       "array([ 3.20343697e-01,  1.32943274e-02,  2.87279434e-01,  3.63110406e-02,\n",
       "        3.79222840e-02, -2.03051844e-02, -5.68434189e-14, -1.03310970e+01,\n",
       "       -1.25992016e+02,  2.53243573e+02])"
      ]
     },
     "execution_count": 711,
     "metadata": {},
     "output_type": "execute_result"
    }
   ],
   "source": [
    "lregr.coef_.ravel()"
   ]
  },
  {
   "cell_type": "code",
   "execution_count": 712,
   "id": "88355338-7291-4311-8299-d1e0b565ea4d",
   "metadata": {},
   "outputs": [
    {
     "data": {
      "text/plain": [
       "array([ 2.53243573e+02,  3.20343697e-01,  2.87279434e-01,  3.79222840e-02,\n",
       "        3.63110406e-02,  1.32943274e-02, -5.68434189e-14, -2.03051844e-02,\n",
       "       -1.03310970e+01, -1.25992016e+02])"
      ]
     },
     "execution_count": 712,
     "metadata": {},
     "output_type": "execute_result"
    }
   ],
   "source": [
    "lregr.coef_.ravel()[np.argsort(lregr.coef_.ravel())[::-1]]"
   ]
  },
  {
   "cell_type": "code",
   "execution_count": 713,
   "id": "d2526e02-6aca-4cce-a30e-ad662fc4f964",
   "metadata": {},
   "outputs": [
    {
     "data": {
      "text/plain": [
       "array([['month', 'day',\n",
       "        'tcn_btc_lookback_45_window_5_std_1.25_num_add_dfs_2',\n",
       "        'test_model_lookback_1',\n",
       "        'tcn_btc_lookback_15_window_5_std_1.25_num_add_dfs_2',\n",
       "        'tcn_btc_lookback_30_window_5_std_1.25_num_add_dfs_2',\n",
       "        'nbeats_btc_lookback_45_window_5_std_1.25_num_add_dfs_2',\n",
       "        'nbeats_btc_lookback_30_window_5_std_1.25_num_add_dfs_2',\n",
       "        'nbeats_btc_lookback_15_window_5_std_1.25_num_add_dfs_2',\n",
       "        'quarter']], dtype=object)"
      ]
     },
     "execution_count": 713,
     "metadata": {},
     "output_type": "execute_result"
    }
   ],
   "source": [
    "merged_df_x_train.columns[np.argsort(lregr.coef_)[::-1]]"
   ]
  },
  {
   "cell_type": "markdown",
   "id": "b0922be4-a921-44d1-9a34-bfb17cabebd9",
   "metadata": {},
   "source": [
    "## Test Random Forest"
   ]
  },
  {
   "cell_type": "code",
   "execution_count": 714,
   "id": "c07549e4-cd16-493e-9d7f-ca2a6ba7bfa2",
   "metadata": {},
   "outputs": [],
   "source": [
    "\n",
    "rf = RandomForestRegressor(n_estimators=500)"
   ]
  },
  {
   "cell_type": "code",
   "execution_count": 715,
   "id": "5108574f-0608-423f-8f26-94fffd4051e8",
   "metadata": {},
   "outputs": [
    {
     "name": "stderr",
     "output_type": "stream",
     "text": [
      "/var/folders/0r/jkhwtgvx0wb9vrk6xn4bmz2m0000gn/T/ipykernel_16211/1792525404.py:1: DataConversionWarning: A column-vector y was passed when a 1d array was expected. Please change the shape of y to (n_samples,), for example using ravel().\n",
      "  rf.fit(merged_df_x_train, merged_df_y_train)\n"
     ]
    },
    {
     "data": {
      "text/plain": [
       "RandomForestRegressor(n_estimators=500)"
      ]
     },
     "execution_count": 715,
     "metadata": {},
     "output_type": "execute_result"
    }
   ],
   "source": [
    "rf.fit(merged_df_x_train, merged_df_y_train)"
   ]
  },
  {
   "cell_type": "code",
   "execution_count": 716,
   "id": "50beb658-ece4-48dd-96d6-7477154623e0",
   "metadata": {},
   "outputs": [],
   "source": [
    "train_predictions_rf = rf.predict(merged_df_x_train)\n",
    "test_predictions_rf = rf.predict(merged_df_x_test)"
   ]
  },
  {
   "cell_type": "code",
   "execution_count": 717,
   "id": "7489ea00-70dc-4786-8dc3-e4b5b11de7f7",
   "metadata": {},
   "outputs": [
    {
     "data": {
      "text/plain": [
       "array([[8313.6438 ],\n",
       "       [8257.456  ],\n",
       "       [8385.04022],\n",
       "       [8162.89974],\n",
       "       [8319.19166],\n",
       "       [8136.29086],\n",
       "       [8305.28176],\n",
       "       [8215.0161 ],\n",
       "       [8003.75748],\n",
       "       [8484.74446],\n",
       "       [8049.43618],\n",
       "       [8546.12122],\n",
       "       [8687.3264 ],\n",
       "       [8214.67814],\n",
       "       [8572.97314]])"
      ]
     },
     "execution_count": 717,
     "metadata": {},
     "output_type": "execute_result"
    }
   ],
   "source": [
    "test_predictions_rf[:15].reshape(-1,1)\n"
   ]
  },
  {
   "cell_type": "code",
   "execution_count": 718,
   "id": "4a932895-1e4d-48a1-afe4-ba416191288c",
   "metadata": {},
   "outputs": [
    {
     "data": {
      "text/html": [
       "<div>\n",
       "<style scoped>\n",
       "    .dataframe tbody tr th:only-of-type {\n",
       "        vertical-align: middle;\n",
       "    }\n",
       "\n",
       "    .dataframe tbody tr th {\n",
       "        vertical-align: top;\n",
       "    }\n",
       "\n",
       "    .dataframe thead th {\n",
       "        text-align: right;\n",
       "    }\n",
       "</style>\n",
       "<table border=\"1\" class=\"dataframe\">\n",
       "  <thead>\n",
       "    <tr style=\"text-align: right;\">\n",
       "      <th></th>\n",
       "      <th>close</th>\n",
       "    </tr>\n",
       "  </thead>\n",
       "  <tbody>\n",
       "    <tr>\n",
       "      <th>392</th>\n",
       "      <td>9003.07</td>\n",
       "    </tr>\n",
       "    <tr>\n",
       "      <th>393</th>\n",
       "      <td>9268.76</td>\n",
       "    </tr>\n",
       "    <tr>\n",
       "      <th>394</th>\n",
       "      <td>9951.52</td>\n",
       "    </tr>\n",
       "    <tr>\n",
       "      <th>395</th>\n",
       "      <td>9842.67</td>\n",
       "    </tr>\n",
       "    <tr>\n",
       "      <th>396</th>\n",
       "      <td>9593.90</td>\n",
       "    </tr>\n",
       "    <tr>\n",
       "      <th>397</th>\n",
       "      <td>8756.43</td>\n",
       "    </tr>\n",
       "    <tr>\n",
       "      <th>398</th>\n",
       "      <td>8601.80</td>\n",
       "    </tr>\n",
       "    <tr>\n",
       "      <th>399</th>\n",
       "      <td>8804.48</td>\n",
       "    </tr>\n",
       "    <tr>\n",
       "      <th>400</th>\n",
       "      <td>9269.99</td>\n",
       "    </tr>\n",
       "    <tr>\n",
       "      <th>401</th>\n",
       "      <td>9733.72</td>\n",
       "    </tr>\n",
       "    <tr>\n",
       "      <th>402</th>\n",
       "      <td>9328.20</td>\n",
       "    </tr>\n",
       "    <tr>\n",
       "      <th>403</th>\n",
       "      <td>9377.01</td>\n",
       "    </tr>\n",
       "    <tr>\n",
       "      <th>404</th>\n",
       "      <td>9670.74</td>\n",
       "    </tr>\n",
       "    <tr>\n",
       "      <th>405</th>\n",
       "      <td>9726.57</td>\n",
       "    </tr>\n",
       "    <tr>\n",
       "      <th>406</th>\n",
       "      <td>9729.04</td>\n",
       "    </tr>\n",
       "  </tbody>\n",
       "</table>\n",
       "</div>"
      ],
      "text/plain": [
       "       close\n",
       "392  9003.07\n",
       "393  9268.76\n",
       "394  9951.52\n",
       "395  9842.67\n",
       "396  9593.90\n",
       "397  8756.43\n",
       "398  8601.80\n",
       "399  8804.48\n",
       "400  9269.99\n",
       "401  9733.72\n",
       "402  9328.20\n",
       "403  9377.01\n",
       "404  9670.74\n",
       "405  9726.57\n",
       "406  9729.04"
      ]
     },
     "execution_count": 718,
     "metadata": {},
     "output_type": "execute_result"
    }
   ],
   "source": [
    "merged_df_y_test.head(15)"
   ]
  },
  {
   "cell_type": "code",
   "execution_count": 719,
   "id": "66ec16f0-9fd7-4c17-a1db-a05253a52cc7",
   "metadata": {},
   "outputs": [],
   "source": [
    "average_rmse_train_rf = sqrt(mean_squared_error(train_predictions_rf, merged_df_y_train))\n",
    "average_rmse_test_rf = sqrt(mean_squared_error(test_predictions_rf, merged_df_y_test))"
   ]
  },
  {
   "cell_type": "code",
   "execution_count": 720,
   "id": "1a0424ea-40d4-427c-9da8-c735136624e9",
   "metadata": {},
   "outputs": [
    {
     "name": "stdout",
     "output_type": "stream",
     "text": [
      " The average training rmse with RF stacking is 244.6569081628251\n",
      " The average testing rmse with RF stacking is 1027.9417466305345\n"
     ]
    }
   ],
   "source": [
    "print(f\" The average training rmse with RF stacking is {average_rmse_train_rf}\")\n",
    "print(f\" The average testing rmse with RF stacking is {average_rmse_test_rf}\")"
   ]
  },
  {
   "cell_type": "code",
   "execution_count": 721,
   "id": "039cbba1-bd4e-4907-b290-a9394c9efb17",
   "metadata": {},
   "outputs": [
    {
     "data": {
      "text/plain": [
       "array([0.4434473 , 0.23379606, 0.08744208, 0.06693397, 0.05106938,\n",
       "       0.04309471, 0.02745418, 0.02565979, 0.02110252, 0.        ])"
      ]
     },
     "execution_count": 721,
     "metadata": {},
     "output_type": "execute_result"
    }
   ],
   "source": [
    "rf.feature_importances_.ravel()[np.argsort(rf.feature_importances_.ravel())[::-1]]"
   ]
  },
  {
   "cell_type": "code",
   "execution_count": 722,
   "id": "c3ba12c5-be1b-4878-91e6-51e343fb488a",
   "metadata": {},
   "outputs": [
    {
     "data": {
      "text/plain": [
       "Index(['nbeats_btc_lookback_15_window_5_std_1.25_num_add_dfs_2',\n",
       "       'nbeats_btc_lookback_30_window_5_std_1.25_num_add_dfs_2', 'month',\n",
       "       'day', 'nbeats_btc_lookback_45_window_5_std_1.25_num_add_dfs_2',\n",
       "       'tcn_btc_lookback_30_window_5_std_1.25_num_add_dfs_2',\n",
       "       'tcn_btc_lookback_15_window_5_std_1.25_num_add_dfs_2', 'quarter',\n",
       "       'tcn_btc_lookback_45_window_5_std_1.25_num_add_dfs_2',\n",
       "       'test_model_lookback_1'],\n",
       "      dtype='object')"
      ]
     },
     "execution_count": 722,
     "metadata": {},
     "output_type": "execute_result"
    }
   ],
   "source": [
    "merged_df_x_train.columns[np.argsort(rf.feature_importances_)[::-1]]"
   ]
  },
  {
   "cell_type": "markdown",
   "id": "89ae8ddf-a9f1-4123-84d1-0a710b491c42",
   "metadata": {},
   "source": [
    "## Test gradient boosting"
   ]
  },
  {
   "cell_type": "code",
   "execution_count": 723,
   "id": "b4ee83f6-f802-46eb-99bf-09d0535e5edc",
   "metadata": {},
   "outputs": [],
   "source": [
    "gb = GradientBoostingRegressor(n_estimators=200)"
   ]
  },
  {
   "cell_type": "code",
   "execution_count": 724,
   "id": "892a241a-1c11-4b86-a4bf-46fd90d416a4",
   "metadata": {},
   "outputs": [
    {
     "name": "stderr",
     "output_type": "stream",
     "text": [
      "/Users/jonathanhilgart/Library/Caches/pypoetry/virtualenvs/go-trader-aTWd7ZB6-py3.8/lib/python3.8/site-packages/sklearn/ensemble/_gb.py:494: DataConversionWarning: A column-vector y was passed when a 1d array was expected. Please change the shape of y to (n_samples, ), for example using ravel().\n",
      "  y = column_or_1d(y, warn=True)\n"
     ]
    },
    {
     "data": {
      "text/plain": [
       "GradientBoostingRegressor(n_estimators=200)"
      ]
     },
     "execution_count": 724,
     "metadata": {},
     "output_type": "execute_result"
    }
   ],
   "source": [
    "gb.fit(merged_df_x_train, merged_df_y_train)"
   ]
  },
  {
   "cell_type": "code",
   "execution_count": 725,
   "id": "77bac800-8b1b-4ad7-8010-016c01f811ed",
   "metadata": {},
   "outputs": [],
   "source": [
    "train_predictions_gb = gb.predict(merged_df_x_train)\n",
    "test_predictions_gb = gb.predict(merged_df_x_test)"
   ]
  },
  {
   "cell_type": "code",
   "execution_count": 726,
   "id": "74ee0cc0-4be6-4fa7-94a3-a377b7518406",
   "metadata": {},
   "outputs": [
    {
     "data": {
      "text/plain": [
       "array([[8302.28497628],\n",
       "       [8215.99940819],\n",
       "       [8126.40403291],\n",
       "       [8586.09231464],\n",
       "       [8122.61441211],\n",
       "       [8316.97581591],\n",
       "       [8047.35339621],\n",
       "       [8226.44290667],\n",
       "       [8149.45017645],\n",
       "       [8568.4965611 ],\n",
       "       [8152.50435377],\n",
       "       [8658.59481321],\n",
       "       [8356.86897605],\n",
       "       [8302.17441817],\n",
       "       [8418.46439233]])"
      ]
     },
     "execution_count": 726,
     "metadata": {},
     "output_type": "execute_result"
    }
   ],
   "source": [
    "test_predictions_gb[:15].reshape(-1,1)\n"
   ]
  },
  {
   "cell_type": "code",
   "execution_count": 727,
   "id": "fa6e09d7-f773-496e-a043-922acba978eb",
   "metadata": {},
   "outputs": [
    {
     "data": {
      "text/html": [
       "<div>\n",
       "<style scoped>\n",
       "    .dataframe tbody tr th:only-of-type {\n",
       "        vertical-align: middle;\n",
       "    }\n",
       "\n",
       "    .dataframe tbody tr th {\n",
       "        vertical-align: top;\n",
       "    }\n",
       "\n",
       "    .dataframe thead th {\n",
       "        text-align: right;\n",
       "    }\n",
       "</style>\n",
       "<table border=\"1\" class=\"dataframe\">\n",
       "  <thead>\n",
       "    <tr style=\"text-align: right;\">\n",
       "      <th></th>\n",
       "      <th>close</th>\n",
       "    </tr>\n",
       "  </thead>\n",
       "  <tbody>\n",
       "    <tr>\n",
       "      <th>392</th>\n",
       "      <td>9003.07</td>\n",
       "    </tr>\n",
       "    <tr>\n",
       "      <th>393</th>\n",
       "      <td>9268.76</td>\n",
       "    </tr>\n",
       "    <tr>\n",
       "      <th>394</th>\n",
       "      <td>9951.52</td>\n",
       "    </tr>\n",
       "    <tr>\n",
       "      <th>395</th>\n",
       "      <td>9842.67</td>\n",
       "    </tr>\n",
       "    <tr>\n",
       "      <th>396</th>\n",
       "      <td>9593.90</td>\n",
       "    </tr>\n",
       "    <tr>\n",
       "      <th>397</th>\n",
       "      <td>8756.43</td>\n",
       "    </tr>\n",
       "    <tr>\n",
       "      <th>398</th>\n",
       "      <td>8601.80</td>\n",
       "    </tr>\n",
       "    <tr>\n",
       "      <th>399</th>\n",
       "      <td>8804.48</td>\n",
       "    </tr>\n",
       "    <tr>\n",
       "      <th>400</th>\n",
       "      <td>9269.99</td>\n",
       "    </tr>\n",
       "    <tr>\n",
       "      <th>401</th>\n",
       "      <td>9733.72</td>\n",
       "    </tr>\n",
       "    <tr>\n",
       "      <th>402</th>\n",
       "      <td>9328.20</td>\n",
       "    </tr>\n",
       "    <tr>\n",
       "      <th>403</th>\n",
       "      <td>9377.01</td>\n",
       "    </tr>\n",
       "    <tr>\n",
       "      <th>404</th>\n",
       "      <td>9670.74</td>\n",
       "    </tr>\n",
       "    <tr>\n",
       "      <th>405</th>\n",
       "      <td>9726.57</td>\n",
       "    </tr>\n",
       "    <tr>\n",
       "      <th>406</th>\n",
       "      <td>9729.04</td>\n",
       "    </tr>\n",
       "  </tbody>\n",
       "</table>\n",
       "</div>"
      ],
      "text/plain": [
       "       close\n",
       "392  9003.07\n",
       "393  9268.76\n",
       "394  9951.52\n",
       "395  9842.67\n",
       "396  9593.90\n",
       "397  8756.43\n",
       "398  8601.80\n",
       "399  8804.48\n",
       "400  9269.99\n",
       "401  9733.72\n",
       "402  9328.20\n",
       "403  9377.01\n",
       "404  9670.74\n",
       "405  9726.57\n",
       "406  9729.04"
      ]
     },
     "execution_count": 727,
     "metadata": {},
     "output_type": "execute_result"
    }
   ],
   "source": [
    "merged_df_y_test.head(15)"
   ]
  },
  {
   "cell_type": "code",
   "execution_count": 728,
   "id": "1025c95d-eb95-42a8-9b55-c0f3b2ca089b",
   "metadata": {},
   "outputs": [],
   "source": [
    "average_rmse_train_gb = sqrt(mean_squared_error(train_predictions_gb, merged_df_y_train))\n",
    "average_rmse_test_gb = sqrt(mean_squared_error(test_predictions_gb, merged_df_y_test))"
   ]
  },
  {
   "cell_type": "code",
   "execution_count": 729,
   "id": "ad174d04-f7e0-411d-85ac-6d355707e614",
   "metadata": {},
   "outputs": [
    {
     "name": "stdout",
     "output_type": "stream",
     "text": [
      " The average training rmse with GB stacking is 224.28141597606398\n",
      " The average testing rmse with GB stacking is 895.6150789872025\n"
     ]
    }
   ],
   "source": [
    "print(f\" The average training rmse with GB stacking is {average_rmse_train_gb}\")\n",
    "print(f\" The average testing rmse with GB stacking is {average_rmse_test_gb}\")"
   ]
  },
  {
   "cell_type": "code",
   "execution_count": 730,
   "id": "2a077d39-45be-4dc1-9aea-0431e4eb1784",
   "metadata": {},
   "outputs": [
    {
     "data": {
      "text/plain": [
       "array([0.44858195, 0.1912788 , 0.10202117, 0.07974801, 0.05352178,\n",
       "       0.04020817, 0.0316567 , 0.03047284, 0.02251059, 0.        ])"
      ]
     },
     "execution_count": 730,
     "metadata": {},
     "output_type": "execute_result"
    }
   ],
   "source": [
    "gb.feature_importances_.ravel()[np.argsort(gb.feature_importances_.ravel())[::-1]]"
   ]
  },
  {
   "cell_type": "code",
   "execution_count": 731,
   "id": "10b6d0cd-5f43-45e3-b4ea-b00a8601347c",
   "metadata": {},
   "outputs": [
    {
     "data": {
      "text/plain": [
       "Index(['nbeats_btc_lookback_15_window_5_std_1.25_num_add_dfs_2',\n",
       "       'nbeats_btc_lookback_30_window_5_std_1.25_num_add_dfs_2', 'month',\n",
       "       'tcn_btc_lookback_30_window_5_std_1.25_num_add_dfs_2', 'day',\n",
       "       'nbeats_btc_lookback_45_window_5_std_1.25_num_add_dfs_2', 'quarter',\n",
       "       'tcn_btc_lookback_15_window_5_std_1.25_num_add_dfs_2',\n",
       "       'tcn_btc_lookback_45_window_5_std_1.25_num_add_dfs_2',\n",
       "       'test_model_lookback_1'],\n",
       "      dtype='object')"
      ]
     },
     "execution_count": 731,
     "metadata": {},
     "output_type": "execute_result"
    }
   ],
   "source": [
    "merged_df_x_train.columns[np.argsort(gb.feature_importances_)[::-1]]"
   ]
  },
  {
   "cell_type": "code",
   "execution_count": null,
   "id": "dde70be6-d9ab-402f-8451-3d497a3201bf",
   "metadata": {},
   "outputs": [],
   "source": []
  }
 ],
 "metadata": {
  "kernelspec": {
   "display_name": "go-trader",
   "language": "python",
   "name": "go-trader"
  },
  "language_info": {
   "codemirror_mode": {
    "name": "ipython",
    "version": 3
   },
   "file_extension": ".py",
   "mimetype": "text/x-python",
   "name": "python",
   "nbconvert_exporter": "python",
   "pygments_lexer": "ipython3",
   "version": "3.8.2"
  }
 },
 "nbformat": 4,
 "nbformat_minor": 5
}
