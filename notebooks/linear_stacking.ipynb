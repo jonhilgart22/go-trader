{
 "cells": [
  {
   "cell_type": "code",
   "execution_count": 960,
   "id": "14aeab74-9440-419b-9151-86dfdcebde4f",
   "metadata": {},
   "outputs": [],
   "source": [
    "import pandas as pd\n",
    "import math\n",
    "from math import sqrt\n",
    "import numpy as np\n",
    "from sklearn.metrics import mean_squared_error\n",
    "from sklearn.linear_model import LinearRegression\n",
    "from sklearn.ensemble import RandomForestRegressor, GradientBoostingRegressor"
   ]
  },
  {
   "cell_type": "markdown",
   "id": "4d6f4e83-45bb-44a5-af86-8413e344c335",
   "metadata": {},
   "source": [
    "# read in data predictions for BTC"
   ]
  },
  {
   "cell_type": "code",
   "execution_count": 961,
   "id": "afd2c5af-f525-4025-a9ba-d97d09dd9282",
   "metadata": {},
   "outputs": [],
   "source": [
    "predictions_df = pd.read_csv(\"training_configs/btc_all_predictions.csv\", parse_dates=True)\n",
    "true_price_df = pd.read_csv(\"../tmp/historic_crypto_prices - bitcoin_jan_2017_sep_4_2021 copy.csv\")"
   ]
  },
  {
   "cell_type": "code",
   "execution_count": 962,
   "id": "71daea76-dda0-4887-9515-21d9fd9c9c6e",
   "metadata": {},
   "outputs": [
    {
     "data": {
      "text/html": [
       "<div>\n",
       "<style scoped>\n",
       "    .dataframe tbody tr th:only-of-type {\n",
       "        vertical-align: middle;\n",
       "    }\n",
       "\n",
       "    .dataframe tbody tr th {\n",
       "        vertical-align: top;\n",
       "    }\n",
       "\n",
       "    .dataframe thead th {\n",
       "        text-align: right;\n",
       "    }\n",
       "</style>\n",
       "<table border=\"1\" class=\"dataframe\">\n",
       "  <thead>\n",
       "    <tr style=\"text-align: right;\">\n",
       "      <th></th>\n",
       "      <th>date</th>\n",
       "      <th>nbeats_btc_lookback_15_window_5_std_1.25_num_add_dfs_2</th>\n",
       "      <th>tcn_btc_lookback_15_window_5_std_1.25_num_add_dfs_2</th>\n",
       "      <th>nbeats_btc_lookback_30_window_5_std_1.25_num_add_dfs_2</th>\n",
       "      <th>tcn_btc_lookback_30_window_5_std_1.25_num_add_dfs_2</th>\n",
       "      <th>nbeats_btc_lookback_45_window_5_std_1.25_num_add_dfs_2</th>\n",
       "      <th>tcn_btc_lookback_45_window_5_std_1.25_num_add_dfs_2</th>\n",
       "      <th>date_prediction_for</th>\n",
       "      <th>test_model_lookback_1</th>\n",
       "    </tr>\n",
       "  </thead>\n",
       "  <tbody>\n",
       "    <tr>\n",
       "      <th>0</th>\n",
       "      <td>2010-01-01</td>\n",
       "      <td>0.000000</td>\n",
       "      <td>0.000000</td>\n",
       "      <td>0.000000</td>\n",
       "      <td>0.000000</td>\n",
       "      <td>0.000000</td>\n",
       "      <td>0.000000</td>\n",
       "      <td>2010-01-09</td>\n",
       "      <td>0.0</td>\n",
       "    </tr>\n",
       "    <tr>\n",
       "      <th>1</th>\n",
       "      <td>2019-04-02</td>\n",
       "      <td>4752.149527</td>\n",
       "      <td>253.537135</td>\n",
       "      <td>4730.976374</td>\n",
       "      <td>654.310204</td>\n",
       "      <td>3469.734359</td>\n",
       "      <td>795.201430</td>\n",
       "      <td>2019-04-09</td>\n",
       "      <td>0.0</td>\n",
       "    </tr>\n",
       "    <tr>\n",
       "      <th>2</th>\n",
       "      <td>2019-04-03</td>\n",
       "      <td>4546.248123</td>\n",
       "      <td>407.206977</td>\n",
       "      <td>4373.560445</td>\n",
       "      <td>255.627627</td>\n",
       "      <td>4437.900633</td>\n",
       "      <td>1413.509939</td>\n",
       "      <td>2019-04-10</td>\n",
       "      <td>0.0</td>\n",
       "    </tr>\n",
       "    <tr>\n",
       "      <th>3</th>\n",
       "      <td>2019-04-04</td>\n",
       "      <td>4550.998590</td>\n",
       "      <td>726.168584</td>\n",
       "      <td>4045.591506</td>\n",
       "      <td>1861.981408</td>\n",
       "      <td>4012.011230</td>\n",
       "      <td>523.093010</td>\n",
       "      <td>2019-04-11</td>\n",
       "      <td>0.0</td>\n",
       "    </tr>\n",
       "    <tr>\n",
       "      <th>4</th>\n",
       "      <td>2019-04-05</td>\n",
       "      <td>5003.264197</td>\n",
       "      <td>353.606543</td>\n",
       "      <td>4819.668698</td>\n",
       "      <td>817.215937</td>\n",
       "      <td>3977.238773</td>\n",
       "      <td>553.057301</td>\n",
       "      <td>2019-04-12</td>\n",
       "      <td>0.0</td>\n",
       "    </tr>\n",
       "  </tbody>\n",
       "</table>\n",
       "</div>"
      ],
      "text/plain": [
       "         date  nbeats_btc_lookback_15_window_5_std_1.25_num_add_dfs_2  \\\n",
       "0  2010-01-01                                           0.000000        \n",
       "1  2019-04-02                                        4752.149527        \n",
       "2  2019-04-03                                        4546.248123        \n",
       "3  2019-04-04                                        4550.998590        \n",
       "4  2019-04-05                                        5003.264197        \n",
       "\n",
       "   tcn_btc_lookback_15_window_5_std_1.25_num_add_dfs_2  \\\n",
       "0                                           0.000000     \n",
       "1                                         253.537135     \n",
       "2                                         407.206977     \n",
       "3                                         726.168584     \n",
       "4                                         353.606543     \n",
       "\n",
       "   nbeats_btc_lookback_30_window_5_std_1.25_num_add_dfs_2  \\\n",
       "0                                           0.000000        \n",
       "1                                        4730.976374        \n",
       "2                                        4373.560445        \n",
       "3                                        4045.591506        \n",
       "4                                        4819.668698        \n",
       "\n",
       "   tcn_btc_lookback_30_window_5_std_1.25_num_add_dfs_2  \\\n",
       "0                                           0.000000     \n",
       "1                                         654.310204     \n",
       "2                                         255.627627     \n",
       "3                                        1861.981408     \n",
       "4                                         817.215937     \n",
       "\n",
       "   nbeats_btc_lookback_45_window_5_std_1.25_num_add_dfs_2  \\\n",
       "0                                           0.000000        \n",
       "1                                        3469.734359        \n",
       "2                                        4437.900633        \n",
       "3                                        4012.011230        \n",
       "4                                        3977.238773        \n",
       "\n",
       "   tcn_btc_lookback_45_window_5_std_1.25_num_add_dfs_2 date_prediction_for  \\\n",
       "0                                           0.000000            2010-01-09   \n",
       "1                                         795.201430            2019-04-09   \n",
       "2                                        1413.509939            2019-04-10   \n",
       "3                                         523.093010            2019-04-11   \n",
       "4                                         553.057301            2019-04-12   \n",
       "\n",
       "   test_model_lookback_1  \n",
       "0                    0.0  \n",
       "1                    0.0  \n",
       "2                    0.0  \n",
       "3                    0.0  \n",
       "4                    0.0  "
      ]
     },
     "execution_count": 962,
     "metadata": {},
     "output_type": "execute_result"
    }
   ],
   "source": [
    "predictions_df.head()"
   ]
  },
  {
   "cell_type": "code",
   "execution_count": 963,
   "id": "d1f3f14d-eeb0-44b5-85c5-c1c340a05b08",
   "metadata": {},
   "outputs": [
    {
     "data": {
      "text/plain": [
       "'2010-01-01'"
      ]
     },
     "execution_count": 963,
     "metadata": {},
     "output_type": "execute_result"
    }
   ],
   "source": [
    "predictions_df.date.min()"
   ]
  },
  {
   "cell_type": "code",
   "execution_count": 964,
   "id": "5b35fda1-0b74-440e-a9b5-f4e9a1c6bced",
   "metadata": {},
   "outputs": [
    {
     "data": {
      "text/plain": [
       "'2021-06-06'"
      ]
     },
     "execution_count": 964,
     "metadata": {},
     "output_type": "execute_result"
    }
   ],
   "source": [
    "predictions_df.date.max()"
   ]
  },
  {
   "cell_type": "code",
   "execution_count": 823,
   "id": "99647926-fb43-4b1e-a752-a7a5cbcfd561",
   "metadata": {},
   "outputs": [
    {
     "name": "stdout",
     "output_type": "stream",
     "text": [
      "<class 'pandas.core.frame.DataFrame'>\n",
      "RangeIndex: 541 entries, 0 to 540\n",
      "Data columns (total 9 columns):\n",
      " #   Column                                                  Non-Null Count  Dtype  \n",
      "---  ------                                                  --------------  -----  \n",
      " 0   date                                                    541 non-null    object \n",
      " 1   nbeats_btc_lookback_15_window_5_std_1.25_num_add_dfs_2  541 non-null    float64\n",
      " 2   tcn_btc_lookback_15_window_5_std_1.25_num_add_dfs_2     541 non-null    float64\n",
      " 3   nbeats_btc_lookback_30_window_5_std_1.25_num_add_dfs_2  541 non-null    float64\n",
      " 4   tcn_btc_lookback_30_window_5_std_1.25_num_add_dfs_2     541 non-null    float64\n",
      " 5   nbeats_btc_lookback_45_window_5_std_1.25_num_add_dfs_2  541 non-null    float64\n",
      " 6   tcn_btc_lookback_45_window_5_std_1.25_num_add_dfs_2     541 non-null    float64\n",
      " 7   date_prediction_for                                     541 non-null    object \n",
      " 8   test_model_lookback_1                                   541 non-null    float64\n",
      "dtypes: float64(7), object(2)\n",
      "memory usage: 38.2+ KB\n"
     ]
    }
   ],
   "source": [
    "predictions_df.info()"
   ]
  },
  {
   "cell_type": "code",
   "execution_count": 824,
   "id": "344902b3-cbfd-409e-b139-25e2024e0198",
   "metadata": {},
   "outputs": [],
   "source": [
    "true_close_df = true_price_df[['date','close']]"
   ]
  },
  {
   "cell_type": "markdown",
   "id": "33bd04fb-957e-4da5-8695-f9277e182d4e",
   "metadata": {},
   "source": [
    "### Map the predictions for date to the true price date"
   ]
  },
  {
   "cell_type": "code",
   "execution_count": 825,
   "id": "f10c47be-4dbc-43d5-b6f4-37fe22e516f7",
   "metadata": {},
   "outputs": [
    {
     "data": {
      "text/plain": [
       "0       2010-01-09\n",
       "1       2019-04-09\n",
       "2       2019-04-10\n",
       "3       2019-04-11\n",
       "4       2019-04-12\n",
       "          ...     \n",
       "536     2020-09-25\n",
       "537     2020-09-26\n",
       "538     2020-09-27\n",
       "539     2020-09-28\n",
       "540     2020-09-29\n",
       "Name: date_prediction_for, Length: 541, dtype: object"
      ]
     },
     "execution_count": 825,
     "metadata": {},
     "output_type": "execute_result"
    }
   ],
   "source": [
    "predictions_df.date_prediction_for"
   ]
  },
  {
   "cell_type": "code",
   "execution_count": 826,
   "id": "cab6bfa1-b3e1-47c0-8986-155cba959efb",
   "metadata": {},
   "outputs": [],
   "source": [
    "merged_df = pd.merge(predictions_df, true_close_df, left_on='date_prediction_for',\n",
    "                     right_on ='date', suffixes=['_pred','_true'])"
   ]
  },
  {
   "cell_type": "code",
   "execution_count": 827,
   "id": "3eb4ecd3-2d32-4fb9-93b7-b62311c9e717",
   "metadata": {},
   "outputs": [],
   "source": [
    "merged_df['day'] = [t.day for t in pd.to_datetime(merged_df.date_prediction_for)]\n",
    "merged_df['month'] =  [t.month for t in pd.to_datetime(merged_df.date_prediction_for)]\n",
    "merged_df['quarter'] = [t.quarter for t in pd.to_datetime(merged_df.date_prediction_for)]"
   ]
  },
  {
   "cell_type": "code",
   "execution_count": null,
   "id": "f3ad5550-7429-4134-9b9d-1059776a3a0a",
   "metadata": {},
   "outputs": [],
   "source": []
  },
  {
   "cell_type": "code",
   "execution_count": 828,
   "id": "ad8530bd-87df-49a3-a587-ca56e6372f8e",
   "metadata": {},
   "outputs": [],
   "source": [
    "merged_df.drop(['date_pred', 'date_true', 'date_prediction_for'], inplace=True, axis=1)"
   ]
  },
  {
   "cell_type": "code",
   "execution_count": 829,
   "id": "aa191f1b-ff9e-49c6-a9bd-48799892519f",
   "metadata": {},
   "outputs": [
    {
     "data": {
      "text/html": [
       "<div>\n",
       "<style scoped>\n",
       "    .dataframe tbody tr th:only-of-type {\n",
       "        vertical-align: middle;\n",
       "    }\n",
       "\n",
       "    .dataframe tbody tr th {\n",
       "        vertical-align: top;\n",
       "    }\n",
       "\n",
       "    .dataframe thead th {\n",
       "        text-align: right;\n",
       "    }\n",
       "</style>\n",
       "<table border=\"1\" class=\"dataframe\">\n",
       "  <thead>\n",
       "    <tr style=\"text-align: right;\">\n",
       "      <th></th>\n",
       "      <th>nbeats_btc_lookback_15_window_5_std_1.25_num_add_dfs_2</th>\n",
       "      <th>tcn_btc_lookback_15_window_5_std_1.25_num_add_dfs_2</th>\n",
       "      <th>nbeats_btc_lookback_30_window_5_std_1.25_num_add_dfs_2</th>\n",
       "      <th>tcn_btc_lookback_30_window_5_std_1.25_num_add_dfs_2</th>\n",
       "      <th>nbeats_btc_lookback_45_window_5_std_1.25_num_add_dfs_2</th>\n",
       "      <th>tcn_btc_lookback_45_window_5_std_1.25_num_add_dfs_2</th>\n",
       "      <th>test_model_lookback_1</th>\n",
       "      <th>close</th>\n",
       "      <th>day</th>\n",
       "      <th>month</th>\n",
       "      <th>quarter</th>\n",
       "    </tr>\n",
       "  </thead>\n",
       "  <tbody>\n",
       "    <tr>\n",
       "      <th>535</th>\n",
       "      <td>10826.426376</td>\n",
       "      <td>10362.220019</td>\n",
       "      <td>10633.704014</td>\n",
       "      <td>10749.163259</td>\n",
       "      <td>10391.530490</td>\n",
       "      <td>9856.715457</td>\n",
       "      <td>0.0</td>\n",
       "      <td>10692.72</td>\n",
       "      <td>25</td>\n",
       "      <td>9</td>\n",
       "      <td>3</td>\n",
       "    </tr>\n",
       "    <tr>\n",
       "      <th>536</th>\n",
       "      <td>11039.142639</td>\n",
       "      <td>10271.400729</td>\n",
       "      <td>10473.443642</td>\n",
       "      <td>10075.427808</td>\n",
       "      <td>11436.436547</td>\n",
       "      <td>10930.332111</td>\n",
       "      <td>0.0</td>\n",
       "      <td>10750.72</td>\n",
       "      <td>26</td>\n",
       "      <td>9</td>\n",
       "      <td>3</td>\n",
       "    </tr>\n",
       "    <tr>\n",
       "      <th>537</th>\n",
       "      <td>10960.423892</td>\n",
       "      <td>10149.405898</td>\n",
       "      <td>10941.914878</td>\n",
       "      <td>9838.207279</td>\n",
       "      <td>11449.616505</td>\n",
       "      <td>10617.881368</td>\n",
       "      <td>0.0</td>\n",
       "      <td>10775.27</td>\n",
       "      <td>27</td>\n",
       "      <td>9</td>\n",
       "      <td>3</td>\n",
       "    </tr>\n",
       "    <tr>\n",
       "      <th>538</th>\n",
       "      <td>11310.868536</td>\n",
       "      <td>10489.588384</td>\n",
       "      <td>10356.597065</td>\n",
       "      <td>10323.434719</td>\n",
       "      <td>9966.598961</td>\n",
       "      <td>10787.260297</td>\n",
       "      <td>0.0</td>\n",
       "      <td>10709.65</td>\n",
       "      <td>28</td>\n",
       "      <td>9</td>\n",
       "      <td>3</td>\n",
       "    </tr>\n",
       "    <tr>\n",
       "      <th>539</th>\n",
       "      <td>10720.133819</td>\n",
       "      <td>9823.123286</td>\n",
       "      <td>11386.870104</td>\n",
       "      <td>10544.204764</td>\n",
       "      <td>11732.128077</td>\n",
       "      <td>10902.035585</td>\n",
       "      <td>0.0</td>\n",
       "      <td>10844.64</td>\n",
       "      <td>29</td>\n",
       "      <td>9</td>\n",
       "      <td>3</td>\n",
       "    </tr>\n",
       "  </tbody>\n",
       "</table>\n",
       "</div>"
      ],
      "text/plain": [
       "     nbeats_btc_lookback_15_window_5_std_1.25_num_add_dfs_2  \\\n",
       "535                                       10826.426376        \n",
       "536                                       11039.142639        \n",
       "537                                       10960.423892        \n",
       "538                                       11310.868536        \n",
       "539                                       10720.133819        \n",
       "\n",
       "     tcn_btc_lookback_15_window_5_std_1.25_num_add_dfs_2  \\\n",
       "535                                       10362.220019     \n",
       "536                                       10271.400729     \n",
       "537                                       10149.405898     \n",
       "538                                       10489.588384     \n",
       "539                                        9823.123286     \n",
       "\n",
       "     nbeats_btc_lookback_30_window_5_std_1.25_num_add_dfs_2  \\\n",
       "535                                       10633.704014        \n",
       "536                                       10473.443642        \n",
       "537                                       10941.914878        \n",
       "538                                       10356.597065        \n",
       "539                                       11386.870104        \n",
       "\n",
       "     tcn_btc_lookback_30_window_5_std_1.25_num_add_dfs_2  \\\n",
       "535                                       10749.163259     \n",
       "536                                       10075.427808     \n",
       "537                                        9838.207279     \n",
       "538                                       10323.434719     \n",
       "539                                       10544.204764     \n",
       "\n",
       "     nbeats_btc_lookback_45_window_5_std_1.25_num_add_dfs_2  \\\n",
       "535                                       10391.530490        \n",
       "536                                       11436.436547        \n",
       "537                                       11449.616505        \n",
       "538                                        9966.598961        \n",
       "539                                       11732.128077        \n",
       "\n",
       "     tcn_btc_lookback_45_window_5_std_1.25_num_add_dfs_2  \\\n",
       "535                                        9856.715457     \n",
       "536                                       10930.332111     \n",
       "537                                       10617.881368     \n",
       "538                                       10787.260297     \n",
       "539                                       10902.035585     \n",
       "\n",
       "     test_model_lookback_1     close  day  month  quarter  \n",
       "535                    0.0  10692.72   25      9        3  \n",
       "536                    0.0  10750.72   26      9        3  \n",
       "537                    0.0  10775.27   27      9        3  \n",
       "538                    0.0  10709.65   28      9        3  \n",
       "539                    0.0  10844.64   29      9        3  "
      ]
     },
     "execution_count": 829,
     "metadata": {},
     "output_type": "execute_result"
    }
   ],
   "source": [
    "merged_df.tail()"
   ]
  },
  {
   "cell_type": "code",
   "execution_count": 830,
   "id": "2596bc62-d922-423e-902e-75e67afe85ab",
   "metadata": {},
   "outputs": [
    {
     "data": {
      "text/html": [
       "<div>\n",
       "<style scoped>\n",
       "    .dataframe tbody tr th:only-of-type {\n",
       "        vertical-align: middle;\n",
       "    }\n",
       "\n",
       "    .dataframe tbody tr th {\n",
       "        vertical-align: top;\n",
       "    }\n",
       "\n",
       "    .dataframe thead th {\n",
       "        text-align: right;\n",
       "    }\n",
       "</style>\n",
       "<table border=\"1\" class=\"dataframe\">\n",
       "  <thead>\n",
       "    <tr style=\"text-align: right;\">\n",
       "      <th></th>\n",
       "      <th>nbeats_btc_lookback_15_window_5_std_1.25_num_add_dfs_2</th>\n",
       "      <th>tcn_btc_lookback_15_window_5_std_1.25_num_add_dfs_2</th>\n",
       "      <th>nbeats_btc_lookback_30_window_5_std_1.25_num_add_dfs_2</th>\n",
       "      <th>tcn_btc_lookback_30_window_5_std_1.25_num_add_dfs_2</th>\n",
       "      <th>nbeats_btc_lookback_45_window_5_std_1.25_num_add_dfs_2</th>\n",
       "      <th>tcn_btc_lookback_45_window_5_std_1.25_num_add_dfs_2</th>\n",
       "      <th>test_model_lookback_1</th>\n",
       "      <th>close</th>\n",
       "      <th>day</th>\n",
       "      <th>month</th>\n",
       "      <th>quarter</th>\n",
       "    </tr>\n",
       "  </thead>\n",
       "  <tbody>\n",
       "    <tr>\n",
       "      <th>count</th>\n",
       "      <td>540.000000</td>\n",
       "      <td>540.000000</td>\n",
       "      <td>540.000000</td>\n",
       "      <td>540.000000</td>\n",
       "      <td>540.000000</td>\n",
       "      <td>540.000000</td>\n",
       "      <td>540.0</td>\n",
       "      <td>540.000000</td>\n",
       "      <td>540.000000</td>\n",
       "      <td>540.000000</td>\n",
       "      <td>540.000000</td>\n",
       "    </tr>\n",
       "    <tr>\n",
       "      <th>mean</th>\n",
       "      <td>9072.691803</td>\n",
       "      <td>8923.196339</td>\n",
       "      <td>9097.661222</td>\n",
       "      <td>9070.248362</td>\n",
       "      <td>9192.142836</td>\n",
       "      <td>8796.675216</td>\n",
       "      <td>0.0</td>\n",
       "      <td>8937.536463</td>\n",
       "      <td>15.896296</td>\n",
       "      <td>6.542593</td>\n",
       "      <td>2.511111</td>\n",
       "    </tr>\n",
       "    <tr>\n",
       "      <th>std</th>\n",
       "      <td>1871.651118</td>\n",
       "      <td>3957.600653</td>\n",
       "      <td>2011.094979</td>\n",
       "      <td>3804.239117</td>\n",
       "      <td>2134.066788</td>\n",
       "      <td>3969.814904</td>\n",
       "      <td>0.0</td>\n",
       "      <td>1716.854959</td>\n",
       "      <td>8.757948</td>\n",
       "      <td>2.994125</td>\n",
       "      <td>0.964041</td>\n",
       "    </tr>\n",
       "    <tr>\n",
       "      <th>min</th>\n",
       "      <td>4546.248123</td>\n",
       "      <td>139.877840</td>\n",
       "      <td>3666.543647</td>\n",
       "      <td>-289.448271</td>\n",
       "      <td>3261.251466</td>\n",
       "      <td>-280.599843</td>\n",
       "      <td>0.0</td>\n",
       "      <td>4970.790000</td>\n",
       "      <td>1.000000</td>\n",
       "      <td>1.000000</td>\n",
       "      <td>1.000000</td>\n",
       "    </tr>\n",
       "    <tr>\n",
       "      <th>25%</th>\n",
       "      <td>7678.110747</td>\n",
       "      <td>6849.250236</td>\n",
       "      <td>7784.452043</td>\n",
       "      <td>7022.245954</td>\n",
       "      <td>7830.086539</td>\n",
       "      <td>7064.032121</td>\n",
       "      <td>0.0</td>\n",
       "      <td>7804.195000</td>\n",
       "      <td>8.000000</td>\n",
       "      <td>4.000000</td>\n",
       "      <td>2.000000</td>\n",
       "    </tr>\n",
       "    <tr>\n",
       "      <th>50%</th>\n",
       "      <td>9248.095649</td>\n",
       "      <td>8977.055439</td>\n",
       "      <td>9201.514996</td>\n",
       "      <td>8923.334721</td>\n",
       "      <td>9223.061306</td>\n",
       "      <td>8842.151740</td>\n",
       "      <td>0.0</td>\n",
       "      <td>9160.980000</td>\n",
       "      <td>16.000000</td>\n",
       "      <td>7.000000</td>\n",
       "      <td>3.000000</td>\n",
       "    </tr>\n",
       "    <tr>\n",
       "      <th>75%</th>\n",
       "      <td>10369.751803</td>\n",
       "      <td>10499.238135</td>\n",
       "      <td>10364.739354</td>\n",
       "      <td>10549.849168</td>\n",
       "      <td>10699.172030</td>\n",
       "      <td>10155.465484</td>\n",
       "      <td>0.0</td>\n",
       "      <td>10179.187500</td>\n",
       "      <td>23.000000</td>\n",
       "      <td>9.000000</td>\n",
       "      <td>3.000000</td>\n",
       "    </tr>\n",
       "    <tr>\n",
       "      <th>max</th>\n",
       "      <td>13331.237899</td>\n",
       "      <td>23654.633486</td>\n",
       "      <td>14332.008433</td>\n",
       "      <td>23157.885335</td>\n",
       "      <td>14228.875403</td>\n",
       "      <td>23173.074402</td>\n",
       "      <td>0.0</td>\n",
       "      <td>13016.230000</td>\n",
       "      <td>31.000000</td>\n",
       "      <td>12.000000</td>\n",
       "      <td>4.000000</td>\n",
       "    </tr>\n",
       "  </tbody>\n",
       "</table>\n",
       "</div>"
      ],
      "text/plain": [
       "       nbeats_btc_lookback_15_window_5_std_1.25_num_add_dfs_2  \\\n",
       "count                                         540.000000        \n",
       "mean                                         9072.691803        \n",
       "std                                          1871.651118        \n",
       "min                                          4546.248123        \n",
       "25%                                          7678.110747        \n",
       "50%                                          9248.095649        \n",
       "75%                                         10369.751803        \n",
       "max                                         13331.237899        \n",
       "\n",
       "       tcn_btc_lookback_15_window_5_std_1.25_num_add_dfs_2  \\\n",
       "count                                         540.000000     \n",
       "mean                                         8923.196339     \n",
       "std                                          3957.600653     \n",
       "min                                           139.877840     \n",
       "25%                                          6849.250236     \n",
       "50%                                          8977.055439     \n",
       "75%                                         10499.238135     \n",
       "max                                         23654.633486     \n",
       "\n",
       "       nbeats_btc_lookback_30_window_5_std_1.25_num_add_dfs_2  \\\n",
       "count                                         540.000000        \n",
       "mean                                         9097.661222        \n",
       "std                                          2011.094979        \n",
       "min                                          3666.543647        \n",
       "25%                                          7784.452043        \n",
       "50%                                          9201.514996        \n",
       "75%                                         10364.739354        \n",
       "max                                         14332.008433        \n",
       "\n",
       "       tcn_btc_lookback_30_window_5_std_1.25_num_add_dfs_2  \\\n",
       "count                                         540.000000     \n",
       "mean                                         9070.248362     \n",
       "std                                          3804.239117     \n",
       "min                                          -289.448271     \n",
       "25%                                          7022.245954     \n",
       "50%                                          8923.334721     \n",
       "75%                                         10549.849168     \n",
       "max                                         23157.885335     \n",
       "\n",
       "       nbeats_btc_lookback_45_window_5_std_1.25_num_add_dfs_2  \\\n",
       "count                                         540.000000        \n",
       "mean                                         9192.142836        \n",
       "std                                          2134.066788        \n",
       "min                                          3261.251466        \n",
       "25%                                          7830.086539        \n",
       "50%                                          9223.061306        \n",
       "75%                                         10699.172030        \n",
       "max                                         14228.875403        \n",
       "\n",
       "       tcn_btc_lookback_45_window_5_std_1.25_num_add_dfs_2  \\\n",
       "count                                         540.000000     \n",
       "mean                                         8796.675216     \n",
       "std                                          3969.814904     \n",
       "min                                          -280.599843     \n",
       "25%                                          7064.032121     \n",
       "50%                                          8842.151740     \n",
       "75%                                         10155.465484     \n",
       "max                                         23173.074402     \n",
       "\n",
       "       test_model_lookback_1         close         day       month     quarter  \n",
       "count                  540.0    540.000000  540.000000  540.000000  540.000000  \n",
       "mean                     0.0   8937.536463   15.896296    6.542593    2.511111  \n",
       "std                      0.0   1716.854959    8.757948    2.994125    0.964041  \n",
       "min                      0.0   4970.790000    1.000000    1.000000    1.000000  \n",
       "25%                      0.0   7804.195000    8.000000    4.000000    2.000000  \n",
       "50%                      0.0   9160.980000   16.000000    7.000000    3.000000  \n",
       "75%                      0.0  10179.187500   23.000000    9.000000    3.000000  \n",
       "max                      0.0  13016.230000   31.000000   12.000000    4.000000  "
      ]
     },
     "execution_count": 830,
     "metadata": {},
     "output_type": "execute_result"
    }
   ],
   "source": [
    "merged_df.describe()"
   ]
  },
  {
   "cell_type": "markdown",
   "id": "a7962cfb-6d0e-4920-87bd-d0332e6930e8",
   "metadata": {},
   "source": [
    "### train test split"
   ]
  },
  {
   "cell_type": "code",
   "execution_count": 917,
   "id": "7716d7c0-dd3a-4edd-b446-9ac935d31f15",
   "metadata": {},
   "outputs": [],
   "source": [
    "split_pct = .90\n",
    "l_merged = len(merged_df)\n",
    "merged_df_train, merged_df_test = merged_df.iloc[:int(split_pct*l_merged),:],  merged_df.iloc[int(l_merged*split_pct):,:]\n",
    "                                                                                                  "
   ]
  },
  {
   "cell_type": "code",
   "execution_count": 918,
   "id": "d9d194b0-7900-4b2b-b911-fd7e966a3a4c",
   "metadata": {},
   "outputs": [
    {
     "name": "stdout",
     "output_type": "stream",
     "text": [
      "train rows = 486\n"
     ]
    }
   ],
   "source": [
    "print(f\"train rows = {len(merged_df_train)}\")"
   ]
  },
  {
   "cell_type": "code",
   "execution_count": 919,
   "id": "b37ba950-9666-402c-a5f2-33e4783b39cb",
   "metadata": {},
   "outputs": [
    {
     "name": "stdout",
     "output_type": "stream",
     "text": [
      "test rows = 54\n"
     ]
    }
   ],
   "source": [
    "print(f\"test rows = {len(merged_df_test)}\")"
   ]
  },
  {
   "cell_type": "code",
   "execution_count": 920,
   "id": "f77dbb40-009a-4704-afee-4c96d1f36a19",
   "metadata": {},
   "outputs": [
    {
     "name": "stdout",
     "output_type": "stream",
     "text": [
      "<class 'pandas.core.frame.DataFrame'>\n",
      "Int64Index: 486 entries, 0 to 485\n",
      "Data columns (total 11 columns):\n",
      " #   Column                                                  Non-Null Count  Dtype  \n",
      "---  ------                                                  --------------  -----  \n",
      " 0   nbeats_btc_lookback_15_window_5_std_1.25_num_add_dfs_2  486 non-null    float64\n",
      " 1   tcn_btc_lookback_15_window_5_std_1.25_num_add_dfs_2     486 non-null    float64\n",
      " 2   nbeats_btc_lookback_30_window_5_std_1.25_num_add_dfs_2  486 non-null    float64\n",
      " 3   tcn_btc_lookback_30_window_5_std_1.25_num_add_dfs_2     486 non-null    float64\n",
      " 4   nbeats_btc_lookback_45_window_5_std_1.25_num_add_dfs_2  486 non-null    float64\n",
      " 5   tcn_btc_lookback_45_window_5_std_1.25_num_add_dfs_2     486 non-null    float64\n",
      " 6   test_model_lookback_1                                   486 non-null    float64\n",
      " 7   close                                                   486 non-null    float64\n",
      " 8   day                                                     486 non-null    int64  \n",
      " 9   month                                                   486 non-null    int64  \n",
      " 10  quarter                                                 486 non-null    int64  \n",
      "dtypes: float64(8), int64(3)\n",
      "memory usage: 45.6 KB\n"
     ]
    }
   ],
   "source": [
    "merged_df_train.info()"
   ]
  },
  {
   "cell_type": "code",
   "execution_count": 921,
   "id": "d3508d7a-7232-4162-aa8d-d192e32af1e4",
   "metadata": {},
   "outputs": [
    {
     "name": "stdout",
     "output_type": "stream",
     "text": [
      "<class 'pandas.core.frame.DataFrame'>\n",
      "Int64Index: 54 entries, 486 to 539\n",
      "Data columns (total 11 columns):\n",
      " #   Column                                                  Non-Null Count  Dtype  \n",
      "---  ------                                                  --------------  -----  \n",
      " 0   nbeats_btc_lookback_15_window_5_std_1.25_num_add_dfs_2  54 non-null     float64\n",
      " 1   tcn_btc_lookback_15_window_5_std_1.25_num_add_dfs_2     54 non-null     float64\n",
      " 2   nbeats_btc_lookback_30_window_5_std_1.25_num_add_dfs_2  54 non-null     float64\n",
      " 3   tcn_btc_lookback_30_window_5_std_1.25_num_add_dfs_2     54 non-null     float64\n",
      " 4   nbeats_btc_lookback_45_window_5_std_1.25_num_add_dfs_2  54 non-null     float64\n",
      " 5   tcn_btc_lookback_45_window_5_std_1.25_num_add_dfs_2     54 non-null     float64\n",
      " 6   test_model_lookback_1                                   54 non-null     float64\n",
      " 7   close                                                   54 non-null     float64\n",
      " 8   day                                                     54 non-null     int64  \n",
      " 9   month                                                   54 non-null     int64  \n",
      " 10  quarter                                                 54 non-null     int64  \n",
      "dtypes: float64(8), int64(3)\n",
      "memory usage: 5.1 KB\n"
     ]
    }
   ],
   "source": [
    "merged_df_test.info()"
   ]
  },
  {
   "cell_type": "code",
   "execution_count": 922,
   "id": "9339c080-6204-42ae-9312-b9e753a63cf6",
   "metadata": {},
   "outputs": [
    {
     "data": {
      "text/html": [
       "<div>\n",
       "<style scoped>\n",
       "    .dataframe tbody tr th:only-of-type {\n",
       "        vertical-align: middle;\n",
       "    }\n",
       "\n",
       "    .dataframe tbody tr th {\n",
       "        vertical-align: top;\n",
       "    }\n",
       "\n",
       "    .dataframe thead th {\n",
       "        text-align: right;\n",
       "    }\n",
       "</style>\n",
       "<table border=\"1\" class=\"dataframe\">\n",
       "  <thead>\n",
       "    <tr style=\"text-align: right;\">\n",
       "      <th></th>\n",
       "      <th>nbeats_btc_lookback_15_window_5_std_1.25_num_add_dfs_2</th>\n",
       "      <th>tcn_btc_lookback_15_window_5_std_1.25_num_add_dfs_2</th>\n",
       "      <th>nbeats_btc_lookback_30_window_5_std_1.25_num_add_dfs_2</th>\n",
       "      <th>tcn_btc_lookback_30_window_5_std_1.25_num_add_dfs_2</th>\n",
       "      <th>nbeats_btc_lookback_45_window_5_std_1.25_num_add_dfs_2</th>\n",
       "      <th>tcn_btc_lookback_45_window_5_std_1.25_num_add_dfs_2</th>\n",
       "      <th>test_model_lookback_1</th>\n",
       "      <th>day</th>\n",
       "      <th>month</th>\n",
       "      <th>quarter</th>\n",
       "    </tr>\n",
       "  </thead>\n",
       "  <tbody>\n",
       "    <tr>\n",
       "      <th>0</th>\n",
       "      <td>4752.149527</td>\n",
       "      <td>253.537135</td>\n",
       "      <td>4730.976374</td>\n",
       "      <td>654.310204</td>\n",
       "      <td>3469.734359</td>\n",
       "      <td>795.201430</td>\n",
       "      <td>0.0</td>\n",
       "      <td>9</td>\n",
       "      <td>4</td>\n",
       "      <td>2</td>\n",
       "    </tr>\n",
       "    <tr>\n",
       "      <th>1</th>\n",
       "      <td>4546.248123</td>\n",
       "      <td>407.206977</td>\n",
       "      <td>4373.560445</td>\n",
       "      <td>255.627627</td>\n",
       "      <td>4437.900633</td>\n",
       "      <td>1413.509939</td>\n",
       "      <td>0.0</td>\n",
       "      <td>10</td>\n",
       "      <td>4</td>\n",
       "      <td>2</td>\n",
       "    </tr>\n",
       "    <tr>\n",
       "      <th>2</th>\n",
       "      <td>4550.998590</td>\n",
       "      <td>726.168584</td>\n",
       "      <td>4045.591506</td>\n",
       "      <td>1861.981408</td>\n",
       "      <td>4012.011230</td>\n",
       "      <td>523.093010</td>\n",
       "      <td>0.0</td>\n",
       "      <td>11</td>\n",
       "      <td>4</td>\n",
       "      <td>2</td>\n",
       "    </tr>\n",
       "    <tr>\n",
       "      <th>3</th>\n",
       "      <td>5003.264197</td>\n",
       "      <td>353.606543</td>\n",
       "      <td>4819.668698</td>\n",
       "      <td>817.215937</td>\n",
       "      <td>3977.238773</td>\n",
       "      <td>553.057301</td>\n",
       "      <td>0.0</td>\n",
       "      <td>12</td>\n",
       "      <td>4</td>\n",
       "      <td>2</td>\n",
       "    </tr>\n",
       "    <tr>\n",
       "      <th>4</th>\n",
       "      <td>5184.268504</td>\n",
       "      <td>197.768508</td>\n",
       "      <td>5123.185573</td>\n",
       "      <td>1596.333494</td>\n",
       "      <td>4093.602236</td>\n",
       "      <td>920.106602</td>\n",
       "      <td>0.0</td>\n",
       "      <td>13</td>\n",
       "      <td>4</td>\n",
       "      <td>2</td>\n",
       "    </tr>\n",
       "    <tr>\n",
       "      <th>...</th>\n",
       "      <td>...</td>\n",
       "      <td>...</td>\n",
       "      <td>...</td>\n",
       "      <td>...</td>\n",
       "      <td>...</td>\n",
       "      <td>...</td>\n",
       "      <td>...</td>\n",
       "      <td>...</td>\n",
       "      <td>...</td>\n",
       "      <td>...</td>\n",
       "    </tr>\n",
       "    <tr>\n",
       "      <th>481</th>\n",
       "      <td>9474.582586</td>\n",
       "      <td>8937.307830</td>\n",
       "      <td>9412.221795</td>\n",
       "      <td>9763.418871</td>\n",
       "      <td>9596.541157</td>\n",
       "      <td>9605.129715</td>\n",
       "      <td>0.0</td>\n",
       "      <td>2</td>\n",
       "      <td>8</td>\n",
       "      <td>3</td>\n",
       "    </tr>\n",
       "    <tr>\n",
       "      <th>482</th>\n",
       "      <td>9620.547643</td>\n",
       "      <td>10027.948410</td>\n",
       "      <td>9655.541195</td>\n",
       "      <td>9408.660579</td>\n",
       "      <td>10571.252397</td>\n",
       "      <td>9565.245379</td>\n",
       "      <td>0.0</td>\n",
       "      <td>3</td>\n",
       "      <td>8</td>\n",
       "      <td>3</td>\n",
       "    </tr>\n",
       "    <tr>\n",
       "      <th>483</th>\n",
       "      <td>10105.403866</td>\n",
       "      <td>10505.595563</td>\n",
       "      <td>9235.231388</td>\n",
       "      <td>8725.041784</td>\n",
       "      <td>10110.418434</td>\n",
       "      <td>8921.825783</td>\n",
       "      <td>0.0</td>\n",
       "      <td>4</td>\n",
       "      <td>8</td>\n",
       "      <td>3</td>\n",
       "    </tr>\n",
       "    <tr>\n",
       "      <th>484</th>\n",
       "      <td>10749.375335</td>\n",
       "      <td>9294.040252</td>\n",
       "      <td>9867.545794</td>\n",
       "      <td>9935.776604</td>\n",
       "      <td>10468.456160</td>\n",
       "      <td>9248.010080</td>\n",
       "      <td>0.0</td>\n",
       "      <td>5</td>\n",
       "      <td>8</td>\n",
       "      <td>3</td>\n",
       "    </tr>\n",
       "    <tr>\n",
       "      <th>485</th>\n",
       "      <td>10405.051248</td>\n",
       "      <td>10727.327232</td>\n",
       "      <td>10519.565262</td>\n",
       "      <td>10596.057967</td>\n",
       "      <td>9617.808944</td>\n",
       "      <td>10489.053948</td>\n",
       "      <td>0.0</td>\n",
       "      <td>6</td>\n",
       "      <td>8</td>\n",
       "      <td>3</td>\n",
       "    </tr>\n",
       "  </tbody>\n",
       "</table>\n",
       "<p>486 rows × 10 columns</p>\n",
       "</div>"
      ],
      "text/plain": [
       "     nbeats_btc_lookback_15_window_5_std_1.25_num_add_dfs_2  \\\n",
       "0                                          4752.149527        \n",
       "1                                          4546.248123        \n",
       "2                                          4550.998590        \n",
       "3                                          5003.264197        \n",
       "4                                          5184.268504        \n",
       "..                                                 ...        \n",
       "481                                        9474.582586        \n",
       "482                                        9620.547643        \n",
       "483                                       10105.403866        \n",
       "484                                       10749.375335        \n",
       "485                                       10405.051248        \n",
       "\n",
       "     tcn_btc_lookback_15_window_5_std_1.25_num_add_dfs_2  \\\n",
       "0                                           253.537135     \n",
       "1                                           407.206977     \n",
       "2                                           726.168584     \n",
       "3                                           353.606543     \n",
       "4                                           197.768508     \n",
       "..                                                 ...     \n",
       "481                                        8937.307830     \n",
       "482                                       10027.948410     \n",
       "483                                       10505.595563     \n",
       "484                                        9294.040252     \n",
       "485                                       10727.327232     \n",
       "\n",
       "     nbeats_btc_lookback_30_window_5_std_1.25_num_add_dfs_2  \\\n",
       "0                                          4730.976374        \n",
       "1                                          4373.560445        \n",
       "2                                          4045.591506        \n",
       "3                                          4819.668698        \n",
       "4                                          5123.185573        \n",
       "..                                                 ...        \n",
       "481                                        9412.221795        \n",
       "482                                        9655.541195        \n",
       "483                                        9235.231388        \n",
       "484                                        9867.545794        \n",
       "485                                       10519.565262        \n",
       "\n",
       "     tcn_btc_lookback_30_window_5_std_1.25_num_add_dfs_2  \\\n",
       "0                                           654.310204     \n",
       "1                                           255.627627     \n",
       "2                                          1861.981408     \n",
       "3                                           817.215937     \n",
       "4                                          1596.333494     \n",
       "..                                                 ...     \n",
       "481                                        9763.418871     \n",
       "482                                        9408.660579     \n",
       "483                                        8725.041784     \n",
       "484                                        9935.776604     \n",
       "485                                       10596.057967     \n",
       "\n",
       "     nbeats_btc_lookback_45_window_5_std_1.25_num_add_dfs_2  \\\n",
       "0                                          3469.734359        \n",
       "1                                          4437.900633        \n",
       "2                                          4012.011230        \n",
       "3                                          3977.238773        \n",
       "4                                          4093.602236        \n",
       "..                                                 ...        \n",
       "481                                        9596.541157        \n",
       "482                                       10571.252397        \n",
       "483                                       10110.418434        \n",
       "484                                       10468.456160        \n",
       "485                                        9617.808944        \n",
       "\n",
       "     tcn_btc_lookback_45_window_5_std_1.25_num_add_dfs_2  \\\n",
       "0                                           795.201430     \n",
       "1                                          1413.509939     \n",
       "2                                           523.093010     \n",
       "3                                           553.057301     \n",
       "4                                           920.106602     \n",
       "..                                                 ...     \n",
       "481                                        9605.129715     \n",
       "482                                        9565.245379     \n",
       "483                                        8921.825783     \n",
       "484                                        9248.010080     \n",
       "485                                       10489.053948     \n",
       "\n",
       "     test_model_lookback_1  day  month  quarter  \n",
       "0                      0.0    9      4        2  \n",
       "1                      0.0   10      4        2  \n",
       "2                      0.0   11      4        2  \n",
       "3                      0.0   12      4        2  \n",
       "4                      0.0   13      4        2  \n",
       "..                     ...  ...    ...      ...  \n",
       "481                    0.0    2      8        3  \n",
       "482                    0.0    3      8        3  \n",
       "483                    0.0    4      8        3  \n",
       "484                    0.0    5      8        3  \n",
       "485                    0.0    6      8        3  \n",
       "\n",
       "[486 rows x 10 columns]"
      ]
     },
     "execution_count": 922,
     "metadata": {},
     "output_type": "execute_result"
    }
   ],
   "source": [
    "merged_df_train.iloc[:, ~merged_df.columns.isin(['close'])]"
   ]
  },
  {
   "cell_type": "code",
   "execution_count": 923,
   "id": "8eb6aff4-9e55-413c-9186-3f073340c62e",
   "metadata": {},
   "outputs": [],
   "source": [
    "\n",
    "\n",
    "merged_df_x_train, merged_df_y_train = merged_df_train.iloc[:, ~merged_df_train.columns.isin(['close'])], merged_df_train.iloc[:, merged_df_train.columns.isin(['close'])]\n",
    "merged_df_x_test, merged_df_y_test =  merged_df_test.iloc[:, ~merged_df_test.columns.isin(['close'])], merged_df_test.iloc[:, merged_df_test.columns.isin(['close'])]\n",
    "                                                                                                                                                 "
   ]
  },
  {
   "cell_type": "code",
   "execution_count": 924,
   "id": "f57567c1-e472-4bb5-b72b-d05cd7faddb4",
   "metadata": {},
   "outputs": [
    {
     "data": {
      "text/html": [
       "<div>\n",
       "<style scoped>\n",
       "    .dataframe tbody tr th:only-of-type {\n",
       "        vertical-align: middle;\n",
       "    }\n",
       "\n",
       "    .dataframe tbody tr th {\n",
       "        vertical-align: top;\n",
       "    }\n",
       "\n",
       "    .dataframe thead th {\n",
       "        text-align: right;\n",
       "    }\n",
       "</style>\n",
       "<table border=\"1\" class=\"dataframe\">\n",
       "  <thead>\n",
       "    <tr style=\"text-align: right;\">\n",
       "      <th></th>\n",
       "      <th>nbeats_btc_lookback_15_window_5_std_1.25_num_add_dfs_2</th>\n",
       "      <th>tcn_btc_lookback_15_window_5_std_1.25_num_add_dfs_2</th>\n",
       "      <th>nbeats_btc_lookback_30_window_5_std_1.25_num_add_dfs_2</th>\n",
       "      <th>tcn_btc_lookback_30_window_5_std_1.25_num_add_dfs_2</th>\n",
       "      <th>nbeats_btc_lookback_45_window_5_std_1.25_num_add_dfs_2</th>\n",
       "      <th>tcn_btc_lookback_45_window_5_std_1.25_num_add_dfs_2</th>\n",
       "      <th>test_model_lookback_1</th>\n",
       "      <th>day</th>\n",
       "      <th>month</th>\n",
       "      <th>quarter</th>\n",
       "    </tr>\n",
       "  </thead>\n",
       "  <tbody>\n",
       "    <tr>\n",
       "      <th>0</th>\n",
       "      <td>4752.149527</td>\n",
       "      <td>253.537135</td>\n",
       "      <td>4730.976374</td>\n",
       "      <td>654.310204</td>\n",
       "      <td>3469.734359</td>\n",
       "      <td>795.201430</td>\n",
       "      <td>0.0</td>\n",
       "      <td>9</td>\n",
       "      <td>4</td>\n",
       "      <td>2</td>\n",
       "    </tr>\n",
       "    <tr>\n",
       "      <th>1</th>\n",
       "      <td>4546.248123</td>\n",
       "      <td>407.206977</td>\n",
       "      <td>4373.560445</td>\n",
       "      <td>255.627627</td>\n",
       "      <td>4437.900633</td>\n",
       "      <td>1413.509939</td>\n",
       "      <td>0.0</td>\n",
       "      <td>10</td>\n",
       "      <td>4</td>\n",
       "      <td>2</td>\n",
       "    </tr>\n",
       "    <tr>\n",
       "      <th>2</th>\n",
       "      <td>4550.998590</td>\n",
       "      <td>726.168584</td>\n",
       "      <td>4045.591506</td>\n",
       "      <td>1861.981408</td>\n",
       "      <td>4012.011230</td>\n",
       "      <td>523.093010</td>\n",
       "      <td>0.0</td>\n",
       "      <td>11</td>\n",
       "      <td>4</td>\n",
       "      <td>2</td>\n",
       "    </tr>\n",
       "    <tr>\n",
       "      <th>3</th>\n",
       "      <td>5003.264197</td>\n",
       "      <td>353.606543</td>\n",
       "      <td>4819.668698</td>\n",
       "      <td>817.215937</td>\n",
       "      <td>3977.238773</td>\n",
       "      <td>553.057301</td>\n",
       "      <td>0.0</td>\n",
       "      <td>12</td>\n",
       "      <td>4</td>\n",
       "      <td>2</td>\n",
       "    </tr>\n",
       "    <tr>\n",
       "      <th>4</th>\n",
       "      <td>5184.268504</td>\n",
       "      <td>197.768508</td>\n",
       "      <td>5123.185573</td>\n",
       "      <td>1596.333494</td>\n",
       "      <td>4093.602236</td>\n",
       "      <td>920.106602</td>\n",
       "      <td>0.0</td>\n",
       "      <td>13</td>\n",
       "      <td>4</td>\n",
       "      <td>2</td>\n",
       "    </tr>\n",
       "    <tr>\n",
       "      <th>...</th>\n",
       "      <td>...</td>\n",
       "      <td>...</td>\n",
       "      <td>...</td>\n",
       "      <td>...</td>\n",
       "      <td>...</td>\n",
       "      <td>...</td>\n",
       "      <td>...</td>\n",
       "      <td>...</td>\n",
       "      <td>...</td>\n",
       "      <td>...</td>\n",
       "    </tr>\n",
       "    <tr>\n",
       "      <th>481</th>\n",
       "      <td>9474.582586</td>\n",
       "      <td>8937.307830</td>\n",
       "      <td>9412.221795</td>\n",
       "      <td>9763.418871</td>\n",
       "      <td>9596.541157</td>\n",
       "      <td>9605.129715</td>\n",
       "      <td>0.0</td>\n",
       "      <td>2</td>\n",
       "      <td>8</td>\n",
       "      <td>3</td>\n",
       "    </tr>\n",
       "    <tr>\n",
       "      <th>482</th>\n",
       "      <td>9620.547643</td>\n",
       "      <td>10027.948410</td>\n",
       "      <td>9655.541195</td>\n",
       "      <td>9408.660579</td>\n",
       "      <td>10571.252397</td>\n",
       "      <td>9565.245379</td>\n",
       "      <td>0.0</td>\n",
       "      <td>3</td>\n",
       "      <td>8</td>\n",
       "      <td>3</td>\n",
       "    </tr>\n",
       "    <tr>\n",
       "      <th>483</th>\n",
       "      <td>10105.403866</td>\n",
       "      <td>10505.595563</td>\n",
       "      <td>9235.231388</td>\n",
       "      <td>8725.041784</td>\n",
       "      <td>10110.418434</td>\n",
       "      <td>8921.825783</td>\n",
       "      <td>0.0</td>\n",
       "      <td>4</td>\n",
       "      <td>8</td>\n",
       "      <td>3</td>\n",
       "    </tr>\n",
       "    <tr>\n",
       "      <th>484</th>\n",
       "      <td>10749.375335</td>\n",
       "      <td>9294.040252</td>\n",
       "      <td>9867.545794</td>\n",
       "      <td>9935.776604</td>\n",
       "      <td>10468.456160</td>\n",
       "      <td>9248.010080</td>\n",
       "      <td>0.0</td>\n",
       "      <td>5</td>\n",
       "      <td>8</td>\n",
       "      <td>3</td>\n",
       "    </tr>\n",
       "    <tr>\n",
       "      <th>485</th>\n",
       "      <td>10405.051248</td>\n",
       "      <td>10727.327232</td>\n",
       "      <td>10519.565262</td>\n",
       "      <td>10596.057967</td>\n",
       "      <td>9617.808944</td>\n",
       "      <td>10489.053948</td>\n",
       "      <td>0.0</td>\n",
       "      <td>6</td>\n",
       "      <td>8</td>\n",
       "      <td>3</td>\n",
       "    </tr>\n",
       "  </tbody>\n",
       "</table>\n",
       "<p>486 rows × 10 columns</p>\n",
       "</div>"
      ],
      "text/plain": [
       "     nbeats_btc_lookback_15_window_5_std_1.25_num_add_dfs_2  \\\n",
       "0                                          4752.149527        \n",
       "1                                          4546.248123        \n",
       "2                                          4550.998590        \n",
       "3                                          5003.264197        \n",
       "4                                          5184.268504        \n",
       "..                                                 ...        \n",
       "481                                        9474.582586        \n",
       "482                                        9620.547643        \n",
       "483                                       10105.403866        \n",
       "484                                       10749.375335        \n",
       "485                                       10405.051248        \n",
       "\n",
       "     tcn_btc_lookback_15_window_5_std_1.25_num_add_dfs_2  \\\n",
       "0                                           253.537135     \n",
       "1                                           407.206977     \n",
       "2                                           726.168584     \n",
       "3                                           353.606543     \n",
       "4                                           197.768508     \n",
       "..                                                 ...     \n",
       "481                                        8937.307830     \n",
       "482                                       10027.948410     \n",
       "483                                       10505.595563     \n",
       "484                                        9294.040252     \n",
       "485                                       10727.327232     \n",
       "\n",
       "     nbeats_btc_lookback_30_window_5_std_1.25_num_add_dfs_2  \\\n",
       "0                                          4730.976374        \n",
       "1                                          4373.560445        \n",
       "2                                          4045.591506        \n",
       "3                                          4819.668698        \n",
       "4                                          5123.185573        \n",
       "..                                                 ...        \n",
       "481                                        9412.221795        \n",
       "482                                        9655.541195        \n",
       "483                                        9235.231388        \n",
       "484                                        9867.545794        \n",
       "485                                       10519.565262        \n",
       "\n",
       "     tcn_btc_lookback_30_window_5_std_1.25_num_add_dfs_2  \\\n",
       "0                                           654.310204     \n",
       "1                                           255.627627     \n",
       "2                                          1861.981408     \n",
       "3                                           817.215937     \n",
       "4                                          1596.333494     \n",
       "..                                                 ...     \n",
       "481                                        9763.418871     \n",
       "482                                        9408.660579     \n",
       "483                                        8725.041784     \n",
       "484                                        9935.776604     \n",
       "485                                       10596.057967     \n",
       "\n",
       "     nbeats_btc_lookback_45_window_5_std_1.25_num_add_dfs_2  \\\n",
       "0                                          3469.734359        \n",
       "1                                          4437.900633        \n",
       "2                                          4012.011230        \n",
       "3                                          3977.238773        \n",
       "4                                          4093.602236        \n",
       "..                                                 ...        \n",
       "481                                        9596.541157        \n",
       "482                                       10571.252397        \n",
       "483                                       10110.418434        \n",
       "484                                       10468.456160        \n",
       "485                                        9617.808944        \n",
       "\n",
       "     tcn_btc_lookback_45_window_5_std_1.25_num_add_dfs_2  \\\n",
       "0                                           795.201430     \n",
       "1                                          1413.509939     \n",
       "2                                           523.093010     \n",
       "3                                           553.057301     \n",
       "4                                           920.106602     \n",
       "..                                                 ...     \n",
       "481                                        9605.129715     \n",
       "482                                        9565.245379     \n",
       "483                                        8921.825783     \n",
       "484                                        9248.010080     \n",
       "485                                       10489.053948     \n",
       "\n",
       "     test_model_lookback_1  day  month  quarter  \n",
       "0                      0.0    9      4        2  \n",
       "1                      0.0   10      4        2  \n",
       "2                      0.0   11      4        2  \n",
       "3                      0.0   12      4        2  \n",
       "4                      0.0   13      4        2  \n",
       "..                     ...  ...    ...      ...  \n",
       "481                    0.0    2      8        3  \n",
       "482                    0.0    3      8        3  \n",
       "483                    0.0    4      8        3  \n",
       "484                    0.0    5      8        3  \n",
       "485                    0.0    6      8        3  \n",
       "\n",
       "[486 rows x 10 columns]"
      ]
     },
     "execution_count": 924,
     "metadata": {},
     "output_type": "execute_result"
    }
   ],
   "source": [
    "merged_df_x_train"
   ]
  },
  {
   "cell_type": "code",
   "execution_count": 925,
   "id": "85857e04-e2d6-40cd-a01c-3e7d13056dfa",
   "metadata": {},
   "outputs": [
    {
     "data": {
      "text/html": [
       "<div>\n",
       "<style scoped>\n",
       "    .dataframe tbody tr th:only-of-type {\n",
       "        vertical-align: middle;\n",
       "    }\n",
       "\n",
       "    .dataframe tbody tr th {\n",
       "        vertical-align: top;\n",
       "    }\n",
       "\n",
       "    .dataframe thead th {\n",
       "        text-align: right;\n",
       "    }\n",
       "</style>\n",
       "<table border=\"1\" class=\"dataframe\">\n",
       "  <thead>\n",
       "    <tr style=\"text-align: right;\">\n",
       "      <th></th>\n",
       "      <th>close</th>\n",
       "    </tr>\n",
       "  </thead>\n",
       "  <tbody>\n",
       "    <tr>\n",
       "      <th>0</th>\n",
       "      <td>5204.96</td>\n",
       "    </tr>\n",
       "    <tr>\n",
       "      <th>1</th>\n",
       "      <td>5324.55</td>\n",
       "    </tr>\n",
       "    <tr>\n",
       "      <th>2</th>\n",
       "      <td>5064.49</td>\n",
       "    </tr>\n",
       "    <tr>\n",
       "      <th>3</th>\n",
       "      <td>5089.54</td>\n",
       "    </tr>\n",
       "    <tr>\n",
       "      <th>4</th>\n",
       "      <td>5096.59</td>\n",
       "    </tr>\n",
       "    <tr>\n",
       "      <th>...</th>\n",
       "      <td>...</td>\n",
       "    </tr>\n",
       "    <tr>\n",
       "      <th>481</th>\n",
       "      <td>11053.61</td>\n",
       "    </tr>\n",
       "    <tr>\n",
       "      <th>482</th>\n",
       "      <td>11246.35</td>\n",
       "    </tr>\n",
       "    <tr>\n",
       "      <th>483</th>\n",
       "      <td>11205.89</td>\n",
       "    </tr>\n",
       "    <tr>\n",
       "      <th>484</th>\n",
       "      <td>11747.02</td>\n",
       "    </tr>\n",
       "    <tr>\n",
       "      <th>485</th>\n",
       "      <td>11779.77</td>\n",
       "    </tr>\n",
       "  </tbody>\n",
       "</table>\n",
       "<p>486 rows × 1 columns</p>\n",
       "</div>"
      ],
      "text/plain": [
       "        close\n",
       "0     5204.96\n",
       "1     5324.55\n",
       "2     5064.49\n",
       "3     5089.54\n",
       "4     5096.59\n",
       "..        ...\n",
       "481  11053.61\n",
       "482  11246.35\n",
       "483  11205.89\n",
       "484  11747.02\n",
       "485  11779.77\n",
       "\n",
       "[486 rows x 1 columns]"
      ]
     },
     "execution_count": 925,
     "metadata": {},
     "output_type": "execute_result"
    }
   ],
   "source": [
    "merged_df_y_train"
   ]
  },
  {
   "cell_type": "markdown",
   "id": "9122c8a9-4101-40fa-a531-ee713cf8421f",
   "metadata": {},
   "source": [
    "# performance, rmse , on average prediction"
   ]
  },
  {
   "cell_type": "code",
   "execution_count": 926,
   "id": "3d85ce23-57d0-414e-87fa-73b948ea7621",
   "metadata": {},
   "outputs": [],
   "source": [
    "average_predictions_train = np.mean(merged_df_x_train.iloc[:,:6], axis=1)\n",
    "average_predictions_test = np.mean(merged_df_x_test.iloc[:,:6], axis=1)"
   ]
  },
  {
   "cell_type": "code",
   "execution_count": 927,
   "id": "8e756248-7ab4-48ca-b9e0-f75ea4b44028",
   "metadata": {},
   "outputs": [
    {
     "data": {
      "text/plain": [
       "0    2442.651505\n",
       "1    2572.342291\n",
       "2    2619.974055\n",
       "3    2587.341908\n",
       "4    2852.544153\n",
       "5    2721.518844\n",
       "6    3153.856190\n",
       "7    2727.367343\n",
       "8    3387.347636\n",
       "9    2872.964842\n",
       "dtype: float64"
      ]
     },
     "execution_count": 927,
     "metadata": {},
     "output_type": "execute_result"
    }
   ],
   "source": [
    "average_predictions_train[:10]"
   ]
  },
  {
   "cell_type": "code",
   "execution_count": 928,
   "id": "8a41e34c-142e-4dd0-8965-2cb79b7617a9",
   "metadata": {},
   "outputs": [
    {
     "data": {
      "text/html": [
       "<div>\n",
       "<style scoped>\n",
       "    .dataframe tbody tr th:only-of-type {\n",
       "        vertical-align: middle;\n",
       "    }\n",
       "\n",
       "    .dataframe tbody tr th {\n",
       "        vertical-align: top;\n",
       "    }\n",
       "\n",
       "    .dataframe thead th {\n",
       "        text-align: right;\n",
       "    }\n",
       "</style>\n",
       "<table border=\"1\" class=\"dataframe\">\n",
       "  <thead>\n",
       "    <tr style=\"text-align: right;\">\n",
       "      <th></th>\n",
       "      <th>close</th>\n",
       "    </tr>\n",
       "  </thead>\n",
       "  <tbody>\n",
       "    <tr>\n",
       "      <th>0</th>\n",
       "      <td>5204.96</td>\n",
       "    </tr>\n",
       "    <tr>\n",
       "      <th>1</th>\n",
       "      <td>5324.55</td>\n",
       "    </tr>\n",
       "    <tr>\n",
       "      <th>2</th>\n",
       "      <td>5064.49</td>\n",
       "    </tr>\n",
       "    <tr>\n",
       "      <th>3</th>\n",
       "      <td>5089.54</td>\n",
       "    </tr>\n",
       "    <tr>\n",
       "      <th>4</th>\n",
       "      <td>5096.59</td>\n",
       "    </tr>\n",
       "    <tr>\n",
       "      <th>5</th>\n",
       "      <td>5167.72</td>\n",
       "    </tr>\n",
       "    <tr>\n",
       "      <th>6</th>\n",
       "      <td>5067.11</td>\n",
       "    </tr>\n",
       "    <tr>\n",
       "      <th>7</th>\n",
       "      <td>5235.56</td>\n",
       "    </tr>\n",
       "    <tr>\n",
       "      <th>8</th>\n",
       "      <td>5251.94</td>\n",
       "    </tr>\n",
       "    <tr>\n",
       "      <th>9</th>\n",
       "      <td>5298.39</td>\n",
       "    </tr>\n",
       "  </tbody>\n",
       "</table>\n",
       "</div>"
      ],
      "text/plain": [
       "     close\n",
       "0  5204.96\n",
       "1  5324.55\n",
       "2  5064.49\n",
       "3  5089.54\n",
       "4  5096.59\n",
       "5  5167.72\n",
       "6  5067.11\n",
       "7  5235.56\n",
       "8  5251.94\n",
       "9  5298.39"
      ]
     },
     "execution_count": 928,
     "metadata": {},
     "output_type": "execute_result"
    }
   ],
   "source": [
    "merged_df_y_train.head(10)"
   ]
  },
  {
   "cell_type": "code",
   "execution_count": 929,
   "id": "e58203af-dd8b-404f-9008-a32f4281770c",
   "metadata": {},
   "outputs": [],
   "source": [
    "average_rmse_train = sqrt(mean_squared_error(average_predictions_train, merged_df_y_train))\n",
    "average_rmse_test = sqrt(mean_squared_error(average_predictions_test, merged_df_y_test))"
   ]
  },
  {
   "cell_type": "code",
   "execution_count": 930,
   "id": "0d0894d9-f3dd-4f43-b03b-c13e4864bb4d",
   "metadata": {},
   "outputs": [
    {
     "name": "stdout",
     "output_type": "stream",
     "text": [
      " The average training rmse is 1823.8193700892346\n",
      " The average testing rmse is 721.6392994016616\n"
     ]
    }
   ],
   "source": [
    "print(f\" The average training rmse is {average_rmse_train}\")\n",
    "print(f\" The average testing rmse is {average_rmse_test}\")"
   ]
  },
  {
   "cell_type": "code",
   "execution_count": null,
   "id": "8d09d361-24a5-4280-ad77-c4177aeef36c",
   "metadata": {},
   "outputs": [],
   "source": []
  },
  {
   "cell_type": "markdown",
   "id": "b728d4cc-8101-4025-8822-b1cadfed4c9b",
   "metadata": {},
   "source": [
    "# train linear regression on ALL predictions"
   ]
  },
  {
   "cell_type": "code",
   "execution_count": 931,
   "id": "ff1fa2c0-a41e-4829-aba7-85d71553e6db",
   "metadata": {},
   "outputs": [],
   "source": [
    "lregr = LinearRegression()"
   ]
  },
  {
   "cell_type": "code",
   "execution_count": 932,
   "id": "4d99c17f-43a3-4961-b2aa-3f8b13d78237",
   "metadata": {},
   "outputs": [
    {
     "data": {
      "text/plain": [
       "LinearRegression()"
      ]
     },
     "execution_count": 932,
     "metadata": {},
     "output_type": "execute_result"
    }
   ],
   "source": [
    "lregr.fit(merged_df_x_train, merged_df_y_train)"
   ]
  },
  {
   "cell_type": "code",
   "execution_count": 933,
   "id": "a7d82542-2910-4a8d-890c-0df31a31edbf",
   "metadata": {},
   "outputs": [],
   "source": [
    "train_predictions_lrgr = lregr.predict(merged_df_x_train)"
   ]
  },
  {
   "cell_type": "code",
   "execution_count": 934,
   "id": "e97bb2d0-28c8-43d5-a5e3-d22f32e8a6a6",
   "metadata": {},
   "outputs": [],
   "source": [
    "test_predictions_lrgr = lregr.predict(merged_df_x_test)"
   ]
  },
  {
   "cell_type": "code",
   "execution_count": 935,
   "id": "d065a73b-dede-4a2d-84e1-7ed66388d11b",
   "metadata": {},
   "outputs": [
    {
     "data": {
      "text/plain": [
       "array([[ 9995.86631283],\n",
       "       [10472.61564195],\n",
       "       [10321.24064166],\n",
       "       [10337.27263209],\n",
       "       [10304.93251317],\n",
       "       [10121.44008054],\n",
       "       [10080.41354908],\n",
       "       [10379.50726677],\n",
       "       [10410.58715221],\n",
       "       [10550.24989192],\n",
       "       [10686.90086298],\n",
       "       [10447.38390401],\n",
       "       [10316.15160927],\n",
       "       [10633.96055763],\n",
       "       [10578.82374457]])"
      ]
     },
     "execution_count": 935,
     "metadata": {},
     "output_type": "execute_result"
    }
   ],
   "source": [
    "test_predictions_lrgr[:15]\n"
   ]
  },
  {
   "cell_type": "code",
   "execution_count": 936,
   "id": "a7277898-427a-480c-aa3d-9a5f7ec6977a",
   "metadata": {},
   "outputs": [
    {
     "data": {
      "text/html": [
       "<div>\n",
       "<style scoped>\n",
       "    .dataframe tbody tr th:only-of-type {\n",
       "        vertical-align: middle;\n",
       "    }\n",
       "\n",
       "    .dataframe tbody tr th {\n",
       "        vertical-align: top;\n",
       "    }\n",
       "\n",
       "    .dataframe thead th {\n",
       "        text-align: right;\n",
       "    }\n",
       "</style>\n",
       "<table border=\"1\" class=\"dataframe\">\n",
       "  <thead>\n",
       "    <tr style=\"text-align: right;\">\n",
       "      <th></th>\n",
       "      <th>close</th>\n",
       "    </tr>\n",
       "  </thead>\n",
       "  <tbody>\n",
       "    <tr>\n",
       "      <th>486</th>\n",
       "      <td>11601.47</td>\n",
       "    </tr>\n",
       "    <tr>\n",
       "      <th>487</th>\n",
       "      <td>11754.05</td>\n",
       "    </tr>\n",
       "    <tr>\n",
       "      <th>488</th>\n",
       "      <td>11675.74</td>\n",
       "    </tr>\n",
       "    <tr>\n",
       "      <th>489</th>\n",
       "      <td>11878.11</td>\n",
       "    </tr>\n",
       "    <tr>\n",
       "      <th>490</th>\n",
       "      <td>11410.53</td>\n",
       "    </tr>\n",
       "    <tr>\n",
       "      <th>491</th>\n",
       "      <td>11584.93</td>\n",
       "    </tr>\n",
       "    <tr>\n",
       "      <th>492</th>\n",
       "      <td>11784.14</td>\n",
       "    </tr>\n",
       "    <tr>\n",
       "      <th>493</th>\n",
       "      <td>11768.87</td>\n",
       "    </tr>\n",
       "    <tr>\n",
       "      <th>494</th>\n",
       "      <td>11865.70</td>\n",
       "    </tr>\n",
       "    <tr>\n",
       "      <th>495</th>\n",
       "      <td>11892.80</td>\n",
       "    </tr>\n",
       "    <tr>\n",
       "      <th>496</th>\n",
       "      <td>12254.40</td>\n",
       "    </tr>\n",
       "    <tr>\n",
       "      <th>497</th>\n",
       "      <td>11991.23</td>\n",
       "    </tr>\n",
       "    <tr>\n",
       "      <th>498</th>\n",
       "      <td>11758.28</td>\n",
       "    </tr>\n",
       "    <tr>\n",
       "      <th>499</th>\n",
       "      <td>11878.37</td>\n",
       "    </tr>\n",
       "    <tr>\n",
       "      <th>500</th>\n",
       "      <td>11592.49</td>\n",
       "    </tr>\n",
       "  </tbody>\n",
       "</table>\n",
       "</div>"
      ],
      "text/plain": [
       "        close\n",
       "486  11601.47\n",
       "487  11754.05\n",
       "488  11675.74\n",
       "489  11878.11\n",
       "490  11410.53\n",
       "491  11584.93\n",
       "492  11784.14\n",
       "493  11768.87\n",
       "494  11865.70\n",
       "495  11892.80\n",
       "496  12254.40\n",
       "497  11991.23\n",
       "498  11758.28\n",
       "499  11878.37\n",
       "500  11592.49"
      ]
     },
     "execution_count": 936,
     "metadata": {},
     "output_type": "execute_result"
    }
   ],
   "source": [
    "merged_df_y_test.head(15)"
   ]
  },
  {
   "cell_type": "code",
   "execution_count": 937,
   "id": "32b1b1b9-dce5-4169-9801-13cdb5849c45",
   "metadata": {},
   "outputs": [],
   "source": [
    "average_rmse_train_lrgr = sqrt(mean_squared_error(train_predictions_lrgr, merged_df_y_train))\n",
    "average_rmse_test_lrgr = sqrt(mean_squared_error(test_predictions_lrgr, merged_df_y_test))"
   ]
  },
  {
   "cell_type": "code",
   "execution_count": 938,
   "id": "41d359ad-313f-4168-8ead-9a192c5335fd",
   "metadata": {},
   "outputs": [
    {
     "name": "stdout",
     "output_type": "stream",
     "text": [
      " The average training rmse with linear stacking is 986.6867914377826\n",
      " The average testing rmse with linear stacking is 1088.6741686309315\n"
     ]
    }
   ],
   "source": [
    "print(f\" The average training rmse with linear stacking is {average_rmse_train_lrgr}\")\n",
    "print(f\" The average testing rmse with linear stacking is {average_rmse_test_lrgr}\")"
   ]
  },
  {
   "cell_type": "markdown",
   "id": "f1629c3b-7055-4bbb-9986-57291b64bb79",
   "metadata": {},
   "source": [
    "\n",
    "\n",
    "#### feature importance"
   ]
  },
  {
   "cell_type": "code",
   "execution_count": 939,
   "id": "a7adb435-ce80-420f-9a38-e946fd60d78d",
   "metadata": {},
   "outputs": [
    {
     "data": {
      "text/plain": [
       "array([ 4.34260091e-01,  6.33775434e-03,  2.52707704e-01,  2.11201128e-02,\n",
       "        2.45796369e-02, -2.42143141e-02,  1.84741111e-13, -1.19905019e+01,\n",
       "       -1.41275545e+02,  3.12935214e+02])"
      ]
     },
     "execution_count": 939,
     "metadata": {},
     "output_type": "execute_result"
    }
   ],
   "source": [
    "lregr.coef_.ravel()"
   ]
  },
  {
   "cell_type": "code",
   "execution_count": 940,
   "id": "88355338-7291-4311-8299-d1e0b565ea4d",
   "metadata": {},
   "outputs": [
    {
     "data": {
      "text/plain": [
       "array([ 3.12935214e+02,  4.34260091e-01,  2.52707704e-01,  2.45796369e-02,\n",
       "        2.11201128e-02,  6.33775434e-03,  1.84741111e-13, -2.42143141e-02,\n",
       "       -1.19905019e+01, -1.41275545e+02])"
      ]
     },
     "execution_count": 940,
     "metadata": {},
     "output_type": "execute_result"
    }
   ],
   "source": [
    "lregr.coef_.ravel()[np.argsort(lregr.coef_.ravel())[::-1]]"
   ]
  },
  {
   "cell_type": "code",
   "execution_count": 941,
   "id": "d2526e02-6aca-4cce-a30e-ad662fc4f964",
   "metadata": {},
   "outputs": [
    {
     "data": {
      "text/plain": [
       "array([['month', 'day',\n",
       "        'tcn_btc_lookback_45_window_5_std_1.25_num_add_dfs_2',\n",
       "        'test_model_lookback_1',\n",
       "        'tcn_btc_lookback_15_window_5_std_1.25_num_add_dfs_2',\n",
       "        'tcn_btc_lookback_30_window_5_std_1.25_num_add_dfs_2',\n",
       "        'nbeats_btc_lookback_45_window_5_std_1.25_num_add_dfs_2',\n",
       "        'nbeats_btc_lookback_30_window_5_std_1.25_num_add_dfs_2',\n",
       "        'nbeats_btc_lookback_15_window_5_std_1.25_num_add_dfs_2',\n",
       "        'quarter']], dtype=object)"
      ]
     },
     "execution_count": 941,
     "metadata": {},
     "output_type": "execute_result"
    }
   ],
   "source": [
    "merged_df_x_train.columns[np.argsort(lregr.coef_)[::-1]]"
   ]
  },
  {
   "cell_type": "markdown",
   "id": "b0922be4-a921-44d1-9a34-bfb17cabebd9",
   "metadata": {},
   "source": [
    "## Test Random Forest"
   ]
  },
  {
   "cell_type": "code",
   "execution_count": 942,
   "id": "c07549e4-cd16-493e-9d7f-ca2a6ba7bfa2",
   "metadata": {},
   "outputs": [],
   "source": [
    "\n",
    "rf = RandomForestRegressor(n_estimators=500)"
   ]
  },
  {
   "cell_type": "code",
   "execution_count": 943,
   "id": "5108574f-0608-423f-8f26-94fffd4051e8",
   "metadata": {},
   "outputs": [
    {
     "name": "stderr",
     "output_type": "stream",
     "text": [
      "/var/folders/0r/jkhwtgvx0wb9vrk6xn4bmz2m0000gn/T/ipykernel_16211/1792525404.py:1: DataConversionWarning: A column-vector y was passed when a 1d array was expected. Please change the shape of y to (n_samples,), for example using ravel().\n",
      "  rf.fit(merged_df_x_train, merged_df_y_train)\n"
     ]
    },
    {
     "data": {
      "text/plain": [
       "RandomForestRegressor(n_estimators=500)"
      ]
     },
     "execution_count": 943,
     "metadata": {},
     "output_type": "execute_result"
    }
   ],
   "source": [
    "rf.fit(merged_df_x_train, merged_df_y_train)"
   ]
  },
  {
   "cell_type": "code",
   "execution_count": 944,
   "id": "50beb658-ece4-48dd-96d6-7477154623e0",
   "metadata": {},
   "outputs": [],
   "source": [
    "train_predictions_rf = rf.predict(merged_df_x_train)\n",
    "test_predictions_rf = rf.predict(merged_df_x_test)"
   ]
  },
  {
   "cell_type": "code",
   "execution_count": 945,
   "id": "7489ea00-70dc-4786-8dc3-e4b5b11de7f7",
   "metadata": {},
   "outputs": [
    {
     "data": {
      "text/plain": [
       "array([[11388.88658],\n",
       "       [11408.46958],\n",
       "       [11392.66194],\n",
       "       [11300.0202 ],\n",
       "       [11266.9458 ],\n",
       "       [11212.31272],\n",
       "       [10980.11056],\n",
       "       [10415.13368],\n",
       "       [10355.74526],\n",
       "       [10305.09446],\n",
       "       [10354.18302],\n",
       "       [10338.12866],\n",
       "       [10289.00302],\n",
       "       [10291.79834],\n",
       "       [10351.26662]])"
      ]
     },
     "execution_count": 945,
     "metadata": {},
     "output_type": "execute_result"
    }
   ],
   "source": [
    "test_predictions_rf[:15].reshape(-1,1)\n"
   ]
  },
  {
   "cell_type": "code",
   "execution_count": 946,
   "id": "4a932895-1e4d-48a1-afe4-ba416191288c",
   "metadata": {},
   "outputs": [
    {
     "data": {
      "text/html": [
       "<div>\n",
       "<style scoped>\n",
       "    .dataframe tbody tr th:only-of-type {\n",
       "        vertical-align: middle;\n",
       "    }\n",
       "\n",
       "    .dataframe tbody tr th {\n",
       "        vertical-align: top;\n",
       "    }\n",
       "\n",
       "    .dataframe thead th {\n",
       "        text-align: right;\n",
       "    }\n",
       "</style>\n",
       "<table border=\"1\" class=\"dataframe\">\n",
       "  <thead>\n",
       "    <tr style=\"text-align: right;\">\n",
       "      <th></th>\n",
       "      <th>close</th>\n",
       "    </tr>\n",
       "  </thead>\n",
       "  <tbody>\n",
       "    <tr>\n",
       "      <th>486</th>\n",
       "      <td>11601.47</td>\n",
       "    </tr>\n",
       "    <tr>\n",
       "      <th>487</th>\n",
       "      <td>11754.05</td>\n",
       "    </tr>\n",
       "    <tr>\n",
       "      <th>488</th>\n",
       "      <td>11675.74</td>\n",
       "    </tr>\n",
       "    <tr>\n",
       "      <th>489</th>\n",
       "      <td>11878.11</td>\n",
       "    </tr>\n",
       "    <tr>\n",
       "      <th>490</th>\n",
       "      <td>11410.53</td>\n",
       "    </tr>\n",
       "    <tr>\n",
       "      <th>491</th>\n",
       "      <td>11584.93</td>\n",
       "    </tr>\n",
       "    <tr>\n",
       "      <th>492</th>\n",
       "      <td>11784.14</td>\n",
       "    </tr>\n",
       "    <tr>\n",
       "      <th>493</th>\n",
       "      <td>11768.87</td>\n",
       "    </tr>\n",
       "    <tr>\n",
       "      <th>494</th>\n",
       "      <td>11865.70</td>\n",
       "    </tr>\n",
       "    <tr>\n",
       "      <th>495</th>\n",
       "      <td>11892.80</td>\n",
       "    </tr>\n",
       "    <tr>\n",
       "      <th>496</th>\n",
       "      <td>12254.40</td>\n",
       "    </tr>\n",
       "    <tr>\n",
       "      <th>497</th>\n",
       "      <td>11991.23</td>\n",
       "    </tr>\n",
       "    <tr>\n",
       "      <th>498</th>\n",
       "      <td>11758.28</td>\n",
       "    </tr>\n",
       "    <tr>\n",
       "      <th>499</th>\n",
       "      <td>11878.37</td>\n",
       "    </tr>\n",
       "    <tr>\n",
       "      <th>500</th>\n",
       "      <td>11592.49</td>\n",
       "    </tr>\n",
       "  </tbody>\n",
       "</table>\n",
       "</div>"
      ],
      "text/plain": [
       "        close\n",
       "486  11601.47\n",
       "487  11754.05\n",
       "488  11675.74\n",
       "489  11878.11\n",
       "490  11410.53\n",
       "491  11584.93\n",
       "492  11784.14\n",
       "493  11768.87\n",
       "494  11865.70\n",
       "495  11892.80\n",
       "496  12254.40\n",
       "497  11991.23\n",
       "498  11758.28\n",
       "499  11878.37\n",
       "500  11592.49"
      ]
     },
     "execution_count": 946,
     "metadata": {},
     "output_type": "execute_result"
    }
   ],
   "source": [
    "merged_df_y_test.head(15)"
   ]
  },
  {
   "cell_type": "code",
   "execution_count": 947,
   "id": "66ec16f0-9fd7-4c17-a1db-a05253a52cc7",
   "metadata": {},
   "outputs": [],
   "source": [
    "average_rmse_train_rf = sqrt(mean_squared_error(train_predictions_rf, merged_df_y_train))\n",
    "average_rmse_test_rf = sqrt(mean_squared_error(test_predictions_rf, merged_df_y_test))"
   ]
  },
  {
   "cell_type": "code",
   "execution_count": 948,
   "id": "1a0424ea-40d4-427c-9da8-c735136624e9",
   "metadata": {},
   "outputs": [
    {
     "name": "stdout",
     "output_type": "stream",
     "text": [
      " The average training rmse with RF stacking is 268.99419763916507\n",
      " The average testing rmse with RF stacking is 1221.3785771976902\n"
     ]
    }
   ],
   "source": [
    "print(f\" The average training rmse with RF stacking is {average_rmse_train_rf}\")\n",
    "print(f\" The average testing rmse with RF stacking is {average_rmse_test_rf}\")"
   ]
  },
  {
   "cell_type": "code",
   "execution_count": 949,
   "id": "039cbba1-bd4e-4907-b290-a9394c9efb17",
   "metadata": {},
   "outputs": [
    {
     "data": {
      "text/plain": [
       "array([0.54775669, 0.12920538, 0.0757591 , 0.05930464, 0.0567762 ,\n",
       "       0.03963325, 0.03862842, 0.02795125, 0.02498508, 0.        ])"
      ]
     },
     "execution_count": 949,
     "metadata": {},
     "output_type": "execute_result"
    }
   ],
   "source": [
    "rf.feature_importances_.ravel()[np.argsort(rf.feature_importances_.ravel())[::-1]]"
   ]
  },
  {
   "cell_type": "code",
   "execution_count": 950,
   "id": "c3ba12c5-be1b-4878-91e6-51e343fb488a",
   "metadata": {},
   "outputs": [
    {
     "data": {
      "text/plain": [
       "Index(['nbeats_btc_lookback_15_window_5_std_1.25_num_add_dfs_2',\n",
       "       'nbeats_btc_lookback_30_window_5_std_1.25_num_add_dfs_2', 'month',\n",
       "       'day', 'nbeats_btc_lookback_45_window_5_std_1.25_num_add_dfs_2',\n",
       "       'tcn_btc_lookback_30_window_5_std_1.25_num_add_dfs_2',\n",
       "       'tcn_btc_lookback_15_window_5_std_1.25_num_add_dfs_2', 'quarter',\n",
       "       'tcn_btc_lookback_45_window_5_std_1.25_num_add_dfs_2',\n",
       "       'test_model_lookback_1'],\n",
       "      dtype='object')"
      ]
     },
     "execution_count": 950,
     "metadata": {},
     "output_type": "execute_result"
    }
   ],
   "source": [
    "merged_df_x_train.columns[np.argsort(rf.feature_importances_)[::-1]]"
   ]
  },
  {
   "cell_type": "markdown",
   "id": "89ae8ddf-a9f1-4123-84d1-0a710b491c42",
   "metadata": {},
   "source": [
    "## Test gradient boosting"
   ]
  },
  {
   "cell_type": "code",
   "execution_count": 951,
   "id": "b4ee83f6-f802-46eb-99bf-09d0535e5edc",
   "metadata": {},
   "outputs": [],
   "source": [
    "gb = GradientBoostingRegressor(n_estimators=200)"
   ]
  },
  {
   "cell_type": "code",
   "execution_count": 952,
   "id": "892a241a-1c11-4b86-a4bf-46fd90d416a4",
   "metadata": {},
   "outputs": [
    {
     "name": "stderr",
     "output_type": "stream",
     "text": [
      "/Users/jonathanhilgart/Library/Caches/pypoetry/virtualenvs/go-trader-aTWd7ZB6-py3.8/lib/python3.8/site-packages/sklearn/ensemble/_gb.py:494: DataConversionWarning: A column-vector y was passed when a 1d array was expected. Please change the shape of y to (n_samples, ), for example using ravel().\n",
      "  y = column_or_1d(y, warn=True)\n"
     ]
    },
    {
     "data": {
      "text/plain": [
       "GradientBoostingRegressor(n_estimators=200)"
      ]
     },
     "execution_count": 952,
     "metadata": {},
     "output_type": "execute_result"
    }
   ],
   "source": [
    "gb.fit(merged_df_x_train, merged_df_y_train)"
   ]
  },
  {
   "cell_type": "code",
   "execution_count": 953,
   "id": "77bac800-8b1b-4ad7-8010-016c01f811ed",
   "metadata": {},
   "outputs": [],
   "source": [
    "train_predictions_gb = gb.predict(merged_df_x_train)\n",
    "test_predictions_gb = gb.predict(merged_df_x_test)"
   ]
  },
  {
   "cell_type": "code",
   "execution_count": 954,
   "id": "74ee0cc0-4be6-4fa7-94a3-a377b7518406",
   "metadata": {},
   "outputs": [
    {
     "data": {
      "text/plain": [
       "array([[11236.4888797 ],\n",
       "       [11434.1483725 ],\n",
       "       [11391.59780092],\n",
       "       [11253.82545603],\n",
       "       [10896.57534784],\n",
       "       [10806.34783648],\n",
       "       [10685.08938925],\n",
       "       [10451.68375825],\n",
       "       [10657.24776663],\n",
       "       [10674.60784759],\n",
       "       [10626.25804594],\n",
       "       [10470.6246272 ],\n",
       "       [10394.2225457 ],\n",
       "       [10572.2052481 ],\n",
       "       [10605.65022014]])"
      ]
     },
     "execution_count": 954,
     "metadata": {},
     "output_type": "execute_result"
    }
   ],
   "source": [
    "test_predictions_gb[:15].reshape(-1,1)\n"
   ]
  },
  {
   "cell_type": "code",
   "execution_count": 955,
   "id": "fa6e09d7-f773-496e-a043-922acba978eb",
   "metadata": {},
   "outputs": [
    {
     "data": {
      "text/html": [
       "<div>\n",
       "<style scoped>\n",
       "    .dataframe tbody tr th:only-of-type {\n",
       "        vertical-align: middle;\n",
       "    }\n",
       "\n",
       "    .dataframe tbody tr th {\n",
       "        vertical-align: top;\n",
       "    }\n",
       "\n",
       "    .dataframe thead th {\n",
       "        text-align: right;\n",
       "    }\n",
       "</style>\n",
       "<table border=\"1\" class=\"dataframe\">\n",
       "  <thead>\n",
       "    <tr style=\"text-align: right;\">\n",
       "      <th></th>\n",
       "      <th>close</th>\n",
       "    </tr>\n",
       "  </thead>\n",
       "  <tbody>\n",
       "    <tr>\n",
       "      <th>486</th>\n",
       "      <td>11601.47</td>\n",
       "    </tr>\n",
       "    <tr>\n",
       "      <th>487</th>\n",
       "      <td>11754.05</td>\n",
       "    </tr>\n",
       "    <tr>\n",
       "      <th>488</th>\n",
       "      <td>11675.74</td>\n",
       "    </tr>\n",
       "    <tr>\n",
       "      <th>489</th>\n",
       "      <td>11878.11</td>\n",
       "    </tr>\n",
       "    <tr>\n",
       "      <th>490</th>\n",
       "      <td>11410.53</td>\n",
       "    </tr>\n",
       "    <tr>\n",
       "      <th>491</th>\n",
       "      <td>11584.93</td>\n",
       "    </tr>\n",
       "    <tr>\n",
       "      <th>492</th>\n",
       "      <td>11784.14</td>\n",
       "    </tr>\n",
       "    <tr>\n",
       "      <th>493</th>\n",
       "      <td>11768.87</td>\n",
       "    </tr>\n",
       "    <tr>\n",
       "      <th>494</th>\n",
       "      <td>11865.70</td>\n",
       "    </tr>\n",
       "    <tr>\n",
       "      <th>495</th>\n",
       "      <td>11892.80</td>\n",
       "    </tr>\n",
       "    <tr>\n",
       "      <th>496</th>\n",
       "      <td>12254.40</td>\n",
       "    </tr>\n",
       "    <tr>\n",
       "      <th>497</th>\n",
       "      <td>11991.23</td>\n",
       "    </tr>\n",
       "    <tr>\n",
       "      <th>498</th>\n",
       "      <td>11758.28</td>\n",
       "    </tr>\n",
       "    <tr>\n",
       "      <th>499</th>\n",
       "      <td>11878.37</td>\n",
       "    </tr>\n",
       "    <tr>\n",
       "      <th>500</th>\n",
       "      <td>11592.49</td>\n",
       "    </tr>\n",
       "  </tbody>\n",
       "</table>\n",
       "</div>"
      ],
      "text/plain": [
       "        close\n",
       "486  11601.47\n",
       "487  11754.05\n",
       "488  11675.74\n",
       "489  11878.11\n",
       "490  11410.53\n",
       "491  11584.93\n",
       "492  11784.14\n",
       "493  11768.87\n",
       "494  11865.70\n",
       "495  11892.80\n",
       "496  12254.40\n",
       "497  11991.23\n",
       "498  11758.28\n",
       "499  11878.37\n",
       "500  11592.49"
      ]
     },
     "execution_count": 955,
     "metadata": {},
     "output_type": "execute_result"
    }
   ],
   "source": [
    "merged_df_y_test.head(15)"
   ]
  },
  {
   "cell_type": "code",
   "execution_count": 956,
   "id": "1025c95d-eb95-42a8-9b55-c0f3b2ca089b",
   "metadata": {},
   "outputs": [],
   "source": [
    "average_rmse_train_gb = sqrt(mean_squared_error(train_predictions_gb, merged_df_y_train))\n",
    "average_rmse_test_gb = sqrt(mean_squared_error(test_predictions_gb, merged_df_y_test))"
   ]
  },
  {
   "cell_type": "code",
   "execution_count": 957,
   "id": "ad174d04-f7e0-411d-85ac-6d355707e614",
   "metadata": {},
   "outputs": [
    {
     "name": "stdout",
     "output_type": "stream",
     "text": [
      " The average training rmse with GB stacking is 260.2303361794148\n",
      " The average testing rmse with GB stacking is 1166.5582090252108\n"
     ]
    }
   ],
   "source": [
    "print(f\" The average training rmse with GB stacking is {average_rmse_train_gb}\")\n",
    "print(f\" The average testing rmse with GB stacking is {average_rmse_test_gb}\")"
   ]
  },
  {
   "cell_type": "code",
   "execution_count": 958,
   "id": "2a077d39-45be-4dc1-9aea-0431e4eb1784",
   "metadata": {},
   "outputs": [
    {
     "data": {
      "text/plain": [
       "array([0.5279611 , 0.1311332 , 0.119377  , 0.05095145, 0.04548332,\n",
       "       0.03957752, 0.03815806, 0.02749728, 0.01986108, 0.        ])"
      ]
     },
     "execution_count": 958,
     "metadata": {},
     "output_type": "execute_result"
    }
   ],
   "source": [
    "gb.feature_importances_.ravel()[np.argsort(gb.feature_importances_.ravel())[::-1]]"
   ]
  },
  {
   "cell_type": "code",
   "execution_count": 959,
   "id": "10b6d0cd-5f43-45e3-b4ea-b00a8601347c",
   "metadata": {},
   "outputs": [
    {
     "data": {
      "text/plain": [
       "Index(['nbeats_btc_lookback_15_window_5_std_1.25_num_add_dfs_2',\n",
       "       'nbeats_btc_lookback_30_window_5_std_1.25_num_add_dfs_2', 'month',\n",
       "       'tcn_btc_lookback_30_window_5_std_1.25_num_add_dfs_2', 'day',\n",
       "       'nbeats_btc_lookback_45_window_5_std_1.25_num_add_dfs_2', 'quarter',\n",
       "       'tcn_btc_lookback_15_window_5_std_1.25_num_add_dfs_2',\n",
       "       'tcn_btc_lookback_45_window_5_std_1.25_num_add_dfs_2',\n",
       "       'test_model_lookback_1'],\n",
       "      dtype='object')"
      ]
     },
     "execution_count": 959,
     "metadata": {},
     "output_type": "execute_result"
    }
   ],
   "source": [
    "merged_df_x_train.columns[np.argsort(gb.feature_importances_)[::-1]]"
   ]
  },
  {
   "cell_type": "code",
   "execution_count": null,
   "id": "dde70be6-d9ab-402f-8451-3d497a3201bf",
   "metadata": {},
   "outputs": [],
   "source": []
  },
  {
   "cell_type": "code",
   "execution_count": null,
   "id": "1e67d6a9-a947-49f3-9151-fb61574674c8",
   "metadata": {},
   "outputs": [],
   "source": []
  }
 ],
 "metadata": {
  "kernelspec": {
   "display_name": "go-trader",
   "language": "python",
   "name": "go-trader"
  },
  "language_info": {
   "codemirror_mode": {
    "name": "ipython",
    "version": 3
   },
   "file_extension": ".py",
   "mimetype": "text/x-python",
   "name": "python",
   "nbconvert_exporter": "python",
   "pygments_lexer": "ipython3",
   "version": "3.8.2"
  }
 },
 "nbformat": 4,
 "nbformat_minor": 5
}
