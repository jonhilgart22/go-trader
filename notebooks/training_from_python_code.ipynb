{
 "cells": [
  {
   "cell_type": "code",
   "execution_count": null,
   "id": "6195ee83-a9ae-4aac-ad18-380b660b4772",
   "metadata": {},
   "outputs": [],
   "source": [
    "import time\n",
    "from datetime import datetime\n",
    "\n",
    "import numpy as np\n",
    "import pandas as pd\n",
    "import matplotlib.pyplot as plt\n",
    "\n",
    "import sys\n",
    "\n",
    "sys.path.insert(0,\"../\")\n",
    "\n",
    "from app.mlcode.predict_price_movements import CoinPricePredictor\n",
    "from app.mlcode.determine_trading_state import DetermineTradingState\n",
    "from app.mlcode.utils import read_in_data, read_in_yaml, running_on_aws, setup_logging, update_yaml_config\n",
    "\n",
    "%pylab inline\n",
    "\n",
    "import logging\n",
    "\n",
    "from tqdm.notebook import tqdm\n",
    "tqdm.pandas()"
   ]
  },
  {
   "cell_type": "code",
   "execution_count": null,
   "id": "2245a221-5fad-492c-a16c-c8341e8ef3ec",
   "metadata": {},
   "outputs": [],
   "source": []
  },
  {
   "cell_type": "markdown",
   "id": "3cf57fbf-b13e-4c99-8c9e-adfa54de30cb",
   "metadata": {},
   "source": [
    "## Setup data\n",
    "- All of these configs are stored in the notebooks folder"
   ]
  },
  {
   "cell_type": "code",
   "execution_count": 7,
   "id": "ba00f678-e612-400e-ae2b-de525fa7f0db",
   "metadata": {},
   "outputs": [
    {
     "name": "stderr",
     "output_type": "stream",
     "text": [
      "2022-04-01 09:12:53,478: : read_in_yaml  Reading in configs/constants.yml\n",
      "2022-04-01 09:12:53,625: : read_in_yaml  Key = btc_product_code Value = BTC/USD\n",
      "2022-04-01 09:12:53,627: : read_in_yaml  Key = tcn_modelname_btc Value = tcn_btc\n",
      "2022-04-01 09:12:53,628: : read_in_yaml  Key = nbeats_modelname_btc Value = nbeats_btc\n",
      "2022-04-01 09:12:53,629: : read_in_yaml  Key = bitcoin_csv_filename Value = tmp/historic_crypto_prices - bitcoin_jan_2017_sep_4_2021 copy.csv\n",
      "2022-04-01 09:12:53,632: : read_in_yaml  Key = tcn_filename_btc Value = checkpoint_4499.pth.tar\n",
      "2022-04-01 09:12:53,634: : read_in_yaml  Key = nbeats_filename_btc Value = checkpoint_257.pth.tar\n",
      "2022-04-01 09:12:53,640: : read_in_yaml  Key = eth_product_code Value = ETH/USD\n",
      "2022-04-01 09:12:53,643: : read_in_yaml  Key = tcn_modelname_eth Value = tcn_eth\n",
      "2022-04-01 09:12:53,646: : read_in_yaml  Key = nbeats_modelname_eth Value = nbeats_eth\n",
      "2022-04-01 09:12:53,648: : read_in_yaml  Key = etherum_csv_filename Value = tmp/historic_crypto_prices - etherum_jan_2017_sept_4_2021 copy.csv\n",
      "2022-04-01 09:12:53,657: : read_in_yaml  Key = tcn_filename_eth Value = checkpoint_5649.pth.tar\n",
      "2022-04-01 09:12:53,663: : read_in_yaml  Key = nbeats_filename_eth Value = checkpoint_257.pth.tar\n",
      "2022-04-01 09:12:53,670: : read_in_yaml  Key = spy_product_code Value = SPY/USD\n",
      "2022-04-01 09:12:53,678: : read_in_yaml  Key = ada_product_code Value = ADA/USD\n",
      "2022-04-01 09:12:53,681: : read_in_yaml  Key = sol_product_code Value = SOL/USD\n",
      "2022-04-01 09:12:53,682: : read_in_yaml  Key = tcn_modelname_sol Value = tcn_sol\n",
      "2022-04-01 09:12:53,683: : read_in_yaml  Key = tcn_filename_sol Value = test_sol_tcn.pth.tar\n",
      "2022-04-01 09:12:53,689: : read_in_yaml  Key = nbeats_modelname_sol Value = nbeats_sol\n",
      "2022-04-01 09:12:53,696: : read_in_yaml  Key = nbeats_filename_sol Value = test_sol_nbeats.pth.tar\n",
      "2022-04-01 09:12:53,698: : read_in_yaml  Key = sol_csv_filename Value = tmp/historic_crypto_prices - sol_jan_2017_oct_18_2021.csv\n",
      "2022-04-01 09:12:53,700: : read_in_yaml  Key = matic_product_code Value = MATIC/USD\n",
      "2022-04-01 09:12:53,708: : read_in_yaml  Key = tcn_modelname_matic Value = tcn_matic\n",
      "2022-04-01 09:12:53,710: : read_in_yaml  Key = tcn_filename_matic Value = test_matic_tcn.pth.tar\n",
      "2022-04-01 09:12:53,715: : read_in_yaml  Key = nbeats_modelname_matic Value = nbeats_matic\n",
      "2022-04-01 09:12:53,719: : read_in_yaml  Key = nbeats_filename_matic Value = test_matic_nbeats.pth.tar\n",
      "2022-04-01 09:12:53,724: : read_in_yaml  Key = matic_csv_filename Value = tmp/historic_crypto_prices - matic_dec_2020_dec_2021.csv\n",
      "2022-04-01 09:12:53,725: : read_in_yaml  Key = link_product_code Value = LINK/USD\n",
      "2022-04-01 09:12:53,726: : read_in_yaml  Key = tcn_modelname_link Value = tcn_link\n",
      "2022-04-01 09:12:53,727: : read_in_yaml  Key = tcn_filename_link Value = test_link_tcn.pth.tar\n",
      "2022-04-01 09:12:53,729: : read_in_yaml  Key = nbeats_modelname_link Value = nbeats_link\n",
      "2022-04-01 09:12:53,731: : read_in_yaml  Key = nbeats_filename_link Value = test_link_nbeats.pth.tar\n",
      "2022-04-01 09:12:53,732: : read_in_yaml  Key = link_csv_filename Value = tmp/historic_crypto_prices - link_jan_2019_jan_2022.csv\n",
      "2022-04-01 09:12:53,733: : read_in_yaml  Key = candle_granularity Value = 86400\n",
      "2022-04-01 09:12:53,734: : read_in_yaml  Key = s3_bucket Value = go-trader\n",
      "2022-04-01 09:12:53,737: : read_in_yaml  Key = s3_data_location Value = data\n",
      "2022-04-01 09:12:53,741: : read_in_yaml  Key = s3_configs_locations Value = None\n",
      "2022-04-01 09:12:53,742: : read_in_yaml  Key = actions_to_take_filename Value = tmp/actions_to_take.yml\n",
      "2022-04-01 09:12:53,743: : read_in_yaml  Key = constants_filename Value = tmp/constants.yml\n",
      "2022-04-01 09:12:53,745: : read_in_yaml  Key = ml_config_filename Value = tmp/ml_config.yml\n",
      "2022-04-01 09:12:53,747: : read_in_yaml  Key = trading_state_config_filename Value = tmp/trading_state_config.yml\n",
      "2022-04-01 09:12:53,749: : read_in_yaml  Key = won_and_lost_amount_filename Value = tmp/won_and_lost_config.yml\n",
      "2022-04-01 09:12:53,753: : read_in_yaml  Key = rolling_mean_col Value = Rolling Mean\n",
      "2022-04-01 09:12:53,756: : read_in_yaml  Key = bollinger_high_col Value = Bollinger High\n",
      "2022-04-01 09:12:53,759: : read_in_yaml  Key = bollinger_low_col Value = Bollinger Low\n",
      "2022-04-01 09:12:53,760: : read_in_yaml  Key = volume_col Value = volume\n",
      "2022-04-01 09:12:53,761: : read_in_yaml  Key = open_col Value = open\n",
      "2022-04-01 09:12:53,762: : read_in_yaml  Key = high_col Value = high\n",
      "2022-04-01 09:12:53,763: : read_in_yaml  Key = low_col Value = low\n",
      "2022-04-01 09:12:53,764: : read_in_yaml  Key = close_col Value = close\n",
      "2022-04-01 09:12:53,765: : read_in_yaml  Key = macd_col Value = macd\n",
      "2022-04-01 09:12:53,770: : read_in_yaml  Key = macd_signal_col Value = macd_signal\n",
      "2022-04-01 09:12:53,776: : read_in_yaml  Key = stc_col Value = stc\n",
      "2022-04-01 09:12:53,778: : read_in_yaml  Key = stoch_col Value = stoch\n",
      "2022-04-01 09:12:53,786: : read_in_yaml  Key = rsi_col Value = rsi\n",
      "2022-04-01 09:12:53,790: : read_in_yaml  Key = ml_models_dir Value = models\n",
      "2022-04-01 09:12:53,792: : read_in_yaml  Key = ml_model_dir_prefix Value = models/checkpoints\n",
      "2022-04-01 09:12:53,794: : read_in_yaml  Key = python_script_path Value = app/mlcode/main.py\n",
      "2022-04-01 09:12:53,795: : read_in_yaml  Key = log_filename Value = logs.txt\n",
      "2022-04-01 09:12:53,799: : read_in_yaml  Key = default_purchase_size Value = 0.0001\n",
      "2022-04-01 09:12:53,802: : read_in_yaml  Key = email_separator Value = <br>\n",
      "2022-04-01 09:12:53,804: : read_in_yaml  ----------\n",
      "2022-04-01 09:12:53,809: : read_in_yaml  Reading in configs/btc_trading_state_config.yml\n",
      "2022-04-01 09:12:53,818: : read_in_yaml  Key = buy_entry_price Value = 0.0\n",
      "2022-04-01 09:12:53,820: : read_in_yaml  Key = buy_has_crossed_mean Value = 0.0\n",
      "2022-04-01 09:12:53,821: : read_in_yaml  Key = mode Value = no_position\n",
      "2022-04-01 09:12:53,821: : read_in_yaml  Key = position_entry_date Value = None\n",
      "2022-04-01 09:12:53,824: : read_in_yaml  Key = short_entry_price Value = 0.0\n",
      "2022-04-01 09:12:53,825: : read_in_yaml  Key = short_has_crossed_mean Value = 0.0\n",
      "2022-04-01 09:12:53,826: : read_in_yaml  Key = stop_loss_pct Value = 0.1\n",
      "2022-04-01 09:12:53,827: : read_in_yaml  Key = stop_loss_price Value = 0.0\n",
      "2022-04-01 09:12:53,829: : read_in_yaml  ----------\n",
      "2022-04-01 09:12:53,833: : read_in_yaml  Reading in configs/btc_won_and_lost_config.yml\n",
      "2022-04-01 09:12:53,842: : read_in_yaml  Key = dollar_amount_buy_lost Value = 0.0\n",
      "2022-04-01 09:12:53,845: : read_in_yaml  Key = dollar_amount_buy_won Value = 2813.0\n",
      "2022-04-01 09:12:53,851: : read_in_yaml  Key = dollar_amount_short_lost Value = 0.0\n",
      "2022-04-01 09:12:53,853: : read_in_yaml  Key = dollar_amount_short_won Value = 0.0\n",
      "2022-04-01 09:12:53,854: : read_in_yaml  Key = n_buy_lost Value = 0.0\n",
      "2022-04-01 09:12:53,856: : read_in_yaml  Key = n_buy_won Value = 1.0\n",
      "2022-04-01 09:12:53,858: : read_in_yaml  Key = n_short_lost Value = 0.0\n",
      "2022-04-01 09:12:53,860: : read_in_yaml  Key = n_short_won Value = 0.0\n",
      "2022-04-01 09:12:53,863: : read_in_yaml  Key = n_total_days_in_trades Value = 6.0\n",
      "2022-04-01 09:12:53,864: : read_in_yaml  ----------\n",
      "2022-04-01 09:12:53,866: : read_in_yaml  Reading in configs/btc_actions_to_take.yml\n",
      "2022-04-01 09:12:53,870: : read_in_yaml  Key = action_to_take Value = none_to_none\n",
      "2022-04-01 09:12:53,872: : read_in_yaml  ----------\n",
      "2022-04-01 09:12:53,878: : read_in_yaml  Reading in configs/ml_config.yml\n",
      "2022-04-01 09:12:53,891: : read_in_yaml  Key = prediction_params Value = {'bollinger_window': 5, 'no_of_std': 1.25, 'lookback_window': [15, 30, 45], 'prediction_n_days': 7, 'model_name': ['TCN', 'NBEATS'], 'work_dir': '/mnt/shared-storage'}\n",
      "2022-04-01 09:12:53,899: : read_in_yaml  Key = hyperparameters_tcn Value = {'dropout': 0.1, 'random_state': 0, 'dilation_base': 2, 'kernel_size': 14, 'num_filters': 7, 'num_layers': 7, 'weight_norm': True, 'epochs': 55}\n",
      "2022-04-01 09:12:53,900: : read_in_yaml  Key = hyperparameters_nbeats Value = {'random_state': 0, 'num_blocks': 5, 'layer_widths': 256, 'epochs': 10}\n",
      "2022-04-01 09:12:53,901: : read_in_yaml  ----------\n"
     ]
    }
   ],
   "source": [
    "base_path = \"configs/\"\n",
    "coin = \"btc\"\n",
    "coin_to_predict = coin +\"_\"\n",
    "\n",
    "constants = read_in_yaml( base_path + \"constants.yml\", running_on_aws())\n",
    "    \n",
    "trading_state_filename = base_path + coin_to_predict + \"trading_state_config.yml\"\n",
    "trading_constants = read_in_yaml(trading_state_filename, running_on_aws())\n",
    "\n",
    "won_lost_amount_filename = base_path + coin_to_predict + \"won_and_lost_config.yml\"\n",
    "won_and_lost_amount_constants = read_in_yaml(won_lost_amount_filename, running_on_aws())\n",
    "    \n",
    "\n",
    "actions_to_take_filename =  base_path + coin_to_predict + \"actions_to_take.yml\"\n",
    "actions_to_take_constants = read_in_yaml(actions_to_take_filename, running_on_aws())\n",
    "\n",
    "\n",
    "ml_constants = read_in_yaml(base_path +constants[\"ml_config_filename\"].split(\"/\")[1], running_on_aws())"
   ]
  },
  {
   "cell_type": "code",
   "execution_count": 3,
   "id": "55471cc6-59f6-491d-a42e-043f5fc69755",
   "metadata": {},
   "outputs": [
    {
     "name": "stderr",
     "output_type": "stream",
     "text": [
      "2022-03-30 21:55:26,970: : read_in_data  Input file ../tmp/historic_crypto_prices - bitcoin_jan_2017_sep_4_2021 copy.csv\n",
      "2022-03-30 21:55:26,989: : read_in_data                 open     high      low    close       volume\n",
      "date                                                       \n",
      "2017-01-01   963.66  1003.08   958.70   998.33  147775008.0\n",
      "2017-01-02   998.62  1031.39   996.70  1021.75  222184992.0\n",
      "2017-01-03  1021.60  1044.08  1021.60  1043.84  185168000.0\n",
      "2017-01-04  1044.40  1159.42  1044.40  1154.73  344945984.0\n",
      "2017-01-05  1156.73  1191.10   910.42  1013.38  510199008.0\n",
      "2022-03-30 21:55:27,002: : read_in_data                 open     high      low    close        volume\n",
      "date                                                        \n",
      "2022-03-26  44331.0  44792.0  44101.0  44531.0  2.278341e+07\n",
      "2022-03-27  44531.0  46962.0  44448.0  46842.0  5.399869e+07\n",
      "2022-03-28  46842.0  48220.0  46661.0  47160.0  8.354505e+07\n",
      "2022-03-29  47160.0  48185.0  47001.0  47456.0  8.208843e+07\n",
      "2022-03-30  47455.0  47716.0  46329.0  47085.0  5.690887e+07\n",
      "2022-03-30 21:55:27,008: : read_in_data  ---\n",
      "2022-03-30 21:55:27,008: : read_in_data  Input file ../tmp/historic_crypto_prices - etherum_jan_2017_sept_4_2021 copy.csv\n",
      "2022-03-30 21:55:27,017: : read_in_data               open   high   low  close      volume\n",
      "date                                             \n",
      "2017-01-01   7.98   8.47  7.98   8.17  14731700.0\n",
      "2017-01-02   8.17   8.44  8.05   8.38  14579600.0\n",
      "2017-01-03   8.37  10.00  8.32   9.73  33625200.0\n",
      "2017-01-04   9.71  11.28  9.56  11.25  41051200.0\n",
      "2017-01-05  11.29  11.89  9.40  10.25  41557400.0\n",
      "2022-03-30 21:55:27,023: : read_in_data                open    high     low   close        volume\n",
      "date                                                    \n",
      "2022-03-26  3103.2  3152.7  3086.8  3146.5  2.728217e+07\n",
      "2022-03-27  3146.5  3300.4  3130.3  3297.0  2.752462e+07\n",
      "2022-03-28  3297.0  3432.4  3275.1  3338.0  7.403999e+07\n",
      "2022-03-29  3338.0  3483.1  3334.8  3401.9  1.339354e+08\n",
      "2022-03-30  3401.9  3449.0  3334.2  3386.1  6.521944e+07\n",
      "2022-03-30 21:55:27,028: : read_in_data  ---\n",
      "2022-03-30 21:55:27,029: : read_in_data  Input file ../tmp/historic_crypto_prices - sol_jan_2017_oct_18_2021.csv\n",
      "2022-03-30 21:55:27,039: : read_in_data              open  high   low  close      volume\n",
      "date                                           \n",
      "2020-04-10  0.83  1.31  0.69   0.95  87364276.0\n",
      "2020-04-11  0.95  1.05  0.77   0.78  43862444.0\n",
      "2020-04-12  0.79  0.96  0.76   0.88  38736897.0\n",
      "2020-04-13  0.89  0.89  0.77   0.78  18211285.0\n",
      "2020-04-14  0.78  0.80  0.63   0.66  16747614.0\n",
      "2022-03-30 21:55:27,047: : read_in_data                  open      high       low     close        volume\n",
      "date                                                            \n",
      "2022-03-26   98.6125  103.3975   97.6650  101.7850  6.361283e+06\n",
      "2022-03-27  101.7850  107.5275   98.8475  107.0600  1.756025e+07\n",
      "2022-03-28  107.0600  113.8875  105.2100  105.9750  1.720166e+07\n",
      "2022-03-29  105.9600  115.7500  105.6325  111.6825  1.740906e+07\n",
      "2022-03-30  111.6800  125.1550  107.2500  120.8150  3.665224e+07\n",
      "2022-03-30 21:55:27,051: : read_in_data  ---\n",
      "2022-03-30 21:55:27,052: : read_in_data  Input file ../tmp/historic_crypto_prices - matic_dec_2020_dec_2021.csv\n",
      "2022-03-30 21:55:27,063: : read_in_data              open  high   low  close      volume\n",
      "date                                           \n",
      "2020-12-14  0.02  0.02  0.02   0.02   6472765.0\n",
      "2020-12-15  0.02  0.02  0.02   0.02  14597988.0\n",
      "2020-12-16  0.02  0.02  0.02   0.02  13012452.0\n",
      "2020-12-17  0.02  0.02  0.02   0.02  18914753.0\n",
      "2020-12-18  0.02  0.02  0.02   0.02  13821146.0\n",
      "2022-03-30 21:55:27,072: : read_in_data                  open      high       low     close        volume\n",
      "date                                                            \n",
      "2022-03-26  1.578855  1.615685  1.568319  1.612378  8.666678e+05\n",
      "2022-03-27  1.612378  1.696156  1.602438  1.695952  1.498535e+06\n",
      "2022-03-28  1.695952  1.747663  1.651217  1.657996  3.885142e+06\n",
      "2022-03-29  1.657996  1.737373  1.634949  1.675019  1.680346e+06\n",
      "2022-03-30  1.675019  1.726398  1.628389  1.682571  2.489822e+06\n",
      "2022-03-30 21:55:27,078: : read_in_data  ---\n",
      "2022-03-30 21:55:27,079: : read_in_data  Input file ../tmp/historic_crypto_prices - link_jan_2019_jan_2022.csv\n",
      "2022-03-30 21:55:27,089: : read_in_data              open  high   low  close      volume\n",
      "date                                           \n",
      "2019-01-01  0.29  0.30  0.29   0.30   1522529.0\n",
      "2019-01-02  0.30  0.32  0.30   0.32   1637715.0\n",
      "2019-01-03  0.32  0.37  0.32   0.37  10890273.0\n",
      "2019-01-04  0.37  0.45  0.37   0.44  24652793.0\n",
      "2019-01-05  0.44  0.44  0.39   0.40  13064911.0\n",
      "2022-03-30 21:55:27,097: : read_in_data                 open     high      low    close        volume\n",
      "date                                                        \n",
      "2022-03-26  15.6035  15.9515  15.5065  15.8465  4.329742e+05\n",
      "2022-03-27  15.8465  16.9225  15.6335  16.8760  1.253855e+06\n",
      "2022-03-28  16.8760  17.3700  16.3570  16.4915  1.496229e+06\n",
      "2022-03-29  16.4915  17.5235  16.4720  16.9885  6.705121e+05\n",
      "2022-03-30  16.9885  17.5930  16.5540  17.2170  6.455235e+05\n",
      "2022-03-30 21:55:27,104: : read_in_data  ---\n"
     ]
    }
   ],
   "source": [
    "bitcoin_df = read_in_data(\"../tmp/\" + constants[\"bitcoin_csv_filename\"].split(\"/\")[1], running_on_aws())\n",
    "etherum_df = read_in_data(\"../tmp/\" +constants[\"etherum_csv_filename\"].split(\"/\")[1], running_on_aws())\n",
    "sol_df = read_in_data(\"../tmp/\" +constants[\"sol_csv_filename\"].split(\"/\")[1], running_on_aws())\n",
    "matic_df = read_in_data(\"../tmp/\" +constants[\"matic_csv_filename\"].split(\"/\")[1], running_on_aws())\n",
    "link_df = read_in_data(\"../tmp/\" +constants[\"link_csv_filename\"].split(\"/\")[1], running_on_aws())"
   ]
  },
  {
   "cell_type": "code",
   "execution_count": 9,
   "id": "3c916953-702d-40f5-b431-86b7e63d87ad",
   "metadata": {},
   "outputs": [
    {
     "data": {
      "text/plain": [
       "{'prediction_params': {'bollinger_window': 5,\n",
       "  'no_of_std': 1.25,\n",
       "  'lookback_window': [15, 30, 45],\n",
       "  'prediction_n_days': 7,\n",
       "  'model_name': ['TCN', 'NBEATS'],\n",
       "  'work_dir': '/mnt/shared-storage'},\n",
       " 'hyperparameters_tcn': {'dropout': 0.1,\n",
       "  'random_state': 0,\n",
       "  'dilation_base': 2,\n",
       "  'kernel_size': 14,\n",
       "  'num_filters': 7,\n",
       "  'num_layers': 7,\n",
       "  'weight_norm': True,\n",
       "  'epochs': 55},\n",
       " 'hyperparameters_nbeats': {'random_state': 0,\n",
       "  'num_blocks': 5,\n",
       "  'layer_widths': 256,\n",
       "  'epochs': 10}}"
      ]
     },
     "execution_count": 9,
     "metadata": {},
     "output_type": "execute_result"
    }
   ],
   "source": [
    "ml_constants"
   ]
  },
  {
   "cell_type": "markdown",
   "id": "b9433ccf-daab-4040-871a-d5102a220358",
   "metadata": {},
   "source": [
    " - BTC"
   ]
  },
  {
   "cell_type": "code",
   "execution_count": 5,
   "id": "117cd6c5-955b-4537-a583-ba05d5fc9138",
   "metadata": {},
   "outputs": [],
   "source": [
    "predictor = CoinPricePredictor(\n",
    "    coin, constants, ml_constants, bitcoin_df, additional_dfs=[etherum_df]  # spy_df\n",
    ")"
   ]
  },
  {
   "cell_type": "code",
   "execution_count": 10,
   "id": "8eb2e3fb-6bd1-4e40-bf11-de268c7ad4f6",
   "metadata": {},
   "outputs": [
    {
     "name": "stderr",
     "output_type": "stream",
     "text": [
      "2022-04-01 09:31:20,600: : predict  Slicing dataframes\n",
      "2022-04-01 09:31:20,697: : _slice_df  Slice date , earliest day of data for main df, = 2020-01-01 00:00:00\n",
      "2022-04-01 09:31:20,877: : predict  Building Bollinger Bands\n",
      "2022-04-01 09:31:21,005: : _build_technical_indicators  ---- Adding Bollinger Bands ----\n",
      "2022-04-01 09:31:21,009: : _build_technical_indicators                 open     high      low    close        volume  Rolling Mean  \\\n",
      "date                                                                         \n",
      "2022-03-26  44331.0  44792.0  44101.0  44531.0  2.278341e+07       43628.8   \n",
      "2022-03-27  44531.0  46962.0  44448.0  46842.0  5.399869e+07       44521.8   \n",
      "2022-03-28  46842.0  48220.0  46661.0  47160.0  8.354505e+07       45375.2   \n",
      "2022-03-29  47160.0  48185.0  47001.0  47456.0  8.208843e+07       46064.0   \n",
      "2022-03-30  47455.0  47716.0  46329.0  47085.0  5.690887e+07       46614.8   \n",
      "\n",
      "            Bollinger High  Bollinger Low    stc      stoch        rsi  \\\n",
      "date                                                                     \n",
      "2022-03-26    44808.427987   42449.172013  100.0  92.273088  81.496494   \n",
      "2022-03-27    46325.951333   42717.648667  100.0  98.724083  90.162368   \n",
      "2022-03-28    47250.028617   43500.371383  100.0  89.503911  90.895765   \n",
      "2022-03-29    47949.133243   44178.866757  100.0  91.873205  91.622440   \n",
      "2022-03-30    48096.431122   45133.168878  100.0  85.909373  81.438433   \n",
      "\n",
      "                   macd  macd_signal  \n",
      "date                                  \n",
      "2022-03-26   979.977900   496.508973  \n",
      "2022-03-27  1257.886029   648.784385  \n",
      "2022-03-28  1486.652956   816.358099  \n",
      "2022-03-29  1672.556925   987.597864  \n",
      "2022-03-30  1769.552263  1143.988744  \n",
      "2022-04-01 09:31:21,196: : _build_technical_indicators                open    high     low   close        volume  Rolling Mean  \\\n",
      "date                                                                     \n",
      "2022-03-26  3103.2  3152.7  3086.8  3146.5  2.728217e+07       3074.04   \n",
      "2022-03-27  3146.5  3300.4  3130.3  3297.0  2.752462e+07       3139.34   \n",
      "2022-03-28  3297.0  3432.4  3275.1  3338.0  7.403999e+07       3199.50   \n",
      "2022-03-29  3338.0  3483.1  3334.8  3401.9  1.339354e+08       3257.32   \n",
      "2022-03-30  3401.9  3449.0  3334.2  3386.1  6.521944e+07       3313.90   \n",
      "\n",
      "            Bollinger High  Bollinger Low    stc      stoch        rsi  \\\n",
      "date                                                                     \n",
      "2022-03-26     3161.720198    2986.359802  100.0  93.165314  83.718157   \n",
      "2022-03-27     3260.130030    3018.549970  100.0  99.575584  90.363474   \n",
      "2022-03-28     3336.840931    3062.159069  100.0  89.786866  91.539378   \n",
      "2022-03-29     3416.690328    3097.949672  100.0  90.751708  93.164387   \n",
      "2022-03-30     3441.751874    3186.048126  100.0  86.797332  87.943736   \n",
      "\n",
      "                  macd  macd_signal  \n",
      "date                                 \n",
      "2022-03-26   94.963575    44.870766  \n",
      "2022-03-27  115.118339    58.920281  \n",
      "2022-03-28  132.867873    73.709799  \n",
      "2022-03-29  150.357475    89.039335  \n",
      "2022-03-30  161.086281   103.448724  \n",
      "2022-04-01 09:31:21,205: : predict  Creating Models\n",
      "2022-04-01 09:31:21,208: : _create_models  ------\n",
      "2022-04-01 09:31:21,209: : _create_models  Creating models for coin btc\n",
      "2022-04-01 09:31:21,210: : _create_models  Creating model lookback = 15_nbeats_btc,checkpoint_257.pth.tar\n",
      "2022-04-01 09:31:21,280: : _create_models  Creating model tcn_btc,checkpoint_4499.pth.tar\n",
      "2022-04-01 09:31:21,289: : _create_models  ---- Finished creating models ----\n",
      "2022-04-01 09:31:21,289: : _create_models  Creating model lookback = 30_nbeats_btc,checkpoint_257.pth.tar\n",
      "2022-04-01 09:31:21,294: : _create_models  Creating model tcn_btc,checkpoint_4499.pth.tar\n",
      "2022-04-01 09:31:21,299: : _create_models  ---- Finished creating models ----\n",
      "2022-04-01 09:31:21,300: : _create_models  Creating model lookback = 45_nbeats_btc,checkpoint_257.pth.tar\n",
      "2022-04-01 09:31:21,306: : _create_models  Creating model tcn_btc,checkpoint_4499.pth.tar\n",
      "2022-04-01 09:31:21,310: : _create_models  ---- Finished creating models ----\n",
      "2022-04-01 09:31:21,311: : predict  Converting data to timeseries\n",
      "2022-04-01 09:31:21,787: : _convert_data_to_timeseries  original DF training series = Index(['open', 'high', 'low', 'Rolling Mean', 'volume', 'macd', 'macd_signal',\n",
      "       'stc', 'stoch', 'rsi', 'year', 'month', 'day'],\n",
      "      dtype='object', name='component')\n",
      "2022-04-01 09:31:21,789: : _convert_data_to_timeseries  last date for training data = 2022-03-30 00:00:00\n",
      "2022-04-01 09:31:22,000: : _convert_data_to_timeseries  all series now stacked = Index(['open', 'high', 'low', 'Rolling Mean', 'volume', 'macd', 'macd_signal',\n",
      "       'stc', 'stoch', 'rsi', 'close', 'open_1', 'high_1', 'low_1',\n",
      "       'Rolling Mean_1', 'volume_1', 'macd_1', 'macd_signal_1', 'stc_1',\n",
      "       'stoch_1', 'rsi_1', 'year', 'month', 'day'],\n",
      "      dtype='object', name='component')\n",
      "2022-04-01 09:31:22,002: : predict  Training models\n",
      "2022-04-01 09:31:22,005: : _train_models  Training nbeats\n",
      "2022-04-01 09:31:22,010: : _train_models  Training TCN\n",
      "[2022-04-01 09:31:22,019] INFO | darts.models.forecasting.torch_forecasting_model | Train dataset contains 799 samples.\n",
      "[2022-04-01 09:31:22,019] INFO | darts.models.forecasting.torch_forecasting_model | Train dataset contains 799 samples.\n",
      "2022-04-01 09:31:22,031: : _train_models  Training nbeats\n",
      "2022-04-01 09:31:22,019: : fit  Train dataset contains 799 samples.\n",
      "2022-04-01 09:31:22,040: : _train_models  Training nbeats\n",
      "[2022-04-01 09:31:22,060] INFO | darts.models.forecasting.torch_forecasting_model | Train dataset contains 799 samples.\n",
      "[2022-04-01 09:31:22,060] INFO | darts.models.forecasting.torch_forecasting_model | Train dataset contains 799 samples.\n",
      "2022-04-01 09:31:22,111: : _train_models  Training TCN\n",
      "[2022-04-01 09:31:22,120] INFO | darts.models.forecasting.torch_forecasting_model | Train dataset contains 784 samples.\n",
      "2022-04-01 09:31:22,060: : fit  Train dataset contains 799 samples.\n",
      "[2022-04-01 09:31:22,120] INFO | darts.models.forecasting.torch_forecasting_model | Train dataset contains 784 samples.\n",
      "2022-04-01 09:31:22,120: : fit  Train dataset contains 784 samples.\n"
     ]
    },
    {
     "data": {
      "application/vnd.jupyter.widget-view+json": {
       "model_id": "7e064a3b13c4411cb18c6d170bf4830c",
       "version_major": 2,
       "version_minor": 0
      },
      "text/plain": [
       "  0%|          | 0/11 [00:00<?, ?it/s]"
      ]
     },
     "metadata": {},
     "output_type": "display_data"
    },
    {
     "name": "stderr",
     "output_type": "stream",
     "text": [
      "2022-04-01 09:31:22,149: : _train_models  Training nbeats\n"
     ]
    },
    {
     "data": {
      "application/vnd.jupyter.widget-view+json": {
       "model_id": "82bf53195d3944e191bdbc600c503b5b",
       "version_major": 2,
       "version_minor": 0
      },
      "text/plain": [
       "  0%|          | 0/11 [00:00<?, ?it/s]"
      ]
     },
     "metadata": {},
     "output_type": "display_data"
    },
    {
     "data": {
      "application/vnd.jupyter.widget-view+json": {
       "model_id": "35253e4a2022483bb0fcf4b560bfe919",
       "version_major": 2,
       "version_minor": 0
      },
      "text/plain": [
       "  0%|          | 0/11 [00:00<?, ?it/s]"
      ]
     },
     "metadata": {},
     "output_type": "display_data"
    },
    {
     "name": "stderr",
     "output_type": "stream",
     "text": [
      "2022-04-01 09:31:22,556: : _train_models  Training nbeats\n",
      "[2022-04-01 09:31:22,560] INFO | darts.models.forecasting.torch_forecasting_model | Train dataset contains 784 samples.\n",
      "[2022-04-01 09:31:22,560] INFO | darts.models.forecasting.torch_forecasting_model | Train dataset contains 784 samples.\n",
      "2022-04-01 09:31:22,622: : _train_models  Training TCN\n",
      "[2022-04-01 09:31:22,639] INFO | darts.models.forecasting.torch_forecasting_model | Train dataset contains 769 samples.\n",
      "2022-04-01 09:31:22,560: : fit  Train dataset contains 784 samples.\n",
      "[2022-04-01 09:31:22,639] INFO | darts.models.forecasting.torch_forecasting_model | Train dataset contains 769 samples.\n",
      "2022-04-01 09:31:22,643: : _train_models  Training nbeats\n",
      "2022-04-01 09:31:22,639: : fit  Train dataset contains 769 samples.\n",
      "2022-04-01 09:31:22,679: : _train_models  Training nbeats\n",
      "[2022-04-01 09:31:22,685] INFO | darts.models.forecasting.torch_forecasting_model | Train dataset contains 769 samples.\n",
      "[2022-04-01 09:31:22,685] INFO | darts.models.forecasting.torch_forecasting_model | Train dataset contains 769 samples.\n"
     ]
    },
    {
     "data": {
      "application/vnd.jupyter.widget-view+json": {
       "model_id": "044cf1b49c3543debf35e267934c1260",
       "version_major": 2,
       "version_minor": 0
      },
      "text/plain": [
       "  0%|          | 0/11 [00:00<?, ?it/s]"
      ]
     },
     "metadata": {},
     "output_type": "display_data"
    },
    {
     "data": {
      "application/vnd.jupyter.widget-view+json": {
       "model_id": "bdf7153f2a2c4531a2ffcb74653bd4fc",
       "version_major": 2,
       "version_minor": 0
      },
      "text/plain": [
       "  0%|          | 0/11 [00:00<?, ?it/s]"
      ]
     },
     "metadata": {},
     "output_type": "display_data"
    },
    {
     "name": "stderr",
     "output_type": "stream",
     "text": [
      "2022-04-01 09:31:22,685: : fit  Train dataset contains 769 samples.\n",
      "[2022-04-01 09:31:22,735] INFO | darts.models.forecasting.torch_forecasting_model | Train dataset contains 799 samples.\n",
      "2022-04-01 09:31:22,734: : _train_models  Training TCN\n",
      "[2022-04-01 09:31:22,735] INFO | darts.models.forecasting.torch_forecasting_model | Train dataset contains 799 samples.\n",
      "2022-04-01 09:31:22,735: : fit  Train dataset contains 799 samples.\n",
      "2022-04-01 09:31:22,836: : _train_models  Training nbeats\n"
     ]
    },
    {
     "data": {
      "application/vnd.jupyter.widget-view+json": {
       "model_id": "b9cec48e630f4cc487525ab7ca62e6c9",
       "version_major": 2,
       "version_minor": 0
      },
      "text/plain": [
       "  0%|          | 0/11 [00:00<?, ?it/s]"
      ]
     },
     "metadata": {},
     "output_type": "display_data"
    },
    {
     "name": "stderr",
     "output_type": "stream",
     "text": [
      "[2022-04-01 09:31:22,907] INFO | darts.models.forecasting.torch_forecasting_model | Train dataset contains 799 samples.\n",
      "2022-04-01 09:31:22,908: : _train_models  Training nbeats\n",
      "[2022-04-01 09:31:22,907] INFO | darts.models.forecasting.torch_forecasting_model | Train dataset contains 799 samples.\n",
      "2022-04-01 09:31:22,951: : _train_models  Training TCN\n",
      "[2022-04-01 09:31:22,954] INFO | darts.models.forecasting.torch_forecasting_model | Train dataset contains 784 samples.\n",
      "[2022-04-01 09:31:22,954] INFO | darts.models.forecasting.torch_forecasting_model | Train dataset contains 784 samples.\n",
      "2022-04-01 09:31:22,907: : fit  Train dataset contains 799 samples.\n",
      "2022-04-01 09:31:22,970: : _train_models  Training nbeats\n",
      "2022-04-01 09:31:22,954: : fit  Train dataset contains 784 samples.\n",
      "2022-04-01 09:31:23,013: : _train_models  Training nbeats\n",
      "[2022-04-01 09:31:23,021] INFO | darts.models.forecasting.torch_forecasting_model | Train dataset contains 784 samples.\n",
      "[2022-04-01 09:31:23,021] INFO | darts.models.forecasting.torch_forecasting_model | Train dataset contains 784 samples.\n",
      "[2022-04-01 09:31:23,052] INFO | darts.models.forecasting.torch_forecasting_model | Train dataset contains 769 samples.\n",
      "2022-04-01 09:31:23,054: : _train_models  Training TCN\n",
      "2022-04-01 09:31:23,021: : fit  Train dataset contains 784 samples.\n",
      "[2022-04-01 09:31:23,052] INFO | darts.models.forecasting.torch_forecasting_model | Train dataset contains 769 samples.\n",
      "2022-04-01 09:31:23,063: : _train_models  Training nbeats\n",
      "2022-04-01 09:31:23,052: : fit  Train dataset contains 769 samples.\n",
      "2022-04-01 09:31:23,092: : _train_models  Have thread = [<darts.models.forecasting.nbeats.NBEATSModel object at 0x105a8a3a0>, <darts.models.forecasting.tcn_model.TCNModel object at 0x105a8a670>]_nbeats\n",
      "[2022-04-01 09:31:23,107] INFO | darts.models.forecasting.torch_forecasting_model | Train dataset contains 769 samples.\n",
      "[2022-04-01 09:31:23,107] INFO | darts.models.forecasting.torch_forecasting_model | Train dataset contains 769 samples.\n",
      "2022-04-01 09:31:23,107: : fit  Train dataset contains 769 samples.\n",
      "[2022-04-01 09:31:23,317] INFO | darts.models.forecasting.torch_forecasting_model | Time series values are 64-bits; casting model to float64.\n",
      "[2022-04-01 09:31:23,317] INFO | darts.models.forecasting.torch_forecasting_model | Time series values are 64-bits; casting model to float64.\n",
      "2022-04-01 09:31:23,317: : _init_model  Time series values are 64-bits; casting model to float64.\n",
      "[2022-04-01 09:31:23,341] INFO | darts.models.forecasting.torch_forecasting_model | Time series values are 64-bits; casting model to float64.\n",
      "[2022-04-01 09:31:23,341] INFO | darts.models.forecasting.torch_forecasting_model | Time series values are 64-bits; casting model to float64.\n",
      "2022-04-01 09:31:23,341: : _init_model  Time series values are 64-bits; casting model to float64.\n",
      "[2022-04-01 09:31:23,408] INFO | darts.models.forecasting.torch_forecasting_model | Time series values are 64-bits; casting model to float64.\n",
      "[2022-04-01 09:31:23,408] INFO | darts.models.forecasting.torch_forecasting_model | Time series values are 64-bits; casting model to float64.\n",
      "2022-04-01 09:31:23,408: : _init_model  Time series values are 64-bits; casting model to float64.\n"
     ]
    },
    {
     "data": {
      "application/vnd.jupyter.widget-view+json": {
       "model_id": "033ed202c8754067a08e92bac582ae1d",
       "version_major": 2,
       "version_minor": 0
      },
      "text/plain": [
       "  0%|          | 0/11 [00:00<?, ?it/s]"
      ]
     },
     "metadata": {},
     "output_type": "display_data"
    },
    {
     "data": {
      "application/vnd.jupyter.widget-view+json": {
       "model_id": "5f169ee29f6345dfbd426728052e6219",
       "version_major": 2,
       "version_minor": 0
      },
      "text/plain": [
       "  0%|          | 0/11 [00:00<?, ?it/s]"
      ]
     },
     "metadata": {},
     "output_type": "display_data"
    },
    {
     "data": {
      "application/vnd.jupyter.widget-view+json": {
       "model_id": "40715830dfb140bfb9a08c8ce37d2f7e",
       "version_major": 2,
       "version_minor": 0
      },
      "text/plain": [
       "  0%|          | 0/11 [00:00<?, ?it/s]"
      ]
     },
     "metadata": {},
     "output_type": "display_data"
    },
    {
     "name": "stderr",
     "output_type": "stream",
     "text": [
      "[2022-04-01 09:31:33,130] INFO | darts.models.forecasting.torch_forecasting_model | Time series values are 64-bits; casting model to float64.\n",
      "[2022-04-01 09:31:33,130] INFO | darts.models.forecasting.torch_forecasting_model | Time series values are 64-bits; casting model to float64.\n",
      "2022-04-01 09:31:33,130: : _init_model  Time series values are 64-bits; casting model to float64.\n",
      "[2022-04-01 09:31:33,635] INFO | darts.models.forecasting.torch_forecasting_model | Time series values are 64-bits; casting model to float64.\n",
      "[2022-04-01 09:31:33,635] INFO | darts.models.forecasting.torch_forecasting_model | Time series values are 64-bits; casting model to float64.\n",
      "2022-04-01 09:31:33,635: : _init_model  Time series values are 64-bits; casting model to float64.\n",
      "[2022-04-01 09:31:33,966] INFO | darts.models.forecasting.torch_forecasting_model | Time series values are 64-bits; casting model to float64.\n",
      "[2022-04-01 09:31:33,966] INFO | darts.models.forecasting.torch_forecasting_model | Time series values are 64-bits; casting model to float64.\n",
      "2022-04-01 09:31:33,966: : _init_model  Time series values are 64-bits; casting model to float64.\n"
     ]
    },
    {
     "name": "stdout",
     "output_type": "stream",
     "text": [
      "Training loss: 1344890542.2716\r"
     ]
    },
    {
     "data": {
      "application/vnd.jupyter.widget-view+json": {
       "model_id": "df68534253e54a14b78d38df6740c1ec",
       "version_major": 2,
       "version_minor": 0
      },
      "text/plain": [
       "  0%|          | 0/11 [00:00<?, ?it/s]"
      ]
     },
     "metadata": {},
     "output_type": "display_data"
    },
    {
     "data": {
      "application/vnd.jupyter.widget-view+json": {
       "model_id": "4b54c783f9f54c41a1ffd63d6457be14",
       "version_major": 2,
       "version_minor": 0
      },
      "text/plain": [
       "  0%|          | 0/11 [00:00<?, ?it/s]"
      ]
     },
     "metadata": {},
     "output_type": "display_data"
    },
    {
     "data": {
      "application/vnd.jupyter.widget-view+json": {
       "model_id": "fe1a68284c9c42f08b82a42cf59e5b7e",
       "version_major": 2,
       "version_minor": 0
      },
      "text/plain": [
       "  0%|          | 0/11 [00:00<?, ?it/s]"
      ]
     },
     "metadata": {},
     "output_type": "display_data"
    },
    {
     "name": "stdout",
     "output_type": "stream",
     "text": [
      "Training loss: 31879838.4708\r"
     ]
    },
    {
     "ename": "KeyboardInterrupt",
     "evalue": "",
     "output_type": "error",
     "traceback": [
      "\u001b[0;31m---------------------------------------------------------------------------\u001b[0m",
      "\u001b[0;31mKeyboardInterrupt\u001b[0m                         Traceback (most recent call last)",
      "\u001b[0;32m/var/folders/0r/jkhwtgvx0wb9vrk6xn4bmz2m0000gn/T/ipykernel_18180/599141905.py\u001b[0m in \u001b[0;36m<cell line: 1>\u001b[0;34m()\u001b[0m\n\u001b[0;32m----> 1\u001b[0;31m \u001b[0mprice_prediction\u001b[0m \u001b[0;34m=\u001b[0m \u001b[0mpredictor\u001b[0m\u001b[0;34m.\u001b[0m\u001b[0mpredict\u001b[0m\u001b[0;34m(\u001b[0m\u001b[0;34m)\u001b[0m\u001b[0;34m\u001b[0m\u001b[0;34m\u001b[0m\u001b[0m\n\u001b[0m",
      "\u001b[0;32m~/GitHub/go-trader/app/mlcode/predict_price_movements.py\u001b[0m in \u001b[0;36mpredict\u001b[0;34m(self)\u001b[0m\n\u001b[1;32m    411\u001b[0m         \u001b[0mlogger\u001b[0m\u001b[0;34m.\u001b[0m\u001b[0minfo\u001b[0m\u001b[0;34m(\u001b[0m\u001b[0;34m\"Training models\"\u001b[0m\u001b[0;34m)\u001b[0m\u001b[0;34m\u001b[0m\u001b[0;34m\u001b[0m\u001b[0m\n\u001b[1;32m    412\u001b[0m         \u001b[0msys\u001b[0m\u001b[0;34m.\u001b[0m\u001b[0mstdout\u001b[0m\u001b[0;34m.\u001b[0m\u001b[0mflush\u001b[0m\u001b[0;34m(\u001b[0m\u001b[0;34m)\u001b[0m\u001b[0;34m\u001b[0m\u001b[0;34m\u001b[0m\u001b[0m\n\u001b[0;32m--> 413\u001b[0;31m         \u001b[0mself\u001b[0m\u001b[0;34m.\u001b[0m\u001b[0m_train_models\u001b[0m\u001b[0;34m(\u001b[0m\u001b[0mtrain_close_series\u001b[0m\u001b[0;34m,\u001b[0m \u001b[0mts_stacked_series\u001b[0m\u001b[0;34m)\u001b[0m\u001b[0;34m\u001b[0m\u001b[0;34m\u001b[0m\u001b[0m\n\u001b[0m\u001b[1;32m    414\u001b[0m         \u001b[0mlogger\u001b[0m\u001b[0;34m.\u001b[0m\u001b[0minfo\u001b[0m\u001b[0;34m(\u001b[0m\u001b[0;34m\"making predictions\"\u001b[0m\u001b[0;34m)\u001b[0m\u001b[0;34m\u001b[0m\u001b[0;34m\u001b[0m\u001b[0m\n\u001b[1;32m    415\u001b[0m         \u001b[0msys\u001b[0m\u001b[0;34m.\u001b[0m\u001b[0mstdout\u001b[0m\u001b[0;34m.\u001b[0m\u001b[0mflush\u001b[0m\u001b[0;34m(\u001b[0m\u001b[0;34m)\u001b[0m\u001b[0;34m\u001b[0m\u001b[0;34m\u001b[0m\u001b[0m\n",
      "\u001b[0;32m~/GitHub/go-trader/app/mlcode/predict_price_movements.py\u001b[0m in \u001b[0;36m_train_models\u001b[0;34m(self, train_close_series, ts_stacked_series)\u001b[0m\n\u001b[1;32m    375\u001b[0m         \u001b[0;32mfor\u001b[0m \u001b[0mk\u001b[0m\u001b[0;34m,\u001b[0m \u001b[0mv\u001b[0m \u001b[0;32min\u001b[0m \u001b[0mdict_of_threads\u001b[0m\u001b[0;34m.\u001b[0m\u001b[0mitems\u001b[0m\u001b[0;34m(\u001b[0m\u001b[0;34m)\u001b[0m\u001b[0;34m:\u001b[0m\u001b[0;34m\u001b[0m\u001b[0;34m\u001b[0m\u001b[0m\n\u001b[1;32m    376\u001b[0m             \u001b[0mlogger\u001b[0m\u001b[0;34m.\u001b[0m\u001b[0minfo\u001b[0m\u001b[0;34m(\u001b[0m\u001b[0;34mf\"Have thread = {k}\"\u001b[0m\u001b[0;34m)\u001b[0m\u001b[0;34m\u001b[0m\u001b[0;34m\u001b[0m\u001b[0m\n\u001b[0;32m--> 377\u001b[0;31m             \u001b[0mv\u001b[0m\u001b[0;34m.\u001b[0m\u001b[0mjoin\u001b[0m\u001b[0;34m(\u001b[0m\u001b[0;34m)\u001b[0m\u001b[0;34m\u001b[0m\u001b[0;34m\u001b[0m\u001b[0m\n\u001b[0m\u001b[1;32m    378\u001b[0m \u001b[0;34m\u001b[0m\u001b[0m\n\u001b[1;32m    379\u001b[0m     \u001b[0;32mdef\u001b[0m \u001b[0m_make_prediction\u001b[0m\u001b[0;34m(\u001b[0m\u001b[0mself\u001b[0m\u001b[0;34m,\u001b[0m \u001b[0mtrain_close_series\u001b[0m\u001b[0;34m:\u001b[0m \u001b[0mTimeSeries\u001b[0m\u001b[0;34m,\u001b[0m \u001b[0mts_stacked_series\u001b[0m\u001b[0;34m:\u001b[0m \u001b[0mTimeSeries\u001b[0m\u001b[0;34m)\u001b[0m \u001b[0;34m->\u001b[0m \u001b[0mList\u001b[0m\u001b[0;34m[\u001b[0m\u001b[0mint\u001b[0m\u001b[0;34m]\u001b[0m\u001b[0;34m:\u001b[0m\u001b[0;34m\u001b[0m\u001b[0;34m\u001b[0m\u001b[0m\n",
      "\u001b[0;32m~/.pyenv/versions/3.8.2/lib/python3.8/threading.py\u001b[0m in \u001b[0;36mjoin\u001b[0;34m(self, timeout)\u001b[0m\n\u001b[1;32m   1009\u001b[0m \u001b[0;34m\u001b[0m\u001b[0m\n\u001b[1;32m   1010\u001b[0m         \u001b[0;32mif\u001b[0m \u001b[0mtimeout\u001b[0m \u001b[0;32mis\u001b[0m \u001b[0;32mNone\u001b[0m\u001b[0;34m:\u001b[0m\u001b[0;34m\u001b[0m\u001b[0;34m\u001b[0m\u001b[0m\n\u001b[0;32m-> 1011\u001b[0;31m             \u001b[0mself\u001b[0m\u001b[0;34m.\u001b[0m\u001b[0m_wait_for_tstate_lock\u001b[0m\u001b[0;34m(\u001b[0m\u001b[0;34m)\u001b[0m\u001b[0;34m\u001b[0m\u001b[0;34m\u001b[0m\u001b[0m\n\u001b[0m\u001b[1;32m   1012\u001b[0m         \u001b[0;32melse\u001b[0m\u001b[0;34m:\u001b[0m\u001b[0;34m\u001b[0m\u001b[0;34m\u001b[0m\u001b[0m\n\u001b[1;32m   1013\u001b[0m             \u001b[0;31m# the behavior of a negative timeout isn't documented, but\u001b[0m\u001b[0;34m\u001b[0m\u001b[0;34m\u001b[0m\u001b[0;34m\u001b[0m\u001b[0m\n",
      "\u001b[0;32m~/.pyenv/versions/3.8.2/lib/python3.8/threading.py\u001b[0m in \u001b[0;36m_wait_for_tstate_lock\u001b[0;34m(self, block, timeout)\u001b[0m\n\u001b[1;32m   1025\u001b[0m         \u001b[0;32mif\u001b[0m \u001b[0mlock\u001b[0m \u001b[0;32mis\u001b[0m \u001b[0;32mNone\u001b[0m\u001b[0;34m:\u001b[0m  \u001b[0;31m# already determined that the C code is done\u001b[0m\u001b[0;34m\u001b[0m\u001b[0;34m\u001b[0m\u001b[0m\n\u001b[1;32m   1026\u001b[0m             \u001b[0;32massert\u001b[0m \u001b[0mself\u001b[0m\u001b[0;34m.\u001b[0m\u001b[0m_is_stopped\u001b[0m\u001b[0;34m\u001b[0m\u001b[0;34m\u001b[0m\u001b[0m\n\u001b[0;32m-> 1027\u001b[0;31m         \u001b[0;32melif\u001b[0m \u001b[0mlock\u001b[0m\u001b[0;34m.\u001b[0m\u001b[0macquire\u001b[0m\u001b[0;34m(\u001b[0m\u001b[0mblock\u001b[0m\u001b[0;34m,\u001b[0m \u001b[0mtimeout\u001b[0m\u001b[0;34m)\u001b[0m\u001b[0;34m:\u001b[0m\u001b[0;34m\u001b[0m\u001b[0;34m\u001b[0m\u001b[0m\n\u001b[0m\u001b[1;32m   1028\u001b[0m             \u001b[0mlock\u001b[0m\u001b[0;34m.\u001b[0m\u001b[0mrelease\u001b[0m\u001b[0;34m(\u001b[0m\u001b[0;34m)\u001b[0m\u001b[0;34m\u001b[0m\u001b[0;34m\u001b[0m\u001b[0m\n\u001b[1;32m   1029\u001b[0m             \u001b[0mself\u001b[0m\u001b[0;34m.\u001b[0m\u001b[0m_stop\u001b[0m\u001b[0;34m(\u001b[0m\u001b[0;34m)\u001b[0m\u001b[0;34m\u001b[0m\u001b[0;34m\u001b[0m\u001b[0m\n",
      "\u001b[0;31mKeyboardInterrupt\u001b[0m: "
     ]
    }
   ],
   "source": [
    "price_prediction = predictor.predict()"
   ]
  },
  {
   "cell_type": "code",
   "execution_count": null,
   "id": "15486f8a-ab74-4725-8f13-a8e5b5ed3823",
   "metadata": {},
   "outputs": [],
   "source": []
  }
 ],
 "metadata": {
  "kernelspec": {
   "display_name": "go-trader",
   "language": "python",
   "name": "go-trader"
  },
  "language_info": {
   "codemirror_mode": {
    "name": "ipython",
    "version": 3
   },
   "file_extension": ".py",
   "mimetype": "text/x-python",
   "name": "python",
   "nbconvert_exporter": "python",
   "pygments_lexer": "ipython3",
   "version": "3.8.2"
  }
 },
 "nbformat": 4,
 "nbformat_minor": 5
}
