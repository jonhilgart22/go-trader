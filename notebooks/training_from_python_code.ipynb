{
 "cells": [
  {
   "cell_type": "code",
   "execution_count": 1,
   "id": "6195ee83-a9ae-4aac-ad18-380b660b4772",
   "metadata": {},
   "outputs": [
    {
     "name": "stderr",
     "output_type": "stream",
     "text": [
      "Importing plotly failed. Interactive plots will not work.\n"
     ]
    },
    {
     "name": "stdout",
     "output_type": "stream",
     "text": [
      "Populating the interactive namespace from numpy and matplotlib\n"
     ]
    },
    {
     "name": "stderr",
     "output_type": "stream",
     "text": [
      "/Users/jonathanhilgart/Library/Caches/pypoetry/virtualenvs/go-trader-aTWd7ZB6-py3.8/lib/python3.8/site-packages/IPython/core/magics/pylab.py:159: UserWarning: pylab import has clobbered these variables: ['datetime']\n",
      "`%matplotlib` prevents importing * from pylab and numpy\n",
      "  warn(\"pylab import has clobbered these variables: %s\"  % clobbered +\n"
     ]
    }
   ],
   "source": [
    "import time\n",
    "from datetime import datetime\n",
    "\n",
    "import numpy as np\n",
    "import pandas as pd\n",
    "import matplotlib.pyplot as plt\n",
    "\n",
    "import sys\n",
    "\n",
    "sys.path.insert(0,\"../\")\n",
    "\n",
    "from app.mlcode.predict_price_movements import BollingerBandsPredictor\n",
    "from app.mlcode.determine_trading_state import DetermineTradingState\n",
    "from app.mlcode.utils import read_in_data, read_in_yaml, running_on_aws, setup_logging, update_yaml_config\n",
    "\n",
    "%pylab inline\n",
    "\n",
    "import logging\n",
    "\n",
    "from tqdm.notebook import tqdm\n",
    "tqdm.pandas()"
   ]
  },
  {
   "cell_type": "code",
   "execution_count": null,
   "id": "2245a221-5fad-492c-a16c-c8341e8ef3ec",
   "metadata": {},
   "outputs": [],
   "source": []
  },
  {
   "cell_type": "markdown",
   "id": "3cf57fbf-b13e-4c99-8c9e-adfa54de30cb",
   "metadata": {},
   "source": [
    "## Setup data\n",
    "- This is all taken from /tmp which should be downloaded first using make\n",
    "\n",
    "`make download_configs_and_data`"
   ]
  },
  {
   "cell_type": "code",
   "execution_count": 2,
   "id": "ba00f678-e612-400e-ae2b-de525fa7f0db",
   "metadata": {},
   "outputs": [
    {
     "name": "stderr",
     "output_type": "stream",
     "text": [
      "2022-03-30 21:55:26,786: : read_in_yaml  Reading in configs/constants.yml\n",
      "2022-03-30 21:55:26,805: : read_in_yaml  Key = btc_product_code Value = BTC/USD\n",
      "2022-03-30 21:55:26,806: : read_in_yaml  Key = tcn_modelname_btc Value = tcn_btc\n",
      "2022-03-30 21:55:26,806: : read_in_yaml  Key = nbeats_modelname_btc Value = nbeats_btc\n",
      "2022-03-30 21:55:26,808: : read_in_yaml  Key = bitcoin_csv_filename Value = tmp/historic_crypto_prices - bitcoin_jan_2017_sep_4_2021 copy.csv\n",
      "2022-03-30 21:55:26,811: : read_in_yaml  Key = tcn_filename_btc Value = checkpoint_4499.pth.tar\n",
      "2022-03-30 21:55:26,812: : read_in_yaml  Key = nbeats_filename_btc Value = checkpoint_257.pth.tar\n",
      "2022-03-30 21:55:26,813: : read_in_yaml  Key = eth_product_code Value = ETH/USD\n",
      "2022-03-30 21:55:26,815: : read_in_yaml  Key = tcn_modelname_eth Value = tcn_eth\n",
      "2022-03-30 21:55:26,816: : read_in_yaml  Key = nbeats_modelname_eth Value = nbeats_eth\n",
      "2022-03-30 21:55:26,818: : read_in_yaml  Key = etherum_csv_filename Value = tmp/historic_crypto_prices - etherum_jan_2017_sept_4_2021 copy.csv\n",
      "2022-03-30 21:55:26,821: : read_in_yaml  Key = tcn_filename_eth Value = checkpoint_5649.pth.tar\n",
      "2022-03-30 21:55:26,827: : read_in_yaml  Key = nbeats_filename_eth Value = checkpoint_257.pth.tar\n",
      "2022-03-30 21:55:26,833: : read_in_yaml  Key = spy_product_code Value = SPY/USD\n",
      "2022-03-30 21:55:26,835: : read_in_yaml  Key = ada_product_code Value = ADA/USD\n",
      "2022-03-30 21:55:26,837: : read_in_yaml  Key = sol_product_code Value = SOL/USD\n",
      "2022-03-30 21:55:26,839: : read_in_yaml  Key = tcn_modelname_sol Value = tcn_sol\n",
      "2022-03-30 21:55:26,842: : read_in_yaml  Key = tcn_filename_sol Value = test_sol_tcn.pth.tar\n",
      "2022-03-30 21:55:26,843: : read_in_yaml  Key = nbeats_modelname_sol Value = nbeats_sol\n",
      "2022-03-30 21:55:26,846: : read_in_yaml  Key = nbeats_filename_sol Value = test_sol_nbeats.pth.tar\n",
      "2022-03-30 21:55:26,847: : read_in_yaml  Key = sol_csv_filename Value = tmp/historic_crypto_prices - sol_jan_2017_oct_18_2021.csv\n",
      "2022-03-30 21:55:26,848: : read_in_yaml  Key = matic_product_code Value = MATIC/USD\n",
      "2022-03-30 21:55:26,851: : read_in_yaml  Key = tcn_modelname_matic Value = tcn_matic\n",
      "2022-03-30 21:55:26,854: : read_in_yaml  Key = tcn_filename_matic Value = test_matic_tcn.pth.tar\n",
      "2022-03-30 21:55:26,858: : read_in_yaml  Key = nbeats_modelname_matic Value = nbeats_matic\n",
      "2022-03-30 21:55:26,862: : read_in_yaml  Key = nbeats_filename_matic Value = test_matic_nbeats.pth.tar\n",
      "2022-03-30 21:55:26,863: : read_in_yaml  Key = matic_csv_filename Value = tmp/historic_crypto_prices - matic_dec_2020_dec_2021.csv\n",
      "2022-03-30 21:55:26,864: : read_in_yaml  Key = link_product_code Value = LINK/USD\n",
      "2022-03-30 21:55:26,865: : read_in_yaml  Key = tcn_modelname_link Value = tcn_link\n",
      "2022-03-30 21:55:26,867: : read_in_yaml  Key = tcn_filename_link Value = test_link_tcn.pth.tar\n",
      "2022-03-30 21:55:26,869: : read_in_yaml  Key = nbeats_modelname_link Value = nbeats_link\n",
      "2022-03-30 21:55:26,870: : read_in_yaml  Key = nbeats_filename_link Value = test_link_nbeats.pth.tar\n",
      "2022-03-30 21:55:26,872: : read_in_yaml  Key = link_csv_filename Value = tmp/historic_crypto_prices - link_jan_2019_jan_2022.csv\n",
      "2022-03-30 21:55:26,878: : read_in_yaml  Key = candle_granularity Value = 86400\n",
      "2022-03-30 21:55:26,879: : read_in_yaml  Key = s3_bucket Value = go-trader\n",
      "2022-03-30 21:55:26,881: : read_in_yaml  Key = s3_data_location Value = data\n",
      "2022-03-30 21:55:26,882: : read_in_yaml  Key = s3_configs_locations Value = None\n",
      "2022-03-30 21:55:26,884: : read_in_yaml  Key = actions_to_take_filename Value = tmp/actions_to_take.yml\n",
      "2022-03-30 21:55:26,886: : read_in_yaml  Key = constants_filename Value = tmp/constants.yml\n",
      "2022-03-30 21:55:26,887: : read_in_yaml  Key = ml_config_filename Value = tmp/ml_config.yml\n",
      "2022-03-30 21:55:26,888: : read_in_yaml  Key = trading_state_config_filename Value = tmp/trading_state_config.yml\n",
      "2022-03-30 21:55:26,890: : read_in_yaml  Key = won_and_lost_amount_filename Value = tmp/won_and_lost_config.yml\n",
      "2022-03-30 21:55:26,894: : read_in_yaml  Key = rolling_mean_col Value = Rolling Mean\n",
      "2022-03-30 21:55:26,896: : read_in_yaml  Key = bollinger_high_col Value = Bollinger High\n",
      "2022-03-30 21:55:26,897: : read_in_yaml  Key = bollinger_low_col Value = Bollinger Low\n",
      "2022-03-30 21:55:26,898: : read_in_yaml  Key = volume_col Value = volume\n",
      "2022-03-30 21:55:26,899: : read_in_yaml  Key = open_col Value = open\n",
      "2022-03-30 21:55:26,901: : read_in_yaml  Key = high_col Value = high\n",
      "2022-03-30 21:55:26,902: : read_in_yaml  Key = low_col Value = low\n",
      "2022-03-30 21:55:26,904: : read_in_yaml  Key = close_col Value = close\n",
      "2022-03-30 21:55:26,905: : read_in_yaml  Key = macd_col Value = macd\n",
      "2022-03-30 21:55:26,907: : read_in_yaml  Key = macd_signal_col Value = macd_signal\n",
      "2022-03-30 21:55:26,908: : read_in_yaml  Key = stc_col Value = stc\n",
      "2022-03-30 21:55:26,910: : read_in_yaml  Key = stoch_col Value = stoch\n",
      "2022-03-30 21:55:26,912: : read_in_yaml  Key = rsi_col Value = rsi\n",
      "2022-03-30 21:55:26,913: : read_in_yaml  Key = ml_models_dir Value = models\n",
      "2022-03-30 21:55:26,914: : read_in_yaml  Key = ml_model_dir_prefix Value = models/checkpoints\n",
      "2022-03-30 21:55:26,916: : read_in_yaml  Key = python_script_path Value = app/mlcode/main.py\n",
      "2022-03-30 21:55:26,917: : read_in_yaml  Key = log_filename Value = logs.txt\n",
      "2022-03-30 21:55:26,918: : read_in_yaml  Key = default_purchase_size Value = 0.0001\n",
      "2022-03-30 21:55:26,919: : read_in_yaml  Key = email_separator Value = <br>\n",
      "2022-03-30 21:55:26,920: : read_in_yaml  ----------\n",
      "2022-03-30 21:55:26,921: : read_in_yaml  Reading in configs/btc_trading_state_config.yml\n",
      "2022-03-30 21:55:26,926: : read_in_yaml  Key = buy_entry_price Value = 0.0\n",
      "2022-03-30 21:55:26,927: : read_in_yaml  Key = buy_has_crossed_mean Value = 0.0\n",
      "2022-03-30 21:55:26,928: : read_in_yaml  Key = mode Value = no_position\n",
      "2022-03-30 21:55:26,929: : read_in_yaml  Key = position_entry_date Value = None\n",
      "2022-03-30 21:55:26,930: : read_in_yaml  Key = short_entry_price Value = 0.0\n",
      "2022-03-30 21:55:26,931: : read_in_yaml  Key = short_has_crossed_mean Value = 0.0\n",
      "2022-03-30 21:55:26,933: : read_in_yaml  Key = stop_loss_pct Value = 0.1\n",
      "2022-03-30 21:55:26,934: : read_in_yaml  Key = stop_loss_price Value = 0.0\n",
      "2022-03-30 21:55:26,935: : read_in_yaml  ----------\n",
      "2022-03-30 21:55:26,936: : read_in_yaml  Reading in configs/btc_won_and_lost_config.yml\n",
      "2022-03-30 21:55:26,942: : read_in_yaml  Key = dollar_amount_buy_lost Value = 0.0\n",
      "2022-03-30 21:55:26,944: : read_in_yaml  Key = dollar_amount_buy_won Value = 2813.0\n",
      "2022-03-30 21:55:26,945: : read_in_yaml  Key = dollar_amount_short_lost Value = 0.0\n",
      "2022-03-30 21:55:26,946: : read_in_yaml  Key = dollar_amount_short_won Value = 0.0\n",
      "2022-03-30 21:55:26,946: : read_in_yaml  Key = n_buy_lost Value = 0.0\n",
      "2022-03-30 21:55:26,947: : read_in_yaml  Key = n_buy_won Value = 1.0\n",
      "2022-03-30 21:55:26,948: : read_in_yaml  Key = n_short_lost Value = 0.0\n",
      "2022-03-30 21:55:26,950: : read_in_yaml  Key = n_short_won Value = 0.0\n",
      "2022-03-30 21:55:26,951: : read_in_yaml  Key = n_total_days_in_trades Value = 6.0\n",
      "2022-03-30 21:55:26,952: : read_in_yaml  ----------\n",
      "2022-03-30 21:55:26,953: : read_in_yaml  Reading in configs/btc_actions_to_take.yml\n",
      "2022-03-30 21:55:26,955: : read_in_yaml  Key = action_to_take Value = none_to_none\n",
      "2022-03-30 21:55:26,956: : read_in_yaml  ----------\n"
     ]
    }
   ],
   "source": [
    "base_path = \"configs/\"\n",
    "coin = \"btc\"\n",
    "coin_to_predict = coin +\"_\"\n",
    "\n",
    "constants = read_in_yaml( base_path + \"constants.yml\", running_on_aws())\n",
    "    \n",
    "trading_state_filename = base_path + coin_to_predict + \"trading_state_config.yml\"\n",
    "trading_constants = read_in_yaml(trading_state_filename, running_on_aws())\n",
    "\n",
    "won_lost_amount_filename = base_path + coin_to_predict + \"won_and_lost_config.yml\"\n",
    "won_and_lost_amount_constants = read_in_yaml(won_lost_amount_filename, running_on_aws())\n",
    "    \n",
    "\n",
    "actions_to_take_filename =  base_path + coin_to_predict + \"actions_to_take.yml\"\n",
    "actions_to_take_constants = read_in_yaml(actions_to_take_filename, running_on_aws())\n",
    "\n",
    "\n",
    "ml_constants = read_in_yaml(\"../tmp/\" +constants[\"ml_config_filename\"].split(\"/\")[1], running_on_aws())"
   ]
  },
  {
   "cell_type": "code",
   "execution_count": 3,
   "id": "55471cc6-59f6-491d-a42e-043f5fc69755",
   "metadata": {},
   "outputs": [
    {
     "name": "stderr",
     "output_type": "stream",
     "text": [
      "2022-03-30 21:55:26,970: : read_in_data  Input file ../tmp/historic_crypto_prices - bitcoin_jan_2017_sep_4_2021 copy.csv\n",
      "2022-03-30 21:55:26,989: : read_in_data                 open     high      low    close       volume\n",
      "date                                                       \n",
      "2017-01-01   963.66  1003.08   958.70   998.33  147775008.0\n",
      "2017-01-02   998.62  1031.39   996.70  1021.75  222184992.0\n",
      "2017-01-03  1021.60  1044.08  1021.60  1043.84  185168000.0\n",
      "2017-01-04  1044.40  1159.42  1044.40  1154.73  344945984.0\n",
      "2017-01-05  1156.73  1191.10   910.42  1013.38  510199008.0\n",
      "2022-03-30 21:55:27,002: : read_in_data                 open     high      low    close        volume\n",
      "date                                                        \n",
      "2022-03-26  44331.0  44792.0  44101.0  44531.0  2.278341e+07\n",
      "2022-03-27  44531.0  46962.0  44448.0  46842.0  5.399869e+07\n",
      "2022-03-28  46842.0  48220.0  46661.0  47160.0  8.354505e+07\n",
      "2022-03-29  47160.0  48185.0  47001.0  47456.0  8.208843e+07\n",
      "2022-03-30  47455.0  47716.0  46329.0  47085.0  5.690887e+07\n",
      "2022-03-30 21:55:27,008: : read_in_data  ---\n",
      "2022-03-30 21:55:27,008: : read_in_data  Input file ../tmp/historic_crypto_prices - etherum_jan_2017_sept_4_2021 copy.csv\n",
      "2022-03-30 21:55:27,017: : read_in_data               open   high   low  close      volume\n",
      "date                                             \n",
      "2017-01-01   7.98   8.47  7.98   8.17  14731700.0\n",
      "2017-01-02   8.17   8.44  8.05   8.38  14579600.0\n",
      "2017-01-03   8.37  10.00  8.32   9.73  33625200.0\n",
      "2017-01-04   9.71  11.28  9.56  11.25  41051200.0\n",
      "2017-01-05  11.29  11.89  9.40  10.25  41557400.0\n",
      "2022-03-30 21:55:27,023: : read_in_data                open    high     low   close        volume\n",
      "date                                                    \n",
      "2022-03-26  3103.2  3152.7  3086.8  3146.5  2.728217e+07\n",
      "2022-03-27  3146.5  3300.4  3130.3  3297.0  2.752462e+07\n",
      "2022-03-28  3297.0  3432.4  3275.1  3338.0  7.403999e+07\n",
      "2022-03-29  3338.0  3483.1  3334.8  3401.9  1.339354e+08\n",
      "2022-03-30  3401.9  3449.0  3334.2  3386.1  6.521944e+07\n",
      "2022-03-30 21:55:27,028: : read_in_data  ---\n",
      "2022-03-30 21:55:27,029: : read_in_data  Input file ../tmp/historic_crypto_prices - sol_jan_2017_oct_18_2021.csv\n",
      "2022-03-30 21:55:27,039: : read_in_data              open  high   low  close      volume\n",
      "date                                           \n",
      "2020-04-10  0.83  1.31  0.69   0.95  87364276.0\n",
      "2020-04-11  0.95  1.05  0.77   0.78  43862444.0\n",
      "2020-04-12  0.79  0.96  0.76   0.88  38736897.0\n",
      "2020-04-13  0.89  0.89  0.77   0.78  18211285.0\n",
      "2020-04-14  0.78  0.80  0.63   0.66  16747614.0\n",
      "2022-03-30 21:55:27,047: : read_in_data                  open      high       low     close        volume\n",
      "date                                                            \n",
      "2022-03-26   98.6125  103.3975   97.6650  101.7850  6.361283e+06\n",
      "2022-03-27  101.7850  107.5275   98.8475  107.0600  1.756025e+07\n",
      "2022-03-28  107.0600  113.8875  105.2100  105.9750  1.720166e+07\n",
      "2022-03-29  105.9600  115.7500  105.6325  111.6825  1.740906e+07\n",
      "2022-03-30  111.6800  125.1550  107.2500  120.8150  3.665224e+07\n",
      "2022-03-30 21:55:27,051: : read_in_data  ---\n",
      "2022-03-30 21:55:27,052: : read_in_data  Input file ../tmp/historic_crypto_prices - matic_dec_2020_dec_2021.csv\n",
      "2022-03-30 21:55:27,063: : read_in_data              open  high   low  close      volume\n",
      "date                                           \n",
      "2020-12-14  0.02  0.02  0.02   0.02   6472765.0\n",
      "2020-12-15  0.02  0.02  0.02   0.02  14597988.0\n",
      "2020-12-16  0.02  0.02  0.02   0.02  13012452.0\n",
      "2020-12-17  0.02  0.02  0.02   0.02  18914753.0\n",
      "2020-12-18  0.02  0.02  0.02   0.02  13821146.0\n",
      "2022-03-30 21:55:27,072: : read_in_data                  open      high       low     close        volume\n",
      "date                                                            \n",
      "2022-03-26  1.578855  1.615685  1.568319  1.612378  8.666678e+05\n",
      "2022-03-27  1.612378  1.696156  1.602438  1.695952  1.498535e+06\n",
      "2022-03-28  1.695952  1.747663  1.651217  1.657996  3.885142e+06\n",
      "2022-03-29  1.657996  1.737373  1.634949  1.675019  1.680346e+06\n",
      "2022-03-30  1.675019  1.726398  1.628389  1.682571  2.489822e+06\n",
      "2022-03-30 21:55:27,078: : read_in_data  ---\n",
      "2022-03-30 21:55:27,079: : read_in_data  Input file ../tmp/historic_crypto_prices - link_jan_2019_jan_2022.csv\n",
      "2022-03-30 21:55:27,089: : read_in_data              open  high   low  close      volume\n",
      "date                                           \n",
      "2019-01-01  0.29  0.30  0.29   0.30   1522529.0\n",
      "2019-01-02  0.30  0.32  0.30   0.32   1637715.0\n",
      "2019-01-03  0.32  0.37  0.32   0.37  10890273.0\n",
      "2019-01-04  0.37  0.45  0.37   0.44  24652793.0\n",
      "2019-01-05  0.44  0.44  0.39   0.40  13064911.0\n",
      "2022-03-30 21:55:27,097: : read_in_data                 open     high      low    close        volume\n",
      "date                                                        \n",
      "2022-03-26  15.6035  15.9515  15.5065  15.8465  4.329742e+05\n",
      "2022-03-27  15.8465  16.9225  15.6335  16.8760  1.253855e+06\n",
      "2022-03-28  16.8760  17.3700  16.3570  16.4915  1.496229e+06\n",
      "2022-03-29  16.4915  17.5235  16.4720  16.9885  6.705121e+05\n",
      "2022-03-30  16.9885  17.5930  16.5540  17.2170  6.455235e+05\n",
      "2022-03-30 21:55:27,104: : read_in_data  ---\n"
     ]
    }
   ],
   "source": [
    "bitcoin_df = read_in_data(\"../tmp/\" + constants[\"bitcoin_csv_filename\"].split(\"/\")[1], running_on_aws())\n",
    "etherum_df = read_in_data(\"../tmp/\" +constants[\"etherum_csv_filename\"].split(\"/\")[1], running_on_aws())\n",
    "sol_df = read_in_data(\"../tmp/\" +constants[\"sol_csv_filename\"].split(\"/\")[1], running_on_aws())\n",
    "matic_df = read_in_data(\"../tmp/\" +constants[\"matic_csv_filename\"].split(\"/\")[1], running_on_aws())\n",
    "link_df = read_in_data(\"../tmp/\" +constants[\"link_csv_filename\"].split(\"/\")[1], running_on_aws())"
   ]
  },
  {
   "cell_type": "code",
   "execution_count": 4,
   "id": "3c916953-702d-40f5-b431-86b7e63d87ad",
   "metadata": {},
   "outputs": [
    {
     "name": "stderr",
     "output_type": "stream",
     "text": [
      "2022-03-30 21:55:27,132: : read_in_yaml  Reading in ../tmp/ml_config.yml\n",
      "2022-03-30 21:55:27,141: : read_in_yaml  Key = prediction_params Value = {'bollinger_window': 5, 'no_of_std': 1.25, 'lookback_window': [15, 30, 45], 'prediction_n_days': 7, 'model_name': ['TCN', 'NBEATS'], 'work_dir': '/mnt/shared-storage'}\n",
      "2022-03-30 21:55:27,142: : read_in_yaml  Key = hyperparameters_tcn Value = {'dropout': 0.1, 'random_state': 0, 'dilation_base': 2, 'kernel_size': 14, 'num_filters': 7, 'num_layers': 7, 'weight_norm': True, 'epochs': 60}\n",
      "2022-03-30 21:55:27,143: : read_in_yaml  Key = hyperparameters_nbeats Value = {'random_state': 0, 'num_blocks': 5, 'layer_widths': 256, 'epochs': 11}\n",
      "2022-03-30 21:55:27,144: : read_in_yaml  ----------\n"
     ]
    }
   ],
   "source": []
  },
  {
   "cell_type": "markdown",
   "id": "b9433ccf-daab-4040-871a-d5102a220358",
   "metadata": {},
   "source": [
    " - BTC"
   ]
  },
  {
   "cell_type": "code",
   "execution_count": 5,
   "id": "117cd6c5-955b-4537-a583-ba05d5fc9138",
   "metadata": {},
   "outputs": [],
   "source": [
    "predictor = BollingerBandsPredictor(\n",
    "    coin, constants, ml_constants, bitcoin_df, additional_dfs=[etherum_df]  # spy_df\n",
    ")"
   ]
  },
  {
   "cell_type": "code",
   "execution_count": 6,
   "id": "8eb2e3fb-6bd1-4e40-bf11-de268c7ad4f6",
   "metadata": {},
   "outputs": [
    {
     "name": "stderr",
     "output_type": "stream",
     "text": [
      "2022-03-30 21:55:27,166: : predict  Slicing dataframes\n",
      "2022-03-30 21:55:27,168: : _slice_df  Slice date , earliest day of data for main df, = 2017-01-01 00:00:00\n",
      "2022-03-30 21:55:27,170: : predict  Building Bollinger Bands\n",
      "2022-03-30 21:55:27,181: : _build_technical_indicators  ---- Adding Bollinger Bands ----\n",
      "2022-03-30 21:55:27,182: : _build_technical_indicators                 open     high      low    close        volume  Rolling Mean  \\\n",
      "date                                                                         \n",
      "2022-03-26  44331.0  44792.0  44101.0  44531.0  2.278341e+07       43628.8   \n",
      "2022-03-27  44531.0  46962.0  44448.0  46842.0  5.399869e+07       44521.8   \n",
      "2022-03-28  46842.0  48220.0  46661.0  47160.0  8.354505e+07       45375.2   \n",
      "2022-03-29  47160.0  48185.0  47001.0  47456.0  8.208843e+07       46064.0   \n",
      "2022-03-30  47455.0  47716.0  46329.0  47085.0  5.690887e+07       46614.8   \n",
      "\n",
      "            Bollinger High  Bollinger Low  \n",
      "date                                       \n",
      "2022-03-26    44808.427987   42449.172013  \n",
      "2022-03-27    46325.951333   42717.648667  \n",
      "2022-03-28    47250.028617   43500.371383  \n",
      "2022-03-29    47949.133243   44178.866757  \n",
      "2022-03-30    48096.431122   45133.168878  \n",
      "2022-03-30 21:55:27,262: : _build_technical_indicators                open    high     low   close        volume  Rolling Mean  \\\n",
      "date                                                                     \n",
      "2022-03-26  3103.2  3152.7  3086.8  3146.5  2.728217e+07       3074.04   \n",
      "2022-03-27  3146.5  3300.4  3130.3  3297.0  2.752462e+07       3139.34   \n",
      "2022-03-28  3297.0  3432.4  3275.1  3338.0  7.403999e+07       3199.50   \n",
      "2022-03-29  3338.0  3483.1  3334.8  3401.9  1.339354e+08       3257.32   \n",
      "2022-03-30  3401.9  3449.0  3334.2  3386.1  6.521944e+07       3313.90   \n",
      "\n",
      "            Bollinger High  Bollinger Low    stc      stoch        rsi  \\\n",
      "date                                                                     \n",
      "2022-03-26     3161.720198    2986.359802  100.0  93.165314  83.718157   \n",
      "2022-03-27     3260.130030    3018.549970  100.0  99.575584  90.363474   \n",
      "2022-03-28     3336.840931    3062.159069  100.0  89.786866  91.539378   \n",
      "2022-03-29     3416.690328    3097.949672  100.0  90.751708  93.164387   \n",
      "2022-03-30     3441.751874    3186.048126  100.0  86.797332  87.943736   \n",
      "\n",
      "                  macd  macd_signal  \n",
      "date                                 \n",
      "2022-03-26   94.963575    44.870766  \n",
      "2022-03-27  115.118339    58.920281  \n",
      "2022-03-28  132.867873    73.709799  \n",
      "2022-03-29  150.357475    89.039335  \n",
      "2022-03-30  161.086281   103.448724  \n",
      "2022-03-30 21:55:27,273: : predict  Creating Models\n",
      "2022-03-30 21:55:27,274: : _create_models  ------\n",
      "2022-03-30 21:55:27,275: : _create_models  Creating models for coin btc\n",
      "2022-03-30 21:55:27,276: : _create_models  Creating model lookback = 15_nbeats_btc,checkpoint_257.pth.tar\n",
      "2022-03-30 21:55:27,283: : _create_models  Creating model tcn_btc,checkpoint_4499.pth.tar\n",
      "2022-03-30 21:55:27,286: : _create_models  ---- Finished creating models ----\n",
      "2022-03-30 21:55:27,286: : _create_models  Creating model lookback = 30_nbeats_btc,checkpoint_257.pth.tar\n",
      "2022-03-30 21:55:27,289: : _create_models  Creating model tcn_btc,checkpoint_4499.pth.tar\n",
      "2022-03-30 21:55:27,294: : _create_models  ---- Finished creating models ----\n",
      "2022-03-30 21:55:27,295: : _create_models  Creating model lookback = 45_nbeats_btc,checkpoint_257.pth.tar\n",
      "2022-03-30 21:55:27,299: : _create_models  Creating model tcn_btc,checkpoint_4499.pth.tar\n",
      "2022-03-30 21:55:27,302: : _create_models  ---- Finished creating models ----\n",
      "2022-03-30 21:55:27,303: : predict  Converting data to timeseries\n",
      "2022-03-30 21:55:27,471: : _convert_data_to_timeseries  original DF training series = Index(['open', 'high', 'low', 'Rolling Mean', 'volume', 'macd', 'macd_signal',\n",
      "       'stc', 'stoch', 'rsi', 'year', 'month', 'day'],\n",
      "      dtype='object', name='component')\n",
      "2022-03-30 21:55:27,472: : _convert_data_to_timeseries  last date for training data = 2022-03-30 00:00:00\n",
      "2022-03-30 21:55:27,601: : _convert_data_to_timeseries  all series now stacked = Index(['open', 'high', 'low', 'Rolling Mean', 'volume', 'macd', 'macd_signal',\n",
      "       'stc', 'stoch', 'rsi', 'close', 'open_1', 'high_1', 'low_1',\n",
      "       'Rolling Mean_1', 'volume_1', 'macd_1', 'macd_signal_1', 'stc_1',\n",
      "       'stoch_1', 'rsi_1', 'year', 'month', 'day'],\n",
      "      dtype='object', name='component')\n",
      "2022-03-30 21:55:27,601: : predict  Training models\n",
      "2022-03-30 21:55:27,602: : _train_models  Training nbeats\n",
      "2022-03-30 21:55:27,604: : _train_models  Training TCN\n",
      "2022-03-30 21:55:27,605: : _train_models  Training nbeats\n",
      "2022-03-30 21:55:27,606: : _train_models  Training nbeats\n",
      "[2022-03-30 21:55:27,607] INFO | darts.models.forecasting.torch_forecasting_model | Train dataset contains 799 samples.\n",
      "2022-03-30 21:55:27,609: : _train_models  Training TCN\n",
      "[2022-03-30 21:55:27,607] INFO | darts.models.forecasting.torch_forecasting_model | Train dataset contains 799 samples.\n",
      "[2022-03-30 21:55:27,610] INFO | darts.models.forecasting.torch_forecasting_model | Train dataset contains 799 samples.\n",
      "2022-03-30 21:55:27,607: : fit  Train dataset contains 799 samples.\n",
      "[2022-03-30 21:55:27,610] INFO | darts.models.forecasting.torch_forecasting_model | Train dataset contains 799 samples.\n",
      "[2022-03-30 21:55:27,611] INFO | darts.models.forecasting.torch_forecasting_model | Train dataset contains 784 samples.\n",
      "2022-03-30 21:55:27,613: : _train_models  Training nbeats\n",
      "[2022-03-30 21:55:27,611] INFO | darts.models.forecasting.torch_forecasting_model | Train dataset contains 784 samples.\n",
      "2022-03-30 21:55:27,610: : fit  Train dataset contains 799 samples.\n",
      "2022-03-30 21:55:27,611: : fit  Train dataset contains 784 samples.\n",
      "[2022-03-30 21:55:27,617] INFO | darts.models.forecasting.torch_forecasting_model | Train dataset contains 784 samples.\n",
      "2022-03-30 21:55:27,616: : _train_models  Training nbeats\n",
      "[2022-03-30 21:55:27,617] INFO | darts.models.forecasting.torch_forecasting_model | Train dataset contains 784 samples.\n",
      "2022-03-30 21:55:27,617: : fit  Train dataset contains 784 samples.\n",
      "[2022-03-30 21:55:27,624] INFO | darts.models.forecasting.torch_forecasting_model | Train dataset contains 769 samples.\n",
      "2022-03-30 21:55:27,621: : _train_models  Training TCN\n",
      "[2022-03-30 21:55:27,624] INFO | darts.models.forecasting.torch_forecasting_model | Train dataset contains 769 samples.\n",
      "2022-03-30 21:55:27,624: : fit  Train dataset contains 769 samples.\n",
      "2022-03-30 21:55:27,632: : _train_models  Training nbeats\n",
      "2022-03-30 21:55:27,646: : _train_models  Have thread = [<darts.models.forecasting.nbeats.NBEATSModel object at 0x105a8a3a0>, <darts.models.forecasting.tcn_model.TCNModel object at 0x105a8a670>]_nbeats\n",
      "[2022-03-30 21:55:27,649] INFO | darts.models.forecasting.torch_forecasting_model | Train dataset contains 769 samples.\n",
      "[2022-03-30 21:55:27,649] INFO | darts.models.forecasting.torch_forecasting_model | Train dataset contains 769 samples.\n",
      "2022-03-30 21:55:27,649: : fit  Train dataset contains 769 samples.\n",
      "[2022-03-30 21:55:27,670] INFO | darts.models.forecasting.torch_forecasting_model | Time series values are 64-bits; casting model to float64.\n",
      "[2022-03-30 21:55:27,670] INFO | darts.models.forecasting.torch_forecasting_model | Time series values are 64-bits; casting model to float64.\n",
      "2022-03-30 21:55:27,670: : _init_model  Time series values are 64-bits; casting model to float64.\n",
      "[2022-03-30 21:55:27,679] INFO | darts.models.forecasting.torch_forecasting_model | Time series values are 64-bits; casting model to float64.\n",
      "[2022-03-30 21:55:27,679] INFO | darts.models.forecasting.torch_forecasting_model | Time series values are 64-bits; casting model to float64.\n",
      "2022-03-30 21:55:27,679: : _init_model  Time series values are 64-bits; casting model to float64.\n",
      "[2022-03-30 21:55:27,749] INFO | darts.models.forecasting.torch_forecasting_model | Time series values are 64-bits; casting model to float64.\n",
      "[2022-03-30 21:55:27,749] INFO | darts.models.forecasting.torch_forecasting_model | Time series values are 64-bits; casting model to float64.\n"
     ]
    },
    {
     "data": {
      "application/vnd.jupyter.widget-view+json": {
       "model_id": "4107dfd4eb2e4fc0b184b70575659693",
       "version_major": 2,
       "version_minor": 0
      },
      "text/plain": [
       "  0%|          | 0/11 [00:00<?, ?it/s]"
      ]
     },
     "metadata": {},
     "output_type": "display_data"
    },
    {
     "name": "stderr",
     "output_type": "stream",
     "text": [
      "2022-03-30 21:55:27,749: : _init_model  Time series values are 64-bits; casting model to float64.\n"
     ]
    },
    {
     "data": {
      "application/vnd.jupyter.widget-view+json": {
       "model_id": "b204520ba2ab4f75a68f7e064130403c",
       "version_major": 2,
       "version_minor": 0
      },
      "text/plain": [
       "  0%|          | 0/11 [00:00<?, ?it/s]"
      ]
     },
     "metadata": {},
     "output_type": "display_data"
    },
    {
     "data": {
      "application/vnd.jupyter.widget-view+json": {
       "model_id": "5063ce3f4325475f8206fe4640d176bb",
       "version_major": 2,
       "version_minor": 0
      },
      "text/plain": [
       "  0%|          | 0/11 [00:00<?, ?it/s]"
      ]
     },
     "metadata": {},
     "output_type": "display_data"
    },
    {
     "name": "stderr",
     "output_type": "stream",
     "text": [
      "[2022-03-30 21:55:30,598] INFO | darts.models.forecasting.torch_forecasting_model | Time series values are 64-bits; casting model to float64.\n",
      "[2022-03-30 21:55:30,598] INFO | darts.models.forecasting.torch_forecasting_model | Time series values are 64-bits; casting model to float64.\n",
      "[2022-03-30 21:55:30,599] INFO | darts.models.forecasting.torch_forecasting_model | Time series values are 64-bits; casting model to float64.\n",
      "2022-03-30 21:55:30,598: : _init_model  Time series values are 64-bits; casting model to float64.\n",
      "[2022-03-30 21:55:30,599] INFO | darts.models.forecasting.torch_forecasting_model | Time series values are 64-bits; casting model to float64.\n",
      "2022-03-30 21:55:30,599: : _init_model  Time series values are 64-bits; casting model to float64.\n"
     ]
    },
    {
     "name": "stdout",
     "output_type": "stream",
     "text": [
      "Training loss: 1202164148.4799\r"
     ]
    },
    {
     "name": "stderr",
     "output_type": "stream",
     "text": [
      "[2022-03-30 21:55:30,617] INFO | darts.models.forecasting.torch_forecasting_model | Time series values are 64-bits; casting model to float64.\n",
      "[2022-03-30 21:55:30,617] INFO | darts.models.forecasting.torch_forecasting_model | Time series values are 64-bits; casting model to float64.\n",
      "2022-03-30 21:55:30,617: : _init_model  Time series values are 64-bits; casting model to float64.\n"
     ]
    },
    {
     "name": "stdout",
     "output_type": "stream",
     "text": [
      "Training loss: 646834136.0693\r"
     ]
    },
    {
     "data": {
      "application/vnd.jupyter.widget-view+json": {
       "model_id": "afad139981714d938906a66c9bbe6587",
       "version_major": 2,
       "version_minor": 0
      },
      "text/plain": [
       "  0%|          | 0/11 [00:00<?, ?it/s]"
      ]
     },
     "metadata": {},
     "output_type": "display_data"
    },
    {
     "data": {
      "application/vnd.jupyter.widget-view+json": {
       "model_id": "e356cead6c8c469484167b856feb0979",
       "version_major": 2,
       "version_minor": 0
      },
      "text/plain": [
       "  0%|          | 0/11 [00:00<?, ?it/s]"
      ]
     },
     "metadata": {},
     "output_type": "display_data"
    },
    {
     "data": {
      "application/vnd.jupyter.widget-view+json": {
       "model_id": "ea1e7539fb984e1390ece309fed3cebb",
       "version_major": 2,
       "version_minor": 0
      },
      "text/plain": [
       "  0%|          | 0/11 [00:00<?, ?it/s]"
      ]
     },
     "metadata": {},
     "output_type": "display_data"
    },
    {
     "name": "stdout",
     "output_type": "stream",
     "text": [
      "Training loss: 229685391.2981\r"
     ]
    },
    {
     "name": "stderr",
     "output_type": "stream",
     "text": [
      "2022-03-30 22:04:25,245: : _train_models  Have thread = [<darts.models.forecasting.nbeats.NBEATSModel object at 0x105a8a3a0>, <darts.models.forecasting.tcn_model.TCNModel object at 0x105a8a670>]_tcn\n",
      "2022-03-30 22:04:25,267: : _train_models  Have thread = [<darts.models.forecasting.nbeats.NBEATSModel object at 0x105a8a6d0>, <darts.models.forecasting.tcn_model.TCNModel object at 0x127fad130>]_nbeats\n"
     ]
    },
    {
     "name": "stdout",
     "output_type": "stream",
     "text": [
      "Training loss: 11796147.3862\r"
     ]
    },
    {
     "name": "stderr",
     "output_type": "stream",
     "text": [
      "2022-03-30 22:05:29,873: : _train_models  Have thread = [<darts.models.forecasting.nbeats.NBEATSModel object at 0x105a8a6d0>, <darts.models.forecasting.tcn_model.TCNModel object at 0x127fad130>]_tcn\n",
      "2022-03-30 22:05:29,876: : _train_models  Have thread = [<darts.models.forecasting.nbeats.NBEATSModel object at 0x127fad880>, <darts.models.forecasting.tcn_model.TCNModel object at 0x127fadbe0>]_nbeats\n"
     ]
    },
    {
     "name": "stdout",
     "output_type": "stream",
     "text": [
      "Training loss: 10154947.7975\r"
     ]
    },
    {
     "name": "stderr",
     "output_type": "stream",
     "text": [
      "2022-03-30 22:06:10,993: : _train_models  Have thread = [<darts.models.forecasting.nbeats.NBEATSModel object at 0x127fad880>, <darts.models.forecasting.tcn_model.TCNModel object at 0x127fadbe0>]_tcn\n",
      "2022-03-30 22:06:10,997: : predict  making predictions\n"
     ]
    },
    {
     "name": "stdout",
     "output_type": "stream",
     "text": [
      "Training loss: 14737773.2486\r"
     ]
    },
    {
     "name": "stderr",
     "output_type": "stream",
     "text": [
      "2022-03-30 22:06:11,792: : _make_prediction   Model = nbeats_btc_lookback_15 Lookback = 7 Prediction = 48789.55535113841\n",
      "2022-03-30 22:06:11,839: : _make_prediction   Model = tcn_btc_lookback_15 Lookback = 7 Prediction = 44772.65043697051\n",
      "2022-03-30 22:06:12,100: : _make_prediction   Model = nbeats_btc_lookback_30 Lookback = 7 Prediction = 44028.93059533704\n",
      "2022-03-30 22:06:12,118: : _make_prediction   Model = tcn_btc_lookback_30 Lookback = 7 Prediction = 45408.1201197201\n",
      "2022-03-30 22:06:12,209: : _make_prediction   Model = nbeats_btc_lookback_45 Lookback = 7 Prediction = 43325.42615116384\n",
      "2022-03-30 22:06:12,225: : _make_prediction   Model = tcn_btc_lookback_45 Lookback = 7 Prediction = 44891.21608323259\n",
      "2022-03-30 22:06:12,227: : predict  prediction = 45202.64978959374\n"
     ]
    }
   ],
   "source": [
    "price_prediction = predictor.predict()"
   ]
  },
  {
   "cell_type": "code",
   "execution_count": null,
   "id": "15486f8a-ab74-4725-8f13-a8e5b5ed3823",
   "metadata": {},
   "outputs": [],
   "source": []
  }
 ],
 "metadata": {
  "kernelspec": {
   "display_name": "go-trader",
   "language": "python",
   "name": "go-trader"
  },
  "language_info": {
   "codemirror_mode": {
    "name": "ipython",
    "version": 3
   },
   "file_extension": ".py",
   "mimetype": "text/x-python",
   "name": "python",
   "nbconvert_exporter": "python",
   "pygments_lexer": "ipython3",
   "version": "3.8.2"
  }
 },
 "nbformat": 4,
 "nbformat_minor": 5
}
