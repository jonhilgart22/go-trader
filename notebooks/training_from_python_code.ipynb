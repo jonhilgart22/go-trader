{
 "cells": [
  {
   "cell_type": "code",
   "execution_count": 43,
   "id": "6195ee83-a9ae-4aac-ad18-380b660b4772",
   "metadata": {},
   "outputs": [
    {
     "name": "stdout",
     "output_type": "stream",
     "text": [
      "Populating the interactive namespace from numpy and matplotlib\n"
     ]
    }
   ],
   "source": [
    "import time\n",
    "from datetime import datetime\n",
    "\n",
    "import numpy as np\n",
    "import pandas as pd\n",
    "import matplotlib.pyplot as plt\n",
    "\n",
    "import sys\n",
    "\n",
    "sys.path.insert(0, \"../\")\n",
    "\n",
    "from app.mlcode.predict_price_movements import CoinPricePredictor\n",
    "from app.mlcode.determine_trading_state import DetermineTradingState\n",
    "from app.mlcode.utils import read_in_data, read_in_yaml, running_on_aws, setup_logging, update_yaml_config\n",
    "\n",
    "%pylab inline\n",
    "\n",
    "import logging\n",
    "\n",
    "from tqdm.notebook import tqdm\n",
    "\n",
    "tqdm.pandas()\n",
    "\n",
    "logger = logging.getLogger(__name__)\n",
    "\n",
    "logger.setLevel(logging.CRITICAL)\n",
    "\n",
    "import warnings\n",
    "\n",
    "warnings.simplefilter(\"ignore\")"
   ]
  },
  {
   "cell_type": "code",
   "execution_count": 44,
   "id": "e453e6af-a9a0-4529-b55e-00a436c822c0",
   "metadata": {},
   "outputs": [],
   "source": [
    "logging.disable(sys.maxsize)"
   ]
  },
  {
   "cell_type": "code",
   "execution_count": null,
   "id": "2245a221-5fad-492c-a16c-c8341e8ef3ec",
   "metadata": {},
   "outputs": [],
   "source": []
  },
  {
   "cell_type": "markdown",
   "id": "3cf57fbf-b13e-4c99-8c9e-adfa54de30cb",
   "metadata": {},
   "source": [
    "## Setup data\n",
    "- All of these configs are stored in the notebooks folder"
   ]
  },
  {
   "cell_type": "code",
   "execution_count": 45,
   "id": "ba00f678-e612-400e-ae2b-de525fa7f0db",
   "metadata": {},
   "outputs": [],
   "source": [
    "def read_in_config_files(base_path: str = \"training_configs/\", coin: str = \"link\"):\n",
    "\n",
    "    coin_to_predict = coin + \"_\"\n",
    "\n",
    "    constants = read_in_yaml(base_path + \"constants.yml\", running_on_aws())\n",
    "\n",
    "    trading_state_filename = base_path + coin_to_predict + \"trading_state_config.yml\"\n",
    "    trading_constants = read_in_yaml(trading_state_filename, running_on_aws())\n",
    "\n",
    "    won_lost_amount_filename = base_path + coin_to_predict + \"won_and_lost_config.yml\"\n",
    "    won_and_lost_amount_constants = read_in_yaml(won_lost_amount_filename, running_on_aws())\n",
    "\n",
    "    actions_to_take_filename = base_path + coin_to_predict + \"actions_to_take.yml\"\n",
    "    actions_to_take_constants = read_in_yaml(actions_to_take_filename, running_on_aws())\n",
    "\n",
    "    ml_constants = read_in_yaml(base_path + constants[\"ml_config_filename\"].split(\"/\")[1], running_on_aws())\n",
    "\n",
    "    all_predictions_filename = base_path + coin_to_predict + \"all_predictions.csv\"\n",
    "\n",
    "    return (\n",
    "        coin,\n",
    "        constants,\n",
    "        trading_constants,\n",
    "        won_and_lost_amount_constants,\n",
    "        actions_to_take_constants,\n",
    "        ml_constants,\n",
    "        all_predictions_filename,\n",
    "        trading_state_filename,\n",
    "        actions_to_take_filename,\n",
    "        won_lost_amount_filename,\n",
    "    )"
   ]
  },
  {
   "cell_type": "code",
   "execution_count": 46,
   "id": "cee4b4dd-f06c-4e88-9fad-2f925cf2cd88",
   "metadata": {},
   "outputs": [],
   "source": [
    "(\n",
    "    coin,\n",
    "    constants,\n",
    "    trading_constants,\n",
    "    won_and_lost_amount_constants,\n",
    "    actions_to_take_constants,\n",
    "    ml_constants,\n",
    "    all_predictions_filename,\n",
    "    trading_state_filename,\n",
    "    actions_to_take_filename,\n",
    "    won_lost_amount_filename,\n",
    ") = read_in_config_files(coin=\"link\")"
   ]
  },
  {
   "cell_type": "code",
   "execution_count": 47,
   "id": "cee36600-f20a-4f54-9427-2569d314f07d",
   "metadata": {},
   "outputs": [
    {
     "data": {
      "text/plain": [
       "'training_configs/link_all_predictions.csv'"
      ]
     },
     "execution_count": 47,
     "metadata": {},
     "output_type": "execute_result"
    }
   ],
   "source": [
    "all_predictions_filename"
   ]
  },
  {
   "cell_type": "markdown",
   "id": "2db37d89-9fc8-4d96-9b45-afe3594eb102",
   "metadata": {},
   "source": [
    "- make sure we've reset our configs"
   ]
  },
  {
   "cell_type": "code",
   "execution_count": 48,
   "id": "bd9c635b-ce8d-492d-9de1-08ee4763e434",
   "metadata": {},
   "outputs": [
    {
     "data": {
      "text/plain": [
       "{'buy_entry_price': 0.0,\n",
       " 'buy_has_crossed_mean': 0.0,\n",
       " 'mode': 'no_position',\n",
       " 'position_entry_date': None,\n",
       " 'short_entry_price': 0.0,\n",
       " 'short_has_crossed_mean': 0.0,\n",
       " 'stop_loss_pct': 0.1,\n",
       " 'stop_loss_price': 0.0}"
      ]
     },
     "execution_count": 48,
     "metadata": {},
     "output_type": "execute_result"
    }
   ],
   "source": [
    "trading_constants  # ensure all zeros\n",
    "assert trading_constants[\"buy_entry_price\"] == 0\n",
    "assert trading_constants[\"position_entry_date\"] == None\n",
    "trading_constants"
   ]
  },
  {
   "cell_type": "code",
   "execution_count": 49,
   "id": "93d81857-2ba5-412a-8c6f-c59b5ba986df",
   "metadata": {},
   "outputs": [
    {
     "data": {
      "text/plain": [
       "{'dollar_amount_buy_lost': 0.0,\n",
       " 'dollar_amount_buy_won': 0.0,\n",
       " 'dollar_amount_short_lost': 0.0,\n",
       " 'dollar_amount_short_won': 0.0,\n",
       " 'n_buy_lost': 0.0,\n",
       " 'n_buy_won': 0.0,\n",
       " 'n_short_lost': 0.0,\n",
       " 'n_short_won': 0.0,\n",
       " 'n_total_days_in_trades': 0.0}"
      ]
     },
     "execution_count": 49,
     "metadata": {},
     "output_type": "execute_result"
    }
   ],
   "source": [
    "assert won_and_lost_amount_constants[\"dollar_amount_buy_lost\"] == 0\n",
    "assert won_and_lost_amount_constants[\"dollar_amount_buy_won\"] == 0\n",
    "assert won_and_lost_amount_constants[\"n_buy_lost\"] == 0\n",
    "assert won_and_lost_amount_constants[\"n_total_days_in_trades\"] == 0\n",
    "won_and_lost_amount_constants"
   ]
  },
  {
   "cell_type": "code",
   "execution_count": null,
   "id": "3e73d74f-460a-4f39-8405-925006765fac",
   "metadata": {},
   "outputs": [],
   "source": []
  },
  {
   "cell_type": "code",
   "execution_count": 50,
   "id": "55471cc6-59f6-491d-a42e-043f5fc69755",
   "metadata": {},
   "outputs": [],
   "source": [
    "bitcoin_df = read_in_data(\"../tmp/\" + constants[\"bitcoin_csv_filename\"].split(\"/\")[1], running_on_aws())\n",
    "etherum_df = read_in_data(\"../tmp/\" + constants[\"etherum_csv_filename\"].split(\"/\")[1], running_on_aws())\n",
    "sol_df = read_in_data(\"../tmp/\" + constants[\"sol_csv_filename\"].split(\"/\")[1], running_on_aws())\n",
    "matic_df = read_in_data(\"../tmp/\" + constants[\"matic_csv_filename\"].split(\"/\")[1], running_on_aws())\n",
    "link_df = read_in_data(\"../tmp/\" + constants[\"link_csv_filename\"].split(\"/\")[1], running_on_aws())\n",
    "tbt_df = read_in_data(\"../tmp/\" + constants[\"tbt_csv_filename\"].split(\"/\")[1], running_on_aws())"
   ]
  },
  {
   "cell_type": "code",
   "execution_count": 51,
   "id": "3c916953-702d-40f5-b431-86b7e63d87ad",
   "metadata": {},
   "outputs": [
    {
     "data": {
      "text/plain": [
       "{'prediction_params': {'bollinger_window': 5,\n",
       "  'no_of_std': 1.25,\n",
       "  'lookback_window': [15, 30, 45],\n",
       "  'prediction_n_days': 7,\n",
       "  'model_name': ['TCN', 'NBEATS'],\n",
       "  'work_dir': '/mnt/shared-storage'},\n",
       " 'hyperparameters_tcn': {'dropout': 0.1,\n",
       "  'random_state': 0,\n",
       "  'dilation_base': 2,\n",
       "  'kernel_size': 14,\n",
       "  'num_filters': 7,\n",
       "  'num_layers': 7,\n",
       "  'weight_norm': True,\n",
       "  'epochs': 30},\n",
       " 'hyperparameters_nbeats': {'random_state': 0,\n",
       "  'num_blocks': 4,\n",
       "  'layer_widths': 123,\n",
       "  'epochs': 5},\n",
       " 'hyperparameters_random_forest': {'n_estimators': 200},\n",
       " 'hyperparameters_gradient_boosting': {'n_estimators': 150}}"
      ]
     },
     "execution_count": 51,
     "metadata": {},
     "output_type": "execute_result"
    }
   ],
   "source": [
    "ml_constants"
   ]
  },
  {
   "cell_type": "code",
   "execution_count": 52,
   "id": "0c122cec-923b-44ae-8490-d513b1b959e1",
   "metadata": {},
   "outputs": [
    {
     "data": {
      "text/html": [
       "<div>\n",
       "<style scoped>\n",
       "    .dataframe tbody tr th:only-of-type {\n",
       "        vertical-align: middle;\n",
       "    }\n",
       "\n",
       "    .dataframe tbody tr th {\n",
       "        vertical-align: top;\n",
       "    }\n",
       "\n",
       "    .dataframe thead th {\n",
       "        text-align: right;\n",
       "    }\n",
       "</style>\n",
       "<table border=\"1\" class=\"dataframe\">\n",
       "  <thead>\n",
       "    <tr style=\"text-align: right;\">\n",
       "      <th></th>\n",
       "      <th>open</th>\n",
       "      <th>high</th>\n",
       "      <th>low</th>\n",
       "      <th>close</th>\n",
       "      <th>volume</th>\n",
       "    </tr>\n",
       "    <tr>\n",
       "      <th>date</th>\n",
       "      <th></th>\n",
       "      <th></th>\n",
       "      <th></th>\n",
       "      <th></th>\n",
       "      <th></th>\n",
       "    </tr>\n",
       "  </thead>\n",
       "  <tbody>\n",
       "    <tr>\n",
       "      <th>2017-04-06</th>\n",
       "      <td>38.64</td>\n",
       "      <td>39.08</td>\n",
       "      <td>38.520</td>\n",
       "      <td>38.64</td>\n",
       "      <td>2231918</td>\n",
       "    </tr>\n",
       "    <tr>\n",
       "      <th>2017-04-07</th>\n",
       "      <td>38.26</td>\n",
       "      <td>38.96</td>\n",
       "      <td>38.020</td>\n",
       "      <td>38.95</td>\n",
       "      <td>3527348</td>\n",
       "    </tr>\n",
       "    <tr>\n",
       "      <th>2017-04-08</th>\n",
       "      <td>38.26</td>\n",
       "      <td>38.96</td>\n",
       "      <td>38.020</td>\n",
       "      <td>38.95</td>\n",
       "      <td>3527348</td>\n",
       "    </tr>\n",
       "    <tr>\n",
       "      <th>2017-04-09</th>\n",
       "      <td>38.26</td>\n",
       "      <td>38.96</td>\n",
       "      <td>38.020</td>\n",
       "      <td>38.95</td>\n",
       "      <td>3527348</td>\n",
       "    </tr>\n",
       "    <tr>\n",
       "      <th>2017-04-10</th>\n",
       "      <td>38.68</td>\n",
       "      <td>38.79</td>\n",
       "      <td>38.410</td>\n",
       "      <td>38.62</td>\n",
       "      <td>1662011</td>\n",
       "    </tr>\n",
       "    <tr>\n",
       "      <th>...</th>\n",
       "      <td>...</td>\n",
       "      <td>...</td>\n",
       "      <td>...</td>\n",
       "      <td>...</td>\n",
       "      <td>...</td>\n",
       "    </tr>\n",
       "    <tr>\n",
       "      <th>2022-05-25</th>\n",
       "      <td>24.43</td>\n",
       "      <td>24.89</td>\n",
       "      <td>24.430</td>\n",
       "      <td>24.60</td>\n",
       "      <td>3840752</td>\n",
       "    </tr>\n",
       "    <tr>\n",
       "      <th>2022-05-26</th>\n",
       "      <td>24.70</td>\n",
       "      <td>25.20</td>\n",
       "      <td>24.670</td>\n",
       "      <td>24.80</td>\n",
       "      <td>9059090</td>\n",
       "    </tr>\n",
       "    <tr>\n",
       "      <th>2022-05-27</th>\n",
       "      <td>24.55</td>\n",
       "      <td>24.82</td>\n",
       "      <td>24.415</td>\n",
       "      <td>24.71</td>\n",
       "      <td>3738390</td>\n",
       "    </tr>\n",
       "    <tr>\n",
       "      <th>2022-05-28</th>\n",
       "      <td>24.55</td>\n",
       "      <td>24.82</td>\n",
       "      <td>24.415</td>\n",
       "      <td>24.71</td>\n",
       "      <td>3893384</td>\n",
       "    </tr>\n",
       "    <tr>\n",
       "      <th>2022-05-29</th>\n",
       "      <td>24.55</td>\n",
       "      <td>24.82</td>\n",
       "      <td>24.415</td>\n",
       "      <td>24.71</td>\n",
       "      <td>3893384</td>\n",
       "    </tr>\n",
       "  </tbody>\n",
       "</table>\n",
       "<p>1880 rows × 5 columns</p>\n",
       "</div>"
      ],
      "text/plain": [
       "             open   high     low  close   volume\n",
       "date                                            \n",
       "2017-04-06  38.64  39.08  38.520  38.64  2231918\n",
       "2017-04-07  38.26  38.96  38.020  38.95  3527348\n",
       "2017-04-08  38.26  38.96  38.020  38.95  3527348\n",
       "2017-04-09  38.26  38.96  38.020  38.95  3527348\n",
       "2017-04-10  38.68  38.79  38.410  38.62  1662011\n",
       "...           ...    ...     ...    ...      ...\n",
       "2022-05-25  24.43  24.89  24.430  24.60  3840752\n",
       "2022-05-26  24.70  25.20  24.670  24.80  9059090\n",
       "2022-05-27  24.55  24.82  24.415  24.71  3738390\n",
       "2022-05-28  24.55  24.82  24.415  24.71  3893384\n",
       "2022-05-29  24.55  24.82  24.415  24.71  3893384\n",
       "\n",
       "[1880 rows x 5 columns]"
      ]
     },
     "execution_count": 52,
     "metadata": {},
     "output_type": "execute_result"
    }
   ],
   "source": [
    "tbt_df"
   ]
  },
  {
   "cell_type": "code",
   "execution_count": 53,
   "id": "a5aa7da7-ff12-49fd-b2e1-4b5fb6dfc093",
   "metadata": {},
   "outputs": [
    {
     "data": {
      "text/html": [
       "<div>\n",
       "<style scoped>\n",
       "    .dataframe tbody tr th:only-of-type {\n",
       "        vertical-align: middle;\n",
       "    }\n",
       "\n",
       "    .dataframe tbody tr th {\n",
       "        vertical-align: top;\n",
       "    }\n",
       "\n",
       "    .dataframe thead th {\n",
       "        text-align: right;\n",
       "    }\n",
       "</style>\n",
       "<table border=\"1\" class=\"dataframe\">\n",
       "  <thead>\n",
       "    <tr style=\"text-align: right;\">\n",
       "      <th></th>\n",
       "      <th>open</th>\n",
       "      <th>high</th>\n",
       "      <th>low</th>\n",
       "      <th>close</th>\n",
       "      <th>volume</th>\n",
       "    </tr>\n",
       "    <tr>\n",
       "      <th>date</th>\n",
       "      <th></th>\n",
       "      <th></th>\n",
       "      <th></th>\n",
       "      <th></th>\n",
       "      <th></th>\n",
       "    </tr>\n",
       "  </thead>\n",
       "  <tbody>\n",
       "    <tr>\n",
       "      <th>2017-01-01</th>\n",
       "      <td>963.66</td>\n",
       "      <td>1003.08</td>\n",
       "      <td>958.70</td>\n",
       "      <td>998.33</td>\n",
       "      <td>1.477750e+08</td>\n",
       "    </tr>\n",
       "    <tr>\n",
       "      <th>2017-01-02</th>\n",
       "      <td>998.62</td>\n",
       "      <td>1031.39</td>\n",
       "      <td>996.70</td>\n",
       "      <td>1021.75</td>\n",
       "      <td>2.221850e+08</td>\n",
       "    </tr>\n",
       "    <tr>\n",
       "      <th>2017-01-03</th>\n",
       "      <td>1021.60</td>\n",
       "      <td>1044.08</td>\n",
       "      <td>1021.60</td>\n",
       "      <td>1043.84</td>\n",
       "      <td>1.851680e+08</td>\n",
       "    </tr>\n",
       "    <tr>\n",
       "      <th>2017-01-04</th>\n",
       "      <td>1044.40</td>\n",
       "      <td>1159.42</td>\n",
       "      <td>1044.40</td>\n",
       "      <td>1154.73</td>\n",
       "      <td>3.449460e+08</td>\n",
       "    </tr>\n",
       "    <tr>\n",
       "      <th>2017-01-05</th>\n",
       "      <td>1156.73</td>\n",
       "      <td>1191.10</td>\n",
       "      <td>910.42</td>\n",
       "      <td>1013.38</td>\n",
       "      <td>5.101990e+08</td>\n",
       "    </tr>\n",
       "    <tr>\n",
       "      <th>...</th>\n",
       "      <td>...</td>\n",
       "      <td>...</td>\n",
       "      <td>...</td>\n",
       "      <td>...</td>\n",
       "      <td>...</td>\n",
       "    </tr>\n",
       "    <tr>\n",
       "      <th>2022-05-25</th>\n",
       "      <td>29627.00</td>\n",
       "      <td>30189.00</td>\n",
       "      <td>29317.00</td>\n",
       "      <td>29512.00</td>\n",
       "      <td>6.875629e+07</td>\n",
       "    </tr>\n",
       "    <tr>\n",
       "      <th>2022-05-26</th>\n",
       "      <td>29512.00</td>\n",
       "      <td>29859.00</td>\n",
       "      <td>28001.00</td>\n",
       "      <td>29173.00</td>\n",
       "      <td>9.426081e+07</td>\n",
       "    </tr>\n",
       "    <tr>\n",
       "      <th>2022-05-27</th>\n",
       "      <td>29173.00</td>\n",
       "      <td>29373.00</td>\n",
       "      <td>28244.00</td>\n",
       "      <td>28601.00</td>\n",
       "      <td>9.599003e+07</td>\n",
       "    </tr>\n",
       "    <tr>\n",
       "      <th>2022-05-28</th>\n",
       "      <td>28601.00</td>\n",
       "      <td>29235.00</td>\n",
       "      <td>28495.00</td>\n",
       "      <td>28998.00</td>\n",
       "      <td>5.690416e+07</td>\n",
       "    </tr>\n",
       "    <tr>\n",
       "      <th>2022-05-29</th>\n",
       "      <td>28998.00</td>\n",
       "      <td>29565.00</td>\n",
       "      <td>28810.00</td>\n",
       "      <td>29438.00</td>\n",
       "      <td>7.472909e+07</td>\n",
       "    </tr>\n",
       "  </tbody>\n",
       "</table>\n",
       "<p>1975 rows × 5 columns</p>\n",
       "</div>"
      ],
      "text/plain": [
       "                open      high       low     close        volume\n",
       "date                                                            \n",
       "2017-01-01    963.66   1003.08    958.70    998.33  1.477750e+08\n",
       "2017-01-02    998.62   1031.39    996.70   1021.75  2.221850e+08\n",
       "2017-01-03   1021.60   1044.08   1021.60   1043.84  1.851680e+08\n",
       "2017-01-04   1044.40   1159.42   1044.40   1154.73  3.449460e+08\n",
       "2017-01-05   1156.73   1191.10    910.42   1013.38  5.101990e+08\n",
       "...              ...       ...       ...       ...           ...\n",
       "2022-05-25  29627.00  30189.00  29317.00  29512.00  6.875629e+07\n",
       "2022-05-26  29512.00  29859.00  28001.00  29173.00  9.426081e+07\n",
       "2022-05-27  29173.00  29373.00  28244.00  28601.00  9.599003e+07\n",
       "2022-05-28  28601.00  29235.00  28495.00  28998.00  5.690416e+07\n",
       "2022-05-29  28998.00  29565.00  28810.00  29438.00  7.472909e+07\n",
       "\n",
       "[1975 rows x 5 columns]"
      ]
     },
     "execution_count": 53,
     "metadata": {},
     "output_type": "execute_result"
    }
   ],
   "source": [
    "bitcoin_df"
   ]
  },
  {
   "cell_type": "markdown",
   "id": "b9433ccf-daab-4040-871a-d5102a220358",
   "metadata": {},
   "source": [
    " - BTC"
   ]
  },
  {
   "cell_type": "markdown",
   "id": "7c647c3a-0764-4693-80ec-5d9ef06280c8",
   "metadata": {},
   "source": [
    "## SEtup the two main classes\n",
    "- predict prices\n",
    "- update trading state (bollinger bands)"
   ]
  },
  {
   "cell_type": "code",
   "execution_count": 54,
   "id": "07e67035-770b-4b33-8d02-017ce4e10afb",
   "metadata": {},
   "outputs": [],
   "source": [
    "# ml_constants['hyperparameters_tcn']['epochs']=1\n",
    "# ml_constants['hyperparameters_nbeats']['epochs']=1"
   ]
  },
  {
   "cell_type": "code",
   "execution_count": 55,
   "id": "0c441e3d-61b7-4ae1-8d95-a8b88a0ded95",
   "metadata": {},
   "outputs": [
    {
     "data": {
      "text/plain": [
       "{'prediction_params': {'bollinger_window': 5,\n",
       "  'no_of_std': 1.25,\n",
       "  'lookback_window': [15, 30, 45],\n",
       "  'prediction_n_days': 7,\n",
       "  'model_name': ['TCN', 'NBEATS'],\n",
       "  'work_dir': '/mnt/shared-storage'},\n",
       " 'hyperparameters_tcn': {'dropout': 0.1,\n",
       "  'random_state': 0,\n",
       "  'dilation_base': 2,\n",
       "  'kernel_size': 14,\n",
       "  'num_filters': 7,\n",
       "  'num_layers': 7,\n",
       "  'weight_norm': True,\n",
       "  'epochs': 30},\n",
       " 'hyperparameters_nbeats': {'random_state': 0,\n",
       "  'num_blocks': 4,\n",
       "  'layer_widths': 123,\n",
       "  'epochs': 5},\n",
       " 'hyperparameters_random_forest': {'n_estimators': 200},\n",
       " 'hyperparameters_gradient_boosting': {'n_estimators': 150}}"
      ]
     },
     "execution_count": 55,
     "metadata": {},
     "output_type": "execute_result"
    }
   ],
   "source": [
    "ml_constants"
   ]
  },
  {
   "cell_type": "markdown",
   "id": "094b6479-1a62-4629-8c80-b468d0bc3cc7",
   "metadata": {},
   "source": [
    "### Write a loop going through each day in our main df\n",
    "- Filter so that the largest lookback window is satisfied\n",
    "- run price prediction and determine trading state\n",
    "- go on to next date\n",
    "- ..etc"
   ]
  },
  {
   "cell_type": "code",
   "execution_count": 56,
   "id": "444a543d-f8dd-4793-b149-57aab922a703",
   "metadata": {},
   "outputs": [],
   "source": [
    "max_lookback = np.max(ml_constants[\"prediction_params\"][\"lookback_window\"])  # days"
   ]
  },
  {
   "cell_type": "code",
   "execution_count": 57,
   "id": "f139ad03-ffeb-433b-b1f0-d5b662dc6389",
   "metadata": {},
   "outputs": [
    {
     "data": {
      "text/plain": [
       "45"
      ]
     },
     "execution_count": 57,
     "metadata": {},
     "output_type": "execute_result"
    }
   ],
   "source": [
    "max_lookback"
   ]
  },
  {
   "cell_type": "markdown",
   "id": "2cb57119-9cfa-414f-8494-4c67f1dffd64",
   "metadata": {},
   "source": [
    "- Setups our DFs to run training against"
   ]
  },
  {
   "cell_type": "code",
   "execution_count": 58,
   "id": "3ae841ff-7224-484f-bb43-c4feabea8ed2",
   "metadata": {},
   "outputs": [],
   "source": [
    "date_slice = \"2019-02-01\""
   ]
  },
  {
   "cell_type": "code",
   "execution_count": 59,
   "id": "a4a6d862-ad87-4923-a8f9-7e5e5e536b2e",
   "metadata": {},
   "outputs": [],
   "source": [
    "choosen_df = link_df[link_df.index >= date_slice] # from\n",
    "correl_df_1 = tbt_df[tbt_df.index >= date_slice]\n",
    "correl_df_2 = bitcoin_df[bitcoin_df.index >= date_slice]"
   ]
  },
  {
   "cell_type": "code",
   "execution_count": 60,
   "id": "ef914eda",
   "metadata": {},
   "outputs": [
    {
     "data": {
      "text/plain": [
       "Timestamp('2019-01-01 00:00:00')"
      ]
     },
     "execution_count": 60,
     "metadata": {},
     "output_type": "execute_result"
    }
   ],
   "source": [
    "link_df.index.min()"
   ]
  },
  {
   "cell_type": "code",
   "execution_count": 61,
   "id": "ae8fed0e-d69b-44d1-9e1a-d7d0af1f2f7c",
   "metadata": {},
   "outputs": [
    {
     "name": "stdout",
     "output_type": "stream",
     "text": [
      "<class 'pandas.core.frame.DataFrame'>\n",
      "DatetimeIndex: 1214 entries, 2019-02-01 to 2022-05-29\n",
      "Data columns (total 5 columns):\n",
      " #   Column  Non-Null Count  Dtype  \n",
      "---  ------  --------------  -----  \n",
      " 0   open    1214 non-null   float64\n",
      " 1   high    1214 non-null   float64\n",
      " 2   low     1214 non-null   float64\n",
      " 3   close   1214 non-null   float64\n",
      " 4   volume  1214 non-null   float64\n",
      "dtypes: float64(5)\n",
      "memory usage: 56.9 KB\n"
     ]
    }
   ],
   "source": [
    "choosen_df.info()"
   ]
  },
  {
   "cell_type": "code",
   "execution_count": 62,
   "id": "5962d33e-081a-438e-a5c9-edcb3e78ff4d",
   "metadata": {},
   "outputs": [
    {
     "name": "stdout",
     "output_type": "stream",
     "text": [
      "<class 'pandas.core.frame.DataFrame'>\n",
      "DatetimeIndex: 1214 entries, 2019-02-01 to 2022-05-29\n",
      "Data columns (total 5 columns):\n",
      " #   Column  Non-Null Count  Dtype  \n",
      "---  ------  --------------  -----  \n",
      " 0   open    1214 non-null   float64\n",
      " 1   high    1214 non-null   float64\n",
      " 2   low     1214 non-null   float64\n",
      " 3   close   1214 non-null   float64\n",
      " 4   volume  1214 non-null   int64  \n",
      "dtypes: float64(4), int64(1)\n",
      "memory usage: 56.9 KB\n"
     ]
    }
   ],
   "source": [
    "correl_df_1.info()"
   ]
  },
  {
   "cell_type": "code",
   "execution_count": 63,
   "id": "696c1031-adb1-4489-84a7-8d9e109f859f",
   "metadata": {},
   "outputs": [
    {
     "name": "stdout",
     "output_type": "stream",
     "text": [
      " Pct complete = 0.05\n"
     ]
    },
    {
     "ename": "ValueError",
     "evalue": "Found array with 0 sample(s) (shape=(0, 18)) while a minimum of 1 is required.",
     "output_type": "error",
     "traceback": [
      "\u001b[0;31m---------------------------------------------------------------------------\u001b[0m",
      "\u001b[0;31mValueError\u001b[0m                                Traceback (most recent call last)",
      "\u001b[0;32m/var/folders/0r/jkhwtgvx0wb9vrk6xn4bmz2m0000gn/T/ipykernel_47220/2602290704.py\u001b[0m in \u001b[0;36m<cell line: 3>\u001b[0;34m()\u001b[0m\n\u001b[1;32m     32\u001b[0m         )\n\u001b[1;32m     33\u001b[0m \u001b[0;34m\u001b[0m\u001b[0m\n\u001b[0;32m---> 34\u001b[0;31m         \u001b[0mprice_prediction\u001b[0m \u001b[0;34m=\u001b[0m \u001b[0mpredictor\u001b[0m\u001b[0;34m.\u001b[0m\u001b[0mpredict\u001b[0m\u001b[0;34m(\u001b[0m\u001b[0;34m)\u001b[0m\u001b[0;34m\u001b[0m\u001b[0;34m\u001b[0m\u001b[0m\n\u001b[0m\u001b[1;32m     35\u001b[0m \u001b[0;34m\u001b[0m\u001b[0m\n\u001b[1;32m     36\u001b[0m         trading_state_class = DetermineTradingState(\n",
      "\u001b[0;32m~/GitHub/go-trader/app/mlcode/predict_price_movements.py\u001b[0m in \u001b[0;36mpredict\u001b[0;34m(self)\u001b[0m\n\u001b[1;32m    540\u001b[0m \u001b[0;34m\u001b[0m\u001b[0m\n\u001b[1;32m    541\u001b[0m         \u001b[0mlogger\u001b[0m\u001b[0;34m.\u001b[0m\u001b[0minfo\u001b[0m\u001b[0;34m(\u001b[0m\u001b[0;34mf\" stacking the predictions with {self.stacking_model_name}\"\u001b[0m\u001b[0;34m)\u001b[0m\u001b[0;34m\u001b[0m\u001b[0;34m\u001b[0m\u001b[0m\n\u001b[0;32m--> 542\u001b[0;31m         \u001b[0mprediction\u001b[0m \u001b[0;34m=\u001b[0m \u001b[0mself\u001b[0m\u001b[0;34m.\u001b[0m\u001b[0m_make_stacking_prediction_and_save\u001b[0m\u001b[0;34m(\u001b[0m\u001b[0;34m)\u001b[0m\u001b[0;34m\u001b[0m\u001b[0;34m\u001b[0m\u001b[0m\n\u001b[0m\u001b[1;32m    543\u001b[0m         \u001b[0mlogger\u001b[0m\u001b[0;34m.\u001b[0m\u001b[0minfo\u001b[0m\u001b[0;34m(\u001b[0m\u001b[0;34mf\"Prediction = {prediction}\"\u001b[0m\u001b[0;34m)\u001b[0m\u001b[0;34m\u001b[0m\u001b[0;34m\u001b[0m\u001b[0m\n\u001b[1;32m    544\u001b[0m         \u001b[0msys\u001b[0m\u001b[0;34m.\u001b[0m\u001b[0mstdout\u001b[0m\u001b[0;34m.\u001b[0m\u001b[0mflush\u001b[0m\u001b[0;34m(\u001b[0m\u001b[0;34m)\u001b[0m\u001b[0;34m\u001b[0m\u001b[0;34m\u001b[0m\u001b[0m\n",
      "\u001b[0;32m~/GitHub/go-trader/app/mlcode/predict_price_movements.py\u001b[0m in \u001b[0;36m_make_stacking_prediction_and_save\u001b[0;34m(self)\u001b[0m\n\u001b[1;32m    493\u001b[0m             \u001b[0mstacked_x_data_train\u001b[0m \u001b[0;34m=\u001b[0m \u001b[0mstacked_x_data_train\u001b[0m\u001b[0;34m.\u001b[0m\u001b[0mto_numpy\u001b[0m\u001b[0;34m(\u001b[0m\u001b[0;34m)\u001b[0m\u001b[0;34m\u001b[0m\u001b[0;34m\u001b[0m\u001b[0m\n\u001b[1;32m    494\u001b[0m \u001b[0;34m\u001b[0m\u001b[0m\n\u001b[0;32m--> 495\u001b[0;31m             \u001b[0mestimator\u001b[0m\u001b[0;34m.\u001b[0m\u001b[0mfit\u001b[0m\u001b[0;34m(\u001b[0m\u001b[0mstacked_x_data_train\u001b[0m\u001b[0;34m,\u001b[0m \u001b[0mstacked_y_data_train\u001b[0m\u001b[0;34m)\u001b[0m\u001b[0;34m\u001b[0m\u001b[0;34m\u001b[0m\u001b[0m\n\u001b[0m\u001b[1;32m    496\u001b[0m             \u001b[0;31m# if we have multiple rows for todays_date, run this multiple times, take the first\u001b[0m\u001b[0;34m\u001b[0m\u001b[0;34m\u001b[0m\u001b[0;34m\u001b[0m\u001b[0m\n\u001b[1;32m    497\u001b[0m             \u001b[0;32mif\u001b[0m \u001b[0mlen\u001b[0m\u001b[0;34m(\u001b[0m\u001b[0mtesting_df\u001b[0m\u001b[0;34m)\u001b[0m \u001b[0;34m>\u001b[0m \u001b[0;36m1\u001b[0m\u001b[0;34m:\u001b[0m\u001b[0;34m\u001b[0m\u001b[0;34m\u001b[0m\u001b[0m\n",
      "\u001b[0;32m~/Library/Caches/pypoetry/virtualenvs/go-trader-aTWd7ZB6-py3.8/lib/python3.8/site-packages/sklearn/ensemble/_forest.py\u001b[0m in \u001b[0;36mfit\u001b[0;34m(self, X, y, sample_weight)\u001b[0m\n\u001b[1;32m    325\u001b[0m         \u001b[0;32mif\u001b[0m \u001b[0missparse\u001b[0m\u001b[0;34m(\u001b[0m\u001b[0my\u001b[0m\u001b[0;34m)\u001b[0m\u001b[0;34m:\u001b[0m\u001b[0;34m\u001b[0m\u001b[0;34m\u001b[0m\u001b[0m\n\u001b[1;32m    326\u001b[0m             \u001b[0;32mraise\u001b[0m \u001b[0mValueError\u001b[0m\u001b[0;34m(\u001b[0m\u001b[0;34m\"sparse multilabel-indicator for y is not supported.\"\u001b[0m\u001b[0;34m)\u001b[0m\u001b[0;34m\u001b[0m\u001b[0;34m\u001b[0m\u001b[0m\n\u001b[0;32m--> 327\u001b[0;31m         X, y = self._validate_data(\n\u001b[0m\u001b[1;32m    328\u001b[0m             \u001b[0mX\u001b[0m\u001b[0;34m,\u001b[0m \u001b[0my\u001b[0m\u001b[0;34m,\u001b[0m \u001b[0mmulti_output\u001b[0m\u001b[0;34m=\u001b[0m\u001b[0;32mTrue\u001b[0m\u001b[0;34m,\u001b[0m \u001b[0maccept_sparse\u001b[0m\u001b[0;34m=\u001b[0m\u001b[0;34m\"csc\"\u001b[0m\u001b[0;34m,\u001b[0m \u001b[0mdtype\u001b[0m\u001b[0;34m=\u001b[0m\u001b[0mDTYPE\u001b[0m\u001b[0;34m\u001b[0m\u001b[0;34m\u001b[0m\u001b[0m\n\u001b[1;32m    329\u001b[0m         )\n",
      "\u001b[0;32m~/Library/Caches/pypoetry/virtualenvs/go-trader-aTWd7ZB6-py3.8/lib/python3.8/site-packages/sklearn/base.py\u001b[0m in \u001b[0;36m_validate_data\u001b[0;34m(self, X, y, reset, validate_separately, **check_params)\u001b[0m\n\u001b[1;32m    579\u001b[0m                 \u001b[0my\u001b[0m \u001b[0;34m=\u001b[0m \u001b[0mcheck_array\u001b[0m\u001b[0;34m(\u001b[0m\u001b[0my\u001b[0m\u001b[0;34m,\u001b[0m \u001b[0;34m**\u001b[0m\u001b[0mcheck_y_params\u001b[0m\u001b[0;34m)\u001b[0m\u001b[0;34m\u001b[0m\u001b[0;34m\u001b[0m\u001b[0m\n\u001b[1;32m    580\u001b[0m             \u001b[0;32melse\u001b[0m\u001b[0;34m:\u001b[0m\u001b[0;34m\u001b[0m\u001b[0;34m\u001b[0m\u001b[0m\n\u001b[0;32m--> 581\u001b[0;31m                 \u001b[0mX\u001b[0m\u001b[0;34m,\u001b[0m \u001b[0my\u001b[0m \u001b[0;34m=\u001b[0m \u001b[0mcheck_X_y\u001b[0m\u001b[0;34m(\u001b[0m\u001b[0mX\u001b[0m\u001b[0;34m,\u001b[0m \u001b[0my\u001b[0m\u001b[0;34m,\u001b[0m \u001b[0;34m**\u001b[0m\u001b[0mcheck_params\u001b[0m\u001b[0;34m)\u001b[0m\u001b[0;34m\u001b[0m\u001b[0;34m\u001b[0m\u001b[0m\n\u001b[0m\u001b[1;32m    582\u001b[0m             \u001b[0mout\u001b[0m \u001b[0;34m=\u001b[0m \u001b[0mX\u001b[0m\u001b[0;34m,\u001b[0m \u001b[0my\u001b[0m\u001b[0;34m\u001b[0m\u001b[0;34m\u001b[0m\u001b[0m\n\u001b[1;32m    583\u001b[0m \u001b[0;34m\u001b[0m\u001b[0m\n",
      "\u001b[0;32m~/Library/Caches/pypoetry/virtualenvs/go-trader-aTWd7ZB6-py3.8/lib/python3.8/site-packages/sklearn/utils/validation.py\u001b[0m in \u001b[0;36mcheck_X_y\u001b[0;34m(X, y, accept_sparse, accept_large_sparse, dtype, order, copy, force_all_finite, ensure_2d, allow_nd, multi_output, ensure_min_samples, ensure_min_features, y_numeric, estimator)\u001b[0m\n\u001b[1;32m    962\u001b[0m         \u001b[0;32mraise\u001b[0m \u001b[0mValueError\u001b[0m\u001b[0;34m(\u001b[0m\u001b[0;34m\"y cannot be None\"\u001b[0m\u001b[0;34m)\u001b[0m\u001b[0;34m\u001b[0m\u001b[0;34m\u001b[0m\u001b[0m\n\u001b[1;32m    963\u001b[0m \u001b[0;34m\u001b[0m\u001b[0m\n\u001b[0;32m--> 964\u001b[0;31m     X = check_array(\n\u001b[0m\u001b[1;32m    965\u001b[0m         \u001b[0mX\u001b[0m\u001b[0;34m,\u001b[0m\u001b[0;34m\u001b[0m\u001b[0;34m\u001b[0m\u001b[0m\n\u001b[1;32m    966\u001b[0m         \u001b[0maccept_sparse\u001b[0m\u001b[0;34m=\u001b[0m\u001b[0maccept_sparse\u001b[0m\u001b[0;34m,\u001b[0m\u001b[0;34m\u001b[0m\u001b[0;34m\u001b[0m\u001b[0m\n",
      "\u001b[0;32m~/Library/Caches/pypoetry/virtualenvs/go-trader-aTWd7ZB6-py3.8/lib/python3.8/site-packages/sklearn/utils/validation.py\u001b[0m in \u001b[0;36mcheck_array\u001b[0;34m(array, accept_sparse, accept_large_sparse, dtype, order, copy, force_all_finite, ensure_2d, allow_nd, ensure_min_samples, ensure_min_features, estimator)\u001b[0m\n\u001b[1;32m    803\u001b[0m         \u001b[0mn_samples\u001b[0m \u001b[0;34m=\u001b[0m \u001b[0m_num_samples\u001b[0m\u001b[0;34m(\u001b[0m\u001b[0marray\u001b[0m\u001b[0;34m)\u001b[0m\u001b[0;34m\u001b[0m\u001b[0;34m\u001b[0m\u001b[0m\n\u001b[1;32m    804\u001b[0m         \u001b[0;32mif\u001b[0m \u001b[0mn_samples\u001b[0m \u001b[0;34m<\u001b[0m \u001b[0mensure_min_samples\u001b[0m\u001b[0;34m:\u001b[0m\u001b[0;34m\u001b[0m\u001b[0;34m\u001b[0m\u001b[0m\n\u001b[0;32m--> 805\u001b[0;31m             raise ValueError(\n\u001b[0m\u001b[1;32m    806\u001b[0m                 \u001b[0;34m\"Found array with %d sample(s) (shape=%s) while a\"\u001b[0m\u001b[0;34m\u001b[0m\u001b[0;34m\u001b[0m\u001b[0m\n\u001b[1;32m    807\u001b[0m                 \u001b[0;34m\" minimum of %d is required%s.\"\u001b[0m\u001b[0;34m\u001b[0m\u001b[0;34m\u001b[0m\u001b[0m\n",
      "\u001b[0;31mValueError\u001b[0m: Found array with 0 sample(s) (shape=(0, 18)) while a minimum of 1 is required."
     ]
    }
   ],
   "source": [
    "COIN_TO_PREDICT = \"link\"\n",
    "\n",
    "for day_idx, day in enumerate(choosen_df.index):\n",
    "\n",
    "    if (day_idx) > max_lookback * 2:\n",
    "        print(f\" Pct complete = {day_idx/len(bitcoin_df):.2f}\")\n",
    "        new_choosen_df = choosen_df[choosen_df.index <= day]\n",
    "        new_correl_df1 = correl_df_1[correl_df_1.index <= day]\n",
    "        new_correl_df2 = correl_df_2[correl_df_2.index <= day]\n",
    "        # read in the new config files in case the yhave been updated\n",
    "        (\n",
    "            coin,\n",
    "            constants,\n",
    "            trading_constants,\n",
    "            won_and_lost_amount_constants,\n",
    "            actions_to_take_constants,\n",
    "            ml_constants,\n",
    "            all_predictions_filename,\n",
    "            trading_state_filename,\n",
    "            actions_to_take_filename,\n",
    "            won_lost_amount_filename,\n",
    "        ) = read_in_config_files(coin=COIN_TO_PREDICT)\n",
    "\n",
    "        predictor = CoinPricePredictor(\n",
    "            coin,\n",
    "            constants,\n",
    "            ml_constants,\n",
    "            new_choosen_df,\n",
    "            all_predictions_filename=all_predictions_filename,\n",
    "            additional_dfs=[new_correl_df1, new_correl_df2],\n",
    "            verbose=False,  # spy_df\n",
    "        )\n",
    "\n",
    "        price_prediction = predictor.predict()\n",
    "\n",
    "        trading_state_class = DetermineTradingState(\n",
    "            coin,\n",
    "            price_prediction,\n",
    "            constants,\n",
    "            trading_constants,\n",
    "            predictor.df,\n",
    "            won_and_lost_amount_constants,\n",
    "            actions_to_take_constants,\n",
    "            running_on_aws(),\n",
    "            # is_training=True\n",
    "        )\n",
    "        # TODO: read in yaml files again\n",
    "        sys.stdout.flush()\n",
    "        trading_state_class.calculate_positions()\n",
    "        print(\"---- Finished determinig trading strategy --- \")\n",
    "        trading_state_class.update_state()\n",
    "        # this works\n",
    "        if trading_state_class.actions_to_take_constants[\"action_to_take\"] != \"none_to_none\":\n",
    "            print(trading_state_class.trading_state_constants, \"trading_state_class.trading_state_constants\")\n",
    "            print(trading_state_class.actions_to_take_constants, \"trading_state_class.actions_to_take_constants\")\n",
    "            print(trading_state_class.won_and_lose_amount_dict, \"trading_state_class.won_and_lose_amount_dict\")\n",
    "\n",
    "        update_yaml_config(trading_state_filename, trading_state_class.trading_state_constants, running_on_aws())\n",
    "        update_yaml_config(won_lost_amount_filename, trading_state_class.won_and_lose_amount_dict, running_on_aws())\n",
    "        update_yaml_config(actions_to_take_filename, trading_state_class.actions_to_take_constants, running_on_aws())"
   ]
  },
  {
   "cell_type": "code",
   "execution_count": null,
   "id": "bf3aac3c-1304-4c69-bcfd-eaecfa43af4d",
   "metadata": {},
   "outputs": [],
   "source": [
    "new_eth_df"
   ]
  },
  {
   "cell_type": "code",
   "execution_count": 42,
   "id": "d55a62b4-4542-4155-8f16-e3946e14e5e8",
   "metadata": {},
   "outputs": [
    {
     "data": {
      "text/html": [
       "<div>\n",
       "<style scoped>\n",
       "    .dataframe tbody tr th:only-of-type {\n",
       "        vertical-align: middle;\n",
       "    }\n",
       "\n",
       "    .dataframe tbody tr th {\n",
       "        vertical-align: top;\n",
       "    }\n",
       "\n",
       "    .dataframe thead th {\n",
       "        text-align: right;\n",
       "    }\n",
       "</style>\n",
       "<table border=\"1\" class=\"dataframe\">\n",
       "  <thead>\n",
       "    <tr style=\"text-align: right;\">\n",
       "      <th></th>\n",
       "      <th>open</th>\n",
       "      <th>high</th>\n",
       "      <th>low</th>\n",
       "      <th>close</th>\n",
       "      <th>volume</th>\n",
       "    </tr>\n",
       "    <tr>\n",
       "      <th>date</th>\n",
       "      <th></th>\n",
       "      <th></th>\n",
       "      <th></th>\n",
       "      <th></th>\n",
       "      <th></th>\n",
       "    </tr>\n",
       "  </thead>\n",
       "  <tbody>\n",
       "    <tr>\n",
       "      <th>2017-01-01</th>\n",
       "      <td>963.66</td>\n",
       "      <td>1003.08</td>\n",
       "      <td>958.70</td>\n",
       "      <td>998.33</td>\n",
       "      <td>147775008.0</td>\n",
       "    </tr>\n",
       "    <tr>\n",
       "      <th>2017-01-02</th>\n",
       "      <td>998.62</td>\n",
       "      <td>1031.39</td>\n",
       "      <td>996.70</td>\n",
       "      <td>1021.75</td>\n",
       "      <td>222184992.0</td>\n",
       "    </tr>\n",
       "    <tr>\n",
       "      <th>2017-01-03</th>\n",
       "      <td>1021.60</td>\n",
       "      <td>1044.08</td>\n",
       "      <td>1021.60</td>\n",
       "      <td>1043.84</td>\n",
       "      <td>185168000.0</td>\n",
       "    </tr>\n",
       "    <tr>\n",
       "      <th>2017-01-04</th>\n",
       "      <td>1044.40</td>\n",
       "      <td>1159.42</td>\n",
       "      <td>1044.40</td>\n",
       "      <td>1154.73</td>\n",
       "      <td>344945984.0</td>\n",
       "    </tr>\n",
       "    <tr>\n",
       "      <th>2017-01-05</th>\n",
       "      <td>1156.73</td>\n",
       "      <td>1191.10</td>\n",
       "      <td>910.42</td>\n",
       "      <td>1013.38</td>\n",
       "      <td>510199008.0</td>\n",
       "    </tr>\n",
       "    <tr>\n",
       "      <th>...</th>\n",
       "      <td>...</td>\n",
       "      <td>...</td>\n",
       "      <td>...</td>\n",
       "      <td>...</td>\n",
       "      <td>...</td>\n",
       "    </tr>\n",
       "    <tr>\n",
       "      <th>2017-03-29</th>\n",
       "      <td>1046.08</td>\n",
       "      <td>1055.13</td>\n",
       "      <td>1015.88</td>\n",
       "      <td>1039.97</td>\n",
       "      <td>298457984.0</td>\n",
       "    </tr>\n",
       "    <tr>\n",
       "      <th>2017-03-30</th>\n",
       "      <td>1042.21</td>\n",
       "      <td>1049.29</td>\n",
       "      <td>1020.04</td>\n",
       "      <td>1026.43</td>\n",
       "      <td>352968992.0</td>\n",
       "    </tr>\n",
       "    <tr>\n",
       "      <th>2017-03-31</th>\n",
       "      <td>1026.64</td>\n",
       "      <td>1074.92</td>\n",
       "      <td>1026.64</td>\n",
       "      <td>1071.79</td>\n",
       "      <td>447287008.0</td>\n",
       "    </tr>\n",
       "    <tr>\n",
       "      <th>2017-04-01</th>\n",
       "      <td>1071.71</td>\n",
       "      <td>1091.72</td>\n",
       "      <td>1061.09</td>\n",
       "      <td>1080.50</td>\n",
       "      <td>289633984.0</td>\n",
       "    </tr>\n",
       "    <tr>\n",
       "      <th>2017-04-02</th>\n",
       "      <td>1080.61</td>\n",
       "      <td>1107.59</td>\n",
       "      <td>1075.45</td>\n",
       "      <td>1102.17</td>\n",
       "      <td>514187008.0</td>\n",
       "    </tr>\n",
       "  </tbody>\n",
       "</table>\n",
       "<p>92 rows × 5 columns</p>\n",
       "</div>"
      ],
      "text/plain": [
       "               open     high      low    close       volume\n",
       "date                                                       \n",
       "2017-01-01   963.66  1003.08   958.70   998.33  147775008.0\n",
       "2017-01-02   998.62  1031.39   996.70  1021.75  222184992.0\n",
       "2017-01-03  1021.60  1044.08  1021.60  1043.84  185168000.0\n",
       "2017-01-04  1044.40  1159.42  1044.40  1154.73  344945984.0\n",
       "2017-01-05  1156.73  1191.10   910.42  1013.38  510199008.0\n",
       "...             ...      ...      ...      ...          ...\n",
       "2017-03-29  1046.08  1055.13  1015.88  1039.97  298457984.0\n",
       "2017-03-30  1042.21  1049.29  1020.04  1026.43  352968992.0\n",
       "2017-03-31  1026.64  1074.92  1026.64  1071.79  447287008.0\n",
       "2017-04-01  1071.71  1091.72  1061.09  1080.50  289633984.0\n",
       "2017-04-02  1080.61  1107.59  1075.45  1102.17  514187008.0\n",
       "\n",
       "[92 rows x 5 columns]"
      ]
     },
     "execution_count": 42,
     "metadata": {},
     "output_type": "execute_result"
    }
   ],
   "source": [
    "new_bitcoin_df"
   ]
  },
  {
   "cell_type": "code",
   "execution_count": 44,
   "id": "7482ec00-e3cd-449e-b73a-6c9ab8b90432",
   "metadata": {},
   "outputs": [],
   "source": []
  },
  {
   "cell_type": "code",
   "execution_count": 41,
   "id": "5ff5d8d5-1135-45ea-a5c5-56ca0a8dbbfd",
   "metadata": {},
   "outputs": [
    {
     "ename": "NameError",
     "evalue": "name 'df' is not defined",
     "output_type": "error",
     "traceback": [
      "\u001b[0;31m---------------------------------------------------------------------------\u001b[0m",
      "\u001b[0;31mNameError\u001b[0m                                 Traceback (most recent call last)",
      "\u001b[0;32m/var/folders/0r/jkhwtgvx0wb9vrk6xn4bmz2m0000gn/T/ipykernel_14915/1396537375.py\u001b[0m in \u001b[0;36m<cell line: 1>\u001b[0;34m()\u001b[0m\n\u001b[0;32m----> 1\u001b[0;31m \u001b[0mdf\u001b[0m\u001b[0;34m\u001b[0m\u001b[0;34m\u001b[0m\u001b[0m\n\u001b[0m",
      "\u001b[0;31mNameError\u001b[0m: name 'df' is not defined"
     ]
    }
   ],
   "source": [
    "df"
   ]
  },
  {
   "cell_type": "code",
   "execution_count": 46,
   "id": "bb190503-1b58-4434-932b-a89b4769df14",
   "metadata": {},
   "outputs": [
    {
     "name": "stderr",
     "output_type": "stream",
     "text": [
      "2022-04-01 15:35:49,645: : __init__  Setting the class var self.buy_entry_price = 45520.0\n",
      "2022-04-01 15:35:49,649: : __init__  Setting the class var self.buy_has_crossed_mean = 0.0\n",
      "2022-04-01 15:35:49,650: : __init__  Setting the class var self.mode = buy\n",
      "2022-04-01 15:35:49,651: : __init__  Setting the class var self.position_entry_date = 2022-03-31\n",
      "2022-04-01 15:35:49,653: : __init__  Setting the class var self.short_entry_price = 0.0\n",
      "2022-04-01 15:35:49,655: : __init__  Setting the class var self.short_has_crossed_mean = 0.0\n",
      "2022-04-01 15:35:49,656: : __init__  Setting the class var self.stop_loss_pct = 0.1\n",
      "2022-04-01 15:35:49,660: : __init__  Setting the class var self.stop_loss_price = 40968.0\n",
      "2022-04-01 15:35:49,663: : __init__  Setting the class var self.dollar_amount_buy_lost = 0.0\n",
      "2022-04-01 15:35:49,665: : __init__  Setting the class var self.dollar_amount_buy_won = 2813.0\n",
      "2022-04-01 15:35:49,672: : __init__  Setting the class var self.dollar_amount_short_lost = 0.0\n",
      "2022-04-01 15:35:49,674: : __init__  Setting the class var self.dollar_amount_short_won = 0.0\n",
      "2022-04-01 15:35:49,676: : __init__  Setting the class var self.n_buy_lost = 0.0\n",
      "2022-04-01 15:35:49,677: : __init__  Setting the class var self.n_buy_won = 1.0\n",
      "2022-04-01 15:35:49,677: : __init__  Setting the class var self.n_short_lost = 0.0\n",
      "2022-04-01 15:35:49,680: : __init__  Setting the class var self.n_short_won = 0.0\n",
      "2022-04-01 15:35:49,686: : __init__  Setting the class var self.n_total_days_in_trades = 6.0\n",
      "2022-04-01 15:35:49,687: : __init__  Setting the class var self.action_to_take = none_to_buy\n"
     ]
    }
   ],
   "source": []
  },
  {
   "cell_type": "markdown",
   "id": "45485d8f-6ba5-4b5d-96ba-b1ed3f5432be",
   "metadata": {},
   "source": [
    "### Update configs"
   ]
  },
  {
   "cell_type": "code",
   "execution_count": null,
   "id": "7f9e0917-6073-432a-8120-fcad7323189a",
   "metadata": {},
   "outputs": [],
   "source": []
  },
  {
   "cell_type": "code",
   "execution_count": 23,
   "id": "f5169d8e-1b33-4fde-9043-d6315fedd152",
   "metadata": {},
   "outputs": [
    {
     "name": "stderr",
     "output_type": "stream",
     "text": [
      "2022-04-01 09:51:07,611: : calculate_positions  current row =                open     high      low    close        volume  Rolling Mean  \\\n",
      "date                                                                         \n",
      "2022-03-31  47085.0  47680.0  45133.0  45520.0  7.928625e+07       46812.6   \n",
      "\n",
      "            Bollinger High  Bollinger Low    stc      stoch        rsi  \\\n",
      "date                                                                     \n",
      "2022-03-31    47756.439234   45868.760766  100.0  66.480447  51.345275   \n",
      "\n",
      "                   macd  macd_signal  \n",
      "date                                  \n",
      "2022-03-31  1700.536619  1255.298319  \n",
      "2022-04-01 09:51:07,622: : calculate_positions  prev_row =                open     high      low    close        volume  Rolling Mean  \\\n",
      "date                                                                         \n",
      "2022-03-30  47455.0  47716.0  46329.0  47085.0  5.690887e+07       46614.8   \n",
      "\n",
      "            Bollinger High  Bollinger Low    stc      stoch        rsi  \\\n",
      "date                                                                     \n",
      "2022-03-30    48096.431122   45133.168878  100.0  85.909373  81.438433   \n",
      "\n",
      "                   macd  macd_signal  \n",
      "date                                  \n",
      "2022-03-30  1769.552263  1143.988744  \n",
      "2022-04-01 09:51:07,625: : calculate_positions  Yesterday = 2022-03-31 00:00:00\n",
      "2022-04-01 09:51:07,626: : calculate_positions  two_days_ago = 2022-03-30 00:00:00\n",
      "2022-04-01 09:51:07,628: : calculate_positions  self.stop_loss_price = 0.0\n",
      "2022-04-01 09:51:07,630: : _check_if_we_should_buy  Checking if we should buy\n",
      "2022-04-01 09:51:07,633: : _write_and_print_log_statements  ------------\n",
      "2022-04-01 09:51:07,635: : _write_and_print_log_statements  Logging for coin = btc\n",
      "2022-04-01 09:51:07,637: : _write_and_print_log_statements  ml pred higher than mean taking position\n",
      "2022-04-01 09:51:07,642: : _write_and_print_log_statements  current date = DatetimeIndex(['2022-03-31'], dtype='datetime64[ns]', name='date', freq=None)\n",
      "2022-04-01 09:51:07,649: : _write_and_print_log_statements  close = 45520.0\n",
      "2022-04-01 09:51:07,654: : _write_and_print_log_statements  rolling_mean_col= 46812.6\n",
      "2022-04-01 09:51:07,656: : _write_and_print_log_statements  bollinger high = 47756.43923419002\n",
      "2022-04-01 09:51:07,658: : _write_and_print_log_statements  bollinger low = 45868.76076580998\n",
      "2022-04-01 09:51:07,664: : _write_and_print_log_statements  Self.action_to_take = none_to_buy\n",
      "2022-04-01 09:51:07,666: : _write_and_print_log_statements  self.buy_entry_price = 45520.0\n",
      "2022-04-01 09:51:07,670: : _write_and_print_log_statements  ml price_prediction  = 100000000\n",
      "2022-04-01 09:51:07,672: : _write_and_print_log_statements  Writing logs to file logs.txt\n",
      "2022-04-01 09:51:07,675: : _write_and_print_log_statements  ------------\n",
      "2022-04-01 09:51:07,677: : <cell line: 3>  ---- Finished determinig trading strategy --- \n",
      "2022-04-01 09:51:07,681: : update_yaml_config  Updating configs/btc_trading_state_config.yml with {'buy_entry_price': 45520.0, 'buy_has_crossed_mean': 0.0, 'mode': 'buy', 'position_entry_date': '2022-03-31', 'short_entry_price': 0.0, 'short_has_crossed_mean': 0.0, 'stop_loss_pct': 0.1, 'stop_loss_price': 40968.0}\n",
      "2022-04-01 09:51:07,686: : <cell line: 8>  ---- Updated trading state config --- \n",
      "2022-04-01 09:51:07,688: : update_yaml_config  Updating configs/btc_won_and_lost_config.yml with {'dollar_amount_buy_lost': 0.0, 'dollar_amount_buy_won': 2813.0, 'dollar_amount_short_lost': 0.0, 'dollar_amount_short_won': 0.0, 'n_buy_lost': 0.0, 'n_buy_won': 1.0, 'n_short_lost': 0.0, 'n_short_won': 0.0, 'n_total_days_in_trades': 6.0}\n",
      "2022-04-01 09:51:07,693: : <cell line: 10>  ---- Updated win/lost state config --- \n",
      "2022-04-01 09:51:07,697: : update_yaml_config  Updating configs/btc_actions_to_take.yml with {'action_to_take': 'none_to_buy'}\n",
      "2022-04-01 09:51:07,700: : <cell line: 12>  ---- Updated actions to take state config --- \n"
     ]
    }
   ],
   "source": []
  },
  {
   "cell_type": "code",
   "execution_count": null,
   "id": "15486f8a-ab74-4725-8f13-a8e5b5ed3823",
   "metadata": {},
   "outputs": [],
   "source": []
  }
 ],
 "metadata": {
  "kernelspec": {
   "display_name": "go-trader",
   "language": "python",
   "name": "go-trader"
  },
  "language_info": {
   "codemirror_mode": {
    "name": "ipython",
    "version": 3
   },
   "file_extension": ".py",
   "mimetype": "text/x-python",
   "name": "python",
   "nbconvert_exporter": "python",
   "pygments_lexer": "ipython3",
   "version": "3.8.2"
  }
 },
 "nbformat": 4,
 "nbformat_minor": 5
}
