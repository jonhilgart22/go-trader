{
 "cells": [
  {
   "cell_type": "code",
   "execution_count": 446,
   "metadata": {},
   "outputs": [
    {
     "name": "stdout",
     "output_type": "stream",
     "text": [
      "Populating the interactive namespace from numpy and matplotlib\n"
     ]
    }
   ],
   "source": [
    "import time\n",
    "from datetime import datetime\n",
    "from tqdm.keras import TqdmCallback\n",
    "import numpy as np\n",
    "import pandas as pd\n",
    "import matplotlib.pyplot as plt\n",
    "\n",
    "\n",
    "from sklearn.preprocessing import MinMaxScaler\n",
    "from tensorflow.keras.models import Sequential, load_model\n",
    "from tensorflow.keras.layers import LSTM, Dense, Dropout\n",
    "\n",
    "import torch\n",
    "import torch.nn as nn\n",
    "import torch.optim as optim\n",
    "import numpy as np\n",
    "import pandas as pd\n",
    "import shutil\n",
    "from sklearn.preprocessing import MinMaxScaler\n",
    "from tqdm import tqdm_notebook as tqdm\n",
    "\n",
    "import matplotlib.pyplot as plt\n",
    "\n",
    "from darts import TimeSeries\n",
    "from darts.dataprocessing.transformers import Scaler\n",
    "from darts.models import RNNModel, TCNModel, TransformerModel, NBEATSModel, BlockRNNModel\n",
    "from darts.utils.missing_values import fill_missing_values\n",
    "\n",
    "from darts.metrics import mape, mse\n",
    "from darts.utils.statistics import check_seasonality, plot_acf\n",
    "from darts.datasets import AirPassengersDataset, SunspotsDataset\n",
    "from darts.utils.timeseries_generation import datetime_attribute_timeseries\n",
    "\n",
    "from math import sqrt\n",
    "\n",
    "import warnings\n",
    "warnings.filterwarnings(\"ignore\")\n",
    "import logging\n",
    "logging.disable(logging.CRITICAL)\n",
    "\n",
    "%pylab inline"
   ]
  },
  {
   "cell_type": "markdown",
   "metadata": {},
   "source": [
    "# Read in data"
   ]
  },
  {
   "cell_type": "markdown",
   "metadata": {},
   "source": [
    "#\n",
    "- https://blog.rmotr.com/bitcoin-trading-with-python-bollinger-bands-strategy-analysis-b1a223385a89"
   ]
  },
  {
   "cell_type": "code",
   "execution_count": null,
   "metadata": {},
   "outputs": [],
   "source": []
  },
  {
   "cell_type": "code",
   "execution_count": 2,
   "metadata": {},
   "outputs": [],
   "source": [
    "data = pd.read_csv(\"../data/localbtcUSD.csv\", names=[\"datetime\", \"price\", \"volume\"],\n",
    "    index_col=0,\n",
    "    parse_dates=True)"
   ]
  },
  {
   "cell_type": "code",
   "execution_count": 3,
   "metadata": {},
   "outputs": [
    {
     "name": "stdout",
     "output_type": "stream",
     "text": [
      "<class 'pandas.core.frame.DataFrame'>\n",
      "Int64Index: 3977580 entries, 1363046255 to 1546938874\n",
      "Data columns (total 2 columns):\n",
      " #   Column  Dtype  \n",
      "---  ------  -----  \n",
      " 0   price   float64\n",
      " 1   volume  float64\n",
      "dtypes: float64(2)\n",
      "memory usage: 91.0 MB\n"
     ]
    }
   ],
   "source": [
    "data.info()\n"
   ]
  },
  {
   "cell_type": "code",
   "execution_count": 4,
   "metadata": {},
   "outputs": [],
   "source": [
    "data.index = pd.to_datetime(data.index, unit='s')"
   ]
  },
  {
   "cell_type": "code",
   "execution_count": 5,
   "metadata": {},
   "outputs": [
    {
     "data": {
      "text/html": [
       "<div>\n",
       "<style scoped>\n",
       "    .dataframe tbody tr th:only-of-type {\n",
       "        vertical-align: middle;\n",
       "    }\n",
       "\n",
       "    .dataframe tbody tr th {\n",
       "        vertical-align: top;\n",
       "    }\n",
       "\n",
       "    .dataframe thead th {\n",
       "        text-align: right;\n",
       "    }\n",
       "</style>\n",
       "<table border=\"1\" class=\"dataframe\">\n",
       "  <thead>\n",
       "    <tr style=\"text-align: right;\">\n",
       "      <th></th>\n",
       "      <th>price</th>\n",
       "      <th>volume</th>\n",
       "    </tr>\n",
       "    <tr>\n",
       "      <th>datetime</th>\n",
       "      <th></th>\n",
       "      <th></th>\n",
       "    </tr>\n",
       "  </thead>\n",
       "  <tbody>\n",
       "    <tr>\n",
       "      <th>2013-03-11 23:57:35</th>\n",
       "      <td>72.00</td>\n",
       "      <td>4.9999</td>\n",
       "    </tr>\n",
       "    <tr>\n",
       "      <th>2013-03-12 19:36:32</th>\n",
       "      <td>67.79</td>\n",
       "      <td>1.9999</td>\n",
       "    </tr>\n",
       "    <tr>\n",
       "      <th>2013-03-13 12:27:52</th>\n",
       "      <td>52.21</td>\n",
       "      <td>14.7684</td>\n",
       "    </tr>\n",
       "    <tr>\n",
       "      <th>2013-03-13 17:06:01</th>\n",
       "      <td>56.29</td>\n",
       "      <td>0.6401</td>\n",
       "    </tr>\n",
       "    <tr>\n",
       "      <th>2013-03-13 18:01:20</th>\n",
       "      <td>40.00</td>\n",
       "      <td>1.7500</td>\n",
       "    </tr>\n",
       "  </tbody>\n",
       "</table>\n",
       "</div>"
      ],
      "text/plain": [
       "                     price   volume\n",
       "datetime                           \n",
       "2013-03-11 23:57:35  72.00   4.9999\n",
       "2013-03-12 19:36:32  67.79   1.9999\n",
       "2013-03-13 12:27:52  52.21  14.7684\n",
       "2013-03-13 17:06:01  56.29   0.6401\n",
       "2013-03-13 18:01:20  40.00   1.7500"
      ]
     },
     "execution_count": 5,
     "metadata": {},
     "output_type": "execute_result"
    }
   ],
   "source": [
    "data.head()"
   ]
  },
  {
   "cell_type": "code",
   "execution_count": 6,
   "metadata": {},
   "outputs": [
    {
     "data": {
      "text/html": [
       "<div>\n",
       "<style scoped>\n",
       "    .dataframe tbody tr th:only-of-type {\n",
       "        vertical-align: middle;\n",
       "    }\n",
       "\n",
       "    .dataframe tbody tr th {\n",
       "        vertical-align: top;\n",
       "    }\n",
       "\n",
       "    .dataframe thead th {\n",
       "        text-align: right;\n",
       "    }\n",
       "</style>\n",
       "<table border=\"1\" class=\"dataframe\">\n",
       "  <thead>\n",
       "    <tr style=\"text-align: right;\">\n",
       "      <th></th>\n",
       "      <th>price</th>\n",
       "      <th>volume</th>\n",
       "    </tr>\n",
       "    <tr>\n",
       "      <th>datetime</th>\n",
       "      <th></th>\n",
       "      <th></th>\n",
       "    </tr>\n",
       "  </thead>\n",
       "  <tbody>\n",
       "    <tr>\n",
       "      <th>2019-01-08 09:11:30</th>\n",
       "      <td>4057.75</td>\n",
       "      <td>0.024644</td>\n",
       "    </tr>\n",
       "    <tr>\n",
       "      <th>2019-01-08 09:12:14</th>\n",
       "      <td>6002.25</td>\n",
       "      <td>0.031655</td>\n",
       "    </tr>\n",
       "    <tr>\n",
       "      <th>2019-01-08 09:13:12</th>\n",
       "      <td>4293.61</td>\n",
       "      <td>0.132988</td>\n",
       "    </tr>\n",
       "    <tr>\n",
       "      <th>2019-01-08 09:13:44</th>\n",
       "      <td>4517.69</td>\n",
       "      <td>0.006641</td>\n",
       "    </tr>\n",
       "    <tr>\n",
       "      <th>2019-01-08 09:14:34</th>\n",
       "      <td>4170.85</td>\n",
       "      <td>0.235444</td>\n",
       "    </tr>\n",
       "  </tbody>\n",
       "</table>\n",
       "</div>"
      ],
      "text/plain": [
       "                       price    volume\n",
       "datetime                              \n",
       "2019-01-08 09:11:30  4057.75  0.024644\n",
       "2019-01-08 09:12:14  6002.25  0.031655\n",
       "2019-01-08 09:13:12  4293.61  0.132988\n",
       "2019-01-08 09:13:44  4517.69  0.006641\n",
       "2019-01-08 09:14:34  4170.85  0.235444"
      ]
     },
     "execution_count": 6,
     "metadata": {},
     "output_type": "execute_result"
    }
   ],
   "source": [
    "data.tail()"
   ]
  },
  {
   "cell_type": "code",
   "execution_count": 7,
   "metadata": {},
   "outputs": [],
   "source": [
    "price_df = data.price.resample(\"D\").ohlc()"
   ]
  },
  {
   "cell_type": "markdown",
   "metadata": {},
   "source": [
    "### Candles"
   ]
  },
  {
   "cell_type": "code",
   "execution_count": 8,
   "metadata": {},
   "outputs": [
    {
     "data": {
      "text/html": [
       "<div>\n",
       "<style scoped>\n",
       "    .dataframe tbody tr th:only-of-type {\n",
       "        vertical-align: middle;\n",
       "    }\n",
       "\n",
       "    .dataframe tbody tr th {\n",
       "        vertical-align: top;\n",
       "    }\n",
       "\n",
       "    .dataframe thead th {\n",
       "        text-align: right;\n",
       "    }\n",
       "</style>\n",
       "<table border=\"1\" class=\"dataframe\">\n",
       "  <thead>\n",
       "    <tr style=\"text-align: right;\">\n",
       "      <th></th>\n",
       "      <th>open</th>\n",
       "      <th>high</th>\n",
       "      <th>low</th>\n",
       "      <th>close</th>\n",
       "    </tr>\n",
       "    <tr>\n",
       "      <th>datetime</th>\n",
       "      <th></th>\n",
       "      <th></th>\n",
       "      <th></th>\n",
       "      <th></th>\n",
       "    </tr>\n",
       "  </thead>\n",
       "  <tbody>\n",
       "    <tr>\n",
       "      <th>2013-03-11</th>\n",
       "      <td>72.00</td>\n",
       "      <td>72.00</td>\n",
       "      <td>72.00</td>\n",
       "      <td>72.00</td>\n",
       "    </tr>\n",
       "    <tr>\n",
       "      <th>2013-03-12</th>\n",
       "      <td>67.79</td>\n",
       "      <td>67.79</td>\n",
       "      <td>67.79</td>\n",
       "      <td>67.79</td>\n",
       "    </tr>\n",
       "    <tr>\n",
       "      <th>2013-03-13</th>\n",
       "      <td>52.21</td>\n",
       "      <td>56.29</td>\n",
       "      <td>40.00</td>\n",
       "      <td>40.00</td>\n",
       "    </tr>\n",
       "    <tr>\n",
       "      <th>2013-03-14</th>\n",
       "      <td>70.30</td>\n",
       "      <td>70.30</td>\n",
       "      <td>50.35</td>\n",
       "      <td>50.35</td>\n",
       "    </tr>\n",
       "    <tr>\n",
       "      <th>2013-03-15</th>\n",
       "      <td>49.52</td>\n",
       "      <td>70.96</td>\n",
       "      <td>47.75</td>\n",
       "      <td>48.41</td>\n",
       "    </tr>\n",
       "  </tbody>\n",
       "</table>\n",
       "</div>"
      ],
      "text/plain": [
       "             open   high    low  close\n",
       "datetime                              \n",
       "2013-03-11  72.00  72.00  72.00  72.00\n",
       "2013-03-12  67.79  67.79  67.79  67.79\n",
       "2013-03-13  52.21  56.29  40.00  40.00\n",
       "2013-03-14  70.30  70.30  50.35  50.35\n",
       "2013-03-15  49.52  70.96  47.75  48.41"
      ]
     },
     "execution_count": 8,
     "metadata": {},
     "output_type": "execute_result"
    }
   ],
   "source": [
    "price_df.head()"
   ]
  },
  {
   "cell_type": "markdown",
   "metadata": {},
   "source": [
    "## Calculate Bollinger Bands"
   ]
  },
  {
   "cell_type": "code",
   "execution_count": 9,
   "metadata": {},
   "outputs": [],
   "source": [
    "# set number of days and standard deviations to use for rolling \n",
    "# lookback period for Bollinger band calculation\n",
    "window = 60\n",
    "no_of_std = 1.5\n",
    "\n",
    "# calculate rolling mean and standard deviation\n",
    "rolling_mean = price_df['close'].rolling(window).mean()\n",
    "rolling_std = price_df['close'].rolling(window).std()\n",
    "\n",
    "# create two new DataFrame columns to hold values of upper and lower Bollinger bands\n",
    "price_df['Rolling Mean'] = rolling_mean\n",
    "price_df['Bollinger High'] = rolling_mean + (rolling_std * no_of_std)\n",
    "price_df['Bollinger Low'] = rolling_mean - (rolling_std * no_of_std)"
   ]
  },
  {
   "cell_type": "code",
   "execution_count": 10,
   "metadata": {},
   "outputs": [],
   "source": [
    "price_df.dropna(inplace=True)"
   ]
  },
  {
   "cell_type": "code",
   "execution_count": 11,
   "metadata": {},
   "outputs": [
    {
     "data": {
      "text/html": [
       "<div>\n",
       "<style scoped>\n",
       "    .dataframe tbody tr th:only-of-type {\n",
       "        vertical-align: middle;\n",
       "    }\n",
       "\n",
       "    .dataframe tbody tr th {\n",
       "        vertical-align: top;\n",
       "    }\n",
       "\n",
       "    .dataframe thead th {\n",
       "        text-align: right;\n",
       "    }\n",
       "</style>\n",
       "<table border=\"1\" class=\"dataframe\">\n",
       "  <thead>\n",
       "    <tr style=\"text-align: right;\">\n",
       "      <th></th>\n",
       "      <th>open</th>\n",
       "      <th>high</th>\n",
       "      <th>low</th>\n",
       "      <th>close</th>\n",
       "      <th>Rolling Mean</th>\n",
       "      <th>Bollinger High</th>\n",
       "      <th>Bollinger Low</th>\n",
       "    </tr>\n",
       "    <tr>\n",
       "      <th>datetime</th>\n",
       "      <th></th>\n",
       "      <th></th>\n",
       "      <th></th>\n",
       "      <th></th>\n",
       "      <th></th>\n",
       "      <th></th>\n",
       "      <th></th>\n",
       "    </tr>\n",
       "  </thead>\n",
       "  <tbody>\n",
       "    <tr>\n",
       "      <th>2013-05-09</th>\n",
       "      <td>167.81</td>\n",
       "      <td>171.78</td>\n",
       "      <td>114.91</td>\n",
       "      <td>134.40</td>\n",
       "      <td>117.568167</td>\n",
       "      <td>185.480878</td>\n",
       "      <td>49.655456</td>\n",
       "    </tr>\n",
       "    <tr>\n",
       "      <th>2013-05-10</th>\n",
       "      <td>89.58</td>\n",
       "      <td>137.14</td>\n",
       "      <td>89.58</td>\n",
       "      <td>122.25</td>\n",
       "      <td>118.405667</td>\n",
       "      <td>185.727137</td>\n",
       "      <td>51.084196</td>\n",
       "    </tr>\n",
       "    <tr>\n",
       "      <th>2013-05-11</th>\n",
       "      <td>177.86</td>\n",
       "      <td>179.36</td>\n",
       "      <td>125.28</td>\n",
       "      <td>132.60</td>\n",
       "      <td>119.485833</td>\n",
       "      <td>186.115353</td>\n",
       "      <td>52.856314</td>\n",
       "    </tr>\n",
       "    <tr>\n",
       "      <th>2013-05-12</th>\n",
       "      <td>175.89</td>\n",
       "      <td>175.89</td>\n",
       "      <td>108.78</td>\n",
       "      <td>137.95</td>\n",
       "      <td>121.118333</td>\n",
       "      <td>185.967818</td>\n",
       "      <td>56.268849</td>\n",
       "    </tr>\n",
       "    <tr>\n",
       "      <th>2013-05-13</th>\n",
       "      <td>119.26</td>\n",
       "      <td>178.14</td>\n",
       "      <td>57.25</td>\n",
       "      <td>139.44</td>\n",
       "      <td>122.603167</td>\n",
       "      <td>186.024168</td>\n",
       "      <td>59.182166</td>\n",
       "    </tr>\n",
       "    <tr>\n",
       "      <th>...</th>\n",
       "      <td>...</td>\n",
       "      <td>...</td>\n",
       "      <td>...</td>\n",
       "      <td>...</td>\n",
       "      <td>...</td>\n",
       "      <td>...</td>\n",
       "      <td>...</td>\n",
       "    </tr>\n",
       "    <tr>\n",
       "      <th>2019-01-04</th>\n",
       "      <td>4160.00</td>\n",
       "      <td>17765.86</td>\n",
       "      <td>3039.91</td>\n",
       "      <td>4253.74</td>\n",
       "      <td>5215.888833</td>\n",
       "      <td>7754.694356</td>\n",
       "      <td>2677.083311</td>\n",
       "    </tr>\n",
       "    <tr>\n",
       "      <th>2019-01-05</th>\n",
       "      <td>4193.63</td>\n",
       "      <td>49922.62</td>\n",
       "      <td>3103.20</td>\n",
       "      <td>5656.52</td>\n",
       "      <td>5138.482667</td>\n",
       "      <td>7473.680047</td>\n",
       "      <td>2803.285286</td>\n",
       "    </tr>\n",
       "    <tr>\n",
       "      <th>2019-01-06</th>\n",
       "      <td>5060.00</td>\n",
       "      <td>45000.45</td>\n",
       "      <td>3230.35</td>\n",
       "      <td>6065.13</td>\n",
       "      <td>5135.433000</td>\n",
       "      <td>7467.581429</td>\n",
       "      <td>2803.284571</td>\n",
       "    </tr>\n",
       "    <tr>\n",
       "      <th>2019-01-07</th>\n",
       "      <td>4400.00</td>\n",
       "      <td>29961.20</td>\n",
       "      <td>3033.37</td>\n",
       "      <td>7982.54</td>\n",
       "      <td>5027.694333</td>\n",
       "      <td>6581.729868</td>\n",
       "      <td>3473.658799</td>\n",
       "    </tr>\n",
       "    <tr>\n",
       "      <th>2019-01-08</th>\n",
       "      <td>4800.00</td>\n",
       "      <td>8957.02</td>\n",
       "      <td>3383.77</td>\n",
       "      <td>4170.85</td>\n",
       "      <td>4987.658333</td>\n",
       "      <td>6520.071297</td>\n",
       "      <td>3455.245370</td>\n",
       "    </tr>\n",
       "  </tbody>\n",
       "</table>\n",
       "<p>2011 rows × 7 columns</p>\n",
       "</div>"
      ],
      "text/plain": [
       "               open      high      low    close  Rolling Mean  Bollinger High  \\\n",
       "datetime                                                                        \n",
       "2013-05-09   167.81    171.78   114.91   134.40    117.568167      185.480878   \n",
       "2013-05-10    89.58    137.14    89.58   122.25    118.405667      185.727137   \n",
       "2013-05-11   177.86    179.36   125.28   132.60    119.485833      186.115353   \n",
       "2013-05-12   175.89    175.89   108.78   137.95    121.118333      185.967818   \n",
       "2013-05-13   119.26    178.14    57.25   139.44    122.603167      186.024168   \n",
       "...             ...       ...      ...      ...           ...             ...   \n",
       "2019-01-04  4160.00  17765.86  3039.91  4253.74   5215.888833     7754.694356   \n",
       "2019-01-05  4193.63  49922.62  3103.20  5656.52   5138.482667     7473.680047   \n",
       "2019-01-06  5060.00  45000.45  3230.35  6065.13   5135.433000     7467.581429   \n",
       "2019-01-07  4400.00  29961.20  3033.37  7982.54   5027.694333     6581.729868   \n",
       "2019-01-08  4800.00   8957.02  3383.77  4170.85   4987.658333     6520.071297   \n",
       "\n",
       "            Bollinger Low  \n",
       "datetime                   \n",
       "2013-05-09      49.655456  \n",
       "2013-05-10      51.084196  \n",
       "2013-05-11      52.856314  \n",
       "2013-05-12      56.268849  \n",
       "2013-05-13      59.182166  \n",
       "...                   ...  \n",
       "2019-01-04    2677.083311  \n",
       "2019-01-05    2803.285286  \n",
       "2019-01-06    2803.284571  \n",
       "2019-01-07    3473.658799  \n",
       "2019-01-08    3455.245370  \n",
       "\n",
       "[2011 rows x 7 columns]"
      ]
     },
     "execution_count": 11,
     "metadata": {},
     "output_type": "execute_result"
    }
   ],
   "source": [
    "price_df"
   ]
  },
  {
   "cell_type": "code",
   "execution_count": 12,
   "metadata": {},
   "outputs": [
    {
     "name": "stdout",
     "output_type": "stream",
     "text": [
      "<class 'pandas.core.frame.DataFrame'>\n",
      "DatetimeIndex: 2011 entries, 2013-05-09 to 2019-01-08\n",
      "Data columns (total 7 columns):\n",
      " #   Column          Non-Null Count  Dtype  \n",
      "---  ------          --------------  -----  \n",
      " 0   open            2011 non-null   float64\n",
      " 1   high            2011 non-null   float64\n",
      " 2   low             2011 non-null   float64\n",
      " 3   close           2011 non-null   float64\n",
      " 4   Rolling Mean    2011 non-null   float64\n",
      " 5   Bollinger High  2011 non-null   float64\n",
      " 6   Bollinger Low   2011 non-null   float64\n",
      "dtypes: float64(7)\n",
      "memory usage: 125.7 KB\n"
     ]
    }
   ],
   "source": [
    "price_df.info()"
   ]
  },
  {
   "cell_type": "code",
   "execution_count": 13,
   "metadata": {},
   "outputs": [
    {
     "data": {
      "text/plain": [
       "<AxesSubplot:xlabel='datetime'>"
      ]
     },
     "execution_count": 13,
     "metadata": {},
     "output_type": "execute_result"
    },
    {
     "data": {
      "image/png": "[encoded data removed]",
      "text/plain": [
       "<Figure size 432x288 with 1 Axes>"
      ]
     },
     "metadata": {
      "needs_background": "light"
     },
     "output_type": "display_data"
    }
   ],
   "source": [
    "price_df[['close','Bollinger High','Bollinger Low']].plot()\n"
   ]
  },
  {
   "cell_type": "code",
   "execution_count": 14,
   "metadata": {},
   "outputs": [
    {
     "data": {
      "text/html": [
       "<div>\n",
       "<style scoped>\n",
       "    .dataframe tbody tr th:only-of-type {\n",
       "        vertical-align: middle;\n",
       "    }\n",
       "\n",
       "    .dataframe tbody tr th {\n",
       "        vertical-align: top;\n",
       "    }\n",
       "\n",
       "    .dataframe thead th {\n",
       "        text-align: right;\n",
       "    }\n",
       "</style>\n",
       "<table border=\"1\" class=\"dataframe\">\n",
       "  <thead>\n",
       "    <tr style=\"text-align: right;\">\n",
       "      <th></th>\n",
       "      <th>open</th>\n",
       "      <th>high</th>\n",
       "      <th>low</th>\n",
       "      <th>close</th>\n",
       "      <th>Rolling Mean</th>\n",
       "      <th>Bollinger High</th>\n",
       "      <th>Bollinger Low</th>\n",
       "    </tr>\n",
       "    <tr>\n",
       "      <th>datetime</th>\n",
       "      <th></th>\n",
       "      <th></th>\n",
       "      <th></th>\n",
       "      <th></th>\n",
       "      <th></th>\n",
       "      <th></th>\n",
       "      <th></th>\n",
       "    </tr>\n",
       "  </thead>\n",
       "  <tbody>\n",
       "    <tr>\n",
       "      <th>2013-05-09</th>\n",
       "      <td>167.81</td>\n",
       "      <td>171.78</td>\n",
       "      <td>114.91</td>\n",
       "      <td>134.40</td>\n",
       "      <td>117.568167</td>\n",
       "      <td>185.480878</td>\n",
       "      <td>49.655456</td>\n",
       "    </tr>\n",
       "    <tr>\n",
       "      <th>2013-05-10</th>\n",
       "      <td>89.58</td>\n",
       "      <td>137.14</td>\n",
       "      <td>89.58</td>\n",
       "      <td>122.25</td>\n",
       "      <td>118.405667</td>\n",
       "      <td>185.727137</td>\n",
       "      <td>51.084196</td>\n",
       "    </tr>\n",
       "    <tr>\n",
       "      <th>2013-05-11</th>\n",
       "      <td>177.86</td>\n",
       "      <td>179.36</td>\n",
       "      <td>125.28</td>\n",
       "      <td>132.60</td>\n",
       "      <td>119.485833</td>\n",
       "      <td>186.115353</td>\n",
       "      <td>52.856314</td>\n",
       "    </tr>\n",
       "    <tr>\n",
       "      <th>2013-05-12</th>\n",
       "      <td>175.89</td>\n",
       "      <td>175.89</td>\n",
       "      <td>108.78</td>\n",
       "      <td>137.95</td>\n",
       "      <td>121.118333</td>\n",
       "      <td>185.967818</td>\n",
       "      <td>56.268849</td>\n",
       "    </tr>\n",
       "    <tr>\n",
       "      <th>2013-05-13</th>\n",
       "      <td>119.26</td>\n",
       "      <td>178.14</td>\n",
       "      <td>57.25</td>\n",
       "      <td>139.44</td>\n",
       "      <td>122.603167</td>\n",
       "      <td>186.024168</td>\n",
       "      <td>59.182166</td>\n",
       "    </tr>\n",
       "    <tr>\n",
       "      <th>...</th>\n",
       "      <td>...</td>\n",
       "      <td>...</td>\n",
       "      <td>...</td>\n",
       "      <td>...</td>\n",
       "      <td>...</td>\n",
       "      <td>...</td>\n",
       "      <td>...</td>\n",
       "    </tr>\n",
       "    <tr>\n",
       "      <th>2019-01-04</th>\n",
       "      <td>4160.00</td>\n",
       "      <td>17765.86</td>\n",
       "      <td>3039.91</td>\n",
       "      <td>4253.74</td>\n",
       "      <td>5215.888833</td>\n",
       "      <td>7754.694356</td>\n",
       "      <td>2677.083311</td>\n",
       "    </tr>\n",
       "    <tr>\n",
       "      <th>2019-01-05</th>\n",
       "      <td>4193.63</td>\n",
       "      <td>49922.62</td>\n",
       "      <td>3103.20</td>\n",
       "      <td>5656.52</td>\n",
       "      <td>5138.482667</td>\n",
       "      <td>7473.680047</td>\n",
       "      <td>2803.285286</td>\n",
       "    </tr>\n",
       "    <tr>\n",
       "      <th>2019-01-06</th>\n",
       "      <td>5060.00</td>\n",
       "      <td>45000.45</td>\n",
       "      <td>3230.35</td>\n",
       "      <td>6065.13</td>\n",
       "      <td>5135.433000</td>\n",
       "      <td>7467.581429</td>\n",
       "      <td>2803.284571</td>\n",
       "    </tr>\n",
       "    <tr>\n",
       "      <th>2019-01-07</th>\n",
       "      <td>4400.00</td>\n",
       "      <td>29961.20</td>\n",
       "      <td>3033.37</td>\n",
       "      <td>7982.54</td>\n",
       "      <td>5027.694333</td>\n",
       "      <td>6581.729868</td>\n",
       "      <td>3473.658799</td>\n",
       "    </tr>\n",
       "    <tr>\n",
       "      <th>2019-01-08</th>\n",
       "      <td>4800.00</td>\n",
       "      <td>8957.02</td>\n",
       "      <td>3383.77</td>\n",
       "      <td>4170.85</td>\n",
       "      <td>4987.658333</td>\n",
       "      <td>6520.071297</td>\n",
       "      <td>3455.245370</td>\n",
       "    </tr>\n",
       "  </tbody>\n",
       "</table>\n",
       "<p>2011 rows × 7 columns</p>\n",
       "</div>"
      ],
      "text/plain": [
       "               open      high      low    close  Rolling Mean  Bollinger High  \\\n",
       "datetime                                                                        \n",
       "2013-05-09   167.81    171.78   114.91   134.40    117.568167      185.480878   \n",
       "2013-05-10    89.58    137.14    89.58   122.25    118.405667      185.727137   \n",
       "2013-05-11   177.86    179.36   125.28   132.60    119.485833      186.115353   \n",
       "2013-05-12   175.89    175.89   108.78   137.95    121.118333      185.967818   \n",
       "2013-05-13   119.26    178.14    57.25   139.44    122.603167      186.024168   \n",
       "...             ...       ...      ...      ...           ...             ...   \n",
       "2019-01-04  4160.00  17765.86  3039.91  4253.74   5215.888833     7754.694356   \n",
       "2019-01-05  4193.63  49922.62  3103.20  5656.52   5138.482667     7473.680047   \n",
       "2019-01-06  5060.00  45000.45  3230.35  6065.13   5135.433000     7467.581429   \n",
       "2019-01-07  4400.00  29961.20  3033.37  7982.54   5027.694333     6581.729868   \n",
       "2019-01-08  4800.00   8957.02  3383.77  4170.85   4987.658333     6520.071297   \n",
       "\n",
       "            Bollinger Low  \n",
       "datetime                   \n",
       "2013-05-09      49.655456  \n",
       "2013-05-10      51.084196  \n",
       "2013-05-11      52.856314  \n",
       "2013-05-12      56.268849  \n",
       "2013-05-13      59.182166  \n",
       "...                   ...  \n",
       "2019-01-04    2677.083311  \n",
       "2019-01-05    2803.285286  \n",
       "2019-01-06    2803.284571  \n",
       "2019-01-07    3473.658799  \n",
       "2019-01-08    3455.245370  \n",
       "\n",
       "[2011 rows x 7 columns]"
      ]
     },
     "execution_count": 14,
     "metadata": {},
     "output_type": "execute_result"
    }
   ],
   "source": [
    "price_df"
   ]
  },
  {
   "cell_type": "code",
   "execution_count": 15,
   "metadata": {},
   "outputs": [
    {
     "data": {
      "text/plain": [
       "<AxesSubplot:xlabel='datetime'>"
      ]
     },
     "execution_count": 15,
     "metadata": {},
     "output_type": "execute_result"
    },
    {
     "data": {
      "image/png": "[encoded data removed]",
      "text/plain": [
       "<Figure size 432x288 with 1 Axes>"
      ]
     },
     "metadata": {
      "needs_background": "light"
     },
     "output_type": "display_data"
    }
   ],
   "source": [
    "price_df[price_df.index >= '2018-10-01'][['close','Bollinger High','Bollinger Low', 'Rolling Mean']].plot()\n"
   ]
  },
  {
   "cell_type": "markdown",
   "metadata": {},
   "source": [
    "### Train LSTM  /Darts"
   ]
  },
  {
   "cell_type": "code",
   "execution_count": 98,
   "metadata": {},
   "outputs": [],
   "source": [
    "COLS = ['open',\t'high',\t'low',\t'close',\t'Rolling Mean',\t'Bollinger High',\t'Bollinger Low']\n",
    "dataset_train = price_df[:int(price_df.shape[0]*0.8) ][COLS] \n",
    "dataset_test = price_df[int(price_df.shape[0]*0.8):][COLS]"
   ]
  },
  {
   "cell_type": "code",
   "execution_count": null,
   "metadata": {},
   "outputs": [],
   "source": []
  },
  {
   "cell_type": "code",
   "execution_count": 99,
   "metadata": {},
   "outputs": [
    {
     "data": {
      "text/html": [
       "<div>\n",
       "<style scoped>\n",
       "    .dataframe tbody tr th:only-of-type {\n",
       "        vertical-align: middle;\n",
       "    }\n",
       "\n",
       "    .dataframe tbody tr th {\n",
       "        vertical-align: top;\n",
       "    }\n",
       "\n",
       "    .dataframe thead th {\n",
       "        text-align: right;\n",
       "    }\n",
       "</style>\n",
       "<table border=\"1\" class=\"dataframe\">\n",
       "  <thead>\n",
       "    <tr style=\"text-align: right;\">\n",
       "      <th></th>\n",
       "      <th>open</th>\n",
       "      <th>high</th>\n",
       "      <th>low</th>\n",
       "      <th>close</th>\n",
       "      <th>Rolling Mean</th>\n",
       "      <th>Bollinger High</th>\n",
       "      <th>Bollinger Low</th>\n",
       "    </tr>\n",
       "    <tr>\n",
       "      <th>datetime</th>\n",
       "      <th></th>\n",
       "      <th></th>\n",
       "      <th></th>\n",
       "      <th></th>\n",
       "      <th></th>\n",
       "      <th></th>\n",
       "      <th></th>\n",
       "    </tr>\n",
       "  </thead>\n",
       "  <tbody>\n",
       "    <tr>\n",
       "      <th>2013-05-09</th>\n",
       "      <td>167.81</td>\n",
       "      <td>171.78</td>\n",
       "      <td>114.91</td>\n",
       "      <td>134.40</td>\n",
       "      <td>117.568167</td>\n",
       "      <td>185.480878</td>\n",
       "      <td>49.655456</td>\n",
       "    </tr>\n",
       "    <tr>\n",
       "      <th>2013-05-10</th>\n",
       "      <td>89.58</td>\n",
       "      <td>137.14</td>\n",
       "      <td>89.58</td>\n",
       "      <td>122.25</td>\n",
       "      <td>118.405667</td>\n",
       "      <td>185.727137</td>\n",
       "      <td>51.084196</td>\n",
       "    </tr>\n",
       "    <tr>\n",
       "      <th>2013-05-11</th>\n",
       "      <td>177.86</td>\n",
       "      <td>179.36</td>\n",
       "      <td>125.28</td>\n",
       "      <td>132.60</td>\n",
       "      <td>119.485833</td>\n",
       "      <td>186.115353</td>\n",
       "      <td>52.856314</td>\n",
       "    </tr>\n",
       "    <tr>\n",
       "      <th>2013-05-12</th>\n",
       "      <td>175.89</td>\n",
       "      <td>175.89</td>\n",
       "      <td>108.78</td>\n",
       "      <td>137.95</td>\n",
       "      <td>121.118333</td>\n",
       "      <td>185.967818</td>\n",
       "      <td>56.268849</td>\n",
       "    </tr>\n",
       "    <tr>\n",
       "      <th>2013-05-13</th>\n",
       "      <td>119.26</td>\n",
       "      <td>178.14</td>\n",
       "      <td>57.25</td>\n",
       "      <td>139.44</td>\n",
       "      <td>122.603167</td>\n",
       "      <td>186.024168</td>\n",
       "      <td>59.182166</td>\n",
       "    </tr>\n",
       "  </tbody>\n",
       "</table>\n",
       "</div>"
      ],
      "text/plain": [
       "              open    high     low   close  Rolling Mean  Bollinger High  \\\n",
       "datetime                                                                   \n",
       "2013-05-09  167.81  171.78  114.91  134.40    117.568167      185.480878   \n",
       "2013-05-10   89.58  137.14   89.58  122.25    118.405667      185.727137   \n",
       "2013-05-11  177.86  179.36  125.28  132.60    119.485833      186.115353   \n",
       "2013-05-12  175.89  175.89  108.78  137.95    121.118333      185.967818   \n",
       "2013-05-13  119.26  178.14   57.25  139.44    122.603167      186.024168   \n",
       "\n",
       "            Bollinger Low  \n",
       "datetime                   \n",
       "2013-05-09      49.655456  \n",
       "2013-05-10      51.084196  \n",
       "2013-05-11      52.856314  \n",
       "2013-05-12      56.268849  \n",
       "2013-05-13      59.182166  "
      ]
     },
     "execution_count": 99,
     "metadata": {},
     "output_type": "execute_result"
    }
   ],
   "source": [
    "price_df.head()"
   ]
  },
  {
   "cell_type": "code",
   "execution_count": 100,
   "metadata": {},
   "outputs": [
    {
     "data": {
      "text/plain": [
       "(1608, 7)"
      ]
     },
     "execution_count": 100,
     "metadata": {},
     "output_type": "execute_result"
    }
   ],
   "source": [
    "dataset_train.shape"
   ]
  },
  {
   "cell_type": "code",
   "execution_count": 102,
   "metadata": {},
   "outputs": [
    {
     "data": {
      "text/html": [
       "<div>\n",
       "<style scoped>\n",
       "    .dataframe tbody tr th:only-of-type {\n",
       "        vertical-align: middle;\n",
       "    }\n",
       "\n",
       "    .dataframe tbody tr th {\n",
       "        vertical-align: top;\n",
       "    }\n",
       "\n",
       "    .dataframe thead th {\n",
       "        text-align: right;\n",
       "    }\n",
       "</style>\n",
       "<table border=\"1\" class=\"dataframe\">\n",
       "  <thead>\n",
       "    <tr style=\"text-align: right;\">\n",
       "      <th></th>\n",
       "      <th>open</th>\n",
       "      <th>high</th>\n",
       "      <th>low</th>\n",
       "      <th>close</th>\n",
       "      <th>Rolling Mean</th>\n",
       "      <th>Bollinger High</th>\n",
       "      <th>Bollinger Low</th>\n",
       "    </tr>\n",
       "    <tr>\n",
       "      <th>datetime</th>\n",
       "      <th></th>\n",
       "      <th></th>\n",
       "      <th></th>\n",
       "      <th></th>\n",
       "      <th></th>\n",
       "      <th></th>\n",
       "      <th></th>\n",
       "    </tr>\n",
       "  </thead>\n",
       "  <tbody>\n",
       "    <tr>\n",
       "      <th>2013-05-09</th>\n",
       "      <td>167.81</td>\n",
       "      <td>171.78</td>\n",
       "      <td>114.91</td>\n",
       "      <td>134.40</td>\n",
       "      <td>117.568167</td>\n",
       "      <td>185.480878</td>\n",
       "      <td>49.655456</td>\n",
       "    </tr>\n",
       "    <tr>\n",
       "      <th>2013-05-10</th>\n",
       "      <td>89.58</td>\n",
       "      <td>137.14</td>\n",
       "      <td>89.58</td>\n",
       "      <td>122.25</td>\n",
       "      <td>118.405667</td>\n",
       "      <td>185.727137</td>\n",
       "      <td>51.084196</td>\n",
       "    </tr>\n",
       "    <tr>\n",
       "      <th>2013-05-11</th>\n",
       "      <td>177.86</td>\n",
       "      <td>179.36</td>\n",
       "      <td>125.28</td>\n",
       "      <td>132.60</td>\n",
       "      <td>119.485833</td>\n",
       "      <td>186.115353</td>\n",
       "      <td>52.856314</td>\n",
       "    </tr>\n",
       "    <tr>\n",
       "      <th>2013-05-12</th>\n",
       "      <td>175.89</td>\n",
       "      <td>175.89</td>\n",
       "      <td>108.78</td>\n",
       "      <td>137.95</td>\n",
       "      <td>121.118333</td>\n",
       "      <td>185.967818</td>\n",
       "      <td>56.268849</td>\n",
       "    </tr>\n",
       "    <tr>\n",
       "      <th>2013-05-13</th>\n",
       "      <td>119.26</td>\n",
       "      <td>178.14</td>\n",
       "      <td>57.25</td>\n",
       "      <td>139.44</td>\n",
       "      <td>122.603167</td>\n",
       "      <td>186.024168</td>\n",
       "      <td>59.182166</td>\n",
       "    </tr>\n",
       "    <tr>\n",
       "      <th>...</th>\n",
       "      <td>...</td>\n",
       "      <td>...</td>\n",
       "      <td>...</td>\n",
       "      <td>...</td>\n",
       "      <td>...</td>\n",
       "      <td>...</td>\n",
       "      <td>...</td>\n",
       "    </tr>\n",
       "    <tr>\n",
       "      <th>2019-01-04</th>\n",
       "      <td>4160.00</td>\n",
       "      <td>17765.86</td>\n",
       "      <td>3039.91</td>\n",
       "      <td>4253.74</td>\n",
       "      <td>5215.888833</td>\n",
       "      <td>7754.694356</td>\n",
       "      <td>2677.083311</td>\n",
       "    </tr>\n",
       "    <tr>\n",
       "      <th>2019-01-05</th>\n",
       "      <td>4193.63</td>\n",
       "      <td>49922.62</td>\n",
       "      <td>3103.20</td>\n",
       "      <td>5656.52</td>\n",
       "      <td>5138.482667</td>\n",
       "      <td>7473.680047</td>\n",
       "      <td>2803.285286</td>\n",
       "    </tr>\n",
       "    <tr>\n",
       "      <th>2019-01-06</th>\n",
       "      <td>5060.00</td>\n",
       "      <td>45000.45</td>\n",
       "      <td>3230.35</td>\n",
       "      <td>6065.13</td>\n",
       "      <td>5135.433000</td>\n",
       "      <td>7467.581429</td>\n",
       "      <td>2803.284571</td>\n",
       "    </tr>\n",
       "    <tr>\n",
       "      <th>2019-01-07</th>\n",
       "      <td>4400.00</td>\n",
       "      <td>29961.20</td>\n",
       "      <td>3033.37</td>\n",
       "      <td>7982.54</td>\n",
       "      <td>5027.694333</td>\n",
       "      <td>6581.729868</td>\n",
       "      <td>3473.658799</td>\n",
       "    </tr>\n",
       "    <tr>\n",
       "      <th>2019-01-08</th>\n",
       "      <td>4800.00</td>\n",
       "      <td>8957.02</td>\n",
       "      <td>3383.77</td>\n",
       "      <td>4170.85</td>\n",
       "      <td>4987.658333</td>\n",
       "      <td>6520.071297</td>\n",
       "      <td>3455.245370</td>\n",
       "    </tr>\n",
       "  </tbody>\n",
       "</table>\n",
       "<p>2011 rows × 7 columns</p>\n",
       "</div>"
      ],
      "text/plain": [
       "               open      high      low    close  Rolling Mean  Bollinger High  \\\n",
       "datetime                                                                        \n",
       "2013-05-09   167.81    171.78   114.91   134.40    117.568167      185.480878   \n",
       "2013-05-10    89.58    137.14    89.58   122.25    118.405667      185.727137   \n",
       "2013-05-11   177.86    179.36   125.28   132.60    119.485833      186.115353   \n",
       "2013-05-12   175.89    175.89   108.78   137.95    121.118333      185.967818   \n",
       "2013-05-13   119.26    178.14    57.25   139.44    122.603167      186.024168   \n",
       "...             ...       ...      ...      ...           ...             ...   \n",
       "2019-01-04  4160.00  17765.86  3039.91  4253.74   5215.888833     7754.694356   \n",
       "2019-01-05  4193.63  49922.62  3103.20  5656.52   5138.482667     7473.680047   \n",
       "2019-01-06  5060.00  45000.45  3230.35  6065.13   5135.433000     7467.581429   \n",
       "2019-01-07  4400.00  29961.20  3033.37  7982.54   5027.694333     6581.729868   \n",
       "2019-01-08  4800.00   8957.02  3383.77  4170.85   4987.658333     6520.071297   \n",
       "\n",
       "            Bollinger Low  \n",
       "datetime                   \n",
       "2013-05-09      49.655456  \n",
       "2013-05-10      51.084196  \n",
       "2013-05-11      52.856314  \n",
       "2013-05-12      56.268849  \n",
       "2013-05-13      59.182166  \n",
       "...                   ...  \n",
       "2019-01-04    2677.083311  \n",
       "2019-01-05    2803.285286  \n",
       "2019-01-06    2803.284571  \n",
       "2019-01-07    3473.658799  \n",
       "2019-01-08    3455.245370  \n",
       "\n",
       "[2011 rows x 7 columns]"
      ]
     },
     "execution_count": 102,
     "metadata": {},
     "output_type": "execute_result"
    }
   ],
   "source": [
    "price_df"
   ]
  },
  {
   "cell_type": "code",
   "execution_count": 104,
   "metadata": {},
   "outputs": [],
   "source": [
    "series = TimeSeries.from_dataframe(price_df[COLS], value_cols='close', freq='D')"
   ]
  },
  {
   "cell_type": "code",
   "execution_count": 41,
   "metadata": {},
   "outputs": [],
   "source": [
    "COLS = ['open','high','low','close','Rolling Mean','Bollinger High','Bollinger Low']\n",
    "dataset_train = price_df[:int(price_df.shape[0]*0.8) ][COLS] \n",
    "dataset_test = price_df[int(price_df.shape[0]*0.8):][COLS]"
   ]
  },
  {
   "cell_type": "code",
   "execution_count": 42,
   "metadata": {},
   "outputs": [
    {
     "data": {
      "text/html": [
       "<div>\n",
       "<style scoped>\n",
       "    .dataframe tbody tr th:only-of-type {\n",
       "        vertical-align: middle;\n",
       "    }\n",
       "\n",
       "    .dataframe tbody tr th {\n",
       "        vertical-align: top;\n",
       "    }\n",
       "\n",
       "    .dataframe thead th {\n",
       "        text-align: right;\n",
       "    }\n",
       "</style>\n",
       "<table border=\"1\" class=\"dataframe\">\n",
       "  <thead>\n",
       "    <tr style=\"text-align: right;\">\n",
       "      <th></th>\n",
       "      <th>open</th>\n",
       "      <th>high</th>\n",
       "      <th>low</th>\n",
       "      <th>close</th>\n",
       "      <th>Rolling Mean</th>\n",
       "      <th>Bollinger High</th>\n",
       "      <th>Bollinger Low</th>\n",
       "    </tr>\n",
       "    <tr>\n",
       "      <th>datetime</th>\n",
       "      <th></th>\n",
       "      <th></th>\n",
       "      <th></th>\n",
       "      <th></th>\n",
       "      <th></th>\n",
       "      <th></th>\n",
       "      <th></th>\n",
       "    </tr>\n",
       "  </thead>\n",
       "  <tbody>\n",
       "    <tr>\n",
       "      <th>2013-05-09</th>\n",
       "      <td>167.81</td>\n",
       "      <td>171.78</td>\n",
       "      <td>114.91</td>\n",
       "      <td>134.40</td>\n",
       "      <td>117.568167</td>\n",
       "      <td>185.480878</td>\n",
       "      <td>49.655456</td>\n",
       "    </tr>\n",
       "    <tr>\n",
       "      <th>2013-05-10</th>\n",
       "      <td>89.58</td>\n",
       "      <td>137.14</td>\n",
       "      <td>89.58</td>\n",
       "      <td>122.25</td>\n",
       "      <td>118.405667</td>\n",
       "      <td>185.727137</td>\n",
       "      <td>51.084196</td>\n",
       "    </tr>\n",
       "    <tr>\n",
       "      <th>2013-05-11</th>\n",
       "      <td>177.86</td>\n",
       "      <td>179.36</td>\n",
       "      <td>125.28</td>\n",
       "      <td>132.60</td>\n",
       "      <td>119.485833</td>\n",
       "      <td>186.115353</td>\n",
       "      <td>52.856314</td>\n",
       "    </tr>\n",
       "    <tr>\n",
       "      <th>2013-05-12</th>\n",
       "      <td>175.89</td>\n",
       "      <td>175.89</td>\n",
       "      <td>108.78</td>\n",
       "      <td>137.95</td>\n",
       "      <td>121.118333</td>\n",
       "      <td>185.967818</td>\n",
       "      <td>56.268849</td>\n",
       "    </tr>\n",
       "    <tr>\n",
       "      <th>2013-05-13</th>\n",
       "      <td>119.26</td>\n",
       "      <td>178.14</td>\n",
       "      <td>57.25</td>\n",
       "      <td>139.44</td>\n",
       "      <td>122.603167</td>\n",
       "      <td>186.024168</td>\n",
       "      <td>59.182166</td>\n",
       "    </tr>\n",
       "  </tbody>\n",
       "</table>\n",
       "</div>"
      ],
      "text/plain": [
       "              open    high     low   close  Rolling Mean  Bollinger High  \\\n",
       "datetime                                                                   \n",
       "2013-05-09  167.81  171.78  114.91  134.40    117.568167      185.480878   \n",
       "2013-05-10   89.58  137.14   89.58  122.25    118.405667      185.727137   \n",
       "2013-05-11  177.86  179.36  125.28  132.60    119.485833      186.115353   \n",
       "2013-05-12  175.89  175.89  108.78  137.95    121.118333      185.967818   \n",
       "2013-05-13  119.26  178.14   57.25  139.44    122.603167      186.024168   \n",
       "\n",
       "            Bollinger Low  \n",
       "datetime                   \n",
       "2013-05-09      49.655456  \n",
       "2013-05-10      51.084196  \n",
       "2013-05-11      52.856314  \n",
       "2013-05-12      56.268849  \n",
       "2013-05-13      59.182166  "
      ]
     },
     "execution_count": 42,
     "metadata": {},
     "output_type": "execute_result"
    }
   ],
   "source": [
    "price_df.head()"
   ]
  },
  {
   "cell_type": "code",
   "execution_count": 275,
   "metadata": {},
   "outputs": [
    {
     "data": {
      "text/html": [
       "<div>\n",
       "<style scoped>\n",
       "    .dataframe tbody tr th:only-of-type {\n",
       "        vertical-align: middle;\n",
       "    }\n",
       "\n",
       "    .dataframe tbody tr th {\n",
       "        vertical-align: top;\n",
       "    }\n",
       "\n",
       "    .dataframe thead th {\n",
       "        text-align: right;\n",
       "    }\n",
       "</style>\n",
       "<table border=\"1\" class=\"dataframe\">\n",
       "  <thead>\n",
       "    <tr style=\"text-align: right;\">\n",
       "      <th></th>\n",
       "      <th>open</th>\n",
       "      <th>high</th>\n",
       "      <th>low</th>\n",
       "      <th>close</th>\n",
       "      <th>Rolling Mean</th>\n",
       "      <th>Bollinger High</th>\n",
       "      <th>Bollinger Low</th>\n",
       "    </tr>\n",
       "  </thead>\n",
       "  <tbody>\n",
       "    <tr>\n",
       "      <th>count</th>\n",
       "      <td>2011.000000</td>\n",
       "      <td>2.011000e+03</td>\n",
       "      <td>2011.000000</td>\n",
       "      <td>2011.000000</td>\n",
       "      <td>2011.000000</td>\n",
       "      <td>2011.000000</td>\n",
       "      <td>2011.000000</td>\n",
       "    </tr>\n",
       "    <tr>\n",
       "      <th>mean</th>\n",
       "      <td>3033.817474</td>\n",
       "      <td>2.411427e+07</td>\n",
       "      <td>1686.439756</td>\n",
       "      <td>3073.043555</td>\n",
       "      <td>3007.294292</td>\n",
       "      <td>4624.644364</td>\n",
       "      <td>1389.944220</td>\n",
       "    </tr>\n",
       "    <tr>\n",
       "      <th>std</th>\n",
       "      <td>4786.506522</td>\n",
       "      <td>1.078602e+09</td>\n",
       "      <td>2368.166399</td>\n",
       "      <td>4900.244458</td>\n",
       "      <td>4403.675027</td>\n",
       "      <td>7140.542701</td>\n",
       "      <td>1986.780986</td>\n",
       "    </tr>\n",
       "    <tr>\n",
       "      <th>min</th>\n",
       "      <td>77.770000</td>\n",
       "      <td>9.695000e+01</td>\n",
       "      <td>1.000000</td>\n",
       "      <td>71.730000</td>\n",
       "      <td>104.889667</td>\n",
       "      <td>126.366681</td>\n",
       "      <td>-507.068955</td>\n",
       "    </tr>\n",
       "    <tr>\n",
       "      <th>25%</th>\n",
       "      <td>390.365000</td>\n",
       "      <td>1.043150e+03</td>\n",
       "      <td>243.615000</td>\n",
       "      <td>390.255000</td>\n",
       "      <td>364.163417</td>\n",
       "      <td>508.608538</td>\n",
       "      <td>216.857384</td>\n",
       "    </tr>\n",
       "    <tr>\n",
       "      <th>50%</th>\n",
       "      <td>739.370000</td>\n",
       "      <td>2.994010e+03</td>\n",
       "      <td>456.000000</td>\n",
       "      <td>735.290000</td>\n",
       "      <td>734.162333</td>\n",
       "      <td>1061.036383</td>\n",
       "      <td>454.279671</td>\n",
       "    </tr>\n",
       "    <tr>\n",
       "      <th>75%</th>\n",
       "      <td>4149.500000</td>\n",
       "      <td>2.069171e+04</td>\n",
       "      <td>2401.570000</td>\n",
       "      <td>4269.370000</td>\n",
       "      <td>3870.922000</td>\n",
       "      <td>5616.510240</td>\n",
       "      <td>1813.501196</td>\n",
       "    </tr>\n",
       "    <tr>\n",
       "      <th>max</th>\n",
       "      <td>55000.310000</td>\n",
       "      <td>4.836901e+10</td>\n",
       "      <td>14401.950000</td>\n",
       "      <td>54999.450000</td>\n",
       "      <td>19009.738833</td>\n",
       "      <td>29223.564142</td>\n",
       "      <td>9002.981506</td>\n",
       "    </tr>\n",
       "  </tbody>\n",
       "</table>\n",
       "</div>"
      ],
      "text/plain": [
       "               open          high           low         close  Rolling Mean  \\\n",
       "count   2011.000000  2.011000e+03   2011.000000   2011.000000   2011.000000   \n",
       "mean    3033.817474  2.411427e+07   1686.439756   3073.043555   3007.294292   \n",
       "std     4786.506522  1.078602e+09   2368.166399   4900.244458   4403.675027   \n",
       "min       77.770000  9.695000e+01      1.000000     71.730000    104.889667   \n",
       "25%      390.365000  1.043150e+03    243.615000    390.255000    364.163417   \n",
       "50%      739.370000  2.994010e+03    456.000000    735.290000    734.162333   \n",
       "75%     4149.500000  2.069171e+04   2401.570000   4269.370000   3870.922000   \n",
       "max    55000.310000  4.836901e+10  14401.950000  54999.450000  19009.738833   \n",
       "\n",
       "       Bollinger High  Bollinger Low  \n",
       "count     2011.000000    2011.000000  \n",
       "mean      4624.644364    1389.944220  \n",
       "std       7140.542701    1986.780986  \n",
       "min        126.366681    -507.068955  \n",
       "25%        508.608538     216.857384  \n",
       "50%       1061.036383     454.279671  \n",
       "75%       5616.510240    1813.501196  \n",
       "max      29223.564142    9002.981506  "
      ]
     },
     "execution_count": 275,
     "metadata": {},
     "output_type": "execute_result"
    }
   ],
   "source": [
    "price_df[COLS].describe()"
   ]
  },
  {
   "cell_type": "code",
   "execution_count": 273,
   "metadata": {},
   "outputs": [
    {
     "data": {
      "text/plain": [
       "open              0\n",
       "high              0\n",
       "low               0\n",
       "close             0\n",
       "Rolling Mean      0\n",
       "Bollinger High    0\n",
       "Bollinger Low     0\n",
       "dtype: int64"
      ]
     },
     "execution_count": 273,
     "metadata": {},
     "output_type": "execute_result"
    }
   ],
   "source": [
    "pd.isna(price_df[COLS]).sum()"
   ]
  },
  {
   "cell_type": "code",
   "execution_count": 274,
   "metadata": {},
   "outputs": [
    {
     "data": {
      "text/plain": [
       "open              0\n",
       "high              0\n",
       "low               0\n",
       "close             0\n",
       "Rolling Mean      0\n",
       "Bollinger High    0\n",
       "Bollinger Low     0\n",
       "dtype: int64"
      ]
     },
     "execution_count": 274,
     "metadata": {},
     "output_type": "execute_result"
    }
   ],
   "source": [
    "pd.isnull(price_df[COLS]).sum()"
   ]
  },
  {
   "cell_type": "code",
   "execution_count": 513,
   "metadata": {},
   "outputs": [
    {
     "data": {
      "text/plain": [
       "DatetimeIndex(['2014-05-18', '2014-05-19', '2014-05-20', '2014-05-21',\n",
       "               '2014-05-22', '2014-05-23', '2014-05-24', '2014-05-25',\n",
       "               '2014-05-26', '2014-05-27', '2014-05-28', '2014-05-29',\n",
       "               '2014-05-30', '2014-05-31', '2014-06-01', '2014-06-02',\n",
       "               '2014-06-03', '2014-06-04', '2014-06-05', '2014-06-06',\n",
       "               '2014-06-07', '2014-06-08', '2014-06-09', '2014-06-10',\n",
       "               '2014-06-11', '2014-06-12', '2014-06-13', '2014-06-14',\n",
       "               '2014-06-15', '2014-06-16', '2014-06-17', '2014-06-18',\n",
       "               '2014-06-19', '2014-06-20', '2014-06-21', '2014-06-22',\n",
       "               '2014-06-23', '2014-06-24', '2014-06-25', '2014-06-26',\n",
       "               '2014-06-27', '2014-06-28', '2014-06-29', '2014-06-30',\n",
       "               '2014-07-01', '2014-07-02', '2014-07-03', '2014-07-04',\n",
       "               '2014-07-05', '2014-07-06', '2014-07-07', '2014-07-08',\n",
       "               '2014-07-09', '2014-07-10', '2014-07-11', '2014-07-12',\n",
       "               '2014-07-13', '2014-07-14', '2014-07-15', '2014-07-16'],\n",
       "              dtype='datetime64[ns]', freq=None)"
      ]
     },
     "execution_count": 513,
     "metadata": {},
     "output_type": "execute_result"
    }
   ],
   "source": [
    "pd.date_range(start = '2013-05-19', end = '2019-01-08' ).difference(price_df['open'].index)\n"
   ]
  },
  {
   "cell_type": "markdown",
   "metadata": {},
   "source": [
    "- Need to fill in these missing values for 2014"
   ]
  },
  {
   "cell_type": "code",
   "execution_count": 517,
   "metadata": {},
   "outputs": [],
   "source": [
    "price_df = price_df[price_df.index > '2015-01-01']"
   ]
  },
  {
   "cell_type": "code",
   "execution_count": 518,
   "metadata": {},
   "outputs": [],
   "source": [
    "# create series for each col\n",
    "open_series = fill_missing_values(TimeSeries.from_series(price_df['open'],  freq='D'))\n",
    "high_series = fill_missing_values(TimeSeries.from_series(price_df['high'],  freq='D'))\n",
    "low_series = fill_missing_values(TimeSeries.from_series(price_df['low'],  freq='D'))\n",
    "close_series = fill_missing_values(TimeSeries.from_series(price_df['close'],  freq='D'))\n",
    "mean_series = fill_missing_values(TimeSeries.from_series(price_df['Rolling Mean'],  freq='D'))\n",
    "bh_series = fill_missing_values(TimeSeries.from_series(price_df['Bollinger High'],  freq='D'))\n",
    "bl_series = fill_missing_values(TimeSeries.from_series(price_df['Bollinger High'],  freq='D'))"
   ]
  },
  {
   "cell_type": "code",
   "execution_count": 521,
   "metadata": {},
   "outputs": [],
   "source": [
    "close_series_transformer = Scaler()\n",
    "close_series_transformed = close_series_transformer.fit_transform(close_series)\n",
    "\n",
    "open_series_transformer = Scaler()\n",
    "open_series_transformed = open_series_transformer.fit_transform(open_series)\n",
    "\n",
    "high_series_transformer = Scaler()\n",
    "high_series_transformed = high_series_transformer.fit_transform(high_series)\n",
    "\n",
    "low_series_transformer = Scaler()\n",
    "low_series_transformed = low_series_transformer.fit_transform(low_series)\n",
    "\n",
    "mean_series_transformer = Scaler()\n",
    "mean_series_transformed = mean_series_transformer.fit_transform(mean_series)\n",
    "\n",
    "bh_series_transformer = Scaler()\n",
    "bh_series_transformed = bh_series_transformer.fit_transform(bh_series)\n",
    "\n",
    "bl_series_transformer = Scaler()\n",
    "bl_series_transformed = bl_series_transformer.fit_transform(bl_series)\n"
   ]
  },
  {
   "cell_type": "code",
   "execution_count": null,
   "metadata": {},
   "outputs": [],
   "source": []
  },
  {
   "cell_type": "code",
   "execution_count": 522,
   "metadata": {},
   "outputs": [
    {
     "data": {
      "image/png": "[encoded data removed]",
      "text/plain": [
       "<Figure size 720x360 with 1 Axes>"
      ]
     },
     "metadata": {
      "needs_background": "light"
     },
     "output_type": "display_data"
    }
   ],
   "source": [
    "plot_acf(close_series, max_lag=50) # no seasonality\n"
   ]
  },
  {
   "cell_type": "code",
   "execution_count": 523,
   "metadata": {},
   "outputs": [],
   "source": [
    "# Create validation\n",
    "SPLIT_DATE = '2018-01-01'\n",
    "open_train, open_val = open_series.split_after(pd.Timestamp(SPLIT_DATE))\n",
    "high_train, high_val = high_series.split_after(pd.Timestamp(SPLIT_DATE))\n",
    "low_train, low_val = low_series.split_after(pd.Timestamp(SPLIT_DATE))\n",
    "close_train, close_val = close_series.split_after(pd.Timestamp(SPLIT_DATE))\n",
    "mean_train, mean_val = mean_series.split_after(pd.Timestamp(SPLIT_DATE))\n",
    "bh_train, bh_val = bh_series.split_after(pd.Timestamp(SPLIT_DATE))\n",
    "bl_train, bl_val = bl_series.split_after(pd.Timestamp(SPLIT_DATE))"
   ]
  },
  {
   "cell_type": "code",
   "execution_count": null,
   "metadata": {},
   "outputs": [],
   "source": []
  },
  {
   "cell_type": "code",
   "execution_count": 524,
   "metadata": {},
   "outputs": [
    {
     "data": {
      "text/plain": [
       "(Timestamp('2015-01-02 00:00:00', freq='D'),\n",
       " Timestamp('2019-01-08 00:00:00', freq='D'))"
      ]
     },
     "execution_count": 524,
     "metadata": {},
     "output_type": "execute_result"
    }
   ],
   "source": [
    "open_train.start_time(), open_val.end_time()"
   ]
  },
  {
   "cell_type": "code",
   "execution_count": 525,
   "metadata": {},
   "outputs": [
    {
     "data": {
      "text/plain": [
       "(Timestamp('2015-01-02 00:00:00', freq='D'),\n",
       " Timestamp('2019-01-08 00:00:00', freq='D'))"
      ]
     },
     "execution_count": 525,
     "metadata": {},
     "output_type": "execute_result"
    }
   ],
   "source": [
    "high_train.start_time(), high_val.end_time()"
   ]
  },
  {
   "cell_type": "code",
   "execution_count": 526,
   "metadata": {},
   "outputs": [],
   "source": [
    "# Normalize the time series (note: we avoid fitting the transformer on the validation set)\n",
    "open_train_transformer = Scaler()\n",
    "open_train_transformed = open_train_transformer.fit_transform(open_train)\n",
    "open_val_transformed = open_train_transformer.transform(open_val)\n",
    "\n",
    "high_transformer = Scaler()\n",
    "high_train_transformed = high_transformer.fit_transform(high_train)\n",
    "high_val_transformed = high_transformer.transform(high_val)\n",
    "\n",
    "low_transformer = Scaler()\n",
    "low_train_transformed = low_transformer.fit_transform(low_train)\n",
    "low_val_transformed = low_transformer.transform(low_val)\n",
    "\n",
    "close_transformer = Scaler()\n",
    "close_train_transformed = close_transformer.fit_transform(close_train)\n",
    "close_val_transformed = close_transformer.transform(close_val)\n",
    "\n",
    "mean_transformer = Scaler()\n",
    "mean_train_transformed = mean_transformer.fit_transform(mean_train)\n",
    "mean_val_transformed = mean_transformer.transform(mean_val)\n",
    "\n",
    "bh_transformer = Scaler()\n",
    "bh_train_transformed = bh_transformer.fit_transform(bh_train)\n",
    "bh_val_transformed = bh_transformer.transform(bh_val)\n",
    "\n",
    "bl_transformer = Scaler()\n",
    "bl_train_transformed = bl_transformer.fit_transform(bl_train)\n",
    "bl_val_transformed = bl_transformer.transform(bl_val)"
   ]
  },
  {
   "cell_type": "code",
   "execution_count": 527,
   "metadata": {},
   "outputs": [
    {
     "data": {
      "text/html": [
       "<div>\n",
       "<style scoped>\n",
       "    .dataframe tbody tr th:only-of-type {\n",
       "        vertical-align: middle;\n",
       "    }\n",
       "\n",
       "    .dataframe tbody tr th {\n",
       "        vertical-align: top;\n",
       "    }\n",
       "\n",
       "    .dataframe thead th {\n",
       "        text-align: right;\n",
       "    }\n",
       "</style>\n",
       "<table border=\"1\" class=\"dataframe\">\n",
       "  <thead>\n",
       "    <tr style=\"text-align: right;\">\n",
       "      <th>component</th>\n",
       "      <th>close</th>\n",
       "    </tr>\n",
       "  </thead>\n",
       "  <tbody>\n",
       "    <tr>\n",
       "      <th>count</th>\n",
       "      <td>1096.000000</td>\n",
       "    </tr>\n",
       "    <tr>\n",
       "      <th>mean</th>\n",
       "      <td>0.050597</td>\n",
       "    </tr>\n",
       "    <tr>\n",
       "      <th>std</th>\n",
       "      <td>0.102363</td>\n",
       "    </tr>\n",
       "    <tr>\n",
       "      <th>min</th>\n",
       "      <td>0.000000</td>\n",
       "    </tr>\n",
       "    <tr>\n",
       "      <th>25%</th>\n",
       "      <td>0.004635</td>\n",
       "    </tr>\n",
       "    <tr>\n",
       "      <th>50%</th>\n",
       "      <td>0.013351</td>\n",
       "    </tr>\n",
       "    <tr>\n",
       "      <th>75%</th>\n",
       "      <td>0.037964</td>\n",
       "    </tr>\n",
       "    <tr>\n",
       "      <th>max</th>\n",
       "      <td>1.000000</td>\n",
       "    </tr>\n",
       "  </tbody>\n",
       "</table>\n",
       "</div>"
      ],
      "text/plain": [
       "component        close\n",
       "count      1096.000000\n",
       "mean          0.050597\n",
       "std           0.102363\n",
       "min           0.000000\n",
       "25%           0.004635\n",
       "50%           0.013351\n",
       "75%           0.037964\n",
       "max           1.000000"
      ]
     },
     "execution_count": 527,
     "metadata": {},
     "output_type": "execute_result"
    }
   ],
   "source": [
    "close_train_transformed.describe()"
   ]
  },
  {
   "cell_type": "code",
   "execution_count": 535,
   "metadata": {},
   "outputs": [],
   "source": [
    "# stack our covariates train\n",
    "all_covariates_train = open_train_transformed.stack(high_train_transformed).stack(low_train_transformed)\n",
    "#.stack(mean_train_transformed).stack(\n",
    "#     bh_train_transformed).stack(bl_train_transformed)\n",
    "\n",
    "# stack our covariates val\n",
    "all_covariates_val = open_val_transformed.stack(high_val_transformed).stack(low_val_transformed).stack(mean_val_transformed).stack(\n",
    "    bh_val_transformed).stack(bl_val_transformed)\n",
    "\n",
    "\n",
    "# stack our covariates all\n",
    "all_covariates_series_stacked = open_series_transformed.stack(high_series_transformed).stack(low_series_transformed).stack(mean_series_transformed).stack(\n",
    "    bh_series_transformed).stack(bl_series_transformed)"
   ]
  },
  {
   "cell_type": "code",
   "execution_count": 536,
   "metadata": {},
   "outputs": [
    {
     "data": {
      "image/png": "[encoded data removed]",
      "text/plain": [
       "<Figure size 432x288 with 1 Axes>"
      ]
     },
     "metadata": {
      "needs_background": "light"
     },
     "output_type": "display_data"
    }
   ],
   "source": [
    "all_covariates_train.plot()"
   ]
  },
  {
   "cell_type": "code",
   "execution_count": 537,
   "metadata": {},
   "outputs": [
    {
     "data": {
      "application/vnd.jupyter.widget-view+json": {
       "model_id": "d025908ec5204745ac9b03c3c60019ce",
       "version_major": 2,
       "version_minor": 0
      },
      "text/plain": [
       "  0%|          | 0/10 [00:00<?, ?it/s]"
      ]
     },
     "metadata": {},
     "output_type": "display_data"
    },
    {
     "name": "stdout",
     "output_type": "stream",
     "text": [
      "Training loss: 0.2048\r"
     ]
    }
   ],
   "source": [
    "model_close = NBEATSModel(input_chunk_length=30, output_chunk_length=14, n_epochs=10, random_state=0)\n",
    "\n",
    "\n",
    "model_close.fit(series = close_train_transformed, past_covariates = [all_covariates_train],  verbose=True)"
   ]
  },
  {
   "cell_type": "code",
   "execution_count": 543,
   "metadata": {},
   "outputs": [
    {
     "data": {
      "application/vnd.jupyter.widget-view+json": {
       "model_id": "7759d36c67014a459ba9db1c60734f62",
       "version_major": 2,
       "version_minor": 0
      },
      "text/plain": [
       "  0%|          | 0/10 [00:00<?, ?it/s]"
      ]
     },
     "metadata": {},
     "output_type": "display_data"
    },
    {
     "name": "stdout",
     "output_type": "stream",
     "text": [
      "Training loss: 0.0197\r"
     ]
    }
   ],
   "source": [
    "model_close_rnn = BlockRNNModel(input_chunk_length=30, output_chunk_length=14, n_epochs=10, random_state=0)\n",
    "\n",
    "\n",
    "model_close_rnn.fit(series = close_train_transformed, past_covariates = [all_covariates_train],  verbose=True)"
   ]
  },
  {
   "cell_type": "code",
   "execution_count": 544,
   "metadata": {},
   "outputs": [],
   "source": [
    "pred_close = model_close.predict(n=14, series=close_train_transformed, past_covariates = [all_covariates_train])\n",
    "pred_close_rnn = model_close_rnn.predict(n=14, series=close_train_transformed, past_covariates = [all_covariates_train])\n",
    "close_transformer.inverse_transform(pred_close).last_value()"
   ]
  },
  {
   "cell_type": "code",
   "execution_count": 545,
   "metadata": {},
   "outputs": [
    {
     "data": {
      "text/plain": [
       "34441.821710334705"
      ]
     },
     "execution_count": 545,
     "metadata": {},
     "output_type": "execute_result"
    }
   ],
   "source": [
    "close_transformer.inverse_transform(pred_close).last_value()"
   ]
  },
  {
   "cell_type": "code",
   "execution_count": 548,
   "metadata": {},
   "outputs": [
    {
     "name": "stdout",
     "output_type": "stream",
     "text": [
      "MAPE = 100.00%\n",
      "MAPE = 100.00%\n"
     ]
    },
    {
     "data": {
      "image/png": "[encoded data removed]",
      "text/plain": [
       "<Figure size 432x288 with 1 Axes>"
      ]
     },
     "metadata": {
      "needs_background": "light"
     },
     "output_type": "display_data"
    }
   ],
   "source": [
    "# no bollinger ban\n",
    "close_series.slice(pd.to_datetime(\"2018-01-01\"), pd.to_datetime(\"2018-03-02\")).plot(label='actual')\n",
    "plt.title('NBeats model')\n",
    "close_transformer.inverse_transform(pred_close).plot(label='forecast nBeats')\n",
    "close_transformer.inverse_transform(pred_close_rnn).plot(label='forecast RNN')\n",
    "plt.legend();\n",
    "print('MAPE = {:.2f}%'.format(mape(close_transformer.inverse_transform(pred_close), pred)))\n",
    "print('MAPE = {:.2f}%'.format(mape(close_transformer.inverse_transform(pred_close_rnn), pred)))"
   ]
  },
  {
   "cell_type": "code",
   "execution_count": 534,
   "metadata": {},
   "outputs": [
    {
     "name": "stdout",
     "output_type": "stream",
     "text": [
      "MAPE = 99.99%\n"
     ]
    },
    {
     "data": {
      "image/png": "[encoded data removed]",
      "text/plain": [
       "<Figure size 432x288 with 1 Axes>"
      ]
     },
     "metadata": {
      "needs_background": "light"
     },
     "output_type": "display_data"
    }
   ],
   "source": [
    "\n",
    "close_series.slice(pd.to_datetime(\"2018-01-01\"), pd.to_datetime(\"2018-03-02\")).plot(label='actual')\n",
    "plt.title('NBeats model')\n",
    "close_transformer.inverse_transform(pred_close).plot(label='forecast nBeats')\n",
    "close_transformer.inverse_transform(pred_close_rnn).plot(label='forecast RNN')\n",
    "plt.legend();\n",
    "print('MAPE = {:.2f}%'.format(mape(close_series, pred)))"
   ]
  },
  {
   "cell_type": "markdown",
   "metadata": {},
   "source": [
    "## Backtest"
   ]
  },
  {
   "cell_type": "code",
   "execution_count": 440,
   "metadata": {},
   "outputs": [
    {
     "data": {
      "application/vnd.jupyter.widget-view+json": {
       "model_id": "f1da35c90c824b2f801fe333cfcf24a6",
       "version_major": 2,
       "version_minor": 0
      },
      "text/plain": [
       "  0%|          | 0/1023 [00:00<?, ?it/s]"
      ]
     },
     "metadata": {},
     "output_type": "display_data"
    }
   ],
   "source": [
    "\n",
    "backtest_cov = model_close.historical_forecasts(close_series_transformed,\n",
    "                                              past_covariates=all_covariates_series_stacked,\n",
    "                                              start=0.5,\n",
    "                                              forecast_horizon=14,\n",
    "                                              stride=1,\n",
    "                                              retrain=False,\n",
    "                                              verbose=True)"
   ]
  },
  {
   "cell_type": "code",
   "execution_count": 460,
   "metadata": {},
   "outputs": [
    {
     "name": "stdout",
     "output_type": "stream",
     "text": [
      "MAPE (using covariates) = 102.13%\n"
     ]
    },
    {
     "data": {
      "text/plain": [
       "12819.026739861685"
      ]
     },
     "execution_count": 460,
     "metadata": {},
     "output_type": "execute_result"
    },
    {
     "data": {
      "image/png": "[encoded data removed]",
      "text/plain": [
       "<Figure size 432x288 with 1 Axes>"
      ]
     },
     "metadata": {
      "needs_background": "light"
     },
     "output_type": "display_data"
    }
   ],
   "source": [
    "close_series[1000:1200].plot(label='actual')\n",
    "close_transformer.inverse_transform(backtest_cov)[:200].plot(label='forecast')\n",
    "plt.legend();\n",
    "print('MAPE (using covariates) = {:.2f}%'.format(mape(close_series, close_transformer.inverse_transform(backtest_cov))))\n",
    "\n",
    "sqrt(mse(close_series, close_transformer.inverse_transform(backtest_cov)))"
   ]
  },
  {
   "cell_type": "code",
   "execution_count": 451,
   "metadata": {},
   "outputs": [
    {
     "data": {
      "text/html": [
       "<div><svg style=\"position: absolute; width: 0; height: 0; overflow: hidden\">\n",
       "<defs>\n",
       "<symbol id=\"icon-database\" viewBox=\"0 0 32 32\">\n",
       "<path d=\"M16 0c-8.837 0-16 2.239-16 5v4c0 2.761 7.163 5 16 5s16-2.239 16-5v-4c0-2.761-7.163-5-16-5z\"></path>\n",
       "<path d=\"M16 17c-8.837 0-16-2.239-16-5v6c0 2.761 7.163 5 16 5s16-2.239 16-5v-6c0 2.761-7.163 5-16 5z\"></path>\n",
       "<path d=\"M16 26c-8.837 0-16-2.239-16-5v6c0 2.761 7.163 5 16 5s16-2.239 16-5v-6c0 2.761-7.163 5-16 5z\"></path>\n",
       "</symbol>\n",
       "<symbol id=\"icon-file-text2\" viewBox=\"0 0 32 32\">\n",
       "<path d=\"M28.681 7.159c-0.694-0.947-1.662-2.053-2.724-3.116s-2.169-2.030-3.116-2.724c-1.612-1.182-2.393-1.319-2.841-1.319h-15.5c-1.378 0-2.5 1.121-2.5 2.5v27c0 1.378 1.122 2.5 2.5 2.5h23c1.378 0 2.5-1.122 2.5-2.5v-19.5c0-0.448-0.137-1.23-1.319-2.841zM24.543 5.457c0.959 0.959 1.712 1.825 2.268 2.543h-4.811v-4.811c0.718 0.556 1.584 1.309 2.543 2.268zM28 29.5c0 0.271-0.229 0.5-0.5 0.5h-23c-0.271 0-0.5-0.229-0.5-0.5v-27c0-0.271 0.229-0.5 0.5-0.5 0 0 15.499-0 15.5 0v7c0 0.552 0.448 1 1 1h7v19.5z\"></path>\n",
       "<path d=\"M23 26h-14c-0.552 0-1-0.448-1-1s0.448-1 1-1h14c0.552 0 1 0.448 1 1s-0.448 1-1 1z\"></path>\n",
       "<path d=\"M23 22h-14c-0.552 0-1-0.448-1-1s0.448-1 1-1h14c0.552 0 1 0.448 1 1s-0.448 1-1 1z\"></path>\n",
       "<path d=\"M23 18h-14c-0.552 0-1-0.448-1-1s0.448-1 1-1h14c0.552 0 1 0.448 1 1s-0.448 1-1 1z\"></path>\n",
       "</symbol>\n",
       "</defs>\n",
       "</svg>\n",
       "<style>/* CSS stylesheet for displaying xarray objects in jupyterlab.\n",
       " *\n",
       " */\n",
       "\n",
       ":root {\n",
       "  --xr-font-color0: var(--jp-content-font-color0, rgba(0, 0, 0, 1));\n",
       "  --xr-font-color2: var(--jp-content-font-color2, rgba(0, 0, 0, 0.54));\n",
       "  --xr-font-color3: var(--jp-content-font-color3, rgba(0, 0, 0, 0.38));\n",
       "  --xr-border-color: var(--jp-border-color2, #e0e0e0);\n",
       "  --xr-disabled-color: var(--jp-layout-color3, #bdbdbd);\n",
       "  --xr-background-color: var(--jp-layout-color0, white);\n",
       "  --xr-background-color-row-even: var(--jp-layout-color1, white);\n",
       "  --xr-background-color-row-odd: var(--jp-layout-color2, #eeeeee);\n",
       "}\n",
       "\n",
       "html[theme=dark],\n",
       "body.vscode-dark {\n",
       "  --xr-font-color0: rgba(255, 255, 255, 1);\n",
       "  --xr-font-color2: rgba(255, 255, 255, 0.54);\n",
       "  --xr-font-color3: rgba(255, 255, 255, 0.38);\n",
       "  --xr-border-color: #1F1F1F;\n",
       "  --xr-disabled-color: #515151;\n",
       "  --xr-background-color: #111111;\n",
       "  --xr-background-color-row-even: #111111;\n",
       "  --xr-background-color-row-odd: #313131;\n",
       "}\n",
       "\n",
       ".xr-wrap {\n",
       "  display: block;\n",
       "  min-width: 300px;\n",
       "  max-width: 700px;\n",
       "}\n",
       "\n",
       ".xr-text-repr-fallback {\n",
       "  /* fallback to plain text repr when CSS is not injected (untrusted notebook) */\n",
       "  display: none;\n",
       "}\n",
       "\n",
       ".xr-header {\n",
       "  padding-top: 6px;\n",
       "  padding-bottom: 6px;\n",
       "  margin-bottom: 4px;\n",
       "  border-bottom: solid 1px var(--xr-border-color);\n",
       "}\n",
       "\n",
       ".xr-header > div,\n",
       ".xr-header > ul {\n",
       "  display: inline;\n",
       "  margin-top: 0;\n",
       "  margin-bottom: 0;\n",
       "}\n",
       "\n",
       ".xr-obj-type,\n",
       ".xr-array-name {\n",
       "  margin-left: 2px;\n",
       "  margin-right: 10px;\n",
       "}\n",
       "\n",
       ".xr-obj-type {\n",
       "  color: var(--xr-font-color2);\n",
       "}\n",
       "\n",
       ".xr-sections {\n",
       "  padding-left: 0 !important;\n",
       "  display: grid;\n",
       "  grid-template-columns: 150px auto auto 1fr 20px 20px;\n",
       "}\n",
       "\n",
       ".xr-section-item {\n",
       "  display: contents;\n",
       "}\n",
       "\n",
       ".xr-section-item input {\n",
       "  display: none;\n",
       "}\n",
       "\n",
       ".xr-section-item input + label {\n",
       "  color: var(--xr-disabled-color);\n",
       "}\n",
       "\n",
       ".xr-section-item input:enabled + label {\n",
       "  cursor: pointer;\n",
       "  color: var(--xr-font-color2);\n",
       "}\n",
       "\n",
       ".xr-section-item input:enabled + label:hover {\n",
       "  color: var(--xr-font-color0);\n",
       "}\n",
       "\n",
       ".xr-section-summary {\n",
       "  grid-column: 1;\n",
       "  color: var(--xr-font-color2);\n",
       "  font-weight: 500;\n",
       "}\n",
       "\n",
       ".xr-section-summary > span {\n",
       "  display: inline-block;\n",
       "  padding-left: 0.5em;\n",
       "}\n",
       "\n",
       ".xr-section-summary-in:disabled + label {\n",
       "  color: var(--xr-font-color2);\n",
       "}\n",
       "\n",
       ".xr-section-summary-in + label:before {\n",
       "  display: inline-block;\n",
       "  content: '►';\n",
       "  font-size: 11px;\n",
       "  width: 15px;\n",
       "  text-align: center;\n",
       "}\n",
       "\n",
       ".xr-section-summary-in:disabled + label:before {\n",
       "  color: var(--xr-disabled-color);\n",
       "}\n",
       "\n",
       ".xr-section-summary-in:checked + label:before {\n",
       "  content: '▼';\n",
       "}\n",
       "\n",
       ".xr-section-summary-in:checked + label > span {\n",
       "  display: none;\n",
       "}\n",
       "\n",
       ".xr-section-summary,\n",
       ".xr-section-inline-details {\n",
       "  padding-top: 4px;\n",
       "  padding-bottom: 4px;\n",
       "}\n",
       "\n",
       ".xr-section-inline-details {\n",
       "  grid-column: 2 / -1;\n",
       "}\n",
       "\n",
       ".xr-section-details {\n",
       "  display: none;\n",
       "  grid-column: 1 / -1;\n",
       "  margin-bottom: 5px;\n",
       "}\n",
       "\n",
       ".xr-section-summary-in:checked ~ .xr-section-details {\n",
       "  display: contents;\n",
       "}\n",
       "\n",
       ".xr-array-wrap {\n",
       "  grid-column: 1 / -1;\n",
       "  display: grid;\n",
       "  grid-template-columns: 20px auto;\n",
       "}\n",
       "\n",
       ".xr-array-wrap > label {\n",
       "  grid-column: 1;\n",
       "  vertical-align: top;\n",
       "}\n",
       "\n",
       ".xr-preview {\n",
       "  color: var(--xr-font-color3);\n",
       "}\n",
       "\n",
       ".xr-array-preview,\n",
       ".xr-array-data {\n",
       "  padding: 0 5px !important;\n",
       "  grid-column: 2;\n",
       "}\n",
       "\n",
       ".xr-array-data,\n",
       ".xr-array-in:checked ~ .xr-array-preview {\n",
       "  display: none;\n",
       "}\n",
       "\n",
       ".xr-array-in:checked ~ .xr-array-data,\n",
       ".xr-array-preview {\n",
       "  display: inline-block;\n",
       "}\n",
       "\n",
       ".xr-dim-list {\n",
       "  display: inline-block !important;\n",
       "  list-style: none;\n",
       "  padding: 0 !important;\n",
       "  margin: 0;\n",
       "}\n",
       "\n",
       ".xr-dim-list li {\n",
       "  display: inline-block;\n",
       "  padding: 0;\n",
       "  margin: 0;\n",
       "}\n",
       "\n",
       ".xr-dim-list:before {\n",
       "  content: '(';\n",
       "}\n",
       "\n",
       ".xr-dim-list:after {\n",
       "  content: ')';\n",
       "}\n",
       "\n",
       ".xr-dim-list li:not(:last-child):after {\n",
       "  content: ',';\n",
       "  padding-right: 5px;\n",
       "}\n",
       "\n",
       ".xr-has-index {\n",
       "  font-weight: bold;\n",
       "}\n",
       "\n",
       ".xr-var-list,\n",
       ".xr-var-item {\n",
       "  display: contents;\n",
       "}\n",
       "\n",
       ".xr-var-item > div,\n",
       ".xr-var-item label,\n",
       ".xr-var-item > .xr-var-name span {\n",
       "  background-color: var(--xr-background-color-row-even);\n",
       "  margin-bottom: 0;\n",
       "}\n",
       "\n",
       ".xr-var-item > .xr-var-name:hover span {\n",
       "  padding-right: 5px;\n",
       "}\n",
       "\n",
       ".xr-var-list > li:nth-child(odd) > div,\n",
       ".xr-var-list > li:nth-child(odd) > label,\n",
       ".xr-var-list > li:nth-child(odd) > .xr-var-name span {\n",
       "  background-color: var(--xr-background-color-row-odd);\n",
       "}\n",
       "\n",
       ".xr-var-name {\n",
       "  grid-column: 1;\n",
       "}\n",
       "\n",
       ".xr-var-dims {\n",
       "  grid-column: 2;\n",
       "}\n",
       "\n",
       ".xr-var-dtype {\n",
       "  grid-column: 3;\n",
       "  text-align: right;\n",
       "  color: var(--xr-font-color2);\n",
       "}\n",
       "\n",
       ".xr-var-preview {\n",
       "  grid-column: 4;\n",
       "}\n",
       "\n",
       ".xr-var-name,\n",
       ".xr-var-dims,\n",
       ".xr-var-dtype,\n",
       ".xr-preview,\n",
       ".xr-attrs dt {\n",
       "  white-space: nowrap;\n",
       "  overflow: hidden;\n",
       "  text-overflow: ellipsis;\n",
       "  padding-right: 10px;\n",
       "}\n",
       "\n",
       ".xr-var-name:hover,\n",
       ".xr-var-dims:hover,\n",
       ".xr-var-dtype:hover,\n",
       ".xr-attrs dt:hover {\n",
       "  overflow: visible;\n",
       "  width: auto;\n",
       "  z-index: 1;\n",
       "}\n",
       "\n",
       ".xr-var-attrs,\n",
       ".xr-var-data {\n",
       "  display: none;\n",
       "  background-color: var(--xr-background-color) !important;\n",
       "  padding-bottom: 5px !important;\n",
       "}\n",
       "\n",
       ".xr-var-attrs-in:checked ~ .xr-var-attrs,\n",
       ".xr-var-data-in:checked ~ .xr-var-data {\n",
       "  display: block;\n",
       "}\n",
       "\n",
       ".xr-var-data > table {\n",
       "  float: right;\n",
       "}\n",
       "\n",
       ".xr-var-name span,\n",
       ".xr-var-data,\n",
       ".xr-attrs {\n",
       "  padding-left: 25px !important;\n",
       "}\n",
       "\n",
       ".xr-attrs,\n",
       ".xr-var-attrs,\n",
       ".xr-var-data {\n",
       "  grid-column: 1 / -1;\n",
       "}\n",
       "\n",
       "dl.xr-attrs {\n",
       "  padding: 0;\n",
       "  margin: 0;\n",
       "  display: grid;\n",
       "  grid-template-columns: 125px auto;\n",
       "}\n",
       "\n",
       ".xr-attrs dt,\n",
       ".xr-attrs dd {\n",
       "  padding: 0;\n",
       "  margin: 0;\n",
       "  float: left;\n",
       "  padding-right: 10px;\n",
       "  width: auto;\n",
       "}\n",
       "\n",
       ".xr-attrs dt {\n",
       "  font-weight: normal;\n",
       "  grid-column: 1;\n",
       "}\n",
       "\n",
       ".xr-attrs dt:hover span {\n",
       "  display: inline-block;\n",
       "  background: var(--xr-background-color);\n",
       "  padding-right: 10px;\n",
       "}\n",
       "\n",
       ".xr-attrs dd {\n",
       "  grid-column: 2;\n",
       "  white-space: pre-wrap;\n",
       "  word-break: break-all;\n",
       "}\n",
       "\n",
       ".xr-icon-database,\n",
       ".xr-icon-file-text2 {\n",
       "  display: inline-block;\n",
       "  vertical-align: middle;\n",
       "  width: 1em;\n",
       "  height: 1.5em !important;\n",
       "  stroke-width: 0;\n",
       "  stroke: currentColor;\n",
       "  fill: currentColor;\n",
       "}\n",
       "</style><pre class='xr-text-repr-fallback'>&lt;TimeSeries (DataArray) (time: 1023, component: 1, sample: 1)&gt;\n",
       "array([[[  957.18539436]],\n",
       "\n",
       "       [[  966.5132647 ]],\n",
       "\n",
       "       [[  963.41074717]],\n",
       "\n",
       "       ...,\n",
       "\n",
       "       [[11229.54749919]],\n",
       "\n",
       "       [[11045.74662058]],\n",
       "\n",
       "       [[10991.89545634]]])\n",
       "Coordinates:\n",
       "  * time       (time) datetime64[ns] 2016-03-22 2016-03-23 ... 2019-01-08\n",
       "  * component  (component) object &#x27;0&#x27;\n",
       "Dimensions without coordinates: sample</pre><div class='xr-wrap' hidden><div class='xr-header'><div class='xr-obj-type'>TimeSeries (DataArray)</div><div class='xr-array-name'></div><ul class='xr-dim-list'><li><span class='xr-has-index'>time</span>: 1023</li><li><span class='xr-has-index'>component</span>: 1</li><li><span>sample</span>: 1</li></ul></div><ul class='xr-sections'><li class='xr-section-item'><div class='xr-array-wrap'><input id='section-42fdfdfe-6e11-4513-a0aa-d0618a7c54a2' class='xr-array-in' type='checkbox' checked><label for='section-42fdfdfe-6e11-4513-a0aa-d0618a7c54a2' title='Show/hide data repr'><svg class='icon xr-icon-database'><use xlink:href='#icon-database'></use></svg></label><div class='xr-array-preview xr-preview'><span>957.2 966.5 963.4 969.4 ... 1.133e+04 1.123e+04 1.105e+04 1.099e+04</span></div><div class='xr-array-data'><pre>array([[[  957.18539436]],\n",
       "\n",
       "       [[  966.5132647 ]],\n",
       "\n",
       "       [[  963.41074717]],\n",
       "\n",
       "       ...,\n",
       "\n",
       "       [[11229.54749919]],\n",
       "\n",
       "       [[11045.74662058]],\n",
       "\n",
       "       [[10991.89545634]]])</pre></div></div></li><li class='xr-section-item'><input id='section-4ef405cb-c2ec-45d9-97da-c3a20463ce65' class='xr-section-summary-in' type='checkbox'  checked><label for='section-4ef405cb-c2ec-45d9-97da-c3a20463ce65' class='xr-section-summary' >Coordinates: <span>(2)</span></label><div class='xr-section-inline-details'></div><div class='xr-section-details'><ul class='xr-var-list'><li class='xr-var-item'><div class='xr-var-name'><span class='xr-has-index'>time</span></div><div class='xr-var-dims'>(time)</div><div class='xr-var-dtype'>datetime64[ns]</div><div class='xr-var-preview xr-preview'>2016-03-22 ... 2019-01-08</div><input id='attrs-507d63b2-bfcb-4a73-94ba-669a9a41df9e' class='xr-var-attrs-in' type='checkbox' disabled><label for='attrs-507d63b2-bfcb-4a73-94ba-669a9a41df9e' title='Show/Hide attributes'><svg class='icon xr-icon-file-text2'><use xlink:href='#icon-file-text2'></use></svg></label><input id='data-f112d5a4-43ed-4b33-8acd-402cc4d8deff' class='xr-var-data-in' type='checkbox'><label for='data-f112d5a4-43ed-4b33-8acd-402cc4d8deff' title='Show/Hide data repr'><svg class='icon xr-icon-database'><use xlink:href='#icon-database'></use></svg></label><div class='xr-var-attrs'><dl class='xr-attrs'></dl></div><div class='xr-var-data'><pre>array([&#x27;2016-03-22T00:00:00.000000000&#x27;, &#x27;2016-03-23T00:00:00.000000000&#x27;,\n",
       "       &#x27;2016-03-24T00:00:00.000000000&#x27;, ..., &#x27;2019-01-06T00:00:00.000000000&#x27;,\n",
       "       &#x27;2019-01-07T00:00:00.000000000&#x27;, &#x27;2019-01-08T00:00:00.000000000&#x27;],\n",
       "      dtype=&#x27;datetime64[ns]&#x27;)</pre></div></li><li class='xr-var-item'><div class='xr-var-name'><span class='xr-has-index'>component</span></div><div class='xr-var-dims'>(component)</div><div class='xr-var-dtype'>object</div><div class='xr-var-preview xr-preview'>&#x27;0&#x27;</div><input id='attrs-2b5925a7-e436-42eb-8280-15f2935f2341' class='xr-var-attrs-in' type='checkbox' disabled><label for='attrs-2b5925a7-e436-42eb-8280-15f2935f2341' title='Show/Hide attributes'><svg class='icon xr-icon-file-text2'><use xlink:href='#icon-file-text2'></use></svg></label><input id='data-fea1f44f-5291-4ffd-8de7-a8e5f61b5e6a' class='xr-var-data-in' type='checkbox'><label for='data-fea1f44f-5291-4ffd-8de7-a8e5f61b5e6a' title='Show/Hide data repr'><svg class='icon xr-icon-database'><use xlink:href='#icon-database'></use></svg></label><div class='xr-var-attrs'><dl class='xr-attrs'></dl></div><div class='xr-var-data'><pre>array([&#x27;0&#x27;], dtype=object)</pre></div></li></ul></div></li><li class='xr-section-item'><input id='section-6129405a-fbbe-4544-a450-d924e44f792b' class='xr-section-summary-in' type='checkbox' disabled ><label for='section-6129405a-fbbe-4544-a450-d924e44f792b' class='xr-section-summary'  title='Expand/collapse section'>Attributes: <span>(0)</span></label><div class='xr-section-inline-details'></div><div class='xr-section-details'><dl class='xr-attrs'></dl></div></li></ul></div></div>"
      ],
      "text/plain": [
       "<TimeSeries (DataArray) (time: 1023, component: 1, sample: 1)>\n",
       "array([[[  957.18539436]],\n",
       "\n",
       "       [[  966.5132647 ]],\n",
       "\n",
       "       [[  963.41074717]],\n",
       "\n",
       "       ...,\n",
       "\n",
       "       [[11229.54749919]],\n",
       "\n",
       "       [[11045.74662058]],\n",
       "\n",
       "       [[10991.89545634]]])\n",
       "Coordinates:\n",
       "  * time       (time) datetime64[ns] 2016-03-22 2016-03-23 ... 2019-01-08\n",
       "  * component  (component) object '0'\n",
       "Dimensions without coordinates: sample"
      ]
     },
     "execution_count": 451,
     "metadata": {},
     "output_type": "execute_result"
    }
   ],
   "source": [
    "close_transformer.inverse_transform(backtest_cov)"
   ]
  },
  {
   "cell_type": "code",
   "execution_count": null,
   "metadata": {},
   "outputs": [],
   "source": []
  },
  {
   "cell_type": "markdown",
   "metadata": {},
   "source": [
    "## Working on a strategy"
   ]
  },
  {
   "cell_type": "code",
   "execution_count": 14,
   "metadata": {},
   "outputs": [],
   "source": [
    "# create a new column in the DataFrame to hold positions information\n",
    "price_df['Position'] = None\n",
    "\n",
    "# fill our position column based on the following rules:\n",
    "#     * set to short (-1) when the price hits the upper band\n",
    "#     * set to long (1) when it hits the lower band       \n",
    "mode = 'open'\n",
    "for index in range(len(price_df)):\n",
    "    if index == 0:\n",
    "        continue\n",
    "\n",
    "    row = price_df.iloc[index]\n",
    "    prev_row = price_df.iloc[index - 1]\n",
    "\n",
    "    # long?\n",
    "    if mode == 'open' and row['close'] < row['Bollinger Low'] and prev_row['close'] > prev_row['Bollinger Low']:\n",
    "        price_df.iloc[index, price_df.columns.get_loc('Position')] = 1\n",
    "        mode = 'close'\n",
    "\n",
    "    # short?\n",
    "    if mode == 'close' and row['close'] > row['Bollinger High'] and prev_row['close'] < prev_row['Bollinger High']:\n",
    "        price_df.iloc[index, price_df.columns.get_loc('Position')] = -1\n",
    "        mode = 'open'"
   ]
  },
  {
   "cell_type": "code",
   "execution_count": 15,
   "metadata": {},
   "outputs": [
    {
     "data": {
      "text/html": [
       "<div>\n",
       "<style scoped>\n",
       "    .dataframe tbody tr th:only-of-type {\n",
       "        vertical-align: middle;\n",
       "    }\n",
       "\n",
       "    .dataframe tbody tr th {\n",
       "        vertical-align: top;\n",
       "    }\n",
       "\n",
       "    .dataframe thead th {\n",
       "        text-align: right;\n",
       "    }\n",
       "</style>\n",
       "<table border=\"1\" class=\"dataframe\">\n",
       "  <thead>\n",
       "    <tr style=\"text-align: right;\">\n",
       "      <th></th>\n",
       "      <th>open</th>\n",
       "      <th>high</th>\n",
       "      <th>low</th>\n",
       "      <th>close</th>\n",
       "      <th>Rolling Mean</th>\n",
       "      <th>Bollinger High</th>\n",
       "      <th>Bollinger Low</th>\n",
       "      <th>Position</th>\n",
       "    </tr>\n",
       "    <tr>\n",
       "      <th>datetime</th>\n",
       "      <th></th>\n",
       "      <th></th>\n",
       "      <th></th>\n",
       "      <th></th>\n",
       "      <th></th>\n",
       "      <th></th>\n",
       "      <th></th>\n",
       "      <th></th>\n",
       "    </tr>\n",
       "  </thead>\n",
       "  <tbody>\n",
       "    <tr>\n",
       "      <th>2014-12-12</th>\n",
       "      <td>350.40</td>\n",
       "      <td>5000.00</td>\n",
       "      <td>314.75</td>\n",
       "      <td>336.24</td>\n",
       "      <td>578.86855</td>\n",
       "      <td>804.255574</td>\n",
       "      <td>353.481526</td>\n",
       "      <td>1</td>\n",
       "    </tr>\n",
       "    <tr>\n",
       "      <th>2015-05-31</th>\n",
       "      <td>248.43</td>\n",
       "      <td>927.64</td>\n",
       "      <td>195.76</td>\n",
       "      <td>511.95</td>\n",
       "      <td>326.14610</td>\n",
       "      <td>450.390794</td>\n",
       "      <td>201.901406</td>\n",
       "      <td>-1</td>\n",
       "    </tr>\n",
       "    <tr>\n",
       "      <th>2015-09-30</th>\n",
       "      <td>271.56</td>\n",
       "      <td>2617.80</td>\n",
       "      <td>201.41</td>\n",
       "      <td>203.00</td>\n",
       "      <td>303.63670</td>\n",
       "      <td>398.281866</td>\n",
       "      <td>208.991534</td>\n",
       "      <td>1</td>\n",
       "    </tr>\n",
       "    <tr>\n",
       "      <th>2015-10-03</th>\n",
       "      <td>248.57</td>\n",
       "      <td>2617.80</td>\n",
       "      <td>191.87</td>\n",
       "      <td>407.83</td>\n",
       "      <td>302.90670</td>\n",
       "      <td>397.546825</td>\n",
       "      <td>208.266575</td>\n",
       "      <td>-1</td>\n",
       "    </tr>\n",
       "    <tr>\n",
       "      <th>2018-11-21</th>\n",
       "      <td>6498.87</td>\n",
       "      <td>35999.95</td>\n",
       "      <td>3433.56</td>\n",
       "      <td>4625.66</td>\n",
       "      <td>8346.60400</td>\n",
       "      <td>11162.258646</td>\n",
       "      <td>5530.949354</td>\n",
       "      <td>1</td>\n",
       "    </tr>\n",
       "  </tbody>\n",
       "</table>\n",
       "</div>"
      ],
      "text/plain": [
       "               open      high      low    close  Rolling Mean  Bollinger High  \\\n",
       "datetime                                                                        \n",
       "2014-12-12   350.40   5000.00   314.75   336.24     578.86855      804.255574   \n",
       "2015-05-31   248.43    927.64   195.76   511.95     326.14610      450.390794   \n",
       "2015-09-30   271.56   2617.80   201.41   203.00     303.63670      398.281866   \n",
       "2015-10-03   248.57   2617.80   191.87   407.83     302.90670      397.546825   \n",
       "2018-11-21  6498.87  35999.95  3433.56  4625.66    8346.60400    11162.258646   \n",
       "\n",
       "            Bollinger Low Position  \n",
       "datetime                            \n",
       "2014-12-12     353.481526        1  \n",
       "2015-05-31     201.901406       -1  \n",
       "2015-09-30     208.991534        1  \n",
       "2015-10-03     208.266575       -1  \n",
       "2018-11-21    5530.949354        1  "
      ]
     },
     "execution_count": 15,
     "metadata": {},
     "output_type": "execute_result"
    }
   ],
   "source": [
    "price_df.dropna(subset=['Position'])\n"
   ]
  },
  {
   "cell_type": "markdown",
   "metadata": {},
   "source": [
    "## Visualize position"
   ]
  },
  {
   "cell_type": "code",
   "execution_count": 16,
   "metadata": {},
   "outputs": [
    {
     "data": {
      "image/png": "[encoded data removed]",
      "text/plain": [
       "<Figure size 1008x504 with 1 Axes>"
      ]
     },
     "metadata": {
      "needs_background": "light"
     },
     "output_type": "display_data"
    }
   ],
   "source": [
    "\n",
    "price_df[price_df.index > '2018-01-01'][['close', 'Rolling Mean', 'Bollinger High','Bollinger Low']].plot(figsize=(14, 7))\n",
    "\n",
    "for index, pos in price_df[price_df.index > '2018-01-01'].dropna(subset=['Position'])['Position'].iteritems():\n",
    "    plt.axvline(index, color='green' if pos == 1 else 'red')"
   ]
  },
  {
   "cell_type": "markdown",
   "metadata": {},
   "source": []
  },
  {
   "cell_type": "code",
   "execution_count": 102,
   "metadata": {},
   "outputs": [
    {
     "data": {
      "text/plain": [
       "<AxesSubplot:xlabel='datetime'>"
      ]
     },
     "execution_count": 102,
     "metadata": {},
     "output_type": "execute_result"
    },
    {
     "data": {
      "image/png": "[encoded data removed]",
      "text/plain": [
       "<Figure size 1008x504 with 1 Axes>"
      ]
     },
     "metadata": {
      "needs_background": "light"
     },
     "output_type": "display_data"
    }
   ],
   "source": [
    "# forward fill our Position column to replace \"None\" values with the correct buy/sell \n",
    "# operations to represent the \"holding\" of our position forward through time\n",
    "# price_df.dropna(inplace=True)\n",
    "price_df['Position'].fillna(method='ffill', inplace=True)\n",
    "\n",
    "# calculate the daily market return and multiply that by the position to determine strategy returns\n",
    "price_df['Market Return'] = price_df['close'].pct_change()\n",
    "price_df['Strategy Return'] = price_df['Market Return'] * price_df['Position']\n",
    "\n",
    "# plot the strategy returns\n",
    "price_df['Strategy Return'].cumsum().plot(figsize=(14, 7))"
   ]
  },
  {
   "cell_type": "code",
   "execution_count": 18,
   "metadata": {},
   "outputs": [
    {
     "data": {
      "text/html": [
       "<div>\n",
       "<style scoped>\n",
       "    .dataframe tbody tr th:only-of-type {\n",
       "        vertical-align: middle;\n",
       "    }\n",
       "\n",
       "    .dataframe tbody tr th {\n",
       "        vertical-align: top;\n",
       "    }\n",
       "\n",
       "    .dataframe thead th {\n",
       "        text-align: right;\n",
       "    }\n",
       "</style>\n",
       "<table border=\"1\" class=\"dataframe\">\n",
       "  <thead>\n",
       "    <tr style=\"text-align: right;\">\n",
       "      <th></th>\n",
       "      <th>open</th>\n",
       "      <th>high</th>\n",
       "      <th>low</th>\n",
       "      <th>close</th>\n",
       "      <th>Rolling Mean</th>\n",
       "      <th>Bollinger High</th>\n",
       "      <th>Bollinger Low</th>\n",
       "      <th>Position</th>\n",
       "      <th>Market Return</th>\n",
       "      <th>Strategy Return</th>\n",
       "    </tr>\n",
       "    <tr>\n",
       "      <th>datetime</th>\n",
       "      <th></th>\n",
       "      <th></th>\n",
       "      <th></th>\n",
       "      <th></th>\n",
       "      <th></th>\n",
       "      <th></th>\n",
       "      <th></th>\n",
       "      <th></th>\n",
       "      <th></th>\n",
       "      <th></th>\n",
       "    </tr>\n",
       "  </thead>\n",
       "  <tbody>\n",
       "    <tr>\n",
       "      <th>2013-09-26</th>\n",
       "      <td>131.95</td>\n",
       "      <td>194.76</td>\n",
       "      <td>98.75</td>\n",
       "      <td>145.11</td>\n",
       "      <td>119.20890</td>\n",
       "      <td>164.312202</td>\n",
       "      <td>74.105598</td>\n",
       "      <td>NaN</td>\n",
       "      <td>NaN</td>\n",
       "      <td>NaN</td>\n",
       "    </tr>\n",
       "    <tr>\n",
       "      <th>2013-09-27</th>\n",
       "      <td>148.90</td>\n",
       "      <td>190.11</td>\n",
       "      <td>115.07</td>\n",
       "      <td>129.57</td>\n",
       "      <td>119.49675</td>\n",
       "      <td>164.331286</td>\n",
       "      <td>74.662214</td>\n",
       "      <td>NaN</td>\n",
       "      <td>-0.107091</td>\n",
       "      <td>NaN</td>\n",
       "    </tr>\n",
       "    <tr>\n",
       "      <th>2013-09-28</th>\n",
       "      <td>129.81</td>\n",
       "      <td>190.32</td>\n",
       "      <td>101.51</td>\n",
       "      <td>146.22</td>\n",
       "      <td>119.88890</td>\n",
       "      <td>164.471780</td>\n",
       "      <td>75.306020</td>\n",
       "      <td>NaN</td>\n",
       "      <td>0.128502</td>\n",
       "      <td>NaN</td>\n",
       "    </tr>\n",
       "    <tr>\n",
       "      <th>2013-09-29</th>\n",
       "      <td>134.18</td>\n",
       "      <td>254.00</td>\n",
       "      <td>114.30</td>\n",
       "      <td>150.18</td>\n",
       "      <td>120.43980</td>\n",
       "      <td>164.316448</td>\n",
       "      <td>76.563152</td>\n",
       "      <td>NaN</td>\n",
       "      <td>0.027082</td>\n",
       "      <td>NaN</td>\n",
       "    </tr>\n",
       "    <tr>\n",
       "      <th>2013-09-30</th>\n",
       "      <td>135.19</td>\n",
       "      <td>201.75</td>\n",
       "      <td>118.33</td>\n",
       "      <td>134.82</td>\n",
       "      <td>120.86215</td>\n",
       "      <td>164.123573</td>\n",
       "      <td>77.600727</td>\n",
       "      <td>NaN</td>\n",
       "      <td>-0.102277</td>\n",
       "      <td>NaN</td>\n",
       "    </tr>\n",
       "    <tr>\n",
       "      <th>...</th>\n",
       "      <td>...</td>\n",
       "      <td>...</td>\n",
       "      <td>...</td>\n",
       "      <td>...</td>\n",
       "      <td>...</td>\n",
       "      <td>...</td>\n",
       "      <td>...</td>\n",
       "      <td>...</td>\n",
       "      <td>...</td>\n",
       "      <td>...</td>\n",
       "    </tr>\n",
       "    <tr>\n",
       "      <th>2019-01-04</th>\n",
       "      <td>4160.00</td>\n",
       "      <td>17765.86</td>\n",
       "      <td>3039.91</td>\n",
       "      <td>4253.74</td>\n",
       "      <td>7299.61170</td>\n",
       "      <td>10505.638173</td>\n",
       "      <td>4093.585227</td>\n",
       "      <td>1.0</td>\n",
       "      <td>-0.250396</td>\n",
       "      <td>-0.250396</td>\n",
       "    </tr>\n",
       "    <tr>\n",
       "      <th>2019-01-05</th>\n",
       "      <td>4193.63</td>\n",
       "      <td>49922.62</td>\n",
       "      <td>3103.20</td>\n",
       "      <td>5656.52</td>\n",
       "      <td>7284.80430</td>\n",
       "      <td>10492.448657</td>\n",
       "      <td>4077.159943</td>\n",
       "      <td>1.0</td>\n",
       "      <td>0.329776</td>\n",
       "      <td>0.329776</td>\n",
       "    </tr>\n",
       "    <tr>\n",
       "      <th>2019-01-06</th>\n",
       "      <td>5060.00</td>\n",
       "      <td>45000.45</td>\n",
       "      <td>3230.35</td>\n",
       "      <td>6065.13</td>\n",
       "      <td>7283.01505</td>\n",
       "      <td>10491.970786</td>\n",
       "      <td>4074.059314</td>\n",
       "      <td>1.0</td>\n",
       "      <td>0.072237</td>\n",
       "      <td>0.072237</td>\n",
       "    </tr>\n",
       "    <tr>\n",
       "      <th>2019-01-07</th>\n",
       "      <td>4400.00</td>\n",
       "      <td>29961.20</td>\n",
       "      <td>3033.37</td>\n",
       "      <td>7982.54</td>\n",
       "      <td>7288.02690</td>\n",
       "      <td>10497.674205</td>\n",
       "      <td>4078.379595</td>\n",
       "      <td>1.0</td>\n",
       "      <td>0.316137</td>\n",
       "      <td>0.316137</td>\n",
       "    </tr>\n",
       "    <tr>\n",
       "      <th>2019-01-08</th>\n",
       "      <td>4800.00</td>\n",
       "      <td>8957.02</td>\n",
       "      <td>3383.77</td>\n",
       "      <td>4170.85</td>\n",
       "      <td>7279.85015</td>\n",
       "      <td>10502.693746</td>\n",
       "      <td>4057.006554</td>\n",
       "      <td>1.0</td>\n",
       "      <td>-0.477503</td>\n",
       "      <td>-0.477503</td>\n",
       "    </tr>\n",
       "  </tbody>\n",
       "</table>\n",
       "<p>1731 rows × 10 columns</p>\n",
       "</div>"
      ],
      "text/plain": [
       "               open      high      low    close  Rolling Mean  Bollinger High  \\\n",
       "datetime                                                                        \n",
       "2013-09-26   131.95    194.76    98.75   145.11     119.20890      164.312202   \n",
       "2013-09-27   148.90    190.11   115.07   129.57     119.49675      164.331286   \n",
       "2013-09-28   129.81    190.32   101.51   146.22     119.88890      164.471780   \n",
       "2013-09-29   134.18    254.00   114.30   150.18     120.43980      164.316448   \n",
       "2013-09-30   135.19    201.75   118.33   134.82     120.86215      164.123573   \n",
       "...             ...       ...      ...      ...           ...             ...   \n",
       "2019-01-04  4160.00  17765.86  3039.91  4253.74    7299.61170    10505.638173   \n",
       "2019-01-05  4193.63  49922.62  3103.20  5656.52    7284.80430    10492.448657   \n",
       "2019-01-06  5060.00  45000.45  3230.35  6065.13    7283.01505    10491.970786   \n",
       "2019-01-07  4400.00  29961.20  3033.37  7982.54    7288.02690    10497.674205   \n",
       "2019-01-08  4800.00   8957.02  3383.77  4170.85    7279.85015    10502.693746   \n",
       "\n",
       "            Bollinger Low  Position  Market Return  Strategy Return  \n",
       "datetime                                                             \n",
       "2013-09-26      74.105598       NaN            NaN              NaN  \n",
       "2013-09-27      74.662214       NaN      -0.107091              NaN  \n",
       "2013-09-28      75.306020       NaN       0.128502              NaN  \n",
       "2013-09-29      76.563152       NaN       0.027082              NaN  \n",
       "2013-09-30      77.600727       NaN      -0.102277              NaN  \n",
       "...                   ...       ...            ...              ...  \n",
       "2019-01-04    4093.585227       1.0      -0.250396        -0.250396  \n",
       "2019-01-05    4077.159943       1.0       0.329776         0.329776  \n",
       "2019-01-06    4074.059314       1.0       0.072237         0.072237  \n",
       "2019-01-07    4078.379595       1.0       0.316137         0.316137  \n",
       "2019-01-08    4057.006554       1.0      -0.477503        -0.477503  \n",
       "\n",
       "[1731 rows x 10 columns]"
      ]
     },
     "execution_count": 18,
     "metadata": {},
     "output_type": "execute_result"
    }
   ],
   "source": [
    "price_df"
   ]
  },
  {
   "cell_type": "code",
   "execution_count": null,
   "metadata": {},
   "outputs": [],
   "source": []
  },
  {
   "cell_type": "markdown",
   "metadata": {},
   "source": [
    "# Finding a better configuration¶\n"
   ]
  },
  {
   "cell_type": "code",
   "execution_count": 549,
   "metadata": {},
   "outputs": [
    {
     "data": {
      "text/html": [
       "<div>\n",
       "<style scoped>\n",
       "    .dataframe tbody tr th:only-of-type {\n",
       "        vertical-align: middle;\n",
       "    }\n",
       "\n",
       "    .dataframe tbody tr th {\n",
       "        vertical-align: top;\n",
       "    }\n",
       "\n",
       "    .dataframe thead th {\n",
       "        text-align: right;\n",
       "    }\n",
       "</style>\n",
       "<table border=\"1\" class=\"dataframe\">\n",
       "  <thead>\n",
       "    <tr style=\"text-align: right;\">\n",
       "      <th></th>\n",
       "      <th>open</th>\n",
       "      <th>high</th>\n",
       "      <th>low</th>\n",
       "      <th>close</th>\n",
       "      <th>Rolling Mean</th>\n",
       "      <th>Bollinger High</th>\n",
       "      <th>Bollinger Low</th>\n",
       "    </tr>\n",
       "    <tr>\n",
       "      <th>datetime</th>\n",
       "      <th></th>\n",
       "      <th></th>\n",
       "      <th></th>\n",
       "      <th></th>\n",
       "      <th></th>\n",
       "      <th></th>\n",
       "      <th></th>\n",
       "    </tr>\n",
       "  </thead>\n",
       "  <tbody>\n",
       "    <tr>\n",
       "      <th>2015-01-02</th>\n",
       "      <td>791.14</td>\n",
       "      <td>1262.63</td>\n",
       "      <td>277.40</td>\n",
       "      <td>334.22</td>\n",
       "      <td>423.651167</td>\n",
       "      <td>532.997706</td>\n",
       "      <td>314.304628</td>\n",
       "    </tr>\n",
       "    <tr>\n",
       "      <th>2015-01-03</th>\n",
       "      <td>367.34</td>\n",
       "      <td>1206.43</td>\n",
       "      <td>263.71</td>\n",
       "      <td>349.00</td>\n",
       "      <td>423.101667</td>\n",
       "      <td>533.111861</td>\n",
       "      <td>313.091472</td>\n",
       "    </tr>\n",
       "    <tr>\n",
       "      <th>2015-01-04</th>\n",
       "      <td>367.38</td>\n",
       "      <td>1200.48</td>\n",
       "      <td>234.51</td>\n",
       "      <td>374.64</td>\n",
       "      <td>422.618500</td>\n",
       "      <td>532.967095</td>\n",
       "      <td>312.269905</td>\n",
       "    </tr>\n",
       "    <tr>\n",
       "      <th>2015-01-05</th>\n",
       "      <td>290.36</td>\n",
       "      <td>1199.76</td>\n",
       "      <td>180.49</td>\n",
       "      <td>293.00</td>\n",
       "      <td>420.663333</td>\n",
       "      <td>533.813687</td>\n",
       "      <td>307.512980</td>\n",
       "    </tr>\n",
       "    <tr>\n",
       "      <th>2015-01-06</th>\n",
       "      <td>255.54</td>\n",
       "      <td>1960.78</td>\n",
       "      <td>235.44</td>\n",
       "      <td>346.19</td>\n",
       "      <td>415.600167</td>\n",
       "      <td>520.244573</td>\n",
       "      <td>310.955760</td>\n",
       "    </tr>\n",
       "    <tr>\n",
       "      <th>...</th>\n",
       "      <td>...</td>\n",
       "      <td>...</td>\n",
       "      <td>...</td>\n",
       "      <td>...</td>\n",
       "      <td>...</td>\n",
       "      <td>...</td>\n",
       "      <td>...</td>\n",
       "    </tr>\n",
       "    <tr>\n",
       "      <th>2019-01-04</th>\n",
       "      <td>4160.00</td>\n",
       "      <td>17765.86</td>\n",
       "      <td>3039.91</td>\n",
       "      <td>4253.74</td>\n",
       "      <td>5215.888833</td>\n",
       "      <td>7754.694356</td>\n",
       "      <td>2677.083311</td>\n",
       "    </tr>\n",
       "    <tr>\n",
       "      <th>2019-01-05</th>\n",
       "      <td>4193.63</td>\n",
       "      <td>49922.62</td>\n",
       "      <td>3103.20</td>\n",
       "      <td>5656.52</td>\n",
       "      <td>5138.482667</td>\n",
       "      <td>7473.680047</td>\n",
       "      <td>2803.285286</td>\n",
       "    </tr>\n",
       "    <tr>\n",
       "      <th>2019-01-06</th>\n",
       "      <td>5060.00</td>\n",
       "      <td>45000.45</td>\n",
       "      <td>3230.35</td>\n",
       "      <td>6065.13</td>\n",
       "      <td>5135.433000</td>\n",
       "      <td>7467.581429</td>\n",
       "      <td>2803.284571</td>\n",
       "    </tr>\n",
       "    <tr>\n",
       "      <th>2019-01-07</th>\n",
       "      <td>4400.00</td>\n",
       "      <td>29961.20</td>\n",
       "      <td>3033.37</td>\n",
       "      <td>7982.54</td>\n",
       "      <td>5027.694333</td>\n",
       "      <td>6581.729868</td>\n",
       "      <td>3473.658799</td>\n",
       "    </tr>\n",
       "    <tr>\n",
       "      <th>2019-01-08</th>\n",
       "      <td>4800.00</td>\n",
       "      <td>8957.02</td>\n",
       "      <td>3383.77</td>\n",
       "      <td>4170.85</td>\n",
       "      <td>4987.658333</td>\n",
       "      <td>6520.071297</td>\n",
       "      <td>3455.245370</td>\n",
       "    </tr>\n",
       "  </tbody>\n",
       "</table>\n",
       "<p>1468 rows × 7 columns</p>\n",
       "</div>"
      ],
      "text/plain": [
       "               open      high      low    close  Rolling Mean  Bollinger High  \\\n",
       "datetime                                                                        \n",
       "2015-01-02   791.14   1262.63   277.40   334.22    423.651167      532.997706   \n",
       "2015-01-03   367.34   1206.43   263.71   349.00    423.101667      533.111861   \n",
       "2015-01-04   367.38   1200.48   234.51   374.64    422.618500      532.967095   \n",
       "2015-01-05   290.36   1199.76   180.49   293.00    420.663333      533.813687   \n",
       "2015-01-06   255.54   1960.78   235.44   346.19    415.600167      520.244573   \n",
       "...             ...       ...      ...      ...           ...             ...   \n",
       "2019-01-04  4160.00  17765.86  3039.91  4253.74   5215.888833     7754.694356   \n",
       "2019-01-05  4193.63  49922.62  3103.20  5656.52   5138.482667     7473.680047   \n",
       "2019-01-06  5060.00  45000.45  3230.35  6065.13   5135.433000     7467.581429   \n",
       "2019-01-07  4400.00  29961.20  3033.37  7982.54   5027.694333     6581.729868   \n",
       "2019-01-08  4800.00   8957.02  3383.77  4170.85   4987.658333     6520.071297   \n",
       "\n",
       "            Bollinger Low  \n",
       "datetime                   \n",
       "2015-01-02     314.304628  \n",
       "2015-01-03     313.091472  \n",
       "2015-01-04     312.269905  \n",
       "2015-01-05     307.512980  \n",
       "2015-01-06     310.955760  \n",
       "...                   ...  \n",
       "2019-01-04    2677.083311  \n",
       "2019-01-05    2803.285286  \n",
       "2019-01-06    2803.284571  \n",
       "2019-01-07    3473.658799  \n",
       "2019-01-08    3455.245370  \n",
       "\n",
       "[1468 rows x 7 columns]"
      ]
     },
     "execution_count": 549,
     "metadata": {},
     "output_type": "execute_result"
    }
   ],
   "source": [
    "price_df"
   ]
  },
  {
   "cell_type": "code",
   "execution_count": 650,
   "metadata": {},
   "outputs": [],
   "source": [
    "class BollingerBandsSimulator:\n",
    "\n",
    "    def __init__(self, df_original, from_date, period, window, no_of_std, figsize=None):\n",
    "        self.df = df_original\n",
    "        self.from_date = from_date\n",
    "        self.period = period\n",
    "        self.window = window\n",
    "        self.no_of_std = no_of_std\n",
    "        self.figsize = figsize\n",
    "        \n",
    "        self.ml_model = None\n",
    "\n",
    "        \n",
    "        \n",
    "    def _scale_time_series(self, input_df, train_cols=['open', 'high', 'low'], pred_col ='close'):\n",
    "        ts_transformers = {}\n",
    "        ts_stacked_series = None\n",
    "        train_series = None\n",
    "        for col  in train_cols:\n",
    "            transformer = Scaler()\n",
    "            transformed_series = transformer.fit_transform(fill_missing_values(TimeSeries.from_series(input_df[col],  freq='D')))\n",
    "            ts_transformers[col] = transformer    \n",
    "\n",
    "            if ts_stacked_series:\n",
    "                ts_stacked_series = ts_stacked_series.stack(transformed_series)\n",
    "\n",
    "            else:\n",
    "                ts_stacked_series = transformed_series\n",
    "             \n",
    "        transformer = Scaler()\n",
    "        train_close_series = transformer.fit_transform(fill_missing_values(TimeSeries.from_series(input_df[pred_col],  freq='D')))\n",
    "        ts_transformers[pred_col] = transformer    \n",
    "            \n",
    "\n",
    "        return ts_transformers, ts_stacked_series, train_close_series\n",
    "    \n",
    "    def __check_ml_prediction(self, end_time, input_chunk_length=30, output_chunk_length=7, epochs=2) -> float:\n",
    "        \"\"\"train ML model to predict price movement over the next 7 days\"\"\"\n",
    "        \n",
    "        if not self.ml_model: # define model once, retrain incrementally\n",
    "            self.ml_model = NBEATSModel(input_chunk_length=input_chunk_length, \n",
    "                                      output_chunk_length=output_chunk_length, n_epochs=epochs, random_state=0)\n",
    "\n",
    "        training_df = self.df[self.df.index <= pd.to_datetime(end_time)]\n",
    "        \n",
    "        ts_transformers, ts_stacked_series, train_close_series = self._scale_time_series(training_df)\n",
    "        \n",
    "\n",
    "        # maybe add these in later\n",
    "        \n",
    "#         mean_series = fill_missing_values(TimeSeries.from_series(price_df['Rolling Mean'],  freq='D'))\n",
    "#         bh_series = fill_missing_values(TimeSeries.from_series(price_df['Bollinger High'],  freq='D'))\n",
    "#         bl_series = fill_missing_values(TimeSeries.from_series(price_df['Bollinger High'],  freq='D'))\n",
    "\n",
    "        # train the model\n",
    "        self.ml_model.fit(series = train_close_series, past_covariates = [ts_stacked_series],  verbose=True)\n",
    "\n",
    "        \n",
    "        plt.show()\n",
    "        pred_close = self.ml_model.predict(n=output_chunk_length, \n",
    "                                                 series=train_close_series, past_covariates = [ts_stacked_series])\n",
    "        \n",
    "        return close_transformer.inverse_transform(pred_close).last_value()\n",
    "        \n",
    "    \n",
    "    def _build_candles_dataframe(self):\n",
    "        self.df = self.df.loc[self.from_date:, [\"price\"]].copy()\n",
    "        self.df = self.df[\"price\"].resample(self.period).ohlc()\n",
    "                \n",
    "    def _build_bollinger_bands(self):\n",
    "        rolling_mean = self.df['close'].rolling(self.window).mean()\n",
    "        rolling_std = self.df['close'].rolling(self.window).std()\n",
    "\n",
    "        self.df['Rolling Mean'] = rolling_mean\n",
    "        self.df['Bollinger High'] = rolling_mean + (rolling_std * self.no_of_std)\n",
    "        self.df['Bollinger Low'] = rolling_mean - (rolling_std * self.no_of_std)\n",
    "\n",
    "    def _calculate_positions(self):\n",
    "        self.df['Position'] = None\n",
    "        self.df['Mode'] = None\n",
    "        self.number_of_trades = 0\n",
    "        buy_has_crossed_mean = False\n",
    "        short_has_crossed_mean = False\n",
    "\n",
    "\n",
    "        mode = 'no_position'\n",
    "        \n",
    "        for index in range(len(self.df)):\n",
    "            if index == 0:\n",
    "                self.df.iloc[index, self.df.columns.get_loc('Mode')] =  mode\n",
    "                continue\n",
    "\n",
    "            row = self.df.iloc[index]\n",
    "            prev_row = self.df.iloc[index - 1]\n",
    "                                                           \n",
    "            \n",
    "            # get out of position if price crosses mean\n",
    "            # (if mode == 'open' or mode == 'no_position' ) and \n",
    "            if mode == 'buy'  and row['close'] > row['Rolling Mean']:\n",
    "                buy_has_crossed_mean = True\n",
    "                \n",
    "            if mode == 'short'  and row['close'] < row['Rolling Mean']:\n",
    "                short_has_crossed_mean = True\n",
    "\n",
    "            # open -> no_position? no position is below running mean\n",
    "            if mode == 'buy'  and row['close'] < row['Rolling Mean'] and buy_has_crossed_mean:\n",
    "                self.df.iloc[index, self.df.columns.get_loc('Position')] = 1\n",
    "                self.df.iloc[index + 1, self.df.columns.get_loc('Position')] = 0 # for pct change it does a ffilll. ffill with zeros\n",
    "                self.df.iloc[index, self.df.columns.get_loc('Mode')] = 'buy_to_no_position'\n",
    "                self.number_of_trades  +=1\n",
    "                mode = 'no_position'\n",
    "                buy_has_crossed_mean = False\n",
    "            \n",
    "            # close -> no_position? no position if above running mean\n",
    "            elif mode == 'short'  and row['close'] > row['Rolling Mean'] and short_has_crossed_mean:\n",
    "                self.df.iloc[index, self.df.columns.get_loc('Position')] = -1\n",
    "                self.df.iloc[index + 1, self.df.columns.get_loc('Position')] = 0 # for pct change it does a ffilll. ffill with zeros\n",
    "                self.df.iloc[index, self.df.columns.get_loc('Mode')] = 'short_to_no_position'\n",
    "                self.number_of_trades  +=1\n",
    "                mode = 'no_position'\n",
    "                short_has_crossed_mean = False\n",
    "\n",
    "            # buy check with ML model\n",
    "            elif mode == 'no_position' and row['close'] < row['Bollinger Low'] and prev_row['close'] > prev_row['Bollinger Low']:\n",
    "                print(self.__check_ml_prediction(row.name), 'ml prediction 7 day')\n",
    "                print(row.name, 'current date')\n",
    "                \n",
    "                \n",
    "                self.df.iloc[index, self.df.columns.get_loc('Position')] = 0 # buy. add one to index so that pct_change works\n",
    "                self.df.iloc[index + 1, self.df.columns.get_loc('Position')] = 1 # buy. add one to index so that pct_change works\n",
    "                self.df.iloc[index, self.df.columns.get_loc('Mode')] = 'buy'\n",
    "                self.number_of_trades  +=1\n",
    "                mode = 'buy'     \n",
    "\n",
    "            # short?\n",
    "            elif mode == 'no_position' and  row['close'] > row['Bollinger High'] and prev_row['close'] < prev_row['Bollinger High']:\n",
    "                print(self.__check_ml_prediction(row.name), 'ml prediction 7 day')\n",
    "                print(row.name, 'current date')\n",
    "                \n",
    "                self.df.iloc[index, self.df.columns.get_loc('Position')] = 0 #  short starts at the end of the day. Calculate pct_change starting tomorrow\n",
    "                self.df.iloc[index + 1, self.df.columns.get_loc('Position')] = -1 #  short starts at the end of the day. Calculate pct_change starting tomorrow\n",
    "                self.df.iloc[index, self.df.columns.get_loc('Mode')] = 'short'\n",
    "                self.number_of_trades  +=1\n",
    "                mode = 'short' \n",
    "                       \n",
    "            else:\n",
    "                self.df.iloc[index, self.df.columns.get_loc('Mode')] = mode\n",
    "        \n",
    "    def _calculate_returns(self):\n",
    "        \n",
    "        self.df['Original Position'] = self.df['Position']\n",
    "        self.df['Position'].fillna(method='ffill', inplace=True)\n",
    "        self.df['Market Return'] = self.df['close'].pct_change()\n",
    "        self.df['Strategy Return'] = self.df['Market Return'] * self.df['Position']\n",
    "\n",
    "    def _plot_returns(self):\n",
    "        self.df['Strategy Return'].cumsum().plot(figsize=self.figsize)\n",
    "        \n",
    "\n",
    "    def simulate(self):\n",
    "        self._build_candles_dataframe()\n",
    "        self._build_bollinger_bands()\n",
    "        self._calculate_positions()\n",
    "        self._calculate_returns()\n",
    "        self._plot_returns()\n",
    "\n",
    "        return (\n",
    "            self.period, \n",
    "            self.window, \n",
    "            self.no_of_std, \n",
    "            self.df['Strategy Return'].sum(),\n",
    "            self.number_of_trades\n",
    "        )"
   ]
  },
  {
   "cell_type": "code",
   "execution_count": 651,
   "metadata": {},
   "outputs": [
    {
     "data": {
      "application/vnd.jupyter.widget-view+json": {
       "model_id": "835cf59d4f0b4fc48a8c8f0949bb57b0",
       "version_major": 2,
       "version_minor": 0
      },
      "text/plain": [
       "  0%|          | 0/2 [00:00<?, ?it/s]"
      ]
     },
     "metadata": {},
     "output_type": "display_data"
    },
    {
     "name": "stdout",
     "output_type": "stream",
     "text": [
      "-970.7792825446085 ml prediction 7 day\n",
      "2017-05-06 00:00:00 current date\n"
     ]
    },
    {
     "data": {
      "application/vnd.jupyter.widget-view+json": {
       "model_id": "c86e4b9ced6044da924b88de16115ca0",
       "version_major": 2,
       "version_minor": 0
      },
      "text/plain": [
       "  0%|          | 0/2 [00:00<?, ?it/s]"
      ]
     },
     "metadata": {},
     "output_type": "display_data"
    },
    {
     "name": "stdout",
     "output_type": "stream",
     "text": [
      "7285.788502395499 ml prediction 7 day\n",
      "2017-07-18 00:00:00 current date\n"
     ]
    },
    {
     "data": {
      "application/vnd.jupyter.widget-view+json": {
       "model_id": "9537da17a763452da7db2378051a3b34",
       "version_major": 2,
       "version_minor": 0
      },
      "text/plain": [
       "  0%|          | 0/2 [00:00<?, ?it/s]"
      ]
     },
     "metadata": {},
     "output_type": "display_data"
    },
    {
     "name": "stdout",
     "output_type": "stream",
     "text": [
      "11890.173018949332 ml prediction 7 day\n",
      "2017-07-22 00:00:00 current date\n"
     ]
    },
    {
     "data": {
      "application/vnd.jupyter.widget-view+json": {
       "model_id": "245356b77d9744f2aaaf53041509826f",
       "version_major": 2,
       "version_minor": 0
      },
      "text/plain": [
       "  0%|          | 0/2 [00:00<?, ?it/s]"
      ]
     },
     "metadata": {},
     "output_type": "display_data"
    },
    {
     "name": "stdout",
     "output_type": "stream",
     "text": [
      "12624.787998509768 ml prediction 7 day\n",
      "2017-08-12 00:00:00 current date\n"
     ]
    },
    {
     "data": {
      "application/vnd.jupyter.widget-view+json": {
       "model_id": "675743697bfd403faf2290ae1015a4d6",
       "version_major": 2,
       "version_minor": 0
      },
      "text/plain": [
       "  0%|          | 0/2 [00:00<?, ?it/s]"
      ]
     },
     "metadata": {},
     "output_type": "display_data"
    },
    {
     "name": "stdout",
     "output_type": "stream",
     "text": [
      "16680.553132973524 ml prediction 7 day\n",
      "2017-09-22 00:00:00 current date\n"
     ]
    },
    {
     "data": {
      "application/vnd.jupyter.widget-view+json": {
       "model_id": "4ec24b7fc1114a3886625502c3cf58b2",
       "version_major": 2,
       "version_minor": 0
      },
      "text/plain": [
       "  0%|          | 0/2 [00:00<?, ?it/s]"
      ]
     },
     "metadata": {},
     "output_type": "display_data"
    },
    {
     "name": "stdout",
     "output_type": "stream",
     "text": [
      "17331.031692217482 ml prediction 7 day\n",
      "2017-10-03 00:00:00 current date\n"
     ]
    },
    {
     "data": {
      "application/vnd.jupyter.widget-view+json": {
       "model_id": "708df6d2004643219b88109a7813fbf7",
       "version_major": 2,
       "version_minor": 0
      },
      "text/plain": [
       "  0%|          | 0/2 [00:00<?, ?it/s]"
      ]
     },
     "metadata": {},
     "output_type": "display_data"
    },
    {
     "name": "stdout",
     "output_type": "stream",
     "text": [
      "20488.0086883485 ml prediction 7 day\n",
      "2017-10-10 00:00:00 current date\n"
     ]
    },
    {
     "data": {
      "application/vnd.jupyter.widget-view+json": {
       "model_id": "cdfa06d47d20477f820f7b97735c26c6",
       "version_major": 2,
       "version_minor": 0
      },
      "text/plain": [
       "  0%|          | 0/2 [00:00<?, ?it/s]"
      ]
     },
     "metadata": {},
     "output_type": "display_data"
    },
    {
     "name": "stdout",
     "output_type": "stream",
     "text": [
      "21798.366248087455 ml prediction 7 day\n",
      "2017-10-24 00:00:00 current date\n"
     ]
    },
    {
     "data": {
      "application/vnd.jupyter.widget-view+json": {
       "model_id": "e884252ba6c047c3909e6d144f3742df",
       "version_major": 2,
       "version_minor": 0
      },
      "text/plain": [
       "  0%|          | 0/2 [00:00<?, ?it/s]"
      ]
     },
     "metadata": {},
     "output_type": "display_data"
    },
    {
     "name": "stdout",
     "output_type": "stream",
     "text": [
      "21511.344252286694 ml prediction 7 day\n",
      "2017-11-15 00:00:00 current date\n"
     ]
    },
    {
     "data": {
      "application/vnd.jupyter.widget-view+json": {
       "model_id": "300691466d794b7fbd8f243d7da163eb",
       "version_major": 2,
       "version_minor": 0
      },
      "text/plain": [
       "  0%|          | 0/2 [00:00<?, ?it/s]"
      ]
     },
     "metadata": {},
     "output_type": "display_data"
    },
    {
     "name": "stdout",
     "output_type": "stream",
     "text": [
      "8897.56551209045 ml prediction 7 day\n",
      "2018-02-18 00:00:00 current date\n"
     ]
    },
    {
     "data": {
      "application/vnd.jupyter.widget-view+json": {
       "model_id": "2c32e2bc78264a47abc870737a78ca38",
       "version_major": 2,
       "version_minor": 0
      },
      "text/plain": [
       "  0%|          | 0/2 [00:00<?, ?it/s]"
      ]
     },
     "metadata": {},
     "output_type": "display_data"
    },
    {
     "name": "stdout",
     "output_type": "stream",
     "text": [
      "9659.452742129175 ml prediction 7 day\n",
      "2018-03-17 00:00:00 current date\n"
     ]
    },
    {
     "data": {
      "application/vnd.jupyter.widget-view+json": {
       "model_id": "5f33a887f32a4f179b961913bf7a68f9",
       "version_major": 2,
       "version_minor": 0
      },
      "text/plain": [
       "  0%|          | 0/2 [00:00<?, ?it/s]"
      ]
     },
     "metadata": {},
     "output_type": "display_data"
    },
    {
     "name": "stdout",
     "output_type": "stream",
     "text": [
      "8833.779610617445 ml prediction 7 day\n",
      "2018-04-25 00:00:00 current date\n"
     ]
    },
    {
     "data": {
      "application/vnd.jupyter.widget-view+json": {
       "model_id": "15dd2d05e6f740f9ba1905282a2f5a43",
       "version_major": 2,
       "version_minor": 0
      },
      "text/plain": [
       "  0%|          | 0/2 [00:00<?, ?it/s]"
      ]
     },
     "metadata": {},
     "output_type": "display_data"
    },
    {
     "name": "stdout",
     "output_type": "stream",
     "text": [
      "11457.861287373857 ml prediction 7 day\n",
      "2018-05-04 00:00:00 current date\n"
     ]
    },
    {
     "data": {
      "application/vnd.jupyter.widget-view+json": {
       "model_id": "f1bfc789612443729112c637b88aab37",
       "version_major": 2,
       "version_minor": 0
      },
      "text/plain": [
       "  0%|          | 0/2 [00:00<?, ?it/s]"
      ]
     },
     "metadata": {},
     "output_type": "display_data"
    },
    {
     "name": "stdout",
     "output_type": "stream",
     "text": [
      "6972.315870175828 ml prediction 7 day\n",
      "2018-08-06 00:00:00 current date\n"
     ]
    },
    {
     "data": {
      "application/vnd.jupyter.widget-view+json": {
       "model_id": "377fa100027343a7b7f334a232d23a40",
       "version_major": 2,
       "version_minor": 0
      },
      "text/plain": [
       "  0%|          | 0/2 [00:00<?, ?it/s]"
      ]
     },
     "metadata": {},
     "output_type": "display_data"
    },
    {
     "name": "stdout",
     "output_type": "stream",
     "text": [
      "7115.142070495072 ml prediction 7 day\n",
      "2018-09-14 00:00:00 current date\n"
     ]
    },
    {
     "data": {
      "application/vnd.jupyter.widget-view+json": {
       "model_id": "24b0c664926e4861994769fe9a7465b4",
       "version_major": 2,
       "version_minor": 0
      },
      "text/plain": [
       "  0%|          | 0/2 [00:00<?, ?it/s]"
      ]
     },
     "metadata": {},
     "output_type": "display_data"
    },
    {
     "name": "stdout",
     "output_type": "stream",
     "text": [
      "6832.31321570144 ml prediction 7 day\n",
      "2018-10-05 00:00:00 current date\n"
     ]
    },
    {
     "data": {
      "application/vnd.jupyter.widget-view+json": {
       "model_id": "3030652bca5f47fa93c8f0415024c0e3",
       "version_major": 2,
       "version_minor": 0
      },
      "text/plain": [
       "  0%|          | 0/2 [00:00<?, ?it/s]"
      ]
     },
     "metadata": {},
     "output_type": "display_data"
    },
    {
     "name": "stdout",
     "output_type": "stream",
     "text": [
      "7519.718245380624 ml prediction 7 day\n",
      "2018-10-20 00:00:00 current date\n"
     ]
    },
    {
     "data": {
      "application/vnd.jupyter.widget-view+json": {
       "model_id": "5e6435ac243945159247ee0d9755c2e6",
       "version_major": 2,
       "version_minor": 0
      },
      "text/plain": [
       "  0%|          | 0/2 [00:00<?, ?it/s]"
      ]
     },
     "metadata": {},
     "output_type": "display_data"
    },
    {
     "name": "stdout",
     "output_type": "stream",
     "text": [
      "5508.891115617797 ml prediction 7 day\n",
      "2018-11-02 00:00:00 current date\n"
     ]
    },
    {
     "data": {
      "application/vnd.jupyter.widget-view+json": {
       "model_id": "db93a757c02c4ba0ba68703a1db6c234",
       "version_major": 2,
       "version_minor": 0
      },
      "text/plain": [
       "  0%|          | 0/2 [00:00<?, ?it/s]"
      ]
     },
     "metadata": {},
     "output_type": "display_data"
    },
    {
     "name": "stdout",
     "output_type": "stream",
     "text": [
      "7203.716868269047 ml prediction 7 day\n",
      "2018-11-08 00:00:00 current date\n"
     ]
    },
    {
     "data": {
      "text/plain": [
       "('24H', 90, 1.5, -9.49086325059217, 38)"
      ]
     },
     "execution_count": 651,
     "metadata": {},
     "output_type": "execute_result"
    },
    {
     "data": {
      "image/png": "[encoded data removed]",
      "text/plain": [
       "<Figure size 432x288 with 1 Axes>"
      ]
     },
     "metadata": {
      "needs_background": "light"
     },
     "output_type": "display_data"
    }
   ],
   "source": [
    "\n",
    "simulator = BollingerBandsSimulator(\n",
    "    data, \n",
    "    from_date=\"2017-01-01\", \n",
    "    period=\"24H\", \n",
    "    window=90, \n",
    "    no_of_std=1.5\n",
    ")\n",
    "simulator.simulate()"
   ]
  },
  {
   "cell_type": "code",
   "execution_count": 642,
   "metadata": {},
   "outputs": [
    {
     "data": {
      "image/png": "[encoded data removed]",
      "text/plain": [
       "<Figure size 1080x576 with 1 Axes>"
      ]
     },
     "metadata": {
      "needs_background": "light"
     },
     "output_type": "display_data"
    }
   ],
   "source": [
    "DATE_FILTER = '2017-01-01'\n",
    "simulator.df[simulator.df.index > DATE_FILTER ]  [['Rolling Mean', 'Bollinger High', 'Bollinger Low', 'close']].plot(figsize=(15,8))\n",
    "\n",
    "prev_pos = None\n",
    "for index, pos in simulator.df[simulator.df.index > DATE_FILTER ]['Original Position'].iteritems():\n",
    "    if pos == -1:\n",
    "        plt.axvline(index, color='red')\n",
    "    if pos == 1:\n",
    "        plt.axvline(index, color='green')\n",
    "#     if pos == 0:\n",
    "#         plt.axvline(index, color='black')\n"
   ]
  },
  {
   "cell_type": "code",
   "execution_count": 654,
   "metadata": {},
   "outputs": [
    {
     "data": {
      "text/html": [
       "<div>\n",
       "<style scoped>\n",
       "    .dataframe tbody tr th:only-of-type {\n",
       "        vertical-align: middle;\n",
       "    }\n",
       "\n",
       "    .dataframe tbody tr th {\n",
       "        vertical-align: top;\n",
       "    }\n",
       "\n",
       "    .dataframe thead th {\n",
       "        text-align: right;\n",
       "    }\n",
       "</style>\n",
       "<table border=\"1\" class=\"dataframe\">\n",
       "  <thead>\n",
       "    <tr style=\"text-align: right;\">\n",
       "      <th></th>\n",
       "      <th>open</th>\n",
       "      <th>high</th>\n",
       "      <th>low</th>\n",
       "      <th>close</th>\n",
       "      <th>Rolling Mean</th>\n",
       "      <th>Bollinger High</th>\n",
       "      <th>Bollinger Low</th>\n",
       "      <th>Position</th>\n",
       "      <th>Mode</th>\n",
       "      <th>Original Position</th>\n",
       "      <th>Market Return</th>\n",
       "      <th>Strategy Return</th>\n",
       "    </tr>\n",
       "    <tr>\n",
       "      <th>datetime</th>\n",
       "      <th></th>\n",
       "      <th></th>\n",
       "      <th></th>\n",
       "      <th></th>\n",
       "      <th></th>\n",
       "      <th></th>\n",
       "      <th></th>\n",
       "      <th></th>\n",
       "      <th></th>\n",
       "      <th></th>\n",
       "      <th></th>\n",
       "      <th></th>\n",
       "    </tr>\n",
       "  </thead>\n",
       "  <tbody>\n",
       "    <tr>\n",
       "      <th>2018-10-19</th>\n",
       "      <td>6540.00</td>\n",
       "      <td>44555.34</td>\n",
       "      <td>5117.77</td>\n",
       "      <td>9249.67</td>\n",
       "      <td>8243.574889</td>\n",
       "      <td>10625.957717</td>\n",
       "      <td>5861.192061</td>\n",
       "      <td>0.0</td>\n",
       "      <td>no_position</td>\n",
       "      <td>None</td>\n",
       "      <td>0.239455</td>\n",
       "      <td>0.000000</td>\n",
       "    </tr>\n",
       "    <tr>\n",
       "      <th>2018-10-20</th>\n",
       "      <td>14384.35</td>\n",
       "      <td>44892.71</td>\n",
       "      <td>5027.53</td>\n",
       "      <td>12788.00</td>\n",
       "      <td>8221.361444</td>\n",
       "      <td>10482.824339</td>\n",
       "      <td>5959.898550</td>\n",
       "      <td>0.0</td>\n",
       "      <td>short</td>\n",
       "      <td>0</td>\n",
       "      <td>0.382536</td>\n",
       "      <td>0.000000</td>\n",
       "    </tr>\n",
       "    <tr>\n",
       "      <th>2018-10-21</th>\n",
       "      <td>9860.00</td>\n",
       "      <td>51559.95</td>\n",
       "      <td>4541.47</td>\n",
       "      <td>6571.57</td>\n",
       "      <td>8165.905556</td>\n",
       "      <td>10378.097721</td>\n",
       "      <td>5953.713390</td>\n",
       "      <td>-1.0</td>\n",
       "      <td>short</td>\n",
       "      <td>-1</td>\n",
       "      <td>-0.486114</td>\n",
       "      <td>0.486114</td>\n",
       "    </tr>\n",
       "    <tr>\n",
       "      <th>2018-10-22</th>\n",
       "      <td>6600.00</td>\n",
       "      <td>51247.60</td>\n",
       "      <td>4812.76</td>\n",
       "      <td>9996.00</td>\n",
       "      <td>8177.983222</td>\n",
       "      <td>10406.025862</td>\n",
       "      <td>5949.940583</td>\n",
       "      <td>-1.0</td>\n",
       "      <td>short_to_no_position</td>\n",
       "      <td>-1</td>\n",
       "      <td>0.521098</td>\n",
       "      <td>-0.521098</td>\n",
       "    </tr>\n",
       "    <tr>\n",
       "      <th>2018-10-23</th>\n",
       "      <td>6409.71</td>\n",
       "      <td>70435.43</td>\n",
       "      <td>4481.46</td>\n",
       "      <td>10223.57</td>\n",
       "      <td>8184.730000</td>\n",
       "      <td>10424.719311</td>\n",
       "      <td>5944.740689</td>\n",
       "      <td>0.0</td>\n",
       "      <td>no_position</td>\n",
       "      <td>0</td>\n",
       "      <td>0.022766</td>\n",
       "      <td>0.000000</td>\n",
       "    </tr>\n",
       "    <tr>\n",
       "      <th>2018-10-24</th>\n",
       "      <td>9182.10</td>\n",
       "      <td>64998.38</td>\n",
       "      <td>4487.69</td>\n",
       "      <td>7368.66</td>\n",
       "      <td>8179.561111</td>\n",
       "      <td>10422.598187</td>\n",
       "      <td>5936.524035</td>\n",
       "      <td>0.0</td>\n",
       "      <td>no_position</td>\n",
       "      <td>None</td>\n",
       "      <td>-0.279248</td>\n",
       "      <td>-0.000000</td>\n",
       "    </tr>\n",
       "    <tr>\n",
       "      <th>2018-10-25</th>\n",
       "      <td>6895.09</td>\n",
       "      <td>70303.71</td>\n",
       "      <td>5011.76</td>\n",
       "      <td>6493.19</td>\n",
       "      <td>8133.153444</td>\n",
       "      <td>10356.085267</td>\n",
       "      <td>5910.221622</td>\n",
       "      <td>0.0</td>\n",
       "      <td>no_position</td>\n",
       "      <td>None</td>\n",
       "      <td>-0.118810</td>\n",
       "      <td>-0.000000</td>\n",
       "    </tr>\n",
       "    <tr>\n",
       "      <th>2018-10-26</th>\n",
       "      <td>9592.69</td>\n",
       "      <td>25672.03</td>\n",
       "      <td>4666.67</td>\n",
       "      <td>6347.28</td>\n",
       "      <td>8067.615222</td>\n",
       "      <td>10208.806820</td>\n",
       "      <td>5926.423625</td>\n",
       "      <td>0.0</td>\n",
       "      <td>no_position</td>\n",
       "      <td>None</td>\n",
       "      <td>-0.022471</td>\n",
       "      <td>-0.000000</td>\n",
       "    </tr>\n",
       "    <tr>\n",
       "      <th>2018-10-27</th>\n",
       "      <td>5945.49</td>\n",
       "      <td>51232.40</td>\n",
       "      <td>4666.14</td>\n",
       "      <td>9272.83</td>\n",
       "      <td>8083.896667</td>\n",
       "      <td>10233.108009</td>\n",
       "      <td>5934.685324</td>\n",
       "      <td>0.0</td>\n",
       "      <td>no_position</td>\n",
       "      <td>None</td>\n",
       "      <td>0.460914</td>\n",
       "      <td>0.000000</td>\n",
       "    </tr>\n",
       "    <tr>\n",
       "      <th>2018-10-28</th>\n",
       "      <td>9415.00</td>\n",
       "      <td>64998.38</td>\n",
       "      <td>4840.71</td>\n",
       "      <td>9980.55</td>\n",
       "      <td>8099.958333</td>\n",
       "      <td>10268.902945</td>\n",
       "      <td>5931.013722</td>\n",
       "      <td>0.0</td>\n",
       "      <td>no_position</td>\n",
       "      <td>None</td>\n",
       "      <td>0.076322</td>\n",
       "      <td>0.000000</td>\n",
       "    </tr>\n",
       "    <tr>\n",
       "      <th>2018-10-29</th>\n",
       "      <td>7059.57</td>\n",
       "      <td>50191.73</td>\n",
       "      <td>4765.88</td>\n",
       "      <td>9396.60</td>\n",
       "      <td>8112.200444</td>\n",
       "      <td>10290.622844</td>\n",
       "      <td>5933.778045</td>\n",
       "      <td>0.0</td>\n",
       "      <td>no_position</td>\n",
       "      <td>None</td>\n",
       "      <td>-0.058509</td>\n",
       "      <td>-0.000000</td>\n",
       "    </tr>\n",
       "    <tr>\n",
       "      <th>2018-10-30</th>\n",
       "      <td>6070.44</td>\n",
       "      <td>64999.78</td>\n",
       "      <td>4725.37</td>\n",
       "      <td>6957.52</td>\n",
       "      <td>8103.873778</td>\n",
       "      <td>10289.032958</td>\n",
       "      <td>5918.714597</td>\n",
       "      <td>0.0</td>\n",
       "      <td>no_position</td>\n",
       "      <td>None</td>\n",
       "      <td>-0.259570</td>\n",
       "      <td>-0.000000</td>\n",
       "    </tr>\n",
       "    <tr>\n",
       "      <th>2018-10-31</th>\n",
       "      <td>6464.46</td>\n",
       "      <td>50444.64</td>\n",
       "      <td>4725.37</td>\n",
       "      <td>8826.29</td>\n",
       "      <td>8112.923778</td>\n",
       "      <td>10301.008249</td>\n",
       "      <td>5924.839307</td>\n",
       "      <td>0.0</td>\n",
       "      <td>no_position</td>\n",
       "      <td>None</td>\n",
       "      <td>0.268597</td>\n",
       "      <td>0.000000</td>\n",
       "    </tr>\n",
       "    <tr>\n",
       "      <th>2018-11-01</th>\n",
       "      <td>6492.09</td>\n",
       "      <td>69672.53</td>\n",
       "      <td>4727.36</td>\n",
       "      <td>6876.94</td>\n",
       "      <td>8104.223111</td>\n",
       "      <td>10299.895173</td>\n",
       "      <td>5908.551049</td>\n",
       "      <td>0.0</td>\n",
       "      <td>no_position</td>\n",
       "      <td>None</td>\n",
       "      <td>-0.220857</td>\n",
       "      <td>-0.000000</td>\n",
       "    </tr>\n",
       "    <tr>\n",
       "      <th>2018-11-02</th>\n",
       "      <td>12692.67</td>\n",
       "      <td>50839.93</td>\n",
       "      <td>4762.88</td>\n",
       "      <td>12055.25</td>\n",
       "      <td>8125.870333</td>\n",
       "      <td>10387.099057</td>\n",
       "      <td>5864.641609</td>\n",
       "      <td>0.0</td>\n",
       "      <td>short</td>\n",
       "      <td>0</td>\n",
       "      <td>0.752996</td>\n",
       "      <td>0.000000</td>\n",
       "    </tr>\n",
       "    <tr>\n",
       "      <th>2018-11-03</th>\n",
       "      <td>6820.34</td>\n",
       "      <td>48896.89</td>\n",
       "      <td>4746.44</td>\n",
       "      <td>10360.21</td>\n",
       "      <td>8163.058667</td>\n",
       "      <td>10444.488611</td>\n",
       "      <td>5881.628722</td>\n",
       "      <td>-1.0</td>\n",
       "      <td>short</td>\n",
       "      <td>-1</td>\n",
       "      <td>-0.140606</td>\n",
       "      <td>0.140606</td>\n",
       "    </tr>\n",
       "    <tr>\n",
       "      <th>2018-11-04</th>\n",
       "      <td>6777.27</td>\n",
       "      <td>40000.00</td>\n",
       "      <td>4847.58</td>\n",
       "      <td>6833.06</td>\n",
       "      <td>8099.711889</td>\n",
       "      <td>10280.871470</td>\n",
       "      <td>5918.552308</td>\n",
       "      <td>-1.0</td>\n",
       "      <td>short</td>\n",
       "      <td>None</td>\n",
       "      <td>-0.340452</td>\n",
       "      <td>0.340452</td>\n",
       "    </tr>\n",
       "    <tr>\n",
       "      <th>2018-11-05</th>\n",
       "      <td>8348.51</td>\n",
       "      <td>250000.00</td>\n",
       "      <td>4547.55</td>\n",
       "      <td>6912.22</td>\n",
       "      <td>8071.969889</td>\n",
       "      <td>10250.964643</td>\n",
       "      <td>5892.975134</td>\n",
       "      <td>-1.0</td>\n",
       "      <td>short</td>\n",
       "      <td>None</td>\n",
       "      <td>0.011585</td>\n",
       "      <td>-0.011585</td>\n",
       "    </tr>\n",
       "    <tr>\n",
       "      <th>2018-11-06</th>\n",
       "      <td>6584.11</td>\n",
       "      <td>70546.74</td>\n",
       "      <td>4608.14</td>\n",
       "      <td>10300.89</td>\n",
       "      <td>8082.655556</td>\n",
       "      <td>10281.009345</td>\n",
       "      <td>5884.301767</td>\n",
       "      <td>-1.0</td>\n",
       "      <td>short_to_no_position</td>\n",
       "      <td>-1</td>\n",
       "      <td>0.490243</td>\n",
       "      <td>-0.490243</td>\n",
       "    </tr>\n",
       "    <tr>\n",
       "      <th>2018-11-07</th>\n",
       "      <td>6673.77</td>\n",
       "      <td>71540.99</td>\n",
       "      <td>4904.95</td>\n",
       "      <td>6248.11</td>\n",
       "      <td>8051.634556</td>\n",
       "      <td>10263.530582</td>\n",
       "      <td>5839.738529</td>\n",
       "      <td>0.0</td>\n",
       "      <td>no_position</td>\n",
       "      <td>0</td>\n",
       "      <td>-0.393440</td>\n",
       "      <td>-0.000000</td>\n",
       "    </tr>\n",
       "    <tr>\n",
       "      <th>2018-11-08</th>\n",
       "      <td>7214.81</td>\n",
       "      <td>83816.68</td>\n",
       "      <td>5149.34</td>\n",
       "      <td>14446.86</td>\n",
       "      <td>8143.740333</td>\n",
       "      <td>10555.467133</td>\n",
       "      <td>5732.013534</td>\n",
       "      <td>0.0</td>\n",
       "      <td>short</td>\n",
       "      <td>0</td>\n",
       "      <td>1.312197</td>\n",
       "      <td>0.000000</td>\n",
       "    </tr>\n",
       "    <tr>\n",
       "      <th>2018-11-09</th>\n",
       "      <td>6470.76</td>\n",
       "      <td>35999.71</td>\n",
       "      <td>4840.56</td>\n",
       "      <td>6573.01</td>\n",
       "      <td>8110.956556</td>\n",
       "      <td>10525.127625</td>\n",
       "      <td>5696.785487</td>\n",
       "      <td>-1.0</td>\n",
       "      <td>short</td>\n",
       "      <td>-1</td>\n",
       "      <td>-0.545022</td>\n",
       "      <td>0.545022</td>\n",
       "    </tr>\n",
       "    <tr>\n",
       "      <th>2018-11-10</th>\n",
       "      <td>6906.35</td>\n",
       "      <td>82277.44</td>\n",
       "      <td>5091.72</td>\n",
       "      <td>6548.05</td>\n",
       "      <td>8101.738000</td>\n",
       "      <td>10525.823342</td>\n",
       "      <td>5677.652658</td>\n",
       "      <td>-1.0</td>\n",
       "      <td>short</td>\n",
       "      <td>None</td>\n",
       "      <td>-0.003797</td>\n",
       "      <td>0.003797</td>\n",
       "    </tr>\n",
       "    <tr>\n",
       "      <th>2018-11-11</th>\n",
       "      <td>9517.02</td>\n",
       "      <td>50423.93</td>\n",
       "      <td>4570.14</td>\n",
       "      <td>6933.17</td>\n",
       "      <td>8107.621444</td>\n",
       "      <td>10523.762305</td>\n",
       "      <td>5691.480583</td>\n",
       "      <td>-1.0</td>\n",
       "      <td>short</td>\n",
       "      <td>None</td>\n",
       "      <td>0.058814</td>\n",
       "      <td>-0.058814</td>\n",
       "    </tr>\n",
       "    <tr>\n",
       "      <th>2018-11-12</th>\n",
       "      <td>7089.60</td>\n",
       "      <td>40000.00</td>\n",
       "      <td>4825.99</td>\n",
       "      <td>6850.00</td>\n",
       "      <td>8113.005778</td>\n",
       "      <td>10521.515718</td>\n",
       "      <td>5704.495838</td>\n",
       "      <td>-1.0</td>\n",
       "      <td>short</td>\n",
       "      <td>None</td>\n",
       "      <td>-0.011996</td>\n",
       "      <td>0.011996</td>\n",
       "    </tr>\n",
       "    <tr>\n",
       "      <th>2018-11-13</th>\n",
       "      <td>6811.76</td>\n",
       "      <td>62879.66</td>\n",
       "      <td>4816.81</td>\n",
       "      <td>6450.00</td>\n",
       "      <td>8107.802778</td>\n",
       "      <td>10523.312931</td>\n",
       "      <td>5692.292624</td>\n",
       "      <td>-1.0</td>\n",
       "      <td>short</td>\n",
       "      <td>None</td>\n",
       "      <td>-0.058394</td>\n",
       "      <td>0.058394</td>\n",
       "    </tr>\n",
       "    <tr>\n",
       "      <th>2018-11-14</th>\n",
       "      <td>7519.91</td>\n",
       "      <td>23786.05</td>\n",
       "      <td>4677.30</td>\n",
       "      <td>6143.50</td>\n",
       "      <td>8079.708333</td>\n",
       "      <td>10513.304855</td>\n",
       "      <td>5646.111812</td>\n",
       "      <td>-1.0</td>\n",
       "      <td>short</td>\n",
       "      <td>None</td>\n",
       "      <td>-0.047519</td>\n",
       "      <td>0.047519</td>\n",
       "    </tr>\n",
       "    <tr>\n",
       "      <th>2018-11-15</th>\n",
       "      <td>7971.25</td>\n",
       "      <td>72405.53</td>\n",
       "      <td>3981.95</td>\n",
       "      <td>5583.54</td>\n",
       "      <td>8059.136889</td>\n",
       "      <td>10522.557653</td>\n",
       "      <td>5595.716125</td>\n",
       "      <td>-1.0</td>\n",
       "      <td>short</td>\n",
       "      <td>None</td>\n",
       "      <td>-0.091147</td>\n",
       "      <td>0.091147</td>\n",
       "    </tr>\n",
       "    <tr>\n",
       "      <th>2018-11-16</th>\n",
       "      <td>6247.51</td>\n",
       "      <td>35999.95</td>\n",
       "      <td>4237.06</td>\n",
       "      <td>5694.95</td>\n",
       "      <td>8048.064000</td>\n",
       "      <td>10530.438258</td>\n",
       "      <td>5565.689742</td>\n",
       "      <td>-1.0</td>\n",
       "      <td>short</td>\n",
       "      <td>None</td>\n",
       "      <td>0.019953</td>\n",
       "      <td>-0.019953</td>\n",
       "    </tr>\n",
       "    <tr>\n",
       "      <th>2018-11-17</th>\n",
       "      <td>6255.87</td>\n",
       "      <td>43973.44</td>\n",
       "      <td>4277.59</td>\n",
       "      <td>6047.86</td>\n",
       "      <td>8021.962556</td>\n",
       "      <td>10523.701577</td>\n",
       "      <td>5520.223534</td>\n",
       "      <td>-1.0</td>\n",
       "      <td>short</td>\n",
       "      <td>None</td>\n",
       "      <td>0.061969</td>\n",
       "      <td>-0.061969</td>\n",
       "    </tr>\n",
       "  </tbody>\n",
       "</table>\n",
       "</div>"
      ],
      "text/plain": [
       "                open       high      low     close  Rolling Mean  \\\n",
       "datetime                                                           \n",
       "2018-10-19   6540.00   44555.34  5117.77   9249.67   8243.574889   \n",
       "2018-10-20  14384.35   44892.71  5027.53  12788.00   8221.361444   \n",
       "2018-10-21   9860.00   51559.95  4541.47   6571.57   8165.905556   \n",
       "2018-10-22   6600.00   51247.60  4812.76   9996.00   8177.983222   \n",
       "2018-10-23   6409.71   70435.43  4481.46  10223.57   8184.730000   \n",
       "2018-10-24   9182.10   64998.38  4487.69   7368.66   8179.561111   \n",
       "2018-10-25   6895.09   70303.71  5011.76   6493.19   8133.153444   \n",
       "2018-10-26   9592.69   25672.03  4666.67   6347.28   8067.615222   \n",
       "2018-10-27   5945.49   51232.40  4666.14   9272.83   8083.896667   \n",
       "2018-10-28   9415.00   64998.38  4840.71   9980.55   8099.958333   \n",
       "2018-10-29   7059.57   50191.73  4765.88   9396.60   8112.200444   \n",
       "2018-10-30   6070.44   64999.78  4725.37   6957.52   8103.873778   \n",
       "2018-10-31   6464.46   50444.64  4725.37   8826.29   8112.923778   \n",
       "2018-11-01   6492.09   69672.53  4727.36   6876.94   8104.223111   \n",
       "2018-11-02  12692.67   50839.93  4762.88  12055.25   8125.870333   \n",
       "2018-11-03   6820.34   48896.89  4746.44  10360.21   8163.058667   \n",
       "2018-11-04   6777.27   40000.00  4847.58   6833.06   8099.711889   \n",
       "2018-11-05   8348.51  250000.00  4547.55   6912.22   8071.969889   \n",
       "2018-11-06   6584.11   70546.74  4608.14  10300.89   8082.655556   \n",
       "2018-11-07   6673.77   71540.99  4904.95   6248.11   8051.634556   \n",
       "2018-11-08   7214.81   83816.68  5149.34  14446.86   8143.740333   \n",
       "2018-11-09   6470.76   35999.71  4840.56   6573.01   8110.956556   \n",
       "2018-11-10   6906.35   82277.44  5091.72   6548.05   8101.738000   \n",
       "2018-11-11   9517.02   50423.93  4570.14   6933.17   8107.621444   \n",
       "2018-11-12   7089.60   40000.00  4825.99   6850.00   8113.005778   \n",
       "2018-11-13   6811.76   62879.66  4816.81   6450.00   8107.802778   \n",
       "2018-11-14   7519.91   23786.05  4677.30   6143.50   8079.708333   \n",
       "2018-11-15   7971.25   72405.53  3981.95   5583.54   8059.136889   \n",
       "2018-11-16   6247.51   35999.95  4237.06   5694.95   8048.064000   \n",
       "2018-11-17   6255.87   43973.44  4277.59   6047.86   8021.962556   \n",
       "\n",
       "            Bollinger High  Bollinger Low  Position                  Mode  \\\n",
       "datetime                                                                    \n",
       "2018-10-19    10625.957717    5861.192061       0.0           no_position   \n",
       "2018-10-20    10482.824339    5959.898550       0.0                 short   \n",
       "2018-10-21    10378.097721    5953.713390      -1.0                 short   \n",
       "2018-10-22    10406.025862    5949.940583      -1.0  short_to_no_position   \n",
       "2018-10-23    10424.719311    5944.740689       0.0           no_position   \n",
       "2018-10-24    10422.598187    5936.524035       0.0           no_position   \n",
       "2018-10-25    10356.085267    5910.221622       0.0           no_position   \n",
       "2018-10-26    10208.806820    5926.423625       0.0           no_position   \n",
       "2018-10-27    10233.108009    5934.685324       0.0           no_position   \n",
       "2018-10-28    10268.902945    5931.013722       0.0           no_position   \n",
       "2018-10-29    10290.622844    5933.778045       0.0           no_position   \n",
       "2018-10-30    10289.032958    5918.714597       0.0           no_position   \n",
       "2018-10-31    10301.008249    5924.839307       0.0           no_position   \n",
       "2018-11-01    10299.895173    5908.551049       0.0           no_position   \n",
       "2018-11-02    10387.099057    5864.641609       0.0                 short   \n",
       "2018-11-03    10444.488611    5881.628722      -1.0                 short   \n",
       "2018-11-04    10280.871470    5918.552308      -1.0                 short   \n",
       "2018-11-05    10250.964643    5892.975134      -1.0                 short   \n",
       "2018-11-06    10281.009345    5884.301767      -1.0  short_to_no_position   \n",
       "2018-11-07    10263.530582    5839.738529       0.0           no_position   \n",
       "2018-11-08    10555.467133    5732.013534       0.0                 short   \n",
       "2018-11-09    10525.127625    5696.785487      -1.0                 short   \n",
       "2018-11-10    10525.823342    5677.652658      -1.0                 short   \n",
       "2018-11-11    10523.762305    5691.480583      -1.0                 short   \n",
       "2018-11-12    10521.515718    5704.495838      -1.0                 short   \n",
       "2018-11-13    10523.312931    5692.292624      -1.0                 short   \n",
       "2018-11-14    10513.304855    5646.111812      -1.0                 short   \n",
       "2018-11-15    10522.557653    5595.716125      -1.0                 short   \n",
       "2018-11-16    10530.438258    5565.689742      -1.0                 short   \n",
       "2018-11-17    10523.701577    5520.223534      -1.0                 short   \n",
       "\n",
       "           Original Position  Market Return  Strategy Return  \n",
       "datetime                                                      \n",
       "2018-10-19              None       0.239455         0.000000  \n",
       "2018-10-20                 0       0.382536         0.000000  \n",
       "2018-10-21                -1      -0.486114         0.486114  \n",
       "2018-10-22                -1       0.521098        -0.521098  \n",
       "2018-10-23                 0       0.022766         0.000000  \n",
       "2018-10-24              None      -0.279248        -0.000000  \n",
       "2018-10-25              None      -0.118810        -0.000000  \n",
       "2018-10-26              None      -0.022471        -0.000000  \n",
       "2018-10-27              None       0.460914         0.000000  \n",
       "2018-10-28              None       0.076322         0.000000  \n",
       "2018-10-29              None      -0.058509        -0.000000  \n",
       "2018-10-30              None      -0.259570        -0.000000  \n",
       "2018-10-31              None       0.268597         0.000000  \n",
       "2018-11-01              None      -0.220857        -0.000000  \n",
       "2018-11-02                 0       0.752996         0.000000  \n",
       "2018-11-03                -1      -0.140606         0.140606  \n",
       "2018-11-04              None      -0.340452         0.340452  \n",
       "2018-11-05              None       0.011585        -0.011585  \n",
       "2018-11-06                -1       0.490243        -0.490243  \n",
       "2018-11-07                 0      -0.393440        -0.000000  \n",
       "2018-11-08                 0       1.312197         0.000000  \n",
       "2018-11-09                -1      -0.545022         0.545022  \n",
       "2018-11-10              None      -0.003797         0.003797  \n",
       "2018-11-11              None       0.058814        -0.058814  \n",
       "2018-11-12              None      -0.011996         0.011996  \n",
       "2018-11-13              None      -0.058394         0.058394  \n",
       "2018-11-14              None      -0.047519         0.047519  \n",
       "2018-11-15              None      -0.091147         0.091147  \n",
       "2018-11-16              None       0.019953        -0.019953  \n",
       "2018-11-17              None       0.061969        -0.061969  "
      ]
     },
     "execution_count": 654,
     "metadata": {},
     "output_type": "execute_result"
    }
   ],
   "source": [
    "simulator.df[simulator.df.index >= \"2018-10-19\"].head(30)\n"
   ]
  },
  {
   "cell_type": "code",
   "execution_count": 61,
   "metadata": {},
   "outputs": [
    {
     "data": {
      "text/plain": [
       "no_position           683\n",
       "buy                    54\n",
       "buy_to_no_position      1\n",
       "Name: Mode, dtype: int64"
      ]
     },
     "execution_count": 61,
     "metadata": {},
     "output_type": "execute_result"
    }
   ],
   "source": [
    "simulator.df['Mode'].value_counts()"
   ]
  },
  {
   "cell_type": "markdown",
   "metadata": {},
   "source": [
    "# Brute force some configurations¶\n"
   ]
  },
  {
   "cell_type": "code",
   "execution_count": 19,
   "metadata": {},
   "outputs": [],
   "source": [
    " # generate a linear space of value values for each parameter in the configuration\n",
    "# a take some random samples from them.\n",
    "# for example the first one creates a vector of 5 evenly spaced integer values ranging from 10 to 100\n",
    "windows = np.linspace(7, 90, 8, dtype=int)\n",
    "stds = np.linspace(1.5, 2, 2)\n",
    "periods = np.linspace(15 ,240, 6, dtype=int)"
   ]
  },
  {
   "cell_type": "code",
   "execution_count": 20,
   "metadata": {},
   "outputs": [
    {
     "data": {
      "image/png": "[encoded data removed]",
      "text/plain": [
       "<Figure size 1008x504 with 1 Axes>"
      ]
     },
     "metadata": {
      "needs_background": "light"
     },
     "output_type": "display_data"
    }
   ],
   "source": [
    "# iterate through them, running the strategy function each time and collecting returns\n",
    "# (this might take some time)\n",
    "simulations = []\n",
    "result_df = pd.DataFrame({\n",
    "    'period': [], \n",
    "    'window': [],\n",
    "    'no_of_std': [],\n",
    "    'result': []\n",
    "})\n",
    "for window in windows:\n",
    "    for std in stds:\n",
    "        for period in periods:\n",
    "            simulator = BollingerBandsSimulator(\n",
    "                data, \n",
    "                from_date=\"2017-01-11\", \n",
    "                period=\"{}min\".format(period), \n",
    "                window=window, \n",
    "                no_of_std=std,\n",
    "                figsize=(14, 7)\n",
    "            )\n",
    "            period, window, no_of_std, result, total_trades = simulator.simulate()\n",
    "            result_df = result_df.append({\n",
    "                'period': period, \n",
    "                'window': window, \n",
    "                'no_of_std': no_of_std, \n",
    "                'result': result,\n",
    "                'total_trades': total_trades\n",
    "            }, ignore_index=True)\n",
    "            simulations.append(simulator)"
   ]
  },
  {
   "cell_type": "code",
   "execution_count": 23,
   "metadata": {},
   "outputs": [
    {
     "data": {
      "text/html": [
       "<div>\n",
       "<style scoped>\n",
       "    .dataframe tbody tr th:only-of-type {\n",
       "        vertical-align: middle;\n",
       "    }\n",
       "\n",
       "    .dataframe tbody tr th {\n",
       "        vertical-align: top;\n",
       "    }\n",
       "\n",
       "    .dataframe thead th {\n",
       "        text-align: right;\n",
       "    }\n",
       "</style>\n",
       "<table border=\"1\" class=\"dataframe\">\n",
       "  <thead>\n",
       "    <tr style=\"text-align: right;\">\n",
       "      <th></th>\n",
       "      <th>period</th>\n",
       "      <th>window</th>\n",
       "      <th>no_of_std</th>\n",
       "      <th>result</th>\n",
       "      <th>total_trades</th>\n",
       "    </tr>\n",
       "  </thead>\n",
       "  <tbody>\n",
       "    <tr>\n",
       "      <th>37</th>\n",
       "      <td>60min</td>\n",
       "      <td>42.0</td>\n",
       "      <td>1.5</td>\n",
       "      <td>0.0</td>\n",
       "      <td>0.0</td>\n",
       "    </tr>\n",
       "    <tr>\n",
       "      <th>36</th>\n",
       "      <td>15min</td>\n",
       "      <td>42.0</td>\n",
       "      <td>1.5</td>\n",
       "      <td>0.0</td>\n",
       "      <td>0.0</td>\n",
       "    </tr>\n",
       "    <tr>\n",
       "      <th>35</th>\n",
       "      <td>240min</td>\n",
       "      <td>30.0</td>\n",
       "      <td>2.0</td>\n",
       "      <td>0.0</td>\n",
       "      <td>0.0</td>\n",
       "    </tr>\n",
       "    <tr>\n",
       "      <th>34</th>\n",
       "      <td>195min</td>\n",
       "      <td>30.0</td>\n",
       "      <td>2.0</td>\n",
       "      <td>0.0</td>\n",
       "      <td>0.0</td>\n",
       "    </tr>\n",
       "    <tr>\n",
       "      <th>33</th>\n",
       "      <td>150min</td>\n",
       "      <td>30.0</td>\n",
       "      <td>2.0</td>\n",
       "      <td>0.0</td>\n",
       "      <td>0.0</td>\n",
       "    </tr>\n",
       "    <tr>\n",
       "      <th>32</th>\n",
       "      <td>105min</td>\n",
       "      <td>30.0</td>\n",
       "      <td>2.0</td>\n",
       "      <td>0.0</td>\n",
       "      <td>0.0</td>\n",
       "    </tr>\n",
       "    <tr>\n",
       "      <th>31</th>\n",
       "      <td>60min</td>\n",
       "      <td>30.0</td>\n",
       "      <td>2.0</td>\n",
       "      <td>0.0</td>\n",
       "      <td>0.0</td>\n",
       "    </tr>\n",
       "    <tr>\n",
       "      <th>30</th>\n",
       "      <td>15min</td>\n",
       "      <td>30.0</td>\n",
       "      <td>2.0</td>\n",
       "      <td>0.0</td>\n",
       "      <td>0.0</td>\n",
       "    </tr>\n",
       "    <tr>\n",
       "      <th>29</th>\n",
       "      <td>240min</td>\n",
       "      <td>30.0</td>\n",
       "      <td>1.5</td>\n",
       "      <td>0.0</td>\n",
       "      <td>0.0</td>\n",
       "    </tr>\n",
       "    <tr>\n",
       "      <th>28</th>\n",
       "      <td>195min</td>\n",
       "      <td>30.0</td>\n",
       "      <td>1.5</td>\n",
       "      <td>0.0</td>\n",
       "      <td>0.0</td>\n",
       "    </tr>\n",
       "    <tr>\n",
       "      <th>27</th>\n",
       "      <td>150min</td>\n",
       "      <td>30.0</td>\n",
       "      <td>1.5</td>\n",
       "      <td>0.0</td>\n",
       "      <td>0.0</td>\n",
       "    </tr>\n",
       "    <tr>\n",
       "      <th>26</th>\n",
       "      <td>105min</td>\n",
       "      <td>30.0</td>\n",
       "      <td>1.5</td>\n",
       "      <td>0.0</td>\n",
       "      <td>0.0</td>\n",
       "    </tr>\n",
       "    <tr>\n",
       "      <th>25</th>\n",
       "      <td>60min</td>\n",
       "      <td>30.0</td>\n",
       "      <td>1.5</td>\n",
       "      <td>0.0</td>\n",
       "      <td>0.0</td>\n",
       "    </tr>\n",
       "    <tr>\n",
       "      <th>94</th>\n",
       "      <td>195min</td>\n",
       "      <td>90.0</td>\n",
       "      <td>2.0</td>\n",
       "      <td>0.0</td>\n",
       "      <td>0.0</td>\n",
       "    </tr>\n",
       "    <tr>\n",
       "      <th>95</th>\n",
       "      <td>240min</td>\n",
       "      <td>90.0</td>\n",
       "      <td>2.0</td>\n",
       "      <td>0.0</td>\n",
       "      <td>0.0</td>\n",
       "    </tr>\n",
       "  </tbody>\n",
       "</table>\n",
       "</div>"
      ],
      "text/plain": [
       "    period  window  no_of_std  result  total_trades\n",
       "37   60min    42.0        1.5     0.0           0.0\n",
       "36   15min    42.0        1.5     0.0           0.0\n",
       "35  240min    30.0        2.0     0.0           0.0\n",
       "34  195min    30.0        2.0     0.0           0.0\n",
       "33  150min    30.0        2.0     0.0           0.0\n",
       "32  105min    30.0        2.0     0.0           0.0\n",
       "31   60min    30.0        2.0     0.0           0.0\n",
       "30   15min    30.0        2.0     0.0           0.0\n",
       "29  240min    30.0        1.5     0.0           0.0\n",
       "28  195min    30.0        1.5     0.0           0.0\n",
       "27  150min    30.0        1.5     0.0           0.0\n",
       "26  105min    30.0        1.5     0.0           0.0\n",
       "25   60min    30.0        1.5     0.0           0.0\n",
       "94  195min    90.0        2.0     0.0           0.0\n",
       "95  240min    90.0        2.0     0.0           0.0"
      ]
     },
     "execution_count": 23,
     "metadata": {},
     "output_type": "execute_result"
    }
   ],
   "source": [
    "result_df.sort_values(by='result').tail(15) # Hours results in 1-2 trades. Test minutes"
   ]
  },
  {
   "cell_type": "code",
   "execution_count": 22,
   "metadata": {},
   "outputs": [
    {
     "name": "stderr",
     "output_type": "stream",
     "text": [
      "/var/folders/0r/jkhwtgvx0wb9vrk6xn4bmz2m0000gn/T/ipykernel_85509/3784085997.py:1: FutureWarning: Dropping of nuisance columns in DataFrame reductions (with 'numeric_only=None') is deprecated; in a future version this will raise TypeError.  Select only valid columns before calling the reduction.\n",
      "  result_df.sort_values(by='result').tail(15).mean()\n"
     ]
    },
    {
     "data": {
      "text/plain": [
       "window          39.600000\n",
       "no_of_std        1.766667\n",
       "result           0.000000\n",
       "total_trades     0.000000\n",
       "dtype: float64"
      ]
     },
     "execution_count": 22,
     "metadata": {},
     "output_type": "execute_result"
    }
   ],
   "source": [
    "result_df.sort_values(by='result').tail(15).mean()"
   ]
  },
  {
   "cell_type": "code",
   "execution_count": null,
   "metadata": {},
   "outputs": [],
   "source": [
    "WINNING_STRATEGY_INDEX = 30"
   ]
  },
  {
   "cell_type": "markdown",
   "metadata": {},
   "source": [
    "### Look at the trading pattern for a winning strategy"
   ]
  },
  {
   "cell_type": "code",
   "execution_count": null,
   "metadata": {},
   "outputs": [
    {
     "data": {
      "text/plain": [
       "datetime\n",
       "2018-01-11 00:00:00         NaN\n",
       "2018-01-11 06:40:00         NaN\n",
       "2018-01-11 13:20:00         NaN\n",
       "2018-01-11 20:00:00         NaN\n",
       "2018-01-12 02:40:00         NaN\n",
       "                         ...   \n",
       "2019-01-07 02:40:00    2.798846\n",
       "2019-01-07 09:20:00    3.080088\n",
       "2019-01-07 16:00:00    3.041177\n",
       "2019-01-07 22:40:00    3.071222\n",
       "2019-01-08 05:20:00    3.091579\n",
       "Freq: 400T, Name: Strategy Return, Length: 1305, dtype: float64"
      ]
     },
     "execution_count": 220,
     "metadata": {},
     "output_type": "execute_result"
    }
   ],
   "source": [
    "simulations[WINNING_STRATEGY_INDEX].df['Strategy Return'].cumsum()"
   ]
  },
  {
   "cell_type": "code",
   "execution_count": null,
   "metadata": {},
   "outputs": [
    {
     "data": {
      "text/plain": [
       "<AxesSubplot:xlabel='datetime'>"
      ]
     },
     "execution_count": 221,
     "metadata": {},
     "output_type": "execute_result"
    },
    {
     "data": {
      "image/png": "[encoded data removed]",
      "text/plain": [
       "<Figure size 432x288 with 1 Axes>"
      ]
     },
     "metadata": {
      "needs_background": "light"
     },
     "output_type": "display_data"
    }
   ],
   "source": [
    "simulations[WINNING_STRATEGY_INDEX].df['Strategy Return'].cumsum().plot()\n",
    "simulations[WINNING_STRATEGY_INDEX].df['Position'].plot()"
   ]
  },
  {
   "cell_type": "code",
   "execution_count": 162,
   "metadata": {},
   "outputs": [
    {
     "data": {
      "text/plain": [
       "<AxesSubplot:xlabel='datetime'>"
      ]
     },
     "execution_count": 162,
     "metadata": {},
     "output_type": "execute_result"
    },
    {
     "data": {
      "image/png": "[encoded data removed]",
      "text/plain": [
       "<Figure size 432x288 with 1 Axes>"
      ]
     },
     "metadata": {
      "needs_background": "light"
     },
     "output_type": "display_data"
    }
   ],
   "source": [
    "simulations[WINNING_STRATEGY_INDEX].df['Number of Trades'].plot()"
   ]
  },
  {
   "cell_type": "code",
   "execution_count": null,
   "metadata": {},
   "outputs": [],
   "source": []
  }
 ],
 "metadata": {
  "interpreter": {
   "hash": "6fd7458b43c11d676403a17660633b3c3775926a65d35799b38befe9ce2bd9e4"
  },
  "kernelspec": {
   "display_name": "go-trader",
   "language": "python",
   "name": "go-trader"
  },
  "language_info": {
   "codemirror_mode": {
    "name": "ipython",
    "version": 3
   },
   "file_extension": ".py",
   "mimetype": "text/x-python",
   "name": "python",
   "nbconvert_exporter": "python",
   "pygments_lexer": "ipython3",
   "version": "3.8.0"
  }
 },
 "nbformat": 4,
 "nbformat_minor": 4
}
