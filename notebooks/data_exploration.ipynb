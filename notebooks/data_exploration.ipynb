{
 "cells": [
  {
   "cell_type": "code",
   "execution_count": 190,
   "source": [
    "import time\n",
    "from datetime import datetime\n",
    "from tqdm.keras import TqdmCallback\n",
    "import numpy as np\n",
    "import pandas as pd\n",
    "import matplotlib.pyplot as plt\n",
    "\n",
    "\n",
    "from sklearn.preprocessing import MinMaxScaler\n",
    "from tensorflow.keras.models import Sequential, load_model\n",
    "from tensorflow.keras.layers import LSTM, Dense, Dropout\n",
    "\n",
    "%pylab inline"
   ],
   "outputs": [
    {
     "output_type": "stream",
     "name": "stdout",
     "text": [
      "Populating the interactive namespace from numpy and matplotlib\n"
     ]
    },
    {
     "output_type": "stream",
     "name": "stderr",
     "text": [
      "/Users/jonathanhilgart/Library/Caches/pypoetry/virtualenvs/go-trader-aTWd7ZB6-py3.8/lib/python3.8/site-packages/IPython/core/magics/pylab.py:159: UserWarning: pylab import has clobbered these variables: ['datetime']\n",
      "`%matplotlib` prevents importing * from pylab and numpy\n",
      "  warn(\"pylab import has clobbered these variables: %s\"  % clobbered +\n"
     ]
    }
   ],
   "metadata": {}
  },
  {
   "cell_type": "markdown",
   "source": [
    "# Read in data"
   ],
   "metadata": {}
  },
  {
   "cell_type": "markdown",
   "source": [
    "#\n",
    "- https://blog.rmotr.com/bitcoin-trading-with-python-bollinger-bands-strategy-analysis-b1a223385a89"
   ],
   "metadata": {}
  },
  {
   "cell_type": "code",
   "execution_count": null,
   "source": [],
   "outputs": [],
   "metadata": {}
  },
  {
   "cell_type": "code",
   "execution_count": 2,
   "source": [
    "data = pd.read_csv(\"../data/localbtcUSD.csv\", names=[\"datetime\", \"price\", \"volume\"],\n",
    "    index_col=0,\n",
    "    parse_dates=True)"
   ],
   "outputs": [],
   "metadata": {}
  },
  {
   "cell_type": "code",
   "execution_count": 3,
   "source": [
    "data.info()\n"
   ],
   "outputs": [
    {
     "output_type": "stream",
     "name": "stdout",
     "text": [
      "<class 'pandas.core.frame.DataFrame'>\n",
      "Int64Index: 3977580 entries, 1363046255 to 1546938874\n",
      "Data columns (total 2 columns):\n",
      " #   Column  Dtype  \n",
      "---  ------  -----  \n",
      " 0   price   float64\n",
      " 1   volume  float64\n",
      "dtypes: float64(2)\n",
      "memory usage: 91.0 MB\n"
     ]
    }
   ],
   "metadata": {}
  },
  {
   "cell_type": "code",
   "execution_count": 4,
   "source": [
    "data.index = pd.to_datetime(data.index, unit='s')"
   ],
   "outputs": [],
   "metadata": {}
  },
  {
   "cell_type": "code",
   "execution_count": 5,
   "source": [
    "data.head()"
   ],
   "outputs": [
    {
     "output_type": "execute_result",
     "data": {
      "text/plain": [
       "                     price   volume\n",
       "datetime                           \n",
       "2013-03-11 23:57:35  72.00   4.9999\n",
       "2013-03-12 19:36:32  67.79   1.9999\n",
       "2013-03-13 12:27:52  52.21  14.7684\n",
       "2013-03-13 17:06:01  56.29   0.6401\n",
       "2013-03-13 18:01:20  40.00   1.7500"
      ],
      "text/html": [
       "<div>\n",
       "<style scoped>\n",
       "    .dataframe tbody tr th:only-of-type {\n",
       "        vertical-align: middle;\n",
       "    }\n",
       "\n",
       "    .dataframe tbody tr th {\n",
       "        vertical-align: top;\n",
       "    }\n",
       "\n",
       "    .dataframe thead th {\n",
       "        text-align: right;\n",
       "    }\n",
       "</style>\n",
       "<table border=\"1\" class=\"dataframe\">\n",
       "  <thead>\n",
       "    <tr style=\"text-align: right;\">\n",
       "      <th></th>\n",
       "      <th>price</th>\n",
       "      <th>volume</th>\n",
       "    </tr>\n",
       "    <tr>\n",
       "      <th>datetime</th>\n",
       "      <th></th>\n",
       "      <th></th>\n",
       "    </tr>\n",
       "  </thead>\n",
       "  <tbody>\n",
       "    <tr>\n",
       "      <th>2013-03-11 23:57:35</th>\n",
       "      <td>72.00</td>\n",
       "      <td>4.9999</td>\n",
       "    </tr>\n",
       "    <tr>\n",
       "      <th>2013-03-12 19:36:32</th>\n",
       "      <td>67.79</td>\n",
       "      <td>1.9999</td>\n",
       "    </tr>\n",
       "    <tr>\n",
       "      <th>2013-03-13 12:27:52</th>\n",
       "      <td>52.21</td>\n",
       "      <td>14.7684</td>\n",
       "    </tr>\n",
       "    <tr>\n",
       "      <th>2013-03-13 17:06:01</th>\n",
       "      <td>56.29</td>\n",
       "      <td>0.6401</td>\n",
       "    </tr>\n",
       "    <tr>\n",
       "      <th>2013-03-13 18:01:20</th>\n",
       "      <td>40.00</td>\n",
       "      <td>1.7500</td>\n",
       "    </tr>\n",
       "  </tbody>\n",
       "</table>\n",
       "</div>"
      ]
     },
     "metadata": {},
     "execution_count": 5
    }
   ],
   "metadata": {}
  },
  {
   "cell_type": "code",
   "execution_count": 6,
   "source": [
    "data.tail()"
   ],
   "outputs": [
    {
     "output_type": "execute_result",
     "data": {
      "text/plain": [
       "                       price    volume\n",
       "datetime                              \n",
       "2019-01-08 09:11:30  4057.75  0.024644\n",
       "2019-01-08 09:12:14  6002.25  0.031655\n",
       "2019-01-08 09:13:12  4293.61  0.132988\n",
       "2019-01-08 09:13:44  4517.69  0.006641\n",
       "2019-01-08 09:14:34  4170.85  0.235444"
      ],
      "text/html": [
       "<div>\n",
       "<style scoped>\n",
       "    .dataframe tbody tr th:only-of-type {\n",
       "        vertical-align: middle;\n",
       "    }\n",
       "\n",
       "    .dataframe tbody tr th {\n",
       "        vertical-align: top;\n",
       "    }\n",
       "\n",
       "    .dataframe thead th {\n",
       "        text-align: right;\n",
       "    }\n",
       "</style>\n",
       "<table border=\"1\" class=\"dataframe\">\n",
       "  <thead>\n",
       "    <tr style=\"text-align: right;\">\n",
       "      <th></th>\n",
       "      <th>price</th>\n",
       "      <th>volume</th>\n",
       "    </tr>\n",
       "    <tr>\n",
       "      <th>datetime</th>\n",
       "      <th></th>\n",
       "      <th></th>\n",
       "    </tr>\n",
       "  </thead>\n",
       "  <tbody>\n",
       "    <tr>\n",
       "      <th>2019-01-08 09:11:30</th>\n",
       "      <td>4057.75</td>\n",
       "      <td>0.024644</td>\n",
       "    </tr>\n",
       "    <tr>\n",
       "      <th>2019-01-08 09:12:14</th>\n",
       "      <td>6002.25</td>\n",
       "      <td>0.031655</td>\n",
       "    </tr>\n",
       "    <tr>\n",
       "      <th>2019-01-08 09:13:12</th>\n",
       "      <td>4293.61</td>\n",
       "      <td>0.132988</td>\n",
       "    </tr>\n",
       "    <tr>\n",
       "      <th>2019-01-08 09:13:44</th>\n",
       "      <td>4517.69</td>\n",
       "      <td>0.006641</td>\n",
       "    </tr>\n",
       "    <tr>\n",
       "      <th>2019-01-08 09:14:34</th>\n",
       "      <td>4170.85</td>\n",
       "      <td>0.235444</td>\n",
       "    </tr>\n",
       "  </tbody>\n",
       "</table>\n",
       "</div>"
      ]
     },
     "metadata": {},
     "execution_count": 6
    }
   ],
   "metadata": {}
  },
  {
   "cell_type": "code",
   "execution_count": 7,
   "source": [
    "price_df = data.price.resample(\"D\").ohlc()"
   ],
   "outputs": [],
   "metadata": {}
  },
  {
   "cell_type": "markdown",
   "source": [
    "### Candles"
   ],
   "metadata": {}
  },
  {
   "cell_type": "code",
   "execution_count": 8,
   "source": [
    "price_df.head()"
   ],
   "outputs": [
    {
     "output_type": "execute_result",
     "data": {
      "text/plain": [
       "             open   high    low  close\n",
       "datetime                              \n",
       "2013-03-11  72.00  72.00  72.00  72.00\n",
       "2013-03-12  67.79  67.79  67.79  67.79\n",
       "2013-03-13  52.21  56.29  40.00  40.00\n",
       "2013-03-14  70.30  70.30  50.35  50.35\n",
       "2013-03-15  49.52  70.96  47.75  48.41"
      ],
      "text/html": [
       "<div>\n",
       "<style scoped>\n",
       "    .dataframe tbody tr th:only-of-type {\n",
       "        vertical-align: middle;\n",
       "    }\n",
       "\n",
       "    .dataframe tbody tr th {\n",
       "        vertical-align: top;\n",
       "    }\n",
       "\n",
       "    .dataframe thead th {\n",
       "        text-align: right;\n",
       "    }\n",
       "</style>\n",
       "<table border=\"1\" class=\"dataframe\">\n",
       "  <thead>\n",
       "    <tr style=\"text-align: right;\">\n",
       "      <th></th>\n",
       "      <th>open</th>\n",
       "      <th>high</th>\n",
       "      <th>low</th>\n",
       "      <th>close</th>\n",
       "    </tr>\n",
       "    <tr>\n",
       "      <th>datetime</th>\n",
       "      <th></th>\n",
       "      <th></th>\n",
       "      <th></th>\n",
       "      <th></th>\n",
       "    </tr>\n",
       "  </thead>\n",
       "  <tbody>\n",
       "    <tr>\n",
       "      <th>2013-03-11</th>\n",
       "      <td>72.00</td>\n",
       "      <td>72.00</td>\n",
       "      <td>72.00</td>\n",
       "      <td>72.00</td>\n",
       "    </tr>\n",
       "    <tr>\n",
       "      <th>2013-03-12</th>\n",
       "      <td>67.79</td>\n",
       "      <td>67.79</td>\n",
       "      <td>67.79</td>\n",
       "      <td>67.79</td>\n",
       "    </tr>\n",
       "    <tr>\n",
       "      <th>2013-03-13</th>\n",
       "      <td>52.21</td>\n",
       "      <td>56.29</td>\n",
       "      <td>40.00</td>\n",
       "      <td>40.00</td>\n",
       "    </tr>\n",
       "    <tr>\n",
       "      <th>2013-03-14</th>\n",
       "      <td>70.30</td>\n",
       "      <td>70.30</td>\n",
       "      <td>50.35</td>\n",
       "      <td>50.35</td>\n",
       "    </tr>\n",
       "    <tr>\n",
       "      <th>2013-03-15</th>\n",
       "      <td>49.52</td>\n",
       "      <td>70.96</td>\n",
       "      <td>47.75</td>\n",
       "      <td>48.41</td>\n",
       "    </tr>\n",
       "  </tbody>\n",
       "</table>\n",
       "</div>"
      ]
     },
     "metadata": {},
     "execution_count": 8
    }
   ],
   "metadata": {}
  },
  {
   "cell_type": "markdown",
   "source": [
    "## Calculate Bollinger Bands"
   ],
   "metadata": {}
  },
  {
   "cell_type": "code",
   "execution_count": 110,
   "source": [
    "# set number of days and standard deviations to use for rolling \n",
    "# lookback period for Bollinger band calculation\n",
    "window = 60\n",
    "no_of_std = 1.5\n",
    "\n",
    "# calculate rolling mean and standard deviation\n",
    "rolling_mean = price_df['close'].rolling(window).mean()\n",
    "rolling_std = price_df['close'].rolling(window).std()\n",
    "\n",
    "# create two new DataFrame columns to hold values of upper and lower Bollinger bands\n",
    "price_df['Rolling Mean'] = rolling_mean\n",
    "price_df['Bollinger High'] = rolling_mean + (rolling_std * no_of_std)\n",
    "price_df['Bollinger Low'] = rolling_mean - (rolling_std * no_of_std)"
   ],
   "outputs": [],
   "metadata": {}
  },
  {
   "cell_type": "code",
   "execution_count": 111,
   "source": [
    "price_df.dropna(inplace=True)"
   ],
   "outputs": [],
   "metadata": {}
  },
  {
   "cell_type": "code",
   "execution_count": 115,
   "source": [
    "price_df"
   ],
   "outputs": [
    {
     "output_type": "execute_result",
     "data": {
      "text/plain": [
       "               open      high      low    close  Rolling Mean  Bollinger High  \\\n",
       "datetime                                                                        \n",
       "2014-12-12   350.40   5000.00   314.75   336.24    514.854833      643.516573   \n",
       "2014-12-13   386.98   5000.00   307.81   398.94    512.364500      642.783982   \n",
       "2014-12-14   349.82  10000.00   314.91   411.81    510.525000      642.371204   \n",
       "2014-12-15   412.67    867.05   228.80   361.25    508.442167      643.352298   \n",
       "2014-12-16   335.07   1200.48   217.94   396.01    506.604667      643.260834   \n",
       "...             ...       ...      ...      ...           ...             ...   \n",
       "2019-01-04  4160.00  17765.86  3039.91  4253.74   5215.888833     7754.694356   \n",
       "2019-01-05  4193.63  49922.62  3103.20  5656.52   5138.482667     7473.680047   \n",
       "2019-01-06  5060.00  45000.45  3230.35  6065.13   5135.433000     7467.581429   \n",
       "2019-01-07  4400.00  29961.20  3033.37  7982.54   5027.694333     6581.729868   \n",
       "2019-01-08  4800.00   8957.02  3383.77  4170.85   4987.658333     6520.071297   \n",
       "\n",
       "            Bollinger Low  Position  Market Return  Strategy Return  \n",
       "datetime                                                             \n",
       "2014-12-12     386.193094       1.0      -0.084314        -0.084314  \n",
       "2014-12-13     381.945018       1.0       0.186474         0.186474  \n",
       "2014-12-14     378.678796       1.0       0.032260         0.032260  \n",
       "2014-12-15     373.532036       1.0      -0.122775        -0.122775  \n",
       "2014-12-16     369.948500       1.0       0.096221         0.096221  \n",
       "...                   ...       ...            ...              ...  \n",
       "2019-01-04    2677.083311       1.0      -0.250396        -0.250396  \n",
       "2019-01-05    2803.285286       1.0       0.329776         0.329776  \n",
       "2019-01-06    2803.284571       1.0       0.072237         0.072237  \n",
       "2019-01-07    3473.658799       1.0       0.316137         0.316137  \n",
       "2019-01-08    3455.245370       1.0      -0.477503        -0.477503  \n",
       "\n",
       "[1489 rows x 10 columns]"
      ],
      "text/html": [
       "<div>\n",
       "<style scoped>\n",
       "    .dataframe tbody tr th:only-of-type {\n",
       "        vertical-align: middle;\n",
       "    }\n",
       "\n",
       "    .dataframe tbody tr th {\n",
       "        vertical-align: top;\n",
       "    }\n",
       "\n",
       "    .dataframe thead th {\n",
       "        text-align: right;\n",
       "    }\n",
       "</style>\n",
       "<table border=\"1\" class=\"dataframe\">\n",
       "  <thead>\n",
       "    <tr style=\"text-align: right;\">\n",
       "      <th></th>\n",
       "      <th>open</th>\n",
       "      <th>high</th>\n",
       "      <th>low</th>\n",
       "      <th>close</th>\n",
       "      <th>Rolling Mean</th>\n",
       "      <th>Bollinger High</th>\n",
       "      <th>Bollinger Low</th>\n",
       "      <th>Position</th>\n",
       "      <th>Market Return</th>\n",
       "      <th>Strategy Return</th>\n",
       "    </tr>\n",
       "    <tr>\n",
       "      <th>datetime</th>\n",
       "      <th></th>\n",
       "      <th></th>\n",
       "      <th></th>\n",
       "      <th></th>\n",
       "      <th></th>\n",
       "      <th></th>\n",
       "      <th></th>\n",
       "      <th></th>\n",
       "      <th></th>\n",
       "      <th></th>\n",
       "    </tr>\n",
       "  </thead>\n",
       "  <tbody>\n",
       "    <tr>\n",
       "      <th>2014-12-12</th>\n",
       "      <td>350.40</td>\n",
       "      <td>5000.00</td>\n",
       "      <td>314.75</td>\n",
       "      <td>336.24</td>\n",
       "      <td>514.854833</td>\n",
       "      <td>643.516573</td>\n",
       "      <td>386.193094</td>\n",
       "      <td>1.0</td>\n",
       "      <td>-0.084314</td>\n",
       "      <td>-0.084314</td>\n",
       "    </tr>\n",
       "    <tr>\n",
       "      <th>2014-12-13</th>\n",
       "      <td>386.98</td>\n",
       "      <td>5000.00</td>\n",
       "      <td>307.81</td>\n",
       "      <td>398.94</td>\n",
       "      <td>512.364500</td>\n",
       "      <td>642.783982</td>\n",
       "      <td>381.945018</td>\n",
       "      <td>1.0</td>\n",
       "      <td>0.186474</td>\n",
       "      <td>0.186474</td>\n",
       "    </tr>\n",
       "    <tr>\n",
       "      <th>2014-12-14</th>\n",
       "      <td>349.82</td>\n",
       "      <td>10000.00</td>\n",
       "      <td>314.91</td>\n",
       "      <td>411.81</td>\n",
       "      <td>510.525000</td>\n",
       "      <td>642.371204</td>\n",
       "      <td>378.678796</td>\n",
       "      <td>1.0</td>\n",
       "      <td>0.032260</td>\n",
       "      <td>0.032260</td>\n",
       "    </tr>\n",
       "    <tr>\n",
       "      <th>2014-12-15</th>\n",
       "      <td>412.67</td>\n",
       "      <td>867.05</td>\n",
       "      <td>228.80</td>\n",
       "      <td>361.25</td>\n",
       "      <td>508.442167</td>\n",
       "      <td>643.352298</td>\n",
       "      <td>373.532036</td>\n",
       "      <td>1.0</td>\n",
       "      <td>-0.122775</td>\n",
       "      <td>-0.122775</td>\n",
       "    </tr>\n",
       "    <tr>\n",
       "      <th>2014-12-16</th>\n",
       "      <td>335.07</td>\n",
       "      <td>1200.48</td>\n",
       "      <td>217.94</td>\n",
       "      <td>396.01</td>\n",
       "      <td>506.604667</td>\n",
       "      <td>643.260834</td>\n",
       "      <td>369.948500</td>\n",
       "      <td>1.0</td>\n",
       "      <td>0.096221</td>\n",
       "      <td>0.096221</td>\n",
       "    </tr>\n",
       "    <tr>\n",
       "      <th>...</th>\n",
       "      <td>...</td>\n",
       "      <td>...</td>\n",
       "      <td>...</td>\n",
       "      <td>...</td>\n",
       "      <td>...</td>\n",
       "      <td>...</td>\n",
       "      <td>...</td>\n",
       "      <td>...</td>\n",
       "      <td>...</td>\n",
       "      <td>...</td>\n",
       "    </tr>\n",
       "    <tr>\n",
       "      <th>2019-01-04</th>\n",
       "      <td>4160.00</td>\n",
       "      <td>17765.86</td>\n",
       "      <td>3039.91</td>\n",
       "      <td>4253.74</td>\n",
       "      <td>5215.888833</td>\n",
       "      <td>7754.694356</td>\n",
       "      <td>2677.083311</td>\n",
       "      <td>1.0</td>\n",
       "      <td>-0.250396</td>\n",
       "      <td>-0.250396</td>\n",
       "    </tr>\n",
       "    <tr>\n",
       "      <th>2019-01-05</th>\n",
       "      <td>4193.63</td>\n",
       "      <td>49922.62</td>\n",
       "      <td>3103.20</td>\n",
       "      <td>5656.52</td>\n",
       "      <td>5138.482667</td>\n",
       "      <td>7473.680047</td>\n",
       "      <td>2803.285286</td>\n",
       "      <td>1.0</td>\n",
       "      <td>0.329776</td>\n",
       "      <td>0.329776</td>\n",
       "    </tr>\n",
       "    <tr>\n",
       "      <th>2019-01-06</th>\n",
       "      <td>5060.00</td>\n",
       "      <td>45000.45</td>\n",
       "      <td>3230.35</td>\n",
       "      <td>6065.13</td>\n",
       "      <td>5135.433000</td>\n",
       "      <td>7467.581429</td>\n",
       "      <td>2803.284571</td>\n",
       "      <td>1.0</td>\n",
       "      <td>0.072237</td>\n",
       "      <td>0.072237</td>\n",
       "    </tr>\n",
       "    <tr>\n",
       "      <th>2019-01-07</th>\n",
       "      <td>4400.00</td>\n",
       "      <td>29961.20</td>\n",
       "      <td>3033.37</td>\n",
       "      <td>7982.54</td>\n",
       "      <td>5027.694333</td>\n",
       "      <td>6581.729868</td>\n",
       "      <td>3473.658799</td>\n",
       "      <td>1.0</td>\n",
       "      <td>0.316137</td>\n",
       "      <td>0.316137</td>\n",
       "    </tr>\n",
       "    <tr>\n",
       "      <th>2019-01-08</th>\n",
       "      <td>4800.00</td>\n",
       "      <td>8957.02</td>\n",
       "      <td>3383.77</td>\n",
       "      <td>4170.85</td>\n",
       "      <td>4987.658333</td>\n",
       "      <td>6520.071297</td>\n",
       "      <td>3455.245370</td>\n",
       "      <td>1.0</td>\n",
       "      <td>-0.477503</td>\n",
       "      <td>-0.477503</td>\n",
       "    </tr>\n",
       "  </tbody>\n",
       "</table>\n",
       "<p>1489 rows × 10 columns</p>\n",
       "</div>"
      ]
     },
     "metadata": {},
     "execution_count": 115
    }
   ],
   "metadata": {}
  },
  {
   "cell_type": "code",
   "execution_count": 112,
   "source": [
    "price_df.info()"
   ],
   "outputs": [
    {
     "output_type": "stream",
     "name": "stdout",
     "text": [
      "<class 'pandas.core.frame.DataFrame'>\n",
      "DatetimeIndex: 1489 entries, 2014-12-12 to 2019-01-08\n",
      "Data columns (total 10 columns):\n",
      " #   Column           Non-Null Count  Dtype  \n",
      "---  ------           --------------  -----  \n",
      " 0   open             1489 non-null   float64\n",
      " 1   high             1489 non-null   float64\n",
      " 2   low              1489 non-null   float64\n",
      " 3   close            1489 non-null   float64\n",
      " 4   Rolling Mean     1489 non-null   float64\n",
      " 5   Bollinger High   1489 non-null   float64\n",
      " 6   Bollinger Low    1489 non-null   float64\n",
      " 7   Position         1489 non-null   float64\n",
      " 8   Market Return    1489 non-null   float64\n",
      " 9   Strategy Return  1489 non-null   float64\n",
      "dtypes: float64(10)\n",
      "memory usage: 128.0 KB\n"
     ]
    }
   ],
   "metadata": {}
  },
  {
   "cell_type": "code",
   "execution_count": 113,
   "source": [
    "price_df[['close','Bollinger High','Bollinger Low']].plot()\n"
   ],
   "outputs": [
    {
     "output_type": "execute_result",
     "data": {
      "text/plain": [
       "<AxesSubplot:xlabel='datetime'>"
      ]
     },
     "metadata": {},
     "execution_count": 113
    },
    {
     "output_type": "display_data",
     "data": {
      "text/plain": [
       "<Figure size 432x288 with 1 Axes>"
      ],
      "image/png": "[encoded data removed]"
     },
     "metadata": {
      "needs_background": "light"
     }
    }
   ],
   "metadata": {}
  },
  {
   "cell_type": "code",
   "execution_count": 135,
   "source": [
    "price_df"
   ],
   "outputs": [
    {
     "output_type": "execute_result",
     "data": {
      "text/plain": [
       "               open      high      low    close  Rolling Mean  Bollinger High  \\\n",
       "datetime                                                                        \n",
       "2014-12-12   350.40   5000.00   314.75   336.24    514.854833      643.516573   \n",
       "2014-12-13   386.98   5000.00   307.81   398.94    512.364500      642.783982   \n",
       "2014-12-14   349.82  10000.00   314.91   411.81    510.525000      642.371204   \n",
       "2014-12-15   412.67    867.05   228.80   361.25    508.442167      643.352298   \n",
       "2014-12-16   335.07   1200.48   217.94   396.01    506.604667      643.260834   \n",
       "...             ...       ...      ...      ...           ...             ...   \n",
       "2019-01-04  4160.00  17765.86  3039.91  4253.74   5215.888833     7754.694356   \n",
       "2019-01-05  4193.63  49922.62  3103.20  5656.52   5138.482667     7473.680047   \n",
       "2019-01-06  5060.00  45000.45  3230.35  6065.13   5135.433000     7467.581429   \n",
       "2019-01-07  4400.00  29961.20  3033.37  7982.54   5027.694333     6581.729868   \n",
       "2019-01-08  4800.00   8957.02  3383.77  4170.85   4987.658333     6520.071297   \n",
       "\n",
       "            Bollinger Low  Position  Market Return  Strategy Return  \n",
       "datetime                                                             \n",
       "2014-12-12     386.193094       1.0      -0.084314        -0.084314  \n",
       "2014-12-13     381.945018       1.0       0.186474         0.186474  \n",
       "2014-12-14     378.678796       1.0       0.032260         0.032260  \n",
       "2014-12-15     373.532036       1.0      -0.122775        -0.122775  \n",
       "2014-12-16     369.948500       1.0       0.096221         0.096221  \n",
       "...                   ...       ...            ...              ...  \n",
       "2019-01-04    2677.083311       1.0      -0.250396        -0.250396  \n",
       "2019-01-05    2803.285286       1.0       0.329776         0.329776  \n",
       "2019-01-06    2803.284571       1.0       0.072237         0.072237  \n",
       "2019-01-07    3473.658799       1.0       0.316137         0.316137  \n",
       "2019-01-08    3455.245370       1.0      -0.477503        -0.477503  \n",
       "\n",
       "[1489 rows x 10 columns]"
      ],
      "text/html": [
       "<div>\n",
       "<style scoped>\n",
       "    .dataframe tbody tr th:only-of-type {\n",
       "        vertical-align: middle;\n",
       "    }\n",
       "\n",
       "    .dataframe tbody tr th {\n",
       "        vertical-align: top;\n",
       "    }\n",
       "\n",
       "    .dataframe thead th {\n",
       "        text-align: right;\n",
       "    }\n",
       "</style>\n",
       "<table border=\"1\" class=\"dataframe\">\n",
       "  <thead>\n",
       "    <tr style=\"text-align: right;\">\n",
       "      <th></th>\n",
       "      <th>open</th>\n",
       "      <th>high</th>\n",
       "      <th>low</th>\n",
       "      <th>close</th>\n",
       "      <th>Rolling Mean</th>\n",
       "      <th>Bollinger High</th>\n",
       "      <th>Bollinger Low</th>\n",
       "      <th>Position</th>\n",
       "      <th>Market Return</th>\n",
       "      <th>Strategy Return</th>\n",
       "    </tr>\n",
       "    <tr>\n",
       "      <th>datetime</th>\n",
       "      <th></th>\n",
       "      <th></th>\n",
       "      <th></th>\n",
       "      <th></th>\n",
       "      <th></th>\n",
       "      <th></th>\n",
       "      <th></th>\n",
       "      <th></th>\n",
       "      <th></th>\n",
       "      <th></th>\n",
       "    </tr>\n",
       "  </thead>\n",
       "  <tbody>\n",
       "    <tr>\n",
       "      <th>2014-12-12</th>\n",
       "      <td>350.40</td>\n",
       "      <td>5000.00</td>\n",
       "      <td>314.75</td>\n",
       "      <td>336.24</td>\n",
       "      <td>514.854833</td>\n",
       "      <td>643.516573</td>\n",
       "      <td>386.193094</td>\n",
       "      <td>1.0</td>\n",
       "      <td>-0.084314</td>\n",
       "      <td>-0.084314</td>\n",
       "    </tr>\n",
       "    <tr>\n",
       "      <th>2014-12-13</th>\n",
       "      <td>386.98</td>\n",
       "      <td>5000.00</td>\n",
       "      <td>307.81</td>\n",
       "      <td>398.94</td>\n",
       "      <td>512.364500</td>\n",
       "      <td>642.783982</td>\n",
       "      <td>381.945018</td>\n",
       "      <td>1.0</td>\n",
       "      <td>0.186474</td>\n",
       "      <td>0.186474</td>\n",
       "    </tr>\n",
       "    <tr>\n",
       "      <th>2014-12-14</th>\n",
       "      <td>349.82</td>\n",
       "      <td>10000.00</td>\n",
       "      <td>314.91</td>\n",
       "      <td>411.81</td>\n",
       "      <td>510.525000</td>\n",
       "      <td>642.371204</td>\n",
       "      <td>378.678796</td>\n",
       "      <td>1.0</td>\n",
       "      <td>0.032260</td>\n",
       "      <td>0.032260</td>\n",
       "    </tr>\n",
       "    <tr>\n",
       "      <th>2014-12-15</th>\n",
       "      <td>412.67</td>\n",
       "      <td>867.05</td>\n",
       "      <td>228.80</td>\n",
       "      <td>361.25</td>\n",
       "      <td>508.442167</td>\n",
       "      <td>643.352298</td>\n",
       "      <td>373.532036</td>\n",
       "      <td>1.0</td>\n",
       "      <td>-0.122775</td>\n",
       "      <td>-0.122775</td>\n",
       "    </tr>\n",
       "    <tr>\n",
       "      <th>2014-12-16</th>\n",
       "      <td>335.07</td>\n",
       "      <td>1200.48</td>\n",
       "      <td>217.94</td>\n",
       "      <td>396.01</td>\n",
       "      <td>506.604667</td>\n",
       "      <td>643.260834</td>\n",
       "      <td>369.948500</td>\n",
       "      <td>1.0</td>\n",
       "      <td>0.096221</td>\n",
       "      <td>0.096221</td>\n",
       "    </tr>\n",
       "    <tr>\n",
       "      <th>...</th>\n",
       "      <td>...</td>\n",
       "      <td>...</td>\n",
       "      <td>...</td>\n",
       "      <td>...</td>\n",
       "      <td>...</td>\n",
       "      <td>...</td>\n",
       "      <td>...</td>\n",
       "      <td>...</td>\n",
       "      <td>...</td>\n",
       "      <td>...</td>\n",
       "    </tr>\n",
       "    <tr>\n",
       "      <th>2019-01-04</th>\n",
       "      <td>4160.00</td>\n",
       "      <td>17765.86</td>\n",
       "      <td>3039.91</td>\n",
       "      <td>4253.74</td>\n",
       "      <td>5215.888833</td>\n",
       "      <td>7754.694356</td>\n",
       "      <td>2677.083311</td>\n",
       "      <td>1.0</td>\n",
       "      <td>-0.250396</td>\n",
       "      <td>-0.250396</td>\n",
       "    </tr>\n",
       "    <tr>\n",
       "      <th>2019-01-05</th>\n",
       "      <td>4193.63</td>\n",
       "      <td>49922.62</td>\n",
       "      <td>3103.20</td>\n",
       "      <td>5656.52</td>\n",
       "      <td>5138.482667</td>\n",
       "      <td>7473.680047</td>\n",
       "      <td>2803.285286</td>\n",
       "      <td>1.0</td>\n",
       "      <td>0.329776</td>\n",
       "      <td>0.329776</td>\n",
       "    </tr>\n",
       "    <tr>\n",
       "      <th>2019-01-06</th>\n",
       "      <td>5060.00</td>\n",
       "      <td>45000.45</td>\n",
       "      <td>3230.35</td>\n",
       "      <td>6065.13</td>\n",
       "      <td>5135.433000</td>\n",
       "      <td>7467.581429</td>\n",
       "      <td>2803.284571</td>\n",
       "      <td>1.0</td>\n",
       "      <td>0.072237</td>\n",
       "      <td>0.072237</td>\n",
       "    </tr>\n",
       "    <tr>\n",
       "      <th>2019-01-07</th>\n",
       "      <td>4400.00</td>\n",
       "      <td>29961.20</td>\n",
       "      <td>3033.37</td>\n",
       "      <td>7982.54</td>\n",
       "      <td>5027.694333</td>\n",
       "      <td>6581.729868</td>\n",
       "      <td>3473.658799</td>\n",
       "      <td>1.0</td>\n",
       "      <td>0.316137</td>\n",
       "      <td>0.316137</td>\n",
       "    </tr>\n",
       "    <tr>\n",
       "      <th>2019-01-08</th>\n",
       "      <td>4800.00</td>\n",
       "      <td>8957.02</td>\n",
       "      <td>3383.77</td>\n",
       "      <td>4170.85</td>\n",
       "      <td>4987.658333</td>\n",
       "      <td>6520.071297</td>\n",
       "      <td>3455.245370</td>\n",
       "      <td>1.0</td>\n",
       "      <td>-0.477503</td>\n",
       "      <td>-0.477503</td>\n",
       "    </tr>\n",
       "  </tbody>\n",
       "</table>\n",
       "<p>1489 rows × 10 columns</p>\n",
       "</div>"
      ]
     },
     "metadata": {},
     "execution_count": 135
    }
   ],
   "metadata": {}
  },
  {
   "cell_type": "code",
   "execution_count": 133,
   "source": [
    "price_df[price_df.index >= '2018-10-01'][['close','Bollinger High','Bollinger Low', 'Rolling Mean']].plot()\n"
   ],
   "outputs": [
    {
     "output_type": "execute_result",
     "data": {
      "text/plain": [
       "<AxesSubplot:xlabel='datetime'>"
      ]
     },
     "metadata": {},
     "execution_count": 133
    },
    {
     "output_type": "display_data",
     "data": {
      "text/plain": [
       "<Figure size 432x288 with 1 Axes>"
      ],
      "image/png": "[encoded data removed]"
     },
     "metadata": {
      "needs_background": "light"
     }
    }
   ],
   "metadata": {}
  },
  {
   "cell_type": "markdown",
   "source": [
    "### Train LSTM"
   ],
   "metadata": {}
  },
  {
   "cell_type": "code",
   "execution_count": 209,
   "source": [
    "COLS = ['open',\t'high',\t'low',\t'close',\t'Rolling Mean',\t'Bollinger High',\t'Bollinger Low']\n",
    "dataset_train = price_df[:int(price_df.shape[0]*0.8) ][COLS] \n",
    "dataset_test = price_df[int(price_df.shape[0]*0.8):][COLS]"
   ],
   "outputs": [],
   "metadata": {}
  },
  {
   "cell_type": "code",
   "execution_count": 210,
   "source": [
    "dataset_train.shape"
   ],
   "outputs": [
    {
     "output_type": "execute_result",
     "data": {
      "text/plain": [
       "(1191, 7)"
      ]
     },
     "metadata": {},
     "execution_count": 210
    }
   ],
   "metadata": {}
  },
  {
   "cell_type": "code",
   "execution_count": null,
   "source": [],
   "outputs": [],
   "metadata": {}
  },
  {
   "cell_type": "code",
   "execution_count": 218,
   "source": [
    "def create_dataset(df, n_days=7):\n",
    "    X_COLS = ['open',\t'high',\t'low',\t\t'Rolling Mean',\t'Bollinger High',\t'Bollinger Low']\n",
    "    Y_COL = ['close']\n",
    "    x = []\n",
    "    y = []\n",
    "    for i in range(n_days, df.shape[0]):\n",
    "        x.append(df.loc[i-n_days:i, X_COLS])\n",
    "        y.append(df.loc[i, Y_COL])\n",
    "    x = np.array(x)\n",
    "    y = np.array(y)\n",
    "    return x,y"
   ],
   "outputs": [],
   "metadata": {}
  },
  {
   "cell_type": "code",
   "execution_count": 236,
   "source": [
    "dataset_train.reset_index(drop=True).loc[10:15,  ['open',\t'high',\t'low',\t\t'Rolling Mean',\t'Bollinger High',\t'Bollinger Low']]"
   ],
   "outputs": [
    {
     "output_type": "execute_result",
     "data": {
      "text/plain": [
       "      open     high     low  Rolling Mean  Bollinger High  Bollinger Low\n",
       "10  341.69  3333.33  289.38    496.520833      647.612178     345.429489\n",
       "11  396.04  2990.43  285.71    490.880167      637.437637     344.322696\n",
       "12  404.14   700.00  283.53    489.098500      636.396776     341.800224\n",
       "13  637.76   798.72  264.31    486.406000      635.746144     337.065856\n",
       "14  379.61  1300.39  291.11    482.787500      633.385399     332.189601\n",
       "15  950.12  1264.22  206.06    479.745333      630.112937     329.377729"
      ],
      "text/html": [
       "<div>\n",
       "<style scoped>\n",
       "    .dataframe tbody tr th:only-of-type {\n",
       "        vertical-align: middle;\n",
       "    }\n",
       "\n",
       "    .dataframe tbody tr th {\n",
       "        vertical-align: top;\n",
       "    }\n",
       "\n",
       "    .dataframe thead th {\n",
       "        text-align: right;\n",
       "    }\n",
       "</style>\n",
       "<table border=\"1\" class=\"dataframe\">\n",
       "  <thead>\n",
       "    <tr style=\"text-align: right;\">\n",
       "      <th></th>\n",
       "      <th>open</th>\n",
       "      <th>high</th>\n",
       "      <th>low</th>\n",
       "      <th>Rolling Mean</th>\n",
       "      <th>Bollinger High</th>\n",
       "      <th>Bollinger Low</th>\n",
       "    </tr>\n",
       "  </thead>\n",
       "  <tbody>\n",
       "    <tr>\n",
       "      <th>10</th>\n",
       "      <td>341.69</td>\n",
       "      <td>3333.33</td>\n",
       "      <td>289.38</td>\n",
       "      <td>496.520833</td>\n",
       "      <td>647.612178</td>\n",
       "      <td>345.429489</td>\n",
       "    </tr>\n",
       "    <tr>\n",
       "      <th>11</th>\n",
       "      <td>396.04</td>\n",
       "      <td>2990.43</td>\n",
       "      <td>285.71</td>\n",
       "      <td>490.880167</td>\n",
       "      <td>637.437637</td>\n",
       "      <td>344.322696</td>\n",
       "    </tr>\n",
       "    <tr>\n",
       "      <th>12</th>\n",
       "      <td>404.14</td>\n",
       "      <td>700.00</td>\n",
       "      <td>283.53</td>\n",
       "      <td>489.098500</td>\n",
       "      <td>636.396776</td>\n",
       "      <td>341.800224</td>\n",
       "    </tr>\n",
       "    <tr>\n",
       "      <th>13</th>\n",
       "      <td>637.76</td>\n",
       "      <td>798.72</td>\n",
       "      <td>264.31</td>\n",
       "      <td>486.406000</td>\n",
       "      <td>635.746144</td>\n",
       "      <td>337.065856</td>\n",
       "    </tr>\n",
       "    <tr>\n",
       "      <th>14</th>\n",
       "      <td>379.61</td>\n",
       "      <td>1300.39</td>\n",
       "      <td>291.11</td>\n",
       "      <td>482.787500</td>\n",
       "      <td>633.385399</td>\n",
       "      <td>332.189601</td>\n",
       "    </tr>\n",
       "    <tr>\n",
       "      <th>15</th>\n",
       "      <td>950.12</td>\n",
       "      <td>1264.22</td>\n",
       "      <td>206.06</td>\n",
       "      <td>479.745333</td>\n",
       "      <td>630.112937</td>\n",
       "      <td>329.377729</td>\n",
       "    </tr>\n",
       "  </tbody>\n",
       "</table>\n",
       "</div>"
      ]
     },
     "metadata": {},
     "execution_count": 236
    }
   ],
   "metadata": {}
  },
  {
   "cell_type": "code",
   "execution_count": 227,
   "source": [
    "x_train, y_train = create_dataset(dataset_train.reset_index(drop=True))"
   ],
   "outputs": [],
   "metadata": {}
  },
  {
   "cell_type": "code",
   "execution_count": 229,
   "source": [
    "x_train.shape"
   ],
   "outputs": [
    {
     "output_type": "execute_result",
     "data": {
      "text/plain": [
       "(1184, 8, 6)"
      ]
     },
     "metadata": {},
     "execution_count": 229
    }
   ],
   "metadata": {}
  },
  {
   "cell_type": "code",
   "execution_count": 231,
   "source": [
    "x_test.shape"
   ],
   "outputs": [
    {
     "output_type": "execute_result",
     "data": {
      "text/plain": [
       "(291, 8, 6)"
      ]
     },
     "metadata": {},
     "execution_count": 231
    }
   ],
   "metadata": {}
  },
  {
   "cell_type": "code",
   "execution_count": 230,
   "source": [
    "x_test, y_test = create_dataset(dataset_test.reset_index(drop=True))"
   ],
   "outputs": [],
   "metadata": {}
  },
  {
   "cell_type": "code",
   "execution_count": 221,
   "source": [
    "y_train"
   ],
   "outputs": [
    {
     "output_type": "execute_result",
     "data": {
      "text/plain": [
       "array([  404.75,   444.71,   395.88, ..., 13773.93, 10375.41, 12817.88])"
      ]
     },
     "metadata": {},
     "execution_count": 221
    }
   ],
   "metadata": {}
  },
  {
   "cell_type": "code",
   "execution_count": 162,
   "source": [
    "\n",
    "scaler = MinMaxScaler(feature_range=(0,1))\n",
    "x_train = scaler.fit_transform(x_train)\n",
    "x_test = scaler.transform(x_test)"
   ],
   "outputs": [],
   "metadata": {}
  },
  {
   "cell_type": "code",
   "execution_count": 163,
   "source": [
    "# reshape for lstm\n",
    "x_train = np.reshape(x_train, (x_train.shape[0], x_train.shape[1], 1))\n",
    "x_test = np.reshape(x_test, (x_test.shape[0], x_test.shape[1], 1))"
   ],
   "outputs": [],
   "metadata": {}
  },
  {
   "cell_type": "code",
   "execution_count": 194,
   "source": [
    "def buid_lstm():\n",
    "    model = Sequential()\n",
    "    model.add(LSTM(units=96, return_sequences=True))\n",
    "    model.add(Dropout(0.02))\n",
    "    model.add(LSTM(units=96,return_sequences=True))\n",
    "    model.add(Dropout(0.020))\n",
    "    model.add(LSTM(units=96,return_sequences=True))\n",
    "    model.add(Dropout(0.02))\n",
    "    model.add(LSTM(units=96))\n",
    "    model.add(Dropout(0.0200))\n",
    "    model.add(Dense(units=1))\n",
    "    return model"
   ],
   "outputs": [],
   "metadata": {}
  },
  {
   "cell_type": "code",
   "execution_count": 195,
   "source": [
    "model = buid_lstm()"
   ],
   "outputs": [],
   "metadata": {}
  },
  {
   "cell_type": "code",
   "execution_count": 196,
   "source": [
    "x_train = np.reshape(x_train, (x_train.shape[0], x_train.shape[1], 1))\n",
    "x_test = np.reshape(x_test, (x_test.shape[0], x_test.shape[1], 1))"
   ],
   "outputs": [],
   "metadata": {}
  },
  {
   "cell_type": "code",
   "execution_count": 198,
   "source": [
    "x_train.shape"
   ],
   "outputs": [
    {
     "output_type": "execute_result",
     "data": {
      "text/plain": [
       "(1184, 7, 1)"
      ]
     },
     "metadata": {},
     "execution_count": 198
    }
   ],
   "metadata": {}
  },
  {
   "cell_type": "code",
   "execution_count": 199,
   "source": [
    "model.compile(loss='mean_squared_error', optimizer='adam')\n"
   ],
   "outputs": [],
   "metadata": {}
  },
  {
   "cell_type": "code",
   "execution_count": 204,
   "source": [
    "history = model.fit(x_train, y_train, epochs=500, batch_size=128, callbacks=[TqdmCallback(verbose=0)])"
   ],
   "outputs": [
    {
     "output_type": "stream",
     "name": "stderr",
     "text": [
      "\n",
      "\n",
      "\u001b[A\u001b[A\n",
      "\n",
      "\u001b[A\u001b[A"
     ]
    },
    {
     "output_type": "stream",
     "name": "stdout",
     "text": [
      "Epoch 1/500\n",
      "10/10 [==============================] - 0s 35ms/step - loss: 31899246.0000\n"
     ]
    },
    {
     "output_type": "stream",
     "name": "stderr",
     "text": [
      "\n",
      "\n",
      "\u001b[A\u001b[A"
     ]
    },
    {
     "output_type": "stream",
     "name": "stdout",
     "text": [
      "Epoch 2/500\n",
      "10/10 [==============================] - 0s 38ms/step - loss: 31894390.0000\n"
     ]
    },
    {
     "output_type": "stream",
     "name": "stderr",
     "text": [
      "\n",
      "\n",
      "\u001b[A\u001b[A"
     ]
    },
    {
     "output_type": "stream",
     "name": "stdout",
     "text": [
      "Epoch 3/500\n",
      "10/10 [==============================] - 0s 32ms/step - loss: 31889616.0000\n"
     ]
    },
    {
     "output_type": "stream",
     "name": "stderr",
     "text": [
      "\n",
      "\n",
      "\u001b[A\u001b[A"
     ]
    },
    {
     "output_type": "stream",
     "name": "stdout",
     "text": [
      "Epoch 4/500\n",
      "10/10 [==============================] - 0s 34ms/step - loss: 31884204.0000\n"
     ]
    },
    {
     "output_type": "stream",
     "name": "stderr",
     "text": [
      "\n",
      "\n",
      "\u001b[A\u001b[A"
     ]
    },
    {
     "output_type": "stream",
     "name": "stdout",
     "text": [
      "Epoch 5/500\n",
      "10/10 [==============================] - 0s 32ms/step - loss: 31879766.0000\n"
     ]
    },
    {
     "output_type": "stream",
     "name": "stderr",
     "text": [
      "\n",
      "\n",
      "\u001b[A\u001b[A"
     ]
    },
    {
     "output_type": "stream",
     "name": "stdout",
     "text": [
      "Epoch 6/500\n",
      "10/10 [==============================] - 0s 31ms/step - loss: 31874466.0000\n"
     ]
    },
    {
     "output_type": "stream",
     "name": "stderr",
     "text": [
      "\n",
      "\n",
      "\u001b[A\u001b[A"
     ]
    },
    {
     "output_type": "stream",
     "name": "stdout",
     "text": [
      "Epoch 7/500\n",
      "10/10 [==============================] - 0s 32ms/step - loss: 31870090.0000\n"
     ]
    },
    {
     "output_type": "stream",
     "name": "stderr",
     "text": [
      "\n",
      "\n",
      "\u001b[A\u001b[A"
     ]
    },
    {
     "output_type": "stream",
     "name": "stdout",
     "text": [
      "Epoch 8/500\n",
      "10/10 [==============================] - 0s 39ms/step - loss: 31864268.0000\n"
     ]
    },
    {
     "output_type": "stream",
     "name": "stderr",
     "text": [
      "\n",
      "\n",
      "\u001b[A\u001b[A"
     ]
    },
    {
     "output_type": "stream",
     "name": "stdout",
     "text": [
      "Epoch 9/500\n",
      "10/10 [==============================] - 0s 45ms/step - loss: 31859916.0000\n"
     ]
    },
    {
     "output_type": "stream",
     "name": "stderr",
     "text": [
      "\n",
      "\n",
      "\u001b[A\u001b[A"
     ]
    },
    {
     "output_type": "stream",
     "name": "stdout",
     "text": [
      "Epoch 10/500\n",
      "10/10 [==============================] - 0s 33ms/step - loss: 31854880.0000\n"
     ]
    },
    {
     "output_type": "stream",
     "name": "stderr",
     "text": [
      "\n",
      "\n",
      "\u001b[A\u001b[A"
     ]
    },
    {
     "output_type": "stream",
     "name": "stdout",
     "text": [
      "Epoch 11/500\n",
      "10/10 [==============================] - 0s 31ms/step - loss: 31850292.0000\n"
     ]
    },
    {
     "output_type": "stream",
     "name": "stderr",
     "text": [
      "\n",
      "\n",
      "\u001b[A\u001b[A"
     ]
    },
    {
     "output_type": "stream",
     "name": "stdout",
     "text": [
      "Epoch 12/500\n",
      "10/10 [==============================] - 0s 30ms/step - loss: 31844950.0000\n"
     ]
    },
    {
     "output_type": "stream",
     "name": "stderr",
     "text": [
      "\n",
      "\n",
      "\u001b[A\u001b[A"
     ]
    },
    {
     "output_type": "stream",
     "name": "stdout",
     "text": [
      "Epoch 13/500\n",
      "10/10 [==============================] - 0s 31ms/step - loss: 31839872.0000\n"
     ]
    },
    {
     "output_type": "stream",
     "name": "stderr",
     "text": [
      "\n",
      "\n",
      "\u001b[A\u001b[A"
     ]
    },
    {
     "output_type": "stream",
     "name": "stdout",
     "text": [
      "Epoch 14/500\n",
      "10/10 [==============================] - 0s 32ms/step - loss: 31836174.0000\n"
     ]
    },
    {
     "output_type": "stream",
     "name": "stderr",
     "text": [
      "\n",
      "\n",
      "\u001b[A\u001b[A"
     ]
    },
    {
     "output_type": "stream",
     "name": "stdout",
     "text": [
      "Epoch 15/500\n",
      "10/10 [==============================] - 0s 31ms/step - loss: 31830020.0000\n"
     ]
    },
    {
     "output_type": "stream",
     "name": "stderr",
     "text": [
      "\n",
      "\n",
      "\u001b[A\u001b[A"
     ]
    },
    {
     "output_type": "stream",
     "name": "stdout",
     "text": [
      "Epoch 16/500\n",
      "10/10 [==============================] - 0s 30ms/step - loss: 31826132.0000\n"
     ]
    },
    {
     "output_type": "stream",
     "name": "stderr",
     "text": [
      "\n",
      "\n",
      "\u001b[A\u001b[A"
     ]
    },
    {
     "output_type": "stream",
     "name": "stdout",
     "text": [
      "Epoch 17/500\n",
      "10/10 [==============================] - 0s 32ms/step - loss: 31820218.0000\n"
     ]
    },
    {
     "output_type": "stream",
     "name": "stderr",
     "text": [
      "\n",
      "\n",
      "\u001b[A\u001b[A"
     ]
    },
    {
     "output_type": "stream",
     "name": "stdout",
     "text": [
      "Epoch 18/500\n",
      "10/10 [==============================] - 0s 34ms/step - loss: 31815902.0000\n"
     ]
    },
    {
     "output_type": "stream",
     "name": "stderr",
     "text": [
      "\n",
      "\n",
      "\u001b[A\u001b[A"
     ]
    },
    {
     "output_type": "stream",
     "name": "stdout",
     "text": [
      "Epoch 19/500\n",
      "10/10 [==============================] - 0s 32ms/step - loss: 31810348.0000\n"
     ]
    },
    {
     "output_type": "stream",
     "name": "stderr",
     "text": [
      "\n",
      "\n",
      "\u001b[A\u001b[A"
     ]
    },
    {
     "output_type": "stream",
     "name": "stdout",
     "text": [
      "Epoch 20/500\n",
      "10/10 [==============================] - 0s 31ms/step - loss: 31805768.0000\n"
     ]
    },
    {
     "output_type": "stream",
     "name": "stderr",
     "text": [
      "\n",
      "\n",
      "\u001b[A\u001b[A"
     ]
    },
    {
     "output_type": "stream",
     "name": "stdout",
     "text": [
      "Epoch 21/500\n",
      "10/10 [==============================] - 0s 33ms/step - loss: 31800130.0000\n"
     ]
    },
    {
     "output_type": "stream",
     "name": "stderr",
     "text": [
      "\n",
      "\n",
      "\u001b[A\u001b[A"
     ]
    },
    {
     "output_type": "stream",
     "name": "stdout",
     "text": [
      "Epoch 22/500\n",
      "10/10 [==============================] - 0s 32ms/step - loss: 31795504.0000\n"
     ]
    },
    {
     "output_type": "stream",
     "name": "stderr",
     "text": [
      "\n",
      "\n",
      "\u001b[A\u001b[A"
     ]
    },
    {
     "output_type": "stream",
     "name": "stdout",
     "text": [
      "Epoch 23/500\n",
      "10/10 [==============================] - 0s 32ms/step - loss: 31791000.0000\n"
     ]
    },
    {
     "output_type": "stream",
     "name": "stderr",
     "text": [
      "\n",
      "\n",
      "\u001b[A\u001b[A"
     ]
    },
    {
     "output_type": "stream",
     "name": "stdout",
     "text": [
      "Epoch 24/500\n",
      "10/10 [==============================] - 0s 31ms/step - loss: 31785850.0000\n"
     ]
    },
    {
     "output_type": "stream",
     "name": "stderr",
     "text": [
      "\n",
      "\n",
      "\u001b[A\u001b[A"
     ]
    },
    {
     "output_type": "stream",
     "name": "stdout",
     "text": [
      "Epoch 25/500\n",
      "10/10 [==============================] - 0s 31ms/step - loss: 31781546.0000\n"
     ]
    },
    {
     "output_type": "stream",
     "name": "stderr",
     "text": [
      "\n",
      "\n",
      "\u001b[A\u001b[A"
     ]
    },
    {
     "output_type": "stream",
     "name": "stdout",
     "text": [
      "Epoch 26/500\n",
      "10/10 [==============================] - 0s 33ms/step - loss: 31775764.0000\n"
     ]
    },
    {
     "output_type": "stream",
     "name": "stderr",
     "text": [
      "\n",
      "\n",
      "\u001b[A\u001b[A"
     ]
    },
    {
     "output_type": "stream",
     "name": "stdout",
     "text": [
      "Epoch 27/500\n",
      "10/10 [==============================] - 0s 32ms/step - loss: 31772534.0000\n"
     ]
    },
    {
     "output_type": "stream",
     "name": "stderr",
     "text": [
      "\n",
      "\n",
      "\u001b[A\u001b[A"
     ]
    },
    {
     "output_type": "stream",
     "name": "stdout",
     "text": [
      "Epoch 28/500\n",
      "10/10 [==============================] - 0s 32ms/step - loss: 31765794.0000\n"
     ]
    },
    {
     "output_type": "stream",
     "name": "stderr",
     "text": [
      "\n",
      "\n",
      "\u001b[A\u001b[A"
     ]
    },
    {
     "output_type": "stream",
     "name": "stdout",
     "text": [
      "Epoch 29/500\n",
      "10/10 [==============================] - 0s 31ms/step - loss: 31761402.0000\n"
     ]
    },
    {
     "output_type": "stream",
     "name": "stderr",
     "text": [
      "\n",
      "\n",
      "\u001b[A\u001b[A"
     ]
    },
    {
     "output_type": "stream",
     "name": "stdout",
     "text": [
      "Epoch 30/500\n",
      "10/10 [==============================] - 0s 32ms/step - loss: 31756744.0000\n"
     ]
    },
    {
     "output_type": "stream",
     "name": "stderr",
     "text": [
      "\n",
      "\n",
      "\u001b[A\u001b[A"
     ]
    },
    {
     "output_type": "stream",
     "name": "stdout",
     "text": [
      "Epoch 31/500\n",
      "10/10 [==============================] - 0s 32ms/step - loss: 31751660.0000\n"
     ]
    },
    {
     "output_type": "stream",
     "name": "stderr",
     "text": [
      "\n",
      "\n",
      "\u001b[A\u001b[A"
     ]
    },
    {
     "output_type": "stream",
     "name": "stdout",
     "text": [
      "Epoch 32/500\n",
      "10/10 [==============================] - 0s 32ms/step - loss: 31747896.0000\n"
     ]
    },
    {
     "output_type": "stream",
     "name": "stderr",
     "text": [
      "\n",
      "\n",
      "\u001b[A\u001b[A"
     ]
    },
    {
     "output_type": "stream",
     "name": "stdout",
     "text": [
      "Epoch 33/500\n",
      "10/10 [==============================] - 0s 31ms/step - loss: 31742924.0000\n"
     ]
    },
    {
     "output_type": "stream",
     "name": "stderr",
     "text": [
      "\n",
      "\n",
      "\u001b[A\u001b[A"
     ]
    },
    {
     "output_type": "stream",
     "name": "stdout",
     "text": [
      "Epoch 34/500\n",
      "10/10 [==============================] - 0s 33ms/step - loss: 31737596.0000\n"
     ]
    },
    {
     "output_type": "stream",
     "name": "stderr",
     "text": [
      "\n",
      "\n",
      "\u001b[A\u001b[A"
     ]
    },
    {
     "output_type": "stream",
     "name": "stdout",
     "text": [
      "Epoch 35/500\n",
      "10/10 [==============================] - 0s 31ms/step - loss: 31733138.0000\n"
     ]
    },
    {
     "output_type": "stream",
     "name": "stderr",
     "text": [
      "\n",
      "\n",
      "\u001b[A\u001b[A"
     ]
    },
    {
     "output_type": "stream",
     "name": "stdout",
     "text": [
      "Epoch 36/500\n",
      "10/10 [==============================] - 0s 31ms/step - loss: 31727660.0000\n"
     ]
    },
    {
     "output_type": "stream",
     "name": "stderr",
     "text": [
      "\n",
      "\n",
      "\u001b[A\u001b[A"
     ]
    },
    {
     "output_type": "stream",
     "name": "stdout",
     "text": [
      "Epoch 37/500\n",
      "10/10 [==============================] - 0s 38ms/step - loss: 31722766.0000\n"
     ]
    },
    {
     "output_type": "stream",
     "name": "stderr",
     "text": [
      "\n",
      "\n",
      "\u001b[A\u001b[A"
     ]
    },
    {
     "output_type": "stream",
     "name": "stdout",
     "text": [
      "Epoch 38/500\n",
      "10/10 [==============================] - 0s 34ms/step - loss: 31717902.0000\n"
     ]
    },
    {
     "output_type": "stream",
     "name": "stderr",
     "text": [
      "\n",
      "\n",
      "\u001b[A\u001b[A"
     ]
    },
    {
     "output_type": "stream",
     "name": "stdout",
     "text": [
      "Epoch 39/500\n",
      "10/10 [==============================] - 0s 35ms/step - loss: 31713592.0000\n"
     ]
    },
    {
     "output_type": "stream",
     "name": "stderr",
     "text": [
      "\n",
      "\n",
      "\u001b[A\u001b[A"
     ]
    },
    {
     "output_type": "stream",
     "name": "stdout",
     "text": [
      "Epoch 40/500\n",
      "10/10 [==============================] - 0s 44ms/step - loss: 31706326.0000\n"
     ]
    },
    {
     "output_type": "stream",
     "name": "stderr",
     "text": [
      "\n",
      "\n",
      "\u001b[A\u001b[A"
     ]
    },
    {
     "output_type": "stream",
     "name": "stdout",
     "text": [
      "Epoch 41/500\n",
      "10/10 [==============================] - 0s 43ms/step - loss: 31702504.0000\n"
     ]
    },
    {
     "output_type": "stream",
     "name": "stderr",
     "text": [
      "\n",
      "\n",
      "\u001b[A\u001b[A"
     ]
    },
    {
     "output_type": "stream",
     "name": "stdout",
     "text": [
      "Epoch 42/500\n",
      "10/10 [==============================] - 0s 36ms/step - loss: 31698736.0000\n"
     ]
    },
    {
     "output_type": "stream",
     "name": "stderr",
     "text": [
      "\n",
      "\n",
      "\u001b[A\u001b[A"
     ]
    },
    {
     "output_type": "stream",
     "name": "stdout",
     "text": [
      "Epoch 43/500\n",
      "10/10 [==============================] - 0s 34ms/step - loss: 31693074.0000\n"
     ]
    },
    {
     "output_type": "stream",
     "name": "stderr",
     "text": [
      "\n",
      "\n",
      "\u001b[A\u001b[A"
     ]
    },
    {
     "output_type": "stream",
     "name": "stdout",
     "text": [
      "Epoch 44/500\n",
      "10/10 [==============================] - 0s 36ms/step - loss: 31687594.0000\n"
     ]
    },
    {
     "output_type": "stream",
     "name": "stderr",
     "text": [
      "\n",
      "\n",
      "\u001b[A\u001b[A"
     ]
    },
    {
     "output_type": "stream",
     "name": "stdout",
     "text": [
      "Epoch 45/500\n",
      "10/10 [==============================] - 0s 34ms/step - loss: 31683266.0000\n"
     ]
    },
    {
     "output_type": "stream",
     "name": "stderr",
     "text": [
      "\n",
      "\n",
      "\u001b[A\u001b[A"
     ]
    },
    {
     "output_type": "stream",
     "name": "stdout",
     "text": [
      "Epoch 46/500\n",
      "10/10 [==============================] - 0s 47ms/step - loss: 31678236.0000\n"
     ]
    },
    {
     "output_type": "stream",
     "name": "stderr",
     "text": [
      "\n",
      "\n",
      "\u001b[A\u001b[A"
     ]
    },
    {
     "output_type": "stream",
     "name": "stdout",
     "text": [
      "Epoch 47/500\n",
      "10/10 [==============================] - 0s 38ms/step - loss: 31672514.0000\n"
     ]
    },
    {
     "output_type": "stream",
     "name": "stderr",
     "text": [
      "\n",
      "\n",
      "\u001b[A\u001b[A"
     ]
    },
    {
     "output_type": "stream",
     "name": "stdout",
     "text": [
      "Epoch 48/500\n",
      "10/10 [==============================] - 0s 36ms/step - loss: 31668286.0000\n"
     ]
    },
    {
     "output_type": "stream",
     "name": "stderr",
     "text": [
      "\n",
      "\n",
      "\u001b[A\u001b[A"
     ]
    },
    {
     "output_type": "stream",
     "name": "stdout",
     "text": [
      "Epoch 49/500\n",
      "10/10 [==============================] - 0s 34ms/step - loss: 31662596.0000\n"
     ]
    },
    {
     "output_type": "stream",
     "name": "stderr",
     "text": [
      "\n",
      "\n",
      "\u001b[A\u001b[A"
     ]
    },
    {
     "output_type": "stream",
     "name": "stdout",
     "text": [
      "Epoch 50/500\n",
      "10/10 [==============================] - 0s 33ms/step - loss: 31657116.0000\n"
     ]
    },
    {
     "output_type": "stream",
     "name": "stderr",
     "text": [
      "\n",
      "\n",
      "\u001b[A\u001b[A"
     ]
    },
    {
     "output_type": "stream",
     "name": "stdout",
     "text": [
      "Epoch 51/500\n",
      "10/10 [==============================] - 0s 33ms/step - loss: 31652626.0000\n"
     ]
    },
    {
     "output_type": "stream",
     "name": "stderr",
     "text": [
      "\n",
      "\n",
      "\u001b[A\u001b[A"
     ]
    },
    {
     "output_type": "stream",
     "name": "stdout",
     "text": [
      "Epoch 52/500\n",
      "10/10 [==============================] - 0s 38ms/step - loss: 31647606.0000\n"
     ]
    },
    {
     "output_type": "stream",
     "name": "stderr",
     "text": [
      "\n",
      "\n",
      "\u001b[A\u001b[A"
     ]
    },
    {
     "output_type": "stream",
     "name": "stdout",
     "text": [
      "Epoch 53/500\n",
      "10/10 [==============================] - 0s 34ms/step - loss: 31643430.0000\n"
     ]
    },
    {
     "output_type": "stream",
     "name": "stderr",
     "text": [
      "\n",
      "\n",
      "\u001b[A\u001b[A"
     ]
    },
    {
     "output_type": "stream",
     "name": "stdout",
     "text": [
      "Epoch 54/500\n",
      "10/10 [==============================] - 0s 35ms/step - loss: 31638134.0000\n"
     ]
    },
    {
     "output_type": "stream",
     "name": "stderr",
     "text": [
      "\n",
      "\n",
      "\u001b[A\u001b[A"
     ]
    },
    {
     "output_type": "stream",
     "name": "stdout",
     "text": [
      "Epoch 55/500\n",
      "10/10 [==============================] - 0s 34ms/step - loss: 31634204.0000\n"
     ]
    },
    {
     "output_type": "stream",
     "name": "stderr",
     "text": [
      "\n",
      "\n",
      "\u001b[A\u001b[A"
     ]
    },
    {
     "output_type": "stream",
     "name": "stdout",
     "text": [
      "Epoch 56/500\n",
      "10/10 [==============================] - 0s 33ms/step - loss: 31628692.0000\n"
     ]
    },
    {
     "output_type": "stream",
     "name": "stderr",
     "text": [
      "\n",
      "\n",
      "\u001b[A\u001b[A"
     ]
    },
    {
     "output_type": "stream",
     "name": "stdout",
     "text": [
      "Epoch 57/500\n",
      "10/10 [==============================] - 0s 34ms/step - loss: 31624160.0000\n"
     ]
    },
    {
     "output_type": "stream",
     "name": "stderr",
     "text": [
      "\n",
      "\n",
      "\u001b[A\u001b[A"
     ]
    },
    {
     "output_type": "stream",
     "name": "stdout",
     "text": [
      "Epoch 58/500\n",
      "10/10 [==============================] - 0s 32ms/step - loss: 31619770.0000\n"
     ]
    },
    {
     "output_type": "stream",
     "name": "stderr",
     "text": [
      "\n",
      "\n",
      "\u001b[A\u001b[A"
     ]
    },
    {
     "output_type": "stream",
     "name": "stdout",
     "text": [
      "Epoch 59/500\n",
      "10/10 [==============================] - 0s 33ms/step - loss: 31615146.0000\n"
     ]
    },
    {
     "output_type": "stream",
     "name": "stderr",
     "text": [
      "\n",
      "\n",
      "\u001b[A\u001b[A"
     ]
    },
    {
     "output_type": "stream",
     "name": "stdout",
     "text": [
      "Epoch 60/500\n",
      "10/10 [==============================] - 0s 35ms/step - loss: 31608040.0000\n"
     ]
    },
    {
     "output_type": "stream",
     "name": "stderr",
     "text": [
      "\n",
      "\n",
      "\u001b[A\u001b[A"
     ]
    },
    {
     "output_type": "stream",
     "name": "stdout",
     "text": [
      "Epoch 61/500\n",
      "10/10 [==============================] - 0s 33ms/step - loss: 31603618.0000\n"
     ]
    },
    {
     "output_type": "stream",
     "name": "stderr",
     "text": [
      "\n",
      "\n",
      "\u001b[A\u001b[A"
     ]
    },
    {
     "output_type": "stream",
     "name": "stdout",
     "text": [
      "Epoch 62/500\n",
      "10/10 [==============================] - 0s 34ms/step - loss: 31599712.0000\n"
     ]
    },
    {
     "output_type": "stream",
     "name": "stderr",
     "text": [
      "\n",
      "\n",
      "\u001b[A\u001b[A"
     ]
    },
    {
     "output_type": "stream",
     "name": "stdout",
     "text": [
      "Epoch 63/500\n",
      "10/10 [==============================] - 0s 33ms/step - loss: 31594890.0000\n"
     ]
    },
    {
     "output_type": "stream",
     "name": "stderr",
     "text": [
      "\n",
      "\n",
      "\u001b[A\u001b[A"
     ]
    },
    {
     "output_type": "stream",
     "name": "stdout",
     "text": [
      "Epoch 64/500\n",
      "10/10 [==============================] - 0s 34ms/step - loss: 31590168.0000\n"
     ]
    },
    {
     "output_type": "stream",
     "name": "stderr",
     "text": [
      "\n",
      "\n",
      "\u001b[A\u001b[A"
     ]
    },
    {
     "output_type": "stream",
     "name": "stdout",
     "text": [
      "Epoch 65/500\n",
      "10/10 [==============================] - 0s 33ms/step - loss: 31584138.0000\n"
     ]
    },
    {
     "output_type": "stream",
     "name": "stderr",
     "text": [
      "\n",
      "\n",
      "\u001b[A\u001b[A"
     ]
    },
    {
     "output_type": "stream",
     "name": "stdout",
     "text": [
      "Epoch 66/500\n",
      "10/10 [==============================] - 0s 35ms/step - loss: 31579884.0000\n"
     ]
    },
    {
     "output_type": "stream",
     "name": "stderr",
     "text": [
      "\n",
      "\n",
      "\u001b[A\u001b[A"
     ]
    },
    {
     "output_type": "stream",
     "name": "stdout",
     "text": [
      "Epoch 67/500\n",
      "10/10 [==============================] - 0s 41ms/step - loss: 31575674.0000\n"
     ]
    },
    {
     "output_type": "stream",
     "name": "stderr",
     "text": [
      "\n",
      "\n",
      "\u001b[A\u001b[A"
     ]
    },
    {
     "output_type": "stream",
     "name": "stdout",
     "text": [
      "Epoch 68/500\n",
      "10/10 [==============================] - 0s 32ms/step - loss: 31570546.0000\n"
     ]
    },
    {
     "output_type": "stream",
     "name": "stderr",
     "text": [
      "\n",
      "\n",
      "\u001b[A\u001b[A"
     ]
    },
    {
     "output_type": "stream",
     "name": "stdout",
     "text": [
      "Epoch 69/500\n",
      "10/10 [==============================] - 0s 33ms/step - loss: 31564028.0000\n"
     ]
    },
    {
     "output_type": "stream",
     "name": "stderr",
     "text": [
      "\n",
      "\n",
      "\u001b[A\u001b[A"
     ]
    },
    {
     "output_type": "stream",
     "name": "stdout",
     "text": [
      "Epoch 70/500\n",
      "10/10 [==============================] - 0s 34ms/step - loss: 31560006.0000\n"
     ]
    },
    {
     "output_type": "stream",
     "name": "stderr",
     "text": [
      "\n",
      "\n",
      "\u001b[A\u001b[A"
     ]
    },
    {
     "output_type": "stream",
     "name": "stdout",
     "text": [
      "Epoch 71/500\n",
      "10/10 [==============================] - 0s 33ms/step - loss: 31555774.0000\n"
     ]
    },
    {
     "output_type": "stream",
     "name": "stderr",
     "text": [
      "\n",
      "\n",
      "\u001b[A\u001b[A"
     ]
    },
    {
     "output_type": "stream",
     "name": "stdout",
     "text": [
      "Epoch 72/500\n",
      "10/10 [==============================] - 0s 33ms/step - loss: 31550702.0000\n"
     ]
    },
    {
     "output_type": "stream",
     "name": "stderr",
     "text": [
      "\n",
      "\n",
      "\u001b[A\u001b[A"
     ]
    },
    {
     "output_type": "stream",
     "name": "stdout",
     "text": [
      "Epoch 73/500\n",
      "10/10 [==============================] - 0s 33ms/step - loss: 31545800.0000\n"
     ]
    },
    {
     "output_type": "stream",
     "name": "stderr",
     "text": [
      "\n",
      "\n",
      "\u001b[A\u001b[A"
     ]
    },
    {
     "output_type": "stream",
     "name": "stdout",
     "text": [
      "Epoch 74/500\n",
      "10/10 [==============================] - 0s 34ms/step - loss: 31540960.0000\n"
     ]
    },
    {
     "output_type": "stream",
     "name": "stderr",
     "text": [
      "\n",
      "\n",
      "\u001b[A\u001b[A"
     ]
    },
    {
     "output_type": "stream",
     "name": "stdout",
     "text": [
      "Epoch 75/500\n",
      "10/10 [==============================] - 0s 34ms/step - loss: 31536584.0000\n"
     ]
    },
    {
     "output_type": "stream",
     "name": "stderr",
     "text": [
      "\n",
      "\n",
      "\u001b[A\u001b[A"
     ]
    },
    {
     "output_type": "stream",
     "name": "stdout",
     "text": [
      "Epoch 76/500\n",
      "10/10 [==============================] - 0s 33ms/step - loss: 31530766.0000\n"
     ]
    },
    {
     "output_type": "stream",
     "name": "stderr",
     "text": [
      "\n",
      "\n",
      "\u001b[A\u001b[A"
     ]
    },
    {
     "output_type": "stream",
     "name": "stdout",
     "text": [
      "Epoch 77/500\n",
      "10/10 [==============================] - 0s 34ms/step - loss: 31527150.0000\n"
     ]
    },
    {
     "output_type": "stream",
     "name": "stderr",
     "text": [
      "\n",
      "\n",
      "\u001b[A\u001b[A"
     ]
    },
    {
     "output_type": "stream",
     "name": "stdout",
     "text": [
      "Epoch 78/500\n",
      "10/10 [==============================] - 0s 34ms/step - loss: 31521390.0000\n"
     ]
    },
    {
     "output_type": "stream",
     "name": "stderr",
     "text": [
      "\n",
      "\n",
      "\u001b[A\u001b[A"
     ]
    },
    {
     "output_type": "stream",
     "name": "stdout",
     "text": [
      "Epoch 79/500\n",
      "10/10 [==============================] - 0s 34ms/step - loss: 31516396.0000\n"
     ]
    },
    {
     "output_type": "stream",
     "name": "stderr",
     "text": [
      "\n",
      "\n",
      "\u001b[A\u001b[A"
     ]
    },
    {
     "output_type": "stream",
     "name": "stdout",
     "text": [
      "Epoch 80/500\n",
      "10/10 [==============================] - 0s 34ms/step - loss: 31513486.0000\n"
     ]
    },
    {
     "output_type": "stream",
     "name": "stderr",
     "text": [
      "\n",
      "\n",
      "\u001b[A\u001b[A"
     ]
    },
    {
     "output_type": "stream",
     "name": "stdout",
     "text": [
      "Epoch 81/500\n",
      "10/10 [==============================] - 0s 35ms/step - loss: 31507532.0000\n"
     ]
    },
    {
     "output_type": "stream",
     "name": "stderr",
     "text": [
      "\n",
      "\n",
      "\u001b[A\u001b[A"
     ]
    },
    {
     "output_type": "stream",
     "name": "stdout",
     "text": [
      "Epoch 82/500\n",
      "10/10 [==============================] - 0s 34ms/step - loss: 31501858.0000\n"
     ]
    },
    {
     "output_type": "stream",
     "name": "stderr",
     "text": [
      "\n",
      "\n",
      "\u001b[A\u001b[A"
     ]
    },
    {
     "output_type": "stream",
     "name": "stdout",
     "text": [
      "Epoch 83/500\n",
      "10/10 [==============================] - 0s 33ms/step - loss: 31497918.0000\n"
     ]
    },
    {
     "output_type": "stream",
     "name": "stderr",
     "text": [
      "\n",
      "\n",
      "\u001b[A\u001b[A"
     ]
    },
    {
     "output_type": "stream",
     "name": "stdout",
     "text": [
      "Epoch 84/500\n",
      "10/10 [==============================] - 0s 33ms/step - loss: 31493424.0000\n"
     ]
    },
    {
     "output_type": "stream",
     "name": "stderr",
     "text": [
      "\n",
      "\n",
      "\u001b[A\u001b[A"
     ]
    },
    {
     "output_type": "stream",
     "name": "stdout",
     "text": [
      "Epoch 85/500\n",
      "10/10 [==============================] - 0s 33ms/step - loss: 31487536.0000\n"
     ]
    },
    {
     "output_type": "stream",
     "name": "stderr",
     "text": [
      "\n",
      "\n",
      "\u001b[A\u001b[A"
     ]
    },
    {
     "output_type": "stream",
     "name": "stdout",
     "text": [
      "Epoch 86/500\n",
      "10/10 [==============================] - 0s 32ms/step - loss: 31483156.0000\n"
     ]
    },
    {
     "output_type": "stream",
     "name": "stderr",
     "text": [
      "\n",
      "\n",
      "\u001b[A\u001b[A"
     ]
    },
    {
     "output_type": "stream",
     "name": "stdout",
     "text": [
      "Epoch 87/500\n",
      "10/10 [==============================] - 0s 32ms/step - loss: 31478504.0000\n"
     ]
    },
    {
     "output_type": "stream",
     "name": "stderr",
     "text": [
      "\n",
      "\n",
      "\u001b[A\u001b[A"
     ]
    },
    {
     "output_type": "stream",
     "name": "stdout",
     "text": [
      "Epoch 88/500\n",
      "10/10 [==============================] - 0s 33ms/step - loss: 31472464.0000\n"
     ]
    },
    {
     "output_type": "stream",
     "name": "stderr",
     "text": [
      "\n",
      "\n",
      "\u001b[A\u001b[A"
     ]
    },
    {
     "output_type": "stream",
     "name": "stdout",
     "text": [
      "Epoch 89/500\n",
      "10/10 [==============================] - 0s 34ms/step - loss: 31468938.0000\n"
     ]
    },
    {
     "output_type": "stream",
     "name": "stderr",
     "text": [
      "\n",
      "\n",
      "\u001b[A\u001b[A"
     ]
    },
    {
     "output_type": "stream",
     "name": "stdout",
     "text": [
      "Epoch 90/500\n",
      "10/10 [==============================] - 0s 34ms/step - loss: 31463942.0000\n"
     ]
    },
    {
     "output_type": "stream",
     "name": "stderr",
     "text": [
      "\n",
      "\n",
      "\u001b[A\u001b[A"
     ]
    },
    {
     "output_type": "stream",
     "name": "stdout",
     "text": [
      "Epoch 91/500\n",
      "10/10 [==============================] - 0s 33ms/step - loss: 31459954.0000\n"
     ]
    },
    {
     "output_type": "stream",
     "name": "stderr",
     "text": [
      "\n",
      "\n",
      "\u001b[A\u001b[A"
     ]
    },
    {
     "output_type": "stream",
     "name": "stdout",
     "text": [
      "Epoch 92/500\n",
      "10/10 [==============================] - 0s 34ms/step - loss: 31454084.0000\n"
     ]
    },
    {
     "output_type": "stream",
     "name": "stderr",
     "text": [
      "\n",
      "\n",
      "\u001b[A\u001b[A"
     ]
    },
    {
     "output_type": "stream",
     "name": "stdout",
     "text": [
      "Epoch 93/500\n",
      "10/10 [==============================] - 0s 35ms/step - loss: 31448594.0000\n"
     ]
    },
    {
     "output_type": "stream",
     "name": "stderr",
     "text": [
      "\n",
      "\n",
      "\u001b[A\u001b[A"
     ]
    },
    {
     "output_type": "stream",
     "name": "stdout",
     "text": [
      "Epoch 94/500\n",
      "10/10 [==============================] - 0s 37ms/step - loss: 31442096.0000\n"
     ]
    },
    {
     "output_type": "stream",
     "name": "stderr",
     "text": [
      "\n",
      "\n",
      "\u001b[A\u001b[A"
     ]
    },
    {
     "output_type": "stream",
     "name": "stdout",
     "text": [
      "Epoch 95/500\n",
      "10/10 [==============================] - 0s 34ms/step - loss: 31438692.0000\n"
     ]
    },
    {
     "output_type": "stream",
     "name": "stderr",
     "text": [
      "\n",
      "\n",
      "\u001b[A\u001b[A"
     ]
    },
    {
     "output_type": "stream",
     "name": "stdout",
     "text": [
      "Epoch 96/500\n",
      "10/10 [==============================] - 0s 35ms/step - loss: 31433870.0000\n"
     ]
    },
    {
     "output_type": "stream",
     "name": "stderr",
     "text": [
      "\n",
      "\n",
      "\u001b[A\u001b[A"
     ]
    },
    {
     "output_type": "stream",
     "name": "stdout",
     "text": [
      "Epoch 97/500\n",
      "10/10 [==============================] - 0s 35ms/step - loss: 31427670.0000\n"
     ]
    },
    {
     "output_type": "stream",
     "name": "stderr",
     "text": [
      "\n",
      "\n",
      "\u001b[A\u001b[A"
     ]
    },
    {
     "output_type": "stream",
     "name": "stdout",
     "text": [
      "Epoch 98/500\n",
      "10/10 [==============================] - 0s 34ms/step - loss: 31425270.0000\n"
     ]
    },
    {
     "output_type": "stream",
     "name": "stderr",
     "text": [
      "\n",
      "\n",
      "\u001b[A\u001b[A"
     ]
    },
    {
     "output_type": "stream",
     "name": "stdout",
     "text": [
      "Epoch 99/500\n",
      "10/10 [==============================] - 0s 35ms/step - loss: 31420676.0000\n"
     ]
    },
    {
     "output_type": "stream",
     "name": "stderr",
     "text": [
      "\n",
      "\n",
      "\u001b[A\u001b[A"
     ]
    },
    {
     "output_type": "stream",
     "name": "stdout",
     "text": [
      "Epoch 100/500\n",
      "10/10 [==============================] - 0s 34ms/step - loss: 31415252.0000\n"
     ]
    },
    {
     "output_type": "stream",
     "name": "stderr",
     "text": [
      "\n",
      "\n",
      "\u001b[A\u001b[A"
     ]
    },
    {
     "output_type": "stream",
     "name": "stdout",
     "text": [
      "Epoch 101/500\n",
      "10/10 [==============================] - 0s 45ms/step - loss: 31410532.0000\n"
     ]
    },
    {
     "output_type": "stream",
     "name": "stderr",
     "text": [
      "\n",
      "\n",
      "\u001b[A\u001b[A"
     ]
    },
    {
     "output_type": "stream",
     "name": "stdout",
     "text": [
      "Epoch 102/500\n",
      "10/10 [==============================] - 0s 35ms/step - loss: 31404820.0000\n"
     ]
    },
    {
     "output_type": "stream",
     "name": "stderr",
     "text": [
      "\n",
      "\n",
      "\u001b[A\u001b[A"
     ]
    },
    {
     "output_type": "stream",
     "name": "stdout",
     "text": [
      "Epoch 103/500\n",
      "10/10 [==============================] - 0s 34ms/step - loss: 31399282.0000\n"
     ]
    },
    {
     "output_type": "stream",
     "name": "stderr",
     "text": [
      "\n",
      "\n",
      "\u001b[A\u001b[A"
     ]
    },
    {
     "output_type": "stream",
     "name": "stdout",
     "text": [
      "Epoch 104/500\n",
      "10/10 [==============================] - 0s 35ms/step - loss: 31395940.0000\n"
     ]
    },
    {
     "output_type": "stream",
     "name": "stderr",
     "text": [
      "\n",
      "\n",
      "\u001b[A\u001b[A"
     ]
    },
    {
     "output_type": "stream",
     "name": "stdout",
     "text": [
      "Epoch 105/500\n",
      "10/10 [==============================] - 0s 34ms/step - loss: 31389596.0000\n"
     ]
    },
    {
     "output_type": "stream",
     "name": "stderr",
     "text": [
      "\n",
      "\n",
      "\u001b[A\u001b[A"
     ]
    },
    {
     "output_type": "stream",
     "name": "stdout",
     "text": [
      "Epoch 106/500\n",
      "10/10 [==============================] - 0s 35ms/step - loss: 31385312.0000\n"
     ]
    },
    {
     "output_type": "stream",
     "name": "stderr",
     "text": [
      "\n",
      "\n",
      "\u001b[A\u001b[A"
     ]
    },
    {
     "output_type": "stream",
     "name": "stdout",
     "text": [
      "Epoch 107/500\n",
      "10/10 [==============================] - 0s 34ms/step - loss: 31379560.0000\n"
     ]
    },
    {
     "output_type": "stream",
     "name": "stderr",
     "text": [
      "\n",
      "\n",
      "\u001b[A\u001b[A"
     ]
    },
    {
     "output_type": "stream",
     "name": "stdout",
     "text": [
      "Epoch 108/500\n",
      "10/10 [==============================] - 0s 33ms/step - loss: 31375572.0000\n"
     ]
    },
    {
     "output_type": "stream",
     "name": "stderr",
     "text": [
      "\n",
      "\n",
      "\u001b[A\u001b[A"
     ]
    },
    {
     "output_type": "stream",
     "name": "stdout",
     "text": [
      "Epoch 109/500\n",
      "10/10 [==============================] - 0s 40ms/step - loss: 31369150.0000\n"
     ]
    },
    {
     "output_type": "stream",
     "name": "stderr",
     "text": [
      "\n",
      "\n",
      "\u001b[A\u001b[A"
     ]
    },
    {
     "output_type": "stream",
     "name": "stdout",
     "text": [
      "Epoch 110/500\n",
      "10/10 [==============================] - 0s 33ms/step - loss: 31365556.0000\n"
     ]
    },
    {
     "output_type": "stream",
     "name": "stderr",
     "text": [
      "\n",
      "\n",
      "\u001b[A\u001b[A"
     ]
    },
    {
     "output_type": "stream",
     "name": "stdout",
     "text": [
      "Epoch 111/500\n",
      "10/10 [==============================] - 0s 35ms/step - loss: 31360104.0000\n"
     ]
    },
    {
     "output_type": "stream",
     "name": "stderr",
     "text": [
      "\n",
      "\n",
      "\u001b[A\u001b[A"
     ]
    },
    {
     "output_type": "stream",
     "name": "stdout",
     "text": [
      "Epoch 112/500\n",
      "10/10 [==============================] - 0s 34ms/step - loss: 31357678.0000\n"
     ]
    },
    {
     "output_type": "stream",
     "name": "stderr",
     "text": [
      "\n",
      "\n",
      "\u001b[A\u001b[A"
     ]
    },
    {
     "output_type": "stream",
     "name": "stdout",
     "text": [
      "Epoch 113/500\n",
      "10/10 [==============================] - 0s 37ms/step - loss: 31351424.0000\n"
     ]
    },
    {
     "output_type": "stream",
     "name": "stderr",
     "text": [
      "\n",
      "\n",
      "\u001b[A\u001b[A"
     ]
    },
    {
     "output_type": "stream",
     "name": "stdout",
     "text": [
      "Epoch 114/500\n",
      "10/10 [==============================] - 0s 36ms/step - loss: 31345114.0000\n"
     ]
    },
    {
     "output_type": "stream",
     "name": "stderr",
     "text": [
      "\n",
      "\n",
      "\u001b[A\u001b[A"
     ]
    },
    {
     "output_type": "stream",
     "name": "stdout",
     "text": [
      "Epoch 115/500\n",
      "10/10 [==============================] - 0s 35ms/step - loss: 31340748.0000\n"
     ]
    },
    {
     "output_type": "stream",
     "name": "stderr",
     "text": [
      "\n",
      "\n",
      "\u001b[A\u001b[A"
     ]
    },
    {
     "output_type": "stream",
     "name": "stdout",
     "text": [
      "Epoch 116/500\n",
      "10/10 [==============================] - 0s 34ms/step - loss: 31337340.0000\n"
     ]
    },
    {
     "output_type": "stream",
     "name": "stderr",
     "text": [
      "\n",
      "\n",
      "\u001b[A\u001b[A"
     ]
    },
    {
     "output_type": "stream",
     "name": "stdout",
     "text": [
      "Epoch 117/500\n",
      "10/10 [==============================] - 0s 34ms/step - loss: 31332884.0000\n"
     ]
    },
    {
     "output_type": "stream",
     "name": "stderr",
     "text": [
      "\n",
      "\n",
      "\u001b[A\u001b[A"
     ]
    },
    {
     "output_type": "stream",
     "name": "stdout",
     "text": [
      "Epoch 118/500\n",
      "10/10 [==============================] - 0s 37ms/step - loss: 31327754.0000\n"
     ]
    },
    {
     "output_type": "stream",
     "name": "stderr",
     "text": [
      "\n",
      "\n",
      "\u001b[A\u001b[A"
     ]
    },
    {
     "output_type": "stream",
     "name": "stdout",
     "text": [
      "Epoch 119/500\n",
      "10/10 [==============================] - 0s 35ms/step - loss: 31324434.0000\n"
     ]
    },
    {
     "output_type": "stream",
     "name": "stderr",
     "text": [
      "\n",
      "\n",
      "\u001b[A\u001b[A"
     ]
    },
    {
     "output_type": "stream",
     "name": "stdout",
     "text": [
      "Epoch 120/500\n",
      "10/10 [==============================] - 0s 35ms/step - loss: 31317510.0000\n"
     ]
    },
    {
     "output_type": "stream",
     "name": "stderr",
     "text": [
      "\n",
      "\n",
      "\u001b[A\u001b[A"
     ]
    },
    {
     "output_type": "stream",
     "name": "stdout",
     "text": [
      "Epoch 121/500\n",
      "10/10 [==============================] - 0s 33ms/step - loss: 31311754.0000\n"
     ]
    },
    {
     "output_type": "stream",
     "name": "stderr",
     "text": [
      "\n",
      "\n",
      "\u001b[A\u001b[A"
     ]
    },
    {
     "output_type": "stream",
     "name": "stdout",
     "text": [
      "Epoch 122/500\n",
      "10/10 [==============================] - 0s 35ms/step - loss: 31310398.0000\n"
     ]
    },
    {
     "output_type": "stream",
     "name": "stderr",
     "text": [
      "\n",
      "\n",
      "\u001b[A\u001b[A"
     ]
    },
    {
     "output_type": "stream",
     "name": "stdout",
     "text": [
      "Epoch 123/500\n",
      "10/10 [==============================] - 0s 34ms/step - loss: 31303334.0000\n"
     ]
    },
    {
     "output_type": "stream",
     "name": "stderr",
     "text": [
      "\n",
      "\n",
      "\u001b[A\u001b[A"
     ]
    },
    {
     "output_type": "stream",
     "name": "stdout",
     "text": [
      "Epoch 124/500\n",
      "10/10 [==============================] - 0s 35ms/step - loss: 31299244.0000\n"
     ]
    },
    {
     "output_type": "stream",
     "name": "stderr",
     "text": [
      "\n",
      "\n",
      "\u001b[A\u001b[A"
     ]
    },
    {
     "output_type": "stream",
     "name": "stdout",
     "text": [
      "Epoch 125/500\n",
      "10/10 [==============================] - 1s 51ms/step - loss: 31292790.0000\n"
     ]
    },
    {
     "output_type": "stream",
     "name": "stderr",
     "text": [
      "\n",
      "\n",
      "\u001b[A\u001b[A"
     ]
    },
    {
     "output_type": "stream",
     "name": "stdout",
     "text": [
      "Epoch 126/500\n",
      "10/10 [==============================] - 0s 37ms/step - loss: 31288136.0000\n"
     ]
    },
    {
     "output_type": "stream",
     "name": "stderr",
     "text": [
      "\n",
      "\n",
      "\u001b[A\u001b[A"
     ]
    },
    {
     "output_type": "stream",
     "name": "stdout",
     "text": [
      "Epoch 127/500\n",
      "10/10 [==============================] - 0s 35ms/step - loss: 31283462.0000\n"
     ]
    },
    {
     "output_type": "stream",
     "name": "stderr",
     "text": [
      "\n",
      "\n",
      "\u001b[A\u001b[A"
     ]
    },
    {
     "output_type": "stream",
     "name": "stdout",
     "text": [
      "Epoch 128/500\n",
      "10/10 [==============================] - 0s 35ms/step - loss: 31278664.0000\n"
     ]
    },
    {
     "output_type": "stream",
     "name": "stderr",
     "text": [
      "\n",
      "\n",
      "\u001b[A\u001b[A"
     ]
    },
    {
     "output_type": "stream",
     "name": "stdout",
     "text": [
      "Epoch 129/500\n",
      "10/10 [==============================] - 0s 34ms/step - loss: 31274590.0000\n"
     ]
    },
    {
     "output_type": "stream",
     "name": "stderr",
     "text": [
      "\n",
      "\n",
      "\u001b[A\u001b[A"
     ]
    },
    {
     "output_type": "stream",
     "name": "stdout",
     "text": [
      "Epoch 130/500\n",
      "10/10 [==============================] - 0s 35ms/step - loss: 31268536.0000\n"
     ]
    },
    {
     "output_type": "stream",
     "name": "stderr",
     "text": [
      "\n",
      "\n",
      "\u001b[A\u001b[A"
     ]
    },
    {
     "output_type": "stream",
     "name": "stdout",
     "text": [
      "Epoch 131/500\n",
      "10/10 [==============================] - 0s 33ms/step - loss: 31264446.0000\n"
     ]
    },
    {
     "output_type": "stream",
     "name": "stderr",
     "text": [
      "\n",
      "\n",
      "\u001b[A\u001b[A"
     ]
    },
    {
     "output_type": "stream",
     "name": "stdout",
     "text": [
      "Epoch 132/500\n",
      "10/10 [==============================] - 0s 35ms/step - loss: 31260344.0000\n"
     ]
    },
    {
     "output_type": "stream",
     "name": "stderr",
     "text": [
      "\n",
      "\n",
      "\u001b[A\u001b[A"
     ]
    },
    {
     "output_type": "stream",
     "name": "stdout",
     "text": [
      "Epoch 133/500\n",
      "10/10 [==============================] - 1s 53ms/step - loss: 31255514.0000\n"
     ]
    },
    {
     "output_type": "stream",
     "name": "stderr",
     "text": [
      "\n",
      "\n",
      "\u001b[A\u001b[A"
     ]
    },
    {
     "output_type": "stream",
     "name": "stdout",
     "text": [
      "Epoch 134/500\n",
      "10/10 [==============================] - 1s 50ms/step - loss: 31250066.0000\n"
     ]
    },
    {
     "output_type": "stream",
     "name": "stderr",
     "text": [
      "\n",
      "\n",
      "\u001b[A\u001b[A"
     ]
    },
    {
     "output_type": "stream",
     "name": "stdout",
     "text": [
      "Epoch 135/500\n",
      "10/10 [==============================] - 1s 59ms/step - loss: 31247304.0000\n"
     ]
    },
    {
     "output_type": "stream",
     "name": "stderr",
     "text": [
      "\n",
      "\n",
      "\u001b[A\u001b[A"
     ]
    },
    {
     "output_type": "stream",
     "name": "stdout",
     "text": [
      "Epoch 136/500\n",
      "10/10 [==============================] - 0s 35ms/step - loss: 31240410.0000\n"
     ]
    },
    {
     "output_type": "stream",
     "name": "stderr",
     "text": [
      "\n",
      "\n",
      "\u001b[A\u001b[A"
     ]
    },
    {
     "output_type": "stream",
     "name": "stdout",
     "text": [
      "Epoch 137/500\n",
      "10/10 [==============================] - 0s 36ms/step - loss: 31237228.0000\n"
     ]
    },
    {
     "output_type": "stream",
     "name": "stderr",
     "text": [
      "\n",
      "\n",
      "\u001b[A\u001b[A"
     ]
    },
    {
     "output_type": "stream",
     "name": "stdout",
     "text": [
      "Epoch 138/500\n",
      "10/10 [==============================] - 0s 31ms/step - loss: 31231270.0000\n"
     ]
    },
    {
     "output_type": "stream",
     "name": "stderr",
     "text": [
      "\n",
      "\n",
      "\u001b[A\u001b[A"
     ]
    },
    {
     "output_type": "stream",
     "name": "stdout",
     "text": [
      "Epoch 139/500\n",
      "10/10 [==============================] - 0s 31ms/step - loss: 31226132.0000\n"
     ]
    },
    {
     "output_type": "stream",
     "name": "stderr",
     "text": [
      "\n",
      "\n",
      "\u001b[A\u001b[A"
     ]
    },
    {
     "output_type": "stream",
     "name": "stdout",
     "text": [
      "Epoch 140/500\n",
      "10/10 [==============================] - 0s 31ms/step - loss: 31220328.0000\n"
     ]
    },
    {
     "output_type": "stream",
     "name": "stderr",
     "text": [
      "\n",
      "\n",
      "\u001b[A\u001b[A"
     ]
    },
    {
     "output_type": "stream",
     "name": "stdout",
     "text": [
      "Epoch 141/500\n",
      "10/10 [==============================] - 0s 30ms/step - loss: 31215284.0000\n"
     ]
    },
    {
     "output_type": "stream",
     "name": "stderr",
     "text": [
      "\n",
      "\n",
      "\u001b[A\u001b[A"
     ]
    },
    {
     "output_type": "stream",
     "name": "stdout",
     "text": [
      "Epoch 142/500\n",
      "10/10 [==============================] - 0s 30ms/step - loss: 31212810.0000\n"
     ]
    },
    {
     "output_type": "stream",
     "name": "stderr",
     "text": [
      "\n",
      "\n",
      "\u001b[A\u001b[A"
     ]
    },
    {
     "output_type": "stream",
     "name": "stdout",
     "text": [
      "Epoch 143/500\n",
      "10/10 [==============================] - 0s 30ms/step - loss: 31207456.0000\n"
     ]
    },
    {
     "output_type": "stream",
     "name": "stderr",
     "text": [
      "\n",
      "\n",
      "\u001b[A\u001b[A"
     ]
    },
    {
     "output_type": "stream",
     "name": "stdout",
     "text": [
      "Epoch 144/500\n",
      "10/10 [==============================] - 0s 29ms/step - loss: 31199906.0000\n"
     ]
    },
    {
     "output_type": "stream",
     "name": "stderr",
     "text": [
      "\n",
      "\n",
      "\u001b[A\u001b[A"
     ]
    },
    {
     "output_type": "stream",
     "name": "stdout",
     "text": [
      "Epoch 145/500\n",
      "10/10 [==============================] - 0s 29ms/step - loss: 31196578.0000\n"
     ]
    },
    {
     "output_type": "stream",
     "name": "stderr",
     "text": [
      "\n",
      "\n",
      "\u001b[A\u001b[A"
     ]
    },
    {
     "output_type": "stream",
     "name": "stdout",
     "text": [
      "Epoch 146/500\n",
      "10/10 [==============================] - 0s 30ms/step - loss: 31192160.0000\n"
     ]
    },
    {
     "output_type": "stream",
     "name": "stderr",
     "text": [
      "\n",
      "\n",
      "\u001b[A\u001b[A"
     ]
    },
    {
     "output_type": "stream",
     "name": "stdout",
     "text": [
      "Epoch 147/500\n",
      "10/10 [==============================] - 0s 29ms/step - loss: 31186678.0000\n"
     ]
    },
    {
     "output_type": "stream",
     "name": "stderr",
     "text": [
      "\n",
      "\n",
      "\u001b[A\u001b[A"
     ]
    },
    {
     "output_type": "stream",
     "name": "stdout",
     "text": [
      "Epoch 148/500\n",
      "10/10 [==============================] - 0s 29ms/step - loss: 31183956.0000\n"
     ]
    },
    {
     "output_type": "stream",
     "name": "stderr",
     "text": [
      "\n",
      "\n",
      "\u001b[A\u001b[A"
     ]
    },
    {
     "output_type": "stream",
     "name": "stdout",
     "text": [
      "Epoch 149/500\n",
      "10/10 [==============================] - 0s 29ms/step - loss: 31178054.0000\n"
     ]
    },
    {
     "output_type": "stream",
     "name": "stderr",
     "text": [
      "\n",
      "\n",
      "\u001b[A\u001b[A"
     ]
    },
    {
     "output_type": "stream",
     "name": "stdout",
     "text": [
      "Epoch 150/500\n",
      "10/10 [==============================] - 0s 45ms/step - loss: 31174946.0000\n"
     ]
    },
    {
     "output_type": "stream",
     "name": "stderr",
     "text": [
      "\n",
      "\n",
      "\u001b[A\u001b[A"
     ]
    },
    {
     "output_type": "stream",
     "name": "stdout",
     "text": [
      "Epoch 151/500\n",
      "10/10 [==============================] - 0s 30ms/step - loss: 31168052.0000\n"
     ]
    },
    {
     "output_type": "stream",
     "name": "stderr",
     "text": [
      "\n",
      "\n",
      "\u001b[A\u001b[A"
     ]
    },
    {
     "output_type": "stream",
     "name": "stdout",
     "text": [
      "Epoch 152/500\n",
      "10/10 [==============================] - 0s 29ms/step - loss: 31163322.0000\n"
     ]
    },
    {
     "output_type": "stream",
     "name": "stderr",
     "text": [
      "\n",
      "\n",
      "\u001b[A\u001b[A"
     ]
    },
    {
     "output_type": "stream",
     "name": "stdout",
     "text": [
      "Epoch 153/500\n",
      "10/10 [==============================] - 0s 29ms/step - loss: 31158410.0000\n"
     ]
    },
    {
     "output_type": "stream",
     "name": "stderr",
     "text": [
      "\n",
      "\n",
      "\u001b[A\u001b[A"
     ]
    },
    {
     "output_type": "stream",
     "name": "stdout",
     "text": [
      "Epoch 154/500\n",
      "10/10 [==============================] - 0s 29ms/step - loss: 31153902.0000\n"
     ]
    },
    {
     "output_type": "stream",
     "name": "stderr",
     "text": [
      "\n",
      "\n",
      "\u001b[A\u001b[A"
     ]
    },
    {
     "output_type": "stream",
     "name": "stdout",
     "text": [
      "Epoch 155/500\n",
      "10/10 [==============================] - 0s 30ms/step - loss: 31148426.0000\n"
     ]
    },
    {
     "output_type": "stream",
     "name": "stderr",
     "text": [
      "\n",
      "\n",
      "\u001b[A\u001b[A"
     ]
    },
    {
     "output_type": "stream",
     "name": "stdout",
     "text": [
      "Epoch 156/500\n",
      "10/10 [==============================] - 0s 30ms/step - loss: 31144714.0000\n"
     ]
    },
    {
     "output_type": "stream",
     "name": "stderr",
     "text": [
      "\n",
      "\n",
      "\u001b[A\u001b[A"
     ]
    },
    {
     "output_type": "stream",
     "name": "stdout",
     "text": [
      "Epoch 157/500\n",
      "10/10 [==============================] - 0s 31ms/step - loss: 31139540.0000\n"
     ]
    },
    {
     "output_type": "stream",
     "name": "stderr",
     "text": [
      "\n",
      "\n",
      "\u001b[A\u001b[A"
     ]
    },
    {
     "output_type": "stream",
     "name": "stdout",
     "text": [
      "Epoch 158/500\n",
      "10/10 [==============================] - 0s 31ms/step - loss: 31135326.0000\n"
     ]
    },
    {
     "output_type": "stream",
     "name": "stderr",
     "text": [
      "\n",
      "\n",
      "\u001b[A\u001b[A"
     ]
    },
    {
     "output_type": "stream",
     "name": "stdout",
     "text": [
      "Epoch 159/500\n",
      "10/10 [==============================] - 0s 31ms/step - loss: 31129784.0000\n"
     ]
    },
    {
     "output_type": "stream",
     "name": "stderr",
     "text": [
      "\n",
      "\n",
      "\u001b[A\u001b[A"
     ]
    },
    {
     "output_type": "stream",
     "name": "stdout",
     "text": [
      "Epoch 160/500\n",
      "10/10 [==============================] - 0s 34ms/step - loss: 31128292.0000\n"
     ]
    },
    {
     "output_type": "stream",
     "name": "stderr",
     "text": [
      "\n",
      "\n",
      "\u001b[A\u001b[A"
     ]
    },
    {
     "output_type": "stream",
     "name": "stdout",
     "text": [
      "Epoch 161/500\n",
      "10/10 [==============================] - 0s 34ms/step - loss: 31119640.0000\n"
     ]
    },
    {
     "output_type": "stream",
     "name": "stderr",
     "text": [
      "\n",
      "\n",
      "\u001b[A\u001b[A"
     ]
    },
    {
     "output_type": "stream",
     "name": "stdout",
     "text": [
      "Epoch 162/500\n",
      "10/10 [==============================] - 0s 32ms/step - loss: 31116232.0000\n"
     ]
    },
    {
     "output_type": "stream",
     "name": "stderr",
     "text": [
      "\n",
      "\n",
      "\u001b[A\u001b[A"
     ]
    },
    {
     "output_type": "stream",
     "name": "stdout",
     "text": [
      "Epoch 163/500\n",
      "10/10 [==============================] - 0s 32ms/step - loss: 31111480.0000\n"
     ]
    },
    {
     "output_type": "stream",
     "name": "stderr",
     "text": [
      "\n",
      "\n",
      "\u001b[A\u001b[A"
     ]
    },
    {
     "output_type": "stream",
     "name": "stdout",
     "text": [
      "Epoch 164/500\n",
      "10/10 [==============================] - 0s 32ms/step - loss: 31105744.0000\n"
     ]
    },
    {
     "output_type": "stream",
     "name": "stderr",
     "text": [
      "\n",
      "\n",
      "\u001b[A\u001b[A"
     ]
    },
    {
     "output_type": "stream",
     "name": "stdout",
     "text": [
      "Epoch 165/500\n",
      "10/10 [==============================] - 0s 41ms/step - loss: 31101820.0000\n"
     ]
    },
    {
     "output_type": "stream",
     "name": "stderr",
     "text": [
      "\n",
      "\n",
      "\u001b[A\u001b[A"
     ]
    },
    {
     "output_type": "stream",
     "name": "stdout",
     "text": [
      "Epoch 166/500\n",
      "10/10 [==============================] - 0s 33ms/step - loss: 31097396.0000\n"
     ]
    },
    {
     "output_type": "stream",
     "name": "stderr",
     "text": [
      "\n",
      "\n",
      "\u001b[A\u001b[A"
     ]
    },
    {
     "output_type": "stream",
     "name": "stdout",
     "text": [
      "Epoch 167/500\n",
      "10/10 [==============================] - 0s 31ms/step - loss: 31092798.0000\n"
     ]
    },
    {
     "output_type": "stream",
     "name": "stderr",
     "text": [
      "\n",
      "\n",
      "\u001b[A\u001b[A"
     ]
    },
    {
     "output_type": "stream",
     "name": "stdout",
     "text": [
      "Epoch 168/500\n",
      "10/10 [==============================] - 0s 31ms/step - loss: 31086904.0000\n"
     ]
    },
    {
     "output_type": "stream",
     "name": "stderr",
     "text": [
      "\n",
      "\n",
      "\u001b[A\u001b[A"
     ]
    },
    {
     "output_type": "stream",
     "name": "stdout",
     "text": [
      "Epoch 169/500\n",
      "10/10 [==============================] - 0s 32ms/step - loss: 31082094.0000\n"
     ]
    },
    {
     "output_type": "stream",
     "name": "stderr",
     "text": [
      "\n",
      "\n",
      "\u001b[A\u001b[A"
     ]
    },
    {
     "output_type": "stream",
     "name": "stdout",
     "text": [
      "Epoch 170/500\n",
      "10/10 [==============================] - 0s 30ms/step - loss: 31079084.0000\n"
     ]
    },
    {
     "output_type": "stream",
     "name": "stderr",
     "text": [
      "\n",
      "\n",
      "\u001b[A\u001b[A"
     ]
    },
    {
     "output_type": "stream",
     "name": "stdout",
     "text": [
      "Epoch 171/500\n",
      "10/10 [==============================] - 0s 31ms/step - loss: 31073156.0000\n"
     ]
    },
    {
     "output_type": "stream",
     "name": "stderr",
     "text": [
      "\n",
      "\n",
      "\u001b[A\u001b[A"
     ]
    },
    {
     "output_type": "stream",
     "name": "stdout",
     "text": [
      "Epoch 172/500\n",
      "10/10 [==============================] - 0s 31ms/step - loss: 31068714.0000\n"
     ]
    },
    {
     "output_type": "stream",
     "name": "stderr",
     "text": [
      "\n",
      "\n",
      "\u001b[A\u001b[A"
     ]
    },
    {
     "output_type": "stream",
     "name": "stdout",
     "text": [
      "Epoch 173/500\n",
      "10/10 [==============================] - 0s 30ms/step - loss: 31062532.0000\n"
     ]
    },
    {
     "output_type": "stream",
     "name": "stderr",
     "text": [
      "\n",
      "\n",
      "\u001b[A\u001b[A"
     ]
    },
    {
     "output_type": "stream",
     "name": "stdout",
     "text": [
      "Epoch 174/500\n",
      "10/10 [==============================] - 0s 30ms/step - loss: 31059518.0000\n"
     ]
    },
    {
     "output_type": "stream",
     "name": "stderr",
     "text": [
      "\n",
      "\n",
      "\u001b[A\u001b[A"
     ]
    },
    {
     "output_type": "stream",
     "name": "stdout",
     "text": [
      "Epoch 175/500\n",
      "10/10 [==============================] - 0s 30ms/step - loss: 31054724.0000\n"
     ]
    },
    {
     "output_type": "stream",
     "name": "stderr",
     "text": [
      "\n",
      "\n",
      "\u001b[A\u001b[A"
     ]
    },
    {
     "output_type": "stream",
     "name": "stdout",
     "text": [
      "Epoch 176/500\n",
      "10/10 [==============================] - 0s 30ms/step - loss: 31047956.0000\n"
     ]
    },
    {
     "output_type": "stream",
     "name": "stderr",
     "text": [
      "\n",
      "\n",
      "\u001b[A\u001b[A"
     ]
    },
    {
     "output_type": "stream",
     "name": "stdout",
     "text": [
      "Epoch 177/500\n",
      "10/10 [==============================] - 0s 30ms/step - loss: 31046614.0000\n"
     ]
    },
    {
     "output_type": "stream",
     "name": "stderr",
     "text": [
      "\n",
      "\n",
      "\u001b[A\u001b[A"
     ]
    },
    {
     "output_type": "stream",
     "name": "stdout",
     "text": [
      "Epoch 178/500\n",
      "10/10 [==============================] - 0s 30ms/step - loss: 31039430.0000\n"
     ]
    },
    {
     "output_type": "stream",
     "name": "stderr",
     "text": [
      "\n",
      "\n",
      "\u001b[A\u001b[A"
     ]
    },
    {
     "output_type": "stream",
     "name": "stdout",
     "text": [
      "Epoch 179/500\n",
      "10/10 [==============================] - 0s 29ms/step - loss: 31037204.0000\n"
     ]
    },
    {
     "output_type": "stream",
     "name": "stderr",
     "text": [
      "\n",
      "\n",
      "\u001b[A\u001b[A"
     ]
    },
    {
     "output_type": "stream",
     "name": "stdout",
     "text": [
      "Epoch 180/500\n",
      "10/10 [==============================] - 0s 29ms/step - loss: 31031278.0000\n"
     ]
    },
    {
     "output_type": "stream",
     "name": "stderr",
     "text": [
      "\n",
      "\n",
      "\u001b[A\u001b[A"
     ]
    },
    {
     "output_type": "stream",
     "name": "stdout",
     "text": [
      "Epoch 181/500\n",
      "10/10 [==============================] - 0s 29ms/step - loss: 31027730.0000\n"
     ]
    },
    {
     "output_type": "stream",
     "name": "stderr",
     "text": [
      "\n",
      "\n",
      "\u001b[A\u001b[A"
     ]
    },
    {
     "output_type": "stream",
     "name": "stdout",
     "text": [
      "Epoch 182/500\n",
      "10/10 [==============================] - 0s 31ms/step - loss: 31021140.0000\n"
     ]
    },
    {
     "output_type": "stream",
     "name": "stderr",
     "text": [
      "\n",
      "\n",
      "\u001b[A\u001b[A"
     ]
    },
    {
     "output_type": "stream",
     "name": "stdout",
     "text": [
      "Epoch 183/500\n",
      "10/10 [==============================] - 0s 32ms/step - loss: 31016120.0000\n"
     ]
    },
    {
     "output_type": "stream",
     "name": "stderr",
     "text": [
      "\n",
      "\n",
      "\u001b[A\u001b[A"
     ]
    },
    {
     "output_type": "stream",
     "name": "stdout",
     "text": [
      "Epoch 184/500\n",
      "10/10 [==============================] - 0s 31ms/step - loss: 31011536.0000\n"
     ]
    },
    {
     "output_type": "stream",
     "name": "stderr",
     "text": [
      "\n",
      "\n",
      "\u001b[A\u001b[A"
     ]
    },
    {
     "output_type": "stream",
     "name": "stdout",
     "text": [
      "Epoch 185/500\n",
      "10/10 [==============================] - 0s 31ms/step - loss: 31008838.0000\n"
     ]
    },
    {
     "output_type": "stream",
     "name": "stderr",
     "text": [
      "\n",
      "\n",
      "\u001b[A\u001b[A"
     ]
    },
    {
     "output_type": "stream",
     "name": "stdout",
     "text": [
      "Epoch 186/500\n",
      "10/10 [==============================] - 0s 35ms/step - loss: 31002572.0000\n"
     ]
    },
    {
     "output_type": "stream",
     "name": "stderr",
     "text": [
      "\n",
      "\n",
      "\u001b[A\u001b[A"
     ]
    },
    {
     "output_type": "stream",
     "name": "stdout",
     "text": [
      "Epoch 187/500\n",
      "10/10 [==============================] - 0s 35ms/step - loss: 30996324.0000\n"
     ]
    },
    {
     "output_type": "stream",
     "name": "stderr",
     "text": [
      "\n",
      "\n",
      "\u001b[A\u001b[A"
     ]
    },
    {
     "output_type": "stream",
     "name": "stdout",
     "text": [
      "Epoch 188/500\n",
      "10/10 [==============================] - 0s 32ms/step - loss: 30993020.0000\n"
     ]
    },
    {
     "output_type": "stream",
     "name": "stderr",
     "text": [
      "\n",
      "\n",
      "\u001b[A\u001b[A"
     ]
    },
    {
     "output_type": "stream",
     "name": "stdout",
     "text": [
      "Epoch 189/500\n",
      "10/10 [==============================] - 0s 31ms/step - loss: 30990252.0000\n"
     ]
    },
    {
     "output_type": "stream",
     "name": "stderr",
     "text": [
      "\n",
      "\n",
      "\u001b[A\u001b[A"
     ]
    },
    {
     "output_type": "stream",
     "name": "stdout",
     "text": [
      "Epoch 190/500\n",
      "10/10 [==============================] - 0s 33ms/step - loss: 30983362.0000\n"
     ]
    },
    {
     "output_type": "stream",
     "name": "stderr",
     "text": [
      "\n",
      "\n",
      "\u001b[A\u001b[A"
     ]
    },
    {
     "output_type": "stream",
     "name": "stdout",
     "text": [
      "Epoch 191/500\n",
      "10/10 [==============================] - 0s 31ms/step - loss: 30980958.0000\n"
     ]
    },
    {
     "output_type": "stream",
     "name": "stderr",
     "text": [
      "\n",
      "\n",
      "\u001b[A\u001b[A"
     ]
    },
    {
     "output_type": "stream",
     "name": "stdout",
     "text": [
      "Epoch 192/500\n",
      "10/10 [==============================] - 0s 32ms/step - loss: 30974588.0000\n"
     ]
    },
    {
     "output_type": "stream",
     "name": "stderr",
     "text": [
      "\n",
      "\n",
      "\u001b[A\u001b[A"
     ]
    },
    {
     "output_type": "stream",
     "name": "stdout",
     "text": [
      "Epoch 193/500\n",
      "10/10 [==============================] - 0s 31ms/step - loss: 30968492.0000\n"
     ]
    },
    {
     "output_type": "stream",
     "name": "stderr",
     "text": [
      "\n",
      "\n",
      "\u001b[A\u001b[A"
     ]
    },
    {
     "output_type": "stream",
     "name": "stdout",
     "text": [
      "Epoch 194/500\n",
      "10/10 [==============================] - 0s 32ms/step - loss: 30965210.0000\n"
     ]
    },
    {
     "output_type": "stream",
     "name": "stderr",
     "text": [
      "\n",
      "\n",
      "\u001b[A\u001b[A"
     ]
    },
    {
     "output_type": "stream",
     "name": "stdout",
     "text": [
      "Epoch 195/500\n",
      "10/10 [==============================] - 0s 32ms/step - loss: 30962414.0000\n"
     ]
    },
    {
     "output_type": "stream",
     "name": "stderr",
     "text": [
      "\n",
      "\n",
      "\u001b[A\u001b[A"
     ]
    },
    {
     "output_type": "stream",
     "name": "stdout",
     "text": [
      "Epoch 196/500\n",
      "10/10 [==============================] - 0s 30ms/step - loss: 30953776.0000\n"
     ]
    },
    {
     "output_type": "stream",
     "name": "stderr",
     "text": [
      "\n",
      "\n",
      "\u001b[A\u001b[A"
     ]
    },
    {
     "output_type": "stream",
     "name": "stdout",
     "text": [
      "Epoch 197/500\n",
      "10/10 [==============================] - 0s 30ms/step - loss: 30951700.0000\n"
     ]
    },
    {
     "output_type": "stream",
     "name": "stderr",
     "text": [
      "\n",
      "\n",
      "\u001b[A\u001b[A"
     ]
    },
    {
     "output_type": "stream",
     "name": "stdout",
     "text": [
      "Epoch 198/500\n",
      "10/10 [==============================] - 0s 29ms/step - loss: 30948346.0000\n"
     ]
    },
    {
     "output_type": "stream",
     "name": "stderr",
     "text": [
      "\n",
      "\n",
      "\u001b[A\u001b[A"
     ]
    },
    {
     "output_type": "stream",
     "name": "stdout",
     "text": [
      "Epoch 199/500\n",
      "10/10 [==============================] - 0s 30ms/step - loss: 30941318.0000\n"
     ]
    },
    {
     "output_type": "stream",
     "name": "stderr",
     "text": [
      "\n",
      "\n",
      "\u001b[A\u001b[A"
     ]
    },
    {
     "output_type": "stream",
     "name": "stdout",
     "text": [
      "Epoch 200/500\n",
      "10/10 [==============================] - 0s 30ms/step - loss: 30937922.0000\n"
     ]
    },
    {
     "output_type": "stream",
     "name": "stderr",
     "text": [
      "\n",
      "\n",
      "\u001b[A\u001b[A"
     ]
    },
    {
     "output_type": "stream",
     "name": "stdout",
     "text": [
      "Epoch 201/500\n",
      "10/10 [==============================] - 0s 34ms/step - loss: 30932138.0000\n"
     ]
    },
    {
     "output_type": "stream",
     "name": "stderr",
     "text": [
      "\n",
      "\n",
      "\u001b[A\u001b[A"
     ]
    },
    {
     "output_type": "stream",
     "name": "stdout",
     "text": [
      "Epoch 202/500\n",
      "10/10 [==============================] - 0s 32ms/step - loss: 30927456.0000\n"
     ]
    },
    {
     "output_type": "stream",
     "name": "stderr",
     "text": [
      "\n",
      "\n",
      "\u001b[A\u001b[A"
     ]
    },
    {
     "output_type": "stream",
     "name": "stdout",
     "text": [
      "Epoch 203/500\n",
      "10/10 [==============================] - 0s 30ms/step - loss: 30922496.0000\n"
     ]
    },
    {
     "output_type": "stream",
     "name": "stderr",
     "text": [
      "\n",
      "\n",
      "\u001b[A\u001b[A"
     ]
    },
    {
     "output_type": "stream",
     "name": "stdout",
     "text": [
      "Epoch 204/500\n",
      "10/10 [==============================] - 0s 31ms/step - loss: 30919532.0000\n"
     ]
    },
    {
     "output_type": "stream",
     "name": "stderr",
     "text": [
      "\n",
      "\n",
      "\u001b[A\u001b[A"
     ]
    },
    {
     "output_type": "stream",
     "name": "stdout",
     "text": [
      "Epoch 205/500\n",
      "10/10 [==============================] - 0s 30ms/step - loss: 30914542.0000\n"
     ]
    },
    {
     "output_type": "stream",
     "name": "stderr",
     "text": [
      "\n",
      "\n",
      "\u001b[A\u001b[A"
     ]
    },
    {
     "output_type": "stream",
     "name": "stdout",
     "text": [
      "Epoch 206/500\n",
      "10/10 [==============================] - 0s 30ms/step - loss: 30908434.0000\n"
     ]
    },
    {
     "output_type": "stream",
     "name": "stderr",
     "text": [
      "\n",
      "\n",
      "\u001b[A\u001b[A"
     ]
    },
    {
     "output_type": "stream",
     "name": "stdout",
     "text": [
      "Epoch 207/500\n",
      "10/10 [==============================] - 0s 30ms/step - loss: 30905594.0000\n"
     ]
    },
    {
     "output_type": "stream",
     "name": "stderr",
     "text": [
      "\n",
      "\n",
      "\u001b[A\u001b[A"
     ]
    },
    {
     "output_type": "stream",
     "name": "stdout",
     "text": [
      "Epoch 208/500\n",
      "10/10 [==============================] - 0s 30ms/step - loss: 30901818.0000\n"
     ]
    },
    {
     "output_type": "stream",
     "name": "stderr",
     "text": [
      "\n",
      "\n",
      "\u001b[A\u001b[A"
     ]
    },
    {
     "output_type": "stream",
     "name": "stdout",
     "text": [
      "Epoch 209/500\n",
      "10/10 [==============================] - 0s 30ms/step - loss: 30894398.0000\n"
     ]
    },
    {
     "output_type": "stream",
     "name": "stderr",
     "text": [
      "\n",
      "\n",
      "\u001b[A\u001b[A"
     ]
    },
    {
     "output_type": "stream",
     "name": "stdout",
     "text": [
      "Epoch 210/500\n",
      "10/10 [==============================] - 0s 30ms/step - loss: 30891396.0000\n"
     ]
    },
    {
     "output_type": "stream",
     "name": "stderr",
     "text": [
      "\n",
      "\n",
      "\u001b[A\u001b[A"
     ]
    },
    {
     "output_type": "stream",
     "name": "stdout",
     "text": [
      "Epoch 211/500\n",
      "10/10 [==============================] - 0s 30ms/step - loss: 30884576.0000\n"
     ]
    },
    {
     "output_type": "stream",
     "name": "stderr",
     "text": [
      "\n",
      "\n",
      "\u001b[A\u001b[A"
     ]
    },
    {
     "output_type": "stream",
     "name": "stdout",
     "text": [
      "Epoch 212/500\n",
      "10/10 [==============================] - 0s 32ms/step - loss: 30883352.0000\n"
     ]
    },
    {
     "output_type": "stream",
     "name": "stderr",
     "text": [
      "\n",
      "\n",
      "\u001b[A\u001b[A"
     ]
    },
    {
     "output_type": "stream",
     "name": "stdout",
     "text": [
      "Epoch 213/500\n",
      "10/10 [==============================] - 0s 34ms/step - loss: 30876160.0000\n"
     ]
    },
    {
     "output_type": "stream",
     "name": "stderr",
     "text": [
      "\n",
      "\n",
      "\u001b[A\u001b[A"
     ]
    },
    {
     "output_type": "stream",
     "name": "stdout",
     "text": [
      "Epoch 214/500\n",
      "10/10 [==============================] - 0s 32ms/step - loss: 30871916.0000\n"
     ]
    },
    {
     "output_type": "stream",
     "name": "stderr",
     "text": [
      "\n",
      "\n",
      "\u001b[A\u001b[A"
     ]
    },
    {
     "output_type": "stream",
     "name": "stdout",
     "text": [
      "Epoch 215/500\n",
      "10/10 [==============================] - 0s 32ms/step - loss: 30867882.0000\n"
     ]
    },
    {
     "output_type": "stream",
     "name": "stderr",
     "text": [
      "\n",
      "\n",
      "\u001b[A\u001b[A"
     ]
    },
    {
     "output_type": "stream",
     "name": "stdout",
     "text": [
      "Epoch 216/500\n",
      "10/10 [==============================] - 0s 32ms/step - loss: 30864274.0000\n"
     ]
    },
    {
     "output_type": "stream",
     "name": "stderr",
     "text": [
      "\n",
      "\n",
      "\u001b[A\u001b[A"
     ]
    },
    {
     "output_type": "stream",
     "name": "stdout",
     "text": [
      "Epoch 217/500\n",
      "10/10 [==============================] - 0s 31ms/step - loss: 30855354.0000\n"
     ]
    },
    {
     "output_type": "stream",
     "name": "stderr",
     "text": [
      "\n",
      "\n",
      "\u001b[A\u001b[A"
     ]
    },
    {
     "output_type": "stream",
     "name": "stdout",
     "text": [
      "Epoch 218/500\n",
      "10/10 [==============================] - 0s 32ms/step - loss: 30853600.0000\n"
     ]
    },
    {
     "output_type": "stream",
     "name": "stderr",
     "text": [
      "\n",
      "\n",
      "\u001b[A\u001b[A"
     ]
    },
    {
     "output_type": "stream",
     "name": "stdout",
     "text": [
      "Epoch 219/500\n",
      "10/10 [==============================] - 0s 32ms/step - loss: 30850968.0000\n"
     ]
    },
    {
     "output_type": "stream",
     "name": "stderr",
     "text": [
      "\n",
      "\n",
      "\u001b[A\u001b[A"
     ]
    },
    {
     "output_type": "stream",
     "name": "stdout",
     "text": [
      "Epoch 220/500\n",
      "10/10 [==============================] - 0s 32ms/step - loss: 30845602.0000\n"
     ]
    },
    {
     "output_type": "stream",
     "name": "stderr",
     "text": [
      "\n",
      "\n",
      "\u001b[A\u001b[A"
     ]
    },
    {
     "output_type": "stream",
     "name": "stdout",
     "text": [
      "Epoch 221/500\n",
      "10/10 [==============================] - 0s 31ms/step - loss: 30840534.0000\n"
     ]
    },
    {
     "output_type": "stream",
     "name": "stderr",
     "text": [
      "\n",
      "\n",
      "\u001b[A\u001b[A"
     ]
    },
    {
     "output_type": "stream",
     "name": "stdout",
     "text": [
      "Epoch 222/500\n",
      "10/10 [==============================] - 0s 37ms/step - loss: 30836726.0000\n"
     ]
    },
    {
     "output_type": "stream",
     "name": "stderr",
     "text": [
      "\n",
      "\n",
      "\u001b[A\u001b[A"
     ]
    },
    {
     "output_type": "stream",
     "name": "stdout",
     "text": [
      "Epoch 223/500\n",
      "10/10 [==============================] - 0s 36ms/step - loss: 30832104.0000\n"
     ]
    },
    {
     "output_type": "stream",
     "name": "stderr",
     "text": [
      "\n",
      "\n",
      "\u001b[A\u001b[A"
     ]
    },
    {
     "output_type": "stream",
     "name": "stdout",
     "text": [
      "Epoch 224/500\n",
      "10/10 [==============================] - 0s 36ms/step - loss: 30823684.0000\n"
     ]
    },
    {
     "output_type": "stream",
     "name": "stderr",
     "text": [
      "\n",
      "\n",
      "\u001b[A\u001b[A"
     ]
    },
    {
     "output_type": "stream",
     "name": "stdout",
     "text": [
      "Epoch 225/500\n",
      "10/10 [==============================] - 0s 34ms/step - loss: 30823078.0000\n"
     ]
    },
    {
     "output_type": "stream",
     "name": "stderr",
     "text": [
      "\n",
      "\n",
      "\u001b[A\u001b[A"
     ]
    },
    {
     "output_type": "stream",
     "name": "stdout",
     "text": [
      "Epoch 226/500\n",
      "10/10 [==============================] - 0s 34ms/step - loss: 30817412.0000\n"
     ]
    },
    {
     "output_type": "stream",
     "name": "stderr",
     "text": [
      "\n",
      "\n",
      "\u001b[A\u001b[A"
     ]
    },
    {
     "output_type": "stream",
     "name": "stdout",
     "text": [
      "Epoch 227/500\n",
      "10/10 [==============================] - 0s 36ms/step - loss: 30811260.0000\n"
     ]
    },
    {
     "output_type": "stream",
     "name": "stderr",
     "text": [
      "\n",
      "\n",
      "\u001b[A\u001b[A"
     ]
    },
    {
     "output_type": "stream",
     "name": "stdout",
     "text": [
      "Epoch 228/500\n",
      "10/10 [==============================] - 0s 32ms/step - loss: 30805494.0000\n"
     ]
    },
    {
     "output_type": "stream",
     "name": "stderr",
     "text": [
      "\n",
      "\n",
      "\u001b[A\u001b[A"
     ]
    },
    {
     "output_type": "stream",
     "name": "stdout",
     "text": [
      "Epoch 229/500\n",
      "10/10 [==============================] - 0s 32ms/step - loss: 30800298.0000\n"
     ]
    },
    {
     "output_type": "stream",
     "name": "stderr",
     "text": [
      "\n",
      "\n",
      "\u001b[A\u001b[A"
     ]
    },
    {
     "output_type": "stream",
     "name": "stdout",
     "text": [
      "Epoch 230/500\n",
      "10/10 [==============================] - 0s 33ms/step - loss: 30797008.0000\n"
     ]
    },
    {
     "output_type": "stream",
     "name": "stderr",
     "text": [
      "\n",
      "\n",
      "\u001b[A\u001b[A"
     ]
    },
    {
     "output_type": "stream",
     "name": "stdout",
     "text": [
      "Epoch 231/500\n",
      "10/10 [==============================] - 0s 31ms/step - loss: 30795202.0000\n"
     ]
    },
    {
     "output_type": "stream",
     "name": "stderr",
     "text": [
      "\n",
      "\n",
      "\u001b[A\u001b[A"
     ]
    },
    {
     "output_type": "stream",
     "name": "stdout",
     "text": [
      "Epoch 232/500\n",
      "10/10 [==============================] - 0s 31ms/step - loss: 30788386.0000\n"
     ]
    },
    {
     "output_type": "stream",
     "name": "stderr",
     "text": [
      "\n",
      "\n",
      "\u001b[A\u001b[A"
     ]
    },
    {
     "output_type": "stream",
     "name": "stdout",
     "text": [
      "Epoch 233/500\n",
      "10/10 [==============================] - 0s 31ms/step - loss: 30784110.0000\n"
     ]
    },
    {
     "output_type": "stream",
     "name": "stderr",
     "text": [
      "\n",
      "\n",
      "\u001b[A\u001b[A"
     ]
    },
    {
     "output_type": "stream",
     "name": "stdout",
     "text": [
      "Epoch 234/500\n",
      "10/10 [==============================] - 0s 32ms/step - loss: 30779976.0000\n"
     ]
    },
    {
     "output_type": "stream",
     "name": "stderr",
     "text": [
      "\n",
      "\n",
      "\u001b[A\u001b[A"
     ]
    },
    {
     "output_type": "stream",
     "name": "stdout",
     "text": [
      "Epoch 235/500\n",
      "10/10 [==============================] - 0s 32ms/step - loss: 30774134.0000\n"
     ]
    },
    {
     "output_type": "stream",
     "name": "stderr",
     "text": [
      "\n",
      "\n",
      "\u001b[A\u001b[A"
     ]
    },
    {
     "output_type": "stream",
     "name": "stdout",
     "text": [
      "Epoch 236/500\n",
      "10/10 [==============================] - 0s 31ms/step - loss: 30770570.0000\n"
     ]
    },
    {
     "output_type": "stream",
     "name": "stderr",
     "text": [
      "\n",
      "\n",
      "\u001b[A\u001b[A"
     ]
    },
    {
     "output_type": "stream",
     "name": "stdout",
     "text": [
      "Epoch 237/500\n",
      "10/10 [==============================] - 0s 32ms/step - loss: 30766786.0000\n"
     ]
    },
    {
     "output_type": "stream",
     "name": "stderr",
     "text": [
      "\n",
      "\n",
      "\u001b[A\u001b[A"
     ]
    },
    {
     "output_type": "stream",
     "name": "stdout",
     "text": [
      "Epoch 238/500\n",
      "10/10 [==============================] - 0s 34ms/step - loss: 30760672.0000\n"
     ]
    },
    {
     "output_type": "stream",
     "name": "stderr",
     "text": [
      "\n",
      "\n",
      "\u001b[A\u001b[A"
     ]
    },
    {
     "output_type": "stream",
     "name": "stdout",
     "text": [
      "Epoch 239/500\n",
      "10/10 [==============================] - 0s 34ms/step - loss: 30756756.0000\n"
     ]
    },
    {
     "output_type": "stream",
     "name": "stderr",
     "text": [
      "\n",
      "\n",
      "\u001b[A\u001b[A"
     ]
    },
    {
     "output_type": "stream",
     "name": "stdout",
     "text": [
      "Epoch 240/500\n",
      "10/10 [==============================] - 0s 42ms/step - loss: 30751432.0000\n"
     ]
    },
    {
     "output_type": "stream",
     "name": "stderr",
     "text": [
      "\n",
      "\n",
      "\u001b[A\u001b[A"
     ]
    },
    {
     "output_type": "stream",
     "name": "stdout",
     "text": [
      "Epoch 241/500\n",
      "10/10 [==============================] - 1s 49ms/step - loss: 30747692.0000\n"
     ]
    },
    {
     "output_type": "stream",
     "name": "stderr",
     "text": [
      "\n",
      "\n",
      "\u001b[A\u001b[A"
     ]
    },
    {
     "output_type": "stream",
     "name": "stdout",
     "text": [
      "Epoch 242/500\n",
      "10/10 [==============================] - 0s 41ms/step - loss: 30740878.0000\n"
     ]
    },
    {
     "output_type": "stream",
     "name": "stderr",
     "text": [
      "\n",
      "\n",
      "\u001b[A\u001b[A"
     ]
    },
    {
     "output_type": "stream",
     "name": "stdout",
     "text": [
      "Epoch 243/500\n",
      "10/10 [==============================] - 0s 38ms/step - loss: 30738968.0000\n"
     ]
    },
    {
     "output_type": "stream",
     "name": "stderr",
     "text": [
      "\n",
      "\n",
      "\u001b[A\u001b[A"
     ]
    },
    {
     "output_type": "stream",
     "name": "stdout",
     "text": [
      "Epoch 244/500\n",
      "10/10 [==============================] - 0s 35ms/step - loss: 30733720.0000\n"
     ]
    },
    {
     "output_type": "stream",
     "name": "stderr",
     "text": [
      "\n",
      "\n",
      "\u001b[A\u001b[A"
     ]
    },
    {
     "output_type": "stream",
     "name": "stdout",
     "text": [
      "Epoch 245/500\n",
      "10/10 [==============================] - 1s 50ms/step - loss: 30726158.0000\n"
     ]
    },
    {
     "output_type": "stream",
     "name": "stderr",
     "text": [
      "\n",
      "\n",
      "\u001b[A\u001b[A"
     ]
    },
    {
     "output_type": "stream",
     "name": "stdout",
     "text": [
      "Epoch 246/500\n",
      "10/10 [==============================] - 0s 36ms/step - loss: 30724718.0000\n"
     ]
    },
    {
     "output_type": "stream",
     "name": "stderr",
     "text": [
      "\n",
      "\n",
      "\u001b[A\u001b[A"
     ]
    },
    {
     "output_type": "stream",
     "name": "stdout",
     "text": [
      "Epoch 247/500\n",
      "10/10 [==============================] - 0s 34ms/step - loss: 30717388.0000\n"
     ]
    },
    {
     "output_type": "stream",
     "name": "stderr",
     "text": [
      "\n",
      "\n",
      "\u001b[A\u001b[A"
     ]
    },
    {
     "output_type": "stream",
     "name": "stdout",
     "text": [
      "Epoch 248/500\n",
      "10/10 [==============================] - 0s 37ms/step - loss: 30715040.0000\n"
     ]
    },
    {
     "output_type": "stream",
     "name": "stderr",
     "text": [
      "\n",
      "\n",
      "\u001b[A\u001b[A"
     ]
    },
    {
     "output_type": "stream",
     "name": "stdout",
     "text": [
      "Epoch 249/500\n",
      "10/10 [==============================] - 0s 34ms/step - loss: 30711648.0000\n"
     ]
    },
    {
     "output_type": "stream",
     "name": "stderr",
     "text": [
      "\n",
      "\n",
      "\u001b[A\u001b[A"
     ]
    },
    {
     "output_type": "stream",
     "name": "stdout",
     "text": [
      "Epoch 250/500\n",
      "10/10 [==============================] - 0s 32ms/step - loss: 30704862.0000\n"
     ]
    },
    {
     "output_type": "stream",
     "name": "stderr",
     "text": [
      "\n",
      "\n",
      "\u001b[A\u001b[A"
     ]
    },
    {
     "output_type": "stream",
     "name": "stdout",
     "text": [
      "Epoch 251/500\n",
      "10/10 [==============================] - 0s 33ms/step - loss: 30700908.0000\n"
     ]
    },
    {
     "output_type": "stream",
     "name": "stderr",
     "text": [
      "\n",
      "\n",
      "\u001b[A\u001b[A"
     ]
    },
    {
     "output_type": "stream",
     "name": "stdout",
     "text": [
      "Epoch 252/500\n",
      "10/10 [==============================] - 0s 32ms/step - loss: 30700254.0000\n"
     ]
    },
    {
     "output_type": "stream",
     "name": "stderr",
     "text": [
      "\n",
      "\n",
      "\u001b[A\u001b[A"
     ]
    },
    {
     "output_type": "stream",
     "name": "stdout",
     "text": [
      "Epoch 253/500\n",
      "10/10 [==============================] - 0s 32ms/step - loss: 30691628.0000\n"
     ]
    },
    {
     "output_type": "stream",
     "name": "stderr",
     "text": [
      "\n",
      "\n",
      "\u001b[A\u001b[A"
     ]
    },
    {
     "output_type": "stream",
     "name": "stdout",
     "text": [
      "Epoch 254/500\n",
      "10/10 [==============================] - 0s 32ms/step - loss: 30685748.0000\n"
     ]
    },
    {
     "output_type": "stream",
     "name": "stderr",
     "text": [
      "\n",
      "\n",
      "\u001b[A\u001b[A"
     ]
    },
    {
     "output_type": "stream",
     "name": "stdout",
     "text": [
      "Epoch 255/500\n",
      "10/10 [==============================] - 0s 31ms/step - loss: 30682576.0000\n"
     ]
    },
    {
     "output_type": "stream",
     "name": "stderr",
     "text": [
      "\n",
      "\n",
      "\u001b[A\u001b[A"
     ]
    },
    {
     "output_type": "stream",
     "name": "stdout",
     "text": [
      "Epoch 256/500\n",
      "10/10 [==============================] - 0s 31ms/step - loss: 30678102.0000\n"
     ]
    },
    {
     "output_type": "stream",
     "name": "stderr",
     "text": [
      "\n",
      "\n",
      "\u001b[A\u001b[A"
     ]
    },
    {
     "output_type": "stream",
     "name": "stdout",
     "text": [
      "Epoch 257/500\n",
      "10/10 [==============================] - 0s 32ms/step - loss: 30675218.0000\n"
     ]
    },
    {
     "output_type": "stream",
     "name": "stderr",
     "text": [
      "\n",
      "\n",
      "\u001b[A\u001b[A"
     ]
    },
    {
     "output_type": "stream",
     "name": "stdout",
     "text": [
      "Epoch 258/500\n",
      "10/10 [==============================] - 0s 32ms/step - loss: 30668046.0000\n"
     ]
    },
    {
     "output_type": "stream",
     "name": "stderr",
     "text": [
      "\n",
      "\n",
      "\u001b[A\u001b[A"
     ]
    },
    {
     "output_type": "stream",
     "name": "stdout",
     "text": [
      "Epoch 259/500\n",
      "10/10 [==============================] - 0s 32ms/step - loss: 30662892.0000\n"
     ]
    },
    {
     "output_type": "stream",
     "name": "stderr",
     "text": [
      "\n",
      "\n",
      "\u001b[A\u001b[A"
     ]
    },
    {
     "output_type": "stream",
     "name": "stdout",
     "text": [
      "Epoch 260/500\n",
      "10/10 [==============================] - 0s 34ms/step - loss: 30662552.0000\n"
     ]
    },
    {
     "output_type": "stream",
     "name": "stderr",
     "text": [
      "\n",
      "\n",
      "\u001b[A\u001b[A"
     ]
    },
    {
     "output_type": "stream",
     "name": "stdout",
     "text": [
      "Epoch 261/500\n",
      "10/10 [==============================] - 0s 33ms/step - loss: 30656672.0000\n"
     ]
    },
    {
     "output_type": "stream",
     "name": "stderr",
     "text": [
      "\n",
      "\n",
      "\u001b[A\u001b[A"
     ]
    },
    {
     "output_type": "stream",
     "name": "stdout",
     "text": [
      "Epoch 262/500\n",
      "10/10 [==============================] - 0s 32ms/step - loss: 30652728.0000\n"
     ]
    },
    {
     "output_type": "stream",
     "name": "stderr",
     "text": [
      "\n",
      "\n",
      "\u001b[A\u001b[A"
     ]
    },
    {
     "output_type": "stream",
     "name": "stdout",
     "text": [
      "Epoch 263/500\n",
      "10/10 [==============================] - 0s 32ms/step - loss: 30647092.0000\n"
     ]
    },
    {
     "output_type": "stream",
     "name": "stderr",
     "text": [
      "\n",
      "\n",
      "\u001b[A\u001b[A"
     ]
    },
    {
     "output_type": "stream",
     "name": "stdout",
     "text": [
      "Epoch 264/500\n",
      "10/10 [==============================] - 0s 35ms/step - loss: 30643640.0000\n"
     ]
    },
    {
     "output_type": "stream",
     "name": "stderr",
     "text": [
      "\n",
      "\n",
      "\u001b[A\u001b[A"
     ]
    },
    {
     "output_type": "stream",
     "name": "stdout",
     "text": [
      "Epoch 265/500\n",
      "10/10 [==============================] - 0s 33ms/step - loss: 30638436.0000\n"
     ]
    },
    {
     "output_type": "stream",
     "name": "stderr",
     "text": [
      "\n",
      "\n",
      "\u001b[A\u001b[A"
     ]
    },
    {
     "output_type": "stream",
     "name": "stdout",
     "text": [
      "Epoch 266/500\n",
      "10/10 [==============================] - 0s 32ms/step - loss: 30631722.0000\n"
     ]
    },
    {
     "output_type": "stream",
     "name": "stderr",
     "text": [
      "\n",
      "\n",
      "\u001b[A\u001b[A"
     ]
    },
    {
     "output_type": "stream",
     "name": "stdout",
     "text": [
      "Epoch 267/500\n",
      "10/10 [==============================] - 0s 32ms/step - loss: 30627926.0000\n"
     ]
    },
    {
     "output_type": "stream",
     "name": "stderr",
     "text": [
      "\n",
      "\n",
      "\u001b[A\u001b[A"
     ]
    },
    {
     "output_type": "stream",
     "name": "stdout",
     "text": [
      "Epoch 268/500\n",
      "10/10 [==============================] - 0s 32ms/step - loss: 30624148.0000\n"
     ]
    },
    {
     "output_type": "stream",
     "name": "stderr",
     "text": [
      "\n",
      "\n",
      "\u001b[A\u001b[A"
     ]
    },
    {
     "output_type": "stream",
     "name": "stdout",
     "text": [
      "Epoch 269/500\n",
      "10/10 [==============================] - 0s 35ms/step - loss: 30619368.0000\n"
     ]
    },
    {
     "output_type": "stream",
     "name": "stderr",
     "text": [
      "\n",
      "\n",
      "\u001b[A\u001b[A"
     ]
    },
    {
     "output_type": "stream",
     "name": "stdout",
     "text": [
      "Epoch 270/500\n",
      "10/10 [==============================] - 0s 36ms/step - loss: 30613716.0000\n"
     ]
    },
    {
     "output_type": "stream",
     "name": "stderr",
     "text": [
      "\n",
      "\n",
      "\u001b[A\u001b[A"
     ]
    },
    {
     "output_type": "stream",
     "name": "stdout",
     "text": [
      "Epoch 271/500\n",
      "10/10 [==============================] - 0s 37ms/step - loss: 30610674.0000\n"
     ]
    },
    {
     "output_type": "stream",
     "name": "stderr",
     "text": [
      "\n",
      "\n",
      "\u001b[A\u001b[A"
     ]
    },
    {
     "output_type": "stream",
     "name": "stdout",
     "text": [
      "Epoch 272/500\n",
      "10/10 [==============================] - 0s 43ms/step - loss: 30601644.0000\n"
     ]
    },
    {
     "output_type": "stream",
     "name": "stderr",
     "text": [
      "\n",
      "\n",
      "\u001b[A\u001b[A"
     ]
    },
    {
     "output_type": "stream",
     "name": "stdout",
     "text": [
      "Epoch 273/500\n",
      "10/10 [==============================] - 0s 42ms/step - loss: 30599546.0000\n"
     ]
    },
    {
     "output_type": "stream",
     "name": "stderr",
     "text": [
      "\n",
      "\n",
      "\u001b[A\u001b[A"
     ]
    },
    {
     "output_type": "stream",
     "name": "stdout",
     "text": [
      "Epoch 274/500\n",
      "10/10 [==============================] - 0s 37ms/step - loss: 30600320.0000\n"
     ]
    },
    {
     "output_type": "stream",
     "name": "stderr",
     "text": [
      "\n",
      "\n",
      "\u001b[A\u001b[A"
     ]
    },
    {
     "output_type": "stream",
     "name": "stdout",
     "text": [
      "Epoch 275/500\n",
      "10/10 [==============================] - 0s 35ms/step - loss: 30594612.0000\n"
     ]
    },
    {
     "output_type": "stream",
     "name": "stderr",
     "text": [
      "\n",
      "\n",
      "\u001b[A\u001b[A"
     ]
    },
    {
     "output_type": "stream",
     "name": "stdout",
     "text": [
      "Epoch 276/500\n",
      "10/10 [==============================] - 0s 37ms/step - loss: 30589236.0000\n"
     ]
    },
    {
     "output_type": "stream",
     "name": "stderr",
     "text": [
      "\n",
      "\n",
      "\u001b[A\u001b[A"
     ]
    },
    {
     "output_type": "stream",
     "name": "stdout",
     "text": [
      "Epoch 277/500\n",
      "10/10 [==============================] - 0s 36ms/step - loss: 30583978.0000\n"
     ]
    },
    {
     "output_type": "stream",
     "name": "stderr",
     "text": [
      "\n",
      "\n",
      "\u001b[A\u001b[A"
     ]
    },
    {
     "output_type": "stream",
     "name": "stdout",
     "text": [
      "Epoch 278/500\n",
      "10/10 [==============================] - 0s 34ms/step - loss: 30577418.0000\n"
     ]
    },
    {
     "output_type": "stream",
     "name": "stderr",
     "text": [
      "\n",
      "\n",
      "\u001b[A\u001b[A"
     ]
    },
    {
     "output_type": "stream",
     "name": "stdout",
     "text": [
      "Epoch 279/500\n",
      "10/10 [==============================] - 0s 42ms/step - loss: 30571758.0000\n"
     ]
    },
    {
     "output_type": "stream",
     "name": "stderr",
     "text": [
      "\n",
      "\n",
      "\u001b[A\u001b[A"
     ]
    },
    {
     "output_type": "stream",
     "name": "stdout",
     "text": [
      "Epoch 280/500\n",
      "10/10 [==============================] - 0s 36ms/step - loss: 30567328.0000\n"
     ]
    },
    {
     "output_type": "stream",
     "name": "stderr",
     "text": [
      "\n",
      "\n",
      "\u001b[A\u001b[A"
     ]
    },
    {
     "output_type": "stream",
     "name": "stdout",
     "text": [
      "Epoch 281/500\n",
      "10/10 [==============================] - 0s 37ms/step - loss: 30562532.0000\n"
     ]
    },
    {
     "output_type": "stream",
     "name": "stderr",
     "text": [
      "\n",
      "\n",
      "\u001b[A\u001b[A"
     ]
    },
    {
     "output_type": "stream",
     "name": "stdout",
     "text": [
      "Epoch 282/500\n",
      "10/10 [==============================] - 0s 42ms/step - loss: 30560218.0000\n"
     ]
    },
    {
     "output_type": "stream",
     "name": "stderr",
     "text": [
      "\n",
      "\n",
      "\u001b[A\u001b[A"
     ]
    },
    {
     "output_type": "stream",
     "name": "stdout",
     "text": [
      "Epoch 283/500\n",
      "10/10 [==============================] - 0s 36ms/step - loss: 30555848.0000\n"
     ]
    },
    {
     "output_type": "stream",
     "name": "stderr",
     "text": [
      "\n",
      "\n",
      "\u001b[A\u001b[A"
     ]
    },
    {
     "output_type": "stream",
     "name": "stdout",
     "text": [
      "Epoch 284/500\n",
      "10/10 [==============================] - 0s 37ms/step - loss: 30553414.0000\n"
     ]
    },
    {
     "output_type": "stream",
     "name": "stderr",
     "text": [
      "\n",
      "\n",
      "\u001b[A\u001b[A"
     ]
    },
    {
     "output_type": "stream",
     "name": "stdout",
     "text": [
      "Epoch 285/500\n",
      "10/10 [==============================] - 0s 34ms/step - loss: 30546750.0000\n"
     ]
    },
    {
     "output_type": "stream",
     "name": "stderr",
     "text": [
      "\n",
      "\n",
      "\u001b[A\u001b[A"
     ]
    },
    {
     "output_type": "stream",
     "name": "stdout",
     "text": [
      "Epoch 286/500\n",
      "10/10 [==============================] - 0s 38ms/step - loss: 30539344.0000\n"
     ]
    },
    {
     "output_type": "stream",
     "name": "stderr",
     "text": [
      "\n",
      "\n",
      "\u001b[A\u001b[A"
     ]
    },
    {
     "output_type": "stream",
     "name": "stdout",
     "text": [
      "Epoch 287/500\n",
      "10/10 [==============================] - 0s 38ms/step - loss: 30537440.0000\n"
     ]
    },
    {
     "output_type": "stream",
     "name": "stderr",
     "text": [
      "\n",
      "\n",
      "\u001b[A\u001b[A"
     ]
    },
    {
     "output_type": "stream",
     "name": "stdout",
     "text": [
      "Epoch 288/500\n",
      "10/10 [==============================] - 0s 36ms/step - loss: 30534368.0000\n"
     ]
    },
    {
     "output_type": "stream",
     "name": "stderr",
     "text": [
      "\n",
      "\n",
      "\u001b[A\u001b[A"
     ]
    },
    {
     "output_type": "stream",
     "name": "stdout",
     "text": [
      "Epoch 289/500\n",
      "10/10 [==============================] - 0s 36ms/step - loss: 30527456.0000\n"
     ]
    },
    {
     "output_type": "stream",
     "name": "stderr",
     "text": [
      "\n",
      "\n",
      "\u001b[A\u001b[A"
     ]
    },
    {
     "output_type": "stream",
     "name": "stdout",
     "text": [
      "Epoch 290/500\n",
      "10/10 [==============================] - 0s 37ms/step - loss: 30526592.0000\n"
     ]
    },
    {
     "output_type": "stream",
     "name": "stderr",
     "text": [
      "\n",
      "\n",
      "\u001b[A\u001b[A"
     ]
    },
    {
     "output_type": "stream",
     "name": "stdout",
     "text": [
      "Epoch 291/500\n",
      "10/10 [==============================] - 0s 37ms/step - loss: 30518026.0000\n"
     ]
    },
    {
     "output_type": "stream",
     "name": "stderr",
     "text": [
      "\n",
      "\n",
      "\u001b[A\u001b[A"
     ]
    },
    {
     "output_type": "stream",
     "name": "stdout",
     "text": [
      "Epoch 292/500\n",
      "10/10 [==============================] - 0s 32ms/step - loss: 30515962.0000\n"
     ]
    },
    {
     "output_type": "stream",
     "name": "stderr",
     "text": [
      "\n",
      "\n",
      "\u001b[A\u001b[A"
     ]
    },
    {
     "output_type": "stream",
     "name": "stdout",
     "text": [
      "Epoch 293/500\n",
      "10/10 [==============================] - 0s 32ms/step - loss: 30510928.0000\n"
     ]
    },
    {
     "output_type": "stream",
     "name": "stderr",
     "text": [
      "\n",
      "\n",
      "\u001b[A\u001b[A"
     ]
    },
    {
     "output_type": "stream",
     "name": "stdout",
     "text": [
      "Epoch 294/500\n",
      "10/10 [==============================] - 0s 33ms/step - loss: 30508464.0000\n"
     ]
    },
    {
     "output_type": "stream",
     "name": "stderr",
     "text": [
      "\n",
      "\n",
      "\u001b[A\u001b[A"
     ]
    },
    {
     "output_type": "stream",
     "name": "stdout",
     "text": [
      "Epoch 295/500\n",
      "10/10 [==============================] - 0s 32ms/step - loss: 30499770.0000\n"
     ]
    },
    {
     "output_type": "stream",
     "name": "stderr",
     "text": [
      "\n",
      "\n",
      "\u001b[A\u001b[A"
     ]
    },
    {
     "output_type": "stream",
     "name": "stdout",
     "text": [
      "Epoch 296/500\n",
      "10/10 [==============================] - 0s 31ms/step - loss: 30495274.0000\n"
     ]
    },
    {
     "output_type": "stream",
     "name": "stderr",
     "text": [
      "\n",
      "\n",
      "\u001b[A\u001b[A"
     ]
    },
    {
     "output_type": "stream",
     "name": "stdout",
     "text": [
      "Epoch 297/500\n",
      "10/10 [==============================] - 0s 31ms/step - loss: 30491108.0000\n"
     ]
    },
    {
     "output_type": "stream",
     "name": "stderr",
     "text": [
      "\n",
      "\n",
      "\u001b[A\u001b[A"
     ]
    },
    {
     "output_type": "stream",
     "name": "stdout",
     "text": [
      "Epoch 298/500\n",
      "10/10 [==============================] - 0s 31ms/step - loss: 30487368.0000\n"
     ]
    },
    {
     "output_type": "stream",
     "name": "stderr",
     "text": [
      "\n",
      "\n",
      "\u001b[A\u001b[A"
     ]
    },
    {
     "output_type": "stream",
     "name": "stdout",
     "text": [
      "Epoch 299/500\n",
      "10/10 [==============================] - 0s 31ms/step - loss: 30486974.0000\n"
     ]
    },
    {
     "output_type": "stream",
     "name": "stderr",
     "text": [
      "\n",
      "\n",
      "\u001b[A\u001b[A"
     ]
    },
    {
     "output_type": "stream",
     "name": "stdout",
     "text": [
      "Epoch 300/500\n",
      "10/10 [==============================] - 0s 31ms/step - loss: 30479492.0000\n"
     ]
    },
    {
     "output_type": "stream",
     "name": "stderr",
     "text": [
      "\n",
      "\n",
      "\u001b[A\u001b[A"
     ]
    },
    {
     "output_type": "stream",
     "name": "stdout",
     "text": [
      "Epoch 301/500\n",
      "10/10 [==============================] - 0s 31ms/step - loss: 30471608.0000\n"
     ]
    },
    {
     "output_type": "stream",
     "name": "stderr",
     "text": [
      "\n",
      "\n",
      "\u001b[A\u001b[A"
     ]
    },
    {
     "output_type": "stream",
     "name": "stdout",
     "text": [
      "Epoch 302/500\n",
      "10/10 [==============================] - 0s 31ms/step - loss: 30470878.0000\n"
     ]
    },
    {
     "output_type": "stream",
     "name": "stderr",
     "text": [
      "\n",
      "\n",
      "\u001b[A\u001b[A"
     ]
    },
    {
     "output_type": "stream",
     "name": "stdout",
     "text": [
      "Epoch 303/500\n",
      "10/10 [==============================] - 0s 31ms/step - loss: 30464152.0000\n"
     ]
    },
    {
     "output_type": "stream",
     "name": "stderr",
     "text": [
      "\n",
      "\n",
      "\u001b[A\u001b[A"
     ]
    },
    {
     "output_type": "stream",
     "name": "stdout",
     "text": [
      "Epoch 304/500\n",
      "10/10 [==============================] - 0s 30ms/step - loss: 30460332.0000\n"
     ]
    },
    {
     "output_type": "stream",
     "name": "stderr",
     "text": [
      "\n",
      "\n",
      "\u001b[A\u001b[A"
     ]
    },
    {
     "output_type": "stream",
     "name": "stdout",
     "text": [
      "Epoch 305/500\n",
      "10/10 [==============================] - 0s 32ms/step - loss: 30455774.0000\n"
     ]
    },
    {
     "output_type": "stream",
     "name": "stderr",
     "text": [
      "\n",
      "\n",
      "\u001b[A\u001b[A"
     ]
    },
    {
     "output_type": "stream",
     "name": "stdout",
     "text": [
      "Epoch 306/500\n",
      "10/10 [==============================] - 0s 37ms/step - loss: 30450262.0000\n"
     ]
    },
    {
     "output_type": "stream",
     "name": "stderr",
     "text": [
      "\n",
      "\n",
      "\u001b[A\u001b[A"
     ]
    },
    {
     "output_type": "stream",
     "name": "stdout",
     "text": [
      "Epoch 307/500\n",
      "10/10 [==============================] - 0s 32ms/step - loss: 30445156.0000\n"
     ]
    },
    {
     "output_type": "stream",
     "name": "stderr",
     "text": [
      "\n",
      "\n",
      "\u001b[A\u001b[A"
     ]
    },
    {
     "output_type": "stream",
     "name": "stdout",
     "text": [
      "Epoch 308/500\n",
      "10/10 [==============================] - 0s 36ms/step - loss: 30441212.0000\n"
     ]
    },
    {
     "output_type": "stream",
     "name": "stderr",
     "text": [
      "\n",
      "\n",
      "\u001b[A\u001b[A"
     ]
    },
    {
     "output_type": "stream",
     "name": "stdout",
     "text": [
      "Epoch 309/500\n",
      "10/10 [==============================] - 0s 36ms/step - loss: 30437314.0000\n"
     ]
    },
    {
     "output_type": "stream",
     "name": "stderr",
     "text": [
      "\n",
      "\n",
      "\u001b[A\u001b[A"
     ]
    },
    {
     "output_type": "stream",
     "name": "stdout",
     "text": [
      "Epoch 310/500\n",
      "10/10 [==============================] - 0s 47ms/step - loss: 30434248.0000\n"
     ]
    },
    {
     "output_type": "stream",
     "name": "stderr",
     "text": [
      "\n",
      "\n",
      "\u001b[A\u001b[A"
     ]
    },
    {
     "output_type": "stream",
     "name": "stdout",
     "text": [
      "Epoch 311/500\n",
      "10/10 [==============================] - 0s 38ms/step - loss: 30427298.0000\n"
     ]
    },
    {
     "output_type": "stream",
     "name": "stderr",
     "text": [
      "\n",
      "\n",
      "\u001b[A\u001b[A"
     ]
    },
    {
     "output_type": "stream",
     "name": "stdout",
     "text": [
      "Epoch 312/500\n",
      "10/10 [==============================] - 0s 32ms/step - loss: 30424404.0000\n"
     ]
    },
    {
     "output_type": "stream",
     "name": "stderr",
     "text": [
      "\n",
      "\n",
      "\u001b[A\u001b[A"
     ]
    },
    {
     "output_type": "stream",
     "name": "stdout",
     "text": [
      "Epoch 313/500\n",
      "10/10 [==============================] - 0s 39ms/step - loss: 30419384.0000\n"
     ]
    },
    {
     "output_type": "stream",
     "name": "stderr",
     "text": [
      "\n",
      "\n",
      "\u001b[A\u001b[A"
     ]
    },
    {
     "output_type": "stream",
     "name": "stdout",
     "text": [
      "Epoch 314/500\n",
      "10/10 [==============================] - 0s 35ms/step - loss: 30414430.0000\n"
     ]
    },
    {
     "output_type": "stream",
     "name": "stderr",
     "text": [
      "\n",
      "\n",
      "\u001b[A\u001b[A"
     ]
    },
    {
     "output_type": "stream",
     "name": "stdout",
     "text": [
      "Epoch 315/500\n",
      "10/10 [==============================] - 0s 40ms/step - loss: 30413198.0000\n"
     ]
    },
    {
     "output_type": "stream",
     "name": "stderr",
     "text": [
      "\n",
      "\n",
      "\u001b[A\u001b[A"
     ]
    },
    {
     "output_type": "stream",
     "name": "stdout",
     "text": [
      "Epoch 316/500\n",
      "10/10 [==============================] - 0s 36ms/step - loss: 30405998.0000\n"
     ]
    },
    {
     "output_type": "stream",
     "name": "stderr",
     "text": [
      "\n",
      "\n",
      "\u001b[A\u001b[A"
     ]
    },
    {
     "output_type": "stream",
     "name": "stdout",
     "text": [
      "Epoch 317/500\n",
      "10/10 [==============================] - 0s 34ms/step - loss: 30402096.0000\n"
     ]
    },
    {
     "output_type": "stream",
     "name": "stderr",
     "text": [
      "\n",
      "\n",
      "\u001b[A\u001b[A"
     ]
    },
    {
     "output_type": "stream",
     "name": "stdout",
     "text": [
      "Epoch 318/500\n",
      "10/10 [==============================] - 0s 35ms/step - loss: 30399436.0000\n"
     ]
    },
    {
     "output_type": "stream",
     "name": "stderr",
     "text": [
      "\n",
      "\n",
      "\u001b[A\u001b[A"
     ]
    },
    {
     "output_type": "stream",
     "name": "stdout",
     "text": [
      "Epoch 319/500\n",
      "10/10 [==============================] - 0s 32ms/step - loss: 30394122.0000\n"
     ]
    },
    {
     "output_type": "stream",
     "name": "stderr",
     "text": [
      "\n",
      "\n",
      "\u001b[A\u001b[A"
     ]
    },
    {
     "output_type": "stream",
     "name": "stdout",
     "text": [
      "Epoch 320/500\n",
      "10/10 [==============================] - 0s 32ms/step - loss: 30386900.0000\n"
     ]
    },
    {
     "output_type": "stream",
     "name": "stderr",
     "text": [
      "\n",
      "\n",
      "\u001b[A\u001b[A"
     ]
    },
    {
     "output_type": "stream",
     "name": "stdout",
     "text": [
      "Epoch 321/500\n",
      "10/10 [==============================] - 0s 33ms/step - loss: 30384792.0000\n"
     ]
    },
    {
     "output_type": "stream",
     "name": "stderr",
     "text": [
      "\n",
      "\n",
      "\u001b[A\u001b[A"
     ]
    },
    {
     "output_type": "stream",
     "name": "stdout",
     "text": [
      "Epoch 322/500\n",
      "10/10 [==============================] - 0s 34ms/step - loss: 30378528.0000\n"
     ]
    },
    {
     "output_type": "stream",
     "name": "stderr",
     "text": [
      "\n",
      "\n",
      "\u001b[A\u001b[A"
     ]
    },
    {
     "output_type": "stream",
     "name": "stdout",
     "text": [
      "Epoch 323/500\n",
      "10/10 [==============================] - 0s 33ms/step - loss: 30376150.0000\n"
     ]
    },
    {
     "output_type": "stream",
     "name": "stderr",
     "text": [
      "\n",
      "\n",
      "\u001b[A\u001b[A"
     ]
    },
    {
     "output_type": "stream",
     "name": "stdout",
     "text": [
      "Epoch 324/500\n",
      "10/10 [==============================] - 0s 35ms/step - loss: 30370650.0000\n"
     ]
    },
    {
     "output_type": "stream",
     "name": "stderr",
     "text": [
      "\n",
      "\n",
      "\u001b[A\u001b[A"
     ]
    },
    {
     "output_type": "stream",
     "name": "stdout",
     "text": [
      "Epoch 325/500\n",
      "10/10 [==============================] - 0s 33ms/step - loss: 30367060.0000\n"
     ]
    },
    {
     "output_type": "stream",
     "name": "stderr",
     "text": [
      "\n",
      "\n",
      "\u001b[A\u001b[A"
     ]
    },
    {
     "output_type": "stream",
     "name": "stdout",
     "text": [
      "Epoch 326/500\n",
      "10/10 [==============================] - 0s 37ms/step - loss: 30361542.0000\n"
     ]
    },
    {
     "output_type": "stream",
     "name": "stderr",
     "text": [
      "\n",
      "\n",
      "\u001b[A\u001b[A"
     ]
    },
    {
     "output_type": "stream",
     "name": "stdout",
     "text": [
      "Epoch 327/500\n",
      "10/10 [==============================] - 0s 34ms/step - loss: 30354336.0000\n"
     ]
    },
    {
     "output_type": "stream",
     "name": "stderr",
     "text": [
      "\n",
      "\n",
      "\u001b[A\u001b[A"
     ]
    },
    {
     "output_type": "stream",
     "name": "stdout",
     "text": [
      "Epoch 328/500\n",
      "10/10 [==============================] - 0s 34ms/step - loss: 30354488.0000\n"
     ]
    },
    {
     "output_type": "stream",
     "name": "stderr",
     "text": [
      "\n",
      "\n",
      "\u001b[A\u001b[A"
     ]
    },
    {
     "output_type": "stream",
     "name": "stdout",
     "text": [
      "Epoch 329/500\n",
      "10/10 [==============================] - 0s 33ms/step - loss: 30349548.0000\n"
     ]
    },
    {
     "output_type": "stream",
     "name": "stderr",
     "text": [
      "\n",
      "\n",
      "\u001b[A\u001b[A"
     ]
    },
    {
     "output_type": "stream",
     "name": "stdout",
     "text": [
      "Epoch 330/500\n",
      "10/10 [==============================] - 0s 34ms/step - loss: 30343752.0000\n"
     ]
    },
    {
     "output_type": "stream",
     "name": "stderr",
     "text": [
      "\n",
      "\n",
      "\u001b[A\u001b[A"
     ]
    },
    {
     "output_type": "stream",
     "name": "stdout",
     "text": [
      "Epoch 331/500\n",
      "10/10 [==============================] - 0s 35ms/step - loss: 30341860.0000\n"
     ]
    },
    {
     "output_type": "stream",
     "name": "stderr",
     "text": [
      "\n",
      "\n",
      "\u001b[A\u001b[A"
     ]
    },
    {
     "output_type": "stream",
     "name": "stdout",
     "text": [
      "Epoch 332/500\n",
      "10/10 [==============================] - 0s 34ms/step - loss: 30336672.0000\n"
     ]
    },
    {
     "output_type": "stream",
     "name": "stderr",
     "text": [
      "\n",
      "\n",
      "\u001b[A\u001b[A"
     ]
    },
    {
     "output_type": "stream",
     "name": "stdout",
     "text": [
      "Epoch 333/500\n",
      "10/10 [==============================] - 0s 35ms/step - loss: 30331386.0000\n"
     ]
    },
    {
     "output_type": "stream",
     "name": "stderr",
     "text": [
      "\n",
      "\n",
      "\u001b[A\u001b[A"
     ]
    },
    {
     "output_type": "stream",
     "name": "stdout",
     "text": [
      "Epoch 334/500\n",
      "10/10 [==============================] - 0s 34ms/step - loss: 30325598.0000\n"
     ]
    },
    {
     "output_type": "stream",
     "name": "stderr",
     "text": [
      "\n",
      "\n",
      "\u001b[A\u001b[A"
     ]
    },
    {
     "output_type": "stream",
     "name": "stdout",
     "text": [
      "Epoch 335/500\n",
      "10/10 [==============================] - 0s 36ms/step - loss: 30320958.0000\n"
     ]
    },
    {
     "output_type": "stream",
     "name": "stderr",
     "text": [
      "\n",
      "\n",
      "\u001b[A\u001b[A"
     ]
    },
    {
     "output_type": "stream",
     "name": "stdout",
     "text": [
      "Epoch 336/500\n",
      "10/10 [==============================] - 0s 35ms/step - loss: 30315832.0000\n"
     ]
    },
    {
     "output_type": "stream",
     "name": "stderr",
     "text": [
      "\n",
      "\n",
      "\u001b[A\u001b[A"
     ]
    },
    {
     "output_type": "stream",
     "name": "stdout",
     "text": [
      "Epoch 337/500\n",
      "10/10 [==============================] - 0s 50ms/step - loss: 30312074.0000\n"
     ]
    },
    {
     "output_type": "stream",
     "name": "stderr",
     "text": [
      "\n",
      "\n",
      "\u001b[A\u001b[A"
     ]
    },
    {
     "output_type": "stream",
     "name": "stdout",
     "text": [
      "Epoch 338/500\n",
      "10/10 [==============================] - 1s 59ms/step - loss: 30308968.0000\n"
     ]
    },
    {
     "output_type": "stream",
     "name": "stderr",
     "text": [
      "\n",
      "\n",
      "\u001b[A\u001b[A"
     ]
    },
    {
     "output_type": "stream",
     "name": "stdout",
     "text": [
      "Epoch 339/500\n",
      "10/10 [==============================] - 0s 36ms/step - loss: 30307730.0000\n"
     ]
    },
    {
     "output_type": "stream",
     "name": "stderr",
     "text": [
      "\n",
      "\n",
      "\u001b[A\u001b[A"
     ]
    },
    {
     "output_type": "stream",
     "name": "stdout",
     "text": [
      "Epoch 340/500\n",
      "10/10 [==============================] - 0s 33ms/step - loss: 30298434.0000\n"
     ]
    },
    {
     "output_type": "stream",
     "name": "stderr",
     "text": [
      "\n",
      "\n",
      "\u001b[A\u001b[A"
     ]
    },
    {
     "output_type": "stream",
     "name": "stdout",
     "text": [
      "Epoch 341/500\n",
      "10/10 [==============================] - 0s 34ms/step - loss: 30295046.0000\n"
     ]
    },
    {
     "output_type": "stream",
     "name": "stderr",
     "text": [
      "\n",
      "\n",
      "\u001b[A\u001b[A"
     ]
    },
    {
     "output_type": "stream",
     "name": "stdout",
     "text": [
      "Epoch 342/500\n",
      "10/10 [==============================] - 0s 34ms/step - loss: 30294010.0000\n"
     ]
    },
    {
     "output_type": "stream",
     "name": "stderr",
     "text": [
      "\n",
      "\n",
      "\u001b[A\u001b[A"
     ]
    },
    {
     "output_type": "stream",
     "name": "stdout",
     "text": [
      "Epoch 343/500\n",
      "10/10 [==============================] - 0s 45ms/step - loss: 30286280.0000\n"
     ]
    },
    {
     "output_type": "stream",
     "name": "stderr",
     "text": [
      "\n",
      "\n",
      "\u001b[A\u001b[A"
     ]
    },
    {
     "output_type": "stream",
     "name": "stdout",
     "text": [
      "Epoch 344/500\n",
      "10/10 [==============================] - 0s 35ms/step - loss: 30283948.0000\n"
     ]
    },
    {
     "output_type": "stream",
     "name": "stderr",
     "text": [
      "\n",
      "\n",
      "\u001b[A\u001b[A"
     ]
    },
    {
     "output_type": "stream",
     "name": "stdout",
     "text": [
      "Epoch 345/500\n",
      "10/10 [==============================] - 0s 34ms/step - loss: 30277148.0000\n"
     ]
    },
    {
     "output_type": "stream",
     "name": "stderr",
     "text": [
      "\n",
      "\n",
      "\u001b[A\u001b[A"
     ]
    },
    {
     "output_type": "stream",
     "name": "stdout",
     "text": [
      "Epoch 346/500\n",
      "10/10 [==============================] - 0s 33ms/step - loss: 30273692.0000\n"
     ]
    },
    {
     "output_type": "stream",
     "name": "stderr",
     "text": [
      "\n",
      "\n",
      "\u001b[A\u001b[A"
     ]
    },
    {
     "output_type": "stream",
     "name": "stdout",
     "text": [
      "Epoch 347/500\n",
      "10/10 [==============================] - 0s 33ms/step - loss: 30269534.0000\n"
     ]
    },
    {
     "output_type": "stream",
     "name": "stderr",
     "text": [
      "\n",
      "\n",
      "\u001b[A\u001b[A"
     ]
    },
    {
     "output_type": "stream",
     "name": "stdout",
     "text": [
      "Epoch 348/500\n",
      "10/10 [==============================] - 0s 34ms/step - loss: 30262394.0000\n"
     ]
    },
    {
     "output_type": "stream",
     "name": "stderr",
     "text": [
      "\n",
      "\n",
      "\u001b[A\u001b[A"
     ]
    },
    {
     "output_type": "stream",
     "name": "stdout",
     "text": [
      "Epoch 349/500\n",
      "10/10 [==============================] - 0s 37ms/step - loss: 30257452.0000\n"
     ]
    },
    {
     "output_type": "stream",
     "name": "stderr",
     "text": [
      "\n",
      "\n",
      "\u001b[A\u001b[A"
     ]
    },
    {
     "output_type": "stream",
     "name": "stdout",
     "text": [
      "Epoch 350/500\n",
      "10/10 [==============================] - 0s 32ms/step - loss: 30255432.0000\n"
     ]
    },
    {
     "output_type": "stream",
     "name": "stderr",
     "text": [
      "\n",
      "\n",
      "\u001b[A\u001b[A"
     ]
    },
    {
     "output_type": "stream",
     "name": "stdout",
     "text": [
      "Epoch 351/500\n",
      "10/10 [==============================] - 0s 31ms/step - loss: 30251194.0000\n"
     ]
    },
    {
     "output_type": "stream",
     "name": "stderr",
     "text": [
      "\n",
      "\n",
      "\u001b[A\u001b[A"
     ]
    },
    {
     "output_type": "stream",
     "name": "stdout",
     "text": [
      "Epoch 352/500\n",
      "10/10 [==============================] - 0s 33ms/step - loss: 30244660.0000\n"
     ]
    },
    {
     "output_type": "stream",
     "name": "stderr",
     "text": [
      "\n",
      "\n",
      "\u001b[A\u001b[A"
     ]
    },
    {
     "output_type": "stream",
     "name": "stdout",
     "text": [
      "Epoch 353/500\n",
      "10/10 [==============================] - 0s 30ms/step - loss: 30241322.0000\n"
     ]
    },
    {
     "output_type": "stream",
     "name": "stderr",
     "text": [
      "\n",
      "\n",
      "\u001b[A\u001b[A"
     ]
    },
    {
     "output_type": "stream",
     "name": "stdout",
     "text": [
      "Epoch 354/500\n",
      "10/10 [==============================] - 0s 31ms/step - loss: 30240810.0000\n"
     ]
    },
    {
     "output_type": "stream",
     "name": "stderr",
     "text": [
      "\n",
      "\n",
      "\u001b[A\u001b[A"
     ]
    },
    {
     "output_type": "stream",
     "name": "stdout",
     "text": [
      "Epoch 355/500\n",
      "10/10 [==============================] - 0s 32ms/step - loss: 30232618.0000\n"
     ]
    },
    {
     "output_type": "stream",
     "name": "stderr",
     "text": [
      "\n",
      "\n",
      "\u001b[A\u001b[A"
     ]
    },
    {
     "output_type": "stream",
     "name": "stdout",
     "text": [
      "Epoch 356/500\n",
      "10/10 [==============================] - 0s 31ms/step - loss: 30230164.0000\n"
     ]
    },
    {
     "output_type": "stream",
     "name": "stderr",
     "text": [
      "\n",
      "\n",
      "\u001b[A\u001b[A"
     ]
    },
    {
     "output_type": "stream",
     "name": "stdout",
     "text": [
      "Epoch 357/500\n",
      "10/10 [==============================] - 0s 31ms/step - loss: 30228114.0000\n"
     ]
    },
    {
     "output_type": "stream",
     "name": "stderr",
     "text": [
      "\n",
      "\n",
      "\u001b[A\u001b[A"
     ]
    },
    {
     "output_type": "stream",
     "name": "stdout",
     "text": [
      "Epoch 358/500\n",
      "10/10 [==============================] - 0s 42ms/step - loss: 30220028.0000\n"
     ]
    },
    {
     "output_type": "stream",
     "name": "stderr",
     "text": [
      "\n",
      "\n",
      "\u001b[A\u001b[A"
     ]
    },
    {
     "output_type": "stream",
     "name": "stdout",
     "text": [
      "Epoch 359/500\n",
      "10/10 [==============================] - 0s 32ms/step - loss: 30214632.0000\n"
     ]
    },
    {
     "output_type": "stream",
     "name": "stderr",
     "text": [
      "\n",
      "\n",
      "\u001b[A\u001b[A"
     ]
    },
    {
     "output_type": "stream",
     "name": "stdout",
     "text": [
      "Epoch 360/500\n",
      "10/10 [==============================] - 0s 32ms/step - loss: 30212940.0000\n"
     ]
    },
    {
     "output_type": "stream",
     "name": "stderr",
     "text": [
      "\n",
      "\n",
      "\u001b[A\u001b[A"
     ]
    },
    {
     "output_type": "stream",
     "name": "stdout",
     "text": [
      "Epoch 361/500\n",
      "10/10 [==============================] - 0s 34ms/step - loss: 30206356.0000\n"
     ]
    },
    {
     "output_type": "stream",
     "name": "stderr",
     "text": [
      "\n",
      "\n",
      "\u001b[A\u001b[A"
     ]
    },
    {
     "output_type": "stream",
     "name": "stdout",
     "text": [
      "Epoch 362/500\n",
      "10/10 [==============================] - 0s 36ms/step - loss: 30201634.0000\n"
     ]
    },
    {
     "output_type": "stream",
     "name": "stderr",
     "text": [
      "\n",
      "\n",
      "\u001b[A\u001b[A"
     ]
    },
    {
     "output_type": "stream",
     "name": "stdout",
     "text": [
      "Epoch 363/500\n",
      "10/10 [==============================] - 0s 34ms/step - loss: 30202758.0000\n"
     ]
    },
    {
     "output_type": "stream",
     "name": "stderr",
     "text": [
      "\n",
      "\n",
      "\u001b[A\u001b[A"
     ]
    },
    {
     "output_type": "stream",
     "name": "stdout",
     "text": [
      "Epoch 364/500\n",
      "10/10 [==============================] - 0s 32ms/step - loss: 30193986.0000\n"
     ]
    },
    {
     "output_type": "stream",
     "name": "stderr",
     "text": [
      "\n",
      "\n",
      "\u001b[A\u001b[A"
     ]
    },
    {
     "output_type": "stream",
     "name": "stdout",
     "text": [
      "Epoch 365/500\n",
      "10/10 [==============================] - 0s 38ms/step - loss: 30190198.0000\n"
     ]
    },
    {
     "output_type": "stream",
     "name": "stderr",
     "text": [
      "\n",
      "\n",
      "\u001b[A\u001b[A"
     ]
    },
    {
     "output_type": "stream",
     "name": "stdout",
     "text": [
      "Epoch 366/500\n",
      "10/10 [==============================] - 0s 34ms/step - loss: 30184570.0000\n"
     ]
    },
    {
     "output_type": "stream",
     "name": "stderr",
     "text": [
      "\n",
      "\n",
      "\u001b[A\u001b[A"
     ]
    },
    {
     "output_type": "stream",
     "name": "stdout",
     "text": [
      "Epoch 367/500\n",
      "10/10 [==============================] - 0s 30ms/step - loss: 30181514.0000\n"
     ]
    },
    {
     "output_type": "stream",
     "name": "stderr",
     "text": [
      "\n",
      "\n",
      "\u001b[A\u001b[A"
     ]
    },
    {
     "output_type": "stream",
     "name": "stdout",
     "text": [
      "Epoch 368/500\n",
      "10/10 [==============================] - 0s 45ms/step - loss: 30176212.0000\n"
     ]
    },
    {
     "output_type": "stream",
     "name": "stderr",
     "text": [
      "\n",
      "\n",
      "\u001b[A\u001b[A"
     ]
    },
    {
     "output_type": "stream",
     "name": "stdout",
     "text": [
      "Epoch 369/500\n",
      "10/10 [==============================] - 0s 29ms/step - loss: 30170260.0000\n"
     ]
    },
    {
     "output_type": "stream",
     "name": "stderr",
     "text": [
      "\n",
      "\n",
      "\u001b[A\u001b[A"
     ]
    },
    {
     "output_type": "stream",
     "name": "stdout",
     "text": [
      "Epoch 370/500\n",
      "10/10 [==============================] - 0s 29ms/step - loss: 30166362.0000\n"
     ]
    },
    {
     "output_type": "stream",
     "name": "stderr",
     "text": [
      "\n",
      "\n",
      "\u001b[A\u001b[A"
     ]
    },
    {
     "output_type": "stream",
     "name": "stdout",
     "text": [
      "Epoch 371/500\n",
      "10/10 [==============================] - 0s 34ms/step - loss: 30163778.0000\n"
     ]
    },
    {
     "output_type": "stream",
     "name": "stderr",
     "text": [
      "\n",
      "\n",
      "\u001b[A\u001b[A"
     ]
    },
    {
     "output_type": "stream",
     "name": "stdout",
     "text": [
      "Epoch 372/500\n",
      "10/10 [==============================] - 0s 36ms/step - loss: 30160782.0000\n"
     ]
    },
    {
     "output_type": "stream",
     "name": "stderr",
     "text": [
      "\n",
      "\n",
      "\u001b[A\u001b[A"
     ]
    },
    {
     "output_type": "stream",
     "name": "stdout",
     "text": [
      "Epoch 373/500\n",
      "10/10 [==============================] - 0s 35ms/step - loss: 30159142.0000\n"
     ]
    },
    {
     "output_type": "stream",
     "name": "stderr",
     "text": [
      "\n",
      "\n",
      "\u001b[A\u001b[A"
     ]
    },
    {
     "output_type": "stream",
     "name": "stdout",
     "text": [
      "Epoch 374/500\n",
      "10/10 [==============================] - 0s 40ms/step - loss: 30152414.0000\n"
     ]
    },
    {
     "output_type": "stream",
     "name": "stderr",
     "text": [
      "\n",
      "\n",
      "\u001b[A\u001b[A"
     ]
    },
    {
     "output_type": "stream",
     "name": "stdout",
     "text": [
      "Epoch 375/500\n",
      "10/10 [==============================] - 0s 30ms/step - loss: 30147792.0000\n"
     ]
    },
    {
     "output_type": "stream",
     "name": "stderr",
     "text": [
      "\n",
      "\n",
      "\u001b[A\u001b[A"
     ]
    },
    {
     "output_type": "stream",
     "name": "stdout",
     "text": [
      "Epoch 376/500\n",
      "10/10 [==============================] - 0s 30ms/step - loss: 30145208.0000\n"
     ]
    },
    {
     "output_type": "stream",
     "name": "stderr",
     "text": [
      "\n",
      "\n",
      "\u001b[A\u001b[A"
     ]
    },
    {
     "output_type": "stream",
     "name": "stdout",
     "text": [
      "Epoch 377/500\n",
      "10/10 [==============================] - 0s 29ms/step - loss: 30137274.0000\n"
     ]
    },
    {
     "output_type": "stream",
     "name": "stderr",
     "text": [
      "\n",
      "\n",
      "\u001b[A\u001b[A"
     ]
    },
    {
     "output_type": "stream",
     "name": "stdout",
     "text": [
      "Epoch 378/500\n",
      "10/10 [==============================] - 0s 29ms/step - loss: 30130730.0000\n"
     ]
    },
    {
     "output_type": "stream",
     "name": "stderr",
     "text": [
      "\n",
      "\n",
      "\u001b[A\u001b[A"
     ]
    },
    {
     "output_type": "stream",
     "name": "stdout",
     "text": [
      "Epoch 379/500\n",
      "10/10 [==============================] - 0s 30ms/step - loss: 30130172.0000\n"
     ]
    },
    {
     "output_type": "stream",
     "name": "stderr",
     "text": [
      "\n",
      "\n",
      "\u001b[A\u001b[A"
     ]
    },
    {
     "output_type": "stream",
     "name": "stdout",
     "text": [
      "Epoch 380/500\n",
      "10/10 [==============================] - 0s 48ms/step - loss: 30126436.0000\n"
     ]
    },
    {
     "output_type": "stream",
     "name": "stderr",
     "text": [
      "\n",
      "\n",
      "\u001b[A\u001b[A"
     ]
    },
    {
     "output_type": "stream",
     "name": "stdout",
     "text": [
      "Epoch 381/500\n",
      "10/10 [==============================] - 0s 30ms/step - loss: 30118112.0000\n"
     ]
    },
    {
     "output_type": "stream",
     "name": "stderr",
     "text": [
      "\n",
      "\n",
      "\u001b[A\u001b[A"
     ]
    },
    {
     "output_type": "stream",
     "name": "stdout",
     "text": [
      "Epoch 382/500\n",
      "10/10 [==============================] - 0s 29ms/step - loss: 30119334.0000\n"
     ]
    },
    {
     "output_type": "stream",
     "name": "stderr",
     "text": [
      "\n",
      "\n",
      "\u001b[A\u001b[A"
     ]
    },
    {
     "output_type": "stream",
     "name": "stdout",
     "text": [
      "Epoch 383/500\n",
      "10/10 [==============================] - 0s 30ms/step - loss: 30113190.0000\n"
     ]
    },
    {
     "output_type": "stream",
     "name": "stderr",
     "text": [
      "\n",
      "\n",
      "\u001b[A\u001b[A"
     ]
    },
    {
     "output_type": "stream",
     "name": "stdout",
     "text": [
      "Epoch 384/500\n",
      "10/10 [==============================] - 0s 30ms/step - loss: 30106634.0000\n"
     ]
    },
    {
     "output_type": "stream",
     "name": "stderr",
     "text": [
      "\n",
      "\n",
      "\u001b[A\u001b[A"
     ]
    },
    {
     "output_type": "stream",
     "name": "stdout",
     "text": [
      "Epoch 385/500\n",
      "10/10 [==============================] - 0s 31ms/step - loss: 30102580.0000\n"
     ]
    },
    {
     "output_type": "stream",
     "name": "stderr",
     "text": [
      "\n",
      "\n",
      "\u001b[A\u001b[A"
     ]
    },
    {
     "output_type": "stream",
     "name": "stdout",
     "text": [
      "Epoch 386/500\n",
      "10/10 [==============================] - 0s 30ms/step - loss: 30099404.0000\n"
     ]
    },
    {
     "output_type": "stream",
     "name": "stderr",
     "text": [
      "\n",
      "\n",
      "\u001b[A\u001b[A"
     ]
    },
    {
     "output_type": "stream",
     "name": "stdout",
     "text": [
      "Epoch 387/500\n",
      "10/10 [==============================] - 0s 30ms/step - loss: 30093804.0000\n"
     ]
    },
    {
     "output_type": "stream",
     "name": "stderr",
     "text": [
      "\n",
      "\n",
      "\u001b[A\u001b[A"
     ]
    },
    {
     "output_type": "stream",
     "name": "stdout",
     "text": [
      "Epoch 388/500\n",
      "10/10 [==============================] - 0s 30ms/step - loss: 30090372.0000\n"
     ]
    },
    {
     "output_type": "stream",
     "name": "stderr",
     "text": [
      "\n",
      "\n",
      "\u001b[A\u001b[A"
     ]
    },
    {
     "output_type": "stream",
     "name": "stdout",
     "text": [
      "Epoch 389/500\n",
      "10/10 [==============================] - 0s 30ms/step - loss: 30083732.0000\n"
     ]
    },
    {
     "output_type": "stream",
     "name": "stderr",
     "text": [
      "\n",
      "\n",
      "\u001b[A\u001b[A"
     ]
    },
    {
     "output_type": "stream",
     "name": "stdout",
     "text": [
      "Epoch 390/500\n",
      "10/10 [==============================] - 0s 30ms/step - loss: 30081242.0000\n"
     ]
    },
    {
     "output_type": "stream",
     "name": "stderr",
     "text": [
      "\n",
      "\n",
      "\u001b[A\u001b[A"
     ]
    },
    {
     "output_type": "stream",
     "name": "stdout",
     "text": [
      "Epoch 391/500\n",
      "10/10 [==============================] - 0s 29ms/step - loss: 30078086.0000\n"
     ]
    },
    {
     "output_type": "stream",
     "name": "stderr",
     "text": [
      "\n",
      "\n",
      "\u001b[A\u001b[A"
     ]
    },
    {
     "output_type": "stream",
     "name": "stdout",
     "text": [
      "Epoch 392/500\n",
      "10/10 [==============================] - 0s 29ms/step - loss: 30073620.0000\n"
     ]
    },
    {
     "output_type": "stream",
     "name": "stderr",
     "text": [
      "\n",
      "\n",
      "\u001b[A\u001b[A"
     ]
    },
    {
     "output_type": "stream",
     "name": "stdout",
     "text": [
      "Epoch 393/500\n",
      "10/10 [==============================] - 0s 29ms/step - loss: 30067390.0000\n"
     ]
    },
    {
     "output_type": "stream",
     "name": "stderr",
     "text": [
      "\n",
      "\n",
      "\u001b[A\u001b[A"
     ]
    },
    {
     "output_type": "stream",
     "name": "stdout",
     "text": [
      "Epoch 394/500\n",
      "10/10 [==============================] - 0s 30ms/step - loss: 30063648.0000\n"
     ]
    },
    {
     "output_type": "stream",
     "name": "stderr",
     "text": [
      "\n",
      "\n",
      "\u001b[A\u001b[A"
     ]
    },
    {
     "output_type": "stream",
     "name": "stdout",
     "text": [
      "Epoch 395/500\n",
      "10/10 [==============================] - 0s 30ms/step - loss: 30060052.0000\n"
     ]
    },
    {
     "output_type": "stream",
     "name": "stderr",
     "text": [
      "\n",
      "\n",
      "\u001b[A\u001b[A"
     ]
    },
    {
     "output_type": "stream",
     "name": "stdout",
     "text": [
      "Epoch 396/500\n",
      "10/10 [==============================] - 0s 30ms/step - loss: 30053892.0000\n"
     ]
    },
    {
     "output_type": "stream",
     "name": "stderr",
     "text": [
      "\n",
      "\n",
      "\u001b[A\u001b[A"
     ]
    },
    {
     "output_type": "stream",
     "name": "stdout",
     "text": [
      "Epoch 397/500\n",
      "10/10 [==============================] - 0s 31ms/step - loss: 30054214.0000\n"
     ]
    },
    {
     "output_type": "stream",
     "name": "stderr",
     "text": [
      "\n",
      "\n",
      "\u001b[A\u001b[A"
     ]
    },
    {
     "output_type": "stream",
     "name": "stdout",
     "text": [
      "Epoch 398/500\n",
      "10/10 [==============================] - 0s 32ms/step - loss: 30046586.0000\n"
     ]
    },
    {
     "output_type": "stream",
     "name": "stderr",
     "text": [
      "\n",
      "\n",
      "\u001b[A\u001b[A"
     ]
    },
    {
     "output_type": "stream",
     "name": "stdout",
     "text": [
      "Epoch 399/500\n",
      "10/10 [==============================] - 0s 32ms/step - loss: 30047876.0000\n"
     ]
    },
    {
     "output_type": "stream",
     "name": "stderr",
     "text": [
      "\n",
      "\n",
      "\u001b[A\u001b[A"
     ]
    },
    {
     "output_type": "stream",
     "name": "stdout",
     "text": [
      "Epoch 400/500\n",
      "10/10 [==============================] - 0s 36ms/step - loss: 30041572.0000\n"
     ]
    },
    {
     "output_type": "stream",
     "name": "stderr",
     "text": [
      "\n",
      "\n",
      "\u001b[A\u001b[A"
     ]
    },
    {
     "output_type": "stream",
     "name": "stdout",
     "text": [
      "Epoch 401/500\n",
      "10/10 [==============================] - 0s 41ms/step - loss: 30035962.0000\n"
     ]
    },
    {
     "output_type": "stream",
     "name": "stderr",
     "text": [
      "\n",
      "\n",
      "\u001b[A\u001b[A"
     ]
    },
    {
     "output_type": "stream",
     "name": "stdout",
     "text": [
      "Epoch 402/500\n",
      "10/10 [==============================] - 0s 38ms/step - loss: 30027472.0000\n"
     ]
    },
    {
     "output_type": "stream",
     "name": "stderr",
     "text": [
      "\n",
      "\n",
      "\u001b[A\u001b[A"
     ]
    },
    {
     "output_type": "stream",
     "name": "stdout",
     "text": [
      "Epoch 403/500\n",
      "10/10 [==============================] - 0s 40ms/step - loss: 30024590.0000\n"
     ]
    },
    {
     "output_type": "stream",
     "name": "stderr",
     "text": [
      "\n",
      "\n",
      "\u001b[A\u001b[A"
     ]
    },
    {
     "output_type": "stream",
     "name": "stdout",
     "text": [
      "Epoch 404/500\n",
      "10/10 [==============================] - 0s 32ms/step - loss: 30022688.0000\n"
     ]
    },
    {
     "output_type": "stream",
     "name": "stderr",
     "text": [
      "\n",
      "\n",
      "\u001b[A\u001b[A"
     ]
    },
    {
     "output_type": "stream",
     "name": "stdout",
     "text": [
      "Epoch 405/500\n",
      "10/10 [==============================] - 0s 38ms/step - loss: 30016848.0000\n"
     ]
    },
    {
     "output_type": "stream",
     "name": "stderr",
     "text": [
      "\n",
      "\n",
      "\u001b[A\u001b[A"
     ]
    },
    {
     "output_type": "stream",
     "name": "stdout",
     "text": [
      "Epoch 406/500\n",
      "10/10 [==============================] - 0s 36ms/step - loss: 30008414.0000\n"
     ]
    },
    {
     "output_type": "stream",
     "name": "stderr",
     "text": [
      "\n",
      "\n",
      "\u001b[A\u001b[A"
     ]
    },
    {
     "output_type": "stream",
     "name": "stdout",
     "text": [
      "Epoch 407/500\n",
      "10/10 [==============================] - 0s 35ms/step - loss: 30010890.0000\n"
     ]
    },
    {
     "output_type": "stream",
     "name": "stderr",
     "text": [
      "\n",
      "\n",
      "\u001b[A\u001b[A"
     ]
    },
    {
     "output_type": "stream",
     "name": "stdout",
     "text": [
      "Epoch 408/500\n",
      "10/10 [==============================] - 0s 36ms/step - loss: 30005386.0000\n"
     ]
    },
    {
     "output_type": "stream",
     "name": "stderr",
     "text": [
      "\n",
      "\n",
      "\u001b[A\u001b[A"
     ]
    },
    {
     "output_type": "stream",
     "name": "stdout",
     "text": [
      "Epoch 409/500\n",
      "10/10 [==============================] - 0s 37ms/step - loss: 29997720.0000\n"
     ]
    },
    {
     "output_type": "stream",
     "name": "stderr",
     "text": [
      "\n",
      "\n",
      "\u001b[A\u001b[A"
     ]
    },
    {
     "output_type": "stream",
     "name": "stdout",
     "text": [
      "Epoch 410/500\n",
      "10/10 [==============================] - 0s 43ms/step - loss: 29996344.0000\n"
     ]
    },
    {
     "output_type": "stream",
     "name": "stderr",
     "text": [
      "\n",
      "\n",
      "\u001b[A\u001b[A"
     ]
    },
    {
     "output_type": "stream",
     "name": "stdout",
     "text": [
      "Epoch 411/500\n",
      "10/10 [==============================] - 0s 32ms/step - loss: 29991732.0000\n"
     ]
    },
    {
     "output_type": "stream",
     "name": "stderr",
     "text": [
      "\n",
      "\n",
      "\u001b[A\u001b[A"
     ]
    },
    {
     "output_type": "stream",
     "name": "stdout",
     "text": [
      "Epoch 412/500\n",
      "10/10 [==============================] - 0s 36ms/step - loss: 29986774.0000\n"
     ]
    },
    {
     "output_type": "stream",
     "name": "stderr",
     "text": [
      "\n",
      "\n",
      "\u001b[A\u001b[A"
     ]
    },
    {
     "output_type": "stream",
     "name": "stdout",
     "text": [
      "Epoch 413/500\n",
      "10/10 [==============================] - 0s 36ms/step - loss: 29983052.0000\n"
     ]
    },
    {
     "output_type": "stream",
     "name": "stderr",
     "text": [
      "\n",
      "\n",
      "\u001b[A\u001b[A"
     ]
    },
    {
     "output_type": "stream",
     "name": "stdout",
     "text": [
      "Epoch 414/500\n",
      "10/10 [==============================] - 0s 32ms/step - loss: 29981184.0000\n"
     ]
    },
    {
     "output_type": "stream",
     "name": "stderr",
     "text": [
      "\n",
      "\n",
      "\u001b[A\u001b[A"
     ]
    },
    {
     "output_type": "stream",
     "name": "stdout",
     "text": [
      "Epoch 415/500\n",
      "10/10 [==============================] - 0s 33ms/step - loss: 29971484.0000\n"
     ]
    },
    {
     "output_type": "stream",
     "name": "stderr",
     "text": [
      "\n",
      "\n",
      "\u001b[A\u001b[A"
     ]
    },
    {
     "output_type": "stream",
     "name": "stdout",
     "text": [
      "Epoch 416/500\n",
      "10/10 [==============================] - 0s 36ms/step - loss: 29970152.0000\n"
     ]
    },
    {
     "output_type": "stream",
     "name": "stderr",
     "text": [
      "\n",
      "\n",
      "\u001b[A\u001b[A"
     ]
    },
    {
     "output_type": "stream",
     "name": "stdout",
     "text": [
      "Epoch 417/500\n",
      "10/10 [==============================] - 0s 36ms/step - loss: 29963108.0000\n"
     ]
    },
    {
     "output_type": "stream",
     "name": "stderr",
     "text": [
      "\n",
      "\n",
      "\u001b[A\u001b[A"
     ]
    },
    {
     "output_type": "stream",
     "name": "stdout",
     "text": [
      "Epoch 418/500\n",
      "10/10 [==============================] - 0s 35ms/step - loss: 29961268.0000\n"
     ]
    },
    {
     "output_type": "stream",
     "name": "stderr",
     "text": [
      "\n",
      "\n",
      "\u001b[A\u001b[A"
     ]
    },
    {
     "output_type": "stream",
     "name": "stdout",
     "text": [
      "Epoch 419/500\n",
      "10/10 [==============================] - 0s 44ms/step - loss: 29958228.0000\n"
     ]
    },
    {
     "output_type": "stream",
     "name": "stderr",
     "text": [
      "\n",
      "\n",
      "\u001b[A\u001b[A"
     ]
    },
    {
     "output_type": "stream",
     "name": "stdout",
     "text": [
      "Epoch 420/500\n",
      "10/10 [==============================] - 0s 34ms/step - loss: 29954474.0000\n"
     ]
    },
    {
     "output_type": "stream",
     "name": "stderr",
     "text": [
      "\n",
      "\n",
      "\u001b[A\u001b[A"
     ]
    },
    {
     "output_type": "stream",
     "name": "stdout",
     "text": [
      "Epoch 421/500\n",
      "10/10 [==============================] - 0s 34ms/step - loss: 29949716.0000\n"
     ]
    },
    {
     "output_type": "stream",
     "name": "stderr",
     "text": [
      "\n",
      "\n",
      "\u001b[A\u001b[A"
     ]
    },
    {
     "output_type": "stream",
     "name": "stdout",
     "text": [
      "Epoch 422/500\n",
      "10/10 [==============================] - 0s 34ms/step - loss: 29946316.0000\n"
     ]
    },
    {
     "output_type": "stream",
     "name": "stderr",
     "text": [
      "\n",
      "\n",
      "\u001b[A\u001b[A"
     ]
    },
    {
     "output_type": "stream",
     "name": "stdout",
     "text": [
      "Epoch 423/500\n",
      "10/10 [==============================] - 0s 35ms/step - loss: 29940404.0000\n"
     ]
    },
    {
     "output_type": "stream",
     "name": "stderr",
     "text": [
      "\n",
      "\n",
      "\u001b[A\u001b[A"
     ]
    },
    {
     "output_type": "stream",
     "name": "stdout",
     "text": [
      "Epoch 424/500\n",
      "10/10 [==============================] - 0s 32ms/step - loss: 29935802.0000\n"
     ]
    },
    {
     "output_type": "stream",
     "name": "stderr",
     "text": [
      "\n",
      "\n",
      "\u001b[A\u001b[A"
     ]
    },
    {
     "output_type": "stream",
     "name": "stdout",
     "text": [
      "Epoch 425/500\n",
      "10/10 [==============================] - 0s 35ms/step - loss: 29931226.0000\n"
     ]
    },
    {
     "output_type": "stream",
     "name": "stderr",
     "text": [
      "\n",
      "\n",
      "\u001b[A\u001b[A"
     ]
    },
    {
     "output_type": "stream",
     "name": "stdout",
     "text": [
      "Epoch 426/500\n",
      "10/10 [==============================] - 0s 39ms/step - loss: 29931046.0000\n"
     ]
    },
    {
     "output_type": "stream",
     "name": "stderr",
     "text": [
      "\n",
      "\n",
      "\u001b[A\u001b[A"
     ]
    },
    {
     "output_type": "stream",
     "name": "stdout",
     "text": [
      "Epoch 427/500\n",
      "10/10 [==============================] - 0s 38ms/step - loss: 29927150.0000\n"
     ]
    },
    {
     "output_type": "stream",
     "name": "stderr",
     "text": [
      "\n",
      "\n",
      "\u001b[A\u001b[A"
     ]
    },
    {
     "output_type": "stream",
     "name": "stdout",
     "text": [
      "Epoch 428/500\n",
      "10/10 [==============================] - 0s 36ms/step - loss: 29917506.0000\n"
     ]
    },
    {
     "output_type": "stream",
     "name": "stderr",
     "text": [
      "\n",
      "\n",
      "\u001b[A\u001b[A"
     ]
    },
    {
     "output_type": "stream",
     "name": "stdout",
     "text": [
      "Epoch 429/500\n",
      "10/10 [==============================] - 1s 52ms/step - loss: 29917392.0000\n"
     ]
    },
    {
     "output_type": "stream",
     "name": "stderr",
     "text": [
      "\n",
      "\n",
      "\u001b[A\u001b[A"
     ]
    },
    {
     "output_type": "stream",
     "name": "stdout",
     "text": [
      "Epoch 430/500\n",
      "10/10 [==============================] - 1s 61ms/step - loss: 29912210.0000\n"
     ]
    },
    {
     "output_type": "stream",
     "name": "stderr",
     "text": [
      "\n",
      "\n",
      "\u001b[A\u001b[A"
     ]
    },
    {
     "output_type": "stream",
     "name": "stdout",
     "text": [
      "Epoch 431/500\n",
      "10/10 [==============================] - 0s 39ms/step - loss: 29908162.0000\n"
     ]
    },
    {
     "output_type": "stream",
     "name": "stderr",
     "text": [
      "\n",
      "\n",
      "\u001b[A\u001b[A"
     ]
    },
    {
     "output_type": "stream",
     "name": "stdout",
     "text": [
      "Epoch 432/500\n",
      "10/10 [==============================] - 0s 41ms/step - loss: 29899292.0000\n"
     ]
    },
    {
     "output_type": "stream",
     "name": "stderr",
     "text": [
      "\n",
      "\n",
      "\u001b[A\u001b[A"
     ]
    },
    {
     "output_type": "stream",
     "name": "stdout",
     "text": [
      "Epoch 433/500\n",
      "10/10 [==============================] - 0s 42ms/step - loss: 29896234.0000\n"
     ]
    },
    {
     "output_type": "stream",
     "name": "stderr",
     "text": [
      "\n",
      "\n",
      "\u001b[A\u001b[A"
     ]
    },
    {
     "output_type": "stream",
     "name": "stdout",
     "text": [
      "Epoch 434/500\n",
      "10/10 [==============================] - 0s 49ms/step - loss: 29890778.0000\n"
     ]
    },
    {
     "output_type": "stream",
     "name": "stderr",
     "text": [
      "\n",
      "\n",
      "\u001b[A\u001b[A"
     ]
    },
    {
     "output_type": "stream",
     "name": "stdout",
     "text": [
      "Epoch 435/500\n",
      "10/10 [==============================] - 0s 43ms/step - loss: 29891244.0000\n"
     ]
    },
    {
     "output_type": "stream",
     "name": "stderr",
     "text": [
      "\n",
      "\n",
      "\u001b[A\u001b[A"
     ]
    },
    {
     "output_type": "stream",
     "name": "stdout",
     "text": [
      "Epoch 436/500\n",
      "10/10 [==============================] - 0s 47ms/step - loss: 29888546.0000\n"
     ]
    },
    {
     "output_type": "stream",
     "name": "stderr",
     "text": [
      "\n",
      "\n",
      "\u001b[A\u001b[A"
     ]
    },
    {
     "output_type": "stream",
     "name": "stdout",
     "text": [
      "Epoch 437/500\n",
      "10/10 [==============================] - 0s 42ms/step - loss: 29878850.0000\n"
     ]
    },
    {
     "output_type": "stream",
     "name": "stderr",
     "text": [
      "\n",
      "\n",
      "\u001b[A\u001b[A"
     ]
    },
    {
     "output_type": "stream",
     "name": "stdout",
     "text": [
      "Epoch 438/500\n",
      "10/10 [==============================] - 0s 41ms/step - loss: 29876584.0000\n"
     ]
    },
    {
     "output_type": "stream",
     "name": "stderr",
     "text": [
      "\n",
      "\n",
      "\u001b[A\u001b[A"
     ]
    },
    {
     "output_type": "stream",
     "name": "stdout",
     "text": [
      "Epoch 439/500\n",
      "10/10 [==============================] - 0s 42ms/step - loss: 29874882.0000\n"
     ]
    },
    {
     "output_type": "stream",
     "name": "stderr",
     "text": [
      "\n",
      "\n",
      "\u001b[A\u001b[A"
     ]
    },
    {
     "output_type": "stream",
     "name": "stdout",
     "text": [
      "Epoch 440/500\n",
      "10/10 [==============================] - 0s 48ms/step - loss: 29863034.0000\n"
     ]
    },
    {
     "output_type": "stream",
     "name": "stderr",
     "text": [
      "\n",
      "\n",
      "\u001b[A\u001b[A"
     ]
    },
    {
     "output_type": "stream",
     "name": "stdout",
     "text": [
      "Epoch 441/500\n",
      "10/10 [==============================] - 1s 54ms/step - loss: 29863760.0000\n"
     ]
    },
    {
     "output_type": "stream",
     "name": "stderr",
     "text": [
      "\n",
      "\n",
      "\u001b[A\u001b[A"
     ]
    },
    {
     "output_type": "stream",
     "name": "stdout",
     "text": [
      "Epoch 442/500\n",
      "10/10 [==============================] - 0s 45ms/step - loss: 29860602.0000\n"
     ]
    },
    {
     "output_type": "stream",
     "name": "stderr",
     "text": [
      "\n",
      "\n",
      "\u001b[A\u001b[A"
     ]
    },
    {
     "output_type": "stream",
     "name": "stdout",
     "text": [
      "Epoch 443/500\n",
      "10/10 [==============================] - 0s 47ms/step - loss: 29855136.0000\n"
     ]
    },
    {
     "output_type": "stream",
     "name": "stderr",
     "text": [
      "\n",
      "\n",
      "\u001b[A\u001b[A"
     ]
    },
    {
     "output_type": "stream",
     "name": "stdout",
     "text": [
      "Epoch 444/500\n",
      "10/10 [==============================] - 0s 43ms/step - loss: 29852738.0000\n"
     ]
    },
    {
     "output_type": "stream",
     "name": "stderr",
     "text": [
      "\n",
      "\n",
      "\u001b[A\u001b[A"
     ]
    },
    {
     "output_type": "stream",
     "name": "stdout",
     "text": [
      "Epoch 445/500\n",
      "10/10 [==============================] - 0s 43ms/step - loss: 29846266.0000\n"
     ]
    },
    {
     "output_type": "stream",
     "name": "stderr",
     "text": [
      "\n",
      "\n",
      "\u001b[A\u001b[A"
     ]
    },
    {
     "output_type": "stream",
     "name": "stdout",
     "text": [
      "Epoch 446/500\n",
      "10/10 [==============================] - 0s 43ms/step - loss: 29840184.0000\n"
     ]
    },
    {
     "output_type": "stream",
     "name": "stderr",
     "text": [
      "\n",
      "\n",
      "\u001b[A\u001b[A"
     ]
    },
    {
     "output_type": "stream",
     "name": "stdout",
     "text": [
      "Epoch 447/500\n",
      "10/10 [==============================] - 0s 42ms/step - loss: 29836676.0000\n"
     ]
    },
    {
     "output_type": "stream",
     "name": "stderr",
     "text": [
      "\n",
      "\n",
      "\u001b[A\u001b[A"
     ]
    },
    {
     "output_type": "stream",
     "name": "stdout",
     "text": [
      "Epoch 448/500\n",
      "10/10 [==============================] - 0s 45ms/step - loss: 29833656.0000\n"
     ]
    },
    {
     "output_type": "stream",
     "name": "stderr",
     "text": [
      "\n",
      "\n",
      "\u001b[A\u001b[A"
     ]
    },
    {
     "output_type": "stream",
     "name": "stdout",
     "text": [
      "Epoch 449/500\n",
      "10/10 [==============================] - 0s 42ms/step - loss: 29833378.0000\n"
     ]
    },
    {
     "output_type": "stream",
     "name": "stderr",
     "text": [
      "\n",
      "\n",
      "\u001b[A\u001b[A"
     ]
    },
    {
     "output_type": "stream",
     "name": "stdout",
     "text": [
      "Epoch 450/500\n",
      "10/10 [==============================] - 0s 43ms/step - loss: 29824796.0000\n"
     ]
    },
    {
     "output_type": "stream",
     "name": "stderr",
     "text": [
      "\n",
      "\n",
      "\u001b[A\u001b[A"
     ]
    },
    {
     "output_type": "stream",
     "name": "stdout",
     "text": [
      "Epoch 451/500\n",
      "10/10 [==============================] - 0s 42ms/step - loss: 29818260.0000\n"
     ]
    },
    {
     "output_type": "stream",
     "name": "stderr",
     "text": [
      "\n",
      "\n",
      "\u001b[A\u001b[A"
     ]
    },
    {
     "output_type": "stream",
     "name": "stdout",
     "text": [
      "Epoch 452/500\n",
      "10/10 [==============================] - 0s 44ms/step - loss: 29817894.0000\n"
     ]
    },
    {
     "output_type": "stream",
     "name": "stderr",
     "text": [
      "\n",
      "\n",
      "\u001b[A\u001b[A"
     ]
    },
    {
     "output_type": "stream",
     "name": "stdout",
     "text": [
      "Epoch 453/500\n",
      "10/10 [==============================] - 0s 48ms/step - loss: 29809982.0000\n"
     ]
    },
    {
     "output_type": "stream",
     "name": "stderr",
     "text": [
      "\n",
      "\n",
      "\u001b[A\u001b[A"
     ]
    },
    {
     "output_type": "stream",
     "name": "stdout",
     "text": [
      "Epoch 454/500\n",
      "10/10 [==============================] - 0s 46ms/step - loss: 29806972.0000\n"
     ]
    },
    {
     "output_type": "stream",
     "name": "stderr",
     "text": [
      "\n",
      "\n",
      "\u001b[A\u001b[A"
     ]
    },
    {
     "output_type": "stream",
     "name": "stdout",
     "text": [
      "Epoch 455/500\n",
      "10/10 [==============================] - 0s 43ms/step - loss: 29806090.0000\n"
     ]
    },
    {
     "output_type": "stream",
     "name": "stderr",
     "text": [
      "\n",
      "\n",
      "\u001b[A\u001b[A"
     ]
    },
    {
     "output_type": "stream",
     "name": "stdout",
     "text": [
      "Epoch 456/500\n",
      "10/10 [==============================] - 0s 44ms/step - loss: 29800216.0000\n"
     ]
    },
    {
     "output_type": "stream",
     "name": "stderr",
     "text": [
      "\n",
      "\n",
      "\u001b[A\u001b[A"
     ]
    },
    {
     "output_type": "stream",
     "name": "stdout",
     "text": [
      "Epoch 457/500\n",
      "10/10 [==============================] - 0s 42ms/step - loss: 29795190.0000\n"
     ]
    },
    {
     "output_type": "stream",
     "name": "stderr",
     "text": [
      "\n",
      "\n",
      "\u001b[A\u001b[A"
     ]
    },
    {
     "output_type": "stream",
     "name": "stdout",
     "text": [
      "Epoch 458/500\n",
      "10/10 [==============================] - 0s 38ms/step - loss: 29790928.0000\n"
     ]
    },
    {
     "output_type": "stream",
     "name": "stderr",
     "text": [
      "\n",
      "\n",
      "\u001b[A\u001b[A"
     ]
    },
    {
     "output_type": "stream",
     "name": "stdout",
     "text": [
      "Epoch 459/500\n",
      "10/10 [==============================] - 0s 40ms/step - loss: 29790458.0000\n"
     ]
    },
    {
     "output_type": "stream",
     "name": "stderr",
     "text": [
      "\n",
      "\n",
      "\u001b[A\u001b[A"
     ]
    },
    {
     "output_type": "stream",
     "name": "stdout",
     "text": [
      "Epoch 460/500\n",
      "10/10 [==============================] - 0s 46ms/step - loss: 29784236.0000\n"
     ]
    },
    {
     "output_type": "stream",
     "name": "stderr",
     "text": [
      "\n",
      "\n",
      "\u001b[A\u001b[A"
     ]
    },
    {
     "output_type": "stream",
     "name": "stdout",
     "text": [
      "Epoch 461/500\n",
      "10/10 [==============================] - 0s 46ms/step - loss: 29776940.0000\n"
     ]
    },
    {
     "output_type": "stream",
     "name": "stderr",
     "text": [
      "\n",
      "\n",
      "\u001b[A\u001b[A"
     ]
    },
    {
     "output_type": "stream",
     "name": "stdout",
     "text": [
      "Epoch 462/500\n",
      "10/10 [==============================] - 0s 43ms/step - loss: 29773464.0000\n"
     ]
    },
    {
     "output_type": "stream",
     "name": "stderr",
     "text": [
      "\n",
      "\n",
      "\u001b[A\u001b[A"
     ]
    },
    {
     "output_type": "stream",
     "name": "stdout",
     "text": [
      "Epoch 463/500\n",
      "10/10 [==============================] - 0s 46ms/step - loss: 29774174.0000\n"
     ]
    },
    {
     "output_type": "stream",
     "name": "stderr",
     "text": [
      "\n",
      "\n",
      "\u001b[A\u001b[A"
     ]
    },
    {
     "output_type": "stream",
     "name": "stdout",
     "text": [
      "Epoch 464/500\n",
      "10/10 [==============================] - 0s 49ms/step - loss: 29769786.0000\n"
     ]
    },
    {
     "output_type": "stream",
     "name": "stderr",
     "text": [
      "\n",
      "\n",
      "\u001b[A\u001b[A"
     ]
    },
    {
     "output_type": "stream",
     "name": "stdout",
     "text": [
      "Epoch 465/500\n",
      "10/10 [==============================] - 0s 44ms/step - loss: 29756884.0000\n"
     ]
    },
    {
     "output_type": "stream",
     "name": "stderr",
     "text": [
      "\n",
      "\n",
      "\u001b[A\u001b[A"
     ]
    },
    {
     "output_type": "stream",
     "name": "stdout",
     "text": [
      "Epoch 466/500\n",
      "10/10 [==============================] - 0s 47ms/step - loss: 29753264.0000\n"
     ]
    },
    {
     "output_type": "stream",
     "name": "stderr",
     "text": [
      "\n",
      "\n",
      "\u001b[A\u001b[A"
     ]
    },
    {
     "output_type": "stream",
     "name": "stdout",
     "text": [
      "Epoch 467/500\n",
      "10/10 [==============================] - 1s 53ms/step - loss: 29748490.0000\n"
     ]
    },
    {
     "output_type": "stream",
     "name": "stderr",
     "text": [
      "\n",
      "\n",
      "\u001b[A\u001b[A"
     ]
    },
    {
     "output_type": "stream",
     "name": "stdout",
     "text": [
      "Epoch 468/500\n",
      "10/10 [==============================] - 1s 80ms/step - loss: 29750580.0000\n"
     ]
    },
    {
     "output_type": "stream",
     "name": "stderr",
     "text": [
      "\n",
      "\n",
      "\u001b[A\u001b[A"
     ]
    },
    {
     "output_type": "stream",
     "name": "stdout",
     "text": [
      "Epoch 469/500\n",
      "10/10 [==============================] - 1s 50ms/step - loss: 29747370.0000\n"
     ]
    },
    {
     "output_type": "stream",
     "name": "stderr",
     "text": [
      "\n",
      "\n",
      "\u001b[A\u001b[A"
     ]
    },
    {
     "output_type": "stream",
     "name": "stdout",
     "text": [
      "Epoch 470/500\n",
      "10/10 [==============================] - 0s 48ms/step - loss: 29739454.0000\n"
     ]
    },
    {
     "output_type": "stream",
     "name": "stderr",
     "text": [
      "\n",
      "\n",
      "\u001b[A\u001b[A"
     ]
    },
    {
     "output_type": "stream",
     "name": "stdout",
     "text": [
      "Epoch 471/500\n",
      "10/10 [==============================] - 0s 41ms/step - loss: 29738810.0000\n"
     ]
    },
    {
     "output_type": "stream",
     "name": "stderr",
     "text": [
      "\n",
      "\n",
      "\u001b[A\u001b[A"
     ]
    },
    {
     "output_type": "stream",
     "name": "stdout",
     "text": [
      "Epoch 472/500\n",
      "10/10 [==============================] - 0s 43ms/step - loss: 29733954.0000\n"
     ]
    },
    {
     "output_type": "stream",
     "name": "stderr",
     "text": [
      "\n",
      "\n",
      "\u001b[A\u001b[A"
     ]
    },
    {
     "output_type": "stream",
     "name": "stdout",
     "text": [
      "Epoch 473/500\n",
      "10/10 [==============================] - 0s 46ms/step - loss: 29726176.0000\n"
     ]
    },
    {
     "output_type": "stream",
     "name": "stderr",
     "text": [
      "\n",
      "\n",
      "\u001b[A\u001b[A"
     ]
    },
    {
     "output_type": "stream",
     "name": "stdout",
     "text": [
      "Epoch 474/500\n",
      "10/10 [==============================] - 0s 42ms/step - loss: 29726402.0000\n"
     ]
    },
    {
     "output_type": "stream",
     "name": "stderr",
     "text": [
      "\n",
      "\n",
      "\u001b[A\u001b[A"
     ]
    },
    {
     "output_type": "stream",
     "name": "stdout",
     "text": [
      "Epoch 475/500\n",
      "10/10 [==============================] - 1s 66ms/step - loss: 29718010.0000\n"
     ]
    },
    {
     "output_type": "stream",
     "name": "stderr",
     "text": [
      "\n",
      "\n",
      "\u001b[A\u001b[A"
     ]
    },
    {
     "output_type": "stream",
     "name": "stdout",
     "text": [
      "Epoch 476/500\n",
      "10/10 [==============================] - 1s 73ms/step - loss: 29713620.0000\n"
     ]
    },
    {
     "output_type": "stream",
     "name": "stderr",
     "text": [
      "\n",
      "\n",
      "\u001b[A\u001b[A"
     ]
    },
    {
     "output_type": "stream",
     "name": "stdout",
     "text": [
      "Epoch 477/500\n",
      "10/10 [==============================] - 1s 71ms/step - loss: 29711516.0000\n"
     ]
    },
    {
     "output_type": "stream",
     "name": "stderr",
     "text": [
      "\n",
      "\n",
      "\u001b[A\u001b[A"
     ]
    },
    {
     "output_type": "stream",
     "name": "stdout",
     "text": [
      "Epoch 478/500\n",
      "10/10 [==============================] - 0s 38ms/step - loss: 29706012.0000\n"
     ]
    },
    {
     "output_type": "stream",
     "name": "stderr",
     "text": [
      "\n",
      "\n",
      "\u001b[A\u001b[A"
     ]
    },
    {
     "output_type": "stream",
     "name": "stdout",
     "text": [
      "Epoch 479/500\n",
      "10/10 [==============================] - 0s 40ms/step - loss: 29701446.0000\n"
     ]
    },
    {
     "output_type": "stream",
     "name": "stderr",
     "text": [
      "\n",
      "\n",
      "\u001b[A\u001b[A"
     ]
    },
    {
     "output_type": "stream",
     "name": "stdout",
     "text": [
      "Epoch 480/500\n",
      "10/10 [==============================] - 0s 33ms/step - loss: 29700716.0000\n"
     ]
    },
    {
     "output_type": "stream",
     "name": "stderr",
     "text": [
      "\n",
      "\n",
      "\u001b[A\u001b[A"
     ]
    },
    {
     "output_type": "stream",
     "name": "stdout",
     "text": [
      "Epoch 481/500\n",
      "10/10 [==============================] - 0s 49ms/step - loss: 29692818.0000\n"
     ]
    },
    {
     "output_type": "stream",
     "name": "stderr",
     "text": [
      "\n",
      "\n",
      "\u001b[A\u001b[A"
     ]
    },
    {
     "output_type": "stream",
     "name": "stdout",
     "text": [
      "Epoch 482/500\n",
      "10/10 [==============================] - 0s 45ms/step - loss: 29689434.0000\n"
     ]
    },
    {
     "output_type": "stream",
     "name": "stderr",
     "text": [
      "\n",
      "\n",
      "\u001b[A\u001b[A"
     ]
    },
    {
     "output_type": "stream",
     "name": "stdout",
     "text": [
      "Epoch 483/500\n",
      "10/10 [==============================] - 0s 37ms/step - loss: 29684988.0000\n"
     ]
    },
    {
     "output_type": "stream",
     "name": "stderr",
     "text": [
      "\n",
      "\n",
      "\u001b[A\u001b[A"
     ]
    },
    {
     "output_type": "stream",
     "name": "stdout",
     "text": [
      "Epoch 484/500\n",
      "10/10 [==============================] - 0s 46ms/step - loss: 29680598.0000\n"
     ]
    },
    {
     "output_type": "stream",
     "name": "stderr",
     "text": [
      "\n",
      "\n",
      "\u001b[A\u001b[A"
     ]
    },
    {
     "output_type": "stream",
     "name": "stdout",
     "text": [
      "Epoch 485/500\n",
      "10/10 [==============================] - 0s 47ms/step - loss: 29681630.0000\n"
     ]
    },
    {
     "output_type": "stream",
     "name": "stderr",
     "text": [
      "\n",
      "\n",
      "\u001b[A\u001b[A"
     ]
    },
    {
     "output_type": "stream",
     "name": "stdout",
     "text": [
      "Epoch 486/500\n",
      "10/10 [==============================] - 0s 47ms/step - loss: 29675548.0000\n"
     ]
    },
    {
     "output_type": "stream",
     "name": "stderr",
     "text": [
      "\n",
      "\n",
      "\u001b[A\u001b[A"
     ]
    },
    {
     "output_type": "stream",
     "name": "stdout",
     "text": [
      "Epoch 487/500\n",
      "10/10 [==============================] - 0s 43ms/step - loss: 29668276.0000\n"
     ]
    },
    {
     "output_type": "stream",
     "name": "stderr",
     "text": [
      "\n",
      "\n",
      "\u001b[A\u001b[A"
     ]
    },
    {
     "output_type": "stream",
     "name": "stdout",
     "text": [
      "Epoch 488/500\n",
      "10/10 [==============================] - 0s 33ms/step - loss: 29665080.0000\n"
     ]
    },
    {
     "output_type": "stream",
     "name": "stderr",
     "text": [
      "\n",
      "\n",
      "\u001b[A\u001b[A"
     ]
    },
    {
     "output_type": "stream",
     "name": "stdout",
     "text": [
      "Epoch 489/500\n",
      "10/10 [==============================] - 0s 32ms/step - loss: 29660602.0000\n"
     ]
    },
    {
     "output_type": "stream",
     "name": "stderr",
     "text": [
      "\n",
      "\n",
      "\u001b[A\u001b[A"
     ]
    },
    {
     "output_type": "stream",
     "name": "stdout",
     "text": [
      "Epoch 490/500\n",
      "10/10 [==============================] - 0s 39ms/step - loss: 29658700.0000\n"
     ]
    },
    {
     "output_type": "stream",
     "name": "stderr",
     "text": [
      "\n",
      "\n",
      "\u001b[A\u001b[A"
     ]
    },
    {
     "output_type": "stream",
     "name": "stdout",
     "text": [
      "Epoch 491/500\n",
      "10/10 [==============================] - 0s 35ms/step - loss: 29653124.0000\n"
     ]
    },
    {
     "output_type": "stream",
     "name": "stderr",
     "text": [
      "\n",
      "\n",
      "\u001b[A\u001b[A"
     ]
    },
    {
     "output_type": "stream",
     "name": "stdout",
     "text": [
      "Epoch 492/500\n",
      "10/10 [==============================] - 0s 34ms/step - loss: 29652754.0000\n"
     ]
    },
    {
     "output_type": "stream",
     "name": "stderr",
     "text": [
      "\n",
      "\n",
      "\u001b[A\u001b[A"
     ]
    },
    {
     "output_type": "stream",
     "name": "stdout",
     "text": [
      "Epoch 493/500\n",
      "10/10 [==============================] - 0s 38ms/step - loss: 29645368.0000\n"
     ]
    },
    {
     "output_type": "stream",
     "name": "stderr",
     "text": [
      "\n",
      "\n",
      "\u001b[A\u001b[A"
     ]
    },
    {
     "output_type": "stream",
     "name": "stdout",
     "text": [
      "Epoch 494/500\n",
      "10/10 [==============================] - 0s 38ms/step - loss: 29638956.0000\n"
     ]
    },
    {
     "output_type": "stream",
     "name": "stderr",
     "text": [
      "\n",
      "\n",
      "\u001b[A\u001b[A"
     ]
    },
    {
     "output_type": "stream",
     "name": "stdout",
     "text": [
      "Epoch 495/500\n",
      "10/10 [==============================] - 0s 35ms/step - loss: 29634944.0000\n"
     ]
    },
    {
     "output_type": "stream",
     "name": "stderr",
     "text": [
      "\n",
      "\n",
      "\u001b[A\u001b[A"
     ]
    },
    {
     "output_type": "stream",
     "name": "stdout",
     "text": [
      "Epoch 496/500\n",
      "10/10 [==============================] - 0s 35ms/step - loss: 29633352.0000\n"
     ]
    },
    {
     "output_type": "stream",
     "name": "stderr",
     "text": [
      "\n",
      "\n",
      "\u001b[A\u001b[A"
     ]
    },
    {
     "output_type": "stream",
     "name": "stdout",
     "text": [
      "Epoch 497/500\n",
      "10/10 [==============================] - 0s 33ms/step - loss: 29629346.0000\n"
     ]
    },
    {
     "output_type": "stream",
     "name": "stderr",
     "text": [
      "\n",
      "\n",
      "\u001b[A\u001b[A"
     ]
    },
    {
     "output_type": "stream",
     "name": "stdout",
     "text": [
      "Epoch 498/500\n",
      "10/10 [==============================] - 0s 34ms/step - loss: 29627700.0000\n"
     ]
    },
    {
     "output_type": "stream",
     "name": "stderr",
     "text": [
      "\n",
      "\n",
      "\u001b[A\u001b[A"
     ]
    },
    {
     "output_type": "stream",
     "name": "stdout",
     "text": [
      "Epoch 499/500\n",
      "10/10 [==============================] - 0s 32ms/step - loss: 29615208.0000\n"
     ]
    },
    {
     "output_type": "stream",
     "name": "stderr",
     "text": [
      "\n",
      "\n",
      "\u001b[A\u001b[A"
     ]
    },
    {
     "output_type": "stream",
     "name": "stdout",
     "text": [
      "Epoch 500/500\n",
      "10/10 [==============================] - 0s 32ms/step - loss: 29615866.0000\n"
     ]
    },
    {
     "output_type": "stream",
     "name": "stderr",
     "text": [
      "\n",
      "\n",
      "100%|██████████| 500/500 [03:01<00:00,  2.75epoch/s, loss=2.96e+7]\n"
     ]
    }
   ],
   "metadata": {}
  },
  {
   "cell_type": "markdown",
   "source": [
    "#### See LSTM performance"
   ],
   "metadata": {}
  },
  {
   "cell_type": "code",
   "execution_count": 207,
   "source": [
    "predictions = model.predict(x_test)\n",
    "# predictions = scaler.inverse_transform(predictions)\n",
    "# y_test_scaled = scaler.inverse_transform(y_test.reshape(-1, 1))\n",
    "\n",
    "fig, ax = plt.subplots(figsize=(16,8))\n",
    "ax.set_facecolor('#000041')\n",
    "ax.plot(y_test, color='red', label='Original price')\n",
    "plt.plot(predictions, color='cyan', label='Predicted price')\n",
    "plt.legend()"
   ],
   "outputs": [
    {
     "output_type": "execute_result",
     "data": {
      "text/plain": [
       "<matplotlib.legend.Legend at 0x174c5e730>"
      ]
     },
     "metadata": {},
     "execution_count": 207
    },
    {
     "output_type": "display_data",
     "data": {
      "text/plain": [
       "<Figure size 1152x576 with 1 Axes>"
      ],
      "image/png": "[encoded data removed]"
     },
     "metadata": {
      "needs_background": "light"
     }
    }
   ],
   "metadata": {}
  },
  {
   "cell_type": "code",
   "execution_count": 208,
   "source": [
    "predictions"
   ],
   "outputs": [
    {
     "output_type": "execute_result",
     "data": {
      "text/plain": [
       "array([[536.7653 ],\n",
       "       [536.7653 ],\n",
       "       [536.76526],\n",
       "       [536.7653 ],\n",
       "       [536.7653 ],\n",
       "       [536.7653 ],\n",
       "       [536.7653 ],\n",
       "       [536.7653 ],\n",
       "       [536.7653 ],\n",
       "       [536.7653 ],\n",
       "       [536.7653 ],\n",
       "       [536.7653 ],\n",
       "       [536.7653 ],\n",
       "       [536.7653 ],\n",
       "       [536.7654 ],\n",
       "       [536.7653 ],\n",
       "       [536.76526],\n",
       "       [536.7653 ],\n",
       "       [536.76526],\n",
       "       [536.7654 ],\n",
       "       [536.7653 ],\n",
       "       [536.7653 ],\n",
       "       [536.7653 ],\n",
       "       [536.7653 ],\n",
       "       [536.76526],\n",
       "       [536.7653 ],\n",
       "       [536.7653 ],\n",
       "       [536.7653 ],\n",
       "       [536.7653 ],\n",
       "       [536.7653 ],\n",
       "       [536.7653 ],\n",
       "       [536.7653 ],\n",
       "       [536.7653 ],\n",
       "       [536.7653 ],\n",
       "       [536.7653 ],\n",
       "       [536.7653 ],\n",
       "       [536.7653 ],\n",
       "       [536.7653 ],\n",
       "       [536.7654 ],\n",
       "       [536.7653 ],\n",
       "       [536.7653 ],\n",
       "       [536.7654 ],\n",
       "       [536.7653 ],\n",
       "       [536.7653 ],\n",
       "       [536.7653 ],\n",
       "       [536.7653 ],\n",
       "       [536.7654 ],\n",
       "       [536.7653 ],\n",
       "       [536.7653 ],\n",
       "       [536.7653 ],\n",
       "       [536.7653 ],\n",
       "       [536.7653 ],\n",
       "       [536.7653 ],\n",
       "       [536.7653 ],\n",
       "       [536.76526],\n",
       "       [536.7653 ],\n",
       "       [536.7653 ],\n",
       "       [536.7653 ],\n",
       "       [536.7653 ],\n",
       "       [536.7653 ],\n",
       "       [536.7653 ],\n",
       "       [536.7653 ],\n",
       "       [536.7653 ],\n",
       "       [536.7653 ],\n",
       "       [536.7653 ],\n",
       "       [536.7653 ],\n",
       "       [536.7653 ],\n",
       "       [536.7653 ],\n",
       "       [536.7653 ],\n",
       "       [536.7653 ],\n",
       "       [536.7653 ],\n",
       "       [536.7653 ],\n",
       "       [536.7653 ],\n",
       "       [536.7653 ],\n",
       "       [536.7653 ],\n",
       "       [536.76526],\n",
       "       [536.7653 ],\n",
       "       [536.7653 ],\n",
       "       [536.7653 ],\n",
       "       [536.7654 ],\n",
       "       [536.7653 ],\n",
       "       [536.7653 ],\n",
       "       [536.7653 ],\n",
       "       [536.7653 ],\n",
       "       [536.7653 ],\n",
       "       [536.7653 ],\n",
       "       [536.7653 ],\n",
       "       [536.7653 ],\n",
       "       [536.7653 ],\n",
       "       [536.7653 ],\n",
       "       [536.7653 ],\n",
       "       [536.7653 ],\n",
       "       [536.7653 ],\n",
       "       [536.7653 ],\n",
       "       [536.7653 ],\n",
       "       [536.7653 ],\n",
       "       [536.7653 ],\n",
       "       [536.7653 ],\n",
       "       [536.7653 ],\n",
       "       [536.76526],\n",
       "       [536.7653 ],\n",
       "       [536.76526],\n",
       "       [536.7653 ],\n",
       "       [536.7653 ],\n",
       "       [536.7653 ],\n",
       "       [536.7653 ],\n",
       "       [536.7653 ],\n",
       "       [536.76526],\n",
       "       [536.7653 ],\n",
       "       [536.7653 ],\n",
       "       [536.7654 ],\n",
       "       [536.7653 ],\n",
       "       [536.7653 ],\n",
       "       [536.76526],\n",
       "       [536.7653 ],\n",
       "       [536.7653 ],\n",
       "       [536.7653 ],\n",
       "       [536.7653 ],\n",
       "       [536.7653 ],\n",
       "       [536.7653 ],\n",
       "       [536.7653 ],\n",
       "       [536.7653 ],\n",
       "       [536.7653 ],\n",
       "       [536.7653 ],\n",
       "       [536.7653 ],\n",
       "       [536.7653 ],\n",
       "       [536.7653 ],\n",
       "       [536.7653 ],\n",
       "       [536.7653 ],\n",
       "       [536.76526],\n",
       "       [536.7653 ],\n",
       "       [536.7653 ],\n",
       "       [536.7653 ],\n",
       "       [536.7653 ],\n",
       "       [536.7653 ],\n",
       "       [536.7653 ],\n",
       "       [536.7653 ],\n",
       "       [536.7653 ],\n",
       "       [536.7653 ],\n",
       "       [536.7653 ],\n",
       "       [536.7653 ],\n",
       "       [536.7653 ],\n",
       "       [536.7653 ],\n",
       "       [536.7653 ],\n",
       "       [536.7653 ],\n",
       "       [536.7653 ],\n",
       "       [536.7653 ],\n",
       "       [536.7653 ],\n",
       "       [536.7653 ],\n",
       "       [536.7653 ],\n",
       "       [536.76526],\n",
       "       [536.7653 ],\n",
       "       [536.7653 ],\n",
       "       [536.7653 ],\n",
       "       [536.7653 ],\n",
       "       [536.76526],\n",
       "       [536.7653 ],\n",
       "       [536.7653 ],\n",
       "       [536.7653 ],\n",
       "       [536.7653 ],\n",
       "       [536.7653 ],\n",
       "       [536.7653 ],\n",
       "       [536.7653 ],\n",
       "       [536.7653 ],\n",
       "       [536.76526],\n",
       "       [536.7653 ],\n",
       "       [536.7653 ],\n",
       "       [536.7653 ],\n",
       "       [536.7653 ],\n",
       "       [536.7653 ],\n",
       "       [536.7653 ],\n",
       "       [536.7653 ],\n",
       "       [536.7653 ],\n",
       "       [536.7653 ],\n",
       "       [536.7653 ],\n",
       "       [536.7653 ],\n",
       "       [536.7653 ],\n",
       "       [536.7653 ],\n",
       "       [536.7653 ],\n",
       "       [536.7653 ],\n",
       "       [536.7653 ],\n",
       "       [536.7653 ],\n",
       "       [536.7653 ],\n",
       "       [536.7654 ],\n",
       "       [536.7653 ],\n",
       "       [536.7653 ],\n",
       "       [536.7653 ],\n",
       "       [536.7653 ],\n",
       "       [536.7653 ],\n",
       "       [536.7653 ],\n",
       "       [536.7653 ],\n",
       "       [536.7653 ],\n",
       "       [536.7653 ],\n",
       "       [536.7653 ],\n",
       "       [536.7653 ],\n",
       "       [536.7653 ],\n",
       "       [536.7653 ],\n",
       "       [536.7653 ],\n",
       "       [536.7653 ],\n",
       "       [536.7653 ],\n",
       "       [536.7653 ],\n",
       "       [536.7653 ],\n",
       "       [536.7653 ],\n",
       "       [536.7653 ],\n",
       "       [536.7653 ],\n",
       "       [536.7653 ],\n",
       "       [536.7653 ],\n",
       "       [536.7653 ],\n",
       "       [536.7653 ],\n",
       "       [536.7654 ],\n",
       "       [536.76526],\n",
       "       [536.7653 ],\n",
       "       [536.7653 ],\n",
       "       [536.7653 ],\n",
       "       [536.7653 ],\n",
       "       [536.7653 ],\n",
       "       [536.7653 ],\n",
       "       [536.7653 ],\n",
       "       [536.7653 ],\n",
       "       [536.7653 ],\n",
       "       [536.7653 ],\n",
       "       [536.7653 ],\n",
       "       [536.7653 ],\n",
       "       [536.7653 ],\n",
       "       [536.7653 ],\n",
       "       [536.7653 ],\n",
       "       [536.7653 ],\n",
       "       [536.7653 ],\n",
       "       [536.7653 ],\n",
       "       [536.7653 ],\n",
       "       [536.7653 ],\n",
       "       [536.7653 ],\n",
       "       [536.7653 ],\n",
       "       [536.7653 ],\n",
       "       [536.7653 ],\n",
       "       [536.7653 ],\n",
       "       [536.7653 ],\n",
       "       [536.7653 ],\n",
       "       [536.7653 ],\n",
       "       [536.7653 ],\n",
       "       [536.7653 ],\n",
       "       [536.76526],\n",
       "       [536.7653 ],\n",
       "       [536.7653 ],\n",
       "       [536.7653 ],\n",
       "       [536.7653 ],\n",
       "       [536.7653 ],\n",
       "       [536.7653 ],\n",
       "       [536.76526],\n",
       "       [536.7653 ],\n",
       "       [536.7653 ],\n",
       "       [536.7653 ],\n",
       "       [536.7653 ],\n",
       "       [536.7653 ],\n",
       "       [536.7653 ],\n",
       "       [536.7653 ],\n",
       "       [536.7653 ],\n",
       "       [536.7653 ],\n",
       "       [536.7653 ],\n",
       "       [536.7653 ],\n",
       "       [536.7653 ],\n",
       "       [536.7653 ],\n",
       "       [536.7653 ],\n",
       "       [536.76526],\n",
       "       [536.7653 ],\n",
       "       [536.7653 ],\n",
       "       [536.7653 ],\n",
       "       [536.7653 ],\n",
       "       [536.7653 ],\n",
       "       [536.7653 ],\n",
       "       [536.7653 ],\n",
       "       [536.7653 ],\n",
       "       [536.7653 ],\n",
       "       [536.7653 ],\n",
       "       [536.7653 ],\n",
       "       [536.7653 ],\n",
       "       [536.7653 ],\n",
       "       [536.7653 ],\n",
       "       [536.7653 ],\n",
       "       [536.7653 ],\n",
       "       [536.7653 ],\n",
       "       [536.7653 ],\n",
       "       [536.7653 ],\n",
       "       [536.7653 ],\n",
       "       [536.7653 ],\n",
       "       [536.7653 ],\n",
       "       [536.76526],\n",
       "       [536.76526],\n",
       "       [536.7653 ],\n",
       "       [536.7653 ],\n",
       "       [536.7653 ]], dtype=float32)"
      ]
     },
     "metadata": {},
     "execution_count": 208
    }
   ],
   "metadata": {}
  },
  {
   "cell_type": "markdown",
   "source": [
    "## Working on a strategy"
   ],
   "metadata": {}
  },
  {
   "cell_type": "code",
   "execution_count": 14,
   "source": [
    "# create a new column in the DataFrame to hold positions information\n",
    "price_df['Position'] = None\n",
    "\n",
    "# fill our position column based on the following rules:\n",
    "#     * set to short (-1) when the price hits the upper band\n",
    "#     * set to long (1) when it hits the lower band       \n",
    "mode = 'open'\n",
    "for index in range(len(price_df)):\n",
    "    if index == 0:\n",
    "        continue\n",
    "\n",
    "    row = price_df.iloc[index]\n",
    "    prev_row = price_df.iloc[index - 1]\n",
    "\n",
    "    # long?\n",
    "    if mode == 'open' and row['close'] < row['Bollinger Low'] and prev_row['close'] > prev_row['Bollinger Low']:\n",
    "        price_df.iloc[index, price_df.columns.get_loc('Position')] = 1\n",
    "        mode = 'close'\n",
    "\n",
    "    # short?\n",
    "    if mode == 'close' and row['close'] > row['Bollinger High'] and prev_row['close'] < prev_row['Bollinger High']:\n",
    "        price_df.iloc[index, price_df.columns.get_loc('Position')] = -1\n",
    "        mode = 'open'"
   ],
   "outputs": [],
   "metadata": {}
  },
  {
   "cell_type": "code",
   "execution_count": 15,
   "source": [
    "price_df.dropna(subset=['Position'])\n"
   ],
   "outputs": [
    {
     "output_type": "execute_result",
     "data": {
      "text/plain": [
       "               open      high      low    close  Rolling Mean  Bollinger High  \\\n",
       "datetime                                                                        \n",
       "2014-12-12   350.40   5000.00   314.75   336.24     578.86855      804.255574   \n",
       "2015-05-31   248.43    927.64   195.76   511.95     326.14610      450.390794   \n",
       "2015-09-30   271.56   2617.80   201.41   203.00     303.63670      398.281866   \n",
       "2015-10-03   248.57   2617.80   191.87   407.83     302.90670      397.546825   \n",
       "2018-11-21  6498.87  35999.95  3433.56  4625.66    8346.60400    11162.258646   \n",
       "\n",
       "            Bollinger Low Position  \n",
       "datetime                            \n",
       "2014-12-12     353.481526        1  \n",
       "2015-05-31     201.901406       -1  \n",
       "2015-09-30     208.991534        1  \n",
       "2015-10-03     208.266575       -1  \n",
       "2018-11-21    5530.949354        1  "
      ],
      "text/html": [
       "<div>\n",
       "<style scoped>\n",
       "    .dataframe tbody tr th:only-of-type {\n",
       "        vertical-align: middle;\n",
       "    }\n",
       "\n",
       "    .dataframe tbody tr th {\n",
       "        vertical-align: top;\n",
       "    }\n",
       "\n",
       "    .dataframe thead th {\n",
       "        text-align: right;\n",
       "    }\n",
       "</style>\n",
       "<table border=\"1\" class=\"dataframe\">\n",
       "  <thead>\n",
       "    <tr style=\"text-align: right;\">\n",
       "      <th></th>\n",
       "      <th>open</th>\n",
       "      <th>high</th>\n",
       "      <th>low</th>\n",
       "      <th>close</th>\n",
       "      <th>Rolling Mean</th>\n",
       "      <th>Bollinger High</th>\n",
       "      <th>Bollinger Low</th>\n",
       "      <th>Position</th>\n",
       "    </tr>\n",
       "    <tr>\n",
       "      <th>datetime</th>\n",
       "      <th></th>\n",
       "      <th></th>\n",
       "      <th></th>\n",
       "      <th></th>\n",
       "      <th></th>\n",
       "      <th></th>\n",
       "      <th></th>\n",
       "      <th></th>\n",
       "    </tr>\n",
       "  </thead>\n",
       "  <tbody>\n",
       "    <tr>\n",
       "      <th>2014-12-12</th>\n",
       "      <td>350.40</td>\n",
       "      <td>5000.00</td>\n",
       "      <td>314.75</td>\n",
       "      <td>336.24</td>\n",
       "      <td>578.86855</td>\n",
       "      <td>804.255574</td>\n",
       "      <td>353.481526</td>\n",
       "      <td>1</td>\n",
       "    </tr>\n",
       "    <tr>\n",
       "      <th>2015-05-31</th>\n",
       "      <td>248.43</td>\n",
       "      <td>927.64</td>\n",
       "      <td>195.76</td>\n",
       "      <td>511.95</td>\n",
       "      <td>326.14610</td>\n",
       "      <td>450.390794</td>\n",
       "      <td>201.901406</td>\n",
       "      <td>-1</td>\n",
       "    </tr>\n",
       "    <tr>\n",
       "      <th>2015-09-30</th>\n",
       "      <td>271.56</td>\n",
       "      <td>2617.80</td>\n",
       "      <td>201.41</td>\n",
       "      <td>203.00</td>\n",
       "      <td>303.63670</td>\n",
       "      <td>398.281866</td>\n",
       "      <td>208.991534</td>\n",
       "      <td>1</td>\n",
       "    </tr>\n",
       "    <tr>\n",
       "      <th>2015-10-03</th>\n",
       "      <td>248.57</td>\n",
       "      <td>2617.80</td>\n",
       "      <td>191.87</td>\n",
       "      <td>407.83</td>\n",
       "      <td>302.90670</td>\n",
       "      <td>397.546825</td>\n",
       "      <td>208.266575</td>\n",
       "      <td>-1</td>\n",
       "    </tr>\n",
       "    <tr>\n",
       "      <th>2018-11-21</th>\n",
       "      <td>6498.87</td>\n",
       "      <td>35999.95</td>\n",
       "      <td>3433.56</td>\n",
       "      <td>4625.66</td>\n",
       "      <td>8346.60400</td>\n",
       "      <td>11162.258646</td>\n",
       "      <td>5530.949354</td>\n",
       "      <td>1</td>\n",
       "    </tr>\n",
       "  </tbody>\n",
       "</table>\n",
       "</div>"
      ]
     },
     "metadata": {},
     "execution_count": 15
    }
   ],
   "metadata": {}
  },
  {
   "cell_type": "markdown",
   "source": [
    "## Visualize position"
   ],
   "metadata": {}
  },
  {
   "cell_type": "code",
   "execution_count": 16,
   "source": [
    "\n",
    "price_df[price_df.index > '2018-01-01'][['close', 'Rolling Mean', 'Bollinger High','Bollinger Low']].plot(figsize=(14, 7))\n",
    "\n",
    "for index, pos in price_df[price_df.index > '2018-01-01'].dropna(subset=['Position'])['Position'].iteritems():\n",
    "    plt.axvline(index, color='green' if pos == 1 else 'red')"
   ],
   "outputs": [
    {
     "output_type": "display_data",
     "data": {
      "text/plain": [
       "<Figure size 1008x504 with 1 Axes>"
      ],
      "image/png": "[encoded data removed]"
     },
     "metadata": {
      "needs_background": "light"
     }
    }
   ],
   "metadata": {}
  },
  {
   "cell_type": "markdown",
   "source": [],
   "metadata": {}
  },
  {
   "cell_type": "code",
   "execution_count": 102,
   "source": [
    "# forward fill our Position column to replace \"None\" values with the correct buy/sell \n",
    "# operations to represent the \"holding\" of our position forward through time\n",
    "# price_df.dropna(inplace=True)\n",
    "price_df['Position'].fillna(method='ffill', inplace=True)\n",
    "\n",
    "# calculate the daily market return and multiply that by the position to determine strategy returns\n",
    "price_df['Market Return'] = price_df['close'].pct_change()\n",
    "price_df['Strategy Return'] = price_df['Market Return'] * price_df['Position']\n",
    "\n",
    "# plot the strategy returns\n",
    "price_df['Strategy Return'].cumsum().plot(figsize=(14, 7))"
   ],
   "outputs": [
    {
     "output_type": "execute_result",
     "data": {
      "text/plain": [
       "<AxesSubplot:xlabel='datetime'>"
      ]
     },
     "metadata": {},
     "execution_count": 102
    },
    {
     "output_type": "display_data",
     "data": {
      "text/plain": [
       "<Figure size 1008x504 with 1 Axes>"
      ],
      "image/png": "[encoded data removed]"
     },
     "metadata": {
      "needs_background": "light"
     }
    }
   ],
   "metadata": {}
  },
  {
   "cell_type": "code",
   "execution_count": 18,
   "source": [
    "price_df"
   ],
   "outputs": [
    {
     "output_type": "execute_result",
     "data": {
      "text/plain": [
       "               open      high      low    close  Rolling Mean  Bollinger High  \\\n",
       "datetime                                                                        \n",
       "2013-09-26   131.95    194.76    98.75   145.11     119.20890      164.312202   \n",
       "2013-09-27   148.90    190.11   115.07   129.57     119.49675      164.331286   \n",
       "2013-09-28   129.81    190.32   101.51   146.22     119.88890      164.471780   \n",
       "2013-09-29   134.18    254.00   114.30   150.18     120.43980      164.316448   \n",
       "2013-09-30   135.19    201.75   118.33   134.82     120.86215      164.123573   \n",
       "...             ...       ...      ...      ...           ...             ...   \n",
       "2019-01-04  4160.00  17765.86  3039.91  4253.74    7299.61170    10505.638173   \n",
       "2019-01-05  4193.63  49922.62  3103.20  5656.52    7284.80430    10492.448657   \n",
       "2019-01-06  5060.00  45000.45  3230.35  6065.13    7283.01505    10491.970786   \n",
       "2019-01-07  4400.00  29961.20  3033.37  7982.54    7288.02690    10497.674205   \n",
       "2019-01-08  4800.00   8957.02  3383.77  4170.85    7279.85015    10502.693746   \n",
       "\n",
       "            Bollinger Low  Position  Market Return  Strategy Return  \n",
       "datetime                                                             \n",
       "2013-09-26      74.105598       NaN            NaN              NaN  \n",
       "2013-09-27      74.662214       NaN      -0.107091              NaN  \n",
       "2013-09-28      75.306020       NaN       0.128502              NaN  \n",
       "2013-09-29      76.563152       NaN       0.027082              NaN  \n",
       "2013-09-30      77.600727       NaN      -0.102277              NaN  \n",
       "...                   ...       ...            ...              ...  \n",
       "2019-01-04    4093.585227       1.0      -0.250396        -0.250396  \n",
       "2019-01-05    4077.159943       1.0       0.329776         0.329776  \n",
       "2019-01-06    4074.059314       1.0       0.072237         0.072237  \n",
       "2019-01-07    4078.379595       1.0       0.316137         0.316137  \n",
       "2019-01-08    4057.006554       1.0      -0.477503        -0.477503  \n",
       "\n",
       "[1731 rows x 10 columns]"
      ],
      "text/html": [
       "<div>\n",
       "<style scoped>\n",
       "    .dataframe tbody tr th:only-of-type {\n",
       "        vertical-align: middle;\n",
       "    }\n",
       "\n",
       "    .dataframe tbody tr th {\n",
       "        vertical-align: top;\n",
       "    }\n",
       "\n",
       "    .dataframe thead th {\n",
       "        text-align: right;\n",
       "    }\n",
       "</style>\n",
       "<table border=\"1\" class=\"dataframe\">\n",
       "  <thead>\n",
       "    <tr style=\"text-align: right;\">\n",
       "      <th></th>\n",
       "      <th>open</th>\n",
       "      <th>high</th>\n",
       "      <th>low</th>\n",
       "      <th>close</th>\n",
       "      <th>Rolling Mean</th>\n",
       "      <th>Bollinger High</th>\n",
       "      <th>Bollinger Low</th>\n",
       "      <th>Position</th>\n",
       "      <th>Market Return</th>\n",
       "      <th>Strategy Return</th>\n",
       "    </tr>\n",
       "    <tr>\n",
       "      <th>datetime</th>\n",
       "      <th></th>\n",
       "      <th></th>\n",
       "      <th></th>\n",
       "      <th></th>\n",
       "      <th></th>\n",
       "      <th></th>\n",
       "      <th></th>\n",
       "      <th></th>\n",
       "      <th></th>\n",
       "      <th></th>\n",
       "    </tr>\n",
       "  </thead>\n",
       "  <tbody>\n",
       "    <tr>\n",
       "      <th>2013-09-26</th>\n",
       "      <td>131.95</td>\n",
       "      <td>194.76</td>\n",
       "      <td>98.75</td>\n",
       "      <td>145.11</td>\n",
       "      <td>119.20890</td>\n",
       "      <td>164.312202</td>\n",
       "      <td>74.105598</td>\n",
       "      <td>NaN</td>\n",
       "      <td>NaN</td>\n",
       "      <td>NaN</td>\n",
       "    </tr>\n",
       "    <tr>\n",
       "      <th>2013-09-27</th>\n",
       "      <td>148.90</td>\n",
       "      <td>190.11</td>\n",
       "      <td>115.07</td>\n",
       "      <td>129.57</td>\n",
       "      <td>119.49675</td>\n",
       "      <td>164.331286</td>\n",
       "      <td>74.662214</td>\n",
       "      <td>NaN</td>\n",
       "      <td>-0.107091</td>\n",
       "      <td>NaN</td>\n",
       "    </tr>\n",
       "    <tr>\n",
       "      <th>2013-09-28</th>\n",
       "      <td>129.81</td>\n",
       "      <td>190.32</td>\n",
       "      <td>101.51</td>\n",
       "      <td>146.22</td>\n",
       "      <td>119.88890</td>\n",
       "      <td>164.471780</td>\n",
       "      <td>75.306020</td>\n",
       "      <td>NaN</td>\n",
       "      <td>0.128502</td>\n",
       "      <td>NaN</td>\n",
       "    </tr>\n",
       "    <tr>\n",
       "      <th>2013-09-29</th>\n",
       "      <td>134.18</td>\n",
       "      <td>254.00</td>\n",
       "      <td>114.30</td>\n",
       "      <td>150.18</td>\n",
       "      <td>120.43980</td>\n",
       "      <td>164.316448</td>\n",
       "      <td>76.563152</td>\n",
       "      <td>NaN</td>\n",
       "      <td>0.027082</td>\n",
       "      <td>NaN</td>\n",
       "    </tr>\n",
       "    <tr>\n",
       "      <th>2013-09-30</th>\n",
       "      <td>135.19</td>\n",
       "      <td>201.75</td>\n",
       "      <td>118.33</td>\n",
       "      <td>134.82</td>\n",
       "      <td>120.86215</td>\n",
       "      <td>164.123573</td>\n",
       "      <td>77.600727</td>\n",
       "      <td>NaN</td>\n",
       "      <td>-0.102277</td>\n",
       "      <td>NaN</td>\n",
       "    </tr>\n",
       "    <tr>\n",
       "      <th>...</th>\n",
       "      <td>...</td>\n",
       "      <td>...</td>\n",
       "      <td>...</td>\n",
       "      <td>...</td>\n",
       "      <td>...</td>\n",
       "      <td>...</td>\n",
       "      <td>...</td>\n",
       "      <td>...</td>\n",
       "      <td>...</td>\n",
       "      <td>...</td>\n",
       "    </tr>\n",
       "    <tr>\n",
       "      <th>2019-01-04</th>\n",
       "      <td>4160.00</td>\n",
       "      <td>17765.86</td>\n",
       "      <td>3039.91</td>\n",
       "      <td>4253.74</td>\n",
       "      <td>7299.61170</td>\n",
       "      <td>10505.638173</td>\n",
       "      <td>4093.585227</td>\n",
       "      <td>1.0</td>\n",
       "      <td>-0.250396</td>\n",
       "      <td>-0.250396</td>\n",
       "    </tr>\n",
       "    <tr>\n",
       "      <th>2019-01-05</th>\n",
       "      <td>4193.63</td>\n",
       "      <td>49922.62</td>\n",
       "      <td>3103.20</td>\n",
       "      <td>5656.52</td>\n",
       "      <td>7284.80430</td>\n",
       "      <td>10492.448657</td>\n",
       "      <td>4077.159943</td>\n",
       "      <td>1.0</td>\n",
       "      <td>0.329776</td>\n",
       "      <td>0.329776</td>\n",
       "    </tr>\n",
       "    <tr>\n",
       "      <th>2019-01-06</th>\n",
       "      <td>5060.00</td>\n",
       "      <td>45000.45</td>\n",
       "      <td>3230.35</td>\n",
       "      <td>6065.13</td>\n",
       "      <td>7283.01505</td>\n",
       "      <td>10491.970786</td>\n",
       "      <td>4074.059314</td>\n",
       "      <td>1.0</td>\n",
       "      <td>0.072237</td>\n",
       "      <td>0.072237</td>\n",
       "    </tr>\n",
       "    <tr>\n",
       "      <th>2019-01-07</th>\n",
       "      <td>4400.00</td>\n",
       "      <td>29961.20</td>\n",
       "      <td>3033.37</td>\n",
       "      <td>7982.54</td>\n",
       "      <td>7288.02690</td>\n",
       "      <td>10497.674205</td>\n",
       "      <td>4078.379595</td>\n",
       "      <td>1.0</td>\n",
       "      <td>0.316137</td>\n",
       "      <td>0.316137</td>\n",
       "    </tr>\n",
       "    <tr>\n",
       "      <th>2019-01-08</th>\n",
       "      <td>4800.00</td>\n",
       "      <td>8957.02</td>\n",
       "      <td>3383.77</td>\n",
       "      <td>4170.85</td>\n",
       "      <td>7279.85015</td>\n",
       "      <td>10502.693746</td>\n",
       "      <td>4057.006554</td>\n",
       "      <td>1.0</td>\n",
       "      <td>-0.477503</td>\n",
       "      <td>-0.477503</td>\n",
       "    </tr>\n",
       "  </tbody>\n",
       "</table>\n",
       "<p>1731 rows × 10 columns</p>\n",
       "</div>"
      ]
     },
     "metadata": {},
     "execution_count": 18
    }
   ],
   "metadata": {}
  },
  {
   "cell_type": "code",
   "execution_count": null,
   "source": [],
   "outputs": [],
   "metadata": {}
  },
  {
   "cell_type": "markdown",
   "source": [
    "# Finding a better configuration¶\n"
   ],
   "metadata": {}
  },
  {
   "cell_type": "code",
   "execution_count": 19,
   "source": [
    "data.head()"
   ],
   "outputs": [
    {
     "output_type": "execute_result",
     "data": {
      "text/plain": [
       "                     price   volume\n",
       "datetime                           \n",
       "2013-03-11 23:57:35  72.00   4.9999\n",
       "2013-03-12 19:36:32  67.79   1.9999\n",
       "2013-03-13 12:27:52  52.21  14.7684\n",
       "2013-03-13 17:06:01  56.29   0.6401\n",
       "2013-03-13 18:01:20  40.00   1.7500"
      ],
      "text/html": [
       "<div>\n",
       "<style scoped>\n",
       "    .dataframe tbody tr th:only-of-type {\n",
       "        vertical-align: middle;\n",
       "    }\n",
       "\n",
       "    .dataframe tbody tr th {\n",
       "        vertical-align: top;\n",
       "    }\n",
       "\n",
       "    .dataframe thead th {\n",
       "        text-align: right;\n",
       "    }\n",
       "</style>\n",
       "<table border=\"1\" class=\"dataframe\">\n",
       "  <thead>\n",
       "    <tr style=\"text-align: right;\">\n",
       "      <th></th>\n",
       "      <th>price</th>\n",
       "      <th>volume</th>\n",
       "    </tr>\n",
       "    <tr>\n",
       "      <th>datetime</th>\n",
       "      <th></th>\n",
       "      <th></th>\n",
       "    </tr>\n",
       "  </thead>\n",
       "  <tbody>\n",
       "    <tr>\n",
       "      <th>2013-03-11 23:57:35</th>\n",
       "      <td>72.00</td>\n",
       "      <td>4.9999</td>\n",
       "    </tr>\n",
       "    <tr>\n",
       "      <th>2013-03-12 19:36:32</th>\n",
       "      <td>67.79</td>\n",
       "      <td>1.9999</td>\n",
       "    </tr>\n",
       "    <tr>\n",
       "      <th>2013-03-13 12:27:52</th>\n",
       "      <td>52.21</td>\n",
       "      <td>14.7684</td>\n",
       "    </tr>\n",
       "    <tr>\n",
       "      <th>2013-03-13 17:06:01</th>\n",
       "      <td>56.29</td>\n",
       "      <td>0.6401</td>\n",
       "    </tr>\n",
       "    <tr>\n",
       "      <th>2013-03-13 18:01:20</th>\n",
       "      <td>40.00</td>\n",
       "      <td>1.7500</td>\n",
       "    </tr>\n",
       "  </tbody>\n",
       "</table>\n",
       "</div>"
      ]
     },
     "metadata": {},
     "execution_count": 19
    }
   ],
   "metadata": {}
  },
  {
   "cell_type": "code",
   "execution_count": 89,
   "source": [
    "class BollingerBandsSimulator:\n",
    "\n",
    "    def __init__(self, df_original, from_date, period, window, no_of_std, figsize=None):\n",
    "        self.df = df_original\n",
    "        self.from_date = from_date\n",
    "        self.period = period\n",
    "        self.window = window\n",
    "        self.no_of_std = no_of_std\n",
    "        self.figsize = figsize\n",
    "    \n",
    "    def _build_candles_dataframe(self):\n",
    "        self.df = self.df.loc[self.from_date:, [\"price\"]].copy()\n",
    "        self.df = self.df[\"price\"].resample(self.period).ohlc()\n",
    "                \n",
    "    def _build_bollinger_bands(self):\n",
    "        rolling_mean = self.df['close'].rolling(self.window).mean()\n",
    "        rolling_std = self.df['close'].rolling(self.window).std()\n",
    "\n",
    "        self.df['Rolling Mean'] = rolling_mean\n",
    "        self.df['Bollinger High'] = rolling_mean + (rolling_std * self.no_of_std)\n",
    "        self.df['Bollinger Low'] = rolling_mean - (rolling_std * self.no_of_std)\n",
    "\n",
    "    def _calculate_positions(self):\n",
    "        self.df['Position'] = None\n",
    "        self.df['Mode'] = None\n",
    "        self.number_of_trades = 0\n",
    "        buy_has_crossed_mean = False\n",
    "        short_has_crossed_mean = False\n",
    "\n",
    "\n",
    "        mode = 'no_position'\n",
    "        \n",
    "        for index in range(len(self.df)):\n",
    "            if index == 0:\n",
    "                self.df.iloc[index, self.df.columns.get_loc('Mode')] =  mode\n",
    "                continue\n",
    "\n",
    "            row = self.df.iloc[index]\n",
    "            prev_row = self.df.iloc[index - 1]\n",
    "            \n",
    "            # get out of position if price crosses mean\n",
    "            # (if mode == 'open' or mode == 'no_position' ) and \n",
    "            if mode == 'buy'  and row['close'] > row['Rolling Mean']:\n",
    "                buy_has_crossed_mean = True\n",
    "                \n",
    "            if mode == 'short'  and row['close'] < row['Rolling Mean']:\n",
    "                short_has_crossed_mean = True\n",
    "\n",
    "            # open -> no_position? no position is below running mean\n",
    "            if mode == 'buy'  and row['close'] < row['Rolling Mean'] and buy_has_crossed_mean:\n",
    "                self.df.iloc[index, self.df.columns.get_loc('Position')] = 1\n",
    "                self.df.iloc[index + 1, self.df.columns.get_loc('Position')] = 0 # for pct change it does a ffilll. ffill with zeros\n",
    "                self.df.iloc[index, self.df.columns.get_loc('Mode')] = 'buy_to_no_position'\n",
    "                self.number_of_trades  +=1\n",
    "                mode = 'no_position'\n",
    "                buy_has_crossed_mean = False\n",
    "            \n",
    "            # close -> no_position? no position if above running mean\n",
    "            elif mode == 'short'  and row['close'] > row['Rolling Mean'] and short_has_crossed_mean:\n",
    "                self.df.iloc[index, self.df.columns.get_loc('Position')] = -1\n",
    "                self.df.iloc[index + 1, self.df.columns.get_loc('Position')] = 0 # for pct change it does a ffilll. ffill with zeros\n",
    "                self.df.iloc[index, self.df.columns.get_loc('Mode')] = 'short_to_no_position'\n",
    "                self.number_of_trades  +=1\n",
    "                mode = 'no_position'\n",
    "                short_has_crossed_mean = False\n",
    "\n",
    "            # buy\n",
    "            elif mode == 'no_position' and row['close'] < row['Bollinger Low'] and prev_row['close'] > prev_row['Bollinger Low']:\n",
    "                self.df.iloc[index, self.df.columns.get_loc('Position')] = 0 # buy. add one to index so that pct_change works\n",
    "                self.df.iloc[index + 1, self.df.columns.get_loc('Position')] = 1 # buy. add one to index so that pct_change works\n",
    "                self.df.iloc[index, self.df.columns.get_loc('Mode')] = 'buy'\n",
    "                self.number_of_trades  +=1\n",
    "                mode = 'buy'     \n",
    "        \n",
    "            # short?\n",
    "            elif mode == 'no_position' and  row['close'] > row['Bollinger High'] and prev_row['close'] < prev_row['Bollinger High']:\n",
    "                self.df.iloc[index, self.df.columns.get_loc('Position')] = 0 #  short starts at the end of the day. Calculate pct_change starting tomorrow\n",
    "                self.df.iloc[index + 1, self.df.columns.get_loc('Position')] = -1 #  short starts at the end of the day. Calculate pct_change starting tomorrow\n",
    "                self.df.iloc[index, self.df.columns.get_loc('Mode')] = 'short'\n",
    "                self.number_of_trades  +=1\n",
    "                mode = 'short' \n",
    "                       \n",
    "            else:\n",
    "                self.df.iloc[index, self.df.columns.get_loc('Mode')] = mode\n",
    "        \n",
    "    def _calculate_returns(self):\n",
    "        \n",
    "        self.df['Original Position'] = self.df['Position']\n",
    "        self.df['Position'].fillna(method='ffill', inplace=True)\n",
    "        self.df['Market Return'] = self.df['close'].pct_change()\n",
    "        self.df['Strategy Return'] = self.df['Market Return'] * self.df['Position']\n",
    "\n",
    "    def _plot_returns(self):\n",
    "        self.df['Strategy Return'].cumsum().plot(figsize=self.figsize)\n",
    "        \n",
    "\n",
    "    def simulate(self):\n",
    "        self._build_candles_dataframe()\n",
    "        self._build_bollinger_bands()\n",
    "        self._calculate_positions()\n",
    "        self._calculate_returns()\n",
    "        self._plot_returns()\n",
    "\n",
    "        return (\n",
    "            self.period, \n",
    "            self.window, \n",
    "            self.no_of_std, \n",
    "            self.df['Strategy Return'].sum(),\n",
    "            self.number_of_trades\n",
    "        )"
   ],
   "outputs": [],
   "metadata": {}
  },
  {
   "cell_type": "code",
   "execution_count": 104,
   "source": [
    "\n",
    "simulator = BollingerBandsSimulator(\n",
    "    data, \n",
    "    from_date=\"2017-01-01\", \n",
    "    period=\"6H\", \n",
    "    window=90, \n",
    "    no_of_std=1.5\n",
    ")\n",
    "simulator.simulate()"
   ],
   "outputs": [
    {
     "output_type": "execute_result",
     "data": {
      "text/plain": [
       "('6H', 90, 1.5, 11.414849028617624, 255)"
      ]
     },
     "metadata": {},
     "execution_count": 104
    },
    {
     "output_type": "display_data",
     "data": {
      "text/plain": [
       "<Figure size 432x288 with 1 Axes>"
      ],
      "image/png": "[encoded data removed]"
     },
     "metadata": {
      "needs_background": "light"
     }
    }
   ],
   "metadata": {}
  },
  {
   "cell_type": "code",
   "execution_count": 100,
   "source": [
    "DATE_FILTER = '2017-01-01'\n",
    "simulator.df[simulator.df.index > DATE_FILTER ]  [['Rolling Mean', 'Bollinger High', 'Bollinger Low', 'close']].plot(figsize=(15,8))\n",
    "\n",
    "prev_pos = None\n",
    "for index, pos in simulator.df[simulator.df.index > DATE_FILTER ]['Original Position'].iteritems():\n",
    "    if pos == -1:\n",
    "        plt.axvline(index, color='red')\n",
    "    if pos == 1:\n",
    "        plt.axvline(index, color='green')\n",
    "    if pos == 0:\n",
    "        plt.axvline(index, color='black')\n"
   ],
   "outputs": [
    {
     "output_type": "display_data",
     "data": {
      "text/plain": [
       "<Figure size 1080x576 with 1 Axes>"
      ],
      "image/png": "[encoded data removed]"
     },
     "metadata": {
      "needs_background": "light"
     }
    }
   ],
   "metadata": {}
  },
  {
   "cell_type": "code",
   "execution_count": 101,
   "source": [
    "simulator.df[simulator.df.index > \"2017-12-25\"].head(30)\n"
   ],
   "outputs": [
    {
     "output_type": "execute_result",
     "data": {
      "text/plain": [
       "                         open       high       low     close  Rolling Mean  \\\n",
       "datetime                                                                     \n",
       "2017-12-25 06:00:00  22998.39  142744.99  13226.76  15583.99  19993.015556   \n",
       "2017-12-25 12:00:00  16054.50   55625.60   7348.57  21590.07  20000.516444   \n",
       "2017-12-25 18:00:00  20083.95   74999.06  10004.69  20499.99  20049.910444   \n",
       "2017-12-26 00:00:00  20499.99   75001.88  10190.19  46250.90  20402.000667   \n",
       "2017-12-26 06:00:00  22266.03   62000.12  13176.67  24322.97  20553.033667   \n",
       "2017-12-26 12:00:00  35643.00   75997.08  12618.61  23136.83  20668.510444   \n",
       "2017-12-26 18:00:00  16131.86   75789.73  11926.97  25325.11  20737.292111   \n",
       "2017-12-27 00:00:00  16320.98   75001.88  12554.09  15899.99  20670.847333   \n",
       "2017-12-27 06:00:00  18999.08   77630.11  14754.72  23017.29  20812.117333   \n",
       "2017-12-27 12:00:00  23017.29   53308.69  12131.81  18290.95  20896.051889   \n",
       "2017-12-27 18:00:00  21747.12   64668.18  11577.59  23196.98  21020.353889   \n",
       "2017-12-28 00:00:00  14790.51   65192.45   7554.99  21391.29  20996.968333   \n",
       "2017-12-28 06:00:00  17977.46   70001.62  11991.38  13683.13  21001.669222   \n",
       "2017-12-28 12:00:00  14719.76   69998.60  10479.14  20356.98  21007.663222   \n",
       "2017-12-28 18:00:00  16560.00   62999.98   9744.67  20154.87  21081.250889   \n",
       "2017-12-29 00:00:00  20468.99   70001.05   9679.46  15298.98  21059.227556   \n",
       "2017-12-29 06:00:00  17280.17   69998.60  13859.05  20505.71  21015.068778   \n",
       "2017-12-29 12:00:00  14123.49   61496.08  10621.50  16224.74  20985.965556   \n",
       "2017-12-29 18:00:00  15975.46   58411.21   9679.46  21973.19  21047.473222   \n",
       "2017-12-30 00:00:00  24874.88   70001.62  12785.41  21061.23  21093.566889   \n",
       "2017-12-30 06:00:00  20382.04  100000.00  11508.27  20544.69  21080.055222   \n",
       "2017-12-30 12:00:00  20499.28   58290.68  11974.33  15917.60  20972.828111   \n",
       "2017-12-30 18:00:00  19424.01  100000.00   9000.85  19805.00  20883.105889   \n",
       "2017-12-31 00:00:00  14519.76  100000.00  11462.63  14100.00  20867.128111   \n",
       "2017-12-31 06:00:00  14333.50  100000.00  12283.38  17126.00  20858.528111   \n",
       "2017-12-31 12:00:00  39521.63  100000.00  10053.99  19678.38  20891.642889   \n",
       "2017-12-31 18:00:00  49721.56   62837.44   9250.86  38557.17  21136.569000   \n",
       "2018-01-01 00:00:00  23261.01  100000.00   9601.19  20253.16  21203.618222   \n",
       "2018-01-01 06:00:00  21622.93   54455.55  12636.25  18947.50  21130.634889   \n",
       "2018-01-01 12:00:00  19121.23   54594.69   9404.40  45339.14  21402.918778   \n",
       "\n",
       "                     Bollinger High  Bollinger Low  Position  \\\n",
       "datetime                                                       \n",
       "2017-12-25 06:00:00    27433.398577   12552.632534       0.0   \n",
       "2017-12-25 12:00:00    27443.779359   12557.253530       0.0   \n",
       "2017-12-25 18:00:00    27466.734194   12633.086695       0.0   \n",
       "2017-12-26 00:00:00    28847.187002   11956.814331       0.0   \n",
       "2017-12-26 06:00:00    28877.273698   12228.793635      -1.0   \n",
       "2017-12-26 12:00:00    28908.032312   12428.988577      -1.0   \n",
       "2017-12-26 18:00:00    29005.766872   12468.817350      -1.0   \n",
       "2017-12-27 00:00:00    28972.424136   12369.270531      -1.0   \n",
       "2017-12-27 06:00:00    28954.135166   12670.099500      -1.0   \n",
       "2017-12-27 12:00:00    28887.974241   12904.129536       0.0   \n",
       "2017-12-27 18:00:00    28892.659354   13148.048424       0.0   \n",
       "2017-12-28 00:00:00    28859.568831   13134.367835       0.0   \n",
       "2017-12-28 06:00:00    28854.022741   13149.315703       0.0   \n",
       "2017-12-28 12:00:00    28858.423203   13156.903241       0.0   \n",
       "2017-12-28 18:00:00    28841.898590   13320.603188       0.0   \n",
       "2017-12-29 00:00:00    28850.679174   13267.775937       0.0   \n",
       "2017-12-29 06:00:00    28787.725855   13242.411701       0.0   \n",
       "2017-12-29 12:00:00    28788.095954   13183.835157       0.0   \n",
       "2017-12-29 18:00:00    28817.044970   13277.901475       0.0   \n",
       "2017-12-30 00:00:00    28834.963767   13352.170011       0.0   \n",
       "2017-12-30 06:00:00    28821.190376   13338.920068       0.0   \n",
       "2017-12-30 12:00:00    28722.896811   13222.759411       0.0   \n",
       "2017-12-30 18:00:00    28556.019307   13210.192471       0.0   \n",
       "2017-12-31 00:00:00    28568.681699   13165.574524       0.0   \n",
       "2017-12-31 06:00:00    28568.587944   13148.468279       0.0   \n",
       "2017-12-31 12:00:00    28575.400813   13207.884964       0.0   \n",
       "2017-12-31 18:00:00    29279.575765   12993.562235       0.0   \n",
       "2018-01-01 00:00:00    29272.583749   13134.652695      -1.0   \n",
       "2018-01-01 06:00:00    29177.660867   13083.608911      -1.0   \n",
       "2018-01-01 12:00:00    30313.565484   12492.272072      -1.0   \n",
       "\n",
       "                                     Mode Original Position  Market Return  \\\n",
       "datetime                                                                     \n",
       "2017-12-25 06:00:00           no_position              None      -0.323671   \n",
       "2017-12-25 12:00:00           no_position              None       0.385401   \n",
       "2017-12-25 18:00:00           no_position              None      -0.050490   \n",
       "2017-12-26 00:00:00                 short                 0       1.256143   \n",
       "2017-12-26 06:00:00                 short                -1      -0.474108   \n",
       "2017-12-26 12:00:00                 short              None      -0.048766   \n",
       "2017-12-26 18:00:00                 short              None       0.094580   \n",
       "2017-12-27 00:00:00                 short              None      -0.372165   \n",
       "2017-12-27 06:00:00  short_to_no_position                -1       0.447629   \n",
       "2017-12-27 12:00:00           no_position                 0      -0.205339   \n",
       "2017-12-27 18:00:00           no_position              None       0.268222   \n",
       "2017-12-28 00:00:00           no_position              None      -0.077842   \n",
       "2017-12-28 06:00:00           no_position              None      -0.360341   \n",
       "2017-12-28 12:00:00           no_position              None       0.487743   \n",
       "2017-12-28 18:00:00           no_position              None      -0.009928   \n",
       "2017-12-29 00:00:00           no_position              None      -0.240929   \n",
       "2017-12-29 06:00:00           no_position              None       0.340332   \n",
       "2017-12-29 12:00:00           no_position              None      -0.208770   \n",
       "2017-12-29 18:00:00           no_position              None       0.354302   \n",
       "2017-12-30 00:00:00           no_position              None      -0.041503   \n",
       "2017-12-30 06:00:00           no_position              None      -0.024526   \n",
       "2017-12-30 12:00:00           no_position              None      -0.225221   \n",
       "2017-12-30 18:00:00           no_position              None       0.244220   \n",
       "2017-12-31 00:00:00           no_position              None      -0.288059   \n",
       "2017-12-31 06:00:00           no_position              None       0.214610   \n",
       "2017-12-31 12:00:00           no_position              None       0.149035   \n",
       "2017-12-31 18:00:00                 short                 0       0.959367   \n",
       "2018-01-01 00:00:00                 short                -1      -0.474724   \n",
       "2018-01-01 06:00:00                 short              None      -0.064467   \n",
       "2018-01-01 12:00:00  short_to_no_position                -1       1.392882   \n",
       "\n",
       "                     Strategy Return  \n",
       "datetime                              \n",
       "2017-12-25 06:00:00        -0.000000  \n",
       "2017-12-25 12:00:00         0.000000  \n",
       "2017-12-25 18:00:00        -0.000000  \n",
       "2017-12-26 00:00:00         0.000000  \n",
       "2017-12-26 06:00:00         0.474108  \n",
       "2017-12-26 12:00:00         0.048766  \n",
       "2017-12-26 18:00:00        -0.094580  \n",
       "2017-12-27 00:00:00         0.372165  \n",
       "2017-12-27 06:00:00        -0.447629  \n",
       "2017-12-27 12:00:00        -0.000000  \n",
       "2017-12-27 18:00:00         0.000000  \n",
       "2017-12-28 00:00:00        -0.000000  \n",
       "2017-12-28 06:00:00        -0.000000  \n",
       "2017-12-28 12:00:00         0.000000  \n",
       "2017-12-28 18:00:00        -0.000000  \n",
       "2017-12-29 00:00:00        -0.000000  \n",
       "2017-12-29 06:00:00         0.000000  \n",
       "2017-12-29 12:00:00        -0.000000  \n",
       "2017-12-29 18:00:00         0.000000  \n",
       "2017-12-30 00:00:00        -0.000000  \n",
       "2017-12-30 06:00:00        -0.000000  \n",
       "2017-12-30 12:00:00        -0.000000  \n",
       "2017-12-30 18:00:00         0.000000  \n",
       "2017-12-31 00:00:00        -0.000000  \n",
       "2017-12-31 06:00:00         0.000000  \n",
       "2017-12-31 12:00:00         0.000000  \n",
       "2017-12-31 18:00:00         0.000000  \n",
       "2018-01-01 00:00:00         0.474724  \n",
       "2018-01-01 06:00:00         0.064467  \n",
       "2018-01-01 12:00:00        -1.392882  "
      ],
      "text/html": [
       "<div>\n",
       "<style scoped>\n",
       "    .dataframe tbody tr th:only-of-type {\n",
       "        vertical-align: middle;\n",
       "    }\n",
       "\n",
       "    .dataframe tbody tr th {\n",
       "        vertical-align: top;\n",
       "    }\n",
       "\n",
       "    .dataframe thead th {\n",
       "        text-align: right;\n",
       "    }\n",
       "</style>\n",
       "<table border=\"1\" class=\"dataframe\">\n",
       "  <thead>\n",
       "    <tr style=\"text-align: right;\">\n",
       "      <th></th>\n",
       "      <th>open</th>\n",
       "      <th>high</th>\n",
       "      <th>low</th>\n",
       "      <th>close</th>\n",
       "      <th>Rolling Mean</th>\n",
       "      <th>Bollinger High</th>\n",
       "      <th>Bollinger Low</th>\n",
       "      <th>Position</th>\n",
       "      <th>Mode</th>\n",
       "      <th>Original Position</th>\n",
       "      <th>Market Return</th>\n",
       "      <th>Strategy Return</th>\n",
       "    </tr>\n",
       "    <tr>\n",
       "      <th>datetime</th>\n",
       "      <th></th>\n",
       "      <th></th>\n",
       "      <th></th>\n",
       "      <th></th>\n",
       "      <th></th>\n",
       "      <th></th>\n",
       "      <th></th>\n",
       "      <th></th>\n",
       "      <th></th>\n",
       "      <th></th>\n",
       "      <th></th>\n",
       "      <th></th>\n",
       "    </tr>\n",
       "  </thead>\n",
       "  <tbody>\n",
       "    <tr>\n",
       "      <th>2017-12-25 06:00:00</th>\n",
       "      <td>22998.39</td>\n",
       "      <td>142744.99</td>\n",
       "      <td>13226.76</td>\n",
       "      <td>15583.99</td>\n",
       "      <td>19993.015556</td>\n",
       "      <td>27433.398577</td>\n",
       "      <td>12552.632534</td>\n",
       "      <td>0.0</td>\n",
       "      <td>no_position</td>\n",
       "      <td>None</td>\n",
       "      <td>-0.323671</td>\n",
       "      <td>-0.000000</td>\n",
       "    </tr>\n",
       "    <tr>\n",
       "      <th>2017-12-25 12:00:00</th>\n",
       "      <td>16054.50</td>\n",
       "      <td>55625.60</td>\n",
       "      <td>7348.57</td>\n",
       "      <td>21590.07</td>\n",
       "      <td>20000.516444</td>\n",
       "      <td>27443.779359</td>\n",
       "      <td>12557.253530</td>\n",
       "      <td>0.0</td>\n",
       "      <td>no_position</td>\n",
       "      <td>None</td>\n",
       "      <td>0.385401</td>\n",
       "      <td>0.000000</td>\n",
       "    </tr>\n",
       "    <tr>\n",
       "      <th>2017-12-25 18:00:00</th>\n",
       "      <td>20083.95</td>\n",
       "      <td>74999.06</td>\n",
       "      <td>10004.69</td>\n",
       "      <td>20499.99</td>\n",
       "      <td>20049.910444</td>\n",
       "      <td>27466.734194</td>\n",
       "      <td>12633.086695</td>\n",
       "      <td>0.0</td>\n",
       "      <td>no_position</td>\n",
       "      <td>None</td>\n",
       "      <td>-0.050490</td>\n",
       "      <td>-0.000000</td>\n",
       "    </tr>\n",
       "    <tr>\n",
       "      <th>2017-12-26 00:00:00</th>\n",
       "      <td>20499.99</td>\n",
       "      <td>75001.88</td>\n",
       "      <td>10190.19</td>\n",
       "      <td>46250.90</td>\n",
       "      <td>20402.000667</td>\n",
       "      <td>28847.187002</td>\n",
       "      <td>11956.814331</td>\n",
       "      <td>0.0</td>\n",
       "      <td>short</td>\n",
       "      <td>0</td>\n",
       "      <td>1.256143</td>\n",
       "      <td>0.000000</td>\n",
       "    </tr>\n",
       "    <tr>\n",
       "      <th>2017-12-26 06:00:00</th>\n",
       "      <td>22266.03</td>\n",
       "      <td>62000.12</td>\n",
       "      <td>13176.67</td>\n",
       "      <td>24322.97</td>\n",
       "      <td>20553.033667</td>\n",
       "      <td>28877.273698</td>\n",
       "      <td>12228.793635</td>\n",
       "      <td>-1.0</td>\n",
       "      <td>short</td>\n",
       "      <td>-1</td>\n",
       "      <td>-0.474108</td>\n",
       "      <td>0.474108</td>\n",
       "    </tr>\n",
       "    <tr>\n",
       "      <th>2017-12-26 12:00:00</th>\n",
       "      <td>35643.00</td>\n",
       "      <td>75997.08</td>\n",
       "      <td>12618.61</td>\n",
       "      <td>23136.83</td>\n",
       "      <td>20668.510444</td>\n",
       "      <td>28908.032312</td>\n",
       "      <td>12428.988577</td>\n",
       "      <td>-1.0</td>\n",
       "      <td>short</td>\n",
       "      <td>None</td>\n",
       "      <td>-0.048766</td>\n",
       "      <td>0.048766</td>\n",
       "    </tr>\n",
       "    <tr>\n",
       "      <th>2017-12-26 18:00:00</th>\n",
       "      <td>16131.86</td>\n",
       "      <td>75789.73</td>\n",
       "      <td>11926.97</td>\n",
       "      <td>25325.11</td>\n",
       "      <td>20737.292111</td>\n",
       "      <td>29005.766872</td>\n",
       "      <td>12468.817350</td>\n",
       "      <td>-1.0</td>\n",
       "      <td>short</td>\n",
       "      <td>None</td>\n",
       "      <td>0.094580</td>\n",
       "      <td>-0.094580</td>\n",
       "    </tr>\n",
       "    <tr>\n",
       "      <th>2017-12-27 00:00:00</th>\n",
       "      <td>16320.98</td>\n",
       "      <td>75001.88</td>\n",
       "      <td>12554.09</td>\n",
       "      <td>15899.99</td>\n",
       "      <td>20670.847333</td>\n",
       "      <td>28972.424136</td>\n",
       "      <td>12369.270531</td>\n",
       "      <td>-1.0</td>\n",
       "      <td>short</td>\n",
       "      <td>None</td>\n",
       "      <td>-0.372165</td>\n",
       "      <td>0.372165</td>\n",
       "    </tr>\n",
       "    <tr>\n",
       "      <th>2017-12-27 06:00:00</th>\n",
       "      <td>18999.08</td>\n",
       "      <td>77630.11</td>\n",
       "      <td>14754.72</td>\n",
       "      <td>23017.29</td>\n",
       "      <td>20812.117333</td>\n",
       "      <td>28954.135166</td>\n",
       "      <td>12670.099500</td>\n",
       "      <td>-1.0</td>\n",
       "      <td>short_to_no_position</td>\n",
       "      <td>-1</td>\n",
       "      <td>0.447629</td>\n",
       "      <td>-0.447629</td>\n",
       "    </tr>\n",
       "    <tr>\n",
       "      <th>2017-12-27 12:00:00</th>\n",
       "      <td>23017.29</td>\n",
       "      <td>53308.69</td>\n",
       "      <td>12131.81</td>\n",
       "      <td>18290.95</td>\n",
       "      <td>20896.051889</td>\n",
       "      <td>28887.974241</td>\n",
       "      <td>12904.129536</td>\n",
       "      <td>0.0</td>\n",
       "      <td>no_position</td>\n",
       "      <td>0</td>\n",
       "      <td>-0.205339</td>\n",
       "      <td>-0.000000</td>\n",
       "    </tr>\n",
       "    <tr>\n",
       "      <th>2017-12-27 18:00:00</th>\n",
       "      <td>21747.12</td>\n",
       "      <td>64668.18</td>\n",
       "      <td>11577.59</td>\n",
       "      <td>23196.98</td>\n",
       "      <td>21020.353889</td>\n",
       "      <td>28892.659354</td>\n",
       "      <td>13148.048424</td>\n",
       "      <td>0.0</td>\n",
       "      <td>no_position</td>\n",
       "      <td>None</td>\n",
       "      <td>0.268222</td>\n",
       "      <td>0.000000</td>\n",
       "    </tr>\n",
       "    <tr>\n",
       "      <th>2017-12-28 00:00:00</th>\n",
       "      <td>14790.51</td>\n",
       "      <td>65192.45</td>\n",
       "      <td>7554.99</td>\n",
       "      <td>21391.29</td>\n",
       "      <td>20996.968333</td>\n",
       "      <td>28859.568831</td>\n",
       "      <td>13134.367835</td>\n",
       "      <td>0.0</td>\n",
       "      <td>no_position</td>\n",
       "      <td>None</td>\n",
       "      <td>-0.077842</td>\n",
       "      <td>-0.000000</td>\n",
       "    </tr>\n",
       "    <tr>\n",
       "      <th>2017-12-28 06:00:00</th>\n",
       "      <td>17977.46</td>\n",
       "      <td>70001.62</td>\n",
       "      <td>11991.38</td>\n",
       "      <td>13683.13</td>\n",
       "      <td>21001.669222</td>\n",
       "      <td>28854.022741</td>\n",
       "      <td>13149.315703</td>\n",
       "      <td>0.0</td>\n",
       "      <td>no_position</td>\n",
       "      <td>None</td>\n",
       "      <td>-0.360341</td>\n",
       "      <td>-0.000000</td>\n",
       "    </tr>\n",
       "    <tr>\n",
       "      <th>2017-12-28 12:00:00</th>\n",
       "      <td>14719.76</td>\n",
       "      <td>69998.60</td>\n",
       "      <td>10479.14</td>\n",
       "      <td>20356.98</td>\n",
       "      <td>21007.663222</td>\n",
       "      <td>28858.423203</td>\n",
       "      <td>13156.903241</td>\n",
       "      <td>0.0</td>\n",
       "      <td>no_position</td>\n",
       "      <td>None</td>\n",
       "      <td>0.487743</td>\n",
       "      <td>0.000000</td>\n",
       "    </tr>\n",
       "    <tr>\n",
       "      <th>2017-12-28 18:00:00</th>\n",
       "      <td>16560.00</td>\n",
       "      <td>62999.98</td>\n",
       "      <td>9744.67</td>\n",
       "      <td>20154.87</td>\n",
       "      <td>21081.250889</td>\n",
       "      <td>28841.898590</td>\n",
       "      <td>13320.603188</td>\n",
       "      <td>0.0</td>\n",
       "      <td>no_position</td>\n",
       "      <td>None</td>\n",
       "      <td>-0.009928</td>\n",
       "      <td>-0.000000</td>\n",
       "    </tr>\n",
       "    <tr>\n",
       "      <th>2017-12-29 00:00:00</th>\n",
       "      <td>20468.99</td>\n",
       "      <td>70001.05</td>\n",
       "      <td>9679.46</td>\n",
       "      <td>15298.98</td>\n",
       "      <td>21059.227556</td>\n",
       "      <td>28850.679174</td>\n",
       "      <td>13267.775937</td>\n",
       "      <td>0.0</td>\n",
       "      <td>no_position</td>\n",
       "      <td>None</td>\n",
       "      <td>-0.240929</td>\n",
       "      <td>-0.000000</td>\n",
       "    </tr>\n",
       "    <tr>\n",
       "      <th>2017-12-29 06:00:00</th>\n",
       "      <td>17280.17</td>\n",
       "      <td>69998.60</td>\n",
       "      <td>13859.05</td>\n",
       "      <td>20505.71</td>\n",
       "      <td>21015.068778</td>\n",
       "      <td>28787.725855</td>\n",
       "      <td>13242.411701</td>\n",
       "      <td>0.0</td>\n",
       "      <td>no_position</td>\n",
       "      <td>None</td>\n",
       "      <td>0.340332</td>\n",
       "      <td>0.000000</td>\n",
       "    </tr>\n",
       "    <tr>\n",
       "      <th>2017-12-29 12:00:00</th>\n",
       "      <td>14123.49</td>\n",
       "      <td>61496.08</td>\n",
       "      <td>10621.50</td>\n",
       "      <td>16224.74</td>\n",
       "      <td>20985.965556</td>\n",
       "      <td>28788.095954</td>\n",
       "      <td>13183.835157</td>\n",
       "      <td>0.0</td>\n",
       "      <td>no_position</td>\n",
       "      <td>None</td>\n",
       "      <td>-0.208770</td>\n",
       "      <td>-0.000000</td>\n",
       "    </tr>\n",
       "    <tr>\n",
       "      <th>2017-12-29 18:00:00</th>\n",
       "      <td>15975.46</td>\n",
       "      <td>58411.21</td>\n",
       "      <td>9679.46</td>\n",
       "      <td>21973.19</td>\n",
       "      <td>21047.473222</td>\n",
       "      <td>28817.044970</td>\n",
       "      <td>13277.901475</td>\n",
       "      <td>0.0</td>\n",
       "      <td>no_position</td>\n",
       "      <td>None</td>\n",
       "      <td>0.354302</td>\n",
       "      <td>0.000000</td>\n",
       "    </tr>\n",
       "    <tr>\n",
       "      <th>2017-12-30 00:00:00</th>\n",
       "      <td>24874.88</td>\n",
       "      <td>70001.62</td>\n",
       "      <td>12785.41</td>\n",
       "      <td>21061.23</td>\n",
       "      <td>21093.566889</td>\n",
       "      <td>28834.963767</td>\n",
       "      <td>13352.170011</td>\n",
       "      <td>0.0</td>\n",
       "      <td>no_position</td>\n",
       "      <td>None</td>\n",
       "      <td>-0.041503</td>\n",
       "      <td>-0.000000</td>\n",
       "    </tr>\n",
       "    <tr>\n",
       "      <th>2017-12-30 06:00:00</th>\n",
       "      <td>20382.04</td>\n",
       "      <td>100000.00</td>\n",
       "      <td>11508.27</td>\n",
       "      <td>20544.69</td>\n",
       "      <td>21080.055222</td>\n",
       "      <td>28821.190376</td>\n",
       "      <td>13338.920068</td>\n",
       "      <td>0.0</td>\n",
       "      <td>no_position</td>\n",
       "      <td>None</td>\n",
       "      <td>-0.024526</td>\n",
       "      <td>-0.000000</td>\n",
       "    </tr>\n",
       "    <tr>\n",
       "      <th>2017-12-30 12:00:00</th>\n",
       "      <td>20499.28</td>\n",
       "      <td>58290.68</td>\n",
       "      <td>11974.33</td>\n",
       "      <td>15917.60</td>\n",
       "      <td>20972.828111</td>\n",
       "      <td>28722.896811</td>\n",
       "      <td>13222.759411</td>\n",
       "      <td>0.0</td>\n",
       "      <td>no_position</td>\n",
       "      <td>None</td>\n",
       "      <td>-0.225221</td>\n",
       "      <td>-0.000000</td>\n",
       "    </tr>\n",
       "    <tr>\n",
       "      <th>2017-12-30 18:00:00</th>\n",
       "      <td>19424.01</td>\n",
       "      <td>100000.00</td>\n",
       "      <td>9000.85</td>\n",
       "      <td>19805.00</td>\n",
       "      <td>20883.105889</td>\n",
       "      <td>28556.019307</td>\n",
       "      <td>13210.192471</td>\n",
       "      <td>0.0</td>\n",
       "      <td>no_position</td>\n",
       "      <td>None</td>\n",
       "      <td>0.244220</td>\n",
       "      <td>0.000000</td>\n",
       "    </tr>\n",
       "    <tr>\n",
       "      <th>2017-12-31 00:00:00</th>\n",
       "      <td>14519.76</td>\n",
       "      <td>100000.00</td>\n",
       "      <td>11462.63</td>\n",
       "      <td>14100.00</td>\n",
       "      <td>20867.128111</td>\n",
       "      <td>28568.681699</td>\n",
       "      <td>13165.574524</td>\n",
       "      <td>0.0</td>\n",
       "      <td>no_position</td>\n",
       "      <td>None</td>\n",
       "      <td>-0.288059</td>\n",
       "      <td>-0.000000</td>\n",
       "    </tr>\n",
       "    <tr>\n",
       "      <th>2017-12-31 06:00:00</th>\n",
       "      <td>14333.50</td>\n",
       "      <td>100000.00</td>\n",
       "      <td>12283.38</td>\n",
       "      <td>17126.00</td>\n",
       "      <td>20858.528111</td>\n",
       "      <td>28568.587944</td>\n",
       "      <td>13148.468279</td>\n",
       "      <td>0.0</td>\n",
       "      <td>no_position</td>\n",
       "      <td>None</td>\n",
       "      <td>0.214610</td>\n",
       "      <td>0.000000</td>\n",
       "    </tr>\n",
       "    <tr>\n",
       "      <th>2017-12-31 12:00:00</th>\n",
       "      <td>39521.63</td>\n",
       "      <td>100000.00</td>\n",
       "      <td>10053.99</td>\n",
       "      <td>19678.38</td>\n",
       "      <td>20891.642889</td>\n",
       "      <td>28575.400813</td>\n",
       "      <td>13207.884964</td>\n",
       "      <td>0.0</td>\n",
       "      <td>no_position</td>\n",
       "      <td>None</td>\n",
       "      <td>0.149035</td>\n",
       "      <td>0.000000</td>\n",
       "    </tr>\n",
       "    <tr>\n",
       "      <th>2017-12-31 18:00:00</th>\n",
       "      <td>49721.56</td>\n",
       "      <td>62837.44</td>\n",
       "      <td>9250.86</td>\n",
       "      <td>38557.17</td>\n",
       "      <td>21136.569000</td>\n",
       "      <td>29279.575765</td>\n",
       "      <td>12993.562235</td>\n",
       "      <td>0.0</td>\n",
       "      <td>short</td>\n",
       "      <td>0</td>\n",
       "      <td>0.959367</td>\n",
       "      <td>0.000000</td>\n",
       "    </tr>\n",
       "    <tr>\n",
       "      <th>2018-01-01 00:00:00</th>\n",
       "      <td>23261.01</td>\n",
       "      <td>100000.00</td>\n",
       "      <td>9601.19</td>\n",
       "      <td>20253.16</td>\n",
       "      <td>21203.618222</td>\n",
       "      <td>29272.583749</td>\n",
       "      <td>13134.652695</td>\n",
       "      <td>-1.0</td>\n",
       "      <td>short</td>\n",
       "      <td>-1</td>\n",
       "      <td>-0.474724</td>\n",
       "      <td>0.474724</td>\n",
       "    </tr>\n",
       "    <tr>\n",
       "      <th>2018-01-01 06:00:00</th>\n",
       "      <td>21622.93</td>\n",
       "      <td>54455.55</td>\n",
       "      <td>12636.25</td>\n",
       "      <td>18947.50</td>\n",
       "      <td>21130.634889</td>\n",
       "      <td>29177.660867</td>\n",
       "      <td>13083.608911</td>\n",
       "      <td>-1.0</td>\n",
       "      <td>short</td>\n",
       "      <td>None</td>\n",
       "      <td>-0.064467</td>\n",
       "      <td>0.064467</td>\n",
       "    </tr>\n",
       "    <tr>\n",
       "      <th>2018-01-01 12:00:00</th>\n",
       "      <td>19121.23</td>\n",
       "      <td>54594.69</td>\n",
       "      <td>9404.40</td>\n",
       "      <td>45339.14</td>\n",
       "      <td>21402.918778</td>\n",
       "      <td>30313.565484</td>\n",
       "      <td>12492.272072</td>\n",
       "      <td>-1.0</td>\n",
       "      <td>short_to_no_position</td>\n",
       "      <td>-1</td>\n",
       "      <td>1.392882</td>\n",
       "      <td>-1.392882</td>\n",
       "    </tr>\n",
       "  </tbody>\n",
       "</table>\n",
       "</div>"
      ]
     },
     "metadata": {},
     "execution_count": 101
    }
   ],
   "metadata": {}
  },
  {
   "cell_type": "code",
   "execution_count": 61,
   "source": [
    "simulator.df['Mode'].value_counts()"
   ],
   "outputs": [
    {
     "output_type": "execute_result",
     "data": {
      "text/plain": [
       "no_position           683\n",
       "buy                    54\n",
       "buy_to_no_position      1\n",
       "Name: Mode, dtype: int64"
      ]
     },
     "metadata": {},
     "execution_count": 61
    }
   ],
   "metadata": {}
  },
  {
   "cell_type": "markdown",
   "source": [
    "# Brute force some configurations¶\n"
   ],
   "metadata": {}
  },
  {
   "cell_type": "code",
   "execution_count": 19,
   "source": [
    " # generate a linear space of value values for each parameter in the configuration\n",
    "# a take some random samples from them.\n",
    "# for example the first one creates a vector of 5 evenly spaced integer values ranging from 10 to 100\n",
    "windows = np.linspace(7, 90, 8, dtype=int)\n",
    "stds = np.linspace(1.5, 2, 2)\n",
    "periods = np.linspace(15 ,240, 6, dtype=int)"
   ],
   "outputs": [],
   "metadata": {}
  },
  {
   "cell_type": "code",
   "execution_count": 20,
   "source": [
    "# iterate through them, running the strategy function each time and collecting returns\n",
    "# (this might take some time)\n",
    "simulations = []\n",
    "result_df = pd.DataFrame({\n",
    "    'period': [], \n",
    "    'window': [],\n",
    "    'no_of_std': [],\n",
    "    'result': []\n",
    "})\n",
    "for window in windows:\n",
    "    for std in stds:\n",
    "        for period in periods:\n",
    "            simulator = BollingerBandsSimulator(\n",
    "                data, \n",
    "                from_date=\"2017-01-11\", \n",
    "                period=\"{}min\".format(period), \n",
    "                window=window, \n",
    "                no_of_std=std,\n",
    "                figsize=(14, 7)\n",
    "            )\n",
    "            period, window, no_of_std, result, total_trades = simulator.simulate()\n",
    "            result_df = result_df.append({\n",
    "                'period': period, \n",
    "                'window': window, \n",
    "                'no_of_std': no_of_std, \n",
    "                'result': result,\n",
    "                'total_trades': total_trades\n",
    "            }, ignore_index=True)\n",
    "            simulations.append(simulator)"
   ],
   "outputs": [
    {
     "output_type": "display_data",
     "data": {
      "text/plain": [
       "<Figure size 1008x504 with 1 Axes>"
      ],
      "image/png": "[encoded data removed]"
     },
     "metadata": {
      "needs_background": "light"
     }
    }
   ],
   "metadata": {}
  },
  {
   "cell_type": "code",
   "execution_count": 23,
   "source": [
    "result_df.sort_values(by='result').tail(15) # Hours results in 1-2 trades. Test minutes"
   ],
   "outputs": [
    {
     "output_type": "execute_result",
     "data": {
      "text/plain": [
       "    period  window  no_of_std  result  total_trades\n",
       "37   60min    42.0        1.5     0.0           0.0\n",
       "36   15min    42.0        1.5     0.0           0.0\n",
       "35  240min    30.0        2.0     0.0           0.0\n",
       "34  195min    30.0        2.0     0.0           0.0\n",
       "33  150min    30.0        2.0     0.0           0.0\n",
       "32  105min    30.0        2.0     0.0           0.0\n",
       "31   60min    30.0        2.0     0.0           0.0\n",
       "30   15min    30.0        2.0     0.0           0.0\n",
       "29  240min    30.0        1.5     0.0           0.0\n",
       "28  195min    30.0        1.5     0.0           0.0\n",
       "27  150min    30.0        1.5     0.0           0.0\n",
       "26  105min    30.0        1.5     0.0           0.0\n",
       "25   60min    30.0        1.5     0.0           0.0\n",
       "94  195min    90.0        2.0     0.0           0.0\n",
       "95  240min    90.0        2.0     0.0           0.0"
      ],
      "text/html": [
       "<div>\n",
       "<style scoped>\n",
       "    .dataframe tbody tr th:only-of-type {\n",
       "        vertical-align: middle;\n",
       "    }\n",
       "\n",
       "    .dataframe tbody tr th {\n",
       "        vertical-align: top;\n",
       "    }\n",
       "\n",
       "    .dataframe thead th {\n",
       "        text-align: right;\n",
       "    }\n",
       "</style>\n",
       "<table border=\"1\" class=\"dataframe\">\n",
       "  <thead>\n",
       "    <tr style=\"text-align: right;\">\n",
       "      <th></th>\n",
       "      <th>period</th>\n",
       "      <th>window</th>\n",
       "      <th>no_of_std</th>\n",
       "      <th>result</th>\n",
       "      <th>total_trades</th>\n",
       "    </tr>\n",
       "  </thead>\n",
       "  <tbody>\n",
       "    <tr>\n",
       "      <th>37</th>\n",
       "      <td>60min</td>\n",
       "      <td>42.0</td>\n",
       "      <td>1.5</td>\n",
       "      <td>0.0</td>\n",
       "      <td>0.0</td>\n",
       "    </tr>\n",
       "    <tr>\n",
       "      <th>36</th>\n",
       "      <td>15min</td>\n",
       "      <td>42.0</td>\n",
       "      <td>1.5</td>\n",
       "      <td>0.0</td>\n",
       "      <td>0.0</td>\n",
       "    </tr>\n",
       "    <tr>\n",
       "      <th>35</th>\n",
       "      <td>240min</td>\n",
       "      <td>30.0</td>\n",
       "      <td>2.0</td>\n",
       "      <td>0.0</td>\n",
       "      <td>0.0</td>\n",
       "    </tr>\n",
       "    <tr>\n",
       "      <th>34</th>\n",
       "      <td>195min</td>\n",
       "      <td>30.0</td>\n",
       "      <td>2.0</td>\n",
       "      <td>0.0</td>\n",
       "      <td>0.0</td>\n",
       "    </tr>\n",
       "    <tr>\n",
       "      <th>33</th>\n",
       "      <td>150min</td>\n",
       "      <td>30.0</td>\n",
       "      <td>2.0</td>\n",
       "      <td>0.0</td>\n",
       "      <td>0.0</td>\n",
       "    </tr>\n",
       "    <tr>\n",
       "      <th>32</th>\n",
       "      <td>105min</td>\n",
       "      <td>30.0</td>\n",
       "      <td>2.0</td>\n",
       "      <td>0.0</td>\n",
       "      <td>0.0</td>\n",
       "    </tr>\n",
       "    <tr>\n",
       "      <th>31</th>\n",
       "      <td>60min</td>\n",
       "      <td>30.0</td>\n",
       "      <td>2.0</td>\n",
       "      <td>0.0</td>\n",
       "      <td>0.0</td>\n",
       "    </tr>\n",
       "    <tr>\n",
       "      <th>30</th>\n",
       "      <td>15min</td>\n",
       "      <td>30.0</td>\n",
       "      <td>2.0</td>\n",
       "      <td>0.0</td>\n",
       "      <td>0.0</td>\n",
       "    </tr>\n",
       "    <tr>\n",
       "      <th>29</th>\n",
       "      <td>240min</td>\n",
       "      <td>30.0</td>\n",
       "      <td>1.5</td>\n",
       "      <td>0.0</td>\n",
       "      <td>0.0</td>\n",
       "    </tr>\n",
       "    <tr>\n",
       "      <th>28</th>\n",
       "      <td>195min</td>\n",
       "      <td>30.0</td>\n",
       "      <td>1.5</td>\n",
       "      <td>0.0</td>\n",
       "      <td>0.0</td>\n",
       "    </tr>\n",
       "    <tr>\n",
       "      <th>27</th>\n",
       "      <td>150min</td>\n",
       "      <td>30.0</td>\n",
       "      <td>1.5</td>\n",
       "      <td>0.0</td>\n",
       "      <td>0.0</td>\n",
       "    </tr>\n",
       "    <tr>\n",
       "      <th>26</th>\n",
       "      <td>105min</td>\n",
       "      <td>30.0</td>\n",
       "      <td>1.5</td>\n",
       "      <td>0.0</td>\n",
       "      <td>0.0</td>\n",
       "    </tr>\n",
       "    <tr>\n",
       "      <th>25</th>\n",
       "      <td>60min</td>\n",
       "      <td>30.0</td>\n",
       "      <td>1.5</td>\n",
       "      <td>0.0</td>\n",
       "      <td>0.0</td>\n",
       "    </tr>\n",
       "    <tr>\n",
       "      <th>94</th>\n",
       "      <td>195min</td>\n",
       "      <td>90.0</td>\n",
       "      <td>2.0</td>\n",
       "      <td>0.0</td>\n",
       "      <td>0.0</td>\n",
       "    </tr>\n",
       "    <tr>\n",
       "      <th>95</th>\n",
       "      <td>240min</td>\n",
       "      <td>90.0</td>\n",
       "      <td>2.0</td>\n",
       "      <td>0.0</td>\n",
       "      <td>0.0</td>\n",
       "    </tr>\n",
       "  </tbody>\n",
       "</table>\n",
       "</div>"
      ]
     },
     "metadata": {},
     "execution_count": 23
    }
   ],
   "metadata": {}
  },
  {
   "cell_type": "code",
   "execution_count": 22,
   "source": [
    "result_df.sort_values(by='result').tail(15).mean()"
   ],
   "outputs": [
    {
     "output_type": "stream",
     "name": "stderr",
     "text": [
      "/var/folders/0r/jkhwtgvx0wb9vrk6xn4bmz2m0000gn/T/ipykernel_85509/3784085997.py:1: FutureWarning: Dropping of nuisance columns in DataFrame reductions (with 'numeric_only=None') is deprecated; in a future version this will raise TypeError.  Select only valid columns before calling the reduction.\n",
      "  result_df.sort_values(by='result').tail(15).mean()\n"
     ]
    },
    {
     "output_type": "execute_result",
     "data": {
      "text/plain": [
       "window          39.600000\n",
       "no_of_std        1.766667\n",
       "result           0.000000\n",
       "total_trades     0.000000\n",
       "dtype: float64"
      ]
     },
     "metadata": {},
     "execution_count": 22
    }
   ],
   "metadata": {}
  },
  {
   "cell_type": "code",
   "execution_count": null,
   "source": [
    "WINNING_STRATEGY_INDEX = 30"
   ],
   "outputs": [],
   "metadata": {}
  },
  {
   "cell_type": "markdown",
   "source": [
    "### Look at the trading pattern for a winning strategy"
   ],
   "metadata": {}
  },
  {
   "cell_type": "code",
   "execution_count": null,
   "source": [
    "simulations[WINNING_STRATEGY_INDEX].df['Strategy Return'].cumsum()"
   ],
   "outputs": [
    {
     "output_type": "execute_result",
     "data": {
      "text/plain": [
       "datetime\n",
       "2018-01-11 00:00:00         NaN\n",
       "2018-01-11 06:40:00         NaN\n",
       "2018-01-11 13:20:00         NaN\n",
       "2018-01-11 20:00:00         NaN\n",
       "2018-01-12 02:40:00         NaN\n",
       "                         ...   \n",
       "2019-01-07 02:40:00    2.798846\n",
       "2019-01-07 09:20:00    3.080088\n",
       "2019-01-07 16:00:00    3.041177\n",
       "2019-01-07 22:40:00    3.071222\n",
       "2019-01-08 05:20:00    3.091579\n",
       "Freq: 400T, Name: Strategy Return, Length: 1305, dtype: float64"
      ]
     },
     "metadata": {},
     "execution_count": 220
    }
   ],
   "metadata": {}
  },
  {
   "cell_type": "code",
   "execution_count": null,
   "source": [
    "simulations[WINNING_STRATEGY_INDEX].df['Strategy Return'].cumsum().plot()\n",
    "simulations[WINNING_STRATEGY_INDEX].df['Position'].plot()"
   ],
   "outputs": [
    {
     "output_type": "execute_result",
     "data": {
      "text/plain": [
       "<AxesSubplot:xlabel='datetime'>"
      ]
     },
     "metadata": {},
     "execution_count": 221
    },
    {
     "output_type": "display_data",
     "data": {
      "text/plain": [
       "<Figure size 432x288 with 1 Axes>"
      ],
      "image/png": "[encoded data removed]"
     },
     "metadata": {
      "needs_background": "light"
     }
    }
   ],
   "metadata": {}
  },
  {
   "cell_type": "code",
   "execution_count": 162,
   "source": [
    "simulations[WINNING_STRATEGY_INDEX].df['Number of Trades'].plot()"
   ],
   "outputs": [
    {
     "output_type": "execute_result",
     "data": {
      "text/plain": [
       "<AxesSubplot:xlabel='datetime'>"
      ]
     },
     "metadata": {},
     "execution_count": 162
    },
    {
     "output_type": "display_data",
     "data": {
      "text/plain": [
       "<Figure size 432x288 with 1 Axes>"
      ],
      "image/png": "[encoded data removed]"
     },
     "metadata": {
      "needs_background": "light"
     }
    }
   ],
   "metadata": {}
  },
  {
   "cell_type": "code",
   "execution_count": null,
   "source": [],
   "outputs": [],
   "metadata": {}
  }
 ],
 "metadata": {
  "interpreter": {
   "hash": "6fd7458b43c11d676403a17660633b3c3775926a65d35799b38befe9ce2bd9e4"
  },
  "kernelspec": {
   "name": "python3",
   "display_name": "Python 3.8.0 64-bit ('go-trader-aTWd7ZB6-py3.8': poetry)"
  },
  "language_info": {
   "name": "python",
   "version": "3.8.0",
   "mimetype": "text/x-python",
   "codemirror_mode": {
    "name": "ipython",
    "version": 3
   },
   "pygments_lexer": "ipython3",
   "nbconvert_exporter": "python",
   "file_extension": ".py"
  },
  "orig_nbformat": 4
 },
 "nbformat": 4,
 "nbformat_minor": 2
}