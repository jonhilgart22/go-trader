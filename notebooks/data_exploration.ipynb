{
 "cells": [
  {
   "cell_type": "code",
   "execution_count": 1,
   "metadata": {},
   "outputs": [
    {
     "name": "stderr",
     "output_type": "stream",
     "text": [
      "Importing plotly failed. Interactive plots will not work.\n"
     ]
    },
    {
     "name": "stdout",
     "output_type": "stream",
     "text": [
      "Populating the interactive namespace from numpy and matplotlib\n"
     ]
    }
   ],
   "source": [
    "import time\n",
    "from datetime import datetime\n",
    "from tqdm.keras import TqdmCallback\n",
    "import numpy as np\n",
    "import pandas as pd\n",
    "import matplotlib.pyplot as plt\n",
    "\n",
    "\n",
    "from sklearn.preprocessing import MinMaxScaler\n",
    "from tensorflow.keras.models import Sequential, load_model\n",
    "from tensorflow.keras.layers import LSTM, Dense, Dropout\n",
    "\n",
    "import torch\n",
    "import torch.nn as nn\n",
    "import torch.optim as optim\n",
    "import numpy as np\n",
    "import pandas as pd\n",
    "import shutil\n",
    "from sklearn.preprocessing import MinMaxScaler\n",
    "from tqdm import tqdm_notebook as tqdm\n",
    "\n",
    "import matplotlib.pyplot as plt\n",
    "\n",
    "from darts import TimeSeries\n",
    "from darts.dataprocessing.transformers import Scaler\n",
    "from darts.models import RNNModel, TCNModel, TransformerModel, NBEATSModel, BlockRNNModel\n",
    "from darts.utils.missing_values import fill_missing_values\n",
    "\n",
    "from darts.metrics import mape, mse\n",
    "from darts.utils.statistics import check_seasonality, plot_acf\n",
    "from darts.datasets import AirPassengersDataset, SunspotsDataset\n",
    "from darts.utils.timeseries_generation import datetime_attribute_timeseries\n",
    "\n",
    "from math import sqrt\n",
    "\n",
    "import warnings\n",
    "warnings.filterwarnings(\"ignore\")\n",
    "import logging\n",
    "logging.disable(logging.CRITICAL)\n",
    "\n",
    "%pylab inline"
   ]
  },
  {
   "cell_type": "markdown",
   "metadata": {},
   "source": [
    "# Read in data"
   ]
  },
  {
   "cell_type": "markdown",
   "metadata": {},
   "source": [
    "#\n",
    "- https://blog.rmotr.com/bitcoin-trading-with-python-bollinger-bands-strategy-analysis-b1a223385a89"
   ]
  },
  {
   "cell_type": "code",
   "execution_count": null,
   "metadata": {},
   "outputs": [],
   "source": []
  },
  {
   "cell_type": "code",
   "execution_count": 2,
   "metadata": {},
   "outputs": [],
   "source": [
    "data = pd.read_csv(\"../data/localbtcUSD.csv\", names=[\"datetime\", \"price\", \"volume\"],\n",
    "    index_col=0,\n",
    "    parse_dates=True)"
   ]
  },
  {
   "cell_type": "code",
   "execution_count": 3,
   "metadata": {},
   "outputs": [
    {
     "name": "stdout",
     "output_type": "stream",
     "text": [
      "<class 'pandas.core.frame.DataFrame'>\n",
      "Int64Index: 3977580 entries, 1363046255 to 1546938874\n",
      "Data columns (total 2 columns):\n",
      " #   Column  Dtype  \n",
      "---  ------  -----  \n",
      " 0   price   float64\n",
      " 1   volume  float64\n",
      "dtypes: float64(2)\n",
      "memory usage: 91.0 MB\n"
     ]
    }
   ],
   "source": [
    "data.info()\n"
   ]
  },
  {
   "cell_type": "code",
   "execution_count": 4,
   "metadata": {},
   "outputs": [],
   "source": [
    "data.index = pd.to_datetime(data.index, unit='s')"
   ]
  },
  {
   "cell_type": "code",
   "execution_count": 5,
   "metadata": {},
   "outputs": [
    {
     "data": {
      "text/html": [
       "<div>\n",
       "<style scoped>\n",
       "    .dataframe tbody tr th:only-of-type {\n",
       "        vertical-align: middle;\n",
       "    }\n",
       "\n",
       "    .dataframe tbody tr th {\n",
       "        vertical-align: top;\n",
       "    }\n",
       "\n",
       "    .dataframe thead th {\n",
       "        text-align: right;\n",
       "    }\n",
       "</style>\n",
       "<table border=\"1\" class=\"dataframe\">\n",
       "  <thead>\n",
       "    <tr style=\"text-align: right;\">\n",
       "      <th></th>\n",
       "      <th>price</th>\n",
       "      <th>volume</th>\n",
       "    </tr>\n",
       "    <tr>\n",
       "      <th>datetime</th>\n",
       "      <th></th>\n",
       "      <th></th>\n",
       "    </tr>\n",
       "  </thead>\n",
       "  <tbody>\n",
       "    <tr>\n",
       "      <th>2013-03-11 23:57:35</th>\n",
       "      <td>72.00</td>\n",
       "      <td>4.9999</td>\n",
       "    </tr>\n",
       "    <tr>\n",
       "      <th>2013-03-12 19:36:32</th>\n",
       "      <td>67.79</td>\n",
       "      <td>1.9999</td>\n",
       "    </tr>\n",
       "    <tr>\n",
       "      <th>2013-03-13 12:27:52</th>\n",
       "      <td>52.21</td>\n",
       "      <td>14.7684</td>\n",
       "    </tr>\n",
       "    <tr>\n",
       "      <th>2013-03-13 17:06:01</th>\n",
       "      <td>56.29</td>\n",
       "      <td>0.6401</td>\n",
       "    </tr>\n",
       "    <tr>\n",
       "      <th>2013-03-13 18:01:20</th>\n",
       "      <td>40.00</td>\n",
       "      <td>1.7500</td>\n",
       "    </tr>\n",
       "  </tbody>\n",
       "</table>\n",
       "</div>"
      ],
      "text/plain": [
       "                     price   volume\n",
       "datetime                           \n",
       "2013-03-11 23:57:35  72.00   4.9999\n",
       "2013-03-12 19:36:32  67.79   1.9999\n",
       "2013-03-13 12:27:52  52.21  14.7684\n",
       "2013-03-13 17:06:01  56.29   0.6401\n",
       "2013-03-13 18:01:20  40.00   1.7500"
      ]
     },
     "execution_count": 5,
     "metadata": {},
     "output_type": "execute_result"
    }
   ],
   "source": [
    "data.head()"
   ]
  },
  {
   "cell_type": "code",
   "execution_count": 6,
   "metadata": {},
   "outputs": [
    {
     "data": {
      "text/html": [
       "<div>\n",
       "<style scoped>\n",
       "    .dataframe tbody tr th:only-of-type {\n",
       "        vertical-align: middle;\n",
       "    }\n",
       "\n",
       "    .dataframe tbody tr th {\n",
       "        vertical-align: top;\n",
       "    }\n",
       "\n",
       "    .dataframe thead th {\n",
       "        text-align: right;\n",
       "    }\n",
       "</style>\n",
       "<table border=\"1\" class=\"dataframe\">\n",
       "  <thead>\n",
       "    <tr style=\"text-align: right;\">\n",
       "      <th></th>\n",
       "      <th>price</th>\n",
       "      <th>volume</th>\n",
       "    </tr>\n",
       "    <tr>\n",
       "      <th>datetime</th>\n",
       "      <th></th>\n",
       "      <th></th>\n",
       "    </tr>\n",
       "  </thead>\n",
       "  <tbody>\n",
       "    <tr>\n",
       "      <th>2019-01-08 09:11:30</th>\n",
       "      <td>4057.75</td>\n",
       "      <td>0.024644</td>\n",
       "    </tr>\n",
       "    <tr>\n",
       "      <th>2019-01-08 09:12:14</th>\n",
       "      <td>6002.25</td>\n",
       "      <td>0.031655</td>\n",
       "    </tr>\n",
       "    <tr>\n",
       "      <th>2019-01-08 09:13:12</th>\n",
       "      <td>4293.61</td>\n",
       "      <td>0.132988</td>\n",
       "    </tr>\n",
       "    <tr>\n",
       "      <th>2019-01-08 09:13:44</th>\n",
       "      <td>4517.69</td>\n",
       "      <td>0.006641</td>\n",
       "    </tr>\n",
       "    <tr>\n",
       "      <th>2019-01-08 09:14:34</th>\n",
       "      <td>4170.85</td>\n",
       "      <td>0.235444</td>\n",
       "    </tr>\n",
       "  </tbody>\n",
       "</table>\n",
       "</div>"
      ],
      "text/plain": [
       "                       price    volume\n",
       "datetime                              \n",
       "2019-01-08 09:11:30  4057.75  0.024644\n",
       "2019-01-08 09:12:14  6002.25  0.031655\n",
       "2019-01-08 09:13:12  4293.61  0.132988\n",
       "2019-01-08 09:13:44  4517.69  0.006641\n",
       "2019-01-08 09:14:34  4170.85  0.235444"
      ]
     },
     "execution_count": 6,
     "metadata": {},
     "output_type": "execute_result"
    }
   ],
   "source": [
    "data.tail()"
   ]
  },
  {
   "cell_type": "code",
   "execution_count": 7,
   "metadata": {},
   "outputs": [],
   "source": [
    "price_df = data.price.resample(\"D\").ohlc()"
   ]
  },
  {
   "cell_type": "markdown",
   "metadata": {},
   "source": [
    "### Candles"
   ]
  },
  {
   "cell_type": "code",
   "execution_count": 8,
   "metadata": {},
   "outputs": [
    {
     "data": {
      "text/html": [
       "<div>\n",
       "<style scoped>\n",
       "    .dataframe tbody tr th:only-of-type {\n",
       "        vertical-align: middle;\n",
       "    }\n",
       "\n",
       "    .dataframe tbody tr th {\n",
       "        vertical-align: top;\n",
       "    }\n",
       "\n",
       "    .dataframe thead th {\n",
       "        text-align: right;\n",
       "    }\n",
       "</style>\n",
       "<table border=\"1\" class=\"dataframe\">\n",
       "  <thead>\n",
       "    <tr style=\"text-align: right;\">\n",
       "      <th></th>\n",
       "      <th>open</th>\n",
       "      <th>high</th>\n",
       "      <th>low</th>\n",
       "      <th>close</th>\n",
       "    </tr>\n",
       "    <tr>\n",
       "      <th>datetime</th>\n",
       "      <th></th>\n",
       "      <th></th>\n",
       "      <th></th>\n",
       "      <th></th>\n",
       "    </tr>\n",
       "  </thead>\n",
       "  <tbody>\n",
       "    <tr>\n",
       "      <th>2013-03-11</th>\n",
       "      <td>72.00</td>\n",
       "      <td>72.00</td>\n",
       "      <td>72.00</td>\n",
       "      <td>72.00</td>\n",
       "    </tr>\n",
       "    <tr>\n",
       "      <th>2013-03-12</th>\n",
       "      <td>67.79</td>\n",
       "      <td>67.79</td>\n",
       "      <td>67.79</td>\n",
       "      <td>67.79</td>\n",
       "    </tr>\n",
       "    <tr>\n",
       "      <th>2013-03-13</th>\n",
       "      <td>52.21</td>\n",
       "      <td>56.29</td>\n",
       "      <td>40.00</td>\n",
       "      <td>40.00</td>\n",
       "    </tr>\n",
       "    <tr>\n",
       "      <th>2013-03-14</th>\n",
       "      <td>70.30</td>\n",
       "      <td>70.30</td>\n",
       "      <td>50.35</td>\n",
       "      <td>50.35</td>\n",
       "    </tr>\n",
       "    <tr>\n",
       "      <th>2013-03-15</th>\n",
       "      <td>49.52</td>\n",
       "      <td>70.96</td>\n",
       "      <td>47.75</td>\n",
       "      <td>48.41</td>\n",
       "    </tr>\n",
       "  </tbody>\n",
       "</table>\n",
       "</div>"
      ],
      "text/plain": [
       "             open   high    low  close\n",
       "datetime                              \n",
       "2013-03-11  72.00  72.00  72.00  72.00\n",
       "2013-03-12  67.79  67.79  67.79  67.79\n",
       "2013-03-13  52.21  56.29  40.00  40.00\n",
       "2013-03-14  70.30  70.30  50.35  50.35\n",
       "2013-03-15  49.52  70.96  47.75  48.41"
      ]
     },
     "execution_count": 8,
     "metadata": {},
     "output_type": "execute_result"
    }
   ],
   "source": [
    "price_df.head()"
   ]
  },
  {
   "cell_type": "markdown",
   "metadata": {},
   "source": [
    "## Calculate Bollinger Bands"
   ]
  },
  {
   "cell_type": "code",
   "execution_count": 9,
   "metadata": {},
   "outputs": [],
   "source": [
    "# set number of days and standard deviations to use for rolling \n",
    "# lookback period for Bollinger band calculation\n",
    "window = 60\n",
    "no_of_std = 1.5\n",
    "\n",
    "# calculate rolling mean and standard deviation\n",
    "rolling_mean = price_df['close'].rolling(window).mean()\n",
    "rolling_std = price_df['close'].rolling(window).std()\n",
    "\n",
    "# create two new DataFrame columns to hold values of upper and lower Bollinger bands\n",
    "price_df['Rolling Mean'] = rolling_mean\n",
    "price_df['Bollinger High'] = rolling_mean + (rolling_std * no_of_std)\n",
    "price_df['Bollinger Low'] = rolling_mean - (rolling_std * no_of_std)"
   ]
  },
  {
   "cell_type": "code",
   "execution_count": 10,
   "metadata": {},
   "outputs": [],
   "source": [
    "price_df.dropna(inplace=True)"
   ]
  },
  {
   "cell_type": "code",
   "execution_count": 11,
   "metadata": {},
   "outputs": [
    {
     "data": {
      "text/html": [
       "<div>\n",
       "<style scoped>\n",
       "    .dataframe tbody tr th:only-of-type {\n",
       "        vertical-align: middle;\n",
       "    }\n",
       "\n",
       "    .dataframe tbody tr th {\n",
       "        vertical-align: top;\n",
       "    }\n",
       "\n",
       "    .dataframe thead th {\n",
       "        text-align: right;\n",
       "    }\n",
       "</style>\n",
       "<table border=\"1\" class=\"dataframe\">\n",
       "  <thead>\n",
       "    <tr style=\"text-align: right;\">\n",
       "      <th></th>\n",
       "      <th>open</th>\n",
       "      <th>high</th>\n",
       "      <th>low</th>\n",
       "      <th>close</th>\n",
       "      <th>Rolling Mean</th>\n",
       "      <th>Bollinger High</th>\n",
       "      <th>Bollinger Low</th>\n",
       "    </tr>\n",
       "    <tr>\n",
       "      <th>datetime</th>\n",
       "      <th></th>\n",
       "      <th></th>\n",
       "      <th></th>\n",
       "      <th></th>\n",
       "      <th></th>\n",
       "      <th></th>\n",
       "      <th></th>\n",
       "    </tr>\n",
       "  </thead>\n",
       "  <tbody>\n",
       "    <tr>\n",
       "      <th>2013-05-09</th>\n",
       "      <td>167.81</td>\n",
       "      <td>171.78</td>\n",
       "      <td>114.91</td>\n",
       "      <td>134.40</td>\n",
       "      <td>117.568167</td>\n",
       "      <td>185.480878</td>\n",
       "      <td>49.655456</td>\n",
       "    </tr>\n",
       "    <tr>\n",
       "      <th>2013-05-10</th>\n",
       "      <td>89.58</td>\n",
       "      <td>137.14</td>\n",
       "      <td>89.58</td>\n",
       "      <td>122.25</td>\n",
       "      <td>118.405667</td>\n",
       "      <td>185.727137</td>\n",
       "      <td>51.084196</td>\n",
       "    </tr>\n",
       "    <tr>\n",
       "      <th>2013-05-11</th>\n",
       "      <td>177.86</td>\n",
       "      <td>179.36</td>\n",
       "      <td>125.28</td>\n",
       "      <td>132.60</td>\n",
       "      <td>119.485833</td>\n",
       "      <td>186.115353</td>\n",
       "      <td>52.856314</td>\n",
       "    </tr>\n",
       "    <tr>\n",
       "      <th>2013-05-12</th>\n",
       "      <td>175.89</td>\n",
       "      <td>175.89</td>\n",
       "      <td>108.78</td>\n",
       "      <td>137.95</td>\n",
       "      <td>121.118333</td>\n",
       "      <td>185.967818</td>\n",
       "      <td>56.268849</td>\n",
       "    </tr>\n",
       "    <tr>\n",
       "      <th>2013-05-13</th>\n",
       "      <td>119.26</td>\n",
       "      <td>178.14</td>\n",
       "      <td>57.25</td>\n",
       "      <td>139.44</td>\n",
       "      <td>122.603167</td>\n",
       "      <td>186.024168</td>\n",
       "      <td>59.182166</td>\n",
       "    </tr>\n",
       "    <tr>\n",
       "      <th>...</th>\n",
       "      <td>...</td>\n",
       "      <td>...</td>\n",
       "      <td>...</td>\n",
       "      <td>...</td>\n",
       "      <td>...</td>\n",
       "      <td>...</td>\n",
       "      <td>...</td>\n",
       "    </tr>\n",
       "    <tr>\n",
       "      <th>2019-01-04</th>\n",
       "      <td>4160.00</td>\n",
       "      <td>17765.86</td>\n",
       "      <td>3039.91</td>\n",
       "      <td>4253.74</td>\n",
       "      <td>5215.888833</td>\n",
       "      <td>7754.694356</td>\n",
       "      <td>2677.083311</td>\n",
       "    </tr>\n",
       "    <tr>\n",
       "      <th>2019-01-05</th>\n",
       "      <td>4193.63</td>\n",
       "      <td>49922.62</td>\n",
       "      <td>3103.20</td>\n",
       "      <td>5656.52</td>\n",
       "      <td>5138.482667</td>\n",
       "      <td>7473.680047</td>\n",
       "      <td>2803.285286</td>\n",
       "    </tr>\n",
       "    <tr>\n",
       "      <th>2019-01-06</th>\n",
       "      <td>5060.00</td>\n",
       "      <td>45000.45</td>\n",
       "      <td>3230.35</td>\n",
       "      <td>6065.13</td>\n",
       "      <td>5135.433000</td>\n",
       "      <td>7467.581429</td>\n",
       "      <td>2803.284571</td>\n",
       "    </tr>\n",
       "    <tr>\n",
       "      <th>2019-01-07</th>\n",
       "      <td>4400.00</td>\n",
       "      <td>29961.20</td>\n",
       "      <td>3033.37</td>\n",
       "      <td>7982.54</td>\n",
       "      <td>5027.694333</td>\n",
       "      <td>6581.729868</td>\n",
       "      <td>3473.658799</td>\n",
       "    </tr>\n",
       "    <tr>\n",
       "      <th>2019-01-08</th>\n",
       "      <td>4800.00</td>\n",
       "      <td>8957.02</td>\n",
       "      <td>3383.77</td>\n",
       "      <td>4170.85</td>\n",
       "      <td>4987.658333</td>\n",
       "      <td>6520.071297</td>\n",
       "      <td>3455.245370</td>\n",
       "    </tr>\n",
       "  </tbody>\n",
       "</table>\n",
       "<p>2011 rows × 7 columns</p>\n",
       "</div>"
      ],
      "text/plain": [
       "               open      high      low    close  Rolling Mean  Bollinger High  \\\n",
       "datetime                                                                        \n",
       "2013-05-09   167.81    171.78   114.91   134.40    117.568167      185.480878   \n",
       "2013-05-10    89.58    137.14    89.58   122.25    118.405667      185.727137   \n",
       "2013-05-11   177.86    179.36   125.28   132.60    119.485833      186.115353   \n",
       "2013-05-12   175.89    175.89   108.78   137.95    121.118333      185.967818   \n",
       "2013-05-13   119.26    178.14    57.25   139.44    122.603167      186.024168   \n",
       "...             ...       ...      ...      ...           ...             ...   \n",
       "2019-01-04  4160.00  17765.86  3039.91  4253.74   5215.888833     7754.694356   \n",
       "2019-01-05  4193.63  49922.62  3103.20  5656.52   5138.482667     7473.680047   \n",
       "2019-01-06  5060.00  45000.45  3230.35  6065.13   5135.433000     7467.581429   \n",
       "2019-01-07  4400.00  29961.20  3033.37  7982.54   5027.694333     6581.729868   \n",
       "2019-01-08  4800.00   8957.02  3383.77  4170.85   4987.658333     6520.071297   \n",
       "\n",
       "            Bollinger Low  \n",
       "datetime                   \n",
       "2013-05-09      49.655456  \n",
       "2013-05-10      51.084196  \n",
       "2013-05-11      52.856314  \n",
       "2013-05-12      56.268849  \n",
       "2013-05-13      59.182166  \n",
       "...                   ...  \n",
       "2019-01-04    2677.083311  \n",
       "2019-01-05    2803.285286  \n",
       "2019-01-06    2803.284571  \n",
       "2019-01-07    3473.658799  \n",
       "2019-01-08    3455.245370  \n",
       "\n",
       "[2011 rows x 7 columns]"
      ]
     },
     "execution_count": 11,
     "metadata": {},
     "output_type": "execute_result"
    }
   ],
   "source": [
    "price_df"
   ]
  },
  {
   "cell_type": "code",
   "execution_count": 12,
   "metadata": {},
   "outputs": [
    {
     "name": "stdout",
     "output_type": "stream",
     "text": [
      "<class 'pandas.core.frame.DataFrame'>\n",
      "DatetimeIndex: 2011 entries, 2013-05-09 to 2019-01-08\n",
      "Data columns (total 7 columns):\n",
      " #   Column          Non-Null Count  Dtype  \n",
      "---  ------          --------------  -----  \n",
      " 0   open            2011 non-null   float64\n",
      " 1   high            2011 non-null   float64\n",
      " 2   low             2011 non-null   float64\n",
      " 3   close           2011 non-null   float64\n",
      " 4   Rolling Mean    2011 non-null   float64\n",
      " 5   Bollinger High  2011 non-null   float64\n",
      " 6   Bollinger Low   2011 non-null   float64\n",
      "dtypes: float64(7)\n",
      "memory usage: 125.7 KB\n"
     ]
    }
   ],
   "source": [
    "price_df.info()"
   ]
  },
  {
   "cell_type": "code",
   "execution_count": 13,
   "metadata": {},
   "outputs": [
    {
     "data": {
      "text/plain": [
       "<AxesSubplot:xlabel='datetime'>"
      ]
     },
     "execution_count": 13,
     "metadata": {},
     "output_type": "execute_result"
    },
    {
     "data": {
      "image/png": "[encoded data removed]",
      "text/plain": [
       "<Figure size 432x288 with 1 Axes>"
      ]
     },
     "metadata": {
      "needs_background": "light"
     },
     "output_type": "display_data"
    }
   ],
   "source": [
    "price_df[['close','Bollinger High','Bollinger Low']].plot()\n"
   ]
  },
  {
   "cell_type": "code",
   "execution_count": 14,
   "metadata": {},
   "outputs": [
    {
     "data": {
      "text/html": [
       "<div>\n",
       "<style scoped>\n",
       "    .dataframe tbody tr th:only-of-type {\n",
       "        vertical-align: middle;\n",
       "    }\n",
       "\n",
       "    .dataframe tbody tr th {\n",
       "        vertical-align: top;\n",
       "    }\n",
       "\n",
       "    .dataframe thead th {\n",
       "        text-align: right;\n",
       "    }\n",
       "</style>\n",
       "<table border=\"1\" class=\"dataframe\">\n",
       "  <thead>\n",
       "    <tr style=\"text-align: right;\">\n",
       "      <th></th>\n",
       "      <th>open</th>\n",
       "      <th>high</th>\n",
       "      <th>low</th>\n",
       "      <th>close</th>\n",
       "      <th>Rolling Mean</th>\n",
       "      <th>Bollinger High</th>\n",
       "      <th>Bollinger Low</th>\n",
       "    </tr>\n",
       "    <tr>\n",
       "      <th>datetime</th>\n",
       "      <th></th>\n",
       "      <th></th>\n",
       "      <th></th>\n",
       "      <th></th>\n",
       "      <th></th>\n",
       "      <th></th>\n",
       "      <th></th>\n",
       "    </tr>\n",
       "  </thead>\n",
       "  <tbody>\n",
       "    <tr>\n",
       "      <th>2013-05-09</th>\n",
       "      <td>167.81</td>\n",
       "      <td>171.78</td>\n",
       "      <td>114.91</td>\n",
       "      <td>134.40</td>\n",
       "      <td>117.568167</td>\n",
       "      <td>185.480878</td>\n",
       "      <td>49.655456</td>\n",
       "    </tr>\n",
       "    <tr>\n",
       "      <th>2013-05-10</th>\n",
       "      <td>89.58</td>\n",
       "      <td>137.14</td>\n",
       "      <td>89.58</td>\n",
       "      <td>122.25</td>\n",
       "      <td>118.405667</td>\n",
       "      <td>185.727137</td>\n",
       "      <td>51.084196</td>\n",
       "    </tr>\n",
       "    <tr>\n",
       "      <th>2013-05-11</th>\n",
       "      <td>177.86</td>\n",
       "      <td>179.36</td>\n",
       "      <td>125.28</td>\n",
       "      <td>132.60</td>\n",
       "      <td>119.485833</td>\n",
       "      <td>186.115353</td>\n",
       "      <td>52.856314</td>\n",
       "    </tr>\n",
       "    <tr>\n",
       "      <th>2013-05-12</th>\n",
       "      <td>175.89</td>\n",
       "      <td>175.89</td>\n",
       "      <td>108.78</td>\n",
       "      <td>137.95</td>\n",
       "      <td>121.118333</td>\n",
       "      <td>185.967818</td>\n",
       "      <td>56.268849</td>\n",
       "    </tr>\n",
       "    <tr>\n",
       "      <th>2013-05-13</th>\n",
       "      <td>119.26</td>\n",
       "      <td>178.14</td>\n",
       "      <td>57.25</td>\n",
       "      <td>139.44</td>\n",
       "      <td>122.603167</td>\n",
       "      <td>186.024168</td>\n",
       "      <td>59.182166</td>\n",
       "    </tr>\n",
       "    <tr>\n",
       "      <th>...</th>\n",
       "      <td>...</td>\n",
       "      <td>...</td>\n",
       "      <td>...</td>\n",
       "      <td>...</td>\n",
       "      <td>...</td>\n",
       "      <td>...</td>\n",
       "      <td>...</td>\n",
       "    </tr>\n",
       "    <tr>\n",
       "      <th>2019-01-04</th>\n",
       "      <td>4160.00</td>\n",
       "      <td>17765.86</td>\n",
       "      <td>3039.91</td>\n",
       "      <td>4253.74</td>\n",
       "      <td>5215.888833</td>\n",
       "      <td>7754.694356</td>\n",
       "      <td>2677.083311</td>\n",
       "    </tr>\n",
       "    <tr>\n",
       "      <th>2019-01-05</th>\n",
       "      <td>4193.63</td>\n",
       "      <td>49922.62</td>\n",
       "      <td>3103.20</td>\n",
       "      <td>5656.52</td>\n",
       "      <td>5138.482667</td>\n",
       "      <td>7473.680047</td>\n",
       "      <td>2803.285286</td>\n",
       "    </tr>\n",
       "    <tr>\n",
       "      <th>2019-01-06</th>\n",
       "      <td>5060.00</td>\n",
       "      <td>45000.45</td>\n",
       "      <td>3230.35</td>\n",
       "      <td>6065.13</td>\n",
       "      <td>5135.433000</td>\n",
       "      <td>7467.581429</td>\n",
       "      <td>2803.284571</td>\n",
       "    </tr>\n",
       "    <tr>\n",
       "      <th>2019-01-07</th>\n",
       "      <td>4400.00</td>\n",
       "      <td>29961.20</td>\n",
       "      <td>3033.37</td>\n",
       "      <td>7982.54</td>\n",
       "      <td>5027.694333</td>\n",
       "      <td>6581.729868</td>\n",
       "      <td>3473.658799</td>\n",
       "    </tr>\n",
       "    <tr>\n",
       "      <th>2019-01-08</th>\n",
       "      <td>4800.00</td>\n",
       "      <td>8957.02</td>\n",
       "      <td>3383.77</td>\n",
       "      <td>4170.85</td>\n",
       "      <td>4987.658333</td>\n",
       "      <td>6520.071297</td>\n",
       "      <td>3455.245370</td>\n",
       "    </tr>\n",
       "  </tbody>\n",
       "</table>\n",
       "<p>2011 rows × 7 columns</p>\n",
       "</div>"
      ],
      "text/plain": [
       "               open      high      low    close  Rolling Mean  Bollinger High  \\\n",
       "datetime                                                                        \n",
       "2013-05-09   167.81    171.78   114.91   134.40    117.568167      185.480878   \n",
       "2013-05-10    89.58    137.14    89.58   122.25    118.405667      185.727137   \n",
       "2013-05-11   177.86    179.36   125.28   132.60    119.485833      186.115353   \n",
       "2013-05-12   175.89    175.89   108.78   137.95    121.118333      185.967818   \n",
       "2013-05-13   119.26    178.14    57.25   139.44    122.603167      186.024168   \n",
       "...             ...       ...      ...      ...           ...             ...   \n",
       "2019-01-04  4160.00  17765.86  3039.91  4253.74   5215.888833     7754.694356   \n",
       "2019-01-05  4193.63  49922.62  3103.20  5656.52   5138.482667     7473.680047   \n",
       "2019-01-06  5060.00  45000.45  3230.35  6065.13   5135.433000     7467.581429   \n",
       "2019-01-07  4400.00  29961.20  3033.37  7982.54   5027.694333     6581.729868   \n",
       "2019-01-08  4800.00   8957.02  3383.77  4170.85   4987.658333     6520.071297   \n",
       "\n",
       "            Bollinger Low  \n",
       "datetime                   \n",
       "2013-05-09      49.655456  \n",
       "2013-05-10      51.084196  \n",
       "2013-05-11      52.856314  \n",
       "2013-05-12      56.268849  \n",
       "2013-05-13      59.182166  \n",
       "...                   ...  \n",
       "2019-01-04    2677.083311  \n",
       "2019-01-05    2803.285286  \n",
       "2019-01-06    2803.284571  \n",
       "2019-01-07    3473.658799  \n",
       "2019-01-08    3455.245370  \n",
       "\n",
       "[2011 rows x 7 columns]"
      ]
     },
     "execution_count": 14,
     "metadata": {},
     "output_type": "execute_result"
    }
   ],
   "source": [
    "price_df"
   ]
  },
  {
   "cell_type": "code",
   "execution_count": 15,
   "metadata": {},
   "outputs": [
    {
     "data": {
      "text/plain": [
       "<AxesSubplot:xlabel='datetime'>"
      ]
     },
     "execution_count": 15,
     "metadata": {},
     "output_type": "execute_result"
    },
    {
     "data": {
      "image/png": "[encoded data removed]",
      "text/plain": [
       "<Figure size 432x288 with 1 Axes>"
      ]
     },
     "metadata": {
      "needs_background": "light"
     },
     "output_type": "display_data"
    }
   ],
   "source": [
    "price_df[price_df.index >= '2018-10-01'][['close','Bollinger High','Bollinger Low', 'Rolling Mean']].plot()\n"
   ]
  },
  {
   "cell_type": "markdown",
   "metadata": {},
   "source": [
    "### Train LSTM  /Darts"
   ]
  },
  {
   "cell_type": "code",
   "execution_count": 16,
   "metadata": {},
   "outputs": [],
   "source": [
    "COLS = ['open',\t'high',\t'low',\t'close',\t'Rolling Mean',\t'Bollinger High',\t'Bollinger Low']\n",
    "dataset_train = price_df[:int(price_df.shape[0]*0.8) ][COLS] \n",
    "dataset_test = price_df[int(price_df.shape[0]*0.8):][COLS]"
   ]
  },
  {
   "cell_type": "code",
   "execution_count": null,
   "metadata": {},
   "outputs": [],
   "source": []
  },
  {
   "cell_type": "code",
   "execution_count": 17,
   "metadata": {},
   "outputs": [
    {
     "data": {
      "text/html": [
       "<div>\n",
       "<style scoped>\n",
       "    .dataframe tbody tr th:only-of-type {\n",
       "        vertical-align: middle;\n",
       "    }\n",
       "\n",
       "    .dataframe tbody tr th {\n",
       "        vertical-align: top;\n",
       "    }\n",
       "\n",
       "    .dataframe thead th {\n",
       "        text-align: right;\n",
       "    }\n",
       "</style>\n",
       "<table border=\"1\" class=\"dataframe\">\n",
       "  <thead>\n",
       "    <tr style=\"text-align: right;\">\n",
       "      <th></th>\n",
       "      <th>open</th>\n",
       "      <th>high</th>\n",
       "      <th>low</th>\n",
       "      <th>close</th>\n",
       "      <th>Rolling Mean</th>\n",
       "      <th>Bollinger High</th>\n",
       "      <th>Bollinger Low</th>\n",
       "    </tr>\n",
       "    <tr>\n",
       "      <th>datetime</th>\n",
       "      <th></th>\n",
       "      <th></th>\n",
       "      <th></th>\n",
       "      <th></th>\n",
       "      <th></th>\n",
       "      <th></th>\n",
       "      <th></th>\n",
       "    </tr>\n",
       "  </thead>\n",
       "  <tbody>\n",
       "    <tr>\n",
       "      <th>2013-05-09</th>\n",
       "      <td>167.81</td>\n",
       "      <td>171.78</td>\n",
       "      <td>114.91</td>\n",
       "      <td>134.40</td>\n",
       "      <td>117.568167</td>\n",
       "      <td>185.480878</td>\n",
       "      <td>49.655456</td>\n",
       "    </tr>\n",
       "    <tr>\n",
       "      <th>2013-05-10</th>\n",
       "      <td>89.58</td>\n",
       "      <td>137.14</td>\n",
       "      <td>89.58</td>\n",
       "      <td>122.25</td>\n",
       "      <td>118.405667</td>\n",
       "      <td>185.727137</td>\n",
       "      <td>51.084196</td>\n",
       "    </tr>\n",
       "    <tr>\n",
       "      <th>2013-05-11</th>\n",
       "      <td>177.86</td>\n",
       "      <td>179.36</td>\n",
       "      <td>125.28</td>\n",
       "      <td>132.60</td>\n",
       "      <td>119.485833</td>\n",
       "      <td>186.115353</td>\n",
       "      <td>52.856314</td>\n",
       "    </tr>\n",
       "    <tr>\n",
       "      <th>2013-05-12</th>\n",
       "      <td>175.89</td>\n",
       "      <td>175.89</td>\n",
       "      <td>108.78</td>\n",
       "      <td>137.95</td>\n",
       "      <td>121.118333</td>\n",
       "      <td>185.967818</td>\n",
       "      <td>56.268849</td>\n",
       "    </tr>\n",
       "    <tr>\n",
       "      <th>2013-05-13</th>\n",
       "      <td>119.26</td>\n",
       "      <td>178.14</td>\n",
       "      <td>57.25</td>\n",
       "      <td>139.44</td>\n",
       "      <td>122.603167</td>\n",
       "      <td>186.024168</td>\n",
       "      <td>59.182166</td>\n",
       "    </tr>\n",
       "  </tbody>\n",
       "</table>\n",
       "</div>"
      ],
      "text/plain": [
       "              open    high     low   close  Rolling Mean  Bollinger High  \\\n",
       "datetime                                                                   \n",
       "2013-05-09  167.81  171.78  114.91  134.40    117.568167      185.480878   \n",
       "2013-05-10   89.58  137.14   89.58  122.25    118.405667      185.727137   \n",
       "2013-05-11  177.86  179.36  125.28  132.60    119.485833      186.115353   \n",
       "2013-05-12  175.89  175.89  108.78  137.95    121.118333      185.967818   \n",
       "2013-05-13  119.26  178.14   57.25  139.44    122.603167      186.024168   \n",
       "\n",
       "            Bollinger Low  \n",
       "datetime                   \n",
       "2013-05-09      49.655456  \n",
       "2013-05-10      51.084196  \n",
       "2013-05-11      52.856314  \n",
       "2013-05-12      56.268849  \n",
       "2013-05-13      59.182166  "
      ]
     },
     "execution_count": 17,
     "metadata": {},
     "output_type": "execute_result"
    }
   ],
   "source": [
    "price_df.head()"
   ]
  },
  {
   "cell_type": "code",
   "execution_count": 18,
   "metadata": {},
   "outputs": [
    {
     "data": {
      "text/plain": [
       "(1608, 7)"
      ]
     },
     "execution_count": 18,
     "metadata": {},
     "output_type": "execute_result"
    }
   ],
   "source": [
    "dataset_train.shape"
   ]
  },
  {
   "cell_type": "code",
   "execution_count": 19,
   "metadata": {},
   "outputs": [
    {
     "data": {
      "text/html": [
       "<div>\n",
       "<style scoped>\n",
       "    .dataframe tbody tr th:only-of-type {\n",
       "        vertical-align: middle;\n",
       "    }\n",
       "\n",
       "    .dataframe tbody tr th {\n",
       "        vertical-align: top;\n",
       "    }\n",
       "\n",
       "    .dataframe thead th {\n",
       "        text-align: right;\n",
       "    }\n",
       "</style>\n",
       "<table border=\"1\" class=\"dataframe\">\n",
       "  <thead>\n",
       "    <tr style=\"text-align: right;\">\n",
       "      <th></th>\n",
       "      <th>open</th>\n",
       "      <th>high</th>\n",
       "      <th>low</th>\n",
       "      <th>close</th>\n",
       "      <th>Rolling Mean</th>\n",
       "      <th>Bollinger High</th>\n",
       "      <th>Bollinger Low</th>\n",
       "    </tr>\n",
       "    <tr>\n",
       "      <th>datetime</th>\n",
       "      <th></th>\n",
       "      <th></th>\n",
       "      <th></th>\n",
       "      <th></th>\n",
       "      <th></th>\n",
       "      <th></th>\n",
       "      <th></th>\n",
       "    </tr>\n",
       "  </thead>\n",
       "  <tbody>\n",
       "    <tr>\n",
       "      <th>2013-05-09</th>\n",
       "      <td>167.81</td>\n",
       "      <td>171.78</td>\n",
       "      <td>114.91</td>\n",
       "      <td>134.40</td>\n",
       "      <td>117.568167</td>\n",
       "      <td>185.480878</td>\n",
       "      <td>49.655456</td>\n",
       "    </tr>\n",
       "    <tr>\n",
       "      <th>2013-05-10</th>\n",
       "      <td>89.58</td>\n",
       "      <td>137.14</td>\n",
       "      <td>89.58</td>\n",
       "      <td>122.25</td>\n",
       "      <td>118.405667</td>\n",
       "      <td>185.727137</td>\n",
       "      <td>51.084196</td>\n",
       "    </tr>\n",
       "    <tr>\n",
       "      <th>2013-05-11</th>\n",
       "      <td>177.86</td>\n",
       "      <td>179.36</td>\n",
       "      <td>125.28</td>\n",
       "      <td>132.60</td>\n",
       "      <td>119.485833</td>\n",
       "      <td>186.115353</td>\n",
       "      <td>52.856314</td>\n",
       "    </tr>\n",
       "    <tr>\n",
       "      <th>2013-05-12</th>\n",
       "      <td>175.89</td>\n",
       "      <td>175.89</td>\n",
       "      <td>108.78</td>\n",
       "      <td>137.95</td>\n",
       "      <td>121.118333</td>\n",
       "      <td>185.967818</td>\n",
       "      <td>56.268849</td>\n",
       "    </tr>\n",
       "    <tr>\n",
       "      <th>2013-05-13</th>\n",
       "      <td>119.26</td>\n",
       "      <td>178.14</td>\n",
       "      <td>57.25</td>\n",
       "      <td>139.44</td>\n",
       "      <td>122.603167</td>\n",
       "      <td>186.024168</td>\n",
       "      <td>59.182166</td>\n",
       "    </tr>\n",
       "    <tr>\n",
       "      <th>...</th>\n",
       "      <td>...</td>\n",
       "      <td>...</td>\n",
       "      <td>...</td>\n",
       "      <td>...</td>\n",
       "      <td>...</td>\n",
       "      <td>...</td>\n",
       "      <td>...</td>\n",
       "    </tr>\n",
       "    <tr>\n",
       "      <th>2019-01-04</th>\n",
       "      <td>4160.00</td>\n",
       "      <td>17765.86</td>\n",
       "      <td>3039.91</td>\n",
       "      <td>4253.74</td>\n",
       "      <td>5215.888833</td>\n",
       "      <td>7754.694356</td>\n",
       "      <td>2677.083311</td>\n",
       "    </tr>\n",
       "    <tr>\n",
       "      <th>2019-01-05</th>\n",
       "      <td>4193.63</td>\n",
       "      <td>49922.62</td>\n",
       "      <td>3103.20</td>\n",
       "      <td>5656.52</td>\n",
       "      <td>5138.482667</td>\n",
       "      <td>7473.680047</td>\n",
       "      <td>2803.285286</td>\n",
       "    </tr>\n",
       "    <tr>\n",
       "      <th>2019-01-06</th>\n",
       "      <td>5060.00</td>\n",
       "      <td>45000.45</td>\n",
       "      <td>3230.35</td>\n",
       "      <td>6065.13</td>\n",
       "      <td>5135.433000</td>\n",
       "      <td>7467.581429</td>\n",
       "      <td>2803.284571</td>\n",
       "    </tr>\n",
       "    <tr>\n",
       "      <th>2019-01-07</th>\n",
       "      <td>4400.00</td>\n",
       "      <td>29961.20</td>\n",
       "      <td>3033.37</td>\n",
       "      <td>7982.54</td>\n",
       "      <td>5027.694333</td>\n",
       "      <td>6581.729868</td>\n",
       "      <td>3473.658799</td>\n",
       "    </tr>\n",
       "    <tr>\n",
       "      <th>2019-01-08</th>\n",
       "      <td>4800.00</td>\n",
       "      <td>8957.02</td>\n",
       "      <td>3383.77</td>\n",
       "      <td>4170.85</td>\n",
       "      <td>4987.658333</td>\n",
       "      <td>6520.071297</td>\n",
       "      <td>3455.245370</td>\n",
       "    </tr>\n",
       "  </tbody>\n",
       "</table>\n",
       "<p>2011 rows × 7 columns</p>\n",
       "</div>"
      ],
      "text/plain": [
       "               open      high      low    close  Rolling Mean  Bollinger High  \\\n",
       "datetime                                                                        \n",
       "2013-05-09   167.81    171.78   114.91   134.40    117.568167      185.480878   \n",
       "2013-05-10    89.58    137.14    89.58   122.25    118.405667      185.727137   \n",
       "2013-05-11   177.86    179.36   125.28   132.60    119.485833      186.115353   \n",
       "2013-05-12   175.89    175.89   108.78   137.95    121.118333      185.967818   \n",
       "2013-05-13   119.26    178.14    57.25   139.44    122.603167      186.024168   \n",
       "...             ...       ...      ...      ...           ...             ...   \n",
       "2019-01-04  4160.00  17765.86  3039.91  4253.74   5215.888833     7754.694356   \n",
       "2019-01-05  4193.63  49922.62  3103.20  5656.52   5138.482667     7473.680047   \n",
       "2019-01-06  5060.00  45000.45  3230.35  6065.13   5135.433000     7467.581429   \n",
       "2019-01-07  4400.00  29961.20  3033.37  7982.54   5027.694333     6581.729868   \n",
       "2019-01-08  4800.00   8957.02  3383.77  4170.85   4987.658333     6520.071297   \n",
       "\n",
       "            Bollinger Low  \n",
       "datetime                   \n",
       "2013-05-09      49.655456  \n",
       "2013-05-10      51.084196  \n",
       "2013-05-11      52.856314  \n",
       "2013-05-12      56.268849  \n",
       "2013-05-13      59.182166  \n",
       "...                   ...  \n",
       "2019-01-04    2677.083311  \n",
       "2019-01-05    2803.285286  \n",
       "2019-01-06    2803.284571  \n",
       "2019-01-07    3473.658799  \n",
       "2019-01-08    3455.245370  \n",
       "\n",
       "[2011 rows x 7 columns]"
      ]
     },
     "execution_count": 19,
     "metadata": {},
     "output_type": "execute_result"
    }
   ],
   "source": [
    "price_df"
   ]
  },
  {
   "cell_type": "code",
   "execution_count": 20,
   "metadata": {},
   "outputs": [],
   "source": [
    "series = TimeSeries.from_dataframe(price_df[COLS], value_cols='close', freq='D')"
   ]
  },
  {
   "cell_type": "code",
   "execution_count": 21,
   "metadata": {},
   "outputs": [],
   "source": [
    "COLS = ['open','high','low','close','Rolling Mean','Bollinger High','Bollinger Low']\n",
    "dataset_train = price_df[:int(price_df.shape[0]*0.8) ][COLS] \n",
    "dataset_test = price_df[int(price_df.shape[0]*0.8):][COLS]"
   ]
  },
  {
   "cell_type": "code",
   "execution_count": 22,
   "metadata": {},
   "outputs": [
    {
     "data": {
      "text/html": [
       "<div>\n",
       "<style scoped>\n",
       "    .dataframe tbody tr th:only-of-type {\n",
       "        vertical-align: middle;\n",
       "    }\n",
       "\n",
       "    .dataframe tbody tr th {\n",
       "        vertical-align: top;\n",
       "    }\n",
       "\n",
       "    .dataframe thead th {\n",
       "        text-align: right;\n",
       "    }\n",
       "</style>\n",
       "<table border=\"1\" class=\"dataframe\">\n",
       "  <thead>\n",
       "    <tr style=\"text-align: right;\">\n",
       "      <th></th>\n",
       "      <th>open</th>\n",
       "      <th>high</th>\n",
       "      <th>low</th>\n",
       "      <th>close</th>\n",
       "      <th>Rolling Mean</th>\n",
       "      <th>Bollinger High</th>\n",
       "      <th>Bollinger Low</th>\n",
       "    </tr>\n",
       "    <tr>\n",
       "      <th>datetime</th>\n",
       "      <th></th>\n",
       "      <th></th>\n",
       "      <th></th>\n",
       "      <th></th>\n",
       "      <th></th>\n",
       "      <th></th>\n",
       "      <th></th>\n",
       "    </tr>\n",
       "  </thead>\n",
       "  <tbody>\n",
       "    <tr>\n",
       "      <th>2013-05-09</th>\n",
       "      <td>167.81</td>\n",
       "      <td>171.78</td>\n",
       "      <td>114.91</td>\n",
       "      <td>134.40</td>\n",
       "      <td>117.568167</td>\n",
       "      <td>185.480878</td>\n",
       "      <td>49.655456</td>\n",
       "    </tr>\n",
       "    <tr>\n",
       "      <th>2013-05-10</th>\n",
       "      <td>89.58</td>\n",
       "      <td>137.14</td>\n",
       "      <td>89.58</td>\n",
       "      <td>122.25</td>\n",
       "      <td>118.405667</td>\n",
       "      <td>185.727137</td>\n",
       "      <td>51.084196</td>\n",
       "    </tr>\n",
       "    <tr>\n",
       "      <th>2013-05-11</th>\n",
       "      <td>177.86</td>\n",
       "      <td>179.36</td>\n",
       "      <td>125.28</td>\n",
       "      <td>132.60</td>\n",
       "      <td>119.485833</td>\n",
       "      <td>186.115353</td>\n",
       "      <td>52.856314</td>\n",
       "    </tr>\n",
       "    <tr>\n",
       "      <th>2013-05-12</th>\n",
       "      <td>175.89</td>\n",
       "      <td>175.89</td>\n",
       "      <td>108.78</td>\n",
       "      <td>137.95</td>\n",
       "      <td>121.118333</td>\n",
       "      <td>185.967818</td>\n",
       "      <td>56.268849</td>\n",
       "    </tr>\n",
       "    <tr>\n",
       "      <th>2013-05-13</th>\n",
       "      <td>119.26</td>\n",
       "      <td>178.14</td>\n",
       "      <td>57.25</td>\n",
       "      <td>139.44</td>\n",
       "      <td>122.603167</td>\n",
       "      <td>186.024168</td>\n",
       "      <td>59.182166</td>\n",
       "    </tr>\n",
       "  </tbody>\n",
       "</table>\n",
       "</div>"
      ],
      "text/plain": [
       "              open    high     low   close  Rolling Mean  Bollinger High  \\\n",
       "datetime                                                                   \n",
       "2013-05-09  167.81  171.78  114.91  134.40    117.568167      185.480878   \n",
       "2013-05-10   89.58  137.14   89.58  122.25    118.405667      185.727137   \n",
       "2013-05-11  177.86  179.36  125.28  132.60    119.485833      186.115353   \n",
       "2013-05-12  175.89  175.89  108.78  137.95    121.118333      185.967818   \n",
       "2013-05-13  119.26  178.14   57.25  139.44    122.603167      186.024168   \n",
       "\n",
       "            Bollinger Low  \n",
       "datetime                   \n",
       "2013-05-09      49.655456  \n",
       "2013-05-10      51.084196  \n",
       "2013-05-11      52.856314  \n",
       "2013-05-12      56.268849  \n",
       "2013-05-13      59.182166  "
      ]
     },
     "execution_count": 22,
     "metadata": {},
     "output_type": "execute_result"
    }
   ],
   "source": [
    "price_df.head()"
   ]
  },
  {
   "cell_type": "code",
   "execution_count": 23,
   "metadata": {},
   "outputs": [
    {
     "data": {
      "text/html": [
       "<div>\n",
       "<style scoped>\n",
       "    .dataframe tbody tr th:only-of-type {\n",
       "        vertical-align: middle;\n",
       "    }\n",
       "\n",
       "    .dataframe tbody tr th {\n",
       "        vertical-align: top;\n",
       "    }\n",
       "\n",
       "    .dataframe thead th {\n",
       "        text-align: right;\n",
       "    }\n",
       "</style>\n",
       "<table border=\"1\" class=\"dataframe\">\n",
       "  <thead>\n",
       "    <tr style=\"text-align: right;\">\n",
       "      <th></th>\n",
       "      <th>open</th>\n",
       "      <th>high</th>\n",
       "      <th>low</th>\n",
       "      <th>close</th>\n",
       "      <th>Rolling Mean</th>\n",
       "      <th>Bollinger High</th>\n",
       "      <th>Bollinger Low</th>\n",
       "    </tr>\n",
       "  </thead>\n",
       "  <tbody>\n",
       "    <tr>\n",
       "      <th>count</th>\n",
       "      <td>2011.000000</td>\n",
       "      <td>2.011000e+03</td>\n",
       "      <td>2011.000000</td>\n",
       "      <td>2011.000000</td>\n",
       "      <td>2011.000000</td>\n",
       "      <td>2011.000000</td>\n",
       "      <td>2011.000000</td>\n",
       "    </tr>\n",
       "    <tr>\n",
       "      <th>mean</th>\n",
       "      <td>3033.817474</td>\n",
       "      <td>2.411427e+07</td>\n",
       "      <td>1686.439756</td>\n",
       "      <td>3073.043555</td>\n",
       "      <td>3007.294292</td>\n",
       "      <td>4624.644364</td>\n",
       "      <td>1389.944220</td>\n",
       "    </tr>\n",
       "    <tr>\n",
       "      <th>std</th>\n",
       "      <td>4786.506522</td>\n",
       "      <td>1.078602e+09</td>\n",
       "      <td>2368.166399</td>\n",
       "      <td>4900.244458</td>\n",
       "      <td>4403.675027</td>\n",
       "      <td>7140.542701</td>\n",
       "      <td>1986.780986</td>\n",
       "    </tr>\n",
       "    <tr>\n",
       "      <th>min</th>\n",
       "      <td>77.770000</td>\n",
       "      <td>9.695000e+01</td>\n",
       "      <td>1.000000</td>\n",
       "      <td>71.730000</td>\n",
       "      <td>104.889667</td>\n",
       "      <td>126.366681</td>\n",
       "      <td>-507.068955</td>\n",
       "    </tr>\n",
       "    <tr>\n",
       "      <th>25%</th>\n",
       "      <td>390.365000</td>\n",
       "      <td>1.043150e+03</td>\n",
       "      <td>243.615000</td>\n",
       "      <td>390.255000</td>\n",
       "      <td>364.163417</td>\n",
       "      <td>508.608538</td>\n",
       "      <td>216.857384</td>\n",
       "    </tr>\n",
       "    <tr>\n",
       "      <th>50%</th>\n",
       "      <td>739.370000</td>\n",
       "      <td>2.994010e+03</td>\n",
       "      <td>456.000000</td>\n",
       "      <td>735.290000</td>\n",
       "      <td>734.162333</td>\n",
       "      <td>1061.036383</td>\n",
       "      <td>454.279671</td>\n",
       "    </tr>\n",
       "    <tr>\n",
       "      <th>75%</th>\n",
       "      <td>4149.500000</td>\n",
       "      <td>2.069171e+04</td>\n",
       "      <td>2401.570000</td>\n",
       "      <td>4269.370000</td>\n",
       "      <td>3870.922000</td>\n",
       "      <td>5616.510240</td>\n",
       "      <td>1813.501196</td>\n",
       "    </tr>\n",
       "    <tr>\n",
       "      <th>max</th>\n",
       "      <td>55000.310000</td>\n",
       "      <td>4.836901e+10</td>\n",
       "      <td>14401.950000</td>\n",
       "      <td>54999.450000</td>\n",
       "      <td>19009.738833</td>\n",
       "      <td>29223.564142</td>\n",
       "      <td>9002.981506</td>\n",
       "    </tr>\n",
       "  </tbody>\n",
       "</table>\n",
       "</div>"
      ],
      "text/plain": [
       "               open          high           low         close  Rolling Mean  \\\n",
       "count   2011.000000  2.011000e+03   2011.000000   2011.000000   2011.000000   \n",
       "mean    3033.817474  2.411427e+07   1686.439756   3073.043555   3007.294292   \n",
       "std     4786.506522  1.078602e+09   2368.166399   4900.244458   4403.675027   \n",
       "min       77.770000  9.695000e+01      1.000000     71.730000    104.889667   \n",
       "25%      390.365000  1.043150e+03    243.615000    390.255000    364.163417   \n",
       "50%      739.370000  2.994010e+03    456.000000    735.290000    734.162333   \n",
       "75%     4149.500000  2.069171e+04   2401.570000   4269.370000   3870.922000   \n",
       "max    55000.310000  4.836901e+10  14401.950000  54999.450000  19009.738833   \n",
       "\n",
       "       Bollinger High  Bollinger Low  \n",
       "count     2011.000000    2011.000000  \n",
       "mean      4624.644364    1389.944220  \n",
       "std       7140.542701    1986.780986  \n",
       "min        126.366681    -507.068955  \n",
       "25%        508.608538     216.857384  \n",
       "50%       1061.036383     454.279671  \n",
       "75%       5616.510240    1813.501196  \n",
       "max      29223.564142    9002.981506  "
      ]
     },
     "execution_count": 23,
     "metadata": {},
     "output_type": "execute_result"
    }
   ],
   "source": [
    "price_df[COLS].describe()"
   ]
  },
  {
   "cell_type": "code",
   "execution_count": 24,
   "metadata": {},
   "outputs": [
    {
     "data": {
      "text/plain": [
       "open              0\n",
       "high              0\n",
       "low               0\n",
       "close             0\n",
       "Rolling Mean      0\n",
       "Bollinger High    0\n",
       "Bollinger Low     0\n",
       "dtype: int64"
      ]
     },
     "execution_count": 24,
     "metadata": {},
     "output_type": "execute_result"
    }
   ],
   "source": [
    "pd.isna(price_df[COLS]).sum()"
   ]
  },
  {
   "cell_type": "code",
   "execution_count": 25,
   "metadata": {},
   "outputs": [
    {
     "data": {
      "text/plain": [
       "open              0\n",
       "high              0\n",
       "low               0\n",
       "close             0\n",
       "Rolling Mean      0\n",
       "Bollinger High    0\n",
       "Bollinger Low     0\n",
       "dtype: int64"
      ]
     },
     "execution_count": 25,
     "metadata": {},
     "output_type": "execute_result"
    }
   ],
   "source": [
    "pd.isnull(price_df[COLS]).sum()"
   ]
  },
  {
   "cell_type": "code",
   "execution_count": 26,
   "metadata": {},
   "outputs": [
    {
     "data": {
      "text/plain": [
       "DatetimeIndex(['2014-05-18', '2014-05-19', '2014-05-20', '2014-05-21',\n",
       "               '2014-05-22', '2014-05-23', '2014-05-24', '2014-05-25',\n",
       "               '2014-05-26', '2014-05-27', '2014-05-28', '2014-05-29',\n",
       "               '2014-05-30', '2014-05-31', '2014-06-01', '2014-06-02',\n",
       "               '2014-06-03', '2014-06-04', '2014-06-05', '2014-06-06',\n",
       "               '2014-06-07', '2014-06-08', '2014-06-09', '2014-06-10',\n",
       "               '2014-06-11', '2014-06-12', '2014-06-13', '2014-06-14',\n",
       "               '2014-06-15', '2014-06-16', '2014-06-17', '2014-06-18',\n",
       "               '2014-06-19', '2014-06-20', '2014-06-21', '2014-06-22',\n",
       "               '2014-06-23', '2014-06-24', '2014-06-25', '2014-06-26',\n",
       "               '2014-06-27', '2014-06-28', '2014-06-29', '2014-06-30',\n",
       "               '2014-07-01', '2014-07-02', '2014-07-03', '2014-07-04',\n",
       "               '2014-07-05', '2014-07-06', '2014-07-07', '2014-07-08',\n",
       "               '2014-07-09', '2014-07-10', '2014-07-11', '2014-07-12',\n",
       "               '2014-07-13', '2014-07-14', '2014-07-15', '2014-07-16'],\n",
       "              dtype='datetime64[ns]', freq=None)"
      ]
     },
     "execution_count": 26,
     "metadata": {},
     "output_type": "execute_result"
    }
   ],
   "source": [
    "pd.date_range(start = '2013-05-19', end = '2019-01-08' ).difference(price_df['open'].index)\n"
   ]
  },
  {
   "cell_type": "markdown",
   "metadata": {},
   "source": [
    "- Need to fill in these missing values for 2014"
   ]
  },
  {
   "cell_type": "code",
   "execution_count": 27,
   "metadata": {},
   "outputs": [],
   "source": [
    "price_df = price_df[price_df.index > '2015-01-01']"
   ]
  },
  {
   "cell_type": "code",
   "execution_count": 59,
   "metadata": {},
   "outputs": [],
   "source": [
    "# create series for each col\n",
    "open_series = fill_missing_values(TimeSeries.from_series(price_df['open'],  freq='D'))\n",
    "high_series = fill_missing_values(TimeSeries.from_series(price_df['high'],  freq='D'))\n",
    "low_series = fill_missing_values(TimeSeries.from_series(price_df['low'],  freq='D'))\n",
    "close_series = fill_missing_values(TimeSeries.from_series(price_df['close'],  freq='D'))\n",
    "mean_series = fill_missing_values(TimeSeries.from_series(price_df['Rolling Mean'],  freq='D'))\n",
    "bh_series = fill_missing_values(TimeSeries.from_series(price_df['Bollinger High'],  freq='D'))\n",
    "bl_series = fill_missing_values(TimeSeries.from_series(price_df['Bollinger High'],  freq='D'))\n",
    "\n",
    "\n",
    "# build year and month series:\n",
    "close_year_series = datetime_attribute_timeseries(open_series, attribute='year')\n",
    "close_month_series = datetime_attribute_timeseries(open_series, attribute='month')\n"
   ]
  },
  {
   "cell_type": "code",
   "execution_count": 71,
   "metadata": {},
   "outputs": [],
   "source": [
    "close_series_transformer = Scaler()\n",
    "close_series_transformed = close_series_transformer.fit_transform(close_series)\n",
    "\n",
    "open_series_transformer = Scaler()\n",
    "open_series_transformed = open_series_transformer.fit_transform(open_series)\n",
    "\n",
    "high_series_transformer = Scaler()\n",
    "high_series_transformed = high_series_transformer.fit_transform(high_series)\n",
    "\n",
    "low_series_transformer = Scaler()\n",
    "low_series_transformed = low_series_transformer.fit_transform(low_series)\n",
    "\n",
    "mean_series_transformer = Scaler()\n",
    "mean_series_transformed = mean_series_transformer.fit_transform(mean_series)\n",
    "\n",
    "bh_series_transformer = Scaler()\n",
    "bh_series_transformed = bh_series_transformer.fit_transform(bh_series)\n",
    "\n",
    "bl_series_transformer = Scaler()\n",
    "bl_series_transformed = bl_series_transformer.fit_transform(bl_series)\n",
    "\n",
    "\n",
    "year_series_transformer = Scaler()\n",
    "year_series_transformed = year_series_transformer.fit_transform(close_year_series)\n",
    "\n",
    "month_series_transformer = Scaler()\n",
    "month_series_transformed = month_series_transformer.fit_transform(close_month_series)"
   ]
  },
  {
   "cell_type": "code",
   "execution_count": null,
   "metadata": {},
   "outputs": [],
   "source": []
  },
  {
   "cell_type": "code",
   "execution_count": 30,
   "metadata": {},
   "outputs": [
    {
     "data": {
      "image/png": "[encoded data removed]",
      "text/plain": [
       "<Figure size 720x360 with 1 Axes>"
      ]
     },
     "metadata": {
      "needs_background": "light"
     },
     "output_type": "display_data"
    }
   ],
   "source": [
    "plot_acf(close_series, max_lag=50) # no seasonality\n"
   ]
  },
  {
   "cell_type": "code",
   "execution_count": 60,
   "metadata": {},
   "outputs": [],
   "source": [
    "# Create validation\n",
    "SPLIT_DATE = '2018-01-01'\n",
    "open_train, open_val = open_series.split_after(pd.Timestamp(SPLIT_DATE))\n",
    "high_train, high_val = high_series.split_after(pd.Timestamp(SPLIT_DATE))\n",
    "low_train, low_val = low_series.split_after(pd.Timestamp(SPLIT_DATE))\n",
    "close_train, close_val = close_series.split_after(pd.Timestamp(SPLIT_DATE))\n",
    "mean_train, mean_val = mean_series.split_after(pd.Timestamp(SPLIT_DATE))\n",
    "bh_train, bh_val = bh_series.split_after(pd.Timestamp(SPLIT_DATE))\n",
    "bl_train, bl_val = bl_series.split_after(pd.Timestamp(SPLIT_DATE))\n",
    "\n",
    "close_year_train, close_year_val = close_year_series.split_after(pd.Timestamp(SPLIT_DATE))\n",
    "close_month_train, close_month_val = close_month_series.split_after(pd.Timestamp(SPLIT_DATE))"
   ]
  },
  {
   "cell_type": "code",
   "execution_count": null,
   "metadata": {},
   "outputs": [],
   "source": []
  },
  {
   "cell_type": "code",
   "execution_count": 32,
   "metadata": {},
   "outputs": [
    {
     "data": {
      "text/plain": [
       "(Timestamp('2015-01-02 00:00:00', freq='D'),\n",
       " Timestamp('2019-01-08 00:00:00', freq='D'))"
      ]
     },
     "execution_count": 32,
     "metadata": {},
     "output_type": "execute_result"
    }
   ],
   "source": [
    "open_train.start_time(), open_val.end_time()"
   ]
  },
  {
   "cell_type": "code",
   "execution_count": 33,
   "metadata": {},
   "outputs": [
    {
     "data": {
      "text/plain": [
       "(Timestamp('2015-01-02 00:00:00', freq='D'),\n",
       " Timestamp('2019-01-08 00:00:00', freq='D'))"
      ]
     },
     "execution_count": 33,
     "metadata": {},
     "output_type": "execute_result"
    }
   ],
   "source": [
    "high_train.start_time(), high_val.end_time()"
   ]
  },
  {
   "cell_type": "code",
   "execution_count": 74,
   "metadata": {},
   "outputs": [],
   "source": [
    "# Normalize the time series (note: we avoid fitting the transformer on the validation set)\n",
    "open_train_transformer = Scaler()\n",
    "open_train_transformed = open_train_transformer.fit_transform(open_train)\n",
    "open_val_transformed = open_train_transformer.transform(open_val)\n",
    "\n",
    "high_transformer = Scaler()\n",
    "high_train_transformed = high_transformer.fit_transform(high_train)\n",
    "high_val_transformed = high_transformer.transform(high_val)\n",
    "\n",
    "low_transformer = Scaler()\n",
    "low_train_transformed = low_transformer.fit_transform(low_train)\n",
    "low_val_transformed = low_transformer.transform(low_val)\n",
    "\n",
    "close_transformer = Scaler()\n",
    "close_train_transformed = close_transformer.fit_transform(close_train)\n",
    "close_val_transformed = close_transformer.transform(close_val)\n",
    "\n",
    "mean_transformer = Scaler()\n",
    "mean_train_transformed = mean_transformer.fit_transform(mean_train)\n",
    "mean_val_transformed = mean_transformer.transform(mean_val)\n",
    "\n",
    "bh_transformer = Scaler()\n",
    "bh_train_transformed = bh_transformer.fit_transform(bh_train)\n",
    "bh_val_transformed = bh_transformer.transform(bh_val)\n",
    "\n",
    "bl_transformer = Scaler()\n",
    "bl_train_transformed = bl_transformer.fit_transform(bl_train)\n",
    "bl_val_transformed = bl_transformer.transform(bl_val)\n",
    "\n",
    "\n",
    "\n",
    "\n",
    "year_transformer = Scaler()\n",
    "year_train_transformed = year_transformer.fit_transform(close_year_train)\n",
    "year_val_transformed = year_transformer.transform(close_year_val)\n",
    "\n",
    "month_transformer = Scaler()\n",
    "month_train_transformed = bl_transformer.fit_transform(close_month_train)\n",
    "month_val_transformed = bl_transformer.transform(close_month_val)"
   ]
  },
  {
   "cell_type": "code",
   "execution_count": 75,
   "metadata": {},
   "outputs": [
    {
     "data": {
      "text/html": [
       "<div>\n",
       "<style scoped>\n",
       "    .dataframe tbody tr th:only-of-type {\n",
       "        vertical-align: middle;\n",
       "    }\n",
       "\n",
       "    .dataframe tbody tr th {\n",
       "        vertical-align: top;\n",
       "    }\n",
       "\n",
       "    .dataframe thead th {\n",
       "        text-align: right;\n",
       "    }\n",
       "</style>\n",
       "<table border=\"1\" class=\"dataframe\">\n",
       "  <thead>\n",
       "    <tr style=\"text-align: right;\">\n",
       "      <th>component</th>\n",
       "      <th>close</th>\n",
       "    </tr>\n",
       "  </thead>\n",
       "  <tbody>\n",
       "    <tr>\n",
       "      <th>count</th>\n",
       "      <td>1096.000000</td>\n",
       "    </tr>\n",
       "    <tr>\n",
       "      <th>mean</th>\n",
       "      <td>0.050597</td>\n",
       "    </tr>\n",
       "    <tr>\n",
       "      <th>std</th>\n",
       "      <td>0.102363</td>\n",
       "    </tr>\n",
       "    <tr>\n",
       "      <th>min</th>\n",
       "      <td>0.000000</td>\n",
       "    </tr>\n",
       "    <tr>\n",
       "      <th>25%</th>\n",
       "      <td>0.004635</td>\n",
       "    </tr>\n",
       "    <tr>\n",
       "      <th>50%</th>\n",
       "      <td>0.013351</td>\n",
       "    </tr>\n",
       "    <tr>\n",
       "      <th>75%</th>\n",
       "      <td>0.037964</td>\n",
       "    </tr>\n",
       "    <tr>\n",
       "      <th>max</th>\n",
       "      <td>1.000000</td>\n",
       "    </tr>\n",
       "  </tbody>\n",
       "</table>\n",
       "</div>"
      ],
      "text/plain": [
       "component        close\n",
       "count      1096.000000\n",
       "mean          0.050597\n",
       "std           0.102363\n",
       "min           0.000000\n",
       "25%           0.004635\n",
       "50%           0.013351\n",
       "75%           0.037964\n",
       "max           1.000000"
      ]
     },
     "execution_count": 75,
     "metadata": {},
     "output_type": "execute_result"
    }
   ],
   "source": [
    "close_train_transformed.describe()"
   ]
  },
  {
   "cell_type": "code",
   "execution_count": 77,
   "metadata": {},
   "outputs": [],
   "source": [
    "# stack our covariates train\n",
    "all_covariates_train = open_train_transformed.stack(high_train_transformed).stack(low_train_transformed).stack(mean_train_transformed).stack(\n",
    "    bh_train_transformed).stack(bl_train_transformed).stack(close_month_train).stack(close_year_train)\n",
    "\n",
    "\n",
    "\n",
    "# stack our covariates val. NOt using this\n",
    "# all_covariates_val = open_val_transformed.stack(high_val_transformed).stack(low_val_transformed).stack(mean_val_transformed).stack(\n",
    "#     bh_val_transformed).stack(bl_val_transformed)\n",
    "\n",
    "\n",
    "# stack our covariates all\n",
    "all_covariates_series_stacked = open_series_transformed.stack(high_series_transformed).stack(low_series_transformed).stack(mean_series_transformed).stack(\n",
    "    bh_series_transformed).stack(bl_series_transformed).stack(year_series_transformed).stack(month_series_transformed)\n",
    "\n"
   ]
  },
  {
   "cell_type": "code",
   "execution_count": 78,
   "metadata": {},
   "outputs": [
    {
     "data": {
      "image/png": "[encoded data removed]",
      "text/plain": [
       "<Figure size 432x288 with 1 Axes>"
      ]
     },
     "metadata": {
      "needs_background": "light"
     },
     "output_type": "display_data"
    }
   ],
   "source": [
    "all_covariates_train.plot()"
   ]
  },
  {
   "cell_type": "code",
   "execution_count": 79,
   "metadata": {},
   "outputs": [
    {
     "data": {
      "application/vnd.jupyter.widget-view+json": {
       "model_id": "a72923fb5d2d45f0ab3b8f52befad8c0",
       "version_major": 2,
       "version_minor": 0
      },
      "text/plain": [
       "  0%|          | 0/10 [00:00<?, ?it/s]"
      ]
     },
     "metadata": {},
     "output_type": "display_data"
    },
    {
     "name": "stdout",
     "output_type": "stream",
     "text": [
      "Training loss: 3359.0222\r"
     ]
    }
   ],
   "source": [
    "model_close = NBEATSModel(input_chunk_length=30, output_chunk_length=14, n_epochs=10, random_state=0)\n",
    "\n",
    "\n",
    "model_close.fit(series = close_train_transformed, past_covariates = [all_covariates_train],  verbose=True)"
   ]
  },
  {
   "cell_type": "code",
   "execution_count": 80,
   "metadata": {},
   "outputs": [
    {
     "data": {
      "application/vnd.jupyter.widget-view+json": {
       "model_id": "74616aa42b2a4935b32a9b5ebf6b8e35",
       "version_major": 2,
       "version_minor": 0
      },
      "text/plain": [
       "  0%|          | 0/10 [00:00<?, ?it/s]"
      ]
     },
     "metadata": {},
     "output_type": "display_data"
    },
    {
     "name": "stdout",
     "output_type": "stream",
     "text": [
      "Training loss: 0.1159\r"
     ]
    }
   ],
   "source": [
    "model_close_rnn = BlockRNNModel(input_chunk_length=30, output_chunk_length=14, n_epochs=10, random_state=0)\n",
    "\n",
    "\n",
    "model_close_rnn.fit(series = close_train_transformed, past_covariates = [all_covariates_train],  verbose=True)"
   ]
  },
  {
   "cell_type": "code",
   "execution_count": 81,
   "metadata": {},
   "outputs": [
    {
     "data": {
      "text/plain": [
       "58305.86544619842"
      ]
     },
     "execution_count": 81,
     "metadata": {},
     "output_type": "execute_result"
    }
   ],
   "source": [
    "pred_close = model_close.predict(n=14, series=close_train_transformed, past_covariates = [all_covariates_train])\n",
    "pred_close_rnn = model_close_rnn.predict(n=14, series=close_train_transformed, past_covariates = [all_covariates_train])\n",
    "close_transformer.inverse_transform(pred_close).last_value()"
   ]
  },
  {
   "cell_type": "code",
   "execution_count": 82,
   "metadata": {},
   "outputs": [
    {
     "data": {
      "text/plain": [
       "58305.86544619842"
      ]
     },
     "execution_count": 82,
     "metadata": {},
     "output_type": "execute_result"
    }
   ],
   "source": [
    "close_transformer.inverse_transform(pred_close).last_value()"
   ]
  },
  {
   "cell_type": "code",
   "execution_count": 83,
   "metadata": {},
   "outputs": [
    {
     "name": "stdout",
     "output_type": "stream",
     "text": [
      "MAPE NBEATS = 188.68%\n",
      "MAPE RNN = 89.17%\n"
     ]
    },
    {
     "data": {
      "image/png": "[encoded data removed]",
      "text/plain": [
       "<Figure size 432x288 with 1 Axes>"
      ]
     },
     "metadata": {
      "needs_background": "light"
     },
     "output_type": "display_data"
    }
   ],
   "source": [
    "# no bollinger ban\n",
    "close_series.slice(pd.to_datetime(\"2018-01-01\"), pd.to_datetime(\"2018-03-02\")).plot(label='actual')\n",
    "plt.title('NBeats model')\n",
    "close_transformer.inverse_transform(pred_close).plot(label='forecast nBeats')\n",
    "close_transformer.inverse_transform(pred_close_rnn).plot(label='forecast RNN')\n",
    "plt.legend();\n",
    "print('MAPE NBEATS = {:.2f}%'.format(mape(close_series  , close_transformer.inverse_transform(pred_close))))\n",
    "print('MAPE RNN = {:.2f}%'.format(mape(close_series, close_transformer.inverse_transform(pred_close_rnn))))"
   ]
  },
  {
   "cell_type": "markdown",
   "metadata": {},
   "source": [
    "## Backtest"
   ]
  },
  {
   "cell_type": "code",
   "execution_count": 84,
   "metadata": {},
   "outputs": [
    {
     "data": {
      "application/vnd.jupyter.widget-view+json": {
       "model_id": "b47c7abd2c344b069c75d5c1b92ab042",
       "version_major": 2,
       "version_minor": 0
      },
      "text/plain": [
       "  0%|          | 0/722 [00:00<?, ?it/s]"
      ]
     },
     "metadata": {},
     "output_type": "display_data"
    }
   ],
   "source": [
    "\n",
    "backtest_nbeats = model_close.historical_forecasts(close_series_transformed,\n",
    "                                              past_covariates=all_covariates_series_stacked,\n",
    "                                              start=0.5,\n",
    "                                              forecast_horizon=14,\n",
    "                                              stride=1,\n",
    "                                              retrain=False,\n",
    "                                              verbose=True)"
   ]
  },
  {
   "cell_type": "code",
   "execution_count": 85,
   "metadata": {},
   "outputs": [
    {
     "data": {
      "application/vnd.jupyter.widget-view+json": {
       "model_id": "b6b1d6e6a0f44f959473955d3fefa4d3",
       "version_major": 2,
       "version_minor": 0
      },
      "text/plain": [
       "  0%|          | 0/722 [00:00<?, ?it/s]"
      ]
     },
     "metadata": {},
     "output_type": "display_data"
    }
   ],
   "source": [
    "\n",
    "backtest_rnn = model_close_rnn.historical_forecasts(close_series_transformed,\n",
    "                                              past_covariates=all_covariates_series_stacked,\n",
    "                                              start=0.5,\n",
    "                                              forecast_horizon=14,\n",
    "                                              stride=1,\n",
    "                                              retrain=False,\n",
    "                                              verbose=True)"
   ]
  },
  {
   "cell_type": "code",
   "execution_count": 86,
   "metadata": {},
   "outputs": [
    {
     "name": "stdout",
     "output_type": "stream",
     "text": [
      "MAP NbeatsE (using covariates) = 2207.66%\n",
      "MAPE RNN (using covariates) = 115.33%\n"
     ]
    },
    {
     "data": {
      "text/plain": [
       "95275.00456285568"
      ]
     },
     "execution_count": 86,
     "metadata": {},
     "output_type": "execute_result"
    },
    {
     "data": {
      "image/png": "[encoded data removed]",
      "text/plain": [
       "<Figure size 432x288 with 1 Axes>"
      ]
     },
     "metadata": {
      "needs_background": "light"
     },
     "output_type": "display_data"
    }
   ],
   "source": [
    "close_series.plot(label='actual')\n",
    "close_transformer.inverse_transform(backtest_cov).plot(label='forecast nbeats')\n",
    "close_transformer.inverse_transform(backtest_rnn).plot(label='forecast rnn')\n",
    "plt.legend();\n",
    "print('MAP NbeatsE (using covariates) = {:.2f}%'.format(mape(close_series, close_transformer.inverse_transform(backtest_nbeats))))\n",
    "print('MAPE RNN (using covariates) = {:.2f}%'.format(mape(close_series, close_transformer.inverse_transform(backtest_rnn))))\n",
    "\n",
    "\n",
    "sqrt(mse(close_series, close_transformer.inverse_transform(backtest_nbeats)))"
   ]
  },
  {
   "cell_type": "code",
   "execution_count": null,
   "metadata": {},
   "outputs": [],
   "source": []
  },
  {
   "cell_type": "markdown",
   "metadata": {},
   "source": [
    "## Working on a strategy"
   ]
  },
  {
   "cell_type": "code",
   "execution_count": 48,
   "metadata": {},
   "outputs": [],
   "source": [
    "# create a new column in the DataFrame to hold positions information\n",
    "price_df['Position'] = None\n",
    "\n",
    "# fill our position column based on the following rules:\n",
    "#     * set to short (-1) when the price hits the upper band\n",
    "#     * set to long (1) when it hits the lower band       \n",
    "mode = 'open'\n",
    "for index in range(len(price_df)):\n",
    "    if index == 0:\n",
    "        continue\n",
    "\n",
    "    row = price_df.iloc[index]\n",
    "    prev_row = price_df.iloc[index - 1]\n",
    "\n",
    "    # long?\n",
    "    if mode == 'open' and row['close'] < row['Bollinger Low'] and prev_row['close'] > prev_row['Bollinger Low']:\n",
    "        price_df.iloc[index, price_df.columns.get_loc('Position')] = 1\n",
    "        mode = 'close'\n",
    "\n",
    "    # short?\n",
    "    if mode == 'close' and row['close'] > row['Bollinger High'] and prev_row['close'] < prev_row['Bollinger High']:\n",
    "        price_df.iloc[index, price_df.columns.get_loc('Position')] = -1\n",
    "        mode = 'open'"
   ]
  },
  {
   "cell_type": "code",
   "execution_count": 49,
   "metadata": {},
   "outputs": [
    {
     "data": {
      "text/html": [
       "<div>\n",
       "<style scoped>\n",
       "    .dataframe tbody tr th:only-of-type {\n",
       "        vertical-align: middle;\n",
       "    }\n",
       "\n",
       "    .dataframe tbody tr th {\n",
       "        vertical-align: top;\n",
       "    }\n",
       "\n",
       "    .dataframe thead th {\n",
       "        text-align: right;\n",
       "    }\n",
       "</style>\n",
       "<table border=\"1\" class=\"dataframe\">\n",
       "  <thead>\n",
       "    <tr style=\"text-align: right;\">\n",
       "      <th></th>\n",
       "      <th>open</th>\n",
       "      <th>high</th>\n",
       "      <th>low</th>\n",
       "      <th>close</th>\n",
       "      <th>Rolling Mean</th>\n",
       "      <th>Bollinger High</th>\n",
       "      <th>Bollinger Low</th>\n",
       "      <th>Position</th>\n",
       "    </tr>\n",
       "    <tr>\n",
       "      <th>datetime</th>\n",
       "      <th></th>\n",
       "      <th></th>\n",
       "      <th></th>\n",
       "      <th></th>\n",
       "      <th></th>\n",
       "      <th></th>\n",
       "      <th></th>\n",
       "      <th></th>\n",
       "    </tr>\n",
       "  </thead>\n",
       "  <tbody>\n",
       "    <tr>\n",
       "      <th>2015-01-05</th>\n",
       "      <td>290.36</td>\n",
       "      <td>1199.76</td>\n",
       "      <td>180.49</td>\n",
       "      <td>293.00</td>\n",
       "      <td>420.663333</td>\n",
       "      <td>533.813687</td>\n",
       "      <td>307.512980</td>\n",
       "      <td>1</td>\n",
       "    </tr>\n",
       "    <tr>\n",
       "      <th>2015-01-30</th>\n",
       "      <td>247.99</td>\n",
       "      <td>1219.51</td>\n",
       "      <td>199.81</td>\n",
       "      <td>617.28</td>\n",
       "      <td>354.166833</td>\n",
       "      <td>468.060049</td>\n",
       "      <td>240.273618</td>\n",
       "      <td>-1</td>\n",
       "    </tr>\n",
       "    <tr>\n",
       "      <th>2015-02-03</th>\n",
       "      <td>252.58</td>\n",
       "      <td>800.00</td>\n",
       "      <td>147.21</td>\n",
       "      <td>216.59</td>\n",
       "      <td>343.229000</td>\n",
       "      <td>460.663371</td>\n",
       "      <td>225.794629</td>\n",
       "      <td>1</td>\n",
       "    </tr>\n",
       "    <tr>\n",
       "      <th>2015-02-17</th>\n",
       "      <td>263.81</td>\n",
       "      <td>660.50</td>\n",
       "      <td>202.71</td>\n",
       "      <td>555.56</td>\n",
       "      <td>318.369833</td>\n",
       "      <td>444.970944</td>\n",
       "      <td>191.768723</td>\n",
       "      <td>-1</td>\n",
       "    </tr>\n",
       "    <tr>\n",
       "      <th>2015-04-18</th>\n",
       "      <td>318.27</td>\n",
       "      <td>1000.00</td>\n",
       "      <td>191.29</td>\n",
       "      <td>215.68</td>\n",
       "      <td>302.123000</td>\n",
       "      <td>379.150007</td>\n",
       "      <td>225.095993</td>\n",
       "      <td>1</td>\n",
       "    </tr>\n",
       "    <tr>\n",
       "      <th>2015-05-19</th>\n",
       "      <td>247.18</td>\n",
       "      <td>1000.00</td>\n",
       "      <td>197.60</td>\n",
       "      <td>462.96</td>\n",
       "      <td>288.471833</td>\n",
       "      <td>373.826620</td>\n",
       "      <td>203.117047</td>\n",
       "      <td>-1</td>\n",
       "    </tr>\n",
       "    <tr>\n",
       "      <th>2015-09-30</th>\n",
       "      <td>271.56</td>\n",
       "      <td>2617.80</td>\n",
       "      <td>201.41</td>\n",
       "      <td>203.00</td>\n",
       "      <td>304.569500</td>\n",
       "      <td>394.286473</td>\n",
       "      <td>214.852527</td>\n",
       "      <td>1</td>\n",
       "    </tr>\n",
       "    <tr>\n",
       "      <th>2015-10-03</th>\n",
       "      <td>248.57</td>\n",
       "      <td>2617.80</td>\n",
       "      <td>191.87</td>\n",
       "      <td>407.83</td>\n",
       "      <td>299.009833</td>\n",
       "      <td>377.505505</td>\n",
       "      <td>220.514162</td>\n",
       "      <td>-1</td>\n",
       "    </tr>\n",
       "    <tr>\n",
       "      <th>2018-11-19</th>\n",
       "      <td>5555.01</td>\n",
       "      <td>27342.33</td>\n",
       "      <td>3358.78</td>\n",
       "      <td>4789.28</td>\n",
       "      <td>7868.900833</td>\n",
       "      <td>10724.559887</td>\n",
       "      <td>5013.241780</td>\n",
       "      <td>1</td>\n",
       "    </tr>\n",
       "    <tr>\n",
       "      <th>2019-01-07</th>\n",
       "      <td>4400.00</td>\n",
       "      <td>29961.20</td>\n",
       "      <td>3033.37</td>\n",
       "      <td>7982.54</td>\n",
       "      <td>5027.694333</td>\n",
       "      <td>6581.729868</td>\n",
       "      <td>3473.658799</td>\n",
       "      <td>-1</td>\n",
       "    </tr>\n",
       "  </tbody>\n",
       "</table>\n",
       "</div>"
      ],
      "text/plain": [
       "               open      high      low    close  Rolling Mean  Bollinger High  \\\n",
       "datetime                                                                        \n",
       "2015-01-05   290.36   1199.76   180.49   293.00    420.663333      533.813687   \n",
       "2015-01-30   247.99   1219.51   199.81   617.28    354.166833      468.060049   \n",
       "2015-02-03   252.58    800.00   147.21   216.59    343.229000      460.663371   \n",
       "2015-02-17   263.81    660.50   202.71   555.56    318.369833      444.970944   \n",
       "2015-04-18   318.27   1000.00   191.29   215.68    302.123000      379.150007   \n",
       "2015-05-19   247.18   1000.00   197.60   462.96    288.471833      373.826620   \n",
       "2015-09-30   271.56   2617.80   201.41   203.00    304.569500      394.286473   \n",
       "2015-10-03   248.57   2617.80   191.87   407.83    299.009833      377.505505   \n",
       "2018-11-19  5555.01  27342.33  3358.78  4789.28   7868.900833    10724.559887   \n",
       "2019-01-07  4400.00  29961.20  3033.37  7982.54   5027.694333     6581.729868   \n",
       "\n",
       "            Bollinger Low Position  \n",
       "datetime                            \n",
       "2015-01-05     307.512980        1  \n",
       "2015-01-30     240.273618       -1  \n",
       "2015-02-03     225.794629        1  \n",
       "2015-02-17     191.768723       -1  \n",
       "2015-04-18     225.095993        1  \n",
       "2015-05-19     203.117047       -1  \n",
       "2015-09-30     214.852527        1  \n",
       "2015-10-03     220.514162       -1  \n",
       "2018-11-19    5013.241780        1  \n",
       "2019-01-07    3473.658799       -1  "
      ]
     },
     "execution_count": 49,
     "metadata": {},
     "output_type": "execute_result"
    }
   ],
   "source": [
    "price_df.dropna(subset=['Position'])\n"
   ]
  },
  {
   "cell_type": "markdown",
   "metadata": {},
   "source": [
    "## Visualize position"
   ]
  },
  {
   "cell_type": "code",
   "execution_count": 50,
   "metadata": {},
   "outputs": [
    {
     "data": {
      "image/png": "[encoded data removed]",
      "text/plain": [
       "<Figure size 1008x504 with 1 Axes>"
      ]
     },
     "metadata": {
      "needs_background": "light"
     },
     "output_type": "display_data"
    }
   ],
   "source": [
    "\n",
    "price_df[price_df.index > '2018-01-01'][['close', 'Rolling Mean', 'Bollinger High','Bollinger Low']].plot(figsize=(14, 7))\n",
    "\n",
    "for index, pos in price_df[price_df.index > '2018-01-01'].dropna(subset=['Position'])['Position'].iteritems():\n",
    "    plt.axvline(index, color='green' if pos == 1 else 'red')"
   ]
  },
  {
   "cell_type": "markdown",
   "metadata": {},
   "source": []
  },
  {
   "cell_type": "code",
   "execution_count": 51,
   "metadata": {},
   "outputs": [
    {
     "data": {
      "text/plain": [
       "<AxesSubplot:xlabel='datetime'>"
      ]
     },
     "execution_count": 51,
     "metadata": {},
     "output_type": "execute_result"
    },
    {
     "data": {
      "image/png": "[encoded data removed]",
      "text/plain": [
       "<Figure size 1008x504 with 1 Axes>"
      ]
     },
     "metadata": {
      "needs_background": "light"
     },
     "output_type": "display_data"
    }
   ],
   "source": [
    "# forward fill our Position column to replace \"None\" values with the correct buy/sell \n",
    "# operations to represent the \"holding\" of our position forward through time\n",
    "# price_df.dropna(inplace=True)\n",
    "price_df['Position'].fillna(method='ffill', inplace=True)\n",
    "\n",
    "# calculate the daily market return and multiply that by the position to determine strategy returns\n",
    "price_df['Market Return'] = price_df['close'].pct_change()\n",
    "price_df['Strategy Return'] = price_df['Market Return'] * price_df['Position']\n",
    "\n",
    "# plot the strategy returns\n",
    "price_df['Strategy Return'].cumsum().plot(figsize=(14, 7))"
   ]
  },
  {
   "cell_type": "code",
   "execution_count": 52,
   "metadata": {},
   "outputs": [
    {
     "data": {
      "text/html": [
       "<div>\n",
       "<style scoped>\n",
       "    .dataframe tbody tr th:only-of-type {\n",
       "        vertical-align: middle;\n",
       "    }\n",
       "\n",
       "    .dataframe tbody tr th {\n",
       "        vertical-align: top;\n",
       "    }\n",
       "\n",
       "    .dataframe thead th {\n",
       "        text-align: right;\n",
       "    }\n",
       "</style>\n",
       "<table border=\"1\" class=\"dataframe\">\n",
       "  <thead>\n",
       "    <tr style=\"text-align: right;\">\n",
       "      <th></th>\n",
       "      <th>open</th>\n",
       "      <th>high</th>\n",
       "      <th>low</th>\n",
       "      <th>close</th>\n",
       "      <th>Rolling Mean</th>\n",
       "      <th>Bollinger High</th>\n",
       "      <th>Bollinger Low</th>\n",
       "      <th>Position</th>\n",
       "      <th>Market Return</th>\n",
       "      <th>Strategy Return</th>\n",
       "    </tr>\n",
       "    <tr>\n",
       "      <th>datetime</th>\n",
       "      <th></th>\n",
       "      <th></th>\n",
       "      <th></th>\n",
       "      <th></th>\n",
       "      <th></th>\n",
       "      <th></th>\n",
       "      <th></th>\n",
       "      <th></th>\n",
       "      <th></th>\n",
       "      <th></th>\n",
       "    </tr>\n",
       "  </thead>\n",
       "  <tbody>\n",
       "    <tr>\n",
       "      <th>2015-01-02</th>\n",
       "      <td>791.14</td>\n",
       "      <td>1262.63</td>\n",
       "      <td>277.40</td>\n",
       "      <td>334.22</td>\n",
       "      <td>423.651167</td>\n",
       "      <td>532.997706</td>\n",
       "      <td>314.304628</td>\n",
       "      <td>NaN</td>\n",
       "      <td>NaN</td>\n",
       "      <td>NaN</td>\n",
       "    </tr>\n",
       "    <tr>\n",
       "      <th>2015-01-03</th>\n",
       "      <td>367.34</td>\n",
       "      <td>1206.43</td>\n",
       "      <td>263.71</td>\n",
       "      <td>349.00</td>\n",
       "      <td>423.101667</td>\n",
       "      <td>533.111861</td>\n",
       "      <td>313.091472</td>\n",
       "      <td>NaN</td>\n",
       "      <td>0.044222</td>\n",
       "      <td>NaN</td>\n",
       "    </tr>\n",
       "    <tr>\n",
       "      <th>2015-01-04</th>\n",
       "      <td>367.38</td>\n",
       "      <td>1200.48</td>\n",
       "      <td>234.51</td>\n",
       "      <td>374.64</td>\n",
       "      <td>422.618500</td>\n",
       "      <td>532.967095</td>\n",
       "      <td>312.269905</td>\n",
       "      <td>NaN</td>\n",
       "      <td>0.073467</td>\n",
       "      <td>NaN</td>\n",
       "    </tr>\n",
       "    <tr>\n",
       "      <th>2015-01-05</th>\n",
       "      <td>290.36</td>\n",
       "      <td>1199.76</td>\n",
       "      <td>180.49</td>\n",
       "      <td>293.00</td>\n",
       "      <td>420.663333</td>\n",
       "      <td>533.813687</td>\n",
       "      <td>307.512980</td>\n",
       "      <td>1.0</td>\n",
       "      <td>-0.217916</td>\n",
       "      <td>-0.217916</td>\n",
       "    </tr>\n",
       "    <tr>\n",
       "      <th>2015-01-06</th>\n",
       "      <td>255.54</td>\n",
       "      <td>1960.78</td>\n",
       "      <td>235.44</td>\n",
       "      <td>346.19</td>\n",
       "      <td>415.600167</td>\n",
       "      <td>520.244573</td>\n",
       "      <td>310.955760</td>\n",
       "      <td>1.0</td>\n",
       "      <td>0.181536</td>\n",
       "      <td>0.181536</td>\n",
       "    </tr>\n",
       "    <tr>\n",
       "      <th>...</th>\n",
       "      <td>...</td>\n",
       "      <td>...</td>\n",
       "      <td>...</td>\n",
       "      <td>...</td>\n",
       "      <td>...</td>\n",
       "      <td>...</td>\n",
       "      <td>...</td>\n",
       "      <td>...</td>\n",
       "      <td>...</td>\n",
       "      <td>...</td>\n",
       "    </tr>\n",
       "    <tr>\n",
       "      <th>2019-01-04</th>\n",
       "      <td>4160.00</td>\n",
       "      <td>17765.86</td>\n",
       "      <td>3039.91</td>\n",
       "      <td>4253.74</td>\n",
       "      <td>5215.888833</td>\n",
       "      <td>7754.694356</td>\n",
       "      <td>2677.083311</td>\n",
       "      <td>1.0</td>\n",
       "      <td>-0.250396</td>\n",
       "      <td>-0.250396</td>\n",
       "    </tr>\n",
       "    <tr>\n",
       "      <th>2019-01-05</th>\n",
       "      <td>4193.63</td>\n",
       "      <td>49922.62</td>\n",
       "      <td>3103.20</td>\n",
       "      <td>5656.52</td>\n",
       "      <td>5138.482667</td>\n",
       "      <td>7473.680047</td>\n",
       "      <td>2803.285286</td>\n",
       "      <td>1.0</td>\n",
       "      <td>0.329776</td>\n",
       "      <td>0.329776</td>\n",
       "    </tr>\n",
       "    <tr>\n",
       "      <th>2019-01-06</th>\n",
       "      <td>5060.00</td>\n",
       "      <td>45000.45</td>\n",
       "      <td>3230.35</td>\n",
       "      <td>6065.13</td>\n",
       "      <td>5135.433000</td>\n",
       "      <td>7467.581429</td>\n",
       "      <td>2803.284571</td>\n",
       "      <td>1.0</td>\n",
       "      <td>0.072237</td>\n",
       "      <td>0.072237</td>\n",
       "    </tr>\n",
       "    <tr>\n",
       "      <th>2019-01-07</th>\n",
       "      <td>4400.00</td>\n",
       "      <td>29961.20</td>\n",
       "      <td>3033.37</td>\n",
       "      <td>7982.54</td>\n",
       "      <td>5027.694333</td>\n",
       "      <td>6581.729868</td>\n",
       "      <td>3473.658799</td>\n",
       "      <td>-1.0</td>\n",
       "      <td>0.316137</td>\n",
       "      <td>-0.316137</td>\n",
       "    </tr>\n",
       "    <tr>\n",
       "      <th>2019-01-08</th>\n",
       "      <td>4800.00</td>\n",
       "      <td>8957.02</td>\n",
       "      <td>3383.77</td>\n",
       "      <td>4170.85</td>\n",
       "      <td>4987.658333</td>\n",
       "      <td>6520.071297</td>\n",
       "      <td>3455.245370</td>\n",
       "      <td>-1.0</td>\n",
       "      <td>-0.477503</td>\n",
       "      <td>0.477503</td>\n",
       "    </tr>\n",
       "  </tbody>\n",
       "</table>\n",
       "<p>1468 rows × 10 columns</p>\n",
       "</div>"
      ],
      "text/plain": [
       "               open      high      low    close  Rolling Mean  Bollinger High  \\\n",
       "datetime                                                                        \n",
       "2015-01-02   791.14   1262.63   277.40   334.22    423.651167      532.997706   \n",
       "2015-01-03   367.34   1206.43   263.71   349.00    423.101667      533.111861   \n",
       "2015-01-04   367.38   1200.48   234.51   374.64    422.618500      532.967095   \n",
       "2015-01-05   290.36   1199.76   180.49   293.00    420.663333      533.813687   \n",
       "2015-01-06   255.54   1960.78   235.44   346.19    415.600167      520.244573   \n",
       "...             ...       ...      ...      ...           ...             ...   \n",
       "2019-01-04  4160.00  17765.86  3039.91  4253.74   5215.888833     7754.694356   \n",
       "2019-01-05  4193.63  49922.62  3103.20  5656.52   5138.482667     7473.680047   \n",
       "2019-01-06  5060.00  45000.45  3230.35  6065.13   5135.433000     7467.581429   \n",
       "2019-01-07  4400.00  29961.20  3033.37  7982.54   5027.694333     6581.729868   \n",
       "2019-01-08  4800.00   8957.02  3383.77  4170.85   4987.658333     6520.071297   \n",
       "\n",
       "            Bollinger Low  Position  Market Return  Strategy Return  \n",
       "datetime                                                             \n",
       "2015-01-02     314.304628       NaN            NaN              NaN  \n",
       "2015-01-03     313.091472       NaN       0.044222              NaN  \n",
       "2015-01-04     312.269905       NaN       0.073467              NaN  \n",
       "2015-01-05     307.512980       1.0      -0.217916        -0.217916  \n",
       "2015-01-06     310.955760       1.0       0.181536         0.181536  \n",
       "...                   ...       ...            ...              ...  \n",
       "2019-01-04    2677.083311       1.0      -0.250396        -0.250396  \n",
       "2019-01-05    2803.285286       1.0       0.329776         0.329776  \n",
       "2019-01-06    2803.284571       1.0       0.072237         0.072237  \n",
       "2019-01-07    3473.658799      -1.0       0.316137        -0.316137  \n",
       "2019-01-08    3455.245370      -1.0      -0.477503         0.477503  \n",
       "\n",
       "[1468 rows x 10 columns]"
      ]
     },
     "execution_count": 52,
     "metadata": {},
     "output_type": "execute_result"
    }
   ],
   "source": [
    "price_df"
   ]
  },
  {
   "cell_type": "code",
   "execution_count": null,
   "metadata": {},
   "outputs": [],
   "source": []
  },
  {
   "cell_type": "markdown",
   "metadata": {},
   "source": [
    "# Finding a better configuration¶\n"
   ]
  },
  {
   "cell_type": "code",
   "execution_count": 53,
   "metadata": {},
   "outputs": [
    {
     "data": {
      "text/html": [
       "<div>\n",
       "<style scoped>\n",
       "    .dataframe tbody tr th:only-of-type {\n",
       "        vertical-align: middle;\n",
       "    }\n",
       "\n",
       "    .dataframe tbody tr th {\n",
       "        vertical-align: top;\n",
       "    }\n",
       "\n",
       "    .dataframe thead th {\n",
       "        text-align: right;\n",
       "    }\n",
       "</style>\n",
       "<table border=\"1\" class=\"dataframe\">\n",
       "  <thead>\n",
       "    <tr style=\"text-align: right;\">\n",
       "      <th></th>\n",
       "      <th>open</th>\n",
       "      <th>high</th>\n",
       "      <th>low</th>\n",
       "      <th>close</th>\n",
       "      <th>Rolling Mean</th>\n",
       "      <th>Bollinger High</th>\n",
       "      <th>Bollinger Low</th>\n",
       "      <th>Position</th>\n",
       "      <th>Market Return</th>\n",
       "      <th>Strategy Return</th>\n",
       "    </tr>\n",
       "    <tr>\n",
       "      <th>datetime</th>\n",
       "      <th></th>\n",
       "      <th></th>\n",
       "      <th></th>\n",
       "      <th></th>\n",
       "      <th></th>\n",
       "      <th></th>\n",
       "      <th></th>\n",
       "      <th></th>\n",
       "      <th></th>\n",
       "      <th></th>\n",
       "    </tr>\n",
       "  </thead>\n",
       "  <tbody>\n",
       "    <tr>\n",
       "      <th>2015-01-02</th>\n",
       "      <td>791.14</td>\n",
       "      <td>1262.63</td>\n",
       "      <td>277.40</td>\n",
       "      <td>334.22</td>\n",
       "      <td>423.651167</td>\n",
       "      <td>532.997706</td>\n",
       "      <td>314.304628</td>\n",
       "      <td>NaN</td>\n",
       "      <td>NaN</td>\n",
       "      <td>NaN</td>\n",
       "    </tr>\n",
       "    <tr>\n",
       "      <th>2015-01-03</th>\n",
       "      <td>367.34</td>\n",
       "      <td>1206.43</td>\n",
       "      <td>263.71</td>\n",
       "      <td>349.00</td>\n",
       "      <td>423.101667</td>\n",
       "      <td>533.111861</td>\n",
       "      <td>313.091472</td>\n",
       "      <td>NaN</td>\n",
       "      <td>0.044222</td>\n",
       "      <td>NaN</td>\n",
       "    </tr>\n",
       "    <tr>\n",
       "      <th>2015-01-04</th>\n",
       "      <td>367.38</td>\n",
       "      <td>1200.48</td>\n",
       "      <td>234.51</td>\n",
       "      <td>374.64</td>\n",
       "      <td>422.618500</td>\n",
       "      <td>532.967095</td>\n",
       "      <td>312.269905</td>\n",
       "      <td>NaN</td>\n",
       "      <td>0.073467</td>\n",
       "      <td>NaN</td>\n",
       "    </tr>\n",
       "    <tr>\n",
       "      <th>2015-01-05</th>\n",
       "      <td>290.36</td>\n",
       "      <td>1199.76</td>\n",
       "      <td>180.49</td>\n",
       "      <td>293.00</td>\n",
       "      <td>420.663333</td>\n",
       "      <td>533.813687</td>\n",
       "      <td>307.512980</td>\n",
       "      <td>1.0</td>\n",
       "      <td>-0.217916</td>\n",
       "      <td>-0.217916</td>\n",
       "    </tr>\n",
       "    <tr>\n",
       "      <th>2015-01-06</th>\n",
       "      <td>255.54</td>\n",
       "      <td>1960.78</td>\n",
       "      <td>235.44</td>\n",
       "      <td>346.19</td>\n",
       "      <td>415.600167</td>\n",
       "      <td>520.244573</td>\n",
       "      <td>310.955760</td>\n",
       "      <td>1.0</td>\n",
       "      <td>0.181536</td>\n",
       "      <td>0.181536</td>\n",
       "    </tr>\n",
       "    <tr>\n",
       "      <th>...</th>\n",
       "      <td>...</td>\n",
       "      <td>...</td>\n",
       "      <td>...</td>\n",
       "      <td>...</td>\n",
       "      <td>...</td>\n",
       "      <td>...</td>\n",
       "      <td>...</td>\n",
       "      <td>...</td>\n",
       "      <td>...</td>\n",
       "      <td>...</td>\n",
       "    </tr>\n",
       "    <tr>\n",
       "      <th>2019-01-04</th>\n",
       "      <td>4160.00</td>\n",
       "      <td>17765.86</td>\n",
       "      <td>3039.91</td>\n",
       "      <td>4253.74</td>\n",
       "      <td>5215.888833</td>\n",
       "      <td>7754.694356</td>\n",
       "      <td>2677.083311</td>\n",
       "      <td>1.0</td>\n",
       "      <td>-0.250396</td>\n",
       "      <td>-0.250396</td>\n",
       "    </tr>\n",
       "    <tr>\n",
       "      <th>2019-01-05</th>\n",
       "      <td>4193.63</td>\n",
       "      <td>49922.62</td>\n",
       "      <td>3103.20</td>\n",
       "      <td>5656.52</td>\n",
       "      <td>5138.482667</td>\n",
       "      <td>7473.680047</td>\n",
       "      <td>2803.285286</td>\n",
       "      <td>1.0</td>\n",
       "      <td>0.329776</td>\n",
       "      <td>0.329776</td>\n",
       "    </tr>\n",
       "    <tr>\n",
       "      <th>2019-01-06</th>\n",
       "      <td>5060.00</td>\n",
       "      <td>45000.45</td>\n",
       "      <td>3230.35</td>\n",
       "      <td>6065.13</td>\n",
       "      <td>5135.433000</td>\n",
       "      <td>7467.581429</td>\n",
       "      <td>2803.284571</td>\n",
       "      <td>1.0</td>\n",
       "      <td>0.072237</td>\n",
       "      <td>0.072237</td>\n",
       "    </tr>\n",
       "    <tr>\n",
       "      <th>2019-01-07</th>\n",
       "      <td>4400.00</td>\n",
       "      <td>29961.20</td>\n",
       "      <td>3033.37</td>\n",
       "      <td>7982.54</td>\n",
       "      <td>5027.694333</td>\n",
       "      <td>6581.729868</td>\n",
       "      <td>3473.658799</td>\n",
       "      <td>-1.0</td>\n",
       "      <td>0.316137</td>\n",
       "      <td>-0.316137</td>\n",
       "    </tr>\n",
       "    <tr>\n",
       "      <th>2019-01-08</th>\n",
       "      <td>4800.00</td>\n",
       "      <td>8957.02</td>\n",
       "      <td>3383.77</td>\n",
       "      <td>4170.85</td>\n",
       "      <td>4987.658333</td>\n",
       "      <td>6520.071297</td>\n",
       "      <td>3455.245370</td>\n",
       "      <td>-1.0</td>\n",
       "      <td>-0.477503</td>\n",
       "      <td>0.477503</td>\n",
       "    </tr>\n",
       "  </tbody>\n",
       "</table>\n",
       "<p>1468 rows × 10 columns</p>\n",
       "</div>"
      ],
      "text/plain": [
       "               open      high      low    close  Rolling Mean  Bollinger High  \\\n",
       "datetime                                                                        \n",
       "2015-01-02   791.14   1262.63   277.40   334.22    423.651167      532.997706   \n",
       "2015-01-03   367.34   1206.43   263.71   349.00    423.101667      533.111861   \n",
       "2015-01-04   367.38   1200.48   234.51   374.64    422.618500      532.967095   \n",
       "2015-01-05   290.36   1199.76   180.49   293.00    420.663333      533.813687   \n",
       "2015-01-06   255.54   1960.78   235.44   346.19    415.600167      520.244573   \n",
       "...             ...       ...      ...      ...           ...             ...   \n",
       "2019-01-04  4160.00  17765.86  3039.91  4253.74   5215.888833     7754.694356   \n",
       "2019-01-05  4193.63  49922.62  3103.20  5656.52   5138.482667     7473.680047   \n",
       "2019-01-06  5060.00  45000.45  3230.35  6065.13   5135.433000     7467.581429   \n",
       "2019-01-07  4400.00  29961.20  3033.37  7982.54   5027.694333     6581.729868   \n",
       "2019-01-08  4800.00   8957.02  3383.77  4170.85   4987.658333     6520.071297   \n",
       "\n",
       "            Bollinger Low  Position  Market Return  Strategy Return  \n",
       "datetime                                                             \n",
       "2015-01-02     314.304628       NaN            NaN              NaN  \n",
       "2015-01-03     313.091472       NaN       0.044222              NaN  \n",
       "2015-01-04     312.269905       NaN       0.073467              NaN  \n",
       "2015-01-05     307.512980       1.0      -0.217916        -0.217916  \n",
       "2015-01-06     310.955760       1.0       0.181536         0.181536  \n",
       "...                   ...       ...            ...              ...  \n",
       "2019-01-04    2677.083311       1.0      -0.250396        -0.250396  \n",
       "2019-01-05    2803.285286       1.0       0.329776         0.329776  \n",
       "2019-01-06    2803.284571       1.0       0.072237         0.072237  \n",
       "2019-01-07    3473.658799      -1.0       0.316137        -0.316137  \n",
       "2019-01-08    3455.245370      -1.0      -0.477503         0.477503  \n",
       "\n",
       "[1468 rows x 10 columns]"
      ]
     },
     "execution_count": 53,
     "metadata": {},
     "output_type": "execute_result"
    }
   ],
   "source": [
    "price_df"
   ]
  },
  {
   "cell_type": "code",
   "execution_count": 147,
   "metadata": {},
   "outputs": [],
   "source": [
    "class BollingerBandsSimulator:\n",
    "\n",
    "    def __init__(self, df_original, from_date, period, window, no_of_std, figsize=None):\n",
    "        self.df = df_original\n",
    "        self.from_date = from_date\n",
    "        self.period = period\n",
    "        self.window = window\n",
    "        self.no_of_std = no_of_std\n",
    "        self.figsize = figsize\n",
    "        \n",
    "        self.ml_model = None\n",
    "\n",
    "        \n",
    "        \n",
    "    def _scale_time_series(self, input_df, train_cols=['open', 'high', 'low'], pred_col ='close', time_cols = ['year', 'month', 'day']):\n",
    "        ts_transformers = {}\n",
    "        ts_stacked_series = None\n",
    "        train_series = None\n",
    "        for col  in train_cols:\n",
    "            transformer = Scaler()\n",
    "            transformed_series = transformer.fit_transform(fill_missing_values(TimeSeries.from_series(input_df[col],  freq='D')))\n",
    "            ts_transformers[col] = transformer    \n",
    "\n",
    "            if ts_stacked_series:\n",
    "                ts_stacked_series = ts_stacked_series.stack(transformed_series)\n",
    "\n",
    "            else:\n",
    "                ts_stacked_series = transformed_series\n",
    "             \n",
    "        transformer = Scaler()\n",
    "        train_close_series = transformer.fit_transform(fill_missing_values(TimeSeries.from_series(input_df[pred_col],  freq='D')))\n",
    "        ts_transformers[pred_col] = transformer    \n",
    "            \n",
    "        \n",
    "        # build year and month series:\n",
    "        for col in time_cols:\n",
    "            transformer = Scaler()\n",
    "            transformed_series = transformer.fit_transform(datetime_attribute_timeseries(ts_stacked_series, attribute=col))\n",
    "            ts_transformers[col] = transformer    \n",
    "\n",
    "            ts_stacked_series = ts_stacked_series.stack(transformed_series)\n",
    "             \n",
    "\n",
    "        return ts_transformers, ts_stacked_series, train_close_series\n",
    "    \n",
    "    def __check_ml_prediction(self, end_time, input_chunk_length=30, output_chunk_length=7, epochs=2) -> float:\n",
    "        \"\"\"train ML model to predict price movement over the next 7 days\"\"\"\n",
    "        \n",
    "        if not self.ml_model: # define model once, retrain incrementally\n",
    "            self.ml_model = NBEATSModel(input_chunk_length=input_chunk_length, \n",
    "                                      output_chunk_length=output_chunk_length, n_epochs=epochs, random_state=0)\n",
    "\n",
    "        training_df = self.df[self.df.index <= pd.to_datetime(end_time)]\n",
    "        \n",
    "        ts_transformers, ts_stacked_series, train_close_series = self._scale_time_series(training_df)\n",
    "        \n",
    "\n",
    "        # train the model\n",
    "        self.ml_model.fit(series = train_close_series, past_covariates = [ts_stacked_series],  verbose=True)\n",
    "\n",
    "        \n",
    "        plt.show()\n",
    "        pred_close = self.ml_model.predict(n=output_chunk_length, \n",
    "                                                 series=train_close_series, past_covariates = [ts_stacked_series])\n",
    "        \n",
    "        return close_transformer.inverse_transform(pred_close).last_value()\n",
    "        \n",
    "    \n",
    "    def _build_candles_dataframe(self):\n",
    "        self.df = self.df.loc[self.from_date:, [\"price\"]].copy()\n",
    "        self.df = self.df[\"price\"].resample(self.period).ohlc()\n",
    "                \n",
    "    def _build_bollinger_bands(self):\n",
    "        rolling_mean = self.df['close'].rolling(self.window).mean()\n",
    "        rolling_std = self.df['close'].rolling(self.window).std()\n",
    "\n",
    "        self.df['Rolling Mean'] = rolling_mean\n",
    "        self.df['Bollinger High'] = rolling_mean + (rolling_std * self.no_of_std)\n",
    "        self.df['Bollinger Low'] = rolling_mean - (rolling_std * self.no_of_std)\n",
    "\n",
    "    def _calculate_positions(self):\n",
    "        self.df['Position'] = None\n",
    "        self.df['Mode'] = None\n",
    "        self.number_of_trades = 0\n",
    "        buy_has_crossed_mean = False\n",
    "        short_has_crossed_mean = False\n",
    "\n",
    "\n",
    "        mode = 'no_position'\n",
    "        \n",
    "        for index in range(len(self.df)):\n",
    "            if index == 0:\n",
    "                self.df.iloc[index, self.df.columns.get_loc('Mode')] =  mode\n",
    "                continue\n",
    "\n",
    "            row = self.df.iloc[index]\n",
    "            prev_row = self.df.iloc[index - 1]\n",
    "                                                           \n",
    "            \n",
    "            # get out of position if price crosses mean\n",
    "            # (if mode == 'open' or mode == 'no_position' ) and \n",
    "            if mode == 'buy'  and row['close'] > row['Rolling Mean']:\n",
    "                buy_has_crossed_mean = True\n",
    "                \n",
    "            if mode == 'short'  and row['close'] < row['Rolling Mean']:\n",
    "                short_has_crossed_mean = True\n",
    "\n",
    "            # open -> no_position? no position is below running mean\n",
    "            # or, if we are above the top band (mean reversion)\n",
    "            if mode == 'buy'  and ((row['close'] < row['Rolling Mean'] and buy_has_crossed_mean) or (row['close'] > row['Bollinger High'])):\n",
    "                self.df.iloc[index, self.df.columns.get_loc('Position')] = 1\n",
    "\n",
    "                if index +1  == len(self.df):\n",
    "                    self.df.iloc[index, self.df.columns.get_loc('Position')] = 0 \n",
    "                else:\n",
    "                    self.df.iloc[index + 1, self.df.columns.get_loc('Position')] = 0 # for pct change it does a ffilll. ffill with zeros\n",
    "                self.df.iloc[index, self.df.columns.get_loc('Mode')] = 'buy_to_no_position'\n",
    "                self.number_of_trades  +=1\n",
    "                mode = 'no_position'\n",
    "                buy_has_crossed_mean = False\n",
    "            \n",
    "            # close -> no_position? no position if above running mean\n",
    "            # or, if we are below the bottom band (mean reversion)\n",
    "            elif mode == 'short'  and ((row['close'] > row['Rolling Mean'] and short_has_crossed_mean) or (row['close'] < row['Bollinger Low'])):\n",
    "                self.df.iloc[index, self.df.columns.get_loc('Position')] = -1\n",
    "                if index +1  == len(self.df):\n",
    "                    self.df.iloc[index, self.df.columns.get_loc('Position')] = 0 \n",
    "                else:\n",
    "                    self.df.iloc[index + 1, self.df.columns.get_loc('Position')] = 0 # for pct change it does a ffilll. ffill with zeros\n",
    "                self.df.iloc[index, self.df.columns.get_loc('Mode')] = 'short_to_no_position'\n",
    "                self.number_of_trades  +=1\n",
    "                mode = 'no_position'\n",
    "                short_has_crossed_mean = False\n",
    "\n",
    "            # buy check with ML model\n",
    "            elif mode == 'no_position' and row['close'] < row['Bollinger Low'] and prev_row['close'] > prev_row['Bollinger Low']:\n",
    "                print('----------')\n",
    "                print('buy')\n",
    "                ml_7_day_pred = self.__check_ml_prediction(row.name)\n",
    "                \n",
    "                print(ml_7_day_pred, 'ml prediction 7 day')\n",
    "                print(row.name, 'current date')\n",
    "                print(row['Rolling Mean'], 'mean')\n",
    "                \n",
    "                if ml_7_day_pred > row['Rolling Mean']:\n",
    "                    print('pred 7 day higher than mean taking position')\n",
    "                \n",
    "                    self.df.iloc[index, self.df.columns.get_loc('Position')] = 0 # buy. add one to index so that pct_change works\n",
    "\n",
    "                    if index +1  == len(self.df):\n",
    "                        self.df.iloc[index, self.df.columns.get_loc('Position')] = 1 \n",
    "                    else:\n",
    "                        self.df.iloc[index + 1, self.df.columns.get_loc('Position')] = 1 # buy. add one to index so that pct_change works\n",
    "                    self.df.iloc[index, self.df.columns.get_loc('Mode')] = 'buy'\n",
    "                    self.number_of_trades  +=1\n",
    "                    mode = 'buy'     \n",
    "\n",
    "            # short?\n",
    "            elif mode == 'no_position' and  row['close'] > row['Bollinger High'] and prev_row['close'] < prev_row['Bollinger High']:\n",
    "                print('----------')\n",
    "                print('short')\n",
    "                ml_7_day_pred = self.__check_ml_prediction(row.name)\n",
    "                \n",
    "                print(ml_7_day_pred, 'ml prediction 7 day')\n",
    "                print(row.name, 'current date')\n",
    "                print(row['Rolling Mean'], 'mean')\n",
    "                \n",
    "                if ml_7_day_pred < row['Rolling Mean']:\n",
    "                    print('pred 7 day lower than mean taking position')\n",
    "\n",
    "                    self.df.iloc[index, self.df.columns.get_loc('Position')] = 0 #  short starts at the end of the day. Calculate pct_change starting tomorrow\n",
    "                    self.df.iloc[index + 1, self.df.columns.get_loc('Position')] = -1 #  short starts at the end of the day. Calculate pct_change starting tomorrow\n",
    "                    if index +1  == len(self.df):\n",
    "                        self.df.iloc[index, self.df.columns.get_loc('Position')] = -1\n",
    "                    else:\n",
    "                        self.df.iloc[index + 1, self.df.columns.get_loc('Position')] = -1 # buy. add one to index so that pct_change works\n",
    "                    self.df.iloc[index, self.df.columns.get_loc('Mode')] = 'short'\n",
    "                    self.number_of_trades  +=1\n",
    "                    mode = 'short' \n",
    "                       \n",
    "            else:\n",
    "                self.df.iloc[index, self.df.columns.get_loc('Mode')] = mode\n",
    "        \n",
    "    def _calculate_returns(self):\n",
    "        \n",
    "        self.df['Original Position'] = self.df['Position']\n",
    "        self.df['Position'].fillna(method='ffill', inplace=True)\n",
    "        self.df['Market Return'] = self.df['close'].pct_change()\n",
    "        self.df['Strategy Return'] = self.df['Market Return'] * self.df['Position']\n",
    "\n",
    "    def _plot_returns(self):\n",
    "        self.df['Strategy Return'].cumsum().plot(figsize=self.figsize)\n",
    "        \n",
    "\n",
    "    def simulate(self):\n",
    "        self._build_candles_dataframe()\n",
    "        self._build_bollinger_bands()\n",
    "        self._calculate_positions()\n",
    "        self._calculate_returns()\n",
    "        self._plot_returns()\n",
    "\n",
    "        return (\n",
    "            self.period, \n",
    "            self.window, \n",
    "            self.no_of_std, \n",
    "            self.df['Strategy Return'].sum(),\n",
    "            self.number_of_trades\n",
    "        )"
   ]
  },
  {
   "cell_type": "code",
   "execution_count": 162,
   "metadata": {},
   "outputs": [
    {
     "name": "stdout",
     "output_type": "stream",
     "text": [
      "----------\n",
      "short\n"
     ]
    },
    {
     "data": {
      "application/vnd.jupyter.widget-view+json": {
       "model_id": "6d359db1df4d4c2d942354b471fcb64a",
       "version_major": 2,
       "version_minor": 0
      },
      "text/plain": [
       "  0%|          | 0/2 [00:00<?, ?it/s]"
      ]
     },
     "metadata": {},
     "output_type": "display_data"
    },
    {
     "name": "stdout",
     "output_type": "stream",
     "text": [
      "9342.869740860817 ml prediction 7 day\n",
      "2017-02-20 00:00:00 current date\n",
      "1307.503 mean\n",
      "----------\n",
      "short\n"
     ]
    },
    {
     "data": {
      "application/vnd.jupyter.widget-view+json": {
       "model_id": "75a39fde5d8b4d959c290f2b02a9ad9c",
       "version_major": 2,
       "version_minor": 0
      },
      "text/plain": [
       "  0%|          | 0/2 [00:00<?, ?it/s]"
      ]
     },
     "metadata": {},
     "output_type": "display_data"
    },
    {
     "name": "stdout",
     "output_type": "stream",
     "text": [
      "4248.052561999918 ml prediction 7 day\n",
      "2017-02-24 00:00:00 current date\n",
      "1411.3600000000001 mean\n",
      "----------\n",
      "buy\n"
     ]
    },
    {
     "data": {
      "application/vnd.jupyter.widget-view+json": {
       "model_id": "b554aa5106ae4a31a1da488c65789d1b",
       "version_major": 2,
       "version_minor": 0
      },
      "text/plain": [
       "  0%|          | 0/2 [00:00<?, ?it/s]"
      ]
     },
     "metadata": {},
     "output_type": "display_data"
    },
    {
     "name": "stdout",
     "output_type": "stream",
     "text": [
      "965.8974787999194 ml prediction 7 day\n",
      "2017-03-31 00:00:00 current date\n",
      "1470.768 mean\n",
      "----------\n",
      "short\n"
     ]
    },
    {
     "data": {
      "application/vnd.jupyter.widget-view+json": {
       "model_id": "eb429eaa9dce433c8036c627dbf4d6ef",
       "version_major": 2,
       "version_minor": 0
      },
      "text/plain": [
       "  0%|          | 0/2 [00:00<?, ?it/s]"
      ]
     },
     "metadata": {},
     "output_type": "display_data"
    },
    {
     "name": "stdout",
     "output_type": "stream",
     "text": [
      "2248.652648508824 ml prediction 7 day\n",
      "2017-04-15 00:00:00 current date\n",
      "1417.3853333333332 mean\n",
      "----------\n",
      "short\n"
     ]
    },
    {
     "data": {
      "application/vnd.jupyter.widget-view+json": {
       "model_id": "7569bcac0b334e228d3a2ddeb5b1a70c",
       "version_major": 2,
       "version_minor": 0
      },
      "text/plain": [
       "  0%|          | 0/2 [00:00<?, ?it/s]"
      ]
     },
     "metadata": {},
     "output_type": "display_data"
    },
    {
     "name": "stdout",
     "output_type": "stream",
     "text": [
      "4490.852862147853 ml prediction 7 day\n",
      "2017-04-24 00:00:00 current date\n",
      "1500.1433333333332 mean\n",
      "----------\n",
      "short\n"
     ]
    },
    {
     "data": {
      "application/vnd.jupyter.widget-view+json": {
       "model_id": "d1be9420c45d4ccca0d2595bcde1341b",
       "version_major": 2,
       "version_minor": 0
      },
      "text/plain": [
       "  0%|          | 0/2 [00:00<?, ?it/s]"
      ]
     },
     "metadata": {},
     "output_type": "display_data"
    },
    {
     "name": "stdout",
     "output_type": "stream",
     "text": [
      "2821.471222877901 ml prediction 7 day\n",
      "2017-04-26 00:00:00 current date\n",
      "1511.0666666666666 mean\n",
      "----------\n",
      "short\n"
     ]
    },
    {
     "data": {
      "application/vnd.jupyter.widget-view+json": {
       "model_id": "d4351f6d950c48498c4e075d3beb4c02",
       "version_major": 2,
       "version_minor": 0
      },
      "text/plain": [
       "  0%|          | 0/2 [00:00<?, ?it/s]"
      ]
     },
     "metadata": {},
     "output_type": "display_data"
    },
    {
     "name": "stdout",
     "output_type": "stream",
     "text": [
      "4043.7997931465284 ml prediction 7 day\n",
      "2017-05-06 00:00:00 current date\n",
      "1654.4153333333336 mean\n",
      "----------\n",
      "short\n"
     ]
    },
    {
     "data": {
      "application/vnd.jupyter.widget-view+json": {
       "model_id": "70af6ae2789d42b5b4cc1dde5d86a967",
       "version_major": 2,
       "version_minor": 0
      },
      "text/plain": [
       "  0%|          | 0/2 [00:00<?, ?it/s]"
      ]
     },
     "metadata": {},
     "output_type": "display_data"
    },
    {
     "name": "stdout",
     "output_type": "stream",
     "text": [
      "3421.9226558622636 ml prediction 7 day\n",
      "2017-05-12 00:00:00 current date\n",
      "1817.78 mean\n",
      "----------\n",
      "short\n"
     ]
    },
    {
     "data": {
      "application/vnd.jupyter.widget-view+json": {
       "model_id": "bd5dea80e48f48bebdeed1f7d348cea1",
       "version_major": 2,
       "version_minor": 0
      },
      "text/plain": [
       "  0%|          | 0/2 [00:00<?, ?it/s]"
      ]
     },
     "metadata": {},
     "output_type": "display_data"
    },
    {
     "name": "stdout",
     "output_type": "stream",
     "text": [
      "2781.2308604819964 ml prediction 7 day\n",
      "2017-05-14 00:00:00 current date\n",
      "1897.07 mean\n",
      "----------\n",
      "short\n"
     ]
    },
    {
     "data": {
      "application/vnd.jupyter.widget-view+json": {
       "model_id": "423a64869d2e4ea9b66093ae4d1d1f2b",
       "version_major": 2,
       "version_minor": 0
      },
      "text/plain": [
       "  0%|          | 0/2 [00:00<?, ?it/s]"
      ]
     },
     "metadata": {},
     "output_type": "display_data"
    },
    {
     "name": "stdout",
     "output_type": "stream",
     "text": [
      "2969.0912824399134 ml prediction 7 day\n",
      "2017-05-17 00:00:00 current date\n",
      "1954.007 mean\n",
      "----------\n",
      "short\n"
     ]
    },
    {
     "data": {
      "application/vnd.jupyter.widget-view+json": {
       "model_id": "c6bf94ad22c348d492d1820bebc1d06e",
       "version_major": 2,
       "version_minor": 0
      },
      "text/plain": [
       "  0%|          | 0/2 [00:00<?, ?it/s]"
      ]
     },
     "metadata": {},
     "output_type": "display_data"
    },
    {
     "name": "stdout",
     "output_type": "stream",
     "text": [
      "3152.1662717232944 ml prediction 7 day\n",
      "2017-05-19 00:00:00 current date\n",
      "2012.946 mean\n",
      "----------\n",
      "short\n"
     ]
    },
    {
     "data": {
      "application/vnd.jupyter.widget-view+json": {
       "model_id": "0a4d0016d4ea42598a3fb13356de6ebc",
       "version_major": 2,
       "version_minor": 0
      },
      "text/plain": [
       "  0%|          | 0/2 [00:00<?, ?it/s]"
      ]
     },
     "metadata": {},
     "output_type": "display_data"
    },
    {
     "name": "stdout",
     "output_type": "stream",
     "text": [
      "4218.9055740047215 ml prediction 7 day\n",
      "2017-05-21 00:00:00 current date\n",
      "2073.831333333333 mean\n",
      "----------\n",
      "short\n"
     ]
    },
    {
     "data": {
      "application/vnd.jupyter.widget-view+json": {
       "model_id": "a38b60d5993047148eae438a181d3e80",
       "version_major": 2,
       "version_minor": 0
      },
      "text/plain": [
       "  0%|          | 0/2 [00:00<?, ?it/s]"
      ]
     },
     "metadata": {},
     "output_type": "display_data"
    },
    {
     "name": "stdout",
     "output_type": "stream",
     "text": [
      "4831.80887521108 ml prediction 7 day\n",
      "2017-05-24 00:00:00 current date\n",
      "2220.39 mean\n",
      "----------\n",
      "short\n"
     ]
    },
    {
     "data": {
      "application/vnd.jupyter.widget-view+json": {
       "model_id": "d0b6cbaa78b045f680e7c25284b04d3f",
       "version_major": 2,
       "version_minor": 0
      },
      "text/plain": [
       "  0%|          | 0/2 [00:00<?, ?it/s]"
      ]
     },
     "metadata": {},
     "output_type": "display_data"
    },
    {
     "name": "stdout",
     "output_type": "stream",
     "text": [
      "6236.543210223677 ml prediction 7 day\n",
      "2017-06-02 00:00:00 current date\n",
      "2635.0673333333334 mean\n",
      "----------\n",
      "short\n"
     ]
    },
    {
     "data": {
      "application/vnd.jupyter.widget-view+json": {
       "model_id": "1db69373fc65458a9962f18f1ebcc41a",
       "version_major": 2,
       "version_minor": 0
      },
      "text/plain": [
       "  0%|          | 0/2 [00:00<?, ?it/s]"
      ]
     },
     "metadata": {},
     "output_type": "display_data"
    },
    {
     "name": "stdout",
     "output_type": "stream",
     "text": [
      "9324.871072601858 ml prediction 7 day\n",
      "2017-06-05 00:00:00 current date\n",
      "2825.4146666666666 mean\n",
      "----------\n",
      "short\n"
     ]
    },
    {
     "data": {
      "application/vnd.jupyter.widget-view+json": {
       "model_id": "d67dd272d37a408fa5c1a54987235993",
       "version_major": 2,
       "version_minor": 0
      },
      "text/plain": [
       "  0%|          | 0/2 [00:00<?, ?it/s]"
      ]
     },
     "metadata": {},
     "output_type": "display_data"
    },
    {
     "name": "stdout",
     "output_type": "stream",
     "text": [
      "14155.52146470425 ml prediction 7 day\n",
      "2017-06-11 00:00:00 current date\n",
      "3163.8106666666667 mean\n",
      "----------\n",
      "short\n"
     ]
    },
    {
     "data": {
      "application/vnd.jupyter.widget-view+json": {
       "model_id": "bbba5b60cf06499e8a40c1a33b490438",
       "version_major": 2,
       "version_minor": 0
      },
      "text/plain": [
       "  0%|          | 0/2 [00:00<?, ?it/s]"
      ]
     },
     "metadata": {},
     "output_type": "display_data"
    },
    {
     "name": "stdout",
     "output_type": "stream",
     "text": [
      "18723.044041432735 ml prediction 7 day\n",
      "2017-06-17 00:00:00 current date\n",
      "3567.3203333333336 mean\n",
      "----------\n",
      "short\n"
     ]
    },
    {
     "data": {
      "application/vnd.jupyter.widget-view+json": {
       "model_id": "ff401dbe50d442dc8792c84f9db4a5cd",
       "version_major": 2,
       "version_minor": 0
      },
      "text/plain": [
       "  0%|          | 0/2 [00:00<?, ?it/s]"
      ]
     },
     "metadata": {},
     "output_type": "display_data"
    },
    {
     "name": "stdout",
     "output_type": "stream",
     "text": [
      "12969.952666001996 ml prediction 7 day\n",
      "2017-07-18 00:00:00 current date\n",
      "3247.089 mean\n",
      "----------\n",
      "buy\n"
     ]
    },
    {
     "data": {
      "application/vnd.jupyter.widget-view+json": {
       "model_id": "e206319380ec4cf4ab204a1dcf115e3e",
       "version_major": 2,
       "version_minor": 0
      },
      "text/plain": [
       "  0%|          | 0/2 [00:00<?, ?it/s]"
      ]
     },
     "metadata": {},
     "output_type": "display_data"
    },
    {
     "name": "stdout",
     "output_type": "stream",
     "text": [
      "11997.889066554344 ml prediction 7 day\n",
      "2017-07-19 00:00:00 current date\n",
      "3203.3773333333334 mean\n",
      "pred 7 day higher than mean taking position\n",
      "----------\n",
      "short\n"
     ]
    },
    {
     "data": {
      "application/vnd.jupyter.widget-view+json": {
       "model_id": "50c9918e480d4c0087711b9a233f28e7",
       "version_major": 2,
       "version_minor": 0
      },
      "text/plain": [
       "  0%|          | 0/2 [00:00<?, ?it/s]"
      ]
     },
     "metadata": {},
     "output_type": "display_data"
    },
    {
     "name": "stdout",
     "output_type": "stream",
     "text": [
      "10630.044695980625 ml prediction 7 day\n",
      "2017-07-29 00:00:00 current date\n",
      "3245.672 mean\n",
      "----------\n",
      "short\n"
     ]
    },
    {
     "data": {
      "application/vnd.jupyter.widget-view+json": {
       "model_id": "51577e557fca4311b9c4001f6ef7c04b",
       "version_major": 2,
       "version_minor": 0
      },
      "text/plain": [
       "  0%|          | 0/2 [00:00<?, ?it/s]"
      ]
     },
     "metadata": {},
     "output_type": "display_data"
    },
    {
     "name": "stdout",
     "output_type": "stream",
     "text": [
      "11692.281484597928 ml prediction 7 day\n",
      "2017-08-05 00:00:00 current date\n",
      "3317.5943333333335 mean\n",
      "----------\n",
      "short\n"
     ]
    },
    {
     "data": {
      "application/vnd.jupyter.widget-view+json": {
       "model_id": "fd88f31d2dfb4267ba661784927c868a",
       "version_major": 2,
       "version_minor": 0
      },
      "text/plain": [
       "  0%|          | 0/2 [00:00<?, ?it/s]"
      ]
     },
     "metadata": {},
     "output_type": "display_data"
    },
    {
     "name": "stdout",
     "output_type": "stream",
     "text": [
      "10889.926742420075 ml prediction 7 day\n",
      "2017-08-12 00:00:00 current date\n",
      "3645.394333333333 mean\n",
      "----------\n",
      "short\n"
     ]
    },
    {
     "data": {
      "application/vnd.jupyter.widget-view+json": {
       "model_id": "b34de4c6e6ff4825ab25ac447c731b4b",
       "version_major": 2,
       "version_minor": 0
      },
      "text/plain": [
       "  0%|          | 0/2 [00:00<?, ?it/s]"
      ]
     },
     "metadata": {},
     "output_type": "display_data"
    },
    {
     "name": "stdout",
     "output_type": "stream",
     "text": [
      "8021.668046398576 ml prediction 7 day\n",
      "2017-08-17 00:00:00 current date\n",
      "4007.4946666666665 mean\n",
      "----------\n",
      "short\n"
     ]
    },
    {
     "data": {
      "application/vnd.jupyter.widget-view+json": {
       "model_id": "b5b5255404f04d18864849915efeb6db",
       "version_major": 2,
       "version_minor": 0
      },
      "text/plain": [
       "  0%|          | 0/2 [00:00<?, ?it/s]"
      ]
     },
     "metadata": {},
     "output_type": "display_data"
    },
    {
     "name": "stdout",
     "output_type": "stream",
     "text": [
      "13754.193001030664 ml prediction 7 day\n",
      "2017-08-24 00:00:00 current date\n",
      "4602.2373333333335 mean\n",
      "----------\n",
      "short\n"
     ]
    },
    {
     "data": {
      "application/vnd.jupyter.widget-view+json": {
       "model_id": "007ac1cc1a014bfbb0094b8cbf59ac90",
       "version_major": 2,
       "version_minor": 0
      },
      "text/plain": [
       "  0%|          | 0/2 [00:00<?, ?it/s]"
      ]
     },
     "metadata": {},
     "output_type": "display_data"
    },
    {
     "name": "stdout",
     "output_type": "stream",
     "text": [
      "16129.353602511886 ml prediction 7 day\n",
      "2017-08-28 00:00:00 current date\n",
      "4911.528666666666 mean\n",
      "----------\n",
      "buy\n"
     ]
    },
    {
     "data": {
      "application/vnd.jupyter.widget-view+json": {
       "model_id": "b8d1771774e941b681ef223b7197a47f",
       "version_major": 2,
       "version_minor": 0
      },
      "text/plain": [
       "  0%|          | 0/2 [00:00<?, ?it/s]"
      ]
     },
     "metadata": {},
     "output_type": "display_data"
    },
    {
     "name": "stdout",
     "output_type": "stream",
     "text": [
      "19177.08698525576 ml prediction 7 day\n",
      "2017-09-12 00:00:00 current date\n",
      "5612.338999999999 mean\n",
      "pred 7 day higher than mean taking position\n",
      "----------\n",
      "short\n"
     ]
    },
    {
     "data": {
      "application/vnd.jupyter.widget-view+json": {
       "model_id": "44332ed48c2b4f55a7d88096305a629d",
       "version_major": 2,
       "version_minor": 0
      },
      "text/plain": [
       "  0%|          | 0/2 [00:00<?, ?it/s]"
      ]
     },
     "metadata": {},
     "output_type": "display_data"
    },
    {
     "name": "stdout",
     "output_type": "stream",
     "text": [
      "17935.076054726458 ml prediction 7 day\n",
      "2017-10-03 00:00:00 current date\n",
      "5116.482333333333 mean\n",
      "----------\n",
      "short\n"
     ]
    },
    {
     "data": {
      "application/vnd.jupyter.widget-view+json": {
       "model_id": "07bde55989f44b89b817f947e502a579",
       "version_major": 2,
       "version_minor": 0
      },
      "text/plain": [
       "  0%|          | 0/2 [00:00<?, ?it/s]"
      ]
     },
     "metadata": {},
     "output_type": "display_data"
    },
    {
     "name": "stdout",
     "output_type": "stream",
     "text": [
      "21964.00525678514 ml prediction 7 day\n",
      "2017-10-10 00:00:00 current date\n",
      "5349.883666666666 mean\n",
      "----------\n",
      "short\n"
     ]
    },
    {
     "data": {
      "application/vnd.jupyter.widget-view+json": {
       "model_id": "576a4e39892d4676a6d744c57a1516e0",
       "version_major": 2,
       "version_minor": 0
      },
      "text/plain": [
       "  0%|          | 0/2 [00:00<?, ?it/s]"
      ]
     },
     "metadata": {},
     "output_type": "display_data"
    },
    {
     "name": "stdout",
     "output_type": "stream",
     "text": [
      "24596.91886788057 ml prediction 7 day\n",
      "2017-10-13 00:00:00 current date\n",
      "5484.36 mean\n",
      "----------\n",
      "short\n"
     ]
    },
    {
     "data": {
      "application/vnd.jupyter.widget-view+json": {
       "model_id": "48d66fa0d4934e82a38a1602e496a5e3",
       "version_major": 2,
       "version_minor": 0
      },
      "text/plain": [
       "  0%|          | 0/2 [00:00<?, ?it/s]"
      ]
     },
     "metadata": {},
     "output_type": "display_data"
    },
    {
     "name": "stdout",
     "output_type": "stream",
     "text": [
      "26550.111104041196 ml prediction 7 day\n",
      "2017-10-16 00:00:00 current date\n",
      "5713.604666666666 mean\n",
      "----------\n",
      "short\n"
     ]
    },
    {
     "data": {
      "application/vnd.jupyter.widget-view+json": {
       "model_id": "ab4ac736ae3740e8b870e4b42e5ba475",
       "version_major": 2,
       "version_minor": 0
      },
      "text/plain": [
       "  0%|          | 0/2 [00:00<?, ?it/s]"
      ]
     },
     "metadata": {},
     "output_type": "display_data"
    },
    {
     "name": "stdout",
     "output_type": "stream",
     "text": [
      "23114.547344324088 ml prediction 7 day\n",
      "2017-10-20 00:00:00 current date\n",
      "6068.723 mean\n",
      "----------\n",
      "short\n"
     ]
    },
    {
     "data": {
      "application/vnd.jupyter.widget-view+json": {
       "model_id": "55e43a1f44704d848a86d93229b9bc08",
       "version_major": 2,
       "version_minor": 0
      },
      "text/plain": [
       "  0%|          | 0/2 [00:00<?, ?it/s]"
      ]
     },
     "metadata": {},
     "output_type": "display_data"
    },
    {
     "name": "stdout",
     "output_type": "stream",
     "text": [
      "27307.53169743055 ml prediction 7 day\n",
      "2017-10-26 00:00:00 current date\n",
      "6614.081999999999 mean\n",
      "----------\n",
      "short\n"
     ]
    },
    {
     "data": {
      "application/vnd.jupyter.widget-view+json": {
       "model_id": "bec7ef0eeaa343499635f41e36f2a3d6",
       "version_major": 2,
       "version_minor": 0
      },
      "text/plain": [
       "  0%|          | 0/2 [00:00<?, ?it/s]"
      ]
     },
     "metadata": {},
     "output_type": "display_data"
    },
    {
     "name": "stdout",
     "output_type": "stream",
     "text": [
      "17972.51102695779 ml prediction 7 day\n",
      "2017-11-04 00:00:00 current date\n",
      "8024.925 mean\n",
      "----------\n",
      "short\n"
     ]
    },
    {
     "data": {
      "application/vnd.jupyter.widget-view+json": {
       "model_id": "b7d84afbbc214abc996c9783ab977359",
       "version_major": 2,
       "version_minor": 0
      },
      "text/plain": [
       "  0%|          | 0/2 [00:00<?, ?it/s]"
      ]
     },
     "metadata": {},
     "output_type": "display_data"
    },
    {
     "name": "stdout",
     "output_type": "stream",
     "text": [
      "25360.88047057471 ml prediction 7 day\n",
      "2017-12-05 00:00:00 current date\n",
      "10415.439333333334 mean\n",
      "----------\n",
      "short\n"
     ]
    },
    {
     "data": {
      "application/vnd.jupyter.widget-view+json": {
       "model_id": "4f7ea6b2667046698b599145061e2fc2",
       "version_major": 2,
       "version_minor": 0
      },
      "text/plain": [
       "  0%|          | 0/2 [00:00<?, ?it/s]"
      ]
     },
     "metadata": {},
     "output_type": "display_data"
    },
    {
     "name": "stdout",
     "output_type": "stream",
     "text": [
      "33304.930859819266 ml prediction 7 day\n",
      "2017-12-13 00:00:00 current date\n",
      "13928.621333333334 mean\n",
      "----------\n",
      "short\n"
     ]
    },
    {
     "data": {
      "application/vnd.jupyter.widget-view+json": {
       "model_id": "ac155897e78640b9a284d1442c571418",
       "version_major": 2,
       "version_minor": 0
      },
      "text/plain": [
       "  0%|          | 0/2 [00:00<?, ?it/s]"
      ]
     },
     "metadata": {},
     "output_type": "display_data"
    },
    {
     "name": "stdout",
     "output_type": "stream",
     "text": [
      "25268.32721970569 ml prediction 7 day\n",
      "2017-12-31 00:00:00 current date\n",
      "19978.280333333336 mean\n",
      "----------\n",
      "short\n"
     ]
    },
    {
     "data": {
      "application/vnd.jupyter.widget-view+json": {
       "model_id": "a5c98845b4b74b04967b0fd0ad9feff9",
       "version_major": 2,
       "version_minor": 0
      },
      "text/plain": [
       "  0%|          | 0/2 [00:00<?, ?it/s]"
      ]
     },
     "metadata": {},
     "output_type": "display_data"
    },
    {
     "name": "stdout",
     "output_type": "stream",
     "text": [
      "8153.843563649085 ml prediction 7 day\n",
      "2018-01-14 00:00:00 current date\n",
      "20756.916 mean\n",
      "pred 7 day lower than mean taking position\n",
      "----------\n",
      "short\n"
     ]
    },
    {
     "data": {
      "application/vnd.jupyter.widget-view+json": {
       "model_id": "063fc67251264e3685a736e46c59909e",
       "version_major": 2,
       "version_minor": 0
      },
      "text/plain": [
       "  0%|          | 0/2 [00:00<?, ?it/s]"
      ]
     },
     "metadata": {},
     "output_type": "display_data"
    },
    {
     "name": "stdout",
     "output_type": "stream",
     "text": [
      "5359.274913497457 ml prediction 7 day\n",
      "2018-02-17 00:00:00 current date\n",
      "12275.011999999999 mean\n",
      "pred 7 day lower than mean taking position\n",
      "----------\n",
      "buy\n"
     ]
    },
    {
     "data": {
      "application/vnd.jupyter.widget-view+json": {
       "model_id": "98c14b6f28374ec6b698d73a996da9e9",
       "version_major": 2,
       "version_minor": 0
      },
      "text/plain": [
       "  0%|          | 0/2 [00:00<?, ?it/s]"
      ]
     },
     "metadata": {},
     "output_type": "display_data"
    },
    {
     "name": "stdout",
     "output_type": "stream",
     "text": [
      "9556.636921311323 ml prediction 7 day\n",
      "2018-03-16 00:00:00 current date\n",
      "12913.050333333334 mean\n",
      "----------\n",
      "short\n"
     ]
    },
    {
     "data": {
      "application/vnd.jupyter.widget-view+json": {
       "model_id": "54bcddab4dbe45a4bcc88f404121efc2",
       "version_major": 2,
       "version_minor": 0
      },
      "text/plain": [
       "  0%|          | 0/2 [00:00<?, ?it/s]"
      ]
     },
     "metadata": {},
     "output_type": "display_data"
    },
    {
     "name": "stdout",
     "output_type": "stream",
     "text": [
      "8840.584951092618 ml prediction 7 day\n",
      "2018-03-17 00:00:00 current date\n",
      "14352.419333333331 mean\n",
      "pred 7 day lower than mean taking position\n",
      "----------\n",
      "short\n"
     ]
    },
    {
     "data": {
      "application/vnd.jupyter.widget-view+json": {
       "model_id": "a3d7e3ef4396475faf525b237db66d6f",
       "version_major": 2,
       "version_minor": 0
      },
      "text/plain": [
       "  0%|          | 0/2 [00:00<?, ?it/s]"
      ]
     },
     "metadata": {},
     "output_type": "display_data"
    },
    {
     "name": "stdout",
     "output_type": "stream",
     "text": [
      "6866.927166248596 ml prediction 7 day\n",
      "2018-04-16 00:00:00 current date\n",
      "9696.798333333334 mean\n",
      "pred 7 day lower than mean taking position\n",
      "----------\n",
      "short\n"
     ]
    },
    {
     "data": {
      "application/vnd.jupyter.widget-view+json": {
       "model_id": "52c8b8157fe947ae826316ffe20c2069",
       "version_major": 2,
       "version_minor": 0
      },
      "text/plain": [
       "  0%|          | 0/2 [00:00<?, ?it/s]"
      ]
     },
     "metadata": {},
     "output_type": "display_data"
    },
    {
     "name": "stdout",
     "output_type": "stream",
     "text": [
      "9568.306368780179 ml prediction 7 day\n",
      "2018-04-22 00:00:00 current date\n",
      "9731.035 mean\n",
      "pred 7 day lower than mean taking position\n",
      "----------\n",
      "short\n"
     ]
    },
    {
     "data": {
      "application/vnd.jupyter.widget-view+json": {
       "model_id": "ca9e9dc668a841ea99d551e5740b3feb",
       "version_major": 2,
       "version_minor": 0
      },
      "text/plain": [
       "  0%|          | 0/2 [00:00<?, ?it/s]"
      ]
     },
     "metadata": {},
     "output_type": "display_data"
    },
    {
     "name": "stdout",
     "output_type": "stream",
     "text": [
      "8154.084637855705 ml prediction 7 day\n",
      "2018-04-25 00:00:00 current date\n",
      "10697.754333333334 mean\n",
      "pred 7 day lower than mean taking position\n",
      "----------\n",
      "short\n"
     ]
    },
    {
     "data": {
      "application/vnd.jupyter.widget-view+json": {
       "model_id": "7a719c6d396f4ef785c6af4ac9c2eed0",
       "version_major": 2,
       "version_minor": 0
      },
      "text/plain": [
       "  0%|          | 0/2 [00:00<?, ?it/s]"
      ]
     },
     "metadata": {},
     "output_type": "display_data"
    },
    {
     "name": "stdout",
     "output_type": "stream",
     "text": [
      "9519.938931285595 ml prediction 7 day\n",
      "2018-05-04 00:00:00 current date\n",
      "12259.985333333334 mean\n",
      "pred 7 day lower than mean taking position\n",
      "----------\n",
      "buy\n"
     ]
    },
    {
     "data": {
      "application/vnd.jupyter.widget-view+json": {
       "model_id": "749499521b14443caf3a702d50ae382a",
       "version_major": 2,
       "version_minor": 0
      },
      "text/plain": [
       "  0%|          | 0/2 [00:00<?, ?it/s]"
      ]
     },
     "metadata": {},
     "output_type": "display_data"
    },
    {
     "name": "stdout",
     "output_type": "stream",
     "text": [
      "9161.809577570899 ml prediction 7 day\n",
      "2018-06-11 00:00:00 current date\n",
      "9317.237666666666 mean\n",
      "----------\n",
      "buy\n"
     ]
    },
    {
     "data": {
      "application/vnd.jupyter.widget-view+json": {
       "model_id": "c3f3c0d6371349dc84390b3297f3e22c",
       "version_major": 2,
       "version_minor": 0
      },
      "text/plain": [
       "  0%|          | 0/2 [00:00<?, ?it/s]"
      ]
     },
     "metadata": {},
     "output_type": "display_data"
    },
    {
     "name": "stdout",
     "output_type": "stream",
     "text": [
      "7737.477499519295 ml prediction 7 day\n",
      "2018-06-17 00:00:00 current date\n",
      "9100.655666666666 mean\n",
      "----------\n",
      "buy\n"
     ]
    },
    {
     "data": {
      "application/vnd.jupyter.widget-view+json": {
       "model_id": "b985600dc2fc4eed91d2ea630844da7b",
       "version_major": 2,
       "version_minor": 0
      },
      "text/plain": [
       "  0%|          | 0/2 [00:00<?, ?it/s]"
      ]
     },
     "metadata": {},
     "output_type": "display_data"
    },
    {
     "name": "stdout",
     "output_type": "stream",
     "text": [
      "6559.013158141487 ml prediction 7 day\n",
      "2018-06-22 00:00:00 current date\n",
      "8483.628666666667 mean\n",
      "----------\n",
      "short\n"
     ]
    },
    {
     "data": {
      "application/vnd.jupyter.widget-view+json": {
       "model_id": "0b850ac8943a4ce3a3d1b3c9ef0fb11a",
       "version_major": 2,
       "version_minor": 0
      },
      "text/plain": [
       "  0%|          | 0/2 [00:00<?, ?it/s]"
      ]
     },
     "metadata": {},
     "output_type": "display_data"
    },
    {
     "name": "stdout",
     "output_type": "stream",
     "text": [
      "5541.989370488527 ml prediction 7 day\n",
      "2018-07-16 00:00:00 current date\n",
      "7431.244333333333 mean\n",
      "pred 7 day lower than mean taking position\n",
      "----------\n",
      "short\n"
     ]
    },
    {
     "data": {
      "application/vnd.jupyter.widget-view+json": {
       "model_id": "a0be799ce3a34972bbd3cec6f4d148c0",
       "version_major": 2,
       "version_minor": 0
      },
      "text/plain": [
       "  0%|          | 0/2 [00:00<?, ?it/s]"
      ]
     },
     "metadata": {},
     "output_type": "display_data"
    },
    {
     "name": "stdout",
     "output_type": "stream",
     "text": [
      "8739.128347260099 ml prediction 7 day\n",
      "2018-07-28 00:00:00 current date\n",
      "8806.210666666668 mean\n",
      "pred 7 day lower than mean taking position\n",
      "----------\n",
      "short\n"
     ]
    },
    {
     "data": {
      "application/vnd.jupyter.widget-view+json": {
       "model_id": "7b690d9294cd423cbee0e54469280a08",
       "version_major": 2,
       "version_minor": 0
      },
      "text/plain": [
       "  0%|          | 0/2 [00:00<?, ?it/s]"
      ]
     },
     "metadata": {},
     "output_type": "display_data"
    },
    {
     "name": "stdout",
     "output_type": "stream",
     "text": [
      "4902.41426171555 ml prediction 7 day\n",
      "2018-08-06 00:00:00 current date\n",
      "8924.016333333333 mean\n",
      "pred 7 day lower than mean taking position\n",
      "----------\n",
      "short\n"
     ]
    },
    {
     "data": {
      "application/vnd.jupyter.widget-view+json": {
       "model_id": "c9fc8fd415ce45ee9afed03db1d5c684",
       "version_major": 2,
       "version_minor": 0
      },
      "text/plain": [
       "  0%|          | 0/2 [00:00<?, ?it/s]"
      ]
     },
     "metadata": {},
     "output_type": "display_data"
    },
    {
     "name": "stdout",
     "output_type": "stream",
     "text": [
      "4778.46343831538 ml prediction 7 day\n",
      "2018-09-08 00:00:00 current date\n",
      "7656.734333333333 mean\n",
      "pred 7 day lower than mean taking position\n",
      "----------\n",
      "short\n"
     ]
    },
    {
     "data": {
      "application/vnd.jupyter.widget-view+json": {
       "model_id": "efd3c488110b4720b3b24746051be2cb",
       "version_major": 2,
       "version_minor": 0
      },
      "text/plain": [
       "  0%|          | 0/2 [00:00<?, ?it/s]"
      ]
     },
     "metadata": {},
     "output_type": "display_data"
    },
    {
     "name": "stdout",
     "output_type": "stream",
     "text": [
      "4724.506731621048 ml prediction 7 day\n",
      "2018-09-14 00:00:00 current date\n",
      "8004.917333333333 mean\n",
      "pred 7 day lower than mean taking position\n",
      "----------\n",
      "short\n"
     ]
    },
    {
     "data": {
      "application/vnd.jupyter.widget-view+json": {
       "model_id": "95d4d76e1fd348c1ba34b09be91f0d27",
       "version_major": 2,
       "version_minor": 0
      },
      "text/plain": [
       "  0%|          | 0/2 [00:00<?, ?it/s]"
      ]
     },
     "metadata": {},
     "output_type": "display_data"
    },
    {
     "name": "stdout",
     "output_type": "stream",
     "text": [
      "4808.229013599967 ml prediction 7 day\n",
      "2018-10-05 00:00:00 current date\n",
      "8154.672333333334 mean\n",
      "pred 7 day lower than mean taking position\n",
      "----------\n",
      "short\n"
     ]
    },
    {
     "data": {
      "application/vnd.jupyter.widget-view+json": {
       "model_id": "3452dc2eb89941e3ae69c6ed0c8682d3",
       "version_major": 2,
       "version_minor": 0
      },
      "text/plain": [
       "  0%|          | 0/2 [00:00<?, ?it/s]"
      ]
     },
     "metadata": {},
     "output_type": "display_data"
    },
    {
     "name": "stdout",
     "output_type": "stream",
     "text": [
      "6006.861033496236 ml prediction 7 day\n",
      "2018-10-20 00:00:00 current date\n",
      "7981.897 mean\n",
      "pred 7 day lower than mean taking position\n",
      "----------\n",
      "short\n"
     ]
    },
    {
     "data": {
      "application/vnd.jupyter.widget-view+json": {
       "model_id": "0b3ee0804ccc44029665636e6e244c79",
       "version_major": 2,
       "version_minor": 0
      },
      "text/plain": [
       "  0%|          | 0/2 [00:00<?, ?it/s]"
      ]
     },
     "metadata": {},
     "output_type": "display_data"
    },
    {
     "name": "stdout",
     "output_type": "stream",
     "text": [
      "6004.004168364559 ml prediction 7 day\n",
      "2018-11-02 00:00:00 current date\n",
      "8379.855 mean\n",
      "pred 7 day lower than mean taking position\n",
      "----------\n",
      "short\n"
     ]
    },
    {
     "data": {
      "application/vnd.jupyter.widget-view+json": {
       "model_id": "1e07fa6d0ef84a858ae4e4002bb1a87c",
       "version_major": 2,
       "version_minor": 0
      },
      "text/plain": [
       "  0%|          | 0/2 [00:00<?, ?it/s]"
      ]
     },
     "metadata": {},
     "output_type": "display_data"
    },
    {
     "name": "stdout",
     "output_type": "stream",
     "text": [
      "5468.2039011217685 ml prediction 7 day\n",
      "2018-11-08 00:00:00 current date\n",
      "8619.577 mean\n",
      "pred 7 day lower than mean taking position\n",
      "----------\n",
      "buy\n"
     ]
    },
    {
     "data": {
      "application/vnd.jupyter.widget-view+json": {
       "model_id": "f3c07c235f58401cba4726da66636950",
       "version_major": 2,
       "version_minor": 0
      },
      "text/plain": [
       "  0%|          | 0/2 [00:00<?, ?it/s]"
      ]
     },
     "metadata": {},
     "output_type": "display_data"
    },
    {
     "name": "stdout",
     "output_type": "stream",
     "text": [
      "4603.36338742676 ml prediction 7 day\n",
      "2018-12-10 00:00:00 current date\n",
      "5222.288666666666 mean\n",
      "----------\n",
      "buy\n"
     ]
    },
    {
     "data": {
      "application/vnd.jupyter.widget-view+json": {
       "model_id": "cc6a89ac46ed4390839e65ed3ad3ea07",
       "version_major": 2,
       "version_minor": 0
      },
      "text/plain": [
       "  0%|          | 0/2 [00:00<?, ?it/s]"
      ]
     },
     "metadata": {},
     "output_type": "display_data"
    },
    {
     "name": "stdout",
     "output_type": "stream",
     "text": [
      "3756.6764565476956 ml prediction 7 day\n",
      "2018-12-12 00:00:00 current date\n",
      "5003.542333333333 mean\n",
      "----------\n",
      "short\n"
     ]
    },
    {
     "data": {
      "application/vnd.jupyter.widget-view+json": {
       "model_id": "b7bdc5a711ee4b60b7953066cd28b081",
       "version_major": 2,
       "version_minor": 0
      },
      "text/plain": [
       "  0%|          | 0/2 [00:00<?, ?it/s]"
      ]
     },
     "metadata": {},
     "output_type": "display_data"
    },
    {
     "name": "stdout",
     "output_type": "stream",
     "text": [
      "3438.7824178426567 ml prediction 7 day\n",
      "2018-12-14 00:00:00 current date\n",
      "4920.720333333333 mean\n",
      "pred 7 day lower than mean taking position\n",
      "----------\n",
      "short\n"
     ]
    },
    {
     "data": {
      "application/vnd.jupyter.widget-view+json": {
       "model_id": "b2db27e72c94487381699a429bf7942c",
       "version_major": 2,
       "version_minor": 0
      },
      "text/plain": [
       "  0%|          | 0/2 [00:00<?, ?it/s]"
      ]
     },
     "metadata": {},
     "output_type": "display_data"
    },
    {
     "name": "stdout",
     "output_type": "stream",
     "text": [
      "5441.035314863074 ml prediction 7 day\n",
      "2019-01-06 00:00:00 current date\n",
      "4628.172333333333 mean\n"
     ]
    },
    {
     "data": {
      "text/plain": [
       "('24H', 30, 1.5, 0.683120025773832, 38)"
      ]
     },
     "execution_count": 162,
     "metadata": {},
     "output_type": "execute_result"
    },
    {
     "data": {
      "image/png": "[encoded data removed]",
      "text/plain": [
       "<Figure size 432x288 with 1 Axes>"
      ]
     },
     "metadata": {
      "needs_background": "light"
     },
     "output_type": "display_data"
    }
   ],
   "source": [
    "\n",
    "simulator = BollingerBandsSimulator(\n",
    "    data, \n",
    "    from_date=\"2017-1-01\", \n",
    "    period=\"24H\", \n",
    "    window=30, \n",
    "    no_of_std=1.5\n",
    ")\n",
    "simulator.simulate()"
   ]
  },
  {
   "cell_type": "code",
   "execution_count": 170,
   "metadata": {},
   "outputs": [
    {
     "data": {
      "text/plain": [
       "0.683120025773832"
      ]
     },
     "execution_count": 170,
     "metadata": {},
     "output_type": "execute_result"
    }
   ],
   "source": [
    "simulator.df['Strategy Return'].sum() #68% return"
   ]
  },
  {
   "cell_type": "code",
   "execution_count": null,
   "metadata": {},
   "outputs": [],
   "source": [
    "DATE_FILTER = '2017-9-01'\n",
    "simulator.df[simulator.df.index > DATE_FILTER ]  [['Rolling Mean', 'Bollinger High', 'Bollinger Low', 'close']].plot(figsize=(19,8))\n",
    "\n",
    "prev_pos = None\n",
    "for index, pos in simulator.df[simulator.df.index > DATE_FILTER ]['Mode'].iteritems():\n",
    "    if pos == \"short\":\n",
    "        plt.axvline(index, color='red', linewidth=.2)\n",
    "    if pos == \"buy\":\n",
    "        plt.axvline(index, color='green', linewidth=.2)\n",
    "    if pos == 'short_to_no_position':\n",
    "        plt.axvline(index, color='black', linewidth=3)\n",
    "    if pos == 'buy_to_no_position':\n",
    "        plt.axvline(index, color='purple', linewidth=3)\n",
    "#     if pos == 0:\n",
    "#         plt.axvline(index, color='black')\n"
   ]
  },
  {
   "cell_type": "code",
   "execution_count": 167,
   "metadata": {},
   "outputs": [
    {
     "data": {
      "text/html": [
       "<div>\n",
       "<style scoped>\n",
       "    .dataframe tbody tr th:only-of-type {\n",
       "        vertical-align: middle;\n",
       "    }\n",
       "\n",
       "    .dataframe tbody tr th {\n",
       "        vertical-align: top;\n",
       "    }\n",
       "\n",
       "    .dataframe thead th {\n",
       "        text-align: right;\n",
       "    }\n",
       "</style>\n",
       "<table border=\"1\" class=\"dataframe\">\n",
       "  <thead>\n",
       "    <tr style=\"text-align: right;\">\n",
       "      <th></th>\n",
       "      <th>open</th>\n",
       "      <th>high</th>\n",
       "      <th>low</th>\n",
       "      <th>close</th>\n",
       "      <th>Rolling Mean</th>\n",
       "      <th>Bollinger High</th>\n",
       "      <th>Bollinger Low</th>\n",
       "      <th>Position</th>\n",
       "      <th>Mode</th>\n",
       "      <th>Original Position</th>\n",
       "      <th>Market Return</th>\n",
       "      <th>Strategy Return</th>\n",
       "    </tr>\n",
       "    <tr>\n",
       "      <th>datetime</th>\n",
       "      <th></th>\n",
       "      <th></th>\n",
       "      <th></th>\n",
       "      <th></th>\n",
       "      <th></th>\n",
       "      <th></th>\n",
       "      <th></th>\n",
       "      <th></th>\n",
       "      <th></th>\n",
       "      <th></th>\n",
       "      <th></th>\n",
       "      <th></th>\n",
       "    </tr>\n",
       "  </thead>\n",
       "  <tbody>\n",
       "    <tr>\n",
       "      <th>2018-11-01</th>\n",
       "      <td>6492.09</td>\n",
       "      <td>69672.53</td>\n",
       "      <td>4727.36</td>\n",
       "      <td>6876.94</td>\n",
       "      <td>8224.051333</td>\n",
       "      <td>10692.397545</td>\n",
       "      <td>5755.705122</td>\n",
       "      <td>0.0</td>\n",
       "      <td>no_position</td>\n",
       "      <td>None</td>\n",
       "      <td>-0.220857</td>\n",
       "      <td>-0.000000</td>\n",
       "    </tr>\n",
       "    <tr>\n",
       "      <th>2018-11-02</th>\n",
       "      <td>12692.67</td>\n",
       "      <td>50839.93</td>\n",
       "      <td>4762.88</td>\n",
       "      <td>12055.25</td>\n",
       "      <td>8379.855000</td>\n",
       "      <td>11048.173423</td>\n",
       "      <td>5711.536577</td>\n",
       "      <td>0.0</td>\n",
       "      <td>short</td>\n",
       "      <td>0</td>\n",
       "      <td>0.752996</td>\n",
       "      <td>0.000000</td>\n",
       "    </tr>\n",
       "    <tr>\n",
       "      <th>2018-11-03</th>\n",
       "      <td>6820.34</td>\n",
       "      <td>48896.89</td>\n",
       "      <td>4746.44</td>\n",
       "      <td>10360.21</td>\n",
       "      <td>8492.416000</td>\n",
       "      <td>11183.773768</td>\n",
       "      <td>5801.058232</td>\n",
       "      <td>-1.0</td>\n",
       "      <td>short</td>\n",
       "      <td>-1</td>\n",
       "      <td>-0.140606</td>\n",
       "      <td>0.140606</td>\n",
       "    </tr>\n",
       "    <tr>\n",
       "      <th>2018-11-04</th>\n",
       "      <td>6777.27</td>\n",
       "      <td>40000.00</td>\n",
       "      <td>4847.58</td>\n",
       "      <td>6833.06</td>\n",
       "      <td>8353.918000</td>\n",
       "      <td>10986.253100</td>\n",
       "      <td>5721.582900</td>\n",
       "      <td>-1.0</td>\n",
       "      <td>short</td>\n",
       "      <td>None</td>\n",
       "      <td>-0.340452</td>\n",
       "      <td>0.340452</td>\n",
       "    </tr>\n",
       "    <tr>\n",
       "      <th>2018-11-05</th>\n",
       "      <td>8348.51</td>\n",
       "      <td>250000.00</td>\n",
       "      <td>4547.55</td>\n",
       "      <td>6912.22</td>\n",
       "      <td>8256.766000</td>\n",
       "      <td>10883.583852</td>\n",
       "      <td>5629.948148</td>\n",
       "      <td>-1.0</td>\n",
       "      <td>short</td>\n",
       "      <td>None</td>\n",
       "      <td>0.011585</td>\n",
       "      <td>-0.011585</td>\n",
       "    </tr>\n",
       "    <tr>\n",
       "      <th>2018-11-06</th>\n",
       "      <td>6584.11</td>\n",
       "      <td>70546.74</td>\n",
       "      <td>4608.14</td>\n",
       "      <td>10300.89</td>\n",
       "      <td>8370.540000</td>\n",
       "      <td>11025.498122</td>\n",
       "      <td>5715.581878</td>\n",
       "      <td>-1.0</td>\n",
       "      <td>short_to_no_position</td>\n",
       "      <td>-1</td>\n",
       "      <td>0.490243</td>\n",
       "      <td>-0.490243</td>\n",
       "    </tr>\n",
       "    <tr>\n",
       "      <th>2018-11-07</th>\n",
       "      <td>6673.77</td>\n",
       "      <td>71540.99</td>\n",
       "      <td>4904.95</td>\n",
       "      <td>6248.11</td>\n",
       "      <td>8356.716333</td>\n",
       "      <td>11034.699883</td>\n",
       "      <td>5678.732784</td>\n",
       "      <td>0.0</td>\n",
       "      <td>no_position</td>\n",
       "      <td>0</td>\n",
       "      <td>-0.393440</td>\n",
       "      <td>-0.000000</td>\n",
       "    </tr>\n",
       "    <tr>\n",
       "      <th>2018-11-08</th>\n",
       "      <td>7214.81</td>\n",
       "      <td>83816.68</td>\n",
       "      <td>5149.34</td>\n",
       "      <td>14446.86</td>\n",
       "      <td>8619.577000</td>\n",
       "      <td>11724.131280</td>\n",
       "      <td>5515.022720</td>\n",
       "      <td>0.0</td>\n",
       "      <td>short</td>\n",
       "      <td>0</td>\n",
       "      <td>1.312197</td>\n",
       "      <td>0.000000</td>\n",
       "    </tr>\n",
       "    <tr>\n",
       "      <th>2018-11-09</th>\n",
       "      <td>6470.76</td>\n",
       "      <td>35999.71</td>\n",
       "      <td>4840.56</td>\n",
       "      <td>6573.01</td>\n",
       "      <td>8606.153000</td>\n",
       "      <td>11729.155839</td>\n",
       "      <td>5483.150161</td>\n",
       "      <td>-1.0</td>\n",
       "      <td>short</td>\n",
       "      <td>-1</td>\n",
       "      <td>-0.545022</td>\n",
       "      <td>0.545022</td>\n",
       "    </tr>\n",
       "    <tr>\n",
       "      <th>2018-11-10</th>\n",
       "      <td>6906.35</td>\n",
       "      <td>82277.44</td>\n",
       "      <td>5091.72</td>\n",
       "      <td>6548.05</td>\n",
       "      <td>8519.421000</td>\n",
       "      <td>11688.226428</td>\n",
       "      <td>5350.615572</td>\n",
       "      <td>-1.0</td>\n",
       "      <td>short</td>\n",
       "      <td>None</td>\n",
       "      <td>-0.003797</td>\n",
       "      <td>0.003797</td>\n",
       "    </tr>\n",
       "    <tr>\n",
       "      <th>2018-11-11</th>\n",
       "      <td>9517.02</td>\n",
       "      <td>50423.93</td>\n",
       "      <td>4570.14</td>\n",
       "      <td>6933.17</td>\n",
       "      <td>8540.526667</td>\n",
       "      <td>11679.529119</td>\n",
       "      <td>5401.524214</td>\n",
       "      <td>-1.0</td>\n",
       "      <td>short</td>\n",
       "      <td>None</td>\n",
       "      <td>0.058814</td>\n",
       "      <td>-0.058814</td>\n",
       "    </tr>\n",
       "    <tr>\n",
       "      <th>2018-11-12</th>\n",
       "      <td>7089.60</td>\n",
       "      <td>40000.00</td>\n",
       "      <td>4825.99</td>\n",
       "      <td>6850.00</td>\n",
       "      <td>8449.527000</td>\n",
       "      <td>11607.368548</td>\n",
       "      <td>5291.685452</td>\n",
       "      <td>-1.0</td>\n",
       "      <td>short</td>\n",
       "      <td>None</td>\n",
       "      <td>-0.011996</td>\n",
       "      <td>0.011996</td>\n",
       "    </tr>\n",
       "    <tr>\n",
       "      <th>2018-11-13</th>\n",
       "      <td>6811.76</td>\n",
       "      <td>62879.66</td>\n",
       "      <td>4816.81</td>\n",
       "      <td>6450.00</td>\n",
       "      <td>8367.694333</td>\n",
       "      <td>11569.331435</td>\n",
       "      <td>5166.057232</td>\n",
       "      <td>-1.0</td>\n",
       "      <td>short</td>\n",
       "      <td>None</td>\n",
       "      <td>-0.058394</td>\n",
       "      <td>0.058394</td>\n",
       "    </tr>\n",
       "    <tr>\n",
       "      <th>2018-11-14</th>\n",
       "      <td>7519.91</td>\n",
       "      <td>23786.05</td>\n",
       "      <td>4677.30</td>\n",
       "      <td>6143.50</td>\n",
       "      <td>8320.677333</td>\n",
       "      <td>11573.028549</td>\n",
       "      <td>5068.326118</td>\n",
       "      <td>-1.0</td>\n",
       "      <td>short</td>\n",
       "      <td>None</td>\n",
       "      <td>-0.047519</td>\n",
       "      <td>0.047519</td>\n",
       "    </tr>\n",
       "    <tr>\n",
       "      <th>2018-11-15</th>\n",
       "      <td>7971.25</td>\n",
       "      <td>72405.53</td>\n",
       "      <td>3981.95</td>\n",
       "      <td>5583.54</td>\n",
       "      <td>8270.118333</td>\n",
       "      <td>11592.400603</td>\n",
       "      <td>4947.836064</td>\n",
       "      <td>-1.0</td>\n",
       "      <td>short</td>\n",
       "      <td>None</td>\n",
       "      <td>-0.091147</td>\n",
       "      <td>0.091147</td>\n",
       "    </tr>\n",
       "    <tr>\n",
       "      <th>2018-11-16</th>\n",
       "      <td>6247.51</td>\n",
       "      <td>35999.95</td>\n",
       "      <td>4237.06</td>\n",
       "      <td>5694.95</td>\n",
       "      <td>8191.472667</td>\n",
       "      <td>11587.656147</td>\n",
       "      <td>4795.289187</td>\n",
       "      <td>-1.0</td>\n",
       "      <td>short</td>\n",
       "      <td>None</td>\n",
       "      <td>0.019953</td>\n",
       "      <td>-0.019953</td>\n",
       "    </tr>\n",
       "    <tr>\n",
       "      <th>2018-11-17</th>\n",
       "      <td>6255.87</td>\n",
       "      <td>43973.44</td>\n",
       "      <td>4277.59</td>\n",
       "      <td>6047.86</td>\n",
       "      <td>8144.311667</td>\n",
       "      <td>11585.850836</td>\n",
       "      <td>4702.772497</td>\n",
       "      <td>-1.0</td>\n",
       "      <td>short</td>\n",
       "      <td>None</td>\n",
       "      <td>0.061969</td>\n",
       "      <td>-0.061969</td>\n",
       "    </tr>\n",
       "    <tr>\n",
       "      <th>2018-11-18</th>\n",
       "      <td>7557.12</td>\n",
       "      <td>44253.01</td>\n",
       "      <td>4311.18</td>\n",
       "      <td>5596.18</td>\n",
       "      <td>8022.528667</td>\n",
       "      <td>11518.045845</td>\n",
       "      <td>4527.011488</td>\n",
       "      <td>-1.0</td>\n",
       "      <td>short</td>\n",
       "      <td>None</td>\n",
       "      <td>-0.074684</td>\n",
       "      <td>0.074684</td>\n",
       "    </tr>\n",
       "    <tr>\n",
       "      <th>2018-11-19</th>\n",
       "      <td>5555.01</td>\n",
       "      <td>27342.33</td>\n",
       "      <td>3358.78</td>\n",
       "      <td>4789.28</td>\n",
       "      <td>7755.904667</td>\n",
       "      <td>11087.915092</td>\n",
       "      <td>4423.894242</td>\n",
       "      <td>-1.0</td>\n",
       "      <td>short</td>\n",
       "      <td>None</td>\n",
       "      <td>-0.144188</td>\n",
       "      <td>0.144188</td>\n",
       "    </tr>\n",
       "    <tr>\n",
       "      <th>2018-11-20</th>\n",
       "      <td>7549.82</td>\n",
       "      <td>20155.96</td>\n",
       "      <td>3567.35</td>\n",
       "      <td>6302.99</td>\n",
       "      <td>7746.952000</td>\n",
       "      <td>11087.170884</td>\n",
       "      <td>4406.733116</td>\n",
       "      <td>-1.0</td>\n",
       "      <td>short</td>\n",
       "      <td>None</td>\n",
       "      <td>0.316062</td>\n",
       "      <td>-0.316062</td>\n",
       "    </tr>\n",
       "    <tr>\n",
       "      <th>2018-11-21</th>\n",
       "      <td>6498.87</td>\n",
       "      <td>35999.95</td>\n",
       "      <td>3433.56</td>\n",
       "      <td>4625.66</td>\n",
       "      <td>7567.940667</td>\n",
       "      <td>10951.120754</td>\n",
       "      <td>4184.760580</td>\n",
       "      <td>-1.0</td>\n",
       "      <td>short</td>\n",
       "      <td>None</td>\n",
       "      <td>-0.266117</td>\n",
       "      <td>0.266117</td>\n",
       "    </tr>\n",
       "    <tr>\n",
       "      <th>2018-11-22</th>\n",
       "      <td>4705.43</td>\n",
       "      <td>40000.00</td>\n",
       "      <td>3818.43</td>\n",
       "      <td>6452.33</td>\n",
       "      <td>7442.232667</td>\n",
       "      <td>10752.598537</td>\n",
       "      <td>4131.866796</td>\n",
       "      <td>-1.0</td>\n",
       "      <td>short</td>\n",
       "      <td>None</td>\n",
       "      <td>0.394899</td>\n",
       "      <td>-0.394899</td>\n",
       "    </tr>\n",
       "    <tr>\n",
       "      <th>2018-11-23</th>\n",
       "      <td>4499.00</td>\n",
       "      <td>21078.90</td>\n",
       "      <td>3344.01</td>\n",
       "      <td>4882.61</td>\n",
       "      <td>7359.364333</td>\n",
       "      <td>10743.213828</td>\n",
       "      <td>3975.514838</td>\n",
       "      <td>-1.0</td>\n",
       "      <td>short</td>\n",
       "      <td>None</td>\n",
       "      <td>-0.243280</td>\n",
       "      <td>0.243280</td>\n",
       "    </tr>\n",
       "    <tr>\n",
       "      <th>2018-11-24</th>\n",
       "      <td>4701.76</td>\n",
       "      <td>18399.63</td>\n",
       "      <td>3064.24</td>\n",
       "      <td>5731.04</td>\n",
       "      <td>7333.959333</td>\n",
       "      <td>10739.314037</td>\n",
       "      <td>3928.604629</td>\n",
       "      <td>-1.0</td>\n",
       "      <td>short</td>\n",
       "      <td>None</td>\n",
       "      <td>0.173766</td>\n",
       "      <td>-0.173766</td>\n",
       "    </tr>\n",
       "    <tr>\n",
       "      <th>2018-11-25</th>\n",
       "      <td>4342.50</td>\n",
       "      <td>48953.62</td>\n",
       "      <td>3072.46</td>\n",
       "      <td>4285.00</td>\n",
       "      <td>7265.216667</td>\n",
       "      <td>10762.524460</td>\n",
       "      <td>3767.908873</td>\n",
       "      <td>-1.0</td>\n",
       "      <td>short</td>\n",
       "      <td>None</td>\n",
       "      <td>-0.252317</td>\n",
       "      <td>0.252317</td>\n",
       "    </tr>\n",
       "    <tr>\n",
       "      <th>2018-11-26</th>\n",
       "      <td>5008.88</td>\n",
       "      <td>35999.95</td>\n",
       "      <td>2971.79</td>\n",
       "      <td>4105.58</td>\n",
       "      <td>7092.975000</td>\n",
       "      <td>10645.996735</td>\n",
       "      <td>3539.953265</td>\n",
       "      <td>-1.0</td>\n",
       "      <td>short</td>\n",
       "      <td>None</td>\n",
       "      <td>-0.041872</td>\n",
       "      <td>0.041872</td>\n",
       "    </tr>\n",
       "    <tr>\n",
       "      <th>2018-11-27</th>\n",
       "      <td>5259.00</td>\n",
       "      <td>35999.71</td>\n",
       "      <td>2901.48</td>\n",
       "      <td>3910.02</td>\n",
       "      <td>6890.624000</td>\n",
       "      <td>10449.806367</td>\n",
       "      <td>3331.441633</td>\n",
       "      <td>-1.0</td>\n",
       "      <td>short</td>\n",
       "      <td>None</td>\n",
       "      <td>-0.047633</td>\n",
       "      <td>0.047633</td>\n",
       "    </tr>\n",
       "    <tr>\n",
       "      <th>2018-11-28</th>\n",
       "      <td>4709.24</td>\n",
       "      <td>49561.38</td>\n",
       "      <td>2772.00</td>\n",
       "      <td>4495.50</td>\n",
       "      <td>6727.254000</td>\n",
       "      <td>10271.757362</td>\n",
       "      <td>3182.750638</td>\n",
       "      <td>-1.0</td>\n",
       "      <td>short</td>\n",
       "      <td>None</td>\n",
       "      <td>0.149738</td>\n",
       "      <td>-0.149738</td>\n",
       "    </tr>\n",
       "    <tr>\n",
       "      <th>2018-11-29</th>\n",
       "      <td>5190.49</td>\n",
       "      <td>45946.59</td>\n",
       "      <td>3197.93</td>\n",
       "      <td>5500.00</td>\n",
       "      <td>6678.670000</td>\n",
       "      <td>10238.270101</td>\n",
       "      <td>3119.069899</td>\n",
       "      <td>-1.0</td>\n",
       "      <td>short</td>\n",
       "      <td>None</td>\n",
       "      <td>0.223446</td>\n",
       "      <td>-0.223446</td>\n",
       "    </tr>\n",
       "    <tr>\n",
       "      <th>2018-11-30</th>\n",
       "      <td>7388.01</td>\n",
       "      <td>21342.44</td>\n",
       "      <td>2978.77</td>\n",
       "      <td>5362.88</td>\n",
       "      <td>6563.223000</td>\n",
       "      <td>10086.886914</td>\n",
       "      <td>3039.559086</td>\n",
       "      <td>-1.0</td>\n",
       "      <td>short</td>\n",
       "      <td>None</td>\n",
       "      <td>-0.024931</td>\n",
       "      <td>0.024931</td>\n",
       "    </tr>\n",
       "  </tbody>\n",
       "</table>\n",
       "</div>"
      ],
      "text/plain": [
       "                open       high      low     close  Rolling Mean  \\\n",
       "datetime                                                           \n",
       "2018-11-01   6492.09   69672.53  4727.36   6876.94   8224.051333   \n",
       "2018-11-02  12692.67   50839.93  4762.88  12055.25   8379.855000   \n",
       "2018-11-03   6820.34   48896.89  4746.44  10360.21   8492.416000   \n",
       "2018-11-04   6777.27   40000.00  4847.58   6833.06   8353.918000   \n",
       "2018-11-05   8348.51  250000.00  4547.55   6912.22   8256.766000   \n",
       "2018-11-06   6584.11   70546.74  4608.14  10300.89   8370.540000   \n",
       "2018-11-07   6673.77   71540.99  4904.95   6248.11   8356.716333   \n",
       "2018-11-08   7214.81   83816.68  5149.34  14446.86   8619.577000   \n",
       "2018-11-09   6470.76   35999.71  4840.56   6573.01   8606.153000   \n",
       "2018-11-10   6906.35   82277.44  5091.72   6548.05   8519.421000   \n",
       "2018-11-11   9517.02   50423.93  4570.14   6933.17   8540.526667   \n",
       "2018-11-12   7089.60   40000.00  4825.99   6850.00   8449.527000   \n",
       "2018-11-13   6811.76   62879.66  4816.81   6450.00   8367.694333   \n",
       "2018-11-14   7519.91   23786.05  4677.30   6143.50   8320.677333   \n",
       "2018-11-15   7971.25   72405.53  3981.95   5583.54   8270.118333   \n",
       "2018-11-16   6247.51   35999.95  4237.06   5694.95   8191.472667   \n",
       "2018-11-17   6255.87   43973.44  4277.59   6047.86   8144.311667   \n",
       "2018-11-18   7557.12   44253.01  4311.18   5596.18   8022.528667   \n",
       "2018-11-19   5555.01   27342.33  3358.78   4789.28   7755.904667   \n",
       "2018-11-20   7549.82   20155.96  3567.35   6302.99   7746.952000   \n",
       "2018-11-21   6498.87   35999.95  3433.56   4625.66   7567.940667   \n",
       "2018-11-22   4705.43   40000.00  3818.43   6452.33   7442.232667   \n",
       "2018-11-23   4499.00   21078.90  3344.01   4882.61   7359.364333   \n",
       "2018-11-24   4701.76   18399.63  3064.24   5731.04   7333.959333   \n",
       "2018-11-25   4342.50   48953.62  3072.46   4285.00   7265.216667   \n",
       "2018-11-26   5008.88   35999.95  2971.79   4105.58   7092.975000   \n",
       "2018-11-27   5259.00   35999.71  2901.48   3910.02   6890.624000   \n",
       "2018-11-28   4709.24   49561.38  2772.00   4495.50   6727.254000   \n",
       "2018-11-29   5190.49   45946.59  3197.93   5500.00   6678.670000   \n",
       "2018-11-30   7388.01   21342.44  2978.77   5362.88   6563.223000   \n",
       "\n",
       "            Bollinger High  Bollinger Low  Position                  Mode  \\\n",
       "datetime                                                                    \n",
       "2018-11-01    10692.397545    5755.705122       0.0           no_position   \n",
       "2018-11-02    11048.173423    5711.536577       0.0                 short   \n",
       "2018-11-03    11183.773768    5801.058232      -1.0                 short   \n",
       "2018-11-04    10986.253100    5721.582900      -1.0                 short   \n",
       "2018-11-05    10883.583852    5629.948148      -1.0                 short   \n",
       "2018-11-06    11025.498122    5715.581878      -1.0  short_to_no_position   \n",
       "2018-11-07    11034.699883    5678.732784       0.0           no_position   \n",
       "2018-11-08    11724.131280    5515.022720       0.0                 short   \n",
       "2018-11-09    11729.155839    5483.150161      -1.0                 short   \n",
       "2018-11-10    11688.226428    5350.615572      -1.0                 short   \n",
       "2018-11-11    11679.529119    5401.524214      -1.0                 short   \n",
       "2018-11-12    11607.368548    5291.685452      -1.0                 short   \n",
       "2018-11-13    11569.331435    5166.057232      -1.0                 short   \n",
       "2018-11-14    11573.028549    5068.326118      -1.0                 short   \n",
       "2018-11-15    11592.400603    4947.836064      -1.0                 short   \n",
       "2018-11-16    11587.656147    4795.289187      -1.0                 short   \n",
       "2018-11-17    11585.850836    4702.772497      -1.0                 short   \n",
       "2018-11-18    11518.045845    4527.011488      -1.0                 short   \n",
       "2018-11-19    11087.915092    4423.894242      -1.0                 short   \n",
       "2018-11-20    11087.170884    4406.733116      -1.0                 short   \n",
       "2018-11-21    10951.120754    4184.760580      -1.0                 short   \n",
       "2018-11-22    10752.598537    4131.866796      -1.0                 short   \n",
       "2018-11-23    10743.213828    3975.514838      -1.0                 short   \n",
       "2018-11-24    10739.314037    3928.604629      -1.0                 short   \n",
       "2018-11-25    10762.524460    3767.908873      -1.0                 short   \n",
       "2018-11-26    10645.996735    3539.953265      -1.0                 short   \n",
       "2018-11-27    10449.806367    3331.441633      -1.0                 short   \n",
       "2018-11-28    10271.757362    3182.750638      -1.0                 short   \n",
       "2018-11-29    10238.270101    3119.069899      -1.0                 short   \n",
       "2018-11-30    10086.886914    3039.559086      -1.0                 short   \n",
       "\n",
       "           Original Position  Market Return  Strategy Return  \n",
       "datetime                                                      \n",
       "2018-11-01              None      -0.220857        -0.000000  \n",
       "2018-11-02                 0       0.752996         0.000000  \n",
       "2018-11-03                -1      -0.140606         0.140606  \n",
       "2018-11-04              None      -0.340452         0.340452  \n",
       "2018-11-05              None       0.011585        -0.011585  \n",
       "2018-11-06                -1       0.490243        -0.490243  \n",
       "2018-11-07                 0      -0.393440        -0.000000  \n",
       "2018-11-08                 0       1.312197         0.000000  \n",
       "2018-11-09                -1      -0.545022         0.545022  \n",
       "2018-11-10              None      -0.003797         0.003797  \n",
       "2018-11-11              None       0.058814        -0.058814  \n",
       "2018-11-12              None      -0.011996         0.011996  \n",
       "2018-11-13              None      -0.058394         0.058394  \n",
       "2018-11-14              None      -0.047519         0.047519  \n",
       "2018-11-15              None      -0.091147         0.091147  \n",
       "2018-11-16              None       0.019953        -0.019953  \n",
       "2018-11-17              None       0.061969        -0.061969  \n",
       "2018-11-18              None      -0.074684         0.074684  \n",
       "2018-11-19              None      -0.144188         0.144188  \n",
       "2018-11-20              None       0.316062        -0.316062  \n",
       "2018-11-21              None      -0.266117         0.266117  \n",
       "2018-11-22              None       0.394899        -0.394899  \n",
       "2018-11-23              None      -0.243280         0.243280  \n",
       "2018-11-24              None       0.173766        -0.173766  \n",
       "2018-11-25              None      -0.252317         0.252317  \n",
       "2018-11-26              None      -0.041872         0.041872  \n",
       "2018-11-27              None      -0.047633         0.047633  \n",
       "2018-11-28              None       0.149738        -0.149738  \n",
       "2018-11-29              None       0.223446        -0.223446  \n",
       "2018-11-30              None      -0.024931         0.024931  "
      ]
     },
     "execution_count": 167,
     "metadata": {},
     "output_type": "execute_result"
    }
   ],
   "source": [
    "simulator.df[simulator.df.index >= \"2018-11-1\"].head(30)\n"
   ]
  },
  {
   "cell_type": "code",
   "execution_count": 168,
   "metadata": {},
   "outputs": [
    {
     "data": {
      "text/plain": [
       "no_position             537\n",
       "short                   128\n",
       "short_to_no_position     17\n",
       "buy                      13\n",
       "buy_to_no_position        2\n",
       "Name: Mode, dtype: int64"
      ]
     },
     "execution_count": 168,
     "metadata": {},
     "output_type": "execute_result"
    }
   ],
   "source": [
    "simulator.df['Mode'].value_counts()"
   ]
  },
  {
   "cell_type": "markdown",
   "metadata": {},
   "source": [
    "# Brute force some configurations¶\n"
   ]
  },
  {
   "cell_type": "code",
   "execution_count": 19,
   "metadata": {},
   "outputs": [],
   "source": [
    " # generate a linear space of value values for each parameter in the configuration\n",
    "# a take some random samples from them.\n",
    "# for example the first one creates a vector of 5 evenly spaced integer values ranging from 10 to 100\n",
    "windows = np.linspace(7, 90, 8, dtype=int)\n",
    "stds = np.linspace(1.5, 2, 2)\n",
    "periods = np.linspace(15 ,240, 6, dtype=int)"
   ]
  },
  {
   "cell_type": "code",
   "execution_count": 20,
   "metadata": {},
   "outputs": [
    {
     "data": {
      "image/png": "[encoded data removed]",
      "text/plain": [
       "<Figure size 1008x504 with 1 Axes>"
      ]
     },
     "metadata": {
      "needs_background": "light"
     },
     "output_type": "display_data"
    }
   ],
   "source": [
    "# iterate through them, running the strategy function each time and collecting returns\n",
    "# (this might take some time)\n",
    "simulations = []\n",
    "result_df = pd.DataFrame({\n",
    "    'period': [], \n",
    "    'window': [],\n",
    "    'no_of_std': [],\n",
    "    'result': []\n",
    "})\n",
    "for window in windows:\n",
    "    for std in stds:\n",
    "        for period in periods:\n",
    "            simulator = BollingerBandsSimulator(\n",
    "                data, \n",
    "                from_date=\"2017-01-11\", \n",
    "                period=\"{}min\".format(period), \n",
    "                window=window, \n",
    "                no_of_std=std,\n",
    "                figsize=(14, 7)\n",
    "            )\n",
    "            period, window, no_of_std, result, total_trades = simulator.simulate()\n",
    "            result_df = result_df.append({\n",
    "                'period': period, \n",
    "                'window': window, \n",
    "                'no_of_std': no_of_std, \n",
    "                'result': result,\n",
    "                'total_trades': total_trades\n",
    "            }, ignore_index=True)\n",
    "            simulations.append(simulator)"
   ]
  },
  {
   "cell_type": "code",
   "execution_count": 23,
   "metadata": {},
   "outputs": [
    {
     "data": {
      "text/html": [
       "<div>\n",
       "<style scoped>\n",
       "    .dataframe tbody tr th:only-of-type {\n",
       "        vertical-align: middle;\n",
       "    }\n",
       "\n",
       "    .dataframe tbody tr th {\n",
       "        vertical-align: top;\n",
       "    }\n",
       "\n",
       "    .dataframe thead th {\n",
       "        text-align: right;\n",
       "    }\n",
       "</style>\n",
       "<table border=\"1\" class=\"dataframe\">\n",
       "  <thead>\n",
       "    <tr style=\"text-align: right;\">\n",
       "      <th></th>\n",
       "      <th>period</th>\n",
       "      <th>window</th>\n",
       "      <th>no_of_std</th>\n",
       "      <th>result</th>\n",
       "      <th>total_trades</th>\n",
       "    </tr>\n",
       "  </thead>\n",
       "  <tbody>\n",
       "    <tr>\n",
       "      <th>37</th>\n",
       "      <td>60min</td>\n",
       "      <td>42.0</td>\n",
       "      <td>1.5</td>\n",
       "      <td>0.0</td>\n",
       "      <td>0.0</td>\n",
       "    </tr>\n",
       "    <tr>\n",
       "      <th>36</th>\n",
       "      <td>15min</td>\n",
       "      <td>42.0</td>\n",
       "      <td>1.5</td>\n",
       "      <td>0.0</td>\n",
       "      <td>0.0</td>\n",
       "    </tr>\n",
       "    <tr>\n",
       "      <th>35</th>\n",
       "      <td>240min</td>\n",
       "      <td>30.0</td>\n",
       "      <td>2.0</td>\n",
       "      <td>0.0</td>\n",
       "      <td>0.0</td>\n",
       "    </tr>\n",
       "    <tr>\n",
       "      <th>34</th>\n",
       "      <td>195min</td>\n",
       "      <td>30.0</td>\n",
       "      <td>2.0</td>\n",
       "      <td>0.0</td>\n",
       "      <td>0.0</td>\n",
       "    </tr>\n",
       "    <tr>\n",
       "      <th>33</th>\n",
       "      <td>150min</td>\n",
       "      <td>30.0</td>\n",
       "      <td>2.0</td>\n",
       "      <td>0.0</td>\n",
       "      <td>0.0</td>\n",
       "    </tr>\n",
       "    <tr>\n",
       "      <th>32</th>\n",
       "      <td>105min</td>\n",
       "      <td>30.0</td>\n",
       "      <td>2.0</td>\n",
       "      <td>0.0</td>\n",
       "      <td>0.0</td>\n",
       "    </tr>\n",
       "    <tr>\n",
       "      <th>31</th>\n",
       "      <td>60min</td>\n",
       "      <td>30.0</td>\n",
       "      <td>2.0</td>\n",
       "      <td>0.0</td>\n",
       "      <td>0.0</td>\n",
       "    </tr>\n",
       "    <tr>\n",
       "      <th>30</th>\n",
       "      <td>15min</td>\n",
       "      <td>30.0</td>\n",
       "      <td>2.0</td>\n",
       "      <td>0.0</td>\n",
       "      <td>0.0</td>\n",
       "    </tr>\n",
       "    <tr>\n",
       "      <th>29</th>\n",
       "      <td>240min</td>\n",
       "      <td>30.0</td>\n",
       "      <td>1.5</td>\n",
       "      <td>0.0</td>\n",
       "      <td>0.0</td>\n",
       "    </tr>\n",
       "    <tr>\n",
       "      <th>28</th>\n",
       "      <td>195min</td>\n",
       "      <td>30.0</td>\n",
       "      <td>1.5</td>\n",
       "      <td>0.0</td>\n",
       "      <td>0.0</td>\n",
       "    </tr>\n",
       "    <tr>\n",
       "      <th>27</th>\n",
       "      <td>150min</td>\n",
       "      <td>30.0</td>\n",
       "      <td>1.5</td>\n",
       "      <td>0.0</td>\n",
       "      <td>0.0</td>\n",
       "    </tr>\n",
       "    <tr>\n",
       "      <th>26</th>\n",
       "      <td>105min</td>\n",
       "      <td>30.0</td>\n",
       "      <td>1.5</td>\n",
       "      <td>0.0</td>\n",
       "      <td>0.0</td>\n",
       "    </tr>\n",
       "    <tr>\n",
       "      <th>25</th>\n",
       "      <td>60min</td>\n",
       "      <td>30.0</td>\n",
       "      <td>1.5</td>\n",
       "      <td>0.0</td>\n",
       "      <td>0.0</td>\n",
       "    </tr>\n",
       "    <tr>\n",
       "      <th>94</th>\n",
       "      <td>195min</td>\n",
       "      <td>90.0</td>\n",
       "      <td>2.0</td>\n",
       "      <td>0.0</td>\n",
       "      <td>0.0</td>\n",
       "    </tr>\n",
       "    <tr>\n",
       "      <th>95</th>\n",
       "      <td>240min</td>\n",
       "      <td>90.0</td>\n",
       "      <td>2.0</td>\n",
       "      <td>0.0</td>\n",
       "      <td>0.0</td>\n",
       "    </tr>\n",
       "  </tbody>\n",
       "</table>\n",
       "</div>"
      ],
      "text/plain": [
       "    period  window  no_of_std  result  total_trades\n",
       "37   60min    42.0        1.5     0.0           0.0\n",
       "36   15min    42.0        1.5     0.0           0.0\n",
       "35  240min    30.0        2.0     0.0           0.0\n",
       "34  195min    30.0        2.0     0.0           0.0\n",
       "33  150min    30.0        2.0     0.0           0.0\n",
       "32  105min    30.0        2.0     0.0           0.0\n",
       "31   60min    30.0        2.0     0.0           0.0\n",
       "30   15min    30.0        2.0     0.0           0.0\n",
       "29  240min    30.0        1.5     0.0           0.0\n",
       "28  195min    30.0        1.5     0.0           0.0\n",
       "27  150min    30.0        1.5     0.0           0.0\n",
       "26  105min    30.0        1.5     0.0           0.0\n",
       "25   60min    30.0        1.5     0.0           0.0\n",
       "94  195min    90.0        2.0     0.0           0.0\n",
       "95  240min    90.0        2.0     0.0           0.0"
      ]
     },
     "execution_count": 23,
     "metadata": {},
     "output_type": "execute_result"
    }
   ],
   "source": [
    "result_df.sort_values(by='result').tail(15) # Hours results in 1-2 trades. Test minutes"
   ]
  },
  {
   "cell_type": "code",
   "execution_count": 22,
   "metadata": {},
   "outputs": [
    {
     "name": "stderr",
     "output_type": "stream",
     "text": [
      "/var/folders/0r/jkhwtgvx0wb9vrk6xn4bmz2m0000gn/T/ipykernel_85509/3784085997.py:1: FutureWarning: Dropping of nuisance columns in DataFrame reductions (with 'numeric_only=None') is deprecated; in a future version this will raise TypeError.  Select only valid columns before calling the reduction.\n",
      "  result_df.sort_values(by='result').tail(15).mean()\n"
     ]
    },
    {
     "data": {
      "text/plain": [
       "window          39.600000\n",
       "no_of_std        1.766667\n",
       "result           0.000000\n",
       "total_trades     0.000000\n",
       "dtype: float64"
      ]
     },
     "execution_count": 22,
     "metadata": {},
     "output_type": "execute_result"
    }
   ],
   "source": [
    "result_df.sort_values(by='result').tail(15).mean()"
   ]
  },
  {
   "cell_type": "code",
   "execution_count": null,
   "metadata": {},
   "outputs": [],
   "source": [
    "WINNING_STRATEGY_INDEX = 30"
   ]
  },
  {
   "cell_type": "markdown",
   "metadata": {},
   "source": [
    "### Look at the trading pattern for a winning strategy"
   ]
  },
  {
   "cell_type": "code",
   "execution_count": null,
   "metadata": {},
   "outputs": [
    {
     "data": {
      "text/plain": [
       "datetime\n",
       "2018-01-11 00:00:00         NaN\n",
       "2018-01-11 06:40:00         NaN\n",
       "2018-01-11 13:20:00         NaN\n",
       "2018-01-11 20:00:00         NaN\n",
       "2018-01-12 02:40:00         NaN\n",
       "                         ...   \n",
       "2019-01-07 02:40:00    2.798846\n",
       "2019-01-07 09:20:00    3.080088\n",
       "2019-01-07 16:00:00    3.041177\n",
       "2019-01-07 22:40:00    3.071222\n",
       "2019-01-08 05:20:00    3.091579\n",
       "Freq: 400T, Name: Strategy Return, Length: 1305, dtype: float64"
      ]
     },
     "execution_count": 220,
     "metadata": {},
     "output_type": "execute_result"
    }
   ],
   "source": [
    "simulations[WINNING_STRATEGY_INDEX].df['Strategy Return'].cumsum()"
   ]
  },
  {
   "cell_type": "code",
   "execution_count": null,
   "metadata": {},
   "outputs": [
    {
     "data": {
      "text/plain": [
       "<AxesSubplot:xlabel='datetime'>"
      ]
     },
     "execution_count": 221,
     "metadata": {},
     "output_type": "execute_result"
    },
    {
     "data": {
      "image/png": "[encoded data removed]",
      "text/plain": [
       "<Figure size 432x288 with 1 Axes>"
      ]
     },
     "metadata": {
      "needs_background": "light"
     },
     "output_type": "display_data"
    }
   ],
   "source": [
    "simulations[WINNING_STRATEGY_INDEX].df['Strategy Return'].cumsum().plot()\n",
    "simulations[WINNING_STRATEGY_INDEX].df['Position'].plot()"
   ]
  },
  {
   "cell_type": "code",
   "execution_count": 162,
   "metadata": {},
   "outputs": [
    {
     "data": {
      "text/plain": [
       "<AxesSubplot:xlabel='datetime'>"
      ]
     },
     "execution_count": 162,
     "metadata": {},
     "output_type": "execute_result"
    },
    {
     "data": {
      "image/png": "[encoded data removed]",
      "text/plain": [
       "<Figure size 432x288 with 1 Axes>"
      ]
     },
     "metadata": {
      "needs_background": "light"
     },
     "output_type": "display_data"
    }
   ],
   "source": [
    "simulations[WINNING_STRATEGY_INDEX].df['Number of Trades'].plot()"
   ]
  },
  {
   "cell_type": "code",
   "execution_count": null,
   "metadata": {},
   "outputs": [],
   "source": []
  }
 ],
 "metadata": {
  "interpreter": {
   "hash": "6fd7458b43c11d676403a17660633b3c3775926a65d35799b38befe9ce2bd9e4"
  },
  "kernelspec": {
   "display_name": "go-trader",
   "language": "python",
   "name": "go-trader"
  },
  "language_info": {
   "codemirror_mode": {
    "name": "ipython",
    "version": 3
   },
   "file_extension": ".py",
   "mimetype": "text/x-python",
   "name": "python",
   "nbconvert_exporter": "python",
   "pygments_lexer": "ipython3",
   "version": "3.8.0"
  }
 },
 "nbformat": 4,
 "nbformat_minor": 4
}
